{
 "cells": [
  {
   "cell_type": "markdown",
   "id": "eda9bbb3-2a9b-4cf6-ba12-6f04a0013b47",
   "metadata": {},
   "source": [
    "## Plot results of OOI detection, compare to downdip tremor"
   ]
  },
  {
   "cell_type": "code",
   "execution_count": 13,
   "id": "90b6f203-bbb5-4a80-a637-87258e6093a7",
   "metadata": {},
   "outputs": [],
   "source": [
    "import os\n",
    "import pickle\n",
    "import glob\n",
    "import matplotlib.pyplot as plt\n",
    "import matplotlib.dates as mdates\n",
    "import datetime\n",
    "import numpy as np\n",
    "import obspy\n",
    "from obspy.clients.fdsn.client import Client \n",
    "import obspy\n",
    "import pandas as pd\n",
    "import scipy.ndimage\n",
    "import geopy.distance\n",
    "import random\n",
    "#client = Client('IRIS')\n",
    "import scipy\n",
    "import seaborn as sn\n",
    "\n",
    "import matplotlib \n",
    "#matplotlib.rcParams['font.family']=['Arial']\n",
    "plt.rcParams.update({'font.size': 12})"
   ]
  },
  {
   "cell_type": "markdown",
   "id": "72235b56-4585-4710-8353-ff46aa8fc35e",
   "metadata": {},
   "source": [
    "## Read in results"
   ]
  },
  {
   "cell_type": "code",
   "execution_count": 28,
   "id": "bfda573c-87e7-4553-b6a7-b22ea03acc3c",
   "metadata": {},
   "outputs": [],
   "source": [
    "file_name = 'results/HYSB1_HHN_3-10Hz_classifications.pickle'\n",
    "with open(file_name,'rb') as handle:\n",
    "    hysb1_classifications = pickle.load(handle)"
   ]
  },
  {
   "cell_type": "code",
   "execution_count": 3,
   "id": "07080477-62e1-4e3b-91da-72f09cac761d",
   "metadata": {},
   "outputs": [
    {
     "data": {
      "text/plain": [
       "\"\\nfile_name = 'results/HYSB1_HYS14_HHN_3-10Hz_classifications.pickle'\\nwith open(file_name,'rb') as handle:\\n    hys14_hysb1_classifications = pickle.load(handle)\\n    \\nfile_name = 'results/HYS14_HHN_3-10Hz_classifications.pickle'\\nwith open(file_name,'rb') as handle:\\n    hys14_hysb1_classifications = pickle.load(handle)\\n\""
      ]
     },
     "execution_count": 3,
     "metadata": {},
     "output_type": "execute_result"
    }
   ],
   "source": [
    "'''\n",
    "file_name = 'results/HYSB1_HYS14_HHN_3-10Hz_classifications.pickle'\n",
    "with open(file_name,'rb') as handle:\n",
    "    hys14_hysb1_classifications = pickle.load(handle)\n",
    "    \n",
    "file_name = 'results/HYS14_HHN_3-10Hz_classifications.pickle'\n",
    "with open(file_name,'rb') as handle:\n",
    "    hys14_hysb1_classifications = pickle.load(handle)\n",
    "'''"
   ]
  },
  {
   "cell_type": "code",
   "execution_count": 30,
   "id": "8b30ebc6-03d9-4f90-8721-a213c66fa9db",
   "metadata": {},
   "outputs": [
    {
     "name": "stdout",
     "output_type": "stream",
     "text": [
      "30055\n"
     ]
    }
   ],
   "source": [
    "print(len(hysb1_classifications))"
   ]
  },
  {
   "cell_type": "code",
   "execution_count": 31,
   "id": "abad3ff1-8d9a-42cd-bf86-0a53b2657b30",
   "metadata": {},
   "outputs": [],
   "source": [
    "hysb1_tphase = [c for c in hysb1_classifications if (c[2]==1)]\n",
    "\n",
    "hysb1_shipnoise = [c for c in hysb1_classifications if (c[3]>=1)]\n",
    "\n",
    "hysb1_tremor = [c for c in hysb1_classifications if (c[2]>1) & (c[4]>100)]"
   ]
  },
  {
   "cell_type": "code",
   "execution_count": 32,
   "id": "63b5a886-2faf-455e-a3c6-30db4032d633",
   "metadata": {},
   "outputs": [
    {
     "name": "stdout",
     "output_type": "stream",
     "text": [
      "0.6461487273332224\n"
     ]
    }
   ],
   "source": [
    "print(len(hysb1_shipnoise)/len(hysb1_classifications))"
   ]
  },
  {
   "cell_type": "code",
   "execution_count": 33,
   "id": "0567cdd5-1012-4970-810a-39c314556a61",
   "metadata": {},
   "outputs": [
    {
     "name": "stdout",
     "output_type": "stream",
     "text": [
      "0.3160539011811679\n"
     ]
    }
   ],
   "source": [
    "print(len(hysb1_tphase)/len(hysb1_classifications))"
   ]
  },
  {
   "cell_type": "markdown",
   "id": "380a047c-1443-45ee-9be4-04f51d638eaa",
   "metadata": {},
   "source": [
    "## Plot detections and classifications"
   ]
  },
  {
   "cell_type": "code",
   "execution_count": 19,
   "id": "ba13f10c-ab6a-4402-8f5e-d9f65c347d9a",
   "metadata": {},
   "outputs": [],
   "source": [
    "hysb1_color='#0868ac'"
   ]
  },
  {
   "cell_type": "code",
   "execution_count": 34,
   "id": "a0f57cc6-1e53-47ae-aefc-51f2b5322da8",
   "metadata": {},
   "outputs": [
    {
     "data": {
      "text/plain": [
       "Text(0.5, 1.0, 'Potential tremor')"
      ]
     },
     "execution_count": 34,
     "metadata": {},
     "output_type": "execute_result"
    },
    {
     "name": "stderr",
     "output_type": "stream",
     "text": [
      "findfont: Font family 'Arial' not found.\n",
      "findfont: Font family 'Arial' not found.\n",
      "findfont: Font family 'Arial' not found.\n",
      "findfont: Font family 'Arial' not found.\n",
      "findfont: Font family 'Arial' not found.\n",
      "findfont: Font family 'Arial' not found.\n",
      "findfont: Font family 'Arial' not found.\n",
      "findfont: Font family 'Arial' not found.\n",
      "findfont: Font family 'Arial' not found.\n",
      "findfont: Font family 'Arial' not found.\n",
      "findfont: Font family 'Arial' not found.\n",
      "findfont: Font family 'Arial' not found.\n",
      "findfont: Font family 'Arial' not found.\n",
      "findfont: Font family 'Arial' not found.\n",
      "findfont: Font family 'Arial' not found.\n",
      "findfont: Font family 'Arial' not found.\n",
      "findfont: Font family 'Arial' not found.\n",
      "findfont: Font family 'Arial' not found.\n",
      "findfont: Font family 'Arial' not found.\n",
      "findfont: Font family 'Arial' not found.\n",
      "findfont: Font family 'Arial' not found.\n",
      "findfont: Font family 'Arial' not found.\n",
      "findfont: Font family 'Arial' not found.\n",
      "findfont: Font family 'Arial' not found.\n",
      "findfont: Font family 'Arial' not found.\n",
      "findfont: Font family 'Arial' not found.\n",
      "findfont: Font family 'Arial' not found.\n",
      "findfont: Font family 'Arial' not found.\n",
      "findfont: Font family 'Arial' not found.\n",
      "findfont: Font family 'Arial' not found.\n",
      "findfont: Font family 'Arial' not found.\n",
      "findfont: Font family 'Arial' not found.\n",
      "findfont: Font family 'Arial' not found.\n",
      "findfont: Font family 'Arial' not found.\n",
      "findfont: Font family 'Arial' not found.\n",
      "findfont: Font family 'Arial' not found.\n",
      "findfont: Font family 'Arial' not found.\n",
      "findfont: Font family 'Arial' not found.\n",
      "findfont: Font family 'Arial' not found.\n",
      "findfont: Font family 'Arial' not found.\n",
      "findfont: Font family 'Arial' not found.\n",
      "findfont: Font family 'Arial' not found.\n",
      "findfont: Font family 'Arial' not found.\n",
      "findfont: Font family 'Arial' not found.\n",
      "findfont: Font family 'Arial' not found.\n",
      "findfont: Font family 'Arial' not found.\n",
      "findfont: Font family 'Arial' not found.\n",
      "findfont: Font family 'Arial' not found.\n",
      "findfont: Font family 'Arial' not found.\n",
      "findfont: Font family 'Arial' not found.\n",
      "findfont: Font family 'Arial' not found.\n",
      "findfont: Font family 'Arial' not found.\n",
      "findfont: Font family 'Arial' not found.\n",
      "findfont: Font family 'Arial' not found.\n",
      "findfont: Font family 'Arial' not found.\n",
      "findfont: Font family 'Arial' not found.\n",
      "findfont: Font family 'Arial' not found.\n",
      "findfont: Font family 'Arial' not found.\n",
      "findfont: Font family 'Arial' not found.\n",
      "findfont: Font family 'Arial' not found.\n",
      "findfont: Font family 'Arial' not found.\n",
      "findfont: Font family 'Arial' not found.\n",
      "findfont: Font family 'Arial' not found.\n",
      "findfont: Font family 'Arial' not found.\n",
      "findfont: Font family 'Arial' not found.\n",
      "findfont: Font family 'Arial' not found.\n",
      "findfont: Font family 'Arial' not found.\n",
      "findfont: Font family 'Arial' not found.\n",
      "findfont: Font family 'Arial' not found.\n",
      "findfont: Font family 'Arial' not found.\n",
      "findfont: Font family 'Arial' not found.\n",
      "findfont: Font family 'Arial' not found.\n",
      "findfont: Font family 'Arial' not found.\n",
      "findfont: Font family 'Arial' not found.\n",
      "findfont: Font family 'Arial' not found.\n",
      "findfont: Font family 'Arial' not found.\n",
      "findfont: Font family 'Arial' not found.\n",
      "findfont: Font family 'Arial' not found.\n",
      "findfont: Font family 'Arial' not found.\n",
      "findfont: Font family 'Arial' not found.\n",
      "findfont: Font family 'Arial' not found.\n",
      "findfont: Font family 'Arial' not found.\n",
      "findfont: Font family 'Arial' not found.\n",
      "findfont: Font family 'Arial' not found.\n",
      "findfont: Font family 'Arial' not found.\n",
      "findfont: Font family 'Arial' not found.\n",
      "findfont: Font family 'Arial' not found.\n",
      "findfont: Font family 'Arial' not found.\n",
      "findfont: Font family 'Arial' not found.\n",
      "findfont: Font family 'Arial' not found.\n",
      "findfont: Font family 'Arial' not found.\n",
      "findfont: Font family 'Arial' not found.\n",
      "findfont: Font family 'Arial' not found.\n",
      "findfont: Font family 'Arial' not found.\n",
      "findfont: Font family 'Arial' not found.\n",
      "findfont: Font family 'Arial' not found.\n",
      "findfont: Font family 'Arial' not found.\n",
      "findfont: Font family 'Arial' not found.\n",
      "findfont: Font family 'Arial' not found.\n",
      "findfont: Font family 'Arial' not found.\n",
      "findfont: Font family 'Arial' not found.\n",
      "findfont: Font family 'Arial' not found.\n",
      "findfont: Font family 'Arial' not found.\n",
      "findfont: Font family 'Arial' not found.\n",
      "findfont: Font family 'Arial' not found.\n",
      "findfont: Font family 'Arial' not found.\n"
     ]
    },
    {
     "data": {
      "image/png": "[encoded data removed]",
      "text/plain": [
       "<Figure size 1232x730 with 3 Axes>"
      ]
     },
     "metadata": {},
     "output_type": "display_data"
    }
   ],
   "source": [
    "fig,ax = plt.subplots(3,figsize=[12.32,  7.3 ],sharex=True)\n",
    "\n",
    "\n",
    "t1 = datetime.datetime(2017,9,1)\n",
    "t2 = datetime.datetime(2017,9,8)\n",
    "\n",
    "ax0 = ax[0]\n",
    "ax1 = ax[1]\n",
    "ax2 = ax[2]\n",
    "\n",
    "timebins = pd.date_range(start=t1, end=t2, freq='2h')\n",
    "ax0.hist([c[0][0].datetime for c in hysb1_classifications],bins=timebins,label='Slope Base',color=hysb1_color,linewidth=0.1,edgecolor='k');\n",
    "ax0.set_title('All STA/LTA detections')\n",
    "#ax0.set_ylim([0,1200])\n",
    "ax0.legend()\n",
    "\n",
    "timebins = pd.date_range(start=t1, end=t2, freq='2h')\n",
    "ax1.hist([c[0][0].datetime for c in hysb1_tphase],bins=timebins,label='Slope Base',color=hysb1_color,linewidth=0.1,edgecolor='k');\n",
    "ax1.set_title('T-phases (waveform peaks = 1)')\n",
    "#ax1.set_ylim([0,1200])\n",
    "\n",
    "timebins = pd.date_range(start=t1, end=t2, freq='2h')\n",
    "ax2.hist([c[0][0].datetime for c in hysb1_tremor],bins=timebins,label='HYSB1',color=hysb1_color,linewidth=0.1,edgecolor='k');\n",
    "ax2.set_title('Potential tremor')\n",
    "#ax2.set_yscale('log')\n",
    "\n",
    "# plt.savefig('/Users/zoekrauss/ooi_tremor/tremor_figs/ooi_detection_histogram.eps', bbox_inches='tight',dpi=400)"
   ]
  },
  {
   "cell_type": "markdown",
   "id": "6e126933-ab75-40b8-bbba-d91d723de593",
   "metadata": {},
   "source": [
    "## Distribution of frequency ratios"
   ]
  },
  {
   "cell_type": "code",
   "execution_count": 23,
   "id": "436769ee-41a5-4ffe-972d-b103e5cdd6ed",
   "metadata": {},
   "outputs": [
    {
     "data": {
      "text/plain": [
       "<matplotlib.legend.Legend at 0x7ff31c11db10>"
      ]
     },
     "execution_count": 23,
     "metadata": {},
     "output_type": "execute_result"
    },
    {
     "name": "stderr",
     "output_type": "stream",
     "text": [
      "findfont: Font family 'Arial' not found.\n",
      "findfont: Font family 'Arial' not found.\n",
      "findfont: Font family 'Arial' not found.\n",
      "findfont: Font family 'Arial' not found.\n",
      "findfont: Font family 'Arial' not found.\n",
      "findfont: Font family 'Arial' not found.\n",
      "findfont: Font family 'Arial' not found.\n",
      "findfont: Font family 'Arial' not found.\n",
      "findfont: Font family 'Arial' not found.\n",
      "findfont: Font family 'Arial' not found.\n",
      "findfont: Font family 'Arial' not found.\n",
      "findfont: Font family 'Arial' not found.\n",
      "findfont: Font family 'Arial' not found.\n",
      "findfont: Font family 'Arial' not found.\n",
      "findfont: Font family 'Arial' not found.\n",
      "findfont: Font family 'Arial' not found.\n",
      "findfont: Font family 'Arial' not found.\n",
      "findfont: Font family 'Arial' not found.\n",
      "findfont: Font family 'Arial' not found.\n",
      "findfont: Font family 'Arial' not found.\n",
      "findfont: Font family 'Arial' not found.\n",
      "findfont: Font family 'Arial' not found.\n",
      "findfont: Font family 'Arial' not found.\n",
      "findfont: Font family 'Arial' not found.\n",
      "findfont: Font family 'Arial' not found.\n",
      "findfont: Font family 'Arial' not found.\n",
      "findfont: Font family 'Arial' not found.\n",
      "findfont: Font family 'Arial' not found.\n",
      "findfont: Font family 'Arial' not found.\n",
      "findfont: Font family 'Arial' not found.\n",
      "findfont: Font family 'Arial' not found.\n",
      "findfont: Font family 'Arial' not found.\n",
      "findfont: Font family 'Arial' not found.\n",
      "findfont: Font family 'Arial' not found.\n",
      "findfont: Font family 'Arial' not found.\n",
      "findfont: Font family 'Arial' not found.\n",
      "findfont: Font family 'Arial' not found.\n",
      "findfont: Font family 'Arial' not found.\n",
      "findfont: Font family 'Arial' not found.\n",
      "findfont: Font family 'Arial' not found.\n",
      "findfont: Font family 'Arial' not found.\n",
      "findfont: Font family 'Arial' not found.\n",
      "findfont: Font family 'Arial' not found.\n",
      "findfont: Font family 'Arial' not found.\n",
      "findfont: Font family 'Arial' not found.\n",
      "findfont: Font family 'Arial' not found.\n",
      "findfont: Font family 'Arial' not found.\n",
      "findfont: Font family 'Arial' not found.\n",
      "findfont: Font family 'Arial' not found.\n",
      "findfont: Font family 'Arial' not found.\n",
      "findfont: Font family 'Arial' not found.\n",
      "findfont: Font family 'Arial' not found.\n",
      "findfont: Font family 'Arial' not found.\n",
      "findfont: Font family 'Arial' not found.\n"
     ]
    },
    {
     "data": {
      "image/png": "[encoded data removed]",
      "text/plain": [
       "<Figure size 500x730 with 1 Axes>"
      ]
     },
     "metadata": {},
     "output_type": "display_data"
    }
   ],
   "source": [
    "fig,ax = plt.subplots(1,figsize=[5,7.3])\n",
    "\n",
    "bins = np.linspace(0,2000,50)\n",
    "ax.hist([c[4] for c in hysb1_classifications],bins=bins,label='Slope Base',color=hysb1_color,edgecolor='k',linewidth=0.5);\n",
    "ax.set_yscale('log')\n",
    "ax.axvline(100,color='k',linewidth=2)\n",
    "ax.set_title('Frequency Ratios of Detections')\n",
    "ax.set_xlabel('Frequency ratio (5-10 Hz / 10-15 Hz)')\n",
    "ax.legend()\n",
    "\n",
    "# plt.savefig('/Users/zoekrauss/ooi_tremor/tremor_figs/ooi_frequency_ratios.eps', bbox_inches='tight',dpi=400)"
   ]
  },
  {
   "cell_type": "markdown",
   "id": "2850f265-b353-47e6-9c0e-ae3cbd75c6bf",
   "metadata": {},
   "source": [
    "## Read in manual validation of each of the potential FR>100 as yes or no\n",
    "- This was done by visually verifying each tremor detection"
   ]
  },
  {
   "cell_type": "code",
   "execution_count": 11,
   "id": "0457d0a9-6da8-45e9-8000-8372707d721d",
   "metadata": {},
   "outputs": [
    {
     "ename": "NameError",
     "evalue": "name 'hysb1_tremor' is not defined",
     "output_type": "error",
     "traceback": [
      "\u001b[0;31m---------------------------------------------------------------------------\u001b[0m",
      "\u001b[0;31mNameError\u001b[0m                                 Traceback (most recent call last)",
      "Cell \u001b[0;32mIn[11], line 12\u001b[0m\n\u001b[1;32m     10\u001b[0m     hysb1_validations \u001b[38;5;241m=\u001b[39m pickle\u001b[38;5;241m.\u001b[39mload(handle)\n\u001b[1;32m     11\u001b[0m hysb1_validations \u001b[38;5;241m=\u001b[39m [d[\u001b[38;5;241m1\u001b[39m] \u001b[38;5;28;01mfor\u001b[39;00m d \u001b[38;5;129;01min\u001b[39;00m hysb1_validations]\n\u001b[0;32m---> 12\u001b[0m hysb1_yes \u001b[38;5;241m=\u001b[39m [d \u001b[38;5;28;01mfor\u001b[39;00m i,d \u001b[38;5;129;01min\u001b[39;00m \u001b[38;5;28menumerate\u001b[39m(\u001b[43mhysb1_tremor\u001b[49m) \u001b[38;5;28;01mif\u001b[39;00m hysb1_validations[i]\u001b[38;5;241m==\u001b[39m\u001b[38;5;241m1\u001b[39m]\n\u001b[1;32m     13\u001b[0m hysb1_no \u001b[38;5;241m=\u001b[39m [d \u001b[38;5;28;01mfor\u001b[39;00m i,d \u001b[38;5;129;01min\u001b[39;00m \u001b[38;5;28menumerate\u001b[39m(hysb1_tremor) \u001b[38;5;28;01mif\u001b[39;00m hysb1_validations[i]\u001b[38;5;241m==\u001b[39m\u001b[38;5;241m0\u001b[39m]\n",
      "\u001b[0;31mNameError\u001b[0m: name 'hysb1_tremor' is not defined"
     ]
    }
   ],
   "source": [
    "file_name = 'results/HYS14_validations.pickle'\n",
    "with open(file_name,'rb') as handle:\n",
    "    hys14_validations = pickle.load(handle)\n",
    "hys14_validations = [d[1] for d in hys14_validations]\n",
    "hys14_yes = [d for i,d in enumerate(hys14_tremor) if hys14_validations[i]==1]\n",
    "hys14_no = [d for i,d in enumerate(hys14_tremor) if hys14_validations[i]==0]\n",
    "\n",
    "file_name = 'results/HYSB1_validations.pickle'\n",
    "with open(file_name,'rb') as handle:\n",
    "    hysb1_validations = pickle.load(handle)\n",
    "hysb1_validations = [d[1] for d in hysb1_validations]\n",
    "hysb1_yes = [d for i,d in enumerate(hysb1_tremor) if hysb1_validations[i]==1]\n",
    "hysb1_no = [d for i,d in enumerate(hysb1_tremor) if hysb1_validations[i]==0]"
   ]
  },
  {
   "cell_type": "code",
   "execution_count": null,
   "id": "3c1b09bf-2603-417f-98d4-a5583eda05bd",
   "metadata": {},
   "outputs": [],
   "source": [
    "hysb1_yes_times = [h[0] for h in hysb1_yes]"
   ]
  },
  {
   "cell_type": "markdown",
   "id": "7909b189-5c56-43e8-b786-fd60b161fc9c",
   "metadata": {},
   "source": [
    "## Read in times of tremor from PNSN to compare"
   ]
  },
  {
   "cell_type": "code",
   "execution_count": null,
   "id": "b6faee8a-68fd-4e21-af1b-b7011e3192d2",
   "metadata": {},
   "outputs": [],
   "source": [
    "# PNSN tremor\n",
    "file_name = 'results/PNSN_tremor.pickle'\n",
    "with open(file_name,'rb') as handle:\n",
    "    pnsn_tremor = pickle.load(handle)"
   ]
  },
  {
   "cell_type": "code",
   "execution_count": null,
   "id": "0c9bf287-f0aa-4518-8ced-9b4931df94d3",
   "metadata": {},
   "outputs": [],
   "source": [
    "# Filter PNSN tremor by lat/lon\n",
    "keep_ind = [i for i,l in enumerate(pnsn_tremor[0]) if (l>44) & (l<45) & (pnsn_tremor[1][i]<-123.5)]\n",
    "pnsn_times = [pnsn_tremor[2][i].datetime for i in keep_ind]"
   ]
  },
  {
   "cell_type": "code",
   "execution_count": null,
   "id": "a3d5ba4c-f82d-426f-ad27-16f77b708759",
   "metadata": {},
   "outputs": [],
   "source": [
    "from matplotlib import gridspec\n",
    "\n",
    "fig = plt.subplots(figsize=[12,8],sharex=True)\n",
    "gs = gridspec.GridSpec(2,1,height_ratios=[2,1])\n",
    "\n",
    "t1 = datetime.datetime(2015,2,1)\n",
    "t2 = datetime.datetime(2024,3,1)\n",
    "\n",
    "ax0 = plt.subplot(gs[0])\n",
    "ax1 = plt.subplot(gs[1])\n",
    "\n",
    "ax0.axvline(datetime.datetime(2015,10,21),color='goldenrod',linewidth=5,alpha=0.3,label='Slope Base sustained tremor')\n",
    "ax0.axvline(datetime.datetime(2016,6,4),color='goldenrod',linewidth=5,alpha=0.3)\n",
    "ax0.axvline(datetime.datetime(2017,9,6),color='goldenrod',linewidth=5,alpha=0.3)\n",
    "ax0.axvline(datetime.datetime(2018,6,26),color='goldenrod',linewidth=5,alpha=0.3)\n",
    "\n",
    "ax1.axvline(datetime.datetime(2015,10,21),color='goldenrod',linewidth=5,alpha=0.3,label='Long-duration tremor')\n",
    "ax1.axvline(datetime.datetime(2016,6,4),color='goldenrod',linewidth=5,alpha=0.3)\n",
    "ax1.axvline(datetime.datetime(2017,9,6),color='goldenrod',linewidth=5,alpha=0.3)\n",
    "ax1.axvline(datetime.datetime(2018,6,26),color='goldenrod',linewidth=5,alpha=0.3)\n",
    "\n",
    "ax0.plot([c[0][0].datetime for c in hys14_no],[c[4] for c in hys14_no],'^',color='lightgray',label='Hydrate Ridge, not tremor',markersize=10,markeredgecolor='k',markeredgewidth=0.5)\n",
    "ax0.plot([c[0][0].datetime for c in hys14_yes],[c[4] for c in hys14_yes],'^',color=hysb1_color)\n",
    "\n",
    "# ax0.plot([c[0][0].datetime for c in j26_no],[c[4] for c in j26_no],'s',color='lightgray',label='J26D, not tremor',markersize=8,markeredgecolor='k',markeredgewidth=0.5)\n",
    "# ax0.plot([c[0][0].datetime for c in j26_yes],[c[4] for c in j26_yes],'s',color='orange',label='J26D, tremor',markersize=8,markeredgecolor='k',markeredgewidth=0.5)\n",
    "\n",
    "ax0.plot([c[0][0].datetime for c in hysb1_no],[c[4] for c in hysb1_no],'.',color='lightgray',label='Slope Base, not tremor',markersize=15,markeredgecolor='k',markeredgewidth=0.5)\n",
    "ax0.plot([c[0][0].datetime for c in hysb1_yes],[c[4] for c in hysb1_yes],'.',color=hysb1_color,label='Slope Base, tremor consistent',markersize=15,markeredgecolor='k',markeredgewidth=0.5)\n",
    "\n",
    "\n",
    "ax0.legend()\n",
    "ax0.set_ylabel('Frequency ratio')\n",
    "# ax0.set_title('Detections with FR > 100')\n",
    "\n",
    "timebins = pd.date_range(start=t1, end=t2, freq='w')\n",
    "# ax1 = ax[1].twinx()\n",
    "ax1.hist(pnsn_times,bins=timebins,color='darkgray',label='On-land PNSN tremor');\n",
    "# ax1.hist([c[0][0].datetime for c in hysb1_yes],bins=timebins,color=hysb1_color,linewidth=0.1,edgecolor='k',label='HYSB1 tremor');\n",
    "# ax1.legend()\n",
    "# ax1.set_ylabel('HYSB1 tremor')\n",
    "ax1.set_ylabel('PNSN tremor')\n",
    "# ax1.set_title('Validated tremor detections vs. on-land tremor')\n",
    "\n",
    "ax0.set_xlim([datetime.datetime(2015,1,1),datetime.datetime(2024,1,1)])\n",
    "ax1.set_xlim([datetime.datetime(2015,1,1),datetime.datetime(2024,1,1)])\n",
    "ax0.set_yscale('log')\n",
    "\n",
    "# plt.savefig('/Users/zoekrauss/ooi_tremor/tremor_figs/ooi_validations.eps', bbox_inches='tight',dpi=400)"
   ]
  },
  {
   "cell_type": "markdown",
   "id": "d335513f-9ada-4ebb-849c-a270436f88f6",
   "metadata": {},
   "source": [
    "## Compare to timing of deep downdip tremor (ETS)"
   ]
  },
  {
   "cell_type": "code",
   "execution_count": null,
   "id": "abf90dea-405f-4edc-a446-3199e4fcb25b",
   "metadata": {},
   "outputs": [],
   "source": [
    "# For each tremor detection, find nearest ETS time and make a histogram - keep track of sign\n",
    "\n",
    "nearest_time = []\n",
    "for i,t in enumerate(hysb1_yes):\n",
    "    \n",
    "    print(i,end='\\r')\n",
    "    \n",
    "    shallow_times = t[0] # Tuple of start end trigger times\n",
    "    \n",
    "    times0 = [shallow_times[0]-obspy.UTCDateTime(tt) for tt in pnsn_times]\n",
    "    times1 = [shallow_times[1]-obspy.UTCDateTime(tt) for tt in pnsn_times]\n",
    "    \n",
    "    min0 = np.min(np.abs(times0))\n",
    "    min1 = np.min(np.abs(times1))\n",
    "    \n",
    "    which_min = np.argmin([min0,min1])\n",
    "    \n",
    "    if which_min==0:\n",
    "        sign_arg = np.argmin(np.abs(times0))\n",
    "        sign = np.sign(times0[sign_arg])\n",
    "        nearest_time.append(sign*np.min(np.abs(times0)))\n",
    "    \n",
    "    if which_min==1:\n",
    "        sign_arg = np.argmin(np.abs(times1))\n",
    "        sign = np.sign(times1[sign_arg])\n",
    "        nearest_time.append(sign*np.min(np.abs(times1)))\n",
    "    "
   ]
  },
  {
   "cell_type": "code",
   "execution_count": null,
   "id": "eb07ef47-8e33-4cb9-a1fa-52e5711bc411",
   "metadata": {},
   "outputs": [],
   "source": [
    "# Convert time difference to days (from seconds)\n",
    "nearest_time = [n/86400 for n in nearest_time]"
   ]
  },
  {
   "cell_type": "code",
   "execution_count": null,
   "id": "1c6ec19d-1cfa-42b5-8ae4-b4fd8daa004e",
   "metadata": {},
   "outputs": [],
   "source": [
    "fig,ax = plt.subplots(2,constrained_layout=True)\n",
    "\n",
    "test = [c[0][0].datetime for c in hysb1_yes]\n",
    "keep_ind = [i for i,t in enumerate(test) if (t<datetime.datetime(2017,9,5)) or (t>datetime.datetime(2017,9,7))]\n",
    "\n",
    "# All detections:\n",
    "ax[0].hist(nearest_time,bins=300);\n",
    "ax[0].set_title('Time to nearest ETS event')\n",
    "ax[0].set_xlabel('Time (days)')\n",
    "\n",
    "# Excluding the biggest event:\n",
    "ax[1].hist([nearest_time[i] for i in keep_ind],bins=300)\n",
    "ax[1].set_title('Time to nearest ETS event, excluding 2017-09-06')\n",
    "ax[1].set_xlabel('Time (days)')\n",
    "\n",
    "# plt.savefig('/Users/zoekrauss/ooi_tremor/tremor_figs/ets_comparison.eps', bbox_inches='tight',dpi=400)"
   ]
  },
  {
   "cell_type": "markdown",
   "id": "39825c5d-1d2d-4781-b911-adb5bada1dac",
   "metadata": {},
   "source": [
    "## Do our tremor times coincide with those of large global earthquakes?"
   ]
  },
  {
   "cell_type": "code",
   "execution_count": null,
   "id": "840b9e61-b4b9-458f-85cc-189ae1a45b4d",
   "metadata": {},
   "outputs": [],
   "source": [
    "# Global large earthquakes\n",
    "\n",
    "t1 = obspy.UTCDateTime(\"2015-01-01T00:00:00\")\n",
    "t2 = obspy.UTCDateTime(\"2024-01-01T03:00:00\")\n",
    "large_cat = client.get_events(starttime=t1, endtime=t2, minmagnitude=7)\n",
    "large_times = [c.origins[0].time for c in large_cat]"
   ]
  },
  {
   "cell_type": "code",
   "execution_count": null,
   "id": "0c0a0ad4-f580-4821-b089-cb958a4d86e2",
   "metadata": {},
   "outputs": [],
   "source": [
    "# Plot time between a tremor detection and the most recent large magnitude earthquake\n",
    "min_diff = []\n",
    "for det in hysb1_yes:\n",
    "    time_diffs = [det[0][0]-t for t in large_times]\n",
    "    time_diffs = [t for t in time_diffs if t>0]\n",
    "    time_min = np.min(time_diffs)\n",
    "    min_diff.append(time_min/3600) # time in hours"
   ]
  },
  {
   "cell_type": "code",
   "execution_count": null,
   "id": "abfcc85f-6414-44a8-9102-9ecbc6ff3c06",
   "metadata": {},
   "outputs": [],
   "source": [
    "fig,ax = plt.subplots(2,tight_layout=True,sharex=True)\n",
    "\n",
    "t1 = datetime.datetime(2015,2,1)\n",
    "t2 = datetime.datetime(2024,3,1)\n",
    "\n",
    "\n",
    "ax[0].plot([l.datetime for l in large_times],[c.magnitudes[0].mag for c in large_cat],'k.')\n",
    "ax[0].set_title('Global earthquakes > M7')\n",
    "ax[0].set_ylabel('Magnitude')\n",
    "ax[0].set_xlim([datetime.datetime(2015,1,1),datetime.datetime(2024,1,1)])\n",
    "\n",
    "ax[1].plot([c[0][0].datetime for c in hysb1_yes],min_diff,'o')\n",
    "\n",
    "ax[1].set_xlim([datetime.datetime(2015,1,1),datetime.datetime(2024,1,1)])\n",
    "ax[1].set_ylabel('Hours')\n",
    "ax[1].set_title('Tremor: Time to nearest preceding M7 event')"
   ]
  }
 ],
 "metadata": {
  "kernelspec": {
   "display_name": "seismo 3.10 (SHARED)",
   "language": "python",
   "name": "seismo-py310-shared"
  },
  "language_info": {
   "codemirror_mode": {
    "name": "ipython",
    "version": 3
   },
   "file_extension": ".py",
   "mimetype": "text/x-python",
   "name": "python",
   "nbconvert_exporter": "python",
   "pygments_lexer": "ipython3",
   "version": "3.10.13"
  }
 },
 "nbformat": 4,
 "nbformat_minor": 5
}
