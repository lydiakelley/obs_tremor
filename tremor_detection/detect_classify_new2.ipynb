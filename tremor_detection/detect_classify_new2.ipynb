{
 "cells": [
  {
   "cell_type": "markdown",
   "id": "a888b941-efed-43b6-8790-edcbfec55efc",
   "metadata": {},
   "source": [
    "# **Detect and Classify Tremor from the IRIS Database**\n",
    "---\n",
    "Workflow:\n",
    "- Imports\n",
    "- Inputs\n",
    "- Define Functions\n",
    "- Define Detect and Classify Function\n",
    "- Bin by Days\n",
    "- Apply Function & Process in Parallel \n",
    "- Concat Results & Save"
   ]
  },
  {
   "cell_type": "markdown",
   "id": "6fa7266f-5c80-435b-a0a7-edf1ea6f1266",
   "metadata": {},
   "source": [
    "## Imports"
   ]
  },
  {
   "cell_type": "code",
   "execution_count": 1,
   "id": "b51f65d0-53ac-475c-adad-55711c39e791",
   "metadata": {
    "tags": []
   },
   "outputs": [
    {
     "name": "stdout",
     "output_type": "stream",
     "text": [
      "done\n"
     ]
    }
   ],
   "source": [
    "import datetime\n",
    "from obspy.clients.fdsn.client import Client\n",
    "import obspy\n",
    "import matplotlib.pyplot as plt\n",
    "import matplotlib\n",
    "import numpy as np\n",
    "import pandas as pd\n",
    "import dask\n",
    "from dask.diagnostics import ProgressBar\n",
    "\n",
    "#client = Client('IRIS')\n",
    "import pickle\n",
    "import os\n",
    "import scipy.signal\n",
    "import scipy.ndimage\n",
    "\n",
    "from obspy.signal.trigger import classic_sta_lta\n",
    "from obspy.signal.trigger import trigger_onset\n",
    "from obspy import UTCDateTime\n",
    "from obspy import Stream\n",
    "\n",
    "from pnwstore.mseed import WaveformClient\n",
    "from obspy import Stream\n",
    "from datetime import timedelta\n",
    "\n",
    "\n",
    "from obspy.clients.fdsn import Client\n",
    "from datetime import timedelta, datetime\n",
    "\n",
    "import logging\n",
    "logging.basicConfig(level=logging.INFO)\n",
    "\n",
    "print('done')"
   ]
  },
  {
   "cell_type": "code",
   "execution_count": 2,
   "id": "92181647-f454-4b4c-a1e3-b46a4c08df89",
   "metadata": {},
   "outputs": [],
   "source": [
    "# gets data locally rather than online\n",
    "client = WaveformClient()"
   ]
  },
  {
   "cell_type": "markdown",
   "id": "f57da48a-b42d-42cf-beea-307481de34a0",
   "metadata": {
    "tags": []
   },
   "source": [
    "## Inputs\n",
    "Short Term Average & Long Term Average (STA/LTA) parameters"
   ]
  },
  {
   "cell_type": "code",
   "execution_count": 3,
   "id": "44149b4f-61fb-45e3-9afe-07051adf8b9b",
   "metadata": {
    "tags": []
   },
   "outputs": [],
   "source": [
    "# Define step we want to chunk\n",
    "step = 10 # seconds\n",
    "\n",
    "# Define sta and lta window lengths\n",
    "# Below chosen to optimize emergent signal detection!\n",
    "\n",
    "sta_win = 10 # seconds, short term window\n",
    "lta_win = 1000 # seconds, long term window"
   ]
  },
  {
   "cell_type": "markdown",
   "id": "e725151f-fbad-44b3-9b5e-c026be81024d",
   "metadata": {},
   "source": [
    "Time Endpoints and Station"
   ]
  },
  {
   "cell_type": "code",
   "execution_count": 4,
   "id": "45760faa-0bff-4716-85b5-b259dd4b3f12",
   "metadata": {
    "tags": []
   },
   "outputs": [],
   "source": [
    "t1 = obspy.UTCDateTime(\"2012-09-01T00:00:00.000\")\n",
    "t2 = obspy.UTCDateTime(\"2013-06-18T00:00:00.000\")\n",
    "\n",
    "network = '7D'\n",
    "station = 'J10B' \n",
    "channel = 'BH2'\n",
    "location = '*'\n",
    "\n",
    "# Get response info for this station from IRIS\n",
    "iris_client = Client('IRIS')\n",
    "sta_response = iris_client.get_stations(network=network, station=station,starttime=t1,endtime=t2,level='response')\n",
    "save_dir = 'classifications/'"
   ]
  },
  {
   "cell_type": "markdown",
   "id": "6d083c9a-c008-4d83-a320-4d1489092897",
   "metadata": {},
   "source": [
    "## Define Functions\n",
    "- Detect/Triggering: Check Data, Calculate STL/STA\n",
    "- Classify: Pick Peaks, Apply Gaussian, Ship Noise\n",
    "- Attach Response Cascadia\n",
    "- Waveform across Midnight"
   ]
  },
  {
   "cell_type": "markdown",
   "id": "6d868135-d70c-4f67-8893-4c34227840d8",
   "metadata": {},
   "source": [
    "Check Data"
   ]
  },
  {
   "cell_type": "code",
   "execution_count": 5,
   "id": "71ae8174-adeb-4b7d-9d66-9345603990d2",
   "metadata": {},
   "outputs": [],
   "source": [
    "def check_data(stream,t1,sr,step,data_time_length):\n",
    "    \n",
    "    data = stream[0].data\n",
    "    data_sample_length = sr * data_time_length\n",
    "\n",
    "    \n",
    "    # Catch for if data stream is less than specified\n",
    "    if len(data) < data_sample_length:\n",
    "        data_sample_length = int(len(data) - (len(data)%(sr*step)))\n",
    "        data_time_length = int(data_sample_length / sr)\n",
    "        \n",
    "    # Catch for if start time is not as specified\n",
    "    if stream[0].stats.starttime != t1:\n",
    "        t1 = stream[0].stats.starttime\n",
    "    \n",
    "    return(t1,data_time_length)"
   ]
  },
  {
   "cell_type": "markdown",
   "id": "dc3d6566-beda-4a4b-aa84-d5ba662593c4",
   "metadata": {},
   "source": [
    "Calculate Short Term Average & Long Term Average (STL/STA)"
   ]
  },
  {
   "cell_type": "code",
   "execution_count": 6,
   "id": "40deea41-47be-44b8-96a1-6995a5d739b2",
   "metadata": {},
   "outputs": [],
   "source": [
    "def calc_stalta(data,sr,step,data_time_length,sta_win,lta_win):\n",
    "    \n",
    "    # Matricize the data as step s chunks\n",
    "    data_sample_length = sr * data_time_length\n",
    "    \n",
    "    \n",
    "    chunked = np.reshape(data[0:data_sample_length],[int(data_sample_length/(sr*step)),int(sr*step)])\n",
    "    chunked_medians = [np.median(chunked[i,:]) for i in range(np.shape(chunked)[0])]\n",
    "    chunked_times = np.linspace(0,data_time_length,len(chunked_medians))\n",
    "    \n",
    "    # Step through and calculate sta & lta every step s\n",
    "    sta = []\n",
    "    lta = []\n",
    "    for i,vec in enumerate(chunked_medians):\n",
    "\n",
    "        # STA is median of the next window\n",
    "        nwin = int(sta_win / step)\n",
    "        sta.append(np.median(chunked_medians[i:i+nwin]))\n",
    "\n",
    "\n",
    "        # LTA is median of the past window\n",
    "        nwin = int(lta_win / step)\n",
    "        lta.append(np.median(chunked_medians[i-nwin:i]))\n",
    "    \n",
    "    stalta = np.array(sta)/np.array(lta)\n",
    "    \n",
    "    return(stalta,chunked_times)"
   ]
  },
  {
   "cell_type": "markdown",
   "id": "d91529f2-fbbc-4f94-b278-be18da65d277",
   "metadata": {},
   "source": [
    "Pick Peaks"
   ]
  },
  {
   "cell_type": "code",
   "execution_count": 7,
   "id": "6b84d625-3154-4f25-9fe3-395720c74e80",
   "metadata": {},
   "outputs": [],
   "source": [
    "def pick_peaks_welch(trace,sampling_rate,nperseg_multiple,microseism_cutoff=True):\n",
    "    \"\"\"\n",
    "    Estimate power spectra of a trace using Welch's method\n",
    "    Pick peaks within the spectra!\n",
    "    \n",
    "    INPUTS:\n",
    "    trace = obspy object, waveform\n",
    "    sampling_rate = sampling rate of trace\n",
    "    nperseg_multiple = length of each segment used to construct the Welch spectrum\n",
    "    microseism_cutoff = Bool, whether or not to cut off the lower end of the spectrum to avoid the microseism\n",
    "    \n",
    "    OUTPUTS:\n",
    "    f = frequencies of the spectra\n",
    "    Pxx_den = associated power at each frequency, in decibels\n",
    "    peak_ind = index of peaks within the spectra (f and Pxx_den), if found\n",
    "    peaks = picked peak object from scipy\n",
    "    median_power = median power of spectra from 20-80 Hz in decibels\n",
    "    \"\"\"\n",
    "    \n",
    "    \n",
    "    fs = sampling_rate\n",
    "    x = trace.data\n",
    "    nperseg = fs * nperseg_multiple\n",
    "    \n",
    "    f,Pxx_den = scipy.signal.welch(x,fs,nperseg=nperseg)\n",
    "    if microseism_cutoff is True:\n",
    "        f = f[4:]\n",
    "        Pxx_den = Pxx_den[4:]\n",
    "        \n",
    "    Pxx_den = [10*np.log10(d) for d in Pxx_den]\n",
    "    median_power = np.median(Pxx_den[20:80])\n",
    "    \n",
    "    peaks = scipy.signal.find_peaks(Pxx_den,threshold =median_power*5,prominence=10) \n",
    "    peak_ind = peaks[0]\n",
    "    \n",
    "    return(f,Pxx_den,peak_ind,peaks,median_power)"
   ]
  },
  {
   "cell_type": "markdown",
   "id": "bef26dd7-fed4-4f18-90e9-2abfac875c71",
   "metadata": {},
   "source": [
    "Apply Gaussian"
   ]
  },
  {
   "cell_type": "code",
   "execution_count": 8,
   "id": "a8b20a01-f28b-45ce-b4ed-b65138fa537b",
   "metadata": {},
   "outputs": [],
   "source": [
    "def apply_gaussian(filtered_data,samp_rate,gaussian_width=5):\n",
    "    \"\"\"\n",
    "    Smooth waveform using a gaussian window\n",
    "    \n",
    "    INPUTS\n",
    "    filtered_data = filtered numpy array of seismic data (from an obspy trace)\n",
    "    samp_rate = sampling rate of data\n",
    "    gaussian width = width of Gaussian window in seconds\n",
    "    \n",
    "    OUTPUTS\n",
    "    smoothed_window = smoothed numpy array of seismic data\n",
    "    \"\"\"\n",
    "    \n",
    "    # Square data\n",
    "    data = filtered_data**2\n",
    "    \n",
    "    gaussian_radius = int((gaussian_width * samp_rate)/2)\n",
    "    smoothed_window=scipy.ndimage.gaussian_filter1d(data,sigma=gaussian_radius/4,radius=gaussian_radius)\n",
    "    \n",
    "    return smoothed_window"
   ]
  },
  {
   "cell_type": "markdown",
   "id": "7cfade60-bf46-4137-99bd-505382edc98c",
   "metadata": {},
   "source": [
    "Ship Noise"
   ]
  },
  {
   "cell_type": "code",
   "execution_count": 9,
   "id": "8fb945d3-8411-4be0-b548-9a5478e16304",
   "metadata": {},
   "outputs": [],
   "source": [
    "def ship_noise_classifier(trace,sampling_rate):\n",
    "    \"\"\"\n",
    "    Check whether detection likely includes ship noise in the form of a spectral peak\n",
    "    \n",
    "    INPUTS\n",
    "    trace = obspy trace object\n",
    "    sampling_rate = sample rate of trace\n",
    "    \n",
    "    OUTPUTS\n",
    "    ship_classifier = number of peaks in the spectra. If any exist, ship noise is likely!\n",
    "    \"\"\"\n",
    "    \n",
    "    \n",
    "    # Pick peaks on the smoothed spectrum of the trace (nperseg multiple = 1)\n",
    "    f,Pxx_den,peak_ind,peak_details,median_power = pick_peaks_welch(trace,sampling_rate,1,microseism_cutoff=True)\n",
    "    \n",
    "    if len(peak_ind)==0:\n",
    "        ship_classifier = 0\n",
    "    else:\n",
    "        ship_classifier = len(peak_ind)\n",
    "\n",
    "    \n",
    "    return ship_classifier"
   ]
  },
  {
   "cell_type": "code",
   "execution_count": 10,
   "id": "3820442a",
   "metadata": {},
   "outputs": [],
   "source": [
    "# NOTE: SHOULDN'T NEED THIS ANYMORE\n",
    "# PULL UP-TO-DATE STATION INFO FROM IRIS AT TOP OF NOTEBOOK\n",
    "\n",
    "# def attach_response_cascadia(stream):\n",
    "#     \"\"\"\n",
    "#     Reads in an obspy stream\n",
    "#     Pulls down station response information for the corresponding station from where it is stored in Cascadia\n",
    "#     Attaches this station response information to the stream, and returns the stream\n",
    "#     \"\"\"\n",
    "    \n",
    "#     # This is where station response information is stored on Cascadia, in xml format:\n",
    "#     dir_base = '/1-fnp/pnwstore1/p-wd11/PNWStationXML/'\n",
    "    \n",
    "#     network = stream[0].stats.network\n",
    "#     station = stream[0].stats.station\n",
    "    \n",
    "#     # Response file paths are in the format /1-fnp/pnwstore1/p-wd11/PNWStationXML/OO/OO.HYSB1.xml\n",
    "#     response_file = dir_base+network+'/'+network+'.'+station+'.xml'\n",
    "\n",
    "#     # Read response info using obspy\n",
    "#     inventory = obspy.read_inventory(response_file)\n",
    "\n",
    "#     # Attach response information to stream\n",
    "#     stream.attach_response(inventory)\n",
    "    \n",
    "#     return stream"
   ]
  },
  {
   "cell_type": "code",
   "execution_count": 11,
   "id": "9a16c746-cb39-4726-b4bf-e8b736384ef6",
   "metadata": {
    "tags": []
   },
   "outputs": [],
   "source": [
    "def get_waveform_across_midnight(client, network, station, location, channel, starttime, endtime):\n",
    "    stream = Stream()\n",
    "    current = starttime\n",
    "    while current < endtime:\n",
    "        end_of_day = obspy.UTCDateTime(current.date) + 86399  # 23:59:59\n",
    "        chunk_end = min(end_of_day, endtime)\n",
    "        #print(current, chunk_end)\n",
    "        #try:\n",
    "        st_chunk = client.get_waveforms(\n",
    "            network=network, station=station,\n",
    "            location=location, channel=channel,\n",
    "            starttime=current, endtime=chunk_end,\n",
    "        )\n",
    "        sr = round(st_chunk[0].stats.sampling_rate)\n",
    "        st_chunk.resample(sr).merge(fill_value=\"interpolate\")\n",
    "        stream += st_chunk\n",
    "        #except Exception as e:\n",
    "        #    print(f\"Failed to get data from {current} to {chunk_end}: {e}\")\n",
    "        current = obspy.UTCDateTime(current.date + timedelta(days=1))\n",
    "    return stream"
   ]
  },
  {
   "cell_type": "markdown",
   "id": "294d695d-fb65-4b98-bdbb-71818a132467",
   "metadata": {},
   "source": [
    "## Define Detect and Classify Function"
   ]
  },
  {
   "cell_type": "code",
   "execution_count": 12,
   "id": "ff6e6f9b-cea7-49c5-b7d3-8e35dd3d009f",
   "metadata": {},
   "outputs": [],
   "source": [
    "def trigger_and_classify(t1, data_time_length, network, station, channel, sta_response, step, sta_win, lta_win, filepath):\n",
    "    \"\"\"\n",
    "    Detects and classifies seismic events using STA/LTA and signal features.\n",
    "    \"\"\"\n",
    "    \n",
    "    # Adjust times with padding\n",
    "    t1 = obspy.UTCDateTime(t1)\n",
    "    t2 = t1 + data_time_length + 1000\n",
    "    t1 = t1 - 1000\n",
    "\n",
    "    try:\n",
    "        client = WaveformClient() \n",
    "\n",
    "        # === 1. Detection ===\n",
    "        st1 = get_waveform_across_midnight(client, network, station, \"*\", channel, t1, t2)\n",
    "        st1.merge(fill_value= \"interpolate\")\n",
    "        #print(f\"Stream length: {len(st1)}\")\n",
    "        if len(st1) == 0:\n",
    "            print(f\"[{t1}] No traces found in stream. Skipping.\")\n",
    "            return [], []\n",
    "\n",
    "        sr = round(st1[0].stats.sampling_rate)\n",
    "        if st1[0].stats.sampling_rate != sr:\n",
    "            st1.resample(sr).merge(fill_value=\"interpolate\")\n",
    "        st1.taper(0.05, max_length=5)\n",
    "        st1.filter(\"bandpass\", freqmin=3, freqmax=10)\n",
    "        st1.trim(starttime=t1, endtime=t2)\n",
    "\n",
    "        t1, data_time_length = check_data(st1, t1, sr, step, data_time_length)\n",
    "        data = np.abs(st1[0].data)\n",
    "        #print(f\"Analyzing {st1[0].stats.station} {st1[0].stats.channel}\")\n",
    "        stalta, times = calc_stalta(data, sr, step, data_time_length, sta_win, lta_win)\n",
    "        triggers = trigger_onset(stalta, 2, 1)\n",
    "        ontimes = [t1 + times[tr[0]] for tr in triggers]\n",
    "        offtimes = [t1 + times[tr[1]] for tr in triggers] \n",
    "        # Get rid of any detections less than 30 s\n",
    "        keep_ind = []\n",
    "        for j in range(len(ontimes)):\n",
    "            if offtimes[j]-ontimes[j] > 30:\n",
    "                keep_ind.append(j)\n",
    "        ontimes = [ontimes[j] for j in keep_ind]\n",
    "        offtimes = [offtimes[j] for j in keep_ind]\n",
    "        # print(ontimes,offtimes)\n",
    "\n",
    "        # === 2. Classification ===\n",
    "        all_results = []\n",
    "\n",
    "        for on, off in zip(ontimes, offtimes):\n",
    "            #try:\n",
    "            t1c, t2c = on, off\n",
    "\n",
    "            # Ship noise classifier\n",
    "            st_ship = get_waveform_across_midnight(client, network, station, \"*\", channel, t1c-5, t2c+5)\n",
    "            st_ship.resample(sr).merge(fill_value=\"interpolate\")\n",
    "            # st_ship = attach_response_cascadia(st_ship)\n",
    "            st_ship.attach_response(sta_response)\n",
    "            st_ship[0].data = st_ship[0].data / st_ship[0].stats.response.instrument_sensitivity.value\n",
    "            st_ship.trim(starttime=t1c, endtime=t2c)\n",
    "            ship_classifier = ship_noise_classifier(st_ship[0], sr)\n",
    "\n",
    "            # Waveform peak classifier\n",
    "            st_wave = get_waveform_across_midnight(client, network, station, \"*\", channel, t1c-5, t2c+5)\n",
    "            st_wave.resample(sr).merge(fill_value=\"interpolate\")\n",
    "            # st_wave = attach_response_cascadia(st_wave)\n",
    "            st_wave.attach_response(sta_response)\n",
    "            st_wave.filter(\"bandpass\", freqmin=3, freqmax=10)\n",
    "            st_wave.remove_response()\n",
    "            st_wave.trim(starttime=t1c, endtime=t2c)\n",
    "            max_amplitude = np.max(np.abs(st_wave[0].data))\n",
    "            smoothed = apply_gaussian(st_wave[0].data, sr, gaussian_width=15)\n",
    "            smoothed = smoothed / np.max(smoothed)\n",
    "            peaks = scipy.signal.find_peaks(smoothed, prominence=0.1)\n",
    "            num_waveform_peaks = len(peaks[0])\n",
    "\n",
    "            # Welch frequency ratio\n",
    "            t1w = t1c - 30\n",
    "            t2w = t2c + 30\n",
    "            st_welch = get_waveform_across_midnight(client, network, station, \"*\", channel, t1w-5, t2w+5)\n",
    "            st_welch.resample(sr).merge(fill_value=\"interpolate\")\n",
    "            # st_welch = attach_response_cascadia(st_welch)\n",
    "            st_welch.attach_response(sta_response)\n",
    "            st_welch[0].data = st_welch[0].data / st_welch[0].stats.response.instrument_sensitivity.value\n",
    "            st_welch.trim(starttime=t1w, endtime=t2w)\n",
    "            f, Pxx_den, *_ = pick_peaks_welch(st_welch[0], sr, 5, microseism_cutoff=False)\n",
    "            freq_ratio_welch = 10 ** (np.median(Pxx_den[25:50]) / 10) / 10 ** (np.median(Pxx_den[50:75]) / 10)\n",
    "\n",
    "            # Save result\n",
    "            all_results.append([\n",
    "                (t1c, t2c), station, num_waveform_peaks,\n",
    "                ship_classifier, freq_ratio_welch, max_amplitude\n",
    "            ])\n",
    "\n",
    "            #except Exception as e:\n",
    "                #print(f\"Classification failed for detection starting at {str(on)}: {e}\")\n",
    "                #continue\n",
    "\n",
    "        # === Save all results ===\n",
    "        # combined_file = filepath + station + \"_all_detections.pickle\"\n",
    "        # with open(combined_file, \"wb\") as handle:\n",
    "        #     pickle.dump(all_results, handle)\n",
    "\n",
    "        return all_results\n",
    "\n",
    "    except Exception as e:\n",
    "        print(f\"[{str(t1)}] No data or fatal error during detection/classification: {e}\")\n",
    "        return [], []\n"
   ]
  },
  {
   "cell_type": "markdown",
   "id": "5f1966b1-e41c-4053-ae2b-a5ed274abade",
   "metadata": {
    "tags": []
   },
   "source": [
    "## Bin data by days"
   ]
  },
  {
   "cell_type": "code",
   "execution_count": 13,
   "id": "eea298b8-eba1-42fa-8950-07a5d69cb45b",
   "metadata": {
    "tags": []
   },
   "outputs": [],
   "source": [
    "time_bins = pd.date_range(start=t1.datetime, end=t2.datetime, freq='D')\n",
    "data_time_length = 24 * 60 * 60\n",
    "pickle_path = 'classifications/J10B_raw.pickle'"
   ]
  },
  {
   "cell_type": "code",
   "execution_count": null,
   "id": "f9578a37-2218-475c-971e-fee0fa7c2c46",
   "metadata": {
    "collapsed": true,
    "jupyter": {
     "outputs_hidden": true
    },
    "tags": []
   },
   "outputs": [
    {
     "name": "stdout",
     "output_type": "stream",
     "text": [
      "[                                        ] | 0% Completed | 920.26 ms[2013-04-15T23:43:20.000000Z] No data or fatal error during detection/classification: list index out of range\n",
      "[                                        ] | 0% Completed | 1.03 s[2013-02-08T23:43:20.000000Z] No data or fatal error during detection/classification: list index out of range\n",
      "[                                        ] | 0% Completed | 1.23 s[2013-03-09T23:43:20.000000Z] No data or fatal error during detection/classification: list index out of range\n",
      "[                                        ] | 1% Completed | 1.34 s[2012-11-06T23:43:20.000000Z] No data or fatal error during detection/classification: list index out of range\n",
      "[                                        ] | 1% Completed | 2.77 s"
     ]
    },
    {
     "name": "stderr",
     "output_type": "stream",
     "text": [
      "/home/jupyter_share/miniconda3/envs/seismo2/lib/python3.10/site-packages/numpy/core/fromnumeric.py:3504: RuntimeWarning: Mean of empty slice.\n",
      "  return _methods._mean(a, axis=axis, dtype=dtype,\n",
      "/home/jupyter_share/miniconda3/envs/seismo2/lib/python3.10/site-packages/numpy/core/_methods.py:129: RuntimeWarning: invalid value encountered in scalar divide\n",
      "  ret = ret.dtype.type(ret / rcount)\n"
     ]
    },
    {
     "name": "stdout",
     "output_type": "stream",
     "text": [
      "[                                        ] | 1% Completed | 2.97 s[2013-04-14T23:43:20.000000Z] No data or fatal error during detection/classification: list index out of range\n",
      "[                                        ] | 1% Completed | 4.03 s"
     ]
    },
    {
     "name": "stderr",
     "output_type": "stream",
     "text": [
      " WARNING: FIR normalized: sum[coef]=9.767192E-01;     \n"
     ]
    },
    {
     "name": "stdout",
     "output_type": "stream",
     "text": [
      "[                                        ] | 1% Completed | 5.09 s"
     ]
    },
    {
     "name": "stderr",
     "output_type": "stream",
     "text": [
      " WARNING: FIR normalized: sum[coef]=9.767192E-01;     \n"
     ]
    },
    {
     "name": "stdout",
     "output_type": "stream",
     "text": [
      "[                                        ] | 1% Completed | 6.36 s"
     ]
    },
    {
     "name": "stderr",
     "output_type": "stream",
     "text": [
      " WARNING: FIR normalized: sum[coef]=9.767192E-01;     \n"
     ]
    },
    {
     "name": "stdout",
     "output_type": "stream",
     "text": [
      "[                                        ] | 1% Completed | 7.88 s"
     ]
    },
    {
     "name": "stderr",
     "output_type": "stream",
     "text": [
      " WARNING: FIR normalized: sum[coef]=9.767192E-01;     \n"
     ]
    },
    {
     "name": "stdout",
     "output_type": "stream",
     "text": [
      "[                                        ] | 1% Completed | 8.60 s"
     ]
    },
    {
     "name": "stderr",
     "output_type": "stream",
     "text": [
      " WARNING: FIR normalized: sum[coef]=9.767192E-01;     \n"
     ]
    },
    {
     "name": "stdout",
     "output_type": "stream",
     "text": [
      "[                                        ] | 1% Completed | 9.52 s"
     ]
    },
    {
     "name": "stderr",
     "output_type": "stream",
     "text": [
      " WARNING: FIR normalized: sum[coef]=9.767192E-01;     \n"
     ]
    },
    {
     "name": "stdout",
     "output_type": "stream",
     "text": [
      "[                                        ] | 1% Completed | 10.18 s"
     ]
    },
    {
     "name": "stderr",
     "output_type": "stream",
     "text": [
      " WARNING: FIR normalized: sum[coef]=9.767192E-01;     \n"
     ]
    },
    {
     "name": "stdout",
     "output_type": "stream",
     "text": [
      "[                                        ] | 1% Completed | 10.85 s"
     ]
    },
    {
     "name": "stderr",
     "output_type": "stream",
     "text": [
      " WARNING: FIR normalized: sum[coef]=9.767192E-01;     \n"
     ]
    },
    {
     "name": "stdout",
     "output_type": "stream",
     "text": [
      "[                                        ] | 1% Completed | 11.42 s"
     ]
    },
    {
     "name": "stderr",
     "output_type": "stream",
     "text": [
      " WARNING: FIR normalized: sum[coef]=9.767192E-01;     \n"
     ]
    },
    {
     "name": "stdout",
     "output_type": "stream",
     "text": [
      "[                                        ] | 1% Completed | 11.88 s"
     ]
    },
    {
     "name": "stderr",
     "output_type": "stream",
     "text": [
      " WARNING: FIR normalized: sum[coef]=9.767192E-01;     \n"
     ]
    },
    {
     "name": "stdout",
     "output_type": "stream",
     "text": [
      "[                                        ] | 1% Completed | 12.32 s"
     ]
    },
    {
     "name": "stderr",
     "output_type": "stream",
     "text": [
      " WARNING: FIR normalized: sum[coef]=9.767192E-01;     \n"
     ]
    },
    {
     "name": "stdout",
     "output_type": "stream",
     "text": [
      "[                                        ] | 1% Completed | 12.89 s"
     ]
    },
    {
     "name": "stderr",
     "output_type": "stream",
     "text": [
      " WARNING: FIR normalized: sum[coef]=9.767192E-01;     \n"
     ]
    },
    {
     "name": "stdout",
     "output_type": "stream",
     "text": [
      "[                                        ] | 1% Completed | 13.45 s"
     ]
    },
    {
     "name": "stderr",
     "output_type": "stream",
     "text": [
      " WARNING: FIR normalized: sum[coef]=9.767192E-01;     \n"
     ]
    },
    {
     "name": "stdout",
     "output_type": "stream",
     "text": [
      "[                                        ] | 1% Completed | 13.92 s"
     ]
    },
    {
     "name": "stderr",
     "output_type": "stream",
     "text": [
      " WARNING: FIR normalized: sum[coef]=9.767192E-01;     \n"
     ]
    },
    {
     "name": "stdout",
     "output_type": "stream",
     "text": [
      "[                                        ] | 1% Completed | 14.48 s"
     ]
    },
    {
     "name": "stderr",
     "output_type": "stream",
     "text": [
      " WARNING: FIR normalized: sum[coef]=9.767192E-01;     \n"
     ]
    },
    {
     "name": "stdout",
     "output_type": "stream",
     "text": [
      "[                                        ] | 1% Completed | 15.04 s"
     ]
    },
    {
     "name": "stderr",
     "output_type": "stream",
     "text": [
      " WARNING: FIR normalized: sum[coef]=9.767192E-01;     \n"
     ]
    },
    {
     "name": "stdout",
     "output_type": "stream",
     "text": [
      "[                                        ] | 2% Completed | 64.09 s"
     ]
    },
    {
     "name": "stderr",
     "output_type": "stream",
     "text": [
      " WARNING: FIR normalized: sum[coef]=9.767192E-01;     \n"
     ]
    },
    {
     "name": "stdout",
     "output_type": "stream",
     "text": [
      "[                                        ] | 2% Completed | 64.80 s"
     ]
    },
    {
     "name": "stderr",
     "output_type": "stream",
     "text": [
      " WARNING: FIR normalized: sum[coef]=9.767192E-01;     \n",
      " WARNING: FIR normalized: sum[coef]=9.767192E-01;     \n"
     ]
    },
    {
     "name": "stdout",
     "output_type": "stream",
     "text": [
      "[                                        ] | 2% Completed | 65.49 s"
     ]
    },
    {
     "name": "stderr",
     "output_type": "stream",
     "text": [
      " WARNING: FIR normalized: sum[coef]=9.767192E-01;     \n"
     ]
    },
    {
     "name": "stdout",
     "output_type": "stream",
     "text": [
      "[                                        ] | 2% Completed | 65.73 s"
     ]
    },
    {
     "name": "stderr",
     "output_type": "stream",
     "text": [
      " WARNING: FIR normalized: sum[coef]=9.767192E-01;     \n",
      " WARNING: FIR normalized: sum[coef]=9.767192E-01;     \n"
     ]
    },
    {
     "name": "stdout",
     "output_type": "stream",
     "text": [
      "[                                        ] | 2% Completed | 65.97 s"
     ]
    },
    {
     "name": "stderr",
     "output_type": "stream",
     "text": [
      " WARNING: FIR normalized: sum[coef]=9.767192E-01;     \n"
     ]
    },
    {
     "name": "stdout",
     "output_type": "stream",
     "text": [
      "[                                        ] | 2% Completed | 66.22 s"
     ]
    },
    {
     "name": "stderr",
     "output_type": "stream",
     "text": [
      " WARNING: FIR normalized: sum[coef]=9.767192E-01;     \n"
     ]
    },
    {
     "name": "stdout",
     "output_type": "stream",
     "text": [
      "[                                        ] | 2% Completed | 66.61 s"
     ]
    },
    {
     "name": "stderr",
     "output_type": "stream",
     "text": [
      " WARNING: FIR normalized: sum[coef]=9.767192E-01;     \n",
      " WARNING: FIR normalized: sum[coef]=9.767192E-01;     \n"
     ]
    },
    {
     "name": "stdout",
     "output_type": "stream",
     "text": [
      "[                                        ] | 2% Completed | 66.85 s"
     ]
    },
    {
     "name": "stderr",
     "output_type": "stream",
     "text": [
      " WARNING: FIR normalized: sum[coef]=9.767192E-01;     \n",
      " WARNING: FIR normalized: sum[coef]=9.767192E-01;     \n",
      " WARNING: FIR normalized: sum[coef]=9.767192E-01;     \n",
      " WARNING: FIR normalized: sum[coef]=9.767192E-01;     \n"
     ]
    },
    {
     "name": "stdout",
     "output_type": "stream",
     "text": [
      "[                                        ] | 2% Completed | 67.20 s"
     ]
    },
    {
     "name": "stderr",
     "output_type": "stream",
     "text": [
      " WARNING: FIR normalized: sum[coef]=9.767192E-01;     \n",
      " WARNING: FIR normalized: sum[coef]=9.767192E-01;     \n"
     ]
    },
    {
     "name": "stdout",
     "output_type": "stream",
     "text": [
      "[                                        ] | 2% Completed | 67.69 s"
     ]
    },
    {
     "name": "stderr",
     "output_type": "stream",
     "text": [
      " WARNING: FIR normalized: sum[coef]=9.767192E-01;     \n",
      " WARNING: FIR normalized: sum[coef]=9.767192E-01;     \n",
      " WARNING: FIR normalized: sum[coef]=9.767192E-01;     \n"
     ]
    },
    {
     "name": "stdout",
     "output_type": "stream",
     "text": [
      "[                                        ] | 2% Completed | 67.91 s"
     ]
    },
    {
     "name": "stderr",
     "output_type": "stream",
     "text": [
      " WARNING: FIR normalized: sum[coef]=9.767192E-01;     \n",
      " WARNING: FIR normalized: sum[coef]=9.767192E-01;     \n",
      " WARNING: FIR normalized: sum[coef]=9.767192E-01;     \n",
      " WARNING: FIR normalized: sum[coef]=9.767192E-01;     \n"
     ]
    },
    {
     "name": "stdout",
     "output_type": "stream",
     "text": [
      "[                                        ] | 2% Completed | 68.41 s"
     ]
    },
    {
     "name": "stderr",
     "output_type": "stream",
     "text": [
      " WARNING: FIR normalized: sum[coef]=9.767192E-01;     \n",
      " WARNING: FIR normalized: sum[coef]=9.767192E-01;     \n",
      " WARNING: FIR normalized: sum[coef]=9.767192E-01;     \n",
      " WARNING: FIR normalized: sum[coef]=9.767192E-01;     \n"
     ]
    },
    {
     "name": "stdout",
     "output_type": "stream",
     "text": [
      "[                                        ] | 2% Completed | 68.65 s"
     ]
    },
    {
     "name": "stderr",
     "output_type": "stream",
     "text": [
      " WARNING: FIR normalized: sum[coef]=9.767192E-01;     \n",
      " WARNING: FIR normalized: sum[coef]=9.767192E-01;     \n",
      " WARNING: FIR normalized: sum[coef]=9.767192E-01;     \n",
      " WARNING: FIR normalized: sum[coef]=9.767192E-01;     \n",
      " WARNING: FIR normalized: sum[coef]=9.767192E-01;     \n"
     ]
    },
    {
     "name": "stdout",
     "output_type": "stream",
     "text": [
      "[                                        ] | 2% Completed | 69.15 s"
     ]
    },
    {
     "name": "stderr",
     "output_type": "stream",
     "text": [
      " WARNING: FIR normalized: sum[coef]=9.767192E-01;     \n",
      " WARNING: FIR normalized: sum[coef]=9.767192E-01;     \n",
      " WARNING: FIR normalized: sum[coef]=9.767192E-01;     \n",
      " WARNING: FIR normalized: sum[coef]=9.767192E-01;     \n"
     ]
    },
    {
     "name": "stdout",
     "output_type": "stream",
     "text": [
      "[                                        ] | 2% Completed | 69.38 s"
     ]
    },
    {
     "name": "stderr",
     "output_type": "stream",
     "text": [
      " WARNING: FIR normalized: sum[coef]=9.767192E-01;     \n",
      " WARNING: FIR normalized: sum[coef]=9.767192E-01;     \n",
      " WARNING: FIR normalized: sum[coef]=9.767192E-01;     \n",
      " WARNING: FIR normalized: sum[coef]=9.767192E-01;     \n"
     ]
    },
    {
     "name": "stdout",
     "output_type": "stream",
     "text": [
      "[#                                       ] | 2% Completed | 69.76 s"
     ]
    },
    {
     "name": "stderr",
     "output_type": "stream",
     "text": [
      " WARNING: FIR normalized: sum[coef]=9.767192E-01;     \n"
     ]
    },
    {
     "name": "stdout",
     "output_type": "stream",
     "text": [
      "[#                                       ] | 2% Completed | 69.99 s"
     ]
    },
    {
     "name": "stderr",
     "output_type": "stream",
     "text": [
      " WARNING: FIR normalized: sum[coef]=9.767192E-01;     \n",
      " WARNING: FIR normalized: sum[coef]=9.767192E-01;     \n",
      " WARNING: FIR normalized: sum[coef]=9.767192E-01;     \n"
     ]
    },
    {
     "name": "stdout",
     "output_type": "stream",
     "text": [
      "[#                                       ] | 2% Completed | 70.21 s"
     ]
    },
    {
     "name": "stderr",
     "output_type": "stream",
     "text": [
      " WARNING: FIR normalized: sum[coef]=9.767192E-01;     \n",
      " WARNING: FIR normalized: sum[coef]=9.767192E-01;     \n",
      " WARNING: FIR normalized: sum[coef]=9.767192E-01;     \n"
     ]
    },
    {
     "name": "stdout",
     "output_type": "stream",
     "text": [
      "[#                                       ] | 2% Completed | 70.46 s"
     ]
    },
    {
     "name": "stderr",
     "output_type": "stream",
     "text": [
      " WARNING: FIR normalized: sum[coef]=9.767192E-01;     \n"
     ]
    },
    {
     "name": "stdout",
     "output_type": "stream",
     "text": [
      "[#                                       ] | 2% Completed | 70.81 s"
     ]
    },
    {
     "name": "stderr",
     "output_type": "stream",
     "text": [
      " WARNING: FIR normalized: sum[coef]=9.767192E-01;     \n",
      " WARNING: FIR normalized: sum[coef]=9.767192E-01;     \n",
      " WARNING: FIR normalized: sum[coef]=9.767192E-01;     \n"
     ]
    },
    {
     "name": "stdout",
     "output_type": "stream",
     "text": [
      "[#                                       ] | 2% Completed | 71.05 s"
     ]
    },
    {
     "name": "stderr",
     "output_type": "stream",
     "text": [
      " WARNING: FIR normalized: sum[coef]=9.767192E-01;     \n",
      " WARNING: FIR normalized: sum[coef]=9.767192E-01;     \n",
      " WARNING: FIR normalized: sum[coef]=9.767192E-01;     \n"
     ]
    },
    {
     "name": "stdout",
     "output_type": "stream",
     "text": [
      "[#                                       ] | 2% Completed | 71.38 s"
     ]
    },
    {
     "name": "stderr",
     "output_type": "stream",
     "text": [
      " WARNING: FIR normalized: sum[coef]=9.767192E-01;     \n",
      " WARNING: FIR normalized: sum[coef]=9.767192E-01;     \n"
     ]
    },
    {
     "name": "stdout",
     "output_type": "stream",
     "text": [
      "[#                                       ] | 2% Completed | 71.76 s"
     ]
    },
    {
     "name": "stderr",
     "output_type": "stream",
     "text": [
      " WARNING: FIR normalized: sum[coef]=9.767192E-01;     \n",
      " WARNING: FIR normalized: sum[coef]=9.767192E-01;     \n",
      " WARNING: FIR normalized: sum[coef]=9.767192E-01;     \n"
     ]
    },
    {
     "name": "stdout",
     "output_type": "stream",
     "text": [
      "[#                                       ] | 2% Completed | 71.98 s"
     ]
    },
    {
     "name": "stderr",
     "output_type": "stream",
     "text": [
      " WARNING: FIR normalized: sum[coef]=9.767192E-01;     \n",
      " WARNING: FIR normalized: sum[coef]=9.767192E-01;     \n"
     ]
    },
    {
     "name": "stdout",
     "output_type": "stream",
     "text": [
      "[#                                       ] | 2% Completed | 72.20 s"
     ]
    },
    {
     "name": "stderr",
     "output_type": "stream",
     "text": [
      " WARNING: FIR normalized: sum[coef]=9.767192E-01;     \n",
      " WARNING: FIR normalized: sum[coef]=9.767192E-01;     \n"
     ]
    },
    {
     "name": "stdout",
     "output_type": "stream",
     "text": [
      "[#                                       ] | 3% Completed | 72.58 s"
     ]
    },
    {
     "name": "stderr",
     "output_type": "stream",
     "text": [
      " WARNING: FIR normalized: sum[coef]=9.767192E-01;     \n",
      " WARNING: FIR normalized: sum[coef]=9.767192E-01;     \n",
      " WARNING: FIR normalized: sum[coef]=9.767192E-01;     \n"
     ]
    },
    {
     "name": "stdout",
     "output_type": "stream",
     "text": [
      "[#                                       ] | 3% Completed | 72.92 s"
     ]
    },
    {
     "name": "stderr",
     "output_type": "stream",
     "text": [
      " WARNING: FIR normalized: sum[coef]=9.767192E-01;     \n",
      " WARNING: FIR normalized: sum[coef]=9.767192E-01;     \n",
      " WARNING: FIR normalized: sum[coef]=9.767192E-01;     \n"
     ]
    },
    {
     "name": "stdout",
     "output_type": "stream",
     "text": [
      "[#                                       ] | 3% Completed | 73.28 s"
     ]
    },
    {
     "name": "stderr",
     "output_type": "stream",
     "text": [
      " WARNING: FIR normalized: sum[coef]=9.767192E-01;     \n",
      " WARNING: FIR normalized: sum[coef]=9.767192E-01;     \n"
     ]
    },
    {
     "name": "stdout",
     "output_type": "stream",
     "text": [
      "[#                                       ] | 3% Completed | 73.62 s"
     ]
    },
    {
     "name": "stderr",
     "output_type": "stream",
     "text": [
      " WARNING: FIR normalized: sum[coef]=9.767192E-01;     \n",
      " WARNING: FIR normalized: sum[coef]=9.767192E-01;     \n"
     ]
    },
    {
     "name": "stdout",
     "output_type": "stream",
     "text": [
      "[#                                       ] | 3% Completed | 73.84 s"
     ]
    },
    {
     "name": "stderr",
     "output_type": "stream",
     "text": [
      " WARNING: FIR normalized: sum[coef]=9.767192E-01;     \n",
      " WARNING: FIR normalized: sum[coef]=9.767192E-01;     \n",
      " WARNING: FIR normalized: sum[coef]=9.767192E-01;     \n"
     ]
    },
    {
     "name": "stdout",
     "output_type": "stream",
     "text": [
      "[#                                       ] | 3% Completed | 74.22 s"
     ]
    },
    {
     "name": "stderr",
     "output_type": "stream",
     "text": [
      " WARNING: FIR normalized: sum[coef]=9.767192E-01;     \n",
      " WARNING: FIR normalized: sum[coef]=9.767192E-01;     \n"
     ]
    },
    {
     "name": "stdout",
     "output_type": "stream",
     "text": [
      "[#                                       ] | 3% Completed | 74.47 s"
     ]
    },
    {
     "name": "stderr",
     "output_type": "stream",
     "text": [
      " WARNING: FIR normalized: sum[coef]=9.767192E-01;     \n",
      " WARNING: FIR normalized: sum[coef]=9.767192E-01;     \n",
      " WARNING: FIR normalized: sum[coef]=9.767192E-01;     \n"
     ]
    },
    {
     "name": "stdout",
     "output_type": "stream",
     "text": [
      "[#                                       ] | 3% Completed | 74.81 s"
     ]
    },
    {
     "name": "stderr",
     "output_type": "stream",
     "text": [
      " WARNING: FIR normalized: sum[coef]=9.767192E-01;     \n",
      " WARNING: FIR normalized: sum[coef]=9.767192E-01;     \n"
     ]
    },
    {
     "name": "stdout",
     "output_type": "stream",
     "text": [
      "[#                                       ] | 3% Completed | 75.16 s"
     ]
    },
    {
     "name": "stderr",
     "output_type": "stream",
     "text": [
      " WARNING: FIR normalized: sum[coef]=9.767192E-01;     \n",
      " WARNING: FIR normalized: sum[coef]=9.767192E-01;     \n",
      " WARNING: FIR normalized: sum[coef]=9.767192E-01;     \n",
      " WARNING: FIR normalized: sum[coef]=9.767192E-01;     \n"
     ]
    },
    {
     "name": "stdout",
     "output_type": "stream",
     "text": [
      "[#                                       ] | 3% Completed | 75.39 s"
     ]
    },
    {
     "name": "stderr",
     "output_type": "stream",
     "text": [
      " WARNING: FIR normalized: sum[coef]=9.767192E-01;     \n",
      " WARNING: FIR normalized: sum[coef]=9.767192E-01;     \n"
     ]
    },
    {
     "name": "stdout",
     "output_type": "stream",
     "text": [
      "[#                                       ] | 3% Completed | 75.75 s"
     ]
    },
    {
     "name": "stderr",
     "output_type": "stream",
     "text": [
      " WARNING: FIR normalized: sum[coef]=9.767192E-01;     \n",
      " WARNING: FIR normalized: sum[coef]=9.767192E-01;     \n",
      " WARNING: FIR normalized: sum[coef]=9.767192E-01;     \n"
     ]
    },
    {
     "name": "stdout",
     "output_type": "stream",
     "text": [
      "[#                                       ] | 3% Completed | 76.12 s"
     ]
    },
    {
     "name": "stderr",
     "output_type": "stream",
     "text": [
      " WARNING: FIR normalized: sum[coef]=9.767192E-01;     \n",
      " WARNING: FIR normalized: sum[coef]=9.767192E-01;     \n",
      " WARNING: FIR normalized: sum[coef]=9.767192E-01;     \n"
     ]
    },
    {
     "name": "stdout",
     "output_type": "stream",
     "text": [
      "[#                                       ] | 3% Completed | 76.35 s"
     ]
    },
    {
     "name": "stderr",
     "output_type": "stream",
     "text": [
      " WARNING: FIR normalized: sum[coef]=9.767192E-01;     \n",
      " WARNING: FIR normalized: sum[coef]=9.767192E-01;     \n"
     ]
    },
    {
     "name": "stdout",
     "output_type": "stream",
     "text": [
      "[#                                       ] | 3% Completed | 76.58 s"
     ]
    },
    {
     "name": "stderr",
     "output_type": "stream",
     "text": [
      " WARNING: FIR normalized: sum[coef]=9.767192E-01;     \n",
      " WARNING: FIR normalized: sum[coef]=9.767192E-01;     \n"
     ]
    },
    {
     "name": "stdout",
     "output_type": "stream",
     "text": [
      "[#                                       ] | 3% Completed | 76.82 s"
     ]
    },
    {
     "name": "stderr",
     "output_type": "stream",
     "text": [
      " WARNING: FIR normalized: sum[coef]=9.767192E-01;     \n",
      " WARNING: FIR normalized: sum[coef]=9.767192E-01;     \n",
      " WARNING: FIR normalized: sum[coef]=9.767192E-01;     \n"
     ]
    },
    {
     "name": "stdout",
     "output_type": "stream",
     "text": [
      "[#                                       ] | 3% Completed | 77.30 s"
     ]
    },
    {
     "name": "stderr",
     "output_type": "stream",
     "text": [
      " WARNING: FIR normalized: sum[coef]=9.767192E-01;     \n",
      " WARNING: FIR normalized: sum[coef]=9.767192E-01;     \n",
      " WARNING: FIR normalized: sum[coef]=9.767192E-01;     \n",
      " WARNING: FIR normalized: sum[coef]=9.767192E-01;     \n",
      " WARNING: FIR normalized: sum[coef]=9.767192E-01;     \n"
     ]
    },
    {
     "name": "stdout",
     "output_type": "stream",
     "text": [
      "[#                                       ] | 3% Completed | 77.54 s"
     ]
    },
    {
     "name": "stderr",
     "output_type": "stream",
     "text": [
      " WARNING: FIR normalized: sum[coef]=9.767192E-01;     \n"
     ]
    },
    {
     "name": "stdout",
     "output_type": "stream",
     "text": [
      "[#                                       ] | 3% Completed | 77.78 s"
     ]
    },
    {
     "name": "stderr",
     "output_type": "stream",
     "text": [
      " WARNING: FIR normalized: sum[coef]=9.767192E-01;     \n",
      " WARNING: FIR normalized: sum[coef]=9.767192E-01;     \n",
      " WARNING: FIR normalized: sum[coef]=9.767192E-01;     \n"
     ]
    },
    {
     "name": "stdout",
     "output_type": "stream",
     "text": [
      "[#                                       ] | 3% Completed | 78.01 s"
     ]
    },
    {
     "name": "stderr",
     "output_type": "stream",
     "text": [
      " WARNING: FIR normalized: sum[coef]=9.767192E-01;     \n",
      " WARNING: FIR normalized: sum[coef]=9.767192E-01;     \n",
      " WARNING: FIR normalized: sum[coef]=9.767192E-01;     \n",
      " WARNING: FIR normalized: sum[coef]=9.767192E-01;     \n",
      " WARNING: FIR normalized: sum[coef]=9.767192E-01;     \n"
     ]
    },
    {
     "name": "stdout",
     "output_type": "stream",
     "text": [
      "[#                                       ] | 3% Completed | 78.25 s[2013-04-10T23:43:20.007350Z] No data or fatal error during detection/classification: list index out of range\n",
      "[#                                       ] | 3% Completed | 78.51 s"
     ]
    },
    {
     "name": "stderr",
     "output_type": "stream",
     "text": [
      " WARNING: FIR normalized: sum[coef]=9.767192E-01;     \n",
      " WARNING: FIR normalized: sum[coef]=9.767192E-01;     \n",
      " WARNING: FIR normalized: sum[coef]=9.767192E-01;     \n",
      " WARNING: FIR normalized: sum[coef]=9.767192E-01;     \n",
      " WARNING: FIR normalized: sum[coef]=9.767192E-01;     \n"
     ]
    },
    {
     "name": "stdout",
     "output_type": "stream",
     "text": [
      "[#                                       ] | 3% Completed | 78.74 s"
     ]
    },
    {
     "name": "stderr",
     "output_type": "stream",
     "text": [
      " WARNING: FIR normalized: sum[coef]=9.767192E-01;     \n",
      " WARNING: FIR normalized: sum[coef]=9.767192E-01;     \n"
     ]
    },
    {
     "name": "stdout",
     "output_type": "stream",
     "text": [
      "[#                                       ] | 3% Completed | 78.97 s"
     ]
    },
    {
     "name": "stderr",
     "output_type": "stream",
     "text": [
      " WARNING: FIR normalized: sum[coef]=9.767192E-01;     \n",
      " WARNING: FIR normalized: sum[coef]=9.767192E-01;     \n",
      " WARNING: FIR normalized: sum[coef]=9.767192E-01;     \n",
      " WARNING: FIR normalized: sum[coef]=9.767192E-01;     \n",
      " WARNING: FIR normalized: sum[coef]=9.767192E-01;     \n",
      " WARNING: FIR normalized: sum[coef]=9.767192E-01;     \n"
     ]
    },
    {
     "name": "stdout",
     "output_type": "stream",
     "text": [
      "[#                                       ] | 3% Completed | 79.44 s"
     ]
    },
    {
     "name": "stderr",
     "output_type": "stream",
     "text": [
      " WARNING: FIR normalized: sum[coef]=9.767192E-01;     \n",
      " WARNING: FIR normalized: sum[coef]=9.767192E-01;     \n",
      " WARNING: FIR normalized: sum[coef]=9.767192E-01;     \n",
      " WARNING: FIR normalized: sum[coef]=9.767192E-01;     \n",
      " WARNING: FIR normalized: sum[coef]=9.767192E-01;     \n",
      " WARNING: FIR normalized: sum[coef]=9.767192E-01;     \n"
     ]
    },
    {
     "name": "stdout",
     "output_type": "stream",
     "text": [
      "[#                                       ] | 3% Completed | 79.82 s"
     ]
    },
    {
     "name": "stderr",
     "output_type": "stream",
     "text": [
      " WARNING: FIR normalized: sum[coef]=9.767192E-01;     \n",
      " WARNING: FIR normalized: sum[coef]=9.767192E-01;     \n",
      " WARNING: FIR normalized: sum[coef]=9.767192E-01;     \n",
      " WARNING: FIR normalized: sum[coef]=9.767192E-01;     \n",
      " WARNING: FIR normalized: sum[coef]=9.767192E-01;     \n",
      " WARNING: FIR normalized: sum[coef]=9.767192E-01;     \n"
     ]
    },
    {
     "name": "stdout",
     "output_type": "stream",
     "text": [
      "[#                                       ] | 3% Completed | 80.06 s"
     ]
    },
    {
     "name": "stderr",
     "output_type": "stream",
     "text": [
      " WARNING: FIR normalized: sum[coef]=9.767192E-01;     \n",
      " WARNING: FIR normalized: sum[coef]=9.767192E-01;     \n",
      " WARNING: FIR normalized: sum[coef]=9.767192E-01;     \n"
     ]
    },
    {
     "name": "stdout",
     "output_type": "stream",
     "text": [
      "[#                                       ] | 3% Completed | 80.30 s"
     ]
    },
    {
     "name": "stderr",
     "output_type": "stream",
     "text": [
      " WARNING: FIR normalized: sum[coef]=9.767192E-01;     \n",
      " WARNING: FIR normalized: sum[coef]=9.767192E-01;     \n",
      " WARNING: FIR normalized: sum[coef]=9.767192E-01;     \n",
      " WARNING: FIR normalized: sum[coef]=9.767192E-01;     \n",
      " WARNING: FIR normalized: sum[coef]=9.767192E-01;     \n",
      " WARNING: FIR normalized: sum[coef]=9.767192E-01;     \n"
     ]
    },
    {
     "name": "stdout",
     "output_type": "stream",
     "text": [
      "[#                                       ] | 3% Completed | 80.54 s"
     ]
    },
    {
     "name": "stderr",
     "output_type": "stream",
     "text": [
      " WARNING: FIR normalized: sum[coef]=9.767192E-01;     \n",
      " WARNING: FIR normalized: sum[coef]=9.767192E-01;     \n",
      " WARNING: FIR normalized: sum[coef]=9.767192E-01;     \n"
     ]
    },
    {
     "name": "stdout",
     "output_type": "stream",
     "text": [
      "[#                                       ] | 3% Completed | 80.88 s"
     ]
    },
    {
     "name": "stderr",
     "output_type": "stream",
     "text": [
      " WARNING: FIR normalized: sum[coef]=9.767192E-01;     \n",
      " WARNING: FIR normalized: sum[coef]=9.767192E-01;     \n",
      " WARNING: FIR normalized: sum[coef]=9.767192E-01;     \n",
      " WARNING: FIR normalized: sum[coef]=9.767192E-01;     \n",
      " WARNING: FIR normalized: sum[coef]=9.767192E-01;     \n"
     ]
    },
    {
     "name": "stdout",
     "output_type": "stream",
     "text": [
      "[#                                       ] | 3% Completed | 81.10 s"
     ]
    },
    {
     "name": "stderr",
     "output_type": "stream",
     "text": [
      " WARNING: FIR normalized: sum[coef]=9.767192E-01;     \n",
      " WARNING: FIR normalized: sum[coef]=9.767192E-01;     \n",
      " WARNING: FIR normalized: sum[coef]=9.767192E-01;     \n",
      " WARNING: FIR normalized: sum[coef]=9.767192E-01;     \n",
      " WARNING: FIR normalized: sum[coef]=9.767192E-01;     \n",
      " WARNING: FIR normalized: sum[coef]=9.767192E-01;     \n",
      " WARNING: FIR normalized: sum[coef]=9.767192E-01;     \n",
      " WARNING: FIR normalized: sum[coef]=9.767192E-01;     \n",
      " WARNING: FIR normalized: sum[coef]=9.767192E-01;     \n",
      " WARNING: FIR normalized: sum[coef]=9.767192E-01;     \n"
     ]
    },
    {
     "name": "stdout",
     "output_type": "stream",
     "text": [
      "[#                                       ] | 3% Completed | 81.32 s[2013-04-04T23:55:04.075086Z] No data or fatal error during detection/classification: list index out of range\n",
      "[#                                       ] | 4% Completed | 81.43 s"
     ]
    },
    {
     "name": "stderr",
     "output_type": "stream",
     "text": [
      " WARNING: FIR normalized: sum[coef]=9.767192E-01;     \n",
      " WARNING: FIR normalized: sum[coef]=9.767192E-01;     \n",
      " WARNING: FIR normalized: sum[coef]=9.767192E-01;     \n",
      " WARNING: FIR normalized: sum[coef]=9.767192E-01;     \n"
     ]
    },
    {
     "name": "stdout",
     "output_type": "stream",
     "text": [
      "[#                                       ] | 4% Completed | 81.68 s"
     ]
    },
    {
     "name": "stderr",
     "output_type": "stream",
     "text": [
      " WARNING: FIR normalized: sum[coef]=9.767192E-01;     \n",
      " WARNING: FIR normalized: sum[coef]=9.767192E-01;     \n",
      " WARNING: FIR normalized: sum[coef]=9.767192E-01;     \n",
      " WARNING: FIR normalized: sum[coef]=9.767192E-01;     \n"
     ]
    },
    {
     "name": "stdout",
     "output_type": "stream",
     "text": [
      "[#                                       ] | 4% Completed | 81.92 s"
     ]
    },
    {
     "name": "stderr",
     "output_type": "stream",
     "text": [
      " WARNING: FIR normalized: sum[coef]=9.767192E-01;     \n",
      " WARNING: FIR normalized: sum[coef]=9.767192E-01;     \n",
      " WARNING: FIR normalized: sum[coef]=9.767192E-01;     \n",
      " WARNING: FIR normalized: sum[coef]=9.767192E-01;     \n",
      " WARNING: FIR normalized: sum[coef]=9.767192E-01;     \n",
      " WARNING: FIR normalized: sum[coef]=9.767192E-01;     \n",
      " WARNING: FIR normalized: sum[coef]=9.767192E-01;     \n",
      " WARNING: FIR normalized: sum[coef]=9.767192E-01; "
     ]
    },
    {
     "name": "stdout",
     "output_type": "stream",
     "text": [
      "[#                                       ] | 4% Completed | 82.15 s"
     ]
    },
    {
     "name": "stderr",
     "output_type": "stream",
     "text": [
      "    \n",
      " WARNING: FIR normalized: sum[coef]=9.767192E-01;     \n",
      " WARNING: FIR normalized: sum[coef]=9.767192E-01;     \n",
      " WARNING: FIR normalized: sum[coef]=9.767192E-01;     \n",
      " WARNING: FIR normalized: sum[coef]=9.767192E-01;     \n",
      " WARNING: FIR normalized: sum[coef]=9.767192E-01;     \n"
     ]
    },
    {
     "name": "stdout",
     "output_type": "stream",
     "text": [
      "[#                                       ] | 4% Completed | 82.38 s"
     ]
    },
    {
     "name": "stderr",
     "output_type": "stream",
     "text": [
      " WARNING: FIR normalized: sum[coef]=9.767192E-01;     \n",
      " WARNING: FIR normalized: sum[coef]=9.767192E-01;     \n",
      " WARNING: FIR normalized: sum[coef]=9.767192E-01;     \n",
      " WARNING: FIR normalized: sum[coef]=9.767192E-01;     \n",
      " WARNING: FIR normalized: sum[coef]=9.767192E-01;     \n",
      " WARNING: FIR normalized: sum[coef]=9.767192E-01;     \n",
      " WARNING: FIR normalized: sum[coef]=9.767192E-01;     \n",
      " WARNING: FIR normalized: sum[coef]=9.767192E-01;     \n",
      " WARNING: FIR normalized: sum[coef]=9.767192E-01;     \n"
     ]
    },
    {
     "name": "stdout",
     "output_type": "stream",
     "text": [
      "[#                                       ] | 4% Completed | 82.62 s"
     ]
    },
    {
     "name": "stderr",
     "output_type": "stream",
     "text": [
      " WARNING: FIR normalized: sum[coef]=9.767192E-01;     \n",
      " WARNING: FIR normalized: sum[coef]=9.767192E-01;     \n",
      " WARNING: FIR normalized: sum[coef]=9.767192E-01;     \n",
      " WARNING: FIR normalized: sum[coef]=9.767192E-01;     \n",
      " WARNING: FIR normalized: sum[coef]=9.767192E-01;     \n",
      " WARNING: FIR normalized: sum[coef]=9.767192E-01;     \n"
     ]
    },
    {
     "name": "stdout",
     "output_type": "stream",
     "text": [
      "[#                                       ] | 4% Completed | 82.89 s"
     ]
    },
    {
     "name": "stderr",
     "output_type": "stream",
     "text": [
      " WARNING: FIR normalized: sum[coef]=9.767192E-01;     \n",
      " WARNING: FIR normalized: sum[coef]=9.767192E-01;     \n",
      " WARNING: FIR normalized: sum[coef]=9.767192E-01;     \n",
      " WARNING: FIR normalized: sum[coef]=9.767192E-01;     \n",
      " WARNING: FIR normalized: sum[coef]=9.767192E-01;     \n",
      " WARNING: FIR normalized: sum[coef]=9.767192E-01;     \n",
      " WARNING: FIR normalized: sum[coef]=9.767192E-01;     \n",
      " WARNING: FIR normalized: sum[coef]=9.767192E-01;     \n",
      " WARNING: FIR normalized: sum[coef]=9.767192E-01;     \n",
      " WARNING: FIR normalized: sum[coef]=9.767192E-01;     \n"
     ]
    },
    {
     "name": "stdout",
     "output_type": "stream",
     "text": [
      "[#                                       ] | 4% Completed | 83.15 s"
     ]
    },
    {
     "name": "stderr",
     "output_type": "stream",
     "text": [
      " WARNING: FIR normalized: sum[coef]=9.767192E-01;     \n",
      " WARNING: FIR normalized: sum[coef]=9.767192E-01;     \n",
      " WARNING: FIR normalized: sum[coef]=9.767192E-01;     \n",
      " WARNING: FIR normalized: sum[coef]=9.767192E-01;     \n",
      " WARNING: FIR normalized: sum[coef]=9.767192E-01;     \n",
      " WARNING: FIR normalized: sum[coef]=9.767192E-01;     \n",
      " WARNING: FIR normalized: sum[coef]=9.767192E-01;     \n",
      " WARNING: FIR normalized: sum[coef]=9.767192E-01;     \n"
     ]
    },
    {
     "name": "stdout",
     "output_type": "stream",
     "text": [
      "[#                                       ] | 4% Completed | 83.38 s"
     ]
    },
    {
     "name": "stderr",
     "output_type": "stream",
     "text": [
      " WARNING: FIR normalized: sum[coef]=9.767192E-01;     \n",
      " WARNING: FIR normalized: sum[coef]=9.767192E-01;     \n",
      " WARNING: FIR normalized: sum[coef]=9.767192E-01;     \n",
      " WARNING: FIR normalized: sum[coef]=9.767192E-01;     \n",
      " WARNING: FIR normalized: sum[coef]=9.767192E-01;     \n",
      " WARNING: FIR normalized: sum[coef]=9.767192E-01;     \n",
      " WARNING: FIR normalized: sum[coef]=9.767192E-01;     \n",
      " WARNING: FIR normalized: sum[coef]=9.767192E-01;     \n",
      " WARNING: FIR normalized: sum[coef]=9.767192E-01;     \n",
      " WARNING: FIR normalized: sum[coef]=9.767192E-01;     \n",
      " WARNING: FIR normalized: sum[coef]=9.767192E-01;     \n",
      " WARNING: FIR normalized: sum[coef]=9.767192E-01;     \n"
     ]
    },
    {
     "name": "stdout",
     "output_type": "stream",
     "text": [
      "[#                                       ] | 4% Completed | 83.62 s[2013-04-20T23:43:19.994575Z] No data or fatal error during detection/classification: list index out of range\n"
     ]
    },
    {
     "name": "stderr",
     "output_type": "stream",
     "text": [
      " WARNING: FIR normalized: sum[coef]=9.767192E-01;     \n",
      " WARNING: FIR normalized: sum[coef]=9.767192E-01;     \n",
      " WARNING: FIR normalized: sum[coef]=9.767192E-01;     \n",
      " WARNING: FIR normalized: sum[coef]=9.767192E-01;     \n",
      " WARNING: FIR normalized: sum[coef]=9.767192E-01;     \n",
      " WARNING: FIR normalized: sum[coef]=9.767192E-01;     \n"
     ]
    },
    {
     "name": "stdout",
     "output_type": "stream",
     "text": [
      "[#                                       ] | 4% Completed | 83.88 s"
     ]
    },
    {
     "name": "stderr",
     "output_type": "stream",
     "text": [
      " WARNING: FIR normalized: sum[coef]=9.767192E-01;     \n",
      " WARNING: FIR normalized: sum[coef]=9.767192E-01;     \n",
      " WARNING: FIR normalized: sum[coef]=9.767192E-01;     \n",
      " WARNING: FIR normalized: sum[coef]=9.767192E-01;     \n",
      " WARNING: FIR normalized: sum[coef]=9.767192E-01;     \n",
      " WARNING: FIR normalized: sum[coef]=9.767192E-01;     \n",
      " WARNING: FIR normalized: sum[coef]=9.767192E-01;     \n",
      " WARNING: FIR normalized: sum[coef]=9.767192E-01;     \n",
      " WARNING: FIR normalized: sum[coef]=9.767192E-01;     \n"
     ]
    },
    {
     "name": "stdout",
     "output_type": "stream",
     "text": [
      "[#                                       ] | 4% Completed | 84.23 s"
     ]
    },
    {
     "name": "stderr",
     "output_type": "stream",
     "text": [
      " WARNING: FIR normalized: sum[coef]=9.767192E-01;     \n",
      " WARNING: FIR normalized: sum[coef]=9.767192E-01;     \n",
      " WARNING: FIR normalized: sum[coef]=9.767192E-01;     \n",
      " WARNING: FIR normalized: sum[coef]=9.767192E-01;     \n",
      " WARNING: FIR normalized: sum[coef]=9.767192E-01;     \n",
      " WARNING: FIR normalized: sum[coef]=9.767192E-01;     \n",
      " WARNING: FIR normalized: sum[coef]=9.767192E-01;     \n",
      " WARNING: FIR normalized: sum[coef]=9.767192E-01;     \n",
      " WARNING: FIR normalized: sum[coef]=9.767192E-01;     \n",
      " WARNING: FIR normalized: sum[coef]=9.767192E-01;     \n"
     ]
    },
    {
     "name": "stdout",
     "output_type": "stream",
     "text": [
      "[#                                       ] | 4% Completed | 84.47 s"
     ]
    },
    {
     "name": "stderr",
     "output_type": "stream",
     "text": [
      " WARNING: FIR normalized: sum[coef]=9.767192E-01;     \n",
      " WARNING: FIR normalized: sum[coef]=9.767192E-01;     \n",
      " WARNING: FIR normalized: sum[coef]=9.767192E-01;     \n",
      " WARNING: FIR normalized: sum[coef]=9.767192E-01;     \n",
      " WARNING: FIR normalized: sum[coef]=9.767192E-01;     \n",
      " WARNING: FIR normalized: sum[coef]=9.767192E-01;     \n",
      " WARNING: FIR normalized: sum[coef]=9.767192E-01;     \n",
      " WARNING: FIR normalized: sum[coef]=9.767192E-01;     \n",
      " WARNING: FIR normalized: sum[coef]=9.767192E-01;     \n",
      " WARNING: FIR normalized: sum[coef]=9.767192E-01;     \n",
      " WARNING: FIR normalized: sum[coef]=9.767192E-01;     \n"
     ]
    },
    {
     "name": "stdout",
     "output_type": "stream",
     "text": [
      "[#                                       ] | 4% Completed | 84.59 s"
     ]
    },
    {
     "name": "stderr",
     "output_type": "stream",
     "text": [
      " WARNING: FIR normalized: sum[coef]=9.767192E-01;     \n",
      " WARNING: FIR normalized: sum[coef]=9.767192E-01;     \n",
      " WARNING: FIR normalized: sum[coef]=9.767192E-01;     \n",
      " WARNING: FIR normalized: sum[coef]=9.767192E-01;     \n",
      " WARNING: FIR normalized: sum[coef]=9.767192E-01;     \n",
      " WARNING: FIR normalized: sum[coef]=9.767192E-01;     \n",
      " WARNING: FIR normalized: sum[coef]=9.767192E-01;     \n"
     ]
    },
    {
     "name": "stdout",
     "output_type": "stream",
     "text": [
      "[#                                       ] | 4% Completed | 84.86 s"
     ]
    },
    {
     "name": "stderr",
     "output_type": "stream",
     "text": [
      " WARNING: FIR normalized: sum[coef]=9.767192E-01;     \n",
      " WARNING: FIR normalized: sum[coef]=9.767192E-01;     \n",
      " WARNING: FIR normalized: sum[coef]=9.767192E-01;     \n",
      " WARNING: FIR normalized: sum[coef]=9.767192E-01;     \n",
      " WARNING: FIR normalized: sum[coef]=9.767192E-01;     \n",
      " WARNING: FIR normalized: sum[coef]=9.767192E-01;     \n",
      " WARNING: FIR normalized: sum[coef]=9.767192E-01;     \n",
      " WARNING: FIR normalized: sum[coef]=9.767192E-01;     \n"
     ]
    },
    {
     "name": "stdout",
     "output_type": "stream",
     "text": [
      "[#                                       ] | 4% Completed | 85.21 s"
     ]
    },
    {
     "name": "stderr",
     "output_type": "stream",
     "text": [
      " WARNING: FIR normalized: sum[coef]=9.767192E-01;     \n",
      " WARNING: FIR normalized: sum[coef]=9.767192E-01;     \n",
      " WARNING: FIR normalized: sum[coef]=9.767192E-01;     \n",
      " WARNING: FIR normalized: sum[coef]=9.767192E-01;     \n",
      " WARNING: FIR normalized: sum[coef]=9.767192E-01;     \n",
      " WARNING: FIR normalized: sum[coef]=9.767192E-01;     \n",
      " WARNING: FIR normalized: sum[coef]=9.767192E-01;     \n",
      " WARNING: FIR normalized: sum[coef]=9.767192E-01;     \n",
      " WARNING: FIR normalized: sum[coef]=9.767192E-01;     \n",
      " WARNING: FIR normalized: sum[coef]=9.767192E-01;     \n",
      " WARNING: FIR normalized: sum[coef]=9.767192E-01;     \n",
      " WARNING: FIR normalized: sum[coef]=9.767192E-01;     \n"
     ]
    },
    {
     "name": "stdout",
     "output_type": "stream",
     "text": [
      "[#                                       ] | 4% Completed | 85.43 s"
     ]
    },
    {
     "name": "stderr",
     "output_type": "stream",
     "text": [
      " WARNING: FIR normalized: sum[coef]=9.767192E-01;     \n",
      " WARNING: FIR normalized: sum[coef]=9.767192E-01;     \n",
      " WARNING: FIR normalized: sum[coef]=9.767192E-01;     \n",
      " WARNING: FIR normalized: sum[coef]=9.767192E-01;     \n",
      " WARNING: FIR normalized: sum[coef]=9.767192E-01;     \n",
      " WARNING: FIR normalized: sum[coef]=9.767192E-01;     \n",
      " WARNING: FIR normalized: sum[coef]=9.767192E-01;     \n",
      " WARNING: FIR normalized: sum[coef]=9.767192E-01;     \n",
      " WARNING: FIR normalized: sum[coef]=9.767192E-01;     \n",
      " WARNING: FIR normalized: sum[coef]=9.767192E-01;     \n",
      " WARNING: FIR normalized: sum[coef]=9.767192E-01;     \n",
      " WARNING: FIR normalized: sum[coef]=9.767192E-01;     \n"
     ]
    },
    {
     "name": "stdout",
     "output_type": "stream",
     "text": [
      "[#                                       ] | 4% Completed | 85.67 s"
     ]
    },
    {
     "name": "stderr",
     "output_type": "stream",
     "text": [
      " WARNING: FIR normalized: sum[coef]=9.767192E-01;     \n",
      " WARNING: FIR normalized: sum[coef]=9.767192E-01;     \n",
      " WARNING: FIR normalized: sum[coef]=9.767192E-01;     \n",
      " WARNING: FIR normalized: sum[coef]=9.767192E-01;     \n",
      " WARNING: FIR normalized: sum[coef]=9.767192E-01;     \n",
      " WARNING: FIR normalized: sum[coef]=9.767192E-01;     \n"
     ]
    },
    {
     "name": "stdout",
     "output_type": "stream",
     "text": [
      "[#                                       ] | 4% Completed | 85.90 s"
     ]
    },
    {
     "name": "stderr",
     "output_type": "stream",
     "text": [
      " WARNING: FIR normalized: sum[coef]=9.767192E-01;     \n",
      " WARNING: FIR normalized: sum[coef]=9.767192E-01;     \n",
      " WARNING: FIR normalized: sum[coef]=9.767192E-01;     \n",
      " WARNING: FIR normalized: sum[coef]=9.767192E-01;     \n"
     ]
    },
    {
     "name": "stdout",
     "output_type": "stream",
     "text": [
      "[#                                       ] | 4% Completed | 86.13 s"
     ]
    },
    {
     "name": "stderr",
     "output_type": "stream",
     "text": [
      " WARNING: FIR normalized: sum[coef]=9.767192E-01;     \n",
      " WARNING: FIR normalized: sum[coef]=9.767192E-01;     \n",
      " WARNING: FIR normalized: sum[coef]=9.767192E-01;     \n",
      " WARNING: FIR normalized: sum[coef]=9.767192E-01;     \n",
      " WARNING: FIR normalized: sum[coef]=9.767192E-01;     \n",
      " WARNING: FIR normalized: sum[coef]=9.767192E-01;     \n",
      " WARNING: FIR normalized: sum[coef]=9.767192E-01;     \n",
      " WARNING: FIR normalized: sum[coef]=9.767192E-01;     \n",
      " WARNING: FIR normalized: sum[coef]=9.767192E-01;     \n",
      " WARNING: FIR normalized: sum[coef]=9.767192E-01;     \n",
      " WARNING: FIR normalized: sum[coef]=9.767192E-01;     \n",
      " WARNING: FIR normalized: sum[coef]=9.767192E-01;     \n"
     ]
    },
    {
     "name": "stdout",
     "output_type": "stream",
     "text": [
      "[##                                      ] | 5% Completed | 86.40 s"
     ]
    },
    {
     "name": "stderr",
     "output_type": "stream",
     "text": [
      " WARNING: FIR normalized: sum[coef]=9.767192E-01;     \n",
      " WARNING: FIR normalized: sum[coef]=9.767192E-01;     \n",
      " WARNING: FIR normalized: sum[coef]=9.767192E-01;     \n",
      " WARNING: FIR normalized: sum[coef]=9.767192E-01;     \n",
      " WARNING: FIR normalized: sum[coef]=9.767192E-01;     \n",
      " WARNING: FIR normalized: sum[coef]=9.767192E-01;     \n",
      " WARNING: FIR normalized: sum[coef]=9.767192E-01;     \n",
      " WARNING: FIR normalized: sum[coef]=9.767192E-01;     \n",
      " WARNING: FIR normalized: sum[coef]=9.767192E-01;     \n",
      " WARNING: FIR normalized: sum[coef]=9.767192E-01;     \n"
     ]
    },
    {
     "name": "stdout",
     "output_type": "stream",
     "text": [
      "[##                                      ] | 5% Completed | 86.65 s"
     ]
    },
    {
     "name": "stderr",
     "output_type": "stream",
     "text": [
      " WARNING: FIR normalized: sum[coef]=9.767192E-01;     \n",
      " WARNING: FIR normalized: sum[coef]=9.767192E-01;     \n",
      " WARNING: FIR normalized: sum[coef]=9.767192E-01;     \n",
      " WARNING: FIR normalized: sum[coef]=9.767192E-01;     \n",
      " WARNING: FIR normalized: sum[coef]=9.767192E-01;     \n",
      " WARNING: FIR normalized: sum[coef]=9.767192E-01;     \n",
      " WARNING: FIR normalized: sum[coef]=9.767192E-01;     \n",
      " WARNING: FIR normalized: sum[coef]=9.767192E-01;     \n",
      " WARNING: FIR normalized: sum[coef]=9.767192E-01;     \n"
     ]
    },
    {
     "name": "stdout",
     "output_type": "stream",
     "text": [
      "[##                                      ] | 5% Completed | 86.88 s"
     ]
    },
    {
     "name": "stderr",
     "output_type": "stream",
     "text": [
      " WARNING: FIR normalized: sum[coef]=9.767192E-01;     \n",
      " WARNING: FIR normalized: sum[coef]=9.767192E-01;     \n",
      " WARNING: FIR normalized: sum[coef]=9.767192E-01;     \n",
      " WARNING: FIR normalized: sum[coef]=9.767192E-01;     \n",
      " WARNING: FIR normalized: sum[coef]=9.767192E-01;     \n",
      " WARNING: FIR normalized: sum[coef]=9.767192E-01;     \n",
      " WARNING: FIR normalized: sum[coef]=9.767192E-01;     \n",
      " WARNING: FIR normalized: sum[coef]=9.767192E-01;     \n"
     ]
    },
    {
     "name": "stdout",
     "output_type": "stream",
     "text": [
      "[##                                      ] | 5% Completed | 87.22 s"
     ]
    },
    {
     "name": "stderr",
     "output_type": "stream",
     "text": [
      " WARNING: FIR normalized: sum[coef]=9.767192E-01;     \n",
      " WARNING: FIR normalized: sum[coef]=9.767192E-01;     \n",
      " WARNING: FIR normalized: sum[coef]=9.767192E-01;     \n",
      " WARNING: FIR normalized: sum[coef]=9.767192E-01;     \n",
      " WARNING: FIR normalized: sum[coef]=9.767192E-01;     \n",
      " WARNING: FIR normalized: sum[coef]=9.767192E-01;     \n",
      " WARNING: FIR normalized: sum[coef]=9.767192E-01;     \n",
      " WARNING: FIR normalized: sum[coef]=9.767192E-01;     \n",
      " WARNING: FIR normalized: sum[coef]=9.767192E-01;     \n",
      " WARNING: FIR normalized: sum[coef]=9.767192E-01;     \n"
     ]
    },
    {
     "name": "stdout",
     "output_type": "stream",
     "text": [
      "[##                                      ] | 5% Completed | 87.35 s"
     ]
    },
    {
     "name": "stderr",
     "output_type": "stream",
     "text": [
      " WARNING: FIR normalized: sum[coef]=9.767192E-01;     \n",
      " WARNING: FIR normalized: sum[coef]=9.767192E-01;     \n",
      " WARNING: FIR normalized: sum[coef]=9.767192E-01;     \n",
      " WARNING: FIR normalized: sum[coef]=9.767192E-01;     \n",
      " WARNING: FIR normalized: sum[coef]=9.767192E-01;     \n",
      " WARNING: FIR normalized: sum[coef]=9.767192E-01;     \n",
      " WARNING: FIR normalized: sum[coef]=9.767192E-01;     \n",
      " WARNING: FIR normalized: sum[coef]=9.767192E-01;     \n",
      " WARNING: FIR normalized: sum[coef]=9.767192E-01;     \n",
      " WARNING: FIR normalized: sum[coef]=9.767192E-01;     \n",
      " WARNING: FIR normalized: sum[coef]=9.767192E-01;     \n"
     ]
    },
    {
     "name": "stdout",
     "output_type": "stream",
     "text": [
      "[##                                      ] | 5% Completed | 87.61 s"
     ]
    },
    {
     "name": "stderr",
     "output_type": "stream",
     "text": [
      " WARNING: FIR normalized: sum[coef]=9.767192E-01;     \n",
      " WARNING: FIR normalized: sum[coef]=9.767192E-01;     \n",
      " WARNING: FIR normalized: sum[coef]=9.767192E-01;     \n",
      " WARNING: FIR normalized: sum[coef]=9.767192E-01;     \n",
      " WARNING: FIR normalized: sum[coef]=9.767192E-01;     \n",
      " WARNING: FIR normalized: sum[coef]=9.767192E-01;     \n"
     ]
    },
    {
     "name": "stdout",
     "output_type": "stream",
     "text": [
      "[##                                      ] | 5% Completed | 87.86 s"
     ]
    },
    {
     "name": "stderr",
     "output_type": "stream",
     "text": [
      " WARNING: FIR normalized: sum[coef]=9.767192E-01;     \n",
      " WARNING: FIR normalized: sum[coef]=9.767192E-01;     \n",
      " WARNING: FIR normalized: sum[coef]=9.767192E-01;     \n",
      " WARNING: FIR normalized: sum[coef]=9.767192E-01;     \n",
      " WARNING: FIR normalized: sum[coef]=9.767192E-01;     \n",
      " WARNING: FIR normalized: sum[coef]=9.767192E-01;     \n",
      " WARNING: FIR normalized: sum[coef]=9.767192E-01;     \n",
      " WARNING: FIR normalized: sum[coef]=9.767192E-01;     \n",
      " WARNING: FIR normalized: sum[coef]=9.767192E-01;     \n",
      " WARNING: FIR normalized: sum[coef]=9.767192E-01;     \n",
      " WARNING: FIR normalized: sum[coef]=9.767192E-01;     \n",
      " WARNING: FIR normalized: sum[coef]=9.767192E-01;     \n"
     ]
    },
    {
     "name": "stdout",
     "output_type": "stream",
     "text": [
      "[##                                      ] | 5% Completed | 88.08 s"
     ]
    },
    {
     "name": "stderr",
     "output_type": "stream",
     "text": [
      " WARNING: FIR normalized: sum[coef]=9.767192E-01;     \n",
      " WARNING: FIR normalized: sum[coef]=9.767192E-01;     \n",
      " WARNING: FIR normalized: sum[coef]=9.767192E-01;     \n"
     ]
    },
    {
     "name": "stdout",
     "output_type": "stream",
     "text": [
      "[##                                      ] | 5% Completed | 88.33 s"
     ]
    },
    {
     "name": "stderr",
     "output_type": "stream",
     "text": [
      " WARNING: FIR normalized: sum[coef]=9.767192E-01;     \n",
      " WARNING: FIR normalized: sum[coef]=9.767192E-01;     \n",
      " WARNING: FIR normalized: sum[coef]=9.767192E-01;     \n",
      " WARNING: FIR normalized: sum[coef]=9.767192E-01;     \n",
      " WARNING: FIR normalized: sum[coef]=9.767192E-01;     \n",
      " WARNING: FIR normalized: sum[coef]=9.767192E-01;     \n",
      " WARNING: FIR normalized: sum[coef]=9.767192E-01;     \n",
      " WARNING: FIR normalized: sum[coef]=9.767192E-01;     \n",
      " WARNING: FIR normalized: sum[coef]=9.767192E-01;     \n",
      " WARNING: FIR normalized: sum[coef]=9.767192E-01;     \n"
     ]
    },
    {
     "name": "stdout",
     "output_type": "stream",
     "text": [
      "[##                                      ] | 5% Completed | 88.60 s"
     ]
    },
    {
     "name": "stderr",
     "output_type": "stream",
     "text": [
      " WARNING: FIR normalized: sum[coef]=9.767192E-01;     \n",
      " WARNING: FIR normalized: sum[coef]=9.767192E-01;     \n",
      " WARNING: FIR normalized: sum[coef]=9.767192E-01;     \n",
      " WARNING: FIR normalized: sum[coef]=9.767192E-01;     \n",
      " WARNING: FIR normalized: sum[coef]=9.767192E-01;     \n",
      " WARNING: FIR normalized: sum[coef]=9.767192E-01;     \n",
      " WARNING: FIR normalized: sum[coef]=9.767192E-01;     \n",
      " WARNING: FIR normalized: sum[coef]=9.767192E-01;     \n",
      " WARNING: FIR normalized: sum[coef]=9.767192E-01;     \n",
      " WARNING: FIR normalized: sum[coef]=9.767192E-01;     \n"
     ]
    },
    {
     "name": "stdout",
     "output_type": "stream",
     "text": [
      "[##                                      ] | 5% Completed | 88.72 s"
     ]
    },
    {
     "name": "stderr",
     "output_type": "stream",
     "text": [
      " WARNING: FIR normalized: sum[coef]=9.767192E-01;     \n",
      " WARNING: FIR normalized: sum[coef]=9.767192E-01;     \n",
      " WARNING: FIR normalized: sum[coef]=9.767192E-01;     \n",
      " WARNING: FIR normalized: sum[coef]=9.767192E-01;     \n",
      " WARNING: FIR normalized: sum[coef]=9.767192E-01;     \n",
      " WARNING: FIR normalized: sum[coef]=9.767192E-01;     \n",
      " WARNING: FIR normalized: sum[coef]=9.767192E-01;     \n",
      " WARNING: FIR normalized: sum[coef]=9.767192E-01;     \n",
      " WARNING: FIR normalized: sum[coef]=9.767192E-01;     \n",
      " WARNING: FIR normalized: sum[coef]=9.767192E-01;     \n"
     ]
    },
    {
     "name": "stdout",
     "output_type": "stream",
     "text": [
      "[##                                      ] | 5% Completed | 88.97 s"
     ]
    },
    {
     "name": "stderr",
     "output_type": "stream",
     "text": [
      " WARNING: FIR normalized: sum[coef]=9.767192E-01;     \n",
      " WARNING: FIR normalized: sum[coef]=9.767192E-01;     \n",
      " WARNING: FIR normalized: sum[coef]=9.767192E-01;     \n",
      " WARNING: FIR normalized: sum[coef]=9.767192E-01;     \n",
      " WARNING: FIR normalized: sum[coef]=9.767192E-01;     \n",
      " WARNING: FIR normalized: sum[coef]=9.767192E-01;     \n",
      " WARNING: FIR normalized: sum[coef]=9.767192E-01;     \n"
     ]
    },
    {
     "name": "stdout",
     "output_type": "stream",
     "text": [
      "[##                                      ] | 5% Completed | 89.24 s"
     ]
    },
    {
     "name": "stderr",
     "output_type": "stream",
     "text": [
      " WARNING: FIR normalized: sum[coef]=9.767192E-01;     \n",
      " WARNING: FIR normalized: sum[coef]=9.767192E-01;     \n",
      " WARNING: FIR normalized: sum[coef]=9.767192E-01;     \n",
      " WARNING: FIR normalized: sum[coef]=9.767192E-01;     \n",
      " WARNING: FIR normalized: sum[coef]=9.767192E-01;     \n",
      " WARNING: FIR normalized: sum[coef]=9.767192E-01;     \n",
      " WARNING: FIR normalized: sum[coef]=9.767192E-01;     \n",
      " WARNING: FIR normalized: sum[coef]=9.767192E-01;     \n"
     ]
    },
    {
     "name": "stdout",
     "output_type": "stream",
     "text": [
      "[##                                      ] | 5% Completed | 89.46 s"
     ]
    },
    {
     "name": "stderr",
     "output_type": "stream",
     "text": [
      " WARNING: FIR normalized: sum[coef]=9.767192E-01;     \n",
      " WARNING: FIR normalized: sum[coef]=9.767192E-01;     \n",
      " WARNING: FIR normalized: sum[coef]=9.767192E-01;     \n",
      " WARNING: FIR normalized: sum[coef]=9.767192E-01;     \n",
      " WARNING: FIR normalized: sum[coef]=9.767192E-01;     \n",
      " WARNING: FIR normalized: sum[coef]=9.767192E-01;     \n",
      " WARNING: FIR normalized: sum[coef]=9.767192E-01;     \n",
      " WARNING: FIR normalized: sum[coef]=9.767192E-01;     \n"
     ]
    },
    {
     "name": "stdout",
     "output_type": "stream",
     "text": [
      "[##                                      ] | 5% Completed | 89.69 s"
     ]
    },
    {
     "name": "stderr",
     "output_type": "stream",
     "text": [
      " WARNING: FIR normalized: sum[coef]=9.767192E-01;     \n",
      " WARNING: FIR normalized: sum[coef]=9.767192E-01;     \n",
      " WARNING: FIR normalized: sum[coef]=9.767192E-01;     \n",
      " WARNING: FIR normalized: sum[coef]=9.767192E-01;     \n",
      " WARNING: FIR normalized: sum[coef]=9.767192E-01;     \n",
      " WARNING: FIR normalized: sum[coef]=9.767192E-01;     \n",
      " WARNING: FIR normalized: sum[coef]=9.767192E-01;     \n",
      " WARNING: FIR normalized: sum[coef]=9.767192E-01;     \n",
      " WARNING: FIR normalized: sum[coef]=9.767192E-01;     \n",
      " WARNING: FIR normalized: sum[coef]=9.767192E-01;     \n",
      " WARNING: FIR normalized: sum[coef]=9.767192E-01;     \n",
      " WARNING: FIR normalized: sum[coef]=9.767192E-01;     \n"
     ]
    },
    {
     "name": "stdout",
     "output_type": "stream",
     "text": [
      "[##                                      ] | 5% Completed | 89.92 s"
     ]
    },
    {
     "name": "stderr",
     "output_type": "stream",
     "text": [
      " WARNING: FIR normalized: sum[coef]=9.767192E-01;     \n",
      " WARNING: FIR normalized: sum[coef]=9.767192E-01;     \n",
      " WARNING: FIR normalized: sum[coef]=9.767192E-01;     \n",
      " WARNING: FIR normalized: sum[coef]=9.767192E-01;     \n",
      " WARNING: FIR normalized: sum[coef]=9.767192E-01;     \n",
      " WARNING: FIR normalized: sum[coef]=9.767192E-01;     \n",
      " WARNING: FIR normalized: sum[coef]=9.767192E-01;     \n",
      " WARNING: FIR normalized: sum[coef]=9.767192E-01;     \n"
     ]
    },
    {
     "name": "stdout",
     "output_type": "stream",
     "text": [
      "[##                                      ] | 5% Completed | 90.17 s"
     ]
    },
    {
     "name": "stderr",
     "output_type": "stream",
     "text": [
      " WARNING: FIR normalized: sum[coef]=9.767192E-01;     \n",
      " WARNING: FIR normalized: sum[coef]=9.767192E-01;     \n",
      " WARNING: FIR normalized: sum[coef]=9.767192E-01;     \n",
      " WARNING: FIR normalized: sum[coef]=9.767192E-01;     \n",
      " WARNING: FIR normalized: sum[coef]=9.767192E-01;     \n",
      " WARNING: FIR normalized: sum[coef]=9.767192E-01;     \n",
      " WARNING: FIR normalized: sum[coef]=9.767192E-01;     \n"
     ]
    },
    {
     "name": "stdout",
     "output_type": "stream",
     "text": [
      "[##                                      ] | 5% Completed | 90.43 s"
     ]
    },
    {
     "name": "stderr",
     "output_type": "stream",
     "text": [
      " WARNING: FIR normalized: sum[coef]=9.767192E-01;     \n",
      " WARNING: FIR normalized: sum[coef]=9.767192E-01;     \n",
      " WARNING: FIR normalized: sum[coef]=9.767192E-01;     \n",
      " WARNING: FIR normalized: sum[coef]=9.767192E-01;     \n",
      " WARNING: FIR normalized: sum[coef]=9.767192E-01;     \n",
      " WARNING: FIR normalized: sum[coef]=9.767192E-01;     \n",
      " WARNING: FIR normalized: sum[coef]=9.767192E-01;     \n"
     ]
    },
    {
     "name": "stdout",
     "output_type": "stream",
     "text": [
      "[##                                      ] | 5% Completed | 90.67 s"
     ]
    },
    {
     "name": "stderr",
     "output_type": "stream",
     "text": [
      " WARNING: FIR normalized: sum[coef]=9.767192E-01;     \n",
      " WARNING: FIR normalized: sum[coef]=9.767192E-01;     \n",
      " WARNING: FIR normalized: sum[coef]=9.767192E-01;     \n",
      " WARNING: FIR normalized: sum[coef]=9.767192E-01;     \n",
      " WARNING: FIR normalized: sum[coef]=9.767192E-01;     \n",
      " WARNING: FIR normalized: sum[coef]=9.767192E-01;     \n",
      " WARNING: FIR normalized: sum[coef]=9.767192E-01;     \n",
      " WARNING: FIR normalized: sum[coef]=9.767192E-01;     \n",
      " WARNING: FIR normalized: sum[coef]=9.767192E-01;     \n",
      " WARNING: FIR normalized: sum[coef]=9.767192E-01;     \n"
     ]
    },
    {
     "name": "stdout",
     "output_type": "stream",
     "text": [
      "[##                                      ] | 5% Completed | 90.91 s"
     ]
    },
    {
     "name": "stderr",
     "output_type": "stream",
     "text": [
      " WARNING: FIR normalized: sum[coef]=9.767192E-01;     \n",
      " WARNING: FIR normalized: sum[coef]=9.767192E-01;     \n",
      " WARNING: FIR normalized: sum[coef]=9.767192E-01;     \n",
      " WARNING: FIR normalized: sum[coef]=9.767192E-01;     \n",
      " WARNING: FIR normalized: sum[coef]=9.767192E-01;     \n",
      " WARNING: FIR normalized: sum[coef]=9.767192E-01;     \n",
      " WARNING: FIR normalized: sum[coef]=9.767192E-01;     \n",
      " WARNING: FIR normalized: sum[coef]=9.767192E-01;     \n",
      " WARNING: FIR normalized: sum[coef]=9.767192E-01;     \n"
     ]
    },
    {
     "name": "stdout",
     "output_type": "stream",
     "text": [
      "[##                                      ] | 6% Completed | 91.13 s"
     ]
    },
    {
     "name": "stderr",
     "output_type": "stream",
     "text": [
      " WARNING: FIR normalized: sum[coef]=9.767192E-01;     \n",
      " WARNING: FIR normalized: sum[coef]=9.767192E-01;     \n",
      " WARNING: FIR normalized: sum[coef]=9.767192E-01;     \n",
      " WARNING: FIR normalized: sum[coef]=9.767192E-01;     \n",
      " WARNING: FIR normalized: sum[coef]=9.767192E-01;     \n",
      " WARNING: FIR normalized: sum[coef]=9.767192E-01;     \n",
      " WARNING: FIR normalized: sum[coef]=9.767192E-01;     \n",
      " WARNING: FIR normalized: sum[coef]=9.767192E-01;     \n",
      " WARNING: FIR normalized: sum[coef]=9.767192E-01;     \n",
      " WARNING: FIR normalized: sum[coef]=9.767192E-01;     \n"
     ]
    },
    {
     "name": "stdout",
     "output_type": "stream",
     "text": [
      "[##                                      ] | 6% Completed | 91.37 s"
     ]
    },
    {
     "name": "stderr",
     "output_type": "stream",
     "text": [
      " WARNING: FIR normalized: sum[coef]=9.767192E-01;     \n",
      " WARNING: FIR normalized: sum[coef]=9.767192E-01;     \n",
      " WARNING: FIR normalized: sum[coef]=9.767192E-01;     \n",
      " WARNING: FIR normalized: sum[coef]=9.767192E-01;     \n",
      " WARNING: FIR normalized: sum[coef]=9.767192E-01;     \n",
      " WARNING: FIR normalized: sum[coef]=9.767192E-01;     \n",
      " WARNING: FIR normalized: sum[coef]=9.767192E-01;     \n",
      " WARNING: FIR normalized: sum[coef]=9.767192E-01;     \n",
      " WARNING: FIR normalized: sum[coef]=9.767192E-01;     \n"
     ]
    },
    {
     "name": "stdout",
     "output_type": "stream",
     "text": [
      "[##                                      ] | 6% Completed | 91.60 s"
     ]
    },
    {
     "name": "stderr",
     "output_type": "stream",
     "text": [
      " WARNING: FIR normalized: sum[coef]=9.767192E-01;     \n",
      " WARNING: FIR normalized: sum[coef]=9.767192E-01;     \n",
      " WARNING: FIR normalized: sum[coef]=9.767192E-01;     \n",
      " WARNING: FIR normalized: sum[coef]=9.767192E-01;     \n",
      " WARNING: FIR normalized: sum[coef]=9.767192E-01;     \n"
     ]
    },
    {
     "name": "stdout",
     "output_type": "stream",
     "text": [
      "[##                                      ] | 6% Completed | 91.83 s"
     ]
    },
    {
     "name": "stderr",
     "output_type": "stream",
     "text": [
      " WARNING: FIR normalized: sum[coef]=9.767192E-01;     \n",
      " WARNING: FIR normalized: sum[coef]=9.767192E-01;     \n",
      " WARNING: FIR normalized: sum[coef]=9.767192E-01;     \n",
      " WARNING: FIR normalized: sum[coef]=9.767192E-01;     \n",
      " WARNING: FIR normalized: sum[coef]=9.767192E-01;     \n",
      " WARNING: FIR normalized: sum[coef]=9.767192E-01;     \n",
      " WARNING: FIR normalized: sum[coef]=9.767192E-01;     \n"
     ]
    },
    {
     "name": "stdout",
     "output_type": "stream",
     "text": [
      "[##                                      ] | 6% Completed | 92.07 s"
     ]
    },
    {
     "name": "stderr",
     "output_type": "stream",
     "text": [
      " WARNING: FIR normalized: sum[coef]=9.767192E-01;     \n",
      " WARNING: FIR normalized: sum[coef]=9.767192E-01;     \n",
      " WARNING: FIR normalized: sum[coef]=9.767192E-01;     \n",
      " WARNING: FIR normalized: sum[coef]=9.767192E-01;     \n",
      " WARNING: FIR normalized: sum[coef]=9.767192E-01;     \n",
      " WARNING: FIR normalized: sum[coef]=9.767192E-01;     \n",
      " WARNING: FIR normalized: sum[coef]=9.767192E-01;     \n",
      " WARNING: FIR normalized: sum[coef]=9.767192E-01;     \n",
      " WARNING: FIR normalized: sum[coef]=9.767192E-01;     \n",
      " WARNING: FIR normalized: sum[coef]=9.767192E-01;     \n"
     ]
    },
    {
     "name": "stdout",
     "output_type": "stream",
     "text": [
      "[##                                      ] | 6% Completed | 92.32 s"
     ]
    },
    {
     "name": "stderr",
     "output_type": "stream",
     "text": [
      " WARNING: FIR normalized: sum[coef]=9.767192E-01;     \n",
      " WARNING: FIR normalized: sum[coef]=9.767192E-01;     \n",
      " WARNING: FIR normalized: sum[coef]=9.767192E-01;     \n",
      " WARNING: FIR normalized: sum[coef]=9.767192E-01;     \n",
      " WARNING: FIR normalized: sum[coef]=9.767192E-01;     \n",
      " WARNING: FIR normalized: sum[coef]=9.767192E-01;     \n",
      " WARNING: FIR normalized: sum[coef]=9.767192E-01;     \n",
      " WARNING: FIR normalized: sum[coef]=9.767192E-01;     \n",
      " WARNING: FIR normalized: sum[coef]=9.767192E-01;     \n",
      " WARNING: FIR normalized: sum[coef]=9.767192E-01;     \n",
      " WARNING: FIR normalized: sum[coef]=9.767192E-01;     \n"
     ]
    },
    {
     "name": "stdout",
     "output_type": "stream",
     "text": [
      "[##                                      ] | 6% Completed | 92.44 s"
     ]
    },
    {
     "name": "stderr",
     "output_type": "stream",
     "text": [
      " WARNING: FIR normalized: sum[coef]=9.767192E-01;     \n",
      " WARNING: FIR normalized: sum[coef]=9.767192E-01;     \n",
      " WARNING: FIR normalized: sum[coef]=9.767192E-01;     \n",
      " WARNING: FIR normalized: sum[coef]=9.767192E-01;     \n",
      " WARNING: FIR normalized: sum[coef]=9.767192E-01;     \n",
      " WARNING: FIR normalized: sum[coef]=9.767192E-01;     \n"
     ]
    },
    {
     "name": "stdout",
     "output_type": "stream",
     "text": [
      "[##                                      ] | 6% Completed | 92.79 s"
     ]
    },
    {
     "name": "stderr",
     "output_type": "stream",
     "text": [
      " WARNING: FIR normalized: sum[coef]=9.767192E-01;     \n",
      " WARNING: FIR normalized: sum[coef]=9.767192E-01;     \n",
      " WARNING: FIR normalized: sum[coef]=9.767192E-01;     \n",
      " WARNING: FIR normalized: sum[coef]=9.767192E-01;     \n",
      " WARNING: FIR normalized: sum[coef]=9.767192E-01;     \n",
      " WARNING: FIR normalized: sum[coef]=9.767192E-01;     \n"
     ]
    },
    {
     "name": "stdout",
     "output_type": "stream",
     "text": [
      "[##                                      ] | 6% Completed | 93.02 s"
     ]
    },
    {
     "name": "stderr",
     "output_type": "stream",
     "text": [
      " WARNING: FIR normalized: sum[coef]=9.767192E-01;     \n",
      " WARNING: FIR normalized: sum[coef]=9.767192E-01;     \n",
      " WARNING: FIR normalized: sum[coef]=9.767192E-01;     \n",
      " WARNING: FIR normalized: sum[coef]=9.767192E-01;     \n",
      " WARNING: FIR normalized: sum[coef]=9.767192E-01;     \n",
      " WARNING: FIR normalized: sum[coef]=9.767192E-01;     \n",
      " WARNING: FIR normalized: sum[coef]=9.767192E-01;     \n",
      " WARNING: FIR normalized: sum[coef]=9.767192E-01;     \n",
      " WARNING: FIR normalized: sum[coef]=9.767192E-01;     \n",
      " WARNING: FIR normalized: sum[coef]=9.767192E-01;     \n",
      " WARNING: FIR normalized: sum[coef]=9.767192E-01;     \n",
      " WARNING: FIR normalized: sum[coef]=9.767192E-01;     \n"
     ]
    },
    {
     "name": "stdout",
     "output_type": "stream",
     "text": [
      "[##                                      ] | 6% Completed | 93.26 s"
     ]
    },
    {
     "name": "stderr",
     "output_type": "stream",
     "text": [
      " WARNING: FIR normalized: sum[coef]=9.767192E-01;     \n",
      " WARNING: FIR normalized: sum[coef]=9.767192E-01;     \n",
      " WARNING: FIR normalized: sum[coef]=9.767192E-01;     \n",
      " WARNING: FIR normalized: sum[coef]=9.767192E-01;     \n",
      " WARNING: FIR normalized: sum[coef]=9.767192E-01;     \n",
      " WARNING: FIR normalized: sum[coef]=9.767192E-01;     \n",
      " WARNING: FIR normalized: sum[coef]=9.767192E-01;     \n",
      " WARNING: FIR normalized: sum[coef]=9.767192E-01;     \n"
     ]
    },
    {
     "name": "stdout",
     "output_type": "stream",
     "text": [
      "[##                                      ] | 6% Completed | 93.51 s"
     ]
    },
    {
     "name": "stderr",
     "output_type": "stream",
     "text": [
      " WARNING: FIR normalized: sum[coef]=9.767192E-01;     \n",
      " WARNING: FIR normalized: sum[coef]=9.767192E-01;     \n",
      " WARNING: FIR normalized: sum[coef]=9.767192E-01;     \n",
      " WARNING: FIR normalized: sum[coef]=9.767192E-01;     \n",
      " WARNING: FIR normalized: sum[coef]=9.767192E-01;     \n",
      " WARNING: FIR normalized: sum[coef]=9.767192E-01;     \n",
      " WARNING: FIR normalized: sum[coef]=9.767192E-01;     \n"
     ]
    },
    {
     "name": "stdout",
     "output_type": "stream",
     "text": [
      "[##                                      ] | 6% Completed | 93.75 s"
     ]
    },
    {
     "name": "stderr",
     "output_type": "stream",
     "text": [
      " WARNING: FIR normalized: sum[coef]=9.767192E-01;     \n",
      " WARNING: FIR normalized: sum[coef]=9.767192E-01;     \n",
      " WARNING: FIR normalized: sum[coef]=9.767192E-01;     \n",
      " WARNING: FIR normalized: sum[coef]=9.767192E-01;     \n",
      " WARNING: FIR normalized: sum[coef]=9.767192E-01;     \n",
      " WARNING: FIR normalized: sum[coef]=9.767192E-01;     \n",
      " WARNING: FIR normalized: sum[coef]=9.767192E-01;     \n",
      " WARNING: FIR normalized: sum[coef]=9.767192E-01;     \n",
      " WARNING: FIR normalized: sum[coef]=9.767192E-01;     \n"
     ]
    },
    {
     "name": "stdout",
     "output_type": "stream",
     "text": [
      "[##                                      ] | 7% Completed | 94.01 s"
     ]
    },
    {
     "name": "stderr",
     "output_type": "stream",
     "text": [
      " WARNING: FIR normalized: sum[coef]=9.767192E-01;     \n",
      " WARNING: FIR normalized: sum[coef]=9.767192E-01;     \n",
      " WARNING: FIR normalized: sum[coef]=9.767192E-01;     \n",
      " WARNING: FIR normalized: sum[coef]=9.767192E-01;     \n",
      " WARNING: FIR normalized: sum[coef]=9.767192E-01;     \n",
      " WARNING: FIR normalized: sum[coef]=9.767192E-01;     \n",
      " WARNING: FIR normalized: sum[coef]=9.767192E-01;     \n",
      " WARNING: FIR normalized: sum[coef]=9.767192E-01;     \n"
     ]
    },
    {
     "name": "stdout",
     "output_type": "stream",
     "text": [
      "[##                                      ] | 7% Completed | 94.23 s"
     ]
    },
    {
     "name": "stderr",
     "output_type": "stream",
     "text": [
      " WARNING: FIR normalized: sum[coef]=9.767192E-01;     \n",
      " WARNING: FIR normalized: sum[coef]=9.767192E-01;     \n",
      " WARNING: FIR normalized: sum[coef]=9.767192E-01;     \n",
      " WARNING: FIR normalized: sum[coef]=9.767192E-01;     \n",
      " WARNING: FIR normalized: sum[coef]=9.767192E-01;     \n",
      " WARNING: FIR normalized: sum[coef]=9.767192E-01;     \n"
     ]
    },
    {
     "name": "stdout",
     "output_type": "stream",
     "text": [
      "[##                                      ] | 7% Completed | 94.46 s"
     ]
    },
    {
     "name": "stderr",
     "output_type": "stream",
     "text": [
      " WARNING: FIR normalized: sum[coef]=9.767192E-01;     \n",
      " WARNING: FIR normalized: sum[coef]=9.767192E-01;     \n",
      " WARNING: FIR normalized: sum[coef]=9.767192E-01;     \n",
      " WARNING: FIR normalized: sum[coef]=9.767192E-01;     \n",
      " WARNING: FIR normalized: sum[coef]=9.767192E-01;     \n",
      " WARNING: FIR normalized: sum[coef]=9.767192E-01;     \n",
      " WARNING: FIR normalized: sum[coef]=9.767192E-01;     \n",
      " WARNING: FIR normalized: sum[coef]=9.767192E-01;     \n"
     ]
    },
    {
     "name": "stdout",
     "output_type": "stream",
     "text": [
      "[##                                      ] | 7% Completed | 94.69 s"
     ]
    },
    {
     "name": "stderr",
     "output_type": "stream",
     "text": [
      " WARNING: FIR normalized: sum[coef]=9.767192E-01;     \n",
      " WARNING: FIR normalized: sum[coef]=9.767192E-01;     \n",
      " WARNING: FIR normalized: sum[coef]=9.767192E-01;     \n",
      " WARNING: FIR normalized: sum[coef]=9.767192E-01;     \n",
      " WARNING: FIR normalized: sum[coef]=9.767192E-01;     \n",
      " WARNING: FIR normalized: sum[coef]=9.767192E-01;     \n",
      " WARNING: FIR normalized: sum[coef]=9.767192E-01;     \n"
     ]
    },
    {
     "name": "stdout",
     "output_type": "stream",
     "text": [
      "[##                                      ] | 7% Completed | 94.94 s"
     ]
    },
    {
     "name": "stderr",
     "output_type": "stream",
     "text": [
      " WARNING: FIR normalized: sum[coef]=9.767192E-01;     \n",
      " WARNING: FIR normalized: sum[coef]=9.767192E-01;     \n",
      " WARNING: FIR normalized: sum[coef]=9.767192E-01;     \n",
      " WARNING: FIR normalized: sum[coef]=9.767192E-01;     \n",
      " WARNING: FIR normalized: sum[coef]=9.767192E-01;     \n",
      " WARNING: FIR normalized: sum[coef]=9.767192E-01;     \n",
      " WARNING: FIR normalized: sum[coef]=9.767192E-01;     \n",
      " WARNING: FIR normalized: sum[coef]=9.767192E-01;     \n",
      " WARNING: FIR normalized: sum[coef]=9.767192E-01;     \n",
      " WARNING: FIR normalized: sum[coef]=9.767192E-01;     \n",
      " WARNING: FIR normalized: sum[coef]=9.767192E-01;     \n"
     ]
    },
    {
     "name": "stdout",
     "output_type": "stream",
     "text": [
      "[##                                      ] | 7% Completed | 95.04 s"
     ]
    },
    {
     "name": "stderr",
     "output_type": "stream",
     "text": [
      " WARNING: FIR normalized: sum[coef]=9.767192E-01;     \n",
      " WARNING: FIR normalized: sum[coef]=9.767192E-01;     \n",
      " WARNING: FIR normalized: sum[coef]=9.767192E-01;     \n",
      " WARNING: FIR normalized: sum[coef]=9.767192E-01;     \n"
     ]
    },
    {
     "name": "stdout",
     "output_type": "stream",
     "text": [
      "[##                                      ] | 7% Completed | 95.28 s"
     ]
    },
    {
     "name": "stderr",
     "output_type": "stream",
     "text": [
      " WARNING: FIR normalized: sum[coef]=9.767192E-01;     \n",
      " WARNING: FIR normalized: sum[coef]=9.767192E-01;     \n",
      " WARNING: FIR normalized: sum[coef]=9.767192E-01;     \n",
      " WARNING: FIR normalized: sum[coef]=9.767192E-01;     \n"
     ]
    },
    {
     "name": "stdout",
     "output_type": "stream",
     "text": [
      "[###                                     ] | 7% Completed | 95.53 s"
     ]
    },
    {
     "name": "stderr",
     "output_type": "stream",
     "text": [
      " WARNING: FIR normalized: sum[coef]=9.767192E-01;     \n",
      " WARNING: FIR normalized: sum[coef]=9.767192E-01;     \n",
      " WARNING: FIR normalized: sum[coef]=9.767192E-01;     \n",
      " WARNING: FIR normalized: sum[coef]=9.767192E-01;     \n",
      " WARNING: FIR normalized: sum[coef]=9.767192E-01;     \n",
      " WARNING: FIR normalized: sum[coef]=9.767192E-01;     \n",
      " WARNING: FIR normalized: sum[coef]=9.767192E-01;     \n"
     ]
    },
    {
     "name": "stdout",
     "output_type": "stream",
     "text": [
      "[###                                     ] | 7% Completed | 95.80 s"
     ]
    },
    {
     "name": "stderr",
     "output_type": "stream",
     "text": [
      " WARNING: FIR normalized: sum[coef]=9.767192E-01;     \n",
      " WARNING: FIR normalized: sum[coef]=9.767192E-01;     \n",
      " WARNING: FIR normalized: sum[coef]=9.767192E-01;     \n",
      " WARNING: FIR normalized: sum[coef]=9.767192E-01;     \n",
      " WARNING: FIR normalized: sum[coef]=9.767192E-01;     \n",
      " WARNING: FIR normalized: sum[coef]=9.767192E-01;     \n",
      " WARNING: FIR normalized: sum[coef]=9.767192E-01;     \n",
      " WARNING: FIR normalized: sum[coef]=9.767192E-01;     \n",
      " WARNING: FIR normalized: sum[coef]=9.767192E-01;     \n",
      " WARNING: FIR normalized: sum[coef]=9.767192E-01;     \n"
     ]
    },
    {
     "name": "stdout",
     "output_type": "stream",
     "text": [
      "[###                                     ] | 8% Completed | 96.03 s"
     ]
    },
    {
     "name": "stderr",
     "output_type": "stream",
     "text": [
      " WARNING: FIR normalized: sum[coef]=9.767192E-01;     \n",
      " WARNING: FIR normalized: sum[coef]=9.767192E-01;     \n",
      " WARNING: FIR normalized: sum[coef]=9.767192E-01;     \n",
      " WARNING: FIR normalized: sum[coef]=9.767192E-01;     \n",
      " WARNING: FIR normalized: sum[coef]=9.767192E-01;     \n",
      " WARNING: FIR normalized: sum[coef]=9.767192E-01;     \n",
      " WARNING: FIR normalized: sum[coef]=9.767192E-01;     \n"
     ]
    },
    {
     "name": "stdout",
     "output_type": "stream",
     "text": [
      "[###                                     ] | 8% Completed | 96.28 s"
     ]
    },
    {
     "name": "stderr",
     "output_type": "stream",
     "text": [
      " WARNING: FIR normalized: sum[coef]=9.767192E-01;     \n",
      " WARNING: FIR normalized: sum[coef]=9.767192E-01;     \n",
      " WARNING: FIR normalized: sum[coef]=9.767192E-01;     \n",
      " WARNING: FIR normalized: sum[coef]=9.767192E-01;     \n",
      " WARNING: FIR normalized: sum[coef]=9.767192E-01;     \n",
      " WARNING: FIR normalized: sum[coef]=9.767192E-01;     \n",
      " WARNING: FIR normalized: sum[coef]=9.767192E-01;     \n",
      " WARNING: FIR normalized: sum[coef]=9.767192E-01;     \n",
      " WARNING: FIR normalized: sum[coef]=9.767192E-01;     \n"
     ]
    },
    {
     "name": "stdout",
     "output_type": "stream",
     "text": [
      "[###                                     ] | 8% Completed | 96.54 s"
     ]
    },
    {
     "name": "stderr",
     "output_type": "stream",
     "text": [
      " WARNING: FIR normalized: sum[coef]=9.767192E-01;     \n",
      " WARNING: FIR normalized: sum[coef]=9.767192E-01;     \n",
      " WARNING: FIR normalized: sum[coef]=9.767192E-01;     \n",
      " WARNING: FIR normalized: sum[coef]=9.767192E-01;     \n"
     ]
    },
    {
     "name": "stdout",
     "output_type": "stream",
     "text": [
      "[###                                     ] | 8% Completed | 96.78 s"
     ]
    },
    {
     "name": "stderr",
     "output_type": "stream",
     "text": [
      " WARNING: FIR normalized: sum[coef]=9.767192E-01;     \n",
      " WARNING: FIR normalized: sum[coef]=9.767192E-01;     \n",
      " WARNING: FIR normalized: sum[coef]=9.767192E-01;     \n",
      " WARNING: FIR normalized: sum[coef]=9.767192E-01;     \n",
      " WARNING: FIR normalized: sum[coef]=9.767192E-01;     \n"
     ]
    },
    {
     "name": "stdout",
     "output_type": "stream",
     "text": [
      "[###                                     ] | 8% Completed | 96.90 s"
     ]
    },
    {
     "name": "stderr",
     "output_type": "stream",
     "text": [
      " WARNING: FIR normalized: sum[coef]=9.767192E-01;     \n",
      " WARNING: FIR normalized: sum[coef]=9.767192E-01;     \n",
      " WARNING: FIR normalized: sum[coef]=9.767192E-01;     \n",
      " WARNING: FIR normalized: sum[coef]=9.767192E-01;     \n",
      " WARNING: FIR normalized: sum[coef]=9.767192E-01;     \n",
      " WARNING: FIR normalized: sum[coef]=9.767192E-01;     \n",
      " WARNING: FIR normalized: sum[coef]=9.767192E-01;     \n",
      " WARNING: FIR normalized: sum[coef]=9.767192E-01;     \n",
      " WARNING: FIR normalized: sum[coef]=9.767192E-01;     \n",
      " WARNING: FIR normalized: sum[coef]=9.767192E-01;     \n",
      " WARNING: FIR normalized: sum[coef]=9.767192E-01;     \n"
     ]
    },
    {
     "name": "stdout",
     "output_type": "stream",
     "text": [
      "[###                                     ] | 8% Completed | 97.15 s"
     ]
    },
    {
     "name": "stderr",
     "output_type": "stream",
     "text": [
      " WARNING: FIR normalized: sum[coef]=9.767192E-01;     \n",
      " WARNING: FIR normalized: sum[coef]=9.767192E-01;     \n",
      " WARNING: FIR normalized: sum[coef]=9.767192E-01;     \n",
      " WARNING: FIR normalized: sum[coef]=9.767192E-01;     \n",
      " WARNING: FIR normalized: sum[coef]=9.767192E-01;     \n",
      " WARNING: FIR normalized: sum[coef]=9.767192E-01;     \n",
      " WARNING: FIR normalized: sum[coef]=9.767192E-01;     \n"
     ]
    },
    {
     "name": "stdout",
     "output_type": "stream",
     "text": [
      "[###                                     ] | 9% Completed | 97.41 s"
     ]
    },
    {
     "name": "stderr",
     "output_type": "stream",
     "text": [
      " WARNING: FIR normalized: sum[coef]=9.767192E-01;     \n",
      " WARNING: FIR normalized: sum[coef]=9.767192E-01;     \n",
      " WARNING: FIR normalized: sum[coef]=9.767192E-01;     \n",
      " WARNING: FIR normalized: sum[coef]=9.767192E-01;     \n",
      " WARNING: FIR normalized: sum[coef]=9.767192E-01;     \n",
      " WARNING: FIR normalized: sum[coef]=9.767192E-01;     \n"
     ]
    },
    {
     "name": "stdout",
     "output_type": "stream",
     "text": [
      "[###                                     ] | 9% Completed | 97.66 s"
     ]
    },
    {
     "name": "stderr",
     "output_type": "stream",
     "text": [
      " WARNING: FIR normalized: sum[coef]=9.767192E-01;     \n",
      " WARNING: FIR normalized: sum[coef]=9.767192E-01;     \n",
      " WARNING: FIR normalized: sum[coef]=9.767192E-01;     \n"
     ]
    },
    {
     "name": "stdout",
     "output_type": "stream",
     "text": [
      "[###                                     ] | 9% Completed | 97.93 s"
     ]
    },
    {
     "name": "stderr",
     "output_type": "stream",
     "text": [
      " WARNING: FIR normalized: sum[coef]=9.767192E-01;     \n",
      " WARNING: FIR normalized: sum[coef]=9.767192E-01;     \n",
      " WARNING: FIR normalized: sum[coef]=9.767192E-01;     \n",
      " WARNING: FIR normalized: sum[coef]=9.767192E-01;     \n",
      " WARNING: FIR normalized: sum[coef]=9.767192E-01;     \n",
      " WARNING: FIR normalized: sum[coef]=9.767192E-01;     \n",
      " WARNING: FIR normalized: sum[coef]=9.767192E-01;     \n",
      " WARNING: FIR normalized: sum[coef]=9.767192E-01;     \n",
      " WARNING: FIR normalized: sum[coef]=9.767192E-01;     \n",
      " WARNING: FIR normalized: sum[coef]=9.767192E-01;     \n"
     ]
    },
    {
     "name": "stdout",
     "output_type": "stream",
     "text": [
      "[###                                     ] | 9% Completed | 98.31 s"
     ]
    },
    {
     "name": "stderr",
     "output_type": "stream",
     "text": [
      " WARNING: FIR normalized: sum[coef]=9.767192E-01;     \n",
      " WARNING: FIR normalized: sum[coef]=9.767192E-01;     \n",
      " WARNING: FIR normalized: sum[coef]=9.767192E-01;     \n",
      " WARNING: FIR normalized: sum[coef]=9.767192E-01;     \n",
      " WARNING: FIR normalized: sum[coef]=9.767192E-01;     \n",
      " WARNING: FIR normalized: sum[coef]=9.767192E-01;     \n",
      " WARNING: FIR normalized: sum[coef]=9.767192E-01;     \n",
      " WARNING: FIR normalized: sum[coef]=9.767192E-01;     \n",
      " WARNING: FIR normalized: sum[coef]=9.767192E-01;     \n",
      " WARNING: FIR normalized: sum[coef]=9.767192E-01;     \n"
     ]
    },
    {
     "name": "stdout",
     "output_type": "stream",
     "text": [
      "[###                                     ] | 9% Completed | 98.42 s[2013-05-12T23:43:20.000000Z] No data or fatal error during detection/classification: list index out of range\n",
      "[####                                    ] | 10% Completed | 98.54 s"
     ]
    },
    {
     "name": "stderr",
     "output_type": "stream",
     "text": [
      " WARNING: FIR normalized: sum[coef]=9.767192E-01;     \n",
      " WARNING: FIR normalized: sum[coef]=9.767192E-01;     \n"
     ]
    },
    {
     "name": "stdout",
     "output_type": "stream",
     "text": [
      "[####                                    ] | 10% Completed | 98.79 s"
     ]
    },
    {
     "name": "stderr",
     "output_type": "stream",
     "text": [
      " WARNING: FIR normalized: sum[coef]=9.767192E-01;     \n",
      " WARNING: FIR normalized: sum[coef]=9.767192E-01;     \n",
      " WARNING: FIR normalized: sum[coef]=9.767192E-01;     \n",
      " WARNING: FIR normalized: sum[coef]=9.767192E-01;     \n",
      " WARNING: FIR normalized: sum[coef]=9.767192E-01;     \n"
     ]
    },
    {
     "name": "stdout",
     "output_type": "stream",
     "text": [
      "[####                                    ] | 10% Completed | 99.03 s"
     ]
    },
    {
     "name": "stderr",
     "output_type": "stream",
     "text": [
      " WARNING: FIR normalized: sum[coef]=9.767192E-01;     \n",
      " WARNING: FIR normalized: sum[coef]=9.767192E-01;     \n",
      " WARNING: FIR normalized: sum[coef]=9.767192E-01;     \n",
      " WARNING: FIR normalized: sum[coef]=9.767192E-01;     \n",
      " WARNING: FIR normalized: sum[coef]=9.767192E-01;     \n",
      " WARNING: FIR normalized: sum[coef]=9.767192E-01;     \n",
      " WARNING: FIR normalized: sum[coef]=9.767192E-01;     \n",
      " WARNING: FIR normalized: sum[coef]=9.767192E-01;     \n"
     ]
    },
    {
     "name": "stdout",
     "output_type": "stream",
     "text": [
      "[####                                    ] | 10% Completed | 99.28 s"
     ]
    },
    {
     "name": "stderr",
     "output_type": "stream",
     "text": [
      " WARNING: FIR normalized: sum[coef]=9.767192E-01;     \n",
      " WARNING: FIR normalized: sum[coef]=9.767192E-01;     \n",
      " WARNING: FIR normalized: sum[coef]=9.767192E-01;     \n",
      " WARNING: FIR normalized: sum[coef]=9.767192E-01;     \n",
      " WARNING: FIR normalized: sum[coef]=9.767192E-01;     \n",
      " WARNING: FIR normalized: sum[coef]=9.767192E-01;     \n",
      " WARNING: FIR normalized: sum[coef]=9.767192E-01;     \n",
      " WARNING: FIR normalized: sum[coef]=9.767192E-01;     \n",
      " WARNING: FIR normalized: sum[coef]=9.767192E-01;     \n",
      " WARNING: FIR normalized: sum[coef]=9.767192E-01;     \n"
     ]
    },
    {
     "name": "stdout",
     "output_type": "stream",
     "text": [
      "[####                                    ] | 10% Completed | 99.53 s"
     ]
    },
    {
     "name": "stderr",
     "output_type": "stream",
     "text": [
      " WARNING: FIR normalized: sum[coef]=9.767192E-01;     \n",
      " WARNING: FIR normalized: sum[coef]=9.767192E-01;     \n",
      " WARNING: FIR normalized: sum[coef]=9.767192E-01;     \n"
     ]
    },
    {
     "name": "stdout",
     "output_type": "stream",
     "text": [
      "[####                                    ] | 10% Completed | 99.77 s"
     ]
    },
    {
     "name": "stderr",
     "output_type": "stream",
     "text": [
      " WARNING: FIR normalized: sum[coef]=9.767192E-01;     \n",
      " WARNING: FIR normalized: sum[coef]=9.767192E-01;     \n",
      " WARNING: FIR normalized: sum[coef]=9.767192E-01;     \n",
      " WARNING: FIR normalized: sum[coef]=9.767192E-01;     \n",
      " WARNING: FIR normalized: sum[coef]=9.767192E-01;     \n"
     ]
    },
    {
     "name": "stdout",
     "output_type": "stream",
     "text": [
      "[####                                    ] | 10% Completed | 100.03 s"
     ]
    },
    {
     "name": "stderr",
     "output_type": "stream",
     "text": [
      " WARNING: FIR normalized: sum[coef]=9.767192E-01;     \n",
      " WARNING: FIR normalized: sum[coef]=9.767192E-01;     \n",
      " WARNING: FIR normalized: sum[coef]=9.767192E-01;     \n",
      " WARNING: FIR normalized: sum[coef]=9.767192E-01;     \n",
      " WARNING: FIR normalized: sum[coef]=9.767192E-01;     \n",
      " WARNING: FIR normalized: sum[coef]=9.767192E-01;     \n"
     ]
    },
    {
     "name": "stdout",
     "output_type": "stream",
     "text": [
      "[####                                    ] | 10% Completed | 100.27 s"
     ]
    },
    {
     "name": "stderr",
     "output_type": "stream",
     "text": [
      " WARNING: FIR normalized: sum[coef]=9.767192E-01;     \n",
      " WARNING: FIR normalized: sum[coef]=9.767192E-01;     \n",
      " WARNING: FIR normalized: sum[coef]=9.767192E-01;     \n",
      " WARNING: FIR normalized: sum[coef]=9.767192E-01;     \n",
      " WARNING: FIR normalized: sum[coef]=9.767192E-01;     \n",
      " WARNING: FIR normalized: sum[coef]=9.767192E-01;     \n",
      " WARNING: FIR normalized: sum[coef]=9.767192E-01;     \n",
      " WARNING: FIR normalized: sum[coef]=9.767192E-01;     \n",
      " WARNING: FIR normalized: sum[coef]=9.767192E-01;     \n",
      " WARNING: FIR normalized: sum[coef]=9.767192E-01; "
     ]
    },
    {
     "name": "stdout",
     "output_type": "stream",
     "text": [
      "[####                                    ] | 10% Completed | 100.50 s"
     ]
    },
    {
     "name": "stderr",
     "output_type": "stream",
     "text": [
      "    \n",
      " WARNING: FIR normalized: sum[coef]=9.767192E-01;     \n",
      " WARNING: FIR normalized: sum[coef]=9.767192E-01;     \n",
      " WARNING: FIR normalized: sum[coef]=9.767192E-01;     \n",
      " WARNING: FIR normalized: sum[coef]=9.767192E-01;     \n",
      " WARNING: FIR normalized: sum[coef]=9.767192E-01;     \n",
      " WARNING: FIR normalized: sum[coef]=9.767192E-01;     \n"
     ]
    },
    {
     "name": "stdout",
     "output_type": "stream",
     "text": [
      "[####                                    ] | 10% Completed | 100.86 s"
     ]
    },
    {
     "name": "stderr",
     "output_type": "stream",
     "text": [
      " WARNING: FIR normalized: sum[coef]=9.767192E-01;     \n",
      " WARNING: FIR normalized: sum[coef]=9.767192E-01;     \n",
      " WARNING: FIR normalized: sum[coef]=9.767192E-01;     \n",
      " WARNING: FIR normalized: sum[coef]=9.767192E-01;     \n",
      " WARNING: FIR normalized: sum[coef]=9.767192E-01;     \n"
     ]
    },
    {
     "name": "stdout",
     "output_type": "stream",
     "text": [
      "[####                                    ] | 10% Completed | 101.10 s"
     ]
    },
    {
     "name": "stderr",
     "output_type": "stream",
     "text": [
      " WARNING: FIR normalized: sum[coef]=9.767192E-01;     \n",
      " WARNING: FIR normalized: sum[coef]=9.767192E-01;     \n",
      " WARNING: FIR normalized: sum[coef]=9.767192E-01;     \n",
      " WARNING: FIR normalized: sum[coef]=9.767192E-01;     \n",
      " WARNING: FIR normalized: sum[coef]=9.767192E-01;     \n",
      " WARNING: FIR normalized: sum[coef]=9.767192E-01;     \n",
      " WARNING: FIR normalized: sum[coef]=9.767192E-01;     \n",
      " WARNING: FIR normalized: sum[coef]=9.767192E-01;     \n",
      " WARNING: FIR normalized: sum[coef]=9.767192E-01;     \n",
      " WARNING: FIR normalized: sum[coef]=9.767192E-01;     \n"
     ]
    },
    {
     "name": "stdout",
     "output_type": "stream",
     "text": [
      "[####                                    ] | 11% Completed | 101.33 s"
     ]
    },
    {
     "name": "stderr",
     "output_type": "stream",
     "text": [
      " WARNING: FIR normalized: sum[coef]=9.767192E-01;     \n",
      " WARNING: FIR normalized: sum[coef]=9.767192E-01;     \n",
      " WARNING: FIR normalized: sum[coef]=9.767192E-01;     \n",
      " WARNING: FIR normalized: sum[coef]=9.767192E-01;     \n",
      " WARNING: FIR normalized: sum[coef]=9.767192E-01;     \n"
     ]
    },
    {
     "name": "stdout",
     "output_type": "stream",
     "text": [
      "[####                                    ] | 12% Completed | 101.57 s"
     ]
    },
    {
     "name": "stderr",
     "output_type": "stream",
     "text": [
      " WARNING: FIR normalized: sum[coef]=9.767192E-01;     \n",
      " WARNING: FIR normalized: sum[coef]=9.767192E-01;     \n",
      " WARNING: FIR normalized: sum[coef]=9.767192E-01;     \n"
     ]
    },
    {
     "name": "stdout",
     "output_type": "stream",
     "text": [
      "[####                                    ] | 12% Completed | 101.81 s"
     ]
    },
    {
     "name": "stderr",
     "output_type": "stream",
     "text": [
      " WARNING: FIR normalized: sum[coef]=9.767192E-01;     \n",
      " WARNING: FIR normalized: sum[coef]=9.767192E-01;     \n",
      " WARNING: FIR normalized: sum[coef]=9.767192E-01;     \n",
      " WARNING: FIR normalized: sum[coef]=9.767192E-01;     \n",
      " WARNING: FIR normalized: sum[coef]=9.767192E-01;     \n",
      " WARNING: FIR normalized: sum[coef]=9.767192E-01;     \n"
     ]
    },
    {
     "name": "stdout",
     "output_type": "stream",
     "text": [
      "[####                                    ] | 12% Completed | 102.04 s"
     ]
    },
    {
     "name": "stderr",
     "output_type": "stream",
     "text": [
      " WARNING: FIR normalized: sum[coef]=9.767192E-01;     \n",
      " WARNING: FIR normalized: sum[coef]=9.767192E-01;     \n",
      " WARNING: FIR normalized: sum[coef]=9.767192E-01;     \n",
      " WARNING: FIR normalized: sum[coef]=9.767192E-01;     \n",
      " WARNING: FIR normalized: sum[coef]=9.767192E-01;     \n",
      " WARNING: FIR normalized: sum[coef]=9.767192E-01;     \n",
      " WARNING: FIR normalized: sum[coef]=9.767192E-01;     \n",
      " WARNING: FIR normalized: sum[coef]=9.767192E-01;     \n"
     ]
    },
    {
     "name": "stdout",
     "output_type": "stream",
     "text": [
      "[####                                    ] | 12% Completed | 102.28 s"
     ]
    },
    {
     "name": "stderr",
     "output_type": "stream",
     "text": [
      " WARNING: FIR normalized: sum[coef]=9.767192E-01;     \n",
      " WARNING: FIR normalized: sum[coef]=9.767192E-01;     \n"
     ]
    },
    {
     "name": "stdout",
     "output_type": "stream",
     "text": [
      "[#####                                   ] | 13% Completed | 102.52 s[2012-10-24T23:43:20.000000Z] No data or fatal error during detection/classification: list index out of range\n"
     ]
    },
    {
     "name": "stderr",
     "output_type": "stream",
     "text": [
      " WARNING: FIR normalized: sum[coef]=9.767192E-01;     \n",
      " WARNING: FIR normalized: sum[coef]=9.767192E-01;     \n",
      " WARNING: FIR normalized: sum[coef]=9.767192E-01;     \n",
      " WARNING: FIR normalized: sum[coef]=9.767192E-01;     \n",
      " WARNING: FIR normalized: sum[coef]=9.767192E-01;     \n",
      " WARNING: FIR normalized: sum[coef]=9.767192E-01;     \n"
     ]
    },
    {
     "name": "stdout",
     "output_type": "stream",
     "text": [
      "[#####                                   ] | 13% Completed | 102.82 s"
     ]
    },
    {
     "name": "stderr",
     "output_type": "stream",
     "text": [
      " WARNING: FIR normalized: sum[coef]=9.767192E-01;     \n",
      " WARNING: FIR normalized: sum[coef]=9.767192E-01;     \n",
      " WARNING: FIR normalized: sum[coef]=9.767192E-01;     \n",
      " WARNING: FIR normalized: sum[coef]=9.767192E-01;     \n"
     ]
    },
    {
     "name": "stdout",
     "output_type": "stream",
     "text": [
      "[#####                                   ] | 13% Completed | 102.96 s"
     ]
    },
    {
     "name": "stderr",
     "output_type": "stream",
     "text": [
      " WARNING: FIR normalized: sum[coef]=9.767192E-01;     \n",
      " WARNING: FIR normalized: sum[coef]=9.767192E-01;     \n",
      " WARNING: FIR normalized: sum[coef]=9.767192E-01;     \n",
      " WARNING: FIR normalized: sum[coef]=9.767192E-01;     \n",
      " WARNING: FIR normalized: sum[coef]=9.767192E-01;     \n"
     ]
    },
    {
     "name": "stdout",
     "output_type": "stream",
     "text": [
      "[#####                                   ] | 13% Completed | 103.32 s"
     ]
    },
    {
     "name": "stderr",
     "output_type": "stream",
     "text": [
      " WARNING: FIR normalized: sum[coef]=9.767192E-01;     \n",
      " WARNING: FIR normalized: sum[coef]=9.767192E-01;     \n",
      " WARNING: FIR normalized: sum[coef]=9.767192E-01;     \n",
      " WARNING: FIR normalized: sum[coef]=9.767192E-01;     \n",
      " WARNING: FIR normalized: sum[coef]=9.767192E-01;     \n",
      " WARNING: FIR normalized: sum[coef]=9.767192E-01;     \n"
     ]
    },
    {
     "name": "stdout",
     "output_type": "stream",
     "text": [
      "[#####                                   ] | 13% Completed | 103.55 s"
     ]
    },
    {
     "name": "stderr",
     "output_type": "stream",
     "text": [
      " WARNING: FIR normalized: sum[coef]=9.767192E-01;     \n",
      " WARNING: FIR normalized: sum[coef]=9.767192E-01;     \n",
      " WARNING: FIR normalized: sum[coef]=9.767192E-01;     \n",
      " WARNING: FIR normalized: sum[coef]=9.767192E-01;     \n",
      " WARNING: FIR normalized: sum[coef]=9.767192E-01;     \n"
     ]
    },
    {
     "name": "stdout",
     "output_type": "stream",
     "text": [
      "[#####                                   ] | 13% Completed | 103.88 s"
     ]
    },
    {
     "name": "stderr",
     "output_type": "stream",
     "text": [
      " WARNING: FIR normalized: sum[coef]=9.767192E-01;     \n",
      " WARNING: FIR normalized: sum[coef]=9.767192E-01;     \n",
      " WARNING: FIR normalized: sum[coef]=9.767192E-01;     \n",
      " WARNING: FIR normalized: sum[coef]=9.767192E-01;     \n",
      " WARNING: FIR normalized: sum[coef]=9.767192E-01;     \n",
      " WARNING: FIR normalized: sum[coef]=9.767192E-01;     \n",
      " WARNING: FIR normalized: sum[coef]=9.767192E-01;     \n"
     ]
    },
    {
     "name": "stdout",
     "output_type": "stream",
     "text": [
      "[#####                                   ] | 13% Completed | 104.10 s"
     ]
    },
    {
     "name": "stderr",
     "output_type": "stream",
     "text": [
      " WARNING: FIR normalized: sum[coef]=9.767192E-01;     \n",
      " WARNING: FIR normalized: sum[coef]=9.767192E-01;     \n",
      " WARNING: FIR normalized: sum[coef]=9.767192E-01;     \n",
      " WARNING: FIR normalized: sum[coef]=9.767192E-01; "
     ]
    },
    {
     "name": "stdout",
     "output_type": "stream",
     "text": [
      "[#####                                   ] | 13% Completed | 104.33 s"
     ]
    },
    {
     "name": "stderr",
     "output_type": "stream",
     "text": [
      "    \n",
      " WARNING: FIR normalized: sum[coef]=9.767192E-01;     \n",
      " WARNING: FIR normalized: sum[coef]=9.767192E-01;     \n"
     ]
    },
    {
     "name": "stdout",
     "output_type": "stream",
     "text": [
      "[#####                                   ] | 13% Completed | 104.57 s"
     ]
    },
    {
     "name": "stderr",
     "output_type": "stream",
     "text": [
      " WARNING: FIR normalized: sum[coef]=9.767192E-01;     \n",
      " WARNING: FIR normalized: sum[coef]=9.767192E-01;     \n",
      " WARNING: FIR normalized: sum[coef]=9.767192E-01;     \n",
      " WARNING: FIR normalized: sum[coef]=9.767192E-01;     \n",
      " WARNING: FIR normalized: sum[coef]=9.767192E-01;     \n",
      " WARNING: FIR normalized: sum[coef]=9.767192E-01;     \n"
     ]
    },
    {
     "name": "stdout",
     "output_type": "stream",
     "text": [
      "[#####                                   ] | 13% Completed | 104.80 s"
     ]
    },
    {
     "name": "stderr",
     "output_type": "stream",
     "text": [
      " WARNING: FIR normalized: sum[coef]=9.767192E-01;     \n",
      " WARNING: FIR normalized: sum[coef]=9.767192E-01;     \n",
      " WARNING: FIR normalized: sum[coef]=9.767192E-01;     \n",
      " WARNING: FIR normalized: sum[coef]=9.767192E-01;     \n",
      " WARNING: FIR normalized: sum[coef]=9.767192E-01;     \n"
     ]
    },
    {
     "name": "stdout",
     "output_type": "stream",
     "text": [
      "[#####                                   ] | 13% Completed | 105.03 s"
     ]
    },
    {
     "name": "stderr",
     "output_type": "stream",
     "text": [
      " WARNING: FIR normalized: sum[coef]=9.767192E-01;     \n",
      " WARNING: FIR normalized: sum[coef]=9.767192E-01;     \n",
      " WARNING: FIR normalized: sum[coef]=9.767192E-01;     \n",
      " WARNING: FIR normalized: sum[coef]=9.767192E-01;     \n",
      " WARNING: FIR normalized: sum[coef]=9.767192E-01;     \n",
      " WARNING: FIR normalized: sum[coef]=9.767192E-01;     \n"
     ]
    },
    {
     "name": "stdout",
     "output_type": "stream",
     "text": [
      "[#####                                   ] | 14% Completed | 105.37 s"
     ]
    },
    {
     "name": "stderr",
     "output_type": "stream",
     "text": [
      " WARNING: FIR normalized: sum[coef]=9.767192E-01;     \n",
      " WARNING: FIR normalized: sum[coef]=9.767192E-01;     \n",
      " WARNING: FIR normalized: sum[coef]=9.767192E-01;     \n",
      " WARNING: FIR normalized: sum[coef]=9.767192E-01;     \n",
      " WARNING: FIR normalized: sum[coef]=9.767192E-01;     \n"
     ]
    },
    {
     "name": "stdout",
     "output_type": "stream",
     "text": [
      "[#####                                   ] | 14% Completed | 105.60 s"
     ]
    },
    {
     "name": "stderr",
     "output_type": "stream",
     "text": [
      " WARNING: FIR normalized: sum[coef]=9.767192E-01;     \n",
      " WARNING: FIR normalized: sum[coef]=9.767192E-01;     \n",
      " WARNING: FIR normalized: sum[coef]=9.767192E-01;     \n",
      " WARNING: FIR normalized: sum[coef]=9.767192E-01;     \n",
      " WARNING: FIR normalized: sum[coef]=9.767192E-01;     \n",
      " WARNING: FIR normalized: sum[coef]=9.767192E-01;     \n"
     ]
    },
    {
     "name": "stdout",
     "output_type": "stream",
     "text": [
      "[#####                                   ] | 14% Completed | 105.83 s"
     ]
    },
    {
     "name": "stderr",
     "output_type": "stream",
     "text": [
      " WARNING: FIR normalized: sum[coef]=9.767192E-01;     \n",
      " WARNING: FIR normalized: sum[coef]=9.767192E-01;     \n",
      " WARNING: FIR normalized: sum[coef]=9.767192E-01;     \n",
      " WARNING: FIR normalized: sum[coef]=9.767192E-01;     \n"
     ]
    },
    {
     "name": "stdout",
     "output_type": "stream",
     "text": [
      "[#####                                   ] | 14% Completed | 106.18 s"
     ]
    },
    {
     "name": "stderr",
     "output_type": "stream",
     "text": [
      " WARNING: FIR normalized: sum[coef]=9.767192E-01;     \n",
      " WARNING: FIR normalized: sum[coef]=9.767192E-01;     \n",
      " WARNING: FIR normalized: sum[coef]=9.767192E-01;     \n",
      " WARNING: FIR normalized: sum[coef]=9.767192E-01;     \n",
      " WARNING: FIR normalized: sum[coef]=9.767192E-01;     \n",
      " WARNING: FIR normalized: sum[coef]=9.767192E-01;     \n"
     ]
    },
    {
     "name": "stdout",
     "output_type": "stream",
     "text": [
      "[#####                                   ] | 14% Completed | 106.54 s"
     ]
    },
    {
     "name": "stderr",
     "output_type": "stream",
     "text": [
      " WARNING: FIR normalized: sum[coef]=9.767192E-01;     \n",
      " WARNING: FIR normalized: sum[coef]=9.767192E-01;     \n",
      " WARNING: FIR normalized: sum[coef]=9.767192E-01;     \n",
      " WARNING: FIR normalized: sum[coef]=9.767192E-01;     \n"
     ]
    },
    {
     "name": "stdout",
     "output_type": "stream",
     "text": [
      "[#####                                   ] | 14% Completed | 106.76 s"
     ]
    },
    {
     "name": "stderr",
     "output_type": "stream",
     "text": [
      " WARNING: FIR normalized: sum[coef]=9.767192E-01;     \n",
      " WARNING: FIR normalized: sum[coef]=9.767192E-01;     \n",
      " WARNING: FIR normalized: sum[coef]=9.767192E-01;     \n",
      " WARNING: FIR normalized: sum[coef]=9.767192E-01;     \n",
      " WARNING: FIR normalized: sum[coef]=9.767192E-01;     \n",
      " WARNING: FIR normalized: sum[coef]=9.767192E-01;     \n"
     ]
    },
    {
     "name": "stdout",
     "output_type": "stream",
     "text": [
      "[#####                                   ] | 14% Completed | 107.00 s"
     ]
    },
    {
     "name": "stderr",
     "output_type": "stream",
     "text": [
      " WARNING: FIR normalized: sum[coef]=9.767192E-01;     \n",
      " WARNING: FIR normalized: sum[coef]=9.767192E-01;     \n",
      " WARNING: FIR normalized: sum[coef]=9.767192E-01;     \n",
      " WARNING: FIR normalized: sum[coef]=9.767192E-01;     \n",
      " WARNING: FIR normalized: sum[coef]=9.767192E-01;     \n"
     ]
    },
    {
     "name": "stdout",
     "output_type": "stream",
     "text": [
      "[#####                                   ] | 14% Completed | 107.22 s"
     ]
    },
    {
     "name": "stderr",
     "output_type": "stream",
     "text": [
      " WARNING: FIR normalized: sum[coef]=9.767192E-01;     \n"
     ]
    },
    {
     "name": "stdout",
     "output_type": "stream",
     "text": [
      "[#####                                   ] | 14% Completed | 107.46 s"
     ]
    },
    {
     "name": "stderr",
     "output_type": "stream",
     "text": [
      " WARNING: FIR normalized: sum[coef]=9.767192E-01;     \n",
      " WARNING: FIR normalized: sum[coef]=9.767192E-01;     \n",
      " WARNING: FIR normalized: sum[coef]=9.767192E-01;     \n",
      " WARNING: FIR normalized: sum[coef]=9.767192E-01;     \n",
      " WARNING: FIR normalized: sum[coef]=9.767192E-01;     \n",
      " WARNING: FIR normalized: sum[coef]=9.767192E-01;     \n"
     ]
    },
    {
     "name": "stdout",
     "output_type": "stream",
     "text": [
      "[#####                                   ] | 14% Completed | 107.70 s"
     ]
    },
    {
     "name": "stderr",
     "output_type": "stream",
     "text": [
      " WARNING: FIR normalized: sum[coef]=9.767192E-01;     \n",
      " WARNING: FIR normalized: sum[coef]=9.767192E-01;     \n",
      " WARNING: FIR normalized: sum[coef]=9.767192E-01;     \n",
      " WARNING: FIR normalized: sum[coef]=9.767192E-01;     \n",
      " WARNING: FIR normalized: sum[coef]=9.767192E-01;     \n",
      " WARNING: FIR normalized: sum[coef]=9.767192E-01;     \n",
      " WARNING: FIR normalized: sum[coef]=9.767192E-01;     \n"
     ]
    },
    {
     "name": "stdout",
     "output_type": "stream",
     "text": [
      "[#####                                   ] | 14% Completed | 108.06 s"
     ]
    },
    {
     "name": "stderr",
     "output_type": "stream",
     "text": [
      " WARNING: FIR normalized: sum[coef]=9.767192E-01;     \n",
      " WARNING: FIR normalized: sum[coef]=9.767192E-01;     \n",
      " WARNING: FIR normalized: sum[coef]=9.767192E-01;     \n",
      " WARNING: FIR normalized: sum[coef]=9.767192E-01;     \n"
     ]
    },
    {
     "name": "stdout",
     "output_type": "stream",
     "text": [
      "[#####                                   ] | 14% Completed | 108.30 s"
     ]
    },
    {
     "name": "stderr",
     "output_type": "stream",
     "text": [
      " WARNING: FIR normalized: sum[coef]=9.767192E-01;     \n",
      " WARNING: FIR normalized: sum[coef]=9.767192E-01;     \n",
      " WARNING: FIR normalized: sum[coef]=9.767192E-01;     \n",
      " WARNING: FIR normalized: sum[coef]=9.767192E-01;     \n",
      " WARNING: FIR normalized: sum[coef]=9.767192E-01;     \n"
     ]
    },
    {
     "name": "stdout",
     "output_type": "stream",
     "text": [
      "[#####                                   ] | 14% Completed | 108.53 s"
     ]
    },
    {
     "name": "stderr",
     "output_type": "stream",
     "text": [
      " WARNING: FIR normalized: sum[coef]=9.767192E-01;     \n",
      " WARNING: FIR normalized: sum[coef]=9.767192E-01;     \n",
      " WARNING: FIR normalized: sum[coef]=9.767192E-01;     \n"
     ]
    },
    {
     "name": "stdout",
     "output_type": "stream",
     "text": [
      "[#####                                   ] | 14% Completed | 108.76 s"
     ]
    },
    {
     "name": "stderr",
     "output_type": "stream",
     "text": [
      " WARNING: FIR normalized: sum[coef]=9.767192E-01;     \n",
      " WARNING: FIR normalized: sum[coef]=9.767192E-01;     \n",
      " WARNING: FIR normalized: sum[coef]=9.767192E-01;     \n"
     ]
    },
    {
     "name": "stdout",
     "output_type": "stream",
     "text": [
      "[#####                                   ] | 14% Completed | 108.99 s"
     ]
    },
    {
     "name": "stderr",
     "output_type": "stream",
     "text": [
      " WARNING: FIR normalized: sum[coef]=9.767192E-01;     \n",
      " WARNING: FIR normalized: sum[coef]=9.767192E-01;     \n",
      " WARNING: FIR normalized: sum[coef]=9.767192E-01;     \n",
      " WARNING: FIR normalized: sum[coef]=9.767192E-01;     \n",
      " WARNING: FIR normalized: sum[coef]=9.767192E-01;     \n",
      " WARNING: FIR normalized: sum[coef]=9.767192E-01;     \n",
      " WARNING: FIR normalized: sum[coef]=9.767192E-01;     \n"
     ]
    },
    {
     "name": "stdout",
     "output_type": "stream",
     "text": [
      "[######                                  ] | 15% Completed | 109.21 s"
     ]
    },
    {
     "name": "stderr",
     "output_type": "stream",
     "text": [
      " WARNING: FIR normalized: sum[coef]=9.767192E-01;     \n",
      " WARNING: FIR normalized: sum[coef]=9.767192E-01;     \n"
     ]
    },
    {
     "name": "stdout",
     "output_type": "stream",
     "text": [
      "[######                                  ] | 15% Completed | 109.43 s"
     ]
    },
    {
     "name": "stderr",
     "output_type": "stream",
     "text": [
      " WARNING: FIR normalized: sum[coef]=9.767192E-01;     \n",
      " WARNING: FIR normalized: sum[coef]=9.767192E-01;     \n",
      " WARNING: FIR normalized: sum[coef]=9.767192E-01;     \n",
      " WARNING: FIR normalized: sum[coef]=9.767192E-01;     \n"
     ]
    },
    {
     "name": "stdout",
     "output_type": "stream",
     "text": [
      "[######                                  ] | 15% Completed | 109.66 s"
     ]
    },
    {
     "name": "stderr",
     "output_type": "stream",
     "text": [
      " WARNING: FIR normalized: sum[coef]=9.767192E-01;     \n",
      " WARNING: FIR normalized: sum[coef]=9.767192E-01;     \n"
     ]
    },
    {
     "name": "stdout",
     "output_type": "stream",
     "text": [
      "[######                                  ] | 15% Completed | 109.90 s"
     ]
    },
    {
     "name": "stderr",
     "output_type": "stream",
     "text": [
      " WARNING: FIR normalized: sum[coef]=9.767192E-01;     \n",
      " WARNING: FIR normalized: sum[coef]=9.767192E-01;     \n",
      " WARNING: FIR normalized: sum[coef]=9.767192E-01;     \n",
      " WARNING: FIR normalized: sum[coef]=9.767192E-01;     \n"
     ]
    },
    {
     "name": "stdout",
     "output_type": "stream",
     "text": [
      "[######                                  ] | 15% Completed | 110.12 s"
     ]
    },
    {
     "name": "stderr",
     "output_type": "stream",
     "text": [
      " WARNING: FIR normalized: sum[coef]=9.767192E-01;     \n",
      " WARNING: FIR normalized: sum[coef]=9.767192E-01;     \n",
      " WARNING: FIR normalized: sum[coef]=9.767192E-01;     \n"
     ]
    },
    {
     "name": "stdout",
     "output_type": "stream",
     "text": [
      "[######                                  ] | 15% Completed | 110.37 s"
     ]
    },
    {
     "name": "stderr",
     "output_type": "stream",
     "text": [
      " WARNING: FIR normalized: sum[coef]=9.767192E-01;     \n",
      " WARNING: FIR normalized: sum[coef]=9.767192E-01;     \n",
      " WARNING: FIR normalized: sum[coef]=9.767192E-01;     \n",
      " WARNING: FIR normalized: sum[coef]=9.767192E-01;     \n"
     ]
    },
    {
     "name": "stdout",
     "output_type": "stream",
     "text": [
      "[######                                  ] | 16% Completed | 110.73 s"
     ]
    },
    {
     "name": "stderr",
     "output_type": "stream",
     "text": [
      " WARNING: FIR normalized: sum[coef]=9.767192E-01;     \n",
      " WARNING: FIR normalized: sum[coef]=9.767192E-01;     \n",
      " WARNING: FIR normalized: sum[coef]=9.767192E-01;     \n",
      " WARNING: FIR normalized: sum[coef]=9.767192E-01;     \n",
      " WARNING: FIR normalized: sum[coef]=9.767192E-01;     \n"
     ]
    },
    {
     "name": "stdout",
     "output_type": "stream",
     "text": [
      "[######                                  ] | 16% Completed | 111.19 s"
     ]
    },
    {
     "name": "stderr",
     "output_type": "stream",
     "text": [
      " WARNING: FIR normalized: sum[coef]=9.767192E-01;     \n",
      " WARNING: FIR normalized: sum[coef]=9.767192E-01;     \n"
     ]
    },
    {
     "name": "stdout",
     "output_type": "stream",
     "text": [
      "[######                                  ] | 16% Completed | 111.41 s"
     ]
    },
    {
     "name": "stderr",
     "output_type": "stream",
     "text": [
      " WARNING: FIR normalized: sum[coef]=9.767192E-01;     \n",
      " WARNING: FIR normalized: sum[coef]=9.767192E-01;     \n",
      " WARNING: FIR normalized: sum[coef]=9.767192E-01;     \n"
     ]
    },
    {
     "name": "stdout",
     "output_type": "stream",
     "text": [
      "[######                                  ] | 16% Completed | 111.64 s"
     ]
    },
    {
     "name": "stderr",
     "output_type": "stream",
     "text": [
      " WARNING: FIR normalized: sum[coef]=9.767192E-01;     \n",
      " WARNING: FIR normalized: sum[coef]=9.767192E-01;     \n",
      " WARNING: FIR normalized: sum[coef]=9.767192E-01;     \n"
     ]
    },
    {
     "name": "stdout",
     "output_type": "stream",
     "text": [
      "[######                                  ] | 16% Completed | 111.87 s"
     ]
    },
    {
     "name": "stderr",
     "output_type": "stream",
     "text": [
      " WARNING: FIR normalized: sum[coef]=9.767192E-01;     \n"
     ]
    },
    {
     "name": "stdout",
     "output_type": "stream",
     "text": [
      "[######                                  ] | 16% Completed | 112.10 s"
     ]
    },
    {
     "name": "stderr",
     "output_type": "stream",
     "text": [
      " WARNING: FIR normalized: sum[coef]=9.767192E-01;     \n",
      " WARNING: FIR normalized: sum[coef]=9.767192E-01;     \n",
      " WARNING: FIR normalized: sum[coef]=9.767192E-01;     \n",
      " WARNING: FIR normalized: sum[coef]=9.767192E-01;     \n"
     ]
    },
    {
     "name": "stdout",
     "output_type": "stream",
     "text": [
      "[######                                  ] | 16% Completed | 112.33 s"
     ]
    },
    {
     "name": "stderr",
     "output_type": "stream",
     "text": [
      " WARNING: FIR normalized: sum[coef]=9.767192E-01;     \n",
      " WARNING: FIR normalized: sum[coef]=9.767192E-01;     \n"
     ]
    },
    {
     "name": "stdout",
     "output_type": "stream",
     "text": [
      "[######                                  ] | 16% Completed | 112.55 s"
     ]
    },
    {
     "name": "stderr",
     "output_type": "stream",
     "text": [
      " WARNING: FIR normalized: sum[coef]=9.767192E-01;     \n",
      " WARNING: FIR normalized: sum[coef]=9.767192E-01;     \n"
     ]
    },
    {
     "name": "stdout",
     "output_type": "stream",
     "text": [
      "[######                                  ] | 17% Completed | 112.93 s"
     ]
    },
    {
     "name": "stderr",
     "output_type": "stream",
     "text": [
      " WARNING: FIR normalized: sum[coef]=9.767192E-01;     \n",
      " WARNING: FIR normalized: sum[coef]=9.767192E-01;     \n",
      " WARNING: FIR normalized: sum[coef]=9.767192E-01;     \n",
      " WARNING: FIR normalized: sum[coef]=9.767192E-01;     \n"
     ]
    },
    {
     "name": "stdout",
     "output_type": "stream",
     "text": [
      "[######                                  ] | 17% Completed | 113.15 s[2013-05-13T23:43:20.000000Z] No data or fatal error during detection/classification: list index out of range\n",
      "[#######                                 ] | 17% Completed | 113.26 s"
     ]
    },
    {
     "name": "stderr",
     "output_type": "stream",
     "text": [
      " WARNING: FIR normalized: sum[coef]=9.767192E-01;     \n"
     ]
    },
    {
     "name": "stdout",
     "output_type": "stream",
     "text": [
      "[#######                                 ] | 17% Completed | 113.49 s"
     ]
    },
    {
     "name": "stderr",
     "output_type": "stream",
     "text": [
      " WARNING: FIR normalized: sum[coef]=9.767192E-01;     \n",
      " WARNING: FIR normalized: sum[coef]=9.767192E-01;     \n"
     ]
    },
    {
     "name": "stdout",
     "output_type": "stream",
     "text": [
      "[#######                                 ] | 17% Completed | 113.72 s"
     ]
    },
    {
     "name": "stderr",
     "output_type": "stream",
     "text": [
      " WARNING: FIR normalized: sum[coef]=9.767192E-01;     \n",
      " WARNING: FIR normalized: sum[coef]=9.767192E-01;     \n",
      " WARNING: FIR normalized: sum[coef]=9.767192E-01;     \n",
      " WARNING: FIR normalized: sum[coef]=9.767192E-01;     \n"
     ]
    },
    {
     "name": "stdout",
     "output_type": "stream",
     "text": [
      "[#######                                 ] | 17% Completed | 114.07 s"
     ]
    },
    {
     "name": "stderr",
     "output_type": "stream",
     "text": [
      " WARNING: FIR normalized: sum[coef]=9.767192E-01;     \n"
     ]
    },
    {
     "name": "stdout",
     "output_type": "stream",
     "text": [
      "[#######                                 ] | 17% Completed | 114.29 s"
     ]
    },
    {
     "name": "stderr",
     "output_type": "stream",
     "text": [
      " WARNING: FIR normalized: sum[coef]=9.767192E-01;     \n",
      " WARNING: FIR normalized: sum[coef]=9.767192E-01;     \n",
      " WARNING: FIR normalized: sum[coef]=9.767192E-01;     \n"
     ]
    },
    {
     "name": "stdout",
     "output_type": "stream",
     "text": [
      "[#######                                 ] | 17% Completed | 114.55 s"
     ]
    },
    {
     "name": "stderr",
     "output_type": "stream",
     "text": [
      " WARNING: FIR normalized: sum[coef]=9.767192E-01;     \n",
      " WARNING: FIR normalized: sum[coef]=9.767192E-01;     \n"
     ]
    },
    {
     "name": "stdout",
     "output_type": "stream",
     "text": [
      "[#######                                 ] | 17% Completed | 114.91 s"
     ]
    },
    {
     "name": "stderr",
     "output_type": "stream",
     "text": [
      " WARNING: FIR normalized: sum[coef]=9.767192E-01;     \n",
      " WARNING: FIR normalized: sum[coef]=9.767192E-01;     \n"
     ]
    },
    {
     "name": "stdout",
     "output_type": "stream",
     "text": [
      "[#######                                 ] | 17% Completed | 115.14 s"
     ]
    },
    {
     "name": "stderr",
     "output_type": "stream",
     "text": [
      " WARNING: FIR normalized: sum[coef]=9.767192E-01;     \n",
      " WARNING: FIR normalized: sum[coef]=9.767192E-01;     \n",
      " WARNING: FIR normalized: sum[coef]=9.767192E-01;     \n",
      " WARNING: FIR normalized: sum[coef]=9.767192E-01;     \n"
     ]
    },
    {
     "name": "stdout",
     "output_type": "stream",
     "text": [
      "[#######                                 ] | 18% Completed | 115.69 s"
     ]
    },
    {
     "name": "stderr",
     "output_type": "stream",
     "text": [
      " WARNING: FIR normalized: sum[coef]=9.767192E-01;     \n",
      " WARNING: FIR normalized: sum[coef]=9.767192E-01;     \n",
      " WARNING: FIR normalized: sum[coef]=9.767192E-01;     \n",
      " WARNING: FIR normalized: sum[coef]=9.767192E-01;     \n"
     ]
    },
    {
     "name": "stdout",
     "output_type": "stream",
     "text": [
      "[#######                                 ] | 18% Completed | 116.26 s"
     ]
    },
    {
     "name": "stderr",
     "output_type": "stream",
     "text": [
      " WARNING: FIR normalized: sum[coef]=9.767192E-01;     \n",
      " WARNING: FIR normalized: sum[coef]=9.767192E-01;     \n",
      " WARNING: FIR normalized: sum[coef]=9.767192E-01;     \n",
      " WARNING: FIR normalized: sum[coef]=9.767192E-01;     \n"
     ]
    },
    {
     "name": "stdout",
     "output_type": "stream",
     "text": [
      "[#######                                 ] | 18% Completed | 116.97 s"
     ]
    },
    {
     "name": "stderr",
     "output_type": "stream",
     "text": [
      " WARNING: FIR normalized: sum[coef]=9.767192E-01;     \n",
      " WARNING: FIR normalized: sum[coef]=9.767192E-01;     \n",
      " WARNING: FIR normalized: sum[coef]=9.767192E-01;     \n"
     ]
    },
    {
     "name": "stdout",
     "output_type": "stream",
     "text": [
      "[#######                                 ] | 18% Completed | 117.56 s"
     ]
    },
    {
     "name": "stderr",
     "output_type": "stream",
     "text": [
      " WARNING: FIR normalized: sum[coef]=9.767192E-01;     \n",
      " WARNING: FIR normalized: sum[coef]=9.767192E-01;     \n"
     ]
    },
    {
     "name": "stdout",
     "output_type": "stream",
     "text": [
      "[#######                                 ] | 18% Completed | 118.10 s"
     ]
    },
    {
     "name": "stderr",
     "output_type": "stream",
     "text": [
      " WARNING: FIR normalized: sum[coef]=9.767192E-01;     \n"
     ]
    },
    {
     "name": "stdout",
     "output_type": "stream",
     "text": [
      "[#######                                 ] | 18% Completed | 118.32 s"
     ]
    },
    {
     "name": "stderr",
     "output_type": "stream",
     "text": [
      " WARNING: FIR normalized: sum[coef]=9.767192E-01;     \n",
      " WARNING: FIR normalized: sum[coef]=9.767192E-01;     \n"
     ]
    },
    {
     "name": "stdout",
     "output_type": "stream",
     "text": [
      "[#######                                 ] | 18% Completed | 118.66 s"
     ]
    },
    {
     "name": "stderr",
     "output_type": "stream",
     "text": [
      " WARNING: FIR normalized: sum[coef]=9.767192E-01;     \n",
      " WARNING: FIR normalized: sum[coef]=9.767192E-01;     \n"
     ]
    },
    {
     "name": "stdout",
     "output_type": "stream",
     "text": [
      "[#######                                 ] | 18% Completed | 118.88 s"
     ]
    },
    {
     "name": "stderr",
     "output_type": "stream",
     "text": [
      " WARNING: FIR normalized: sum[coef]=9.767192E-01;     \n"
     ]
    },
    {
     "name": "stdout",
     "output_type": "stream",
     "text": [
      "[#######                                 ] | 18% Completed | 119.35 s"
     ]
    },
    {
     "name": "stderr",
     "output_type": "stream",
     "text": [
      " WARNING: FIR normalized: sum[coef]=9.767192E-01;     \n",
      " WARNING: FIR normalized: sum[coef]=9.767192E-01;     \n"
     ]
    },
    {
     "name": "stdout",
     "output_type": "stream",
     "text": [
      "[#######                                 ] | 18% Completed | 119.57 s"
     ]
    },
    {
     "name": "stderr",
     "output_type": "stream",
     "text": [
      " WARNING: FIR normalized: sum[coef]=9.767192E-01;     \n"
     ]
    },
    {
     "name": "stdout",
     "output_type": "stream",
     "text": [
      "[#######                                 ] | 18% Completed | 119.92 s"
     ]
    },
    {
     "name": "stderr",
     "output_type": "stream",
     "text": [
      " WARNING: FIR normalized: sum[coef]=9.767192E-01;     \n",
      " WARNING: FIR normalized: sum[coef]=9.767192E-01;     \n"
     ]
    },
    {
     "name": "stdout",
     "output_type": "stream",
     "text": [
      "[#######                                 ] | 18% Completed | 120.14 s"
     ]
    },
    {
     "name": "stderr",
     "output_type": "stream",
     "text": [
      " WARNING: FIR normalized: sum[coef]=9.767192E-01;     \n"
     ]
    },
    {
     "name": "stdout",
     "output_type": "stream",
     "text": [
      "[#######                                 ] | 18% Completed | 120.60 s"
     ]
    },
    {
     "name": "stderr",
     "output_type": "stream",
     "text": [
      " WARNING: FIR normalized: sum[coef]=9.767192E-01;     \n",
      " WARNING: FIR normalized: sum[coef]=9.767192E-01;     \n",
      " WARNING: FIR normalized: sum[coef]=9.767192E-01;     \n"
     ]
    },
    {
     "name": "stdout",
     "output_type": "stream",
     "text": [
      "[#######                                 ] | 18% Completed | 121.27 s"
     ]
    },
    {
     "name": "stderr",
     "output_type": "stream",
     "text": [
      " WARNING: FIR normalized: sum[coef]=9.767192E-01;     \n",
      " WARNING: FIR normalized: sum[coef]=9.767192E-01;     \n"
     ]
    },
    {
     "name": "stdout",
     "output_type": "stream",
     "text": [
      "[#######                                 ] | 18% Completed | 121.72 s"
     ]
    },
    {
     "name": "stderr",
     "output_type": "stream",
     "text": [
      " WARNING: FIR normalized: sum[coef]=9.767192E-01;     \n",
      " WARNING: FIR normalized: sum[coef]=9.767192E-01;     \n"
     ]
    },
    {
     "name": "stdout",
     "output_type": "stream",
     "text": [
      "[#######                                 ] | 18% Completed | 122.30 s"
     ]
    },
    {
     "name": "stderr",
     "output_type": "stream",
     "text": [
      " WARNING: FIR normalized: sum[coef]=9.767192E-01;     \n",
      " WARNING: FIR normalized: sum[coef]=9.767192E-01;     \n"
     ]
    },
    {
     "name": "stdout",
     "output_type": "stream",
     "text": [
      "[#######                                 ] | 18% Completed | 123.00 s"
     ]
    },
    {
     "name": "stderr",
     "output_type": "stream",
     "text": [
      " WARNING: FIR normalized: sum[coef]=9.767192E-01;     \n",
      " WARNING: FIR normalized: sum[coef]=9.767192E-01;     \n"
     ]
    },
    {
     "name": "stdout",
     "output_type": "stream",
     "text": [
      "[#######                                 ] | 18% Completed | 123.65 s"
     ]
    },
    {
     "name": "stderr",
     "output_type": "stream",
     "text": [
      " WARNING: FIR normalized: sum[coef]=9.767192E-01;     \n",
      " WARNING: FIR normalized: sum[coef]=9.767192E-01;     \n"
     ]
    },
    {
     "name": "stdout",
     "output_type": "stream",
     "text": [
      "[#######                                 ] | 18% Completed | 124.21 s"
     ]
    },
    {
     "name": "stderr",
     "output_type": "stream",
     "text": [
      " WARNING: FIR normalized: sum[coef]=9.767192E-01;     \n",
      " WARNING: FIR normalized: sum[coef]=9.767192E-01;     \n"
     ]
    },
    {
     "name": "stdout",
     "output_type": "stream",
     "text": [
      "[#######                                 ] | 18% Completed | 124.65 s"
     ]
    },
    {
     "name": "stderr",
     "output_type": "stream",
     "text": [
      " WARNING: FIR normalized: sum[coef]=9.767192E-01;     \n"
     ]
    },
    {
     "name": "stdout",
     "output_type": "stream",
     "text": [
      "[#######                                 ] | 18% Completed | 125.00 s"
     ]
    },
    {
     "name": "stderr",
     "output_type": "stream",
     "text": [
      " WARNING: FIR normalized: sum[coef]=9.767192E-01;     \n"
     ]
    },
    {
     "name": "stdout",
     "output_type": "stream",
     "text": [
      "[#######                                 ] | 18% Completed | 125.34 s"
     ]
    },
    {
     "name": "stderr",
     "output_type": "stream",
     "text": [
      " WARNING: FIR normalized: sum[coef]=9.767192E-01;     \n"
     ]
    },
    {
     "name": "stdout",
     "output_type": "stream",
     "text": [
      "[#######                                 ] | 18% Completed | 125.68 s"
     ]
    },
    {
     "name": "stderr",
     "output_type": "stream",
     "text": [
      " WARNING: FIR normalized: sum[coef]=9.767192E-01;     \n"
     ]
    },
    {
     "name": "stdout",
     "output_type": "stream",
     "text": [
      "[#######                                 ] | 19% Completed | 126.03 s"
     ]
    },
    {
     "name": "stderr",
     "output_type": "stream",
     "text": [
      " WARNING: FIR normalized: sum[coef]=9.767192E-01;     \n"
     ]
    },
    {
     "name": "stdout",
     "output_type": "stream",
     "text": [
      "[#######                                 ] | 19% Completed | 126.60 s"
     ]
    },
    {
     "name": "stderr",
     "output_type": "stream",
     "text": [
      " WARNING: FIR normalized: sum[coef]=9.767192E-01;     \n"
     ]
    },
    {
     "name": "stdout",
     "output_type": "stream",
     "text": [
      "[#######                                 ] | 19% Completed | 127.28 s"
     ]
    },
    {
     "name": "stderr",
     "output_type": "stream",
     "text": [
      " WARNING: FIR normalized: sum[coef]=9.767192E-01;     \n"
     ]
    },
    {
     "name": "stdout",
     "output_type": "stream",
     "text": [
      "[2012-11-05T23:43:20.000000Z] No data or fatal error during detection/classification: list index out of range\n",
      "[#######                                 ] | 19% Completed | 155.32 s"
     ]
    },
    {
     "name": "stderr",
     "output_type": "stream",
     "text": [
      " WARNING: FIR normalized: sum[coef]=9.767192E-01;     \n"
     ]
    },
    {
     "name": "stdout",
     "output_type": "stream",
     "text": [
      "[#######                                 ] | 19% Completed | 155.80 s"
     ]
    },
    {
     "name": "stderr",
     "output_type": "stream",
     "text": [
      " WARNING: FIR normalized: sum[coef]=9.767192E-01;     \n"
     ]
    },
    {
     "name": "stdout",
     "output_type": "stream",
     "text": [
      "[#######                                 ] | 19% Completed | 156.64 s"
     ]
    },
    {
     "name": "stderr",
     "output_type": "stream",
     "text": [
      " WARNING: FIR normalized: sum[coef]=9.767192E-01;     \n"
     ]
    },
    {
     "name": "stdout",
     "output_type": "stream",
     "text": [
      "[#######                                 ] | 19% Completed | 157.00 s"
     ]
    },
    {
     "name": "stderr",
     "output_type": "stream",
     "text": [
      " WARNING: FIR normalized: sum[coef]=9.767192E-01;     \n"
     ]
    },
    {
     "name": "stdout",
     "output_type": "stream",
     "text": [
      "[#######                                 ] | 19% Completed | 157.48 s"
     ]
    },
    {
     "name": "stderr",
     "output_type": "stream",
     "text": [
      " WARNING: FIR normalized: sum[coef]=9.767192E-01;     \n"
     ]
    },
    {
     "name": "stdout",
     "output_type": "stream",
     "text": [
      "[#######                                 ] | 19% Completed | 157.83 s"
     ]
    },
    {
     "name": "stderr",
     "output_type": "stream",
     "text": [
      " WARNING: FIR normalized: sum[coef]=9.767192E-01;     \n"
     ]
    },
    {
     "name": "stdout",
     "output_type": "stream",
     "text": [
      "[#######                                 ] | 19% Completed | 158.07 s"
     ]
    },
    {
     "name": "stderr",
     "output_type": "stream",
     "text": [
      " WARNING: FIR normalized: sum[coef]=9.767192E-01;     \n"
     ]
    },
    {
     "name": "stdout",
     "output_type": "stream",
     "text": [
      "[#######                                 ] | 19% Completed | 158.32 s"
     ]
    },
    {
     "name": "stderr",
     "output_type": "stream",
     "text": [
      " WARNING: FIR normalized: sum[coef]=9.767192E-01;     \n"
     ]
    },
    {
     "name": "stdout",
     "output_type": "stream",
     "text": [
      "[#######                                 ] | 19% Completed | 158.70 s"
     ]
    },
    {
     "name": "stderr",
     "output_type": "stream",
     "text": [
      " WARNING: FIR normalized: sum[coef]=9.767192E-01;     \n"
     ]
    },
    {
     "name": "stdout",
     "output_type": "stream",
     "text": [
      "[#######                                 ] | 19% Completed | 158.91 s"
     ]
    },
    {
     "name": "stderr",
     "output_type": "stream",
     "text": [
      " WARNING: FIR normalized: sum[coef]=9.767192E-01;     \n",
      " WARNING: FIR normalized: sum[coef]=9.767192E-01;     \n"
     ]
    },
    {
     "name": "stdout",
     "output_type": "stream",
     "text": [
      "[#######                                 ] | 19% Completed | 159.39 s"
     ]
    },
    {
     "name": "stderr",
     "output_type": "stream",
     "text": [
      " WARNING: FIR normalized: sum[coef]=9.767192E-01;     \n"
     ]
    },
    {
     "name": "stdout",
     "output_type": "stream",
     "text": [
      "[#######                                 ] | 19% Completed | 159.64 s"
     ]
    },
    {
     "name": "stderr",
     "output_type": "stream",
     "text": [
      " WARNING: FIR normalized: sum[coef]=9.767192E-01;     \n",
      " WARNING: FIR normalized: sum[coef]=9.767192E-01;     \n"
     ]
    },
    {
     "name": "stdout",
     "output_type": "stream",
     "text": [
      "[#######                                 ] | 19% Completed | 160.08 s"
     ]
    },
    {
     "name": "stderr",
     "output_type": "stream",
     "text": [
      " WARNING: FIR normalized: sum[coef]=9.767192E-01;     \n"
     ]
    },
    {
     "name": "stdout",
     "output_type": "stream",
     "text": [
      "[#######                                 ] | 19% Completed | 160.43 s"
     ]
    },
    {
     "name": "stderr",
     "output_type": "stream",
     "text": [
      " WARNING: FIR normalized: sum[coef]=9.767192E-01;     \n",
      " WARNING: FIR normalized: sum[coef]=9.767192E-01;     \n"
     ]
    },
    {
     "name": "stdout",
     "output_type": "stream",
     "text": [
      "[#######                                 ] | 19% Completed | 160.79 s"
     ]
    },
    {
     "name": "stderr",
     "output_type": "stream",
     "text": [
      " WARNING: FIR normalized: sum[coef]=9.767192E-01;     \n",
      " WARNING: FIR normalized: sum[coef]=9.767192E-01;     \n"
     ]
    },
    {
     "name": "stdout",
     "output_type": "stream",
     "text": [
      "[#######                                 ] | 19% Completed | 161.16 s"
     ]
    },
    {
     "name": "stderr",
     "output_type": "stream",
     "text": [
      " WARNING: FIR normalized: sum[coef]=9.767192E-01;     \n"
     ]
    },
    {
     "name": "stdout",
     "output_type": "stream",
     "text": [
      "[#######                                 ] | 19% Completed | 161.62 s"
     ]
    },
    {
     "name": "stderr",
     "output_type": "stream",
     "text": [
      " WARNING: FIR normalized: sum[coef]=9.767192E-01;     \n",
      " WARNING: FIR normalized: sum[coef]=9.767192E-01;     \n"
     ]
    },
    {
     "name": "stdout",
     "output_type": "stream",
     "text": [
      "[#######                                 ] | 19% Completed | 161.86 s"
     ]
    },
    {
     "name": "stderr",
     "output_type": "stream",
     "text": [
      " WARNING: FIR normalized: sum[coef]=9.767192E-01;     \n",
      " WARNING: FIR normalized: sum[coef]=9.767192E-01;     \n"
     ]
    },
    {
     "name": "stdout",
     "output_type": "stream",
     "text": [
      "[#######                                 ] | 19% Completed | 162.21 s"
     ]
    },
    {
     "name": "stderr",
     "output_type": "stream",
     "text": [
      " WARNING: FIR normalized: sum[coef]=9.767192E-01;     \n",
      " WARNING: FIR normalized: sum[coef]=9.767192E-01;     \n"
     ]
    },
    {
     "name": "stdout",
     "output_type": "stream",
     "text": [
      "[#######                                 ] | 19% Completed | 162.79 s"
     ]
    },
    {
     "name": "stderr",
     "output_type": "stream",
     "text": [
      " WARNING: FIR normalized: sum[coef]=9.767192E-01;     \n",
      " WARNING: FIR normalized: sum[coef]=9.767192E-01;     \n",
      " WARNING: FIR normalized: sum[coef]=9.767192E-01;     \n"
     ]
    },
    {
     "name": "stdout",
     "output_type": "stream",
     "text": [
      "[#######                                 ] | 19% Completed | 163.12 s"
     ]
    },
    {
     "name": "stderr",
     "output_type": "stream",
     "text": [
      " WARNING: FIR normalized: sum[coef]=9.767192E-01;     \n",
      " WARNING: FIR normalized: sum[coef]=9.767192E-01;     \n",
      " WARNING: FIR normalized: sum[coef]=9.767192E-01;     \n"
     ]
    },
    {
     "name": "stdout",
     "output_type": "stream",
     "text": [
      "[#######                                 ] | 19% Completed | 163.48 s"
     ]
    },
    {
     "name": "stderr",
     "output_type": "stream",
     "text": [
      " WARNING: FIR normalized: sum[coef]=9.767192E-01;     \n",
      " WARNING: FIR normalized: sum[coef]=9.767192E-01;     \n"
     ]
    },
    {
     "name": "stdout",
     "output_type": "stream",
     "text": [
      "[#######                                 ] | 19% Completed | 164.12 s"
     ]
    },
    {
     "name": "stderr",
     "output_type": "stream",
     "text": [
      " WARNING: FIR normalized: sum[coef]=9.767192E-01;     \n",
      " WARNING: FIR normalized: sum[coef]=9.767192E-01;     \n",
      " WARNING: FIR normalized: sum[coef]=9.767192E-01;     \n",
      " WARNING: FIR normalized: sum[coef]=9.767192E-01;     \n",
      " WARNING: FIR normalized: sum[coef]=9.767192E-01;     \n"
     ]
    },
    {
     "name": "stdout",
     "output_type": "stream",
     "text": [
      "[#######                                 ] | 19% Completed | 164.34 s"
     ]
    },
    {
     "name": "stderr",
     "output_type": "stream",
     "text": [
      " WARNING: FIR normalized: sum[coef]=9.767192E-01;     \n"
     ]
    },
    {
     "name": "stdout",
     "output_type": "stream",
     "text": [
      "[#######                                 ] | 19% Completed | 164.69 s"
     ]
    },
    {
     "name": "stderr",
     "output_type": "stream",
     "text": [
      " WARNING: FIR normalized: sum[coef]=9.767192E-01;     \n",
      " WARNING: FIR normalized: sum[coef]=9.767192E-01;     \n"
     ]
    },
    {
     "name": "stdout",
     "output_type": "stream",
     "text": [
      "[#######                                 ] | 19% Completed | 164.91 s"
     ]
    },
    {
     "name": "stderr",
     "output_type": "stream",
     "text": [
      " WARNING: FIR normalized: sum[coef]=9.767192E-01;     \n",
      " WARNING: FIR normalized: sum[coef]=9.767192E-01;     \n",
      " WARNING: FIR normalized: sum[coef]=9.767192E-01;     \n"
     ]
    },
    {
     "name": "stdout",
     "output_type": "stream",
     "text": [
      "[#######                                 ] | 19% Completed | 165.15 s"
     ]
    },
    {
     "name": "stderr",
     "output_type": "stream",
     "text": [
      " WARNING: FIR normalized: sum[coef]=9.767192E-01;     \n",
      " WARNING: FIR normalized: sum[coef]=9.767192E-01;     \n"
     ]
    },
    {
     "name": "stdout",
     "output_type": "stream",
     "text": [
      "[#######                                 ] | 19% Completed | 165.61 s"
     ]
    },
    {
     "name": "stderr",
     "output_type": "stream",
     "text": [
      " WARNING: FIR normalized: sum[coef]=9.767192E-01;     \n",
      " WARNING: FIR normalized: sum[coef]=9.767192E-01;     \n",
      " WARNING: FIR normalized: sum[coef]=9.767192E-01;     \n",
      " WARNING: FIR normalized: sum[coef]=9.767192E-01;     \n",
      " WARNING: FIR normalized: sum[coef]=9.767192E-01;     \n"
     ]
    },
    {
     "name": "stdout",
     "output_type": "stream",
     "text": [
      "[########                                ] | 20% Completed | 165.96 s"
     ]
    },
    {
     "name": "stderr",
     "output_type": "stream",
     "text": [
      " WARNING: FIR normalized: sum[coef]=9.767192E-01;     \n",
      " WARNING: FIR normalized: sum[coef]=9.767192E-01;     \n"
     ]
    },
    {
     "name": "stdout",
     "output_type": "stream",
     "text": [
      "[########                                ] | 20% Completed | 166.42 s"
     ]
    },
    {
     "name": "stderr",
     "output_type": "stream",
     "text": [
      " WARNING: FIR normalized: sum[coef]=9.767192E-01;     \n",
      " WARNING: FIR normalized: sum[coef]=9.767192E-01;     \n",
      " WARNING: FIR normalized: sum[coef]=9.767192E-01;     \n"
     ]
    },
    {
     "name": "stdout",
     "output_type": "stream",
     "text": [
      "[########                                ] | 20% Completed | 166.68 s"
     ]
    },
    {
     "name": "stderr",
     "output_type": "stream",
     "text": [
      " WARNING: FIR normalized: sum[coef]=9.767192E-01;     \n",
      " WARNING: FIR normalized: sum[coef]=9.767192E-01;     \n",
      " WARNING: FIR normalized: sum[coef]=9.767192E-01;     \n",
      " WARNING: FIR normalized: sum[coef]=9.767192E-01;     \n"
     ]
    },
    {
     "name": "stdout",
     "output_type": "stream",
     "text": [
      "[########                                ] | 20% Completed | 167.04 s"
     ]
    },
    {
     "name": "stderr",
     "output_type": "stream",
     "text": [
      " WARNING: FIR normalized: sum[coef]=9.767192E-01;     \n",
      " WARNING: FIR normalized: sum[coef]=9.767192E-01;     \n"
     ]
    },
    {
     "name": "stdout",
     "output_type": "stream",
     "text": [
      "[########                                ] | 20% Completed | 167.39 s"
     ]
    },
    {
     "name": "stderr",
     "output_type": "stream",
     "text": [
      " WARNING: FIR normalized: sum[coef]=9.767192E-01;     \n"
     ]
    },
    {
     "name": "stdout",
     "output_type": "stream",
     "text": [
      "[########                                ] | 20% Completed | 167.52 s"
     ]
    },
    {
     "name": "stderr",
     "output_type": "stream",
     "text": [
      " WARNING: FIR normalized: sum[coef]=9.767192E-01;     \n",
      " WARNING: FIR normalized: sum[coef]=9.767192E-01;     \n",
      " WARNING: FIR normalized: sum[coef]=9.767192E-01;     \n"
     ]
    },
    {
     "name": "stdout",
     "output_type": "stream",
     "text": [
      "[########                                ] | 20% Completed | 167.78 s"
     ]
    },
    {
     "name": "stderr",
     "output_type": "stream",
     "text": [
      " WARNING: FIR normalized: sum[coef]=9.767192E-01;     \n",
      " WARNING: FIR normalized: sum[coef]=9.767192E-01;     \n"
     ]
    },
    {
     "name": "stdout",
     "output_type": "stream",
     "text": [
      "[########                                ] | 20% Completed | 168.28 s"
     ]
    },
    {
     "name": "stderr",
     "output_type": "stream",
     "text": [
      " WARNING: FIR normalized: sum[coef]=9.767192E-01;     \n",
      " WARNING: FIR normalized: sum[coef]=9.767192E-01;     \n",
      " WARNING: FIR normalized: sum[coef]=9.767192E-01;     \n",
      " WARNING: FIR normalized: sum[coef]=9.767192E-01;     \n"
     ]
    },
    {
     "name": "stdout",
     "output_type": "stream",
     "text": [
      "[########                                ] | 20% Completed | 168.75 s"
     ]
    },
    {
     "name": "stderr",
     "output_type": "stream",
     "text": [
      " WARNING: FIR normalized: sum[coef]=9.767192E-01;     \n"
     ]
    },
    {
     "name": "stdout",
     "output_type": "stream",
     "text": [
      "[########                                ] | 20% Completed | 168.98 s"
     ]
    },
    {
     "name": "stderr",
     "output_type": "stream",
     "text": [
      " WARNING: FIR normalized: sum[coef]=9.767192E-01;     \n",
      " WARNING: FIR normalized: sum[coef]=9.767192E-01;     \n",
      " WARNING: FIR normalized: sum[coef]=9.767192E-01;     \n",
      " WARNING: FIR normalized: sum[coef]=9.767192E-01;     \n",
      " WARNING: FIR normalized: sum[coef]=9.767192E-01; "
     ]
    },
    {
     "name": "stdout",
     "output_type": "stream",
     "text": [
      "[########                                ] | 20% Completed | 169.11 s"
     ]
    },
    {
     "name": "stderr",
     "output_type": "stream",
     "text": [
      "    \n",
      " WARNING: FIR normalized: sum[coef]=9.767192E-01;     \n"
     ]
    },
    {
     "name": "stdout",
     "output_type": "stream",
     "text": [
      "[########                                ] | 20% Completed | 169.47 s"
     ]
    },
    {
     "name": "stderr",
     "output_type": "stream",
     "text": [
      " WARNING: FIR normalized: sum[coef]=9.767192E-01;     \n",
      " WARNING: FIR normalized: sum[coef]=9.767192E-01;     \n"
     ]
    },
    {
     "name": "stdout",
     "output_type": "stream",
     "text": [
      "[########                                ] | 20% Completed | 169.74 s"
     ]
    },
    {
     "name": "stderr",
     "output_type": "stream",
     "text": [
      " WARNING: FIR normalized: sum[coef]=9.767192E-01;     \n",
      " WARNING: FIR normalized: sum[coef]=9.767192E-01;     \n",
      " WARNING: FIR normalized: sum[coef]=9.767192E-01;     \n",
      " WARNING: FIR normalized: sum[coef]=9.767192E-01;     \n"
     ]
    },
    {
     "name": "stdout",
     "output_type": "stream",
     "text": [
      "[########                                ] | 20% Completed | 170.10 s"
     ]
    },
    {
     "name": "stderr",
     "output_type": "stream",
     "text": [
      " WARNING: FIR normalized: sum[coef]=9.767192E-01;     \n"
     ]
    },
    {
     "name": "stdout",
     "output_type": "stream",
     "text": [
      "[########                                ] | 21% Completed | 170.33 s"
     ]
    },
    {
     "name": "stderr",
     "output_type": "stream",
     "text": [
      " WARNING: FIR normalized: sum[coef]=9.767192E-01;     \n",
      " WARNING: FIR normalized: sum[coef]=9.767192E-01;     \n",
      " WARNING: FIR normalized: sum[coef]=9.767192E-01;     \n",
      " WARNING: FIR normalized: sum[coef]=9.767192E-01;     \n"
     ]
    },
    {
     "name": "stdout",
     "output_type": "stream",
     "text": [
      "[########                                ] | 21% Completed | 170.56 s"
     ]
    },
    {
     "name": "stderr",
     "output_type": "stream",
     "text": [
      " WARNING: FIR normalized: sum[coef]=9.767192E-01;     \n"
     ]
    },
    {
     "name": "stdout",
     "output_type": "stream",
     "text": [
      "[########                                ] | 21% Completed | 171.15 s"
     ]
    },
    {
     "name": "stderr",
     "output_type": "stream",
     "text": [
      " WARNING: FIR normalized: sum[coef]=9.767192E-01;     \n",
      " WARNING: FIR normalized: sum[coef]=9.767192E-01;     \n",
      " WARNING: FIR normalized: sum[coef]=9.767192E-01;     \n",
      " WARNING: FIR normalized: sum[coef]=9.767192E-01;     \n",
      " WARNING: FIR normalized: sum[coef]=9.767192E-01;     \n"
     ]
    },
    {
     "name": "stdout",
     "output_type": "stream",
     "text": [
      "[########                                ] | 21% Completed | 171.50 s"
     ]
    },
    {
     "name": "stderr",
     "output_type": "stream",
     "text": [
      " WARNING: FIR normalized: sum[coef]=9.767192E-01;     \n"
     ]
    },
    {
     "name": "stdout",
     "output_type": "stream",
     "text": [
      "[########                                ] | 21% Completed | 171.84 s"
     ]
    },
    {
     "name": "stderr",
     "output_type": "stream",
     "text": [
      " WARNING: FIR normalized: sum[coef]=9.767192E-01;     \n",
      " WARNING: FIR normalized: sum[coef]=9.767192E-01;     \n",
      " WARNING: FIR normalized: sum[coef]=9.767192E-01;     \n",
      " WARNING: FIR normalized: sum[coef]=9.767192E-01;     \n"
     ]
    },
    {
     "name": "stdout",
     "output_type": "stream",
     "text": [
      "[########                                ] | 21% Completed | 172.10 s"
     ]
    },
    {
     "name": "stderr",
     "output_type": "stream",
     "text": [
      " WARNING: FIR normalized: sum[coef]=9.767192E-01;     \n"
     ]
    },
    {
     "name": "stdout",
     "output_type": "stream",
     "text": [
      "[########                                ] | 21% Completed | 172.35 s"
     ]
    },
    {
     "name": "stderr",
     "output_type": "stream",
     "text": [
      " WARNING: FIR normalized: sum[coef]=9.767192E-01;     \n",
      " WARNING: FIR normalized: sum[coef]=9.767192E-01;     \n"
     ]
    },
    {
     "name": "stdout",
     "output_type": "stream",
     "text": [
      "[########                                ] | 21% Completed | 172.59 s"
     ]
    },
    {
     "name": "stderr",
     "output_type": "stream",
     "text": [
      " WARNING: FIR normalized: sum[coef]=9.767192E-01;     \n",
      " WARNING: FIR normalized: sum[coef]=9.767192E-01;     \n",
      " WARNING: FIR normalized: sum[coef]=9.767192E-01;     \n",
      " WARNING: FIR normalized: sum[coef]=9.767192E-01;     \n"
     ]
    },
    {
     "name": "stdout",
     "output_type": "stream",
     "text": [
      "[########                                ] | 21% Completed | 173.06 s"
     ]
    },
    {
     "name": "stderr",
     "output_type": "stream",
     "text": [
      " WARNING: FIR normalized: sum[coef]=9.767192E-01;     \n",
      " WARNING: FIR normalized: sum[coef]=9.767192E-01;     \n"
     ]
    },
    {
     "name": "stdout",
     "output_type": "stream",
     "text": [
      "[########                                ] | 21% Completed | 173.19 s"
     ]
    },
    {
     "name": "stderr",
     "output_type": "stream",
     "text": [
      " WARNING: FIR normalized: sum[coef]=9.767192E-01;     \n",
      " WARNING: FIR normalized: sum[coef]=9.767192E-01;     \n"
     ]
    },
    {
     "name": "stdout",
     "output_type": "stream",
     "text": [
      "[########                                ] | 21% Completed | 173.56 s"
     ]
    },
    {
     "name": "stderr",
     "output_type": "stream",
     "text": [
      " WARNING: FIR normalized: sum[coef]=9.767192E-01;     \n",
      " WARNING: FIR normalized: sum[coef]=9.767192E-01;     \n",
      " WARNING: FIR normalized: sum[coef]=9.767192E-01;     \n",
      " WARNING: FIR normalized: sum[coef]=9.767192E-01;     \n",
      " WARNING: FIR normalized: sum[coef]=9.767192E-01;     \n"
     ]
    },
    {
     "name": "stdout",
     "output_type": "stream",
     "text": [
      "[########                                ] | 21% Completed | 173.80 s"
     ]
    },
    {
     "name": "stderr",
     "output_type": "stream",
     "text": [
      " WARNING: FIR normalized: sum[coef]=9.767192E-01;     \n",
      " WARNING: FIR normalized: sum[coef]=9.767192E-01;     \n",
      " WARNING: FIR normalized: sum[coef]=9.767192E-01;     \n"
     ]
    },
    {
     "name": "stdout",
     "output_type": "stream",
     "text": [
      "[########                                ] | 21% Completed | 174.05 s"
     ]
    },
    {
     "name": "stderr",
     "output_type": "stream",
     "text": [
      " WARNING: FIR normalized: sum[coef]=9.767192E-01;     \n",
      " WARNING: FIR normalized: sum[coef]=9.767192E-01;     \n"
     ]
    },
    {
     "name": "stdout",
     "output_type": "stream",
     "text": [
      "[########                                ] | 21% Completed | 174.41 s"
     ]
    },
    {
     "name": "stderr",
     "output_type": "stream",
     "text": [
      " WARNING: FIR normalized: sum[coef]=9.767192E-01;     \n",
      " WARNING: FIR normalized: sum[coef]=9.767192E-01;     \n",
      " WARNING: FIR normalized: sum[coef]=9.767192E-01;     \n",
      " WARNING: FIR normalized: sum[coef]=9.767192E-01;     \n",
      " WARNING: FIR normalized: sum[coef]=9.767192E-01;     \n"
     ]
    },
    {
     "name": "stdout",
     "output_type": "stream",
     "text": [
      "[########                                ] | 21% Completed | 174.64 s"
     ]
    },
    {
     "name": "stderr",
     "output_type": "stream",
     "text": [
      " WARNING: FIR normalized: sum[coef]=9.767192E-01;     \n",
      " WARNING: FIR normalized: sum[coef]=9.767192E-01;     \n"
     ]
    },
    {
     "name": "stdout",
     "output_type": "stream",
     "text": [
      "[########                                ] | 21% Completed | 174.88 s"
     ]
    },
    {
     "name": "stderr",
     "output_type": "stream",
     "text": [
      " WARNING: FIR normalized: sum[coef]=9.767192E-01;     \n"
     ]
    },
    {
     "name": "stdout",
     "output_type": "stream",
     "text": [
      "[########                                ] | 21% Completed | 175.02 s"
     ]
    },
    {
     "name": "stderr",
     "output_type": "stream",
     "text": [
      " WARNING: FIR normalized: sum[coef]=9.767192E-01;     \n",
      " WARNING: FIR normalized: sum[coef]=9.767192E-01;     \n",
      " WARNING: FIR normalized: sum[coef]=9.767192E-01;     \n",
      " WARNING: FIR normalized: sum[coef]=9.767192E-01;     \n",
      " WARNING: FIR normalized: sum[coef]=9.767192E-01;     \n",
      " WARNING: FIR normalized: sum[coef]=9.767192E-01;     \n",
      " WARNING: FIR normalized: sum[coef]=9.767192E-01;     \n"
     ]
    },
    {
     "name": "stdout",
     "output_type": "stream",
     "text": [
      "[########                                ] | 21% Completed | 175.37 s"
     ]
    },
    {
     "name": "stderr",
     "output_type": "stream",
     "text": [
      " WARNING: FIR normalized: sum[coef]=9.767192E-01;     \n"
     ]
    },
    {
     "name": "stdout",
     "output_type": "stream",
     "text": [
      "[########                                ] | 21% Completed | 175.76 s"
     ]
    },
    {
     "name": "stderr",
     "output_type": "stream",
     "text": [
      " WARNING: FIR normalized: sum[coef]=9.767192E-01;     \n",
      " WARNING: FIR normalized: sum[coef]=9.767192E-01;     \n",
      " WARNING: FIR normalized: sum[coef]=9.767192E-01;     \n",
      " WARNING: FIR normalized: sum[coef]=9.767192E-01;     \n"
     ]
    },
    {
     "name": "stdout",
     "output_type": "stream",
     "text": [
      "[########                                ] | 21% Completed | 176.01 s"
     ]
    },
    {
     "name": "stderr",
     "output_type": "stream",
     "text": [
      " WARNING: FIR normalized: sum[coef]=9.767192E-01;     \n",
      " WARNING: FIR normalized: sum[coef]=9.767192E-01;     \n",
      " WARNING: FIR normalized: sum[coef]=9.767192E-01;     \n",
      " WARNING: FIR normalized: sum[coef]=9.767192E-01;     \n"
     ]
    },
    {
     "name": "stdout",
     "output_type": "stream",
     "text": [
      "[########                                ] | 21% Completed | 176.26 s"
     ]
    },
    {
     "name": "stderr",
     "output_type": "stream",
     "text": [
      " WARNING: FIR normalized: sum[coef]=9.767192E-01;     \n",
      " WARNING: FIR normalized: sum[coef]=9.767192E-01;     \n",
      " WARNING: FIR normalized: sum[coef]=9.767192E-01;     \n"
     ]
    },
    {
     "name": "stdout",
     "output_type": "stream",
     "text": [
      "[########                                ] | 21% Completed | 176.49 s"
     ]
    },
    {
     "name": "stderr",
     "output_type": "stream",
     "text": [
      " WARNING: FIR normalized: sum[coef]=9.767192E-01;     \n",
      " WARNING: FIR normalized: sum[coef]=9.767192E-01;     \n",
      " WARNING: FIR normalized: sum[coef]=9.767192E-01;     \n"
     ]
    },
    {
     "name": "stdout",
     "output_type": "stream",
     "text": [
      "[########                                ] | 21% Completed | 176.74 s"
     ]
    },
    {
     "name": "stderr",
     "output_type": "stream",
     "text": [
      " WARNING: FIR normalized: sum[coef]=9.767192E-01;     \n",
      " WARNING: FIR normalized: sum[coef]=9.767192E-01;     \n",
      " WARNING: FIR normalized: sum[coef]=9.767192E-01;     \n",
      " WARNING: FIR normalized: sum[coef]=9.767192E-01;     \n"
     ]
    },
    {
     "name": "stdout",
     "output_type": "stream",
     "text": [
      "[########                                ] | 21% Completed | 176.97 s"
     ]
    },
    {
     "name": "stderr",
     "output_type": "stream",
     "text": [
      " WARNING: FIR normalized: sum[coef]=9.767192E-01;     \n",
      " WARNING: FIR normalized: sum[coef]=9.767192E-01;     \n",
      " WARNING: FIR normalized: sum[coef]=9.767192E-01;     \n",
      " WARNING: FIR normalized: sum[coef]=9.767192E-01;     \n",
      " WARNING: FIR normalized: sum[coef]=9.767192E-01;     \n"
     ]
    },
    {
     "name": "stdout",
     "output_type": "stream",
     "text": [
      "[########                                ] | 21% Completed | 177.32 s"
     ]
    },
    {
     "name": "stderr",
     "output_type": "stream",
     "text": [
      " WARNING: FIR normalized: sum[coef]=9.767192E-01;     \n",
      " WARNING: FIR normalized: sum[coef]=9.767192E-01;     \n",
      " WARNING: FIR normalized: sum[coef]=9.767192E-01;     \n",
      " WARNING: FIR normalized: sum[coef]=9.767192E-01;     \n",
      " WARNING: FIR normalized: sum[coef]=9.767192E-01;     \n",
      " WARNING: FIR normalized: sum[coef]=9.767192E-01;     \n"
     ]
    },
    {
     "name": "stdout",
     "output_type": "stream",
     "text": [
      "[########                                ] | 21% Completed | 177.57 s"
     ]
    },
    {
     "name": "stderr",
     "output_type": "stream",
     "text": [
      " WARNING: FIR normalized: sum[coef]=9.767192E-01;     \n",
      " WARNING: FIR normalized: sum[coef]=9.767192E-01;     \n",
      " WARNING: FIR normalized: sum[coef]=9.767192E-01;     \n"
     ]
    },
    {
     "name": "stdout",
     "output_type": "stream",
     "text": [
      "[########                                ] | 21% Completed | 177.81 s"
     ]
    },
    {
     "name": "stderr",
     "output_type": "stream",
     "text": [
      " WARNING: FIR normalized: sum[coef]=9.767192E-01;     \n",
      " WARNING: FIR normalized: sum[coef]=9.767192E-01;     \n",
      " WARNING: FIR normalized: sum[coef]=9.767192E-01;     \n",
      " WARNING: FIR normalized: sum[coef]=9.767192E-01;     \n"
     ]
    },
    {
     "name": "stdout",
     "output_type": "stream",
     "text": [
      "[########                                ] | 21% Completed | 178.08 s"
     ]
    },
    {
     "name": "stderr",
     "output_type": "stream",
     "text": [
      " WARNING: FIR normalized: sum[coef]=9.767192E-01;     \n",
      " WARNING: FIR normalized: sum[coef]=9.767192E-01;     \n",
      " WARNING: FIR normalized: sum[coef]=9.767192E-01;     \n"
     ]
    },
    {
     "name": "stdout",
     "output_type": "stream",
     "text": [
      "[########                                ] | 21% Completed | 178.44 s"
     ]
    },
    {
     "name": "stderr",
     "output_type": "stream",
     "text": [
      " WARNING: FIR normalized: sum[coef]=9.767192E-01;     \n",
      " WARNING: FIR normalized: sum[coef]=9.767192E-01;     \n",
      " WARNING: FIR normalized: sum[coef]=9.767192E-01;     \n",
      " WARNING: FIR normalized: sum[coef]=9.767192E-01;     \n"
     ]
    },
    {
     "name": "stdout",
     "output_type": "stream",
     "text": [
      "[########                                ] | 21% Completed | 178.57 s"
     ]
    },
    {
     "name": "stderr",
     "output_type": "stream",
     "text": [
      " WARNING: FIR normalized: sum[coef]=9.767192E-01;     \n",
      " WARNING: FIR normalized: sum[coef]=9.767192E-01;     \n",
      " WARNING: FIR normalized: sum[coef]=9.767192E-01;     \n",
      " WARNING: FIR normalized: sum[coef]=9.767192E-01;     \n"
     ]
    },
    {
     "name": "stdout",
     "output_type": "stream",
     "text": [
      "[########                                ] | 21% Completed | 178.94 s"
     ]
    },
    {
     "name": "stderr",
     "output_type": "stream",
     "text": [
      " WARNING: FIR normalized: sum[coef]=9.767192E-01;     \n",
      " WARNING: FIR normalized: sum[coef]=9.767192E-01;     \n",
      " WARNING: FIR normalized: sum[coef]=9.767192E-01;     \n",
      " WARNING: FIR normalized: sum[coef]=9.767192E-01;     \n"
     ]
    },
    {
     "name": "stdout",
     "output_type": "stream",
     "text": [
      "[########                                ] | 21% Completed | 179.17 s"
     ]
    },
    {
     "name": "stderr",
     "output_type": "stream",
     "text": [
      " WARNING: FIR normalized: sum[coef]=9.767192E-01;     \n",
      " WARNING: FIR normalized: sum[coef]=9.767192E-01;     \n"
     ]
    },
    {
     "name": "stdout",
     "output_type": "stream",
     "text": [
      "[########                                ] | 21% Completed | 179.41 s"
     ]
    },
    {
     "name": "stderr",
     "output_type": "stream",
     "text": [
      " WARNING: FIR normalized: sum[coef]=9.767192E-01;     \n",
      " WARNING: FIR normalized: sum[coef]=9.767192E-01;     \n",
      " WARNING: FIR normalized: sum[coef]=9.767192E-01;     \n",
      " WARNING: FIR normalized: sum[coef]=9.767192E-01;     \n",
      " WARNING: FIR normalized: sum[coef]=9.767192E-01;     \n",
      " WARNING: FIR normalized: sum[coef]=9.767192E-01;     \n",
      " WARNING: FIR normalized: sum[coef]=9.767192E-01;     \n",
      " WARNING: FIR normalized: sum[coef]=9.767192E-01;     \n",
      " WARNING: FIR normalized: sum[coef]=9.767192E-01;     \n"
     ]
    },
    {
     "name": "stdout",
     "output_type": "stream",
     "text": [
      "[########                                ] | 21% Completed | 179.64 s"
     ]
    },
    {
     "name": "stderr",
     "output_type": "stream",
     "text": [
      " WARNING: FIR normalized: sum[coef]=9.767192E-01;     \n",
      " WARNING: FIR normalized: sum[coef]=9.767192E-01;     \n",
      " WARNING: FIR normalized: sum[coef]=9.767192E-01;     \n",
      " WARNING: FIR normalized: sum[coef]=9.767192E-01;     \n",
      " WARNING: FIR normalized: sum[coef]=9.767192E-01;     \n"
     ]
    },
    {
     "name": "stdout",
     "output_type": "stream",
     "text": [
      "[########                                ] | 21% Completed | 179.89 s"
     ]
    },
    {
     "name": "stderr",
     "output_type": "stream",
     "text": [
      " WARNING: FIR normalized: sum[coef]=9.767192E-01;     \n",
      " WARNING: FIR normalized: sum[coef]=9.767192E-01;     \n",
      " WARNING: FIR normalized: sum[coef]=9.767192E-01;     \n",
      " WARNING: FIR normalized: sum[coef]=9.767192E-01;     \n"
     ]
    },
    {
     "name": "stdout",
     "output_type": "stream",
     "text": [
      "[########                                ] | 21% Completed | 180.13 s"
     ]
    },
    {
     "name": "stderr",
     "output_type": "stream",
     "text": [
      " WARNING: FIR normalized: sum[coef]=9.767192E-01;     \n",
      " WARNING: FIR normalized: sum[coef]=9.767192E-01;     \n",
      " WARNING: FIR normalized: sum[coef]=9.767192E-01;     \n",
      " WARNING: FIR normalized: sum[coef]=9.767192E-01;     \n",
      " WARNING: FIR normalized: sum[coef]=9.767192E-01;     \n",
      " WARNING: FIR normalized: sum[coef]=9.767192E-01;     \n"
     ]
    },
    {
     "name": "stdout",
     "output_type": "stream",
     "text": [
      "[########                                ] | 21% Completed | 180.50 s"
     ]
    },
    {
     "name": "stderr",
     "output_type": "stream",
     "text": [
      " WARNING: FIR normalized: sum[coef]=9.767192E-01;     \n",
      " WARNING: FIR normalized: sum[coef]=9.767192E-01;     \n",
      " WARNING: FIR normalized: sum[coef]=9.767192E-01;     \n",
      " WARNING: FIR normalized: sum[coef]=9.767192E-01;     \n",
      " WARNING: FIR normalized: sum[coef]=9.767192E-01;     \n",
      " WARNING: FIR normalized: sum[coef]=9.767192E-01;     \n",
      " WARNING: FIR normalized: sum[coef]=9.767192E-01;     \n",
      " WARNING: FIR normalized: sum[coef]=9.767192E-01;     \n"
     ]
    },
    {
     "name": "stdout",
     "output_type": "stream",
     "text": [
      "[########                                ] | 21% Completed | 180.74 s"
     ]
    },
    {
     "name": "stderr",
     "output_type": "stream",
     "text": [
      " WARNING: FIR normalized: sum[coef]=9.767192E-01;     \n",
      " WARNING: FIR normalized: sum[coef]=9.767192E-01;     \n",
      " WARNING: FIR normalized: sum[coef]=9.767192E-01;     \n",
      " WARNING: FIR normalized: sum[coef]=9.767192E-01;     \n",
      " WARNING: FIR normalized: sum[coef]=9.767192E-01;     \n"
     ]
    },
    {
     "name": "stdout",
     "output_type": "stream",
     "text": [
      "[########                                ] | 21% Completed | 180.96 s"
     ]
    },
    {
     "name": "stderr",
     "output_type": "stream",
     "text": [
      " WARNING: FIR normalized: sum[coef]=9.767192E-01;     \n",
      " WARNING: FIR normalized: sum[coef]=9.767192E-01;     \n",
      " WARNING: FIR normalized: sum[coef]=9.767192E-01;     \n",
      " WARNING: FIR normalized: sum[coef]=9.767192E-01;     \n",
      " WARNING: FIR normalized: sum[coef]=9.767192E-01;     \n"
     ]
    },
    {
     "name": "stdout",
     "output_type": "stream",
     "text": [
      "[########                                ] | 21% Completed | 181.25 s"
     ]
    },
    {
     "name": "stderr",
     "output_type": "stream",
     "text": [
      " WARNING: FIR normalized: sum[coef]=9.767192E-01;     \n",
      " WARNING: FIR normalized: sum[coef]=9.767192E-01;     \n"
     ]
    },
    {
     "name": "stdout",
     "output_type": "stream",
     "text": [
      "[########                                ] | 21% Completed | 181.49 s"
     ]
    },
    {
     "name": "stderr",
     "output_type": "stream",
     "text": [
      " WARNING: FIR normalized: sum[coef]=9.767192E-01;     \n",
      " WARNING: FIR normalized: sum[coef]=9.767192E-01;     \n",
      " WARNING: FIR normalized: sum[coef]=9.767192E-01;     \n",
      " WARNING: FIR normalized: sum[coef]=9.767192E-01;     \n",
      " WARNING: FIR normalized: sum[coef]=9.767192E-01;     \n",
      " WARNING: FIR normalized: sum[coef]=9.767192E-01;     \n",
      " WARNING: FIR normalized: sum[coef]=9.767192E-01;     \n",
      " WARNING: FIR normalized: sum[coef]=9.767192E-01;     \n",
      " WARNING: FIR normalized: sum[coef]=9.767192E-01;     \n"
     ]
    },
    {
     "name": "stdout",
     "output_type": "stream",
     "text": [
      "[########                                ] | 21% Completed | 181.74 s"
     ]
    },
    {
     "name": "stderr",
     "output_type": "stream",
     "text": [
      " WARNING: FIR normalized: sum[coef]=9.767192E-01;     \n",
      " WARNING: FIR normalized: sum[coef]=9.767192E-01;     \n",
      " WARNING: FIR normalized: sum[coef]=9.767192E-01;     \n",
      " WARNING: FIR normalized: sum[coef]=9.767192E-01;     \n",
      " WARNING: FIR normalized: sum[coef]=9.767192E-01;     \n",
      " WARNING: FIR normalized: sum[coef]=9.767192E-01;     \n",
      " WARNING: FIR normalized: sum[coef]=9.767192E-01;     \n",
      " WARNING: FIR normalized: sum[coef]=9.767192E-01;     \n"
     ]
    },
    {
     "name": "stdout",
     "output_type": "stream",
     "text": [
      "[########                                ] | 21% Completed | 181.99 s"
     ]
    },
    {
     "name": "stderr",
     "output_type": "stream",
     "text": [
      " WARNING: FIR normalized: sum[coef]=9.767192E-01;     \n",
      " WARNING: FIR normalized: sum[coef]=9.767192E-01;     \n"
     ]
    },
    {
     "name": "stdout",
     "output_type": "stream",
     "text": [
      "[########                                ] | 21% Completed | 182.22 s"
     ]
    },
    {
     "name": "stderr",
     "output_type": "stream",
     "text": [
      " WARNING: FIR normalized: sum[coef]=9.767192E-01;     \n",
      " WARNING: FIR normalized: sum[coef]=9.767192E-01;     \n",
      " WARNING: FIR normalized: sum[coef]=9.767192E-01;     \n",
      " WARNING: FIR normalized: sum[coef]=9.767192E-01;     \n",
      " WARNING: FIR normalized: sum[coef]=9.767192E-01;     \n",
      " WARNING: FIR normalized: sum[coef]=9.767192E-01;     \n"
     ]
    },
    {
     "name": "stdout",
     "output_type": "stream",
     "text": [
      "[########                                ] | 21% Completed | 182.49 s"
     ]
    },
    {
     "name": "stderr",
     "output_type": "stream",
     "text": [
      " WARNING: FIR normalized: sum[coef]=9.767192E-01;     \n",
      " WARNING: FIR normalized: sum[coef]=9.767192E-01;     \n",
      " WARNING: FIR normalized: sum[coef]=9.767192E-01;     \n",
      " WARNING: FIR normalized: sum[coef]=9.767192E-01;     \n",
      " WARNING: FIR normalized: sum[coef]=9.767192E-01;     \n",
      " WARNING: FIR normalized: sum[coef]=9.767192E-01;     \n",
      " WARNING: FIR normalized: sum[coef]=9.767192E-01;     \n",
      " WARNING: FIR normalized: sum[coef]=9.767192E-01;     \n",
      " WARNING: FIR normalized: sum[coef]=9.767192E-01;     \n"
     ]
    },
    {
     "name": "stdout",
     "output_type": "stream",
     "text": [
      "[########                                ] | 21% Completed | 182.72 s"
     ]
    },
    {
     "name": "stderr",
     "output_type": "stream",
     "text": [
      " WARNING: FIR normalized: sum[coef]=9.767192E-01;     \n",
      " WARNING: FIR normalized: sum[coef]=9.767192E-01;     \n",
      " WARNING: FIR normalized: sum[coef]=9.767192E-01;     \n",
      " WARNING: FIR normalized: sum[coef]=9.767192E-01;     \n",
      " WARNING: FIR normalized: sum[coef]=9.767192E-01;     \n",
      " WARNING: FIR normalized: sum[coef]=9.767192E-01;     \n",
      " WARNING: FIR normalized: sum[coef]=9.767192E-01;     \n",
      " WARNING: FIR normalized: sum[coef]=9.767192E-01;     \n"
     ]
    },
    {
     "name": "stdout",
     "output_type": "stream",
     "text": [
      "[########                                ] | 21% Completed | 183.09 s"
     ]
    },
    {
     "name": "stderr",
     "output_type": "stream",
     "text": [
      " WARNING: FIR normalized: sum[coef]=9.767192E-01;     \n",
      " WARNING: FIR normalized: sum[coef]=9.767192E-01;     \n",
      " WARNING: FIR normalized: sum[coef]=9.767192E-01;     \n",
      " WARNING: FIR normalized: sum[coef]=9.767192E-01;     \n"
     ]
    },
    {
     "name": "stdout",
     "output_type": "stream",
     "text": [
      "[########                                ] | 21% Completed | 183.33 s"
     ]
    },
    {
     "name": "stderr",
     "output_type": "stream",
     "text": [
      " WARNING: FIR normalized: sum[coef]=9.767192E-01;     \n",
      " WARNING: FIR normalized: sum[coef]=9.767192E-01;     \n",
      " WARNING: FIR normalized: sum[coef]=9.767192E-01;     \n",
      " WARNING: FIR normalized: sum[coef]=9.767192E-01;     \n",
      " WARNING: FIR normalized: sum[coef]=9.767192E-01;     \n",
      " WARNING: FIR normalized: sum[coef]=9.767192E-01;     \n",
      " WARNING: FIR normalized: sum[coef]=9.767192E-01;     \n",
      " WARNING: FIR normalized: sum[coef]=9.767192E-01;     \n",
      " WARNING: FIR normalized: sum[coef]=9.767192E-01;     \n",
      " WARNING: FIR normalized: sum[coef]=9.767192E-01;     \n"
     ]
    },
    {
     "name": "stdout",
     "output_type": "stream",
     "text": [
      "[########                                ] | 21% Completed | 183.56 s"
     ]
    },
    {
     "name": "stderr",
     "output_type": "stream",
     "text": [
      " WARNING: FIR normalized: sum[coef]=9.767192E-01;     \n",
      " WARNING: FIR normalized: sum[coef]=9.767192E-01;     \n",
      " WARNING: FIR normalized: sum[coef]=9.767192E-01;     \n",
      " WARNING: FIR normalized: sum[coef]=9.767192E-01;     \n",
      " WARNING: FIR normalized: sum[coef]=9.767192E-01;     \n",
      " WARNING: FIR normalized: sum[coef]=9.767192E-01;     \n",
      " WARNING: FIR normalized: sum[coef]=9.767192E-01;     \n",
      " WARNING: FIR normalized: sum[coef]=9.767192E-01;     \n"
     ]
    },
    {
     "name": "stdout",
     "output_type": "stream",
     "text": [
      "[########                                ] | 22% Completed | 183.79 s"
     ]
    },
    {
     "name": "stderr",
     "output_type": "stream",
     "text": [
      " WARNING: FIR normalized: sum[coef]=9.767192E-01;     \n",
      " WARNING: FIR normalized: sum[coef]=9.767192E-01;     \n",
      " WARNING: FIR normalized: sum[coef]=9.767192E-01;     \n",
      " WARNING: FIR normalized: sum[coef]=9.767192E-01;     \n"
     ]
    },
    {
     "name": "stdout",
     "output_type": "stream",
     "text": [
      "[########                                ] | 22% Completed | 184.14 s"
     ]
    },
    {
     "name": "stderr",
     "output_type": "stream",
     "text": [
      " WARNING: FIR normalized: sum[coef]=9.767192E-01;     \n",
      " WARNING: FIR normalized: sum[coef]=9.767192E-01;     \n",
      " WARNING: FIR normalized: sum[coef]=9.767192E-01;     \n",
      " WARNING: FIR normalized: sum[coef]=9.767192E-01;     \n",
      " WARNING: FIR normalized: sum[coef]=9.767192E-01;     \n"
     ]
    },
    {
     "name": "stdout",
     "output_type": "stream",
     "text": [
      "[########                                ] | 22% Completed | 184.37 s"
     ]
    },
    {
     "name": "stderr",
     "output_type": "stream",
     "text": [
      " WARNING: FIR normalized: sum[coef]=9.767192E-01;     \n",
      " WARNING: FIR normalized: sum[coef]=9.767192E-01;     \n",
      " WARNING: FIR normalized: sum[coef]=9.767192E-01;     \n",
      " WARNING: FIR normalized: sum[coef]=9.767192E-01;     \n",
      " WARNING: FIR normalized: sum[coef]=9.767192E-01;     \n",
      " WARNING: FIR normalized: sum[coef]=9.767192E-01;     \n",
      " WARNING: FIR normalized: sum[coef]=9.767192E-01;     \n",
      " WARNING: FIR normalized: sum[coef]=9.767192E-01;     \n",
      " WARNING: FIR normalized: sum[coef]=9.767192E-01;     \n"
     ]
    },
    {
     "name": "stdout",
     "output_type": "stream",
     "text": [
      "[#########                               ] | 22% Completed | 184.59 s"
     ]
    },
    {
     "name": "stderr",
     "output_type": "stream",
     "text": [
      " WARNING: FIR normalized: sum[coef]=9.767192E-01;     \n",
      " WARNING: FIR normalized: sum[coef]=9.767192E-01;     \n",
      " WARNING: FIR normalized: sum[coef]=9.767192E-01;     \n",
      " WARNING: FIR normalized: sum[coef]=9.767192E-01;     \n",
      " WARNING: FIR normalized: sum[coef]=9.767192E-01;     \n"
     ]
    },
    {
     "name": "stdout",
     "output_type": "stream",
     "text": [
      "[#########                               ] | 22% Completed | 184.83 s"
     ]
    },
    {
     "name": "stderr",
     "output_type": "stream",
     "text": [
      " WARNING: FIR normalized: sum[coef]=9.767192E-01;     \n",
      " WARNING: FIR normalized: sum[coef]=9.767192E-01;     \n",
      " WARNING: FIR normalized: sum[coef]=9.767192E-01;     \n",
      " WARNING: FIR normalized: sum[coef]=9.767192E-01;     \n",
      " WARNING: FIR normalized: sum[coef]=9.767192E-01;     \n"
     ]
    },
    {
     "name": "stdout",
     "output_type": "stream",
     "text": [
      "[#########                               ] | 22% Completed | 184.95 s"
     ]
    },
    {
     "name": "stderr",
     "output_type": "stream",
     "text": [
      " WARNING: FIR normalized: sum[coef]=9.767192E-01;     \n",
      " WARNING: FIR normalized: sum[coef]=9.767192E-01;     \n",
      " WARNING: FIR normalized: sum[coef]=9.767192E-01;     \n",
      " WARNING: FIR normalized: sum[coef]=9.767192E-01;     \n"
     ]
    },
    {
     "name": "stdout",
     "output_type": "stream",
     "text": [
      "[#########                               ] | 22% Completed | 185.18 s"
     ]
    },
    {
     "name": "stderr",
     "output_type": "stream",
     "text": [
      " WARNING: FIR normalized: sum[coef]=9.767192E-01;     \n",
      " WARNING: FIR normalized: sum[coef]=9.767192E-01;     \n",
      " WARNING: FIR normalized: sum[coef]=9.767192E-01;     \n",
      " WARNING: FIR normalized: sum[coef]=9.767192E-01;     \n",
      " WARNING: FIR normalized: sum[coef]=9.767192E-01;     \n",
      " WARNING: FIR normalized: sum[coef]=9.767192E-01;     \n",
      " WARNING: FIR normalized: sum[coef]=9.767192E-01;     \n"
     ]
    },
    {
     "name": "stdout",
     "output_type": "stream",
     "text": [
      "[#########                               ] | 22% Completed | 185.42 s"
     ]
    },
    {
     "name": "stderr",
     "output_type": "stream",
     "text": [
      " WARNING: FIR normalized: sum[coef]=9.767192E-01;     \n",
      " WARNING: FIR normalized: sum[coef]=9.767192E-01;     \n",
      " WARNING: FIR normalized: sum[coef]=9.767192E-01;     \n",
      " WARNING: FIR normalized: sum[coef]=9.767192E-01;     \n",
      " WARNING: FIR normalized: sum[coef]=9.767192E-01;     \n"
     ]
    },
    {
     "name": "stdout",
     "output_type": "stream",
     "text": [
      "[#########                               ] | 22% Completed | 185.66 s"
     ]
    },
    {
     "name": "stderr",
     "output_type": "stream",
     "text": [
      " WARNING: FIR normalized: sum[coef]=9.767192E-01;     \n",
      " WARNING: FIR normalized: sum[coef]=9.767192E-01;     \n",
      " WARNING: FIR normalized: sum[coef]=9.767192E-01;     \n",
      " WARNING: FIR normalized: sum[coef]=9.767192E-01;     \n",
      " WARNING: FIR normalized: sum[coef]=9.767192E-01;     \n",
      " WARNING: FIR normalized: sum[coef]=9.767192E-01;     \n",
      " WARNING: FIR normalized: sum[coef]=9.767192E-01;     \n"
     ]
    },
    {
     "name": "stdout",
     "output_type": "stream",
     "text": [
      "[#########                               ] | 22% Completed | 185.91 s"
     ]
    },
    {
     "name": "stderr",
     "output_type": "stream",
     "text": [
      " WARNING: FIR normalized: sum[coef]=9.767192E-01;     \n",
      " WARNING: FIR normalized: sum[coef]=9.767192E-01;     \n",
      " WARNING: FIR normalized: sum[coef]=9.767192E-01;     \n",
      " WARNING: FIR normalized: sum[coef]=9.767192E-01;     \n",
      " WARNING: FIR normalized: sum[coef]=9.767192E-01;     \n",
      " WARNING: FIR normalized: sum[coef]=9.767192E-01;     \n",
      " WARNING: FIR normalized: sum[coef]=9.767192E-01;     \n"
     ]
    },
    {
     "name": "stdout",
     "output_type": "stream",
     "text": [
      "[#########                               ] | 22% Completed | 186.14 s"
     ]
    },
    {
     "name": "stderr",
     "output_type": "stream",
     "text": [
      " WARNING: FIR normalized: sum[coef]=9.767192E-01;     \n",
      " WARNING: FIR normalized: sum[coef]=9.767192E-01;     \n",
      " WARNING: FIR normalized: sum[coef]=9.767192E-01;     \n",
      " WARNING: FIR normalized: sum[coef]=9.767192E-01;     \n",
      " WARNING: FIR normalized: sum[coef]=9.767192E-01;     \n"
     ]
    },
    {
     "name": "stdout",
     "output_type": "stream",
     "text": [
      "[#########                               ] | 22% Completed | 186.36 s"
     ]
    },
    {
     "name": "stderr",
     "output_type": "stream",
     "text": [
      " WARNING: FIR normalized: sum[coef]=9.767192E-01;     \n",
      " WARNING: FIR normalized: sum[coef]=9.767192E-01;     \n",
      " WARNING: FIR normalized: sum[coef]=9.767192E-01;     \n",
      " WARNING: FIR normalized: sum[coef]=9.767192E-01;     \n",
      " WARNING: FIR normalized: sum[coef]=9.767192E-01;     \n",
      " WARNING: FIR normalized: sum[coef]=9.767192E-01;     \n"
     ]
    },
    {
     "name": "stdout",
     "output_type": "stream",
     "text": [
      "[#########                               ] | 22% Completed | 186.58 s"
     ]
    },
    {
     "name": "stderr",
     "output_type": "stream",
     "text": [
      " WARNING: FIR normalized: sum[coef]=9.767192E-01;     \n",
      " WARNING: FIR normalized: sum[coef]=9.767192E-01;     \n",
      " WARNING: FIR normalized: sum[coef]=9.767192E-01;     \n",
      " WARNING: FIR normalized: sum[coef]=9.767192E-01;     \n",
      " WARNING: FIR normalized: sum[coef]=9.767192E-01;     \n"
     ]
    },
    {
     "name": "stdout",
     "output_type": "stream",
     "text": [
      "[#########                               ] | 22% Completed | 186.80 s"
     ]
    },
    {
     "name": "stderr",
     "output_type": "stream",
     "text": [
      " WARNING: FIR normalized: sum[coef]=9.767192E-01;     \n",
      " WARNING: FIR normalized: sum[coef]=9.767192E-01;     \n",
      " WARNING: FIR normalized: sum[coef]=9.767192E-01;     \n",
      " WARNING: FIR normalized: sum[coef]=9.767192E-01;     \n",
      " WARNING: FIR normalized: sum[coef]=9.767192E-01;     \n",
      " WARNING: FIR normalized: sum[coef]=9.767192E-01;     \n"
     ]
    },
    {
     "name": "stdout",
     "output_type": "stream",
     "text": [
      "[#########                               ] | 22% Completed | 187.06 s"
     ]
    },
    {
     "name": "stderr",
     "output_type": "stream",
     "text": [
      " WARNING: FIR normalized: sum[coef]=9.767192E-01;     \n",
      " WARNING: FIR normalized: sum[coef]=9.767192E-01;     \n",
      " WARNING: FIR normalized: sum[coef]=9.767192E-01;     \n",
      " WARNING: FIR normalized: sum[coef]=9.767192E-01;     \n",
      " WARNING: FIR normalized: sum[coef]=9.767192E-01;     \n",
      " WARNING: FIR normalized: sum[coef]=9.767192E-01;     \n",
      " WARNING: FIR normalized: sum[coef]=9.767192E-01;     \n"
     ]
    },
    {
     "name": "stdout",
     "output_type": "stream",
     "text": [
      "[#########                               ] | 22% Completed | 187.31 s"
     ]
    },
    {
     "name": "stderr",
     "output_type": "stream",
     "text": [
      " WARNING: FIR normalized: sum[coef]=9.767192E-01;     \n",
      " WARNING: FIR normalized: sum[coef]=9.767192E-01;     \n",
      " WARNING: FIR normalized: sum[coef]=9.767192E-01;     \n",
      " WARNING: FIR normalized: sum[coef]=9.767192E-01;     \n",
      " WARNING: FIR normalized: sum[coef]=9.767192E-01;     \n",
      " WARNING: FIR normalized: sum[coef]=9.767192E-01;     \n",
      " WARNING: FIR normalized: sum[coef]=9.767192E-01;     \n",
      " WARNING: FIR normalized: sum[coef]=9.767192E-01;     \n"
     ]
    },
    {
     "name": "stdout",
     "output_type": "stream",
     "text": [
      "[#########                               ] | 22% Completed | 187.42 s/classification: list index out of range\n",
      "[#########                               ] | 23% Completed | 187.66 s"
     ]
    },
    {
     "name": "stderr",
     "output_type": "stream",
     "text": [
      " WARNING: FIR normalized: sum[coef]=9.767192E-01;     \n",
      " WARNING: FIR normalized: sum[coef]=9.767192E-01;     \n",
      " WARNING: FIR normalized: sum[coef]=9.767192E-01;     \n",
      " WARNING: FIR normalized: sum[coef]=9.767192E-01;     \n",
      " WARNING: FIR normalized: sum[coef]=9.767192E-01;     \n",
      " WARNING: FIR normalized: sum[coef]=9.767192E-01;     \n",
      " WARNING: FIR normalized: sum[coef]=9.767192E-01;     \n"
     ]
    },
    {
     "name": "stdout",
     "output_type": "stream",
     "text": [
      "[#########                               ] | 23% Completed | 187.91 s"
     ]
    },
    {
     "name": "stderr",
     "output_type": "stream",
     "text": [
      " WARNING: FIR normalized: sum[coef]=9.767192E-01;     \n",
      " WARNING: FIR normalized: sum[coef]=9.767192E-01;     \n",
      " WARNING: FIR normalized: sum[coef]=9.767192E-01;     \n",
      " WARNING: FIR normalized: sum[coef]=9.767192E-01;     \n",
      " WARNING: FIR normalized: sum[coef]=9.767192E-01;     \n",
      " WARNING: FIR normalized: sum[coef]=9.767192E-01;     \n",
      " WARNING: FIR normalized: sum[coef]=9.767192E-01;     \n"
     ]
    },
    {
     "name": "stdout",
     "output_type": "stream",
     "text": [
      "[#########                               ] | 23% Completed | 188.16 s"
     ]
    },
    {
     "name": "stderr",
     "output_type": "stream",
     "text": [
      " WARNING: FIR normalized: sum[coef]=9.767192E-01;     \n",
      " WARNING: FIR normalized: sum[coef]=9.767192E-01;     \n",
      " WARNING: FIR normalized: sum[coef]=9.767192E-01;     \n",
      " WARNING: FIR normalized: sum[coef]=9.767192E-01;     \n",
      " WARNING: FIR normalized: sum[coef]=9.767192E-01;     \n",
      " WARNING: FIR normalized: sum[coef]=9.767192E-01;     \n"
     ]
    },
    {
     "name": "stdout",
     "output_type": "stream",
     "text": [
      "[#########                               ] | 23% Completed | 188.38 s"
     ]
    },
    {
     "name": "stderr",
     "output_type": "stream",
     "text": [
      " WARNING: FIR normalized: sum[coef]=9.767192E-01;     \n",
      " WARNING: FIR normalized: sum[coef]=9.767192E-01;     \n",
      " WARNING: FIR normalized: sum[coef]=9.767192E-01;     \n",
      " WARNING: FIR normalized: sum[coef]=9.767192E-01;     \n",
      " WARNING: FIR normalized: sum[coef]=9.767192E-01;     \n",
      " WARNING: FIR normalized: sum[coef]=9.767192E-01;     \n",
      " WARNING: FIR normalized: sum[coef]=9.767192E-01;     \n"
     ]
    },
    {
     "name": "stdout",
     "output_type": "stream",
     "text": [
      "[#########                               ] | 23% Completed | 188.49 s[2012-12-15T23:43:20.000000Z] No data or fatal error during detection/classification: list index out of range\n",
      "[#########                               ] | 24% Completed | 188.61 s"
     ]
    },
    {
     "name": "stderr",
     "output_type": "stream",
     "text": [
      " WARNING: FIR normalized: sum[coef]=9.767192E-01;     \n",
      " WARNING: FIR normalized: sum[coef]=9.767192E-01;     \n",
      " WARNING: FIR normalized: sum[coef]=9.767192E-01;     \n",
      " WARNING: FIR normalized: sum[coef]=9.767192E-01;     \n",
      " WARNING: FIR normalized: sum[coef]=9.767192E-01;     \n",
      " WARNING: FIR normalized: sum[coef]=9.767192E-01;     \n"
     ]
    },
    {
     "name": "stdout",
     "output_type": "stream",
     "text": [
      "[#########                               ] | 24% Completed | 188.85 s"
     ]
    },
    {
     "name": "stderr",
     "output_type": "stream",
     "text": [
      " WARNING: FIR normalized: sum[coef]=9.767192E-01;     \n",
      " WARNING: FIR normalized: sum[coef]=9.767192E-01;     \n",
      " WARNING: FIR normalized: sum[coef]=9.767192E-01;     \n",
      " WARNING: FIR normalized: sum[coef]=9.767192E-01;     \n",
      " WARNING: FIR normalized: sum[coef]=9.767192E-01;     \n",
      " WARNING: FIR normalized: sum[coef]=9.767192E-01;     \n"
     ]
    },
    {
     "name": "stdout",
     "output_type": "stream",
     "text": [
      "[#########                               ] | 24% Completed | 189.07 s"
     ]
    },
    {
     "name": "stderr",
     "output_type": "stream",
     "text": [
      " WARNING: FIR normalized: sum[coef]=9.767192E-01;     \n",
      " WARNING: FIR normalized: sum[coef]=9.767192E-01;     \n",
      " WARNING: FIR normalized: sum[coef]=9.767192E-01;     \n",
      " WARNING: FIR normalized: sum[coef]=9.767192E-01;     \n"
     ]
    },
    {
     "name": "stdout",
     "output_type": "stream",
     "text": [
      "[#########                               ] | 24% Completed | 189.32 s"
     ]
    },
    {
     "name": "stderr",
     "output_type": "stream",
     "text": [
      " WARNING: FIR normalized: sum[coef]=9.767192E-01;     \n",
      " WARNING: FIR normalized: sum[coef]=9.767192E-01;     \n",
      " WARNING: FIR normalized: sum[coef]=9.767192E-01;     \n",
      " WARNING: FIR normalized: sum[coef]=9.767192E-01;     \n",
      " WARNING: FIR normalized: sum[coef]=9.767192E-01;     \n"
     ]
    },
    {
     "name": "stdout",
     "output_type": "stream",
     "text": [
      "[#########                               ] | 24% Completed | 189.57 s"
     ]
    },
    {
     "name": "stderr",
     "output_type": "stream",
     "text": [
      " WARNING: FIR normalized: sum[coef]=9.767192E-01;     \n",
      " WARNING: FIR normalized: sum[coef]=9.767192E-01;     \n",
      " WARNING: FIR normalized: sum[coef]=9.767192E-01;     \n",
      " WARNING: FIR normalized: sum[coef]=9.767192E-01;     \n",
      " WARNING: FIR normalized: sum[coef]=9.767192E-01;     \n",
      " WARNING: FIR normalized: sum[coef]=9.767192E-01;     \n",
      " WARNING: FIR normalized: sum[coef]=9.767192E-01;     \n"
     ]
    },
    {
     "name": "stdout",
     "output_type": "stream",
     "text": [
      "[#########                               ] | 24% Completed | 189.80 s"
     ]
    },
    {
     "name": "stderr",
     "output_type": "stream",
     "text": [
      " WARNING: FIR normalized: sum[coef]=9.767192E-01;     \n",
      " WARNING: FIR normalized: sum[coef]=9.767192E-01;     \n",
      " WARNING: FIR normalized: sum[coef]=9.767192E-01;     \n",
      " WARNING: FIR normalized: sum[coef]=9.767192E-01;     \n",
      " WARNING: FIR normalized: sum[coef]=9.767192E-01;     \n",
      " WARNING: FIR normalized: sum[coef]=9.767192E-01;     \n",
      " WARNING: FIR normalized: sum[coef]=9.767192E-01;     \n"
     ]
    },
    {
     "name": "stdout",
     "output_type": "stream",
     "text": [
      "[##########                              ] | 25% Completed | 190.16 s"
     ]
    },
    {
     "name": "stderr",
     "output_type": "stream",
     "text": [
      " WARNING: FIR normalized: sum[coef]=9.767192E-01;     \n",
      " WARNING: FIR normalized: sum[coef]=9.767192E-01;     \n",
      " WARNING: FIR normalized: sum[coef]=9.767192E-01;     \n",
      " WARNING: FIR normalized: sum[coef]=9.767192E-01;     \n"
     ]
    },
    {
     "name": "stdout",
     "output_type": "stream",
     "text": [
      "[##########                              ] | 25% Completed | 190.39 s"
     ]
    },
    {
     "name": "stderr",
     "output_type": "stream",
     "text": [
      " WARNING: FIR normalized: sum[coef]=9.767192E-01;     \n",
      " WARNING: FIR normalized: sum[coef]=9.767192E-01;     \n",
      " WARNING: FIR normalized: sum[coef]=9.767192E-01;     \n",
      " WARNING: FIR normalized: sum[coef]=9.767192E-01;     \n",
      " WARNING: FIR normalized: sum[coef]=9.767192E-01;     \n",
      " WARNING: FIR normalized: sum[coef]=9.767192E-01;     \n",
      " WARNING: FIR normalized: sum[coef]=9.767192E-01;     \n"
     ]
    },
    {
     "name": "stdout",
     "output_type": "stream",
     "text": [
      "[##########                              ] | 25% Completed | 190.64 s"
     ]
    },
    {
     "name": "stderr",
     "output_type": "stream",
     "text": [
      " WARNING: FIR normalized: sum[coef]=9.767192E-01;     \n",
      " WARNING: FIR normalized: sum[coef]=9.767192E-01;     \n",
      " WARNING: FIR normalized: sum[coef]=9.767192E-01;     \n",
      " WARNING: FIR normalized: sum[coef]=9.767192E-01;     \n",
      " WARNING: FIR normalized: sum[coef]=9.767192E-01;     \n",
      " WARNING: FIR normalized: sum[coef]=9.767192E-01;     \n",
      " WARNING: FIR normalized: sum[coef]=9.767192E-01;     \n"
     ]
    },
    {
     "name": "stdout",
     "output_type": "stream",
     "text": [
      "[##########                              ] | 25% Completed | 190.86 s"
     ]
    },
    {
     "name": "stderr",
     "output_type": "stream",
     "text": [
      " WARNING: FIR normalized: sum[coef]=9.767192E-01;     \n",
      " WARNING: FIR normalized: sum[coef]=9.767192E-01;     \n",
      " WARNING: FIR normalized: sum[coef]=9.767192E-01;     \n",
      " WARNING: FIR normalized: sum[coef]=9.767192E-01;     \n"
     ]
    },
    {
     "name": "stdout",
     "output_type": "stream",
     "text": [
      "[##########                              ] | 25% Completed | 191.24 s"
     ]
    },
    {
     "name": "stderr",
     "output_type": "stream",
     "text": [
      " WARNING: FIR normalized: sum[coef]=9.767192E-01;     \n",
      " WARNING: FIR normalized: sum[coef]=9.767192E-01;     \n",
      " WARNING: FIR normalized: sum[coef]=9.767192E-01;     \n",
      " WARNING: FIR normalized: sum[coef]=9.767192E-01;     \n",
      " WARNING: FIR normalized: sum[coef]=9.767192E-01;     \n",
      " WARNING: FIR normalized: sum[coef]=9.767192E-01;     \n",
      " WARNING: FIR normalized: sum[coef]=9.767192E-01;     \n"
     ]
    },
    {
     "name": "stdout",
     "output_type": "stream",
     "text": [
      "[##########                              ] | 25% Completed | 191.47 s"
     ]
    },
    {
     "name": "stderr",
     "output_type": "stream",
     "text": [
      " WARNING: FIR normalized: sum[coef]=9.767192E-01;     \n",
      " WARNING: FIR normalized: sum[coef]=9.767192E-01;     \n",
      " WARNING: FIR normalized: sum[coef]=9.767192E-01;     \n",
      " WARNING: FIR normalized: sum[coef]=9.767192E-01;     \n",
      " WARNING: FIR normalized: sum[coef]=9.767192E-01;     \n",
      " WARNING: FIR normalized: sum[coef]=9.767192E-01;     \n",
      " WARNING: FIR normalized: sum[coef]=9.767192E-01;     \n"
     ]
    },
    {
     "name": "stdout",
     "output_type": "stream",
     "text": [
      "[##########                              ] | 25% Completed | 191.70 s"
     ]
    },
    {
     "name": "stderr",
     "output_type": "stream",
     "text": [
      " WARNING: FIR normalized: sum[coef]=9.767192E-01;     \n",
      " WARNING: FIR normalized: sum[coef]=9.767192E-01;     \n",
      " WARNING: FIR normalized: sum[coef]=9.767192E-01;     \n",
      " WARNING: FIR normalized: sum[coef]=9.767192E-01;     \n",
      " WARNING: FIR normalized: sum[coef]=9.767192E-01;     \n",
      " WARNING: FIR normalized: sum[coef]=9.767192E-01;     \n"
     ]
    },
    {
     "name": "stdout",
     "output_type": "stream",
     "text": [
      "[##########                              ] | 25% Completed | 191.95 s"
     ]
    },
    {
     "name": "stderr",
     "output_type": "stream",
     "text": [
      " WARNING: FIR normalized: sum[coef]=9.767192E-01;     \n",
      " WARNING: FIR normalized: sum[coef]=9.767192E-01;     \n",
      " WARNING: FIR normalized: sum[coef]=9.767192E-01;     \n",
      " WARNING: FIR normalized: sum[coef]=9.767192E-01;     \n",
      " WARNING: FIR normalized: sum[coef]=9.767192E-01;     \n"
     ]
    },
    {
     "name": "stdout",
     "output_type": "stream",
     "text": [
      "[##########                              ] | 25% Completed | 192.22 s"
     ]
    },
    {
     "name": "stderr",
     "output_type": "stream",
     "text": [
      " WARNING: FIR normalized: sum[coef]=9.767192E-01;     \n",
      " WARNING: FIR normalized: sum[coef]=9.767192E-01;     \n",
      " WARNING: FIR normalized: sum[coef]=9.767192E-01;     \n",
      " WARNING: FIR normalized: sum[coef]=9.767192E-01;     \n"
     ]
    },
    {
     "name": "stdout",
     "output_type": "stream",
     "text": [
      "[##########                              ] | 25% Completed | 192.35 s[2013-06-16T23:43:20.000000Z] No data or fatal error during detection/classification: list index out of range\n"
     ]
    },
    {
     "name": "stderr",
     "output_type": "stream",
     "text": [
      " WARNING: FIR normalized: sum[coef]=9.767192E-01;     \n",
      " WARNING: FIR normalized: sum[coef]=9.767192E-01;     \n",
      " WARNING: FIR normalized: sum[coef]=9.767192E-01;     \n",
      " WARNING: FIR normalized: sum[coef]=9.767192E-01;     \n"
     ]
    },
    {
     "name": "stdout",
     "output_type": "stream",
     "text": [
      "[##########                              ] | 26% Completed | 192.63 s"
     ]
    },
    {
     "name": "stderr",
     "output_type": "stream",
     "text": [
      " WARNING: FIR normalized: sum[coef]=9.767192E-01;     \n",
      " WARNING: FIR normalized: sum[coef]=9.767192E-01;     \n",
      " WARNING: FIR normalized: sum[coef]=9.767192E-01;     \n",
      " WARNING: FIR normalized: sum[coef]=9.767192E-01;     \n",
      " WARNING: FIR normalized: sum[coef]=9.767192E-01;     \n",
      " WARNING: FIR normalized: sum[coef]=9.767192E-01;     \n",
      " WARNING: FIR normalized: sum[coef]=9.767192E-01;     \n",
      " WARNING: FIR normalized: sum[coef]=9.767192E-01;     \n",
      " WARNING: FIR normalized: sum[coef]=9.767192E-01;     \n",
      " WARNING: FIR normalized: sum[coef]=9.767192E-01;     \n"
     ]
    },
    {
     "name": "stdout",
     "output_type": "stream",
     "text": [
      "[##########                              ] | 26% Completed | 192.90 s"
     ]
    },
    {
     "name": "stderr",
     "output_type": "stream",
     "text": [
      " WARNING: FIR normalized: sum[coef]=9.767192E-01;     \n",
      " WARNING: FIR normalized: sum[coef]=9.767192E-01;     \n",
      " WARNING: FIR normalized: sum[coef]=9.767192E-01;     \n",
      " WARNING: FIR normalized: sum[coef]=9.767192E-01;     \n"
     ]
    },
    {
     "name": "stdout",
     "output_type": "stream",
     "text": [
      "[##########                              ] | 26% Completed | 193.17 s"
     ]
    },
    {
     "name": "stderr",
     "output_type": "stream",
     "text": [
      " WARNING: FIR normalized: sum[coef]=9.767192E-01;     \n",
      " WARNING: FIR normalized: sum[coef]=9.767192E-01;     \n",
      " WARNING: FIR normalized: sum[coef]=9.767192E-01;     \n",
      " WARNING: FIR normalized: sum[coef]=9.767192E-01;     \n",
      " WARNING: FIR normalized: sum[coef]=9.767192E-01;     \n",
      " WARNING: FIR normalized: sum[coef]=9.767192E-01;     \n"
     ]
    },
    {
     "name": "stdout",
     "output_type": "stream",
     "text": [
      "[##########                              ] | 26% Completed | 193.41 s"
     ]
    },
    {
     "name": "stderr",
     "output_type": "stream",
     "text": [
      " WARNING: FIR normalized: sum[coef]=9.767192E-01;     \n",
      " WARNING: FIR normalized: sum[coef]=9.767192E-01;     \n",
      " WARNING: FIR normalized: sum[coef]=9.767192E-01;     \n"
     ]
    },
    {
     "name": "stdout",
     "output_type": "stream",
     "text": [
      "[##########                              ] | 26% Completed | 193.66 s"
     ]
    },
    {
     "name": "stderr",
     "output_type": "stream",
     "text": [
      " WARNING: FIR normalized: sum[coef]=9.767192E-01;     \n",
      " WARNING: FIR normalized: sum[coef]=9.767192E-01;     \n",
      " WARNING: FIR normalized: sum[coef]=9.767192E-01;     \n",
      " WARNING: FIR normalized: sum[coef]=9.767192E-01;     \n",
      " WARNING: FIR normalized: sum[coef]=9.767192E-01;     \n",
      " WARNING: FIR normalized: sum[coef]=9.767192E-01;     \n",
      " WARNING: FIR normalized: sum[coef]=9.767192E-01;     \n",
      " WARNING: FIR normalized: sum[coef]=9.767192E-01;     \n",
      " WARNING: FIR normalized: sum[coef]=9.767192E-01;     \n",
      " WARNING: FIR normalized: sum[coef]=9.767192E-01;     \n",
      " WARNING: FIR normalized: sum[coef]=9.767192E-01;     \n",
      " WARNING: FIR normalized: sum[coef]=9.767192E-01;     \n",
      " WARNING: FIR normalized: sum[coef]=9.767192E-01; "
     ]
    },
    {
     "name": "stdout",
     "output_type": "stream",
     "text": [
      "[##########                              ] | 26% Completed | 193.93 s"
     ]
    },
    {
     "name": "stderr",
     "output_type": "stream",
     "text": [
      "    \n",
      " WARNING: FIR normalized: sum[coef]=9.767192E-01;     \n",
      " WARNING: FIR normalized: sum[coef]=9.767192E-01;     \n",
      " WARNING: FIR normalized: sum[coef]=9.767192E-01;     \n",
      " WARNING: FIR normalized: sum[coef]=9.767192E-01;     \n"
     ]
    },
    {
     "name": "stdout",
     "output_type": "stream",
     "text": [
      "[##########                              ] | 26% Completed | 194.15 s"
     ]
    },
    {
     "name": "stderr",
     "output_type": "stream",
     "text": [
      " WARNING: FIR normalized: sum[coef]=9.767192E-01;     \n",
      " WARNING: FIR normalized: sum[coef]=9.767192E-01;     \n",
      " WARNING: FIR normalized: sum[coef]=9.767192E-01;     \n",
      " WARNING: FIR normalized: sum[coef]=9.767192E-01;     \n"
     ]
    },
    {
     "name": "stdout",
     "output_type": "stream",
     "text": [
      "[##########                              ] | 26% Completed | 194.53 s"
     ]
    },
    {
     "name": "stderr",
     "output_type": "stream",
     "text": [
      " WARNING: FIR normalized: sum[coef]=9.767192E-01;     \n",
      " WARNING: FIR normalized: sum[coef]=9.767192E-01;     \n",
      " WARNING: FIR normalized: sum[coef]=9.767192E-01;     \n",
      " WARNING: FIR normalized: sum[coef]=9.767192E-01;     \n",
      " WARNING: FIR normalized: sum[coef]=9.767192E-01;     \n"
     ]
    },
    {
     "name": "stdout",
     "output_type": "stream",
     "text": [
      "[##########                              ] | 26% Completed | 194.80 s"
     ]
    },
    {
     "name": "stderr",
     "output_type": "stream",
     "text": [
      " WARNING: FIR normalized: sum[coef]=9.767192E-01;     \n",
      " WARNING: FIR normalized: sum[coef]=9.767192E-01;     \n",
      " WARNING: FIR normalized: sum[coef]=9.767192E-01;     \n",
      " WARNING: FIR normalized: sum[coef]=9.767192E-01;     \n",
      " WARNING: FIR normalized: sum[coef]=9.767192E-01;     \n",
      " WARNING: FIR normalized: sum[coef]=9.767192E-01;     \n",
      " WARNING: FIR normalized: sum[coef]=9.767192E-01;     \n",
      " WARNING: FIR normalized: sum[coef]=9.767192E-01;     \n",
      " WARNING: FIR normalized: sum[coef]=9.767192E-01;     \n",
      " WARNING: FIR normalized: sum[coef]=9.767192E-01;     \n"
     ]
    },
    {
     "name": "stdout",
     "output_type": "stream",
     "text": [
      "[##########                              ] | 26% Completed | 195.05 s"
     ]
    },
    {
     "name": "stderr",
     "output_type": "stream",
     "text": [
      " WARNING: FIR normalized: sum[coef]=9.767192E-01;     \n",
      " WARNING: FIR normalized: sum[coef]=9.767192E-01;     \n",
      " WARNING: FIR normalized: sum[coef]=9.767192E-01;     \n",
      " WARNING: FIR normalized: sum[coef]=9.767192E-01;     \n",
      " WARNING: FIR normalized: sum[coef]=9.767192E-01;     \n",
      " WARNING: FIR normalized: sum[coef]=9.767192E-01;     \n",
      " WARNING: FIR normalized: sum[coef]=9.767192E-01;     \n"
     ]
    },
    {
     "name": "stdout",
     "output_type": "stream",
     "text": [
      "[##########                              ] | 26% Completed | 195.29 s"
     ]
    },
    {
     "name": "stderr",
     "output_type": "stream",
     "text": [
      " WARNING: FIR normalized: sum[coef]=9.767192E-01;     \n",
      " WARNING: FIR normalized: sum[coef]=9.767192E-01;     \n",
      " WARNING: FIR normalized: sum[coef]=9.767192E-01;     \n"
     ]
    },
    {
     "name": "stdout",
     "output_type": "stream",
     "text": [
      "[##########                              ] | 26% Completed | 195.54 s"
     ]
    },
    {
     "name": "stderr",
     "output_type": "stream",
     "text": [
      " WARNING: FIR normalized: sum[coef]=9.767192E-01;     \n",
      " WARNING: FIR normalized: sum[coef]=9.767192E-01;     \n",
      " WARNING: FIR normalized: sum[coef]=9.767192E-01;     \n",
      " WARNING: FIR normalized: sum[coef]=9.767192E-01;     \n",
      " WARNING: FIR normalized: sum[coef]=9.767192E-01;     \n",
      " WARNING: FIR normalized: sum[coef]=9.767192E-01;     \n",
      " WARNING: FIR normalized: sum[coef]=9.767192E-01;     \n",
      " WARNING: FIR normalized: sum[coef]=9.767192E-01;     \n",
      " WARNING: FIR normalized: sum[coef]=9.767192E-01;     \n",
      " WARNING: FIR normalized: sum[coef]=9.767192E-01;     \n",
      " WARNING: FIR normalized: sum[coef]=9.767192E-01;     \n"
     ]
    },
    {
     "name": "stdout",
     "output_type": "stream",
     "text": [
      "[##########                              ] | 26% Completed | 195.77 s"
     ]
    },
    {
     "name": "stderr",
     "output_type": "stream",
     "text": [
      " WARNING: FIR normalized: sum[coef]=9.767192E-01;     \n",
      " WARNING: FIR normalized: sum[coef]=9.767192E-01;     \n",
      " WARNING: FIR normalized: sum[coef]=9.767192E-01;     \n",
      " WARNING: FIR normalized: sum[coef]=9.767192E-01;     \n",
      " WARNING: FIR normalized: sum[coef]=9.767192E-01;     \n",
      " WARNING: FIR normalized: sum[coef]=9.767192E-01;     \n",
      " WARNING: FIR normalized: sum[coef]=9.767192E-01;     \n",
      " WARNING: FIR normalized: sum[coef]=9.767192E-01;     \n",
      " WARNING: FIR normalized: sum[coef]=9.767192E-01; "
     ]
    },
    {
     "name": "stdout",
     "output_type": "stream",
     "text": [
      "[##########                              ] | 26% Completed | 196.04 s"
     ]
    },
    {
     "name": "stderr",
     "output_type": "stream",
     "text": [
      "    \n",
      " WARNING: FIR normalized: sum[coef]=9.767192E-01;     \n",
      " WARNING: FIR normalized: sum[coef]=9.767192E-01;     \n",
      " WARNING: FIR normalized: sum[coef]=9.767192E-01;     \n"
     ]
    },
    {
     "name": "stdout",
     "output_type": "stream",
     "text": [
      "[##########                              ] | 26% Completed | 196.28 s"
     ]
    },
    {
     "name": "stderr",
     "output_type": "stream",
     "text": [
      " WARNING: FIR normalized: sum[coef]=9.767192E-01;     \n",
      " WARNING: FIR normalized: sum[coef]=9.767192E-01;     \n",
      " WARNING: FIR normalized: sum[coef]=9.767192E-01;     \n",
      " WARNING: FIR normalized: sum[coef]=9.767192E-01;     \n"
     ]
    },
    {
     "name": "stdout",
     "output_type": "stream",
     "text": [
      "[##########                              ] | 26% Completed | 196.53 s"
     ]
    },
    {
     "name": "stderr",
     "output_type": "stream",
     "text": [
      " WARNING: FIR normalized: sum[coef]=9.767192E-01;     \n",
      " WARNING: FIR normalized: sum[coef]=9.767192E-01;     \n",
      " WARNING: FIR normalized: sum[coef]=9.767192E-01;     \n",
      " WARNING: FIR normalized: sum[coef]=9.767192E-01;     \n",
      " WARNING: FIR normalized: sum[coef]=9.767192E-01;     \n",
      " WARNING: FIR normalized: sum[coef]=9.767192E-01;     \n",
      " WARNING: FIR normalized: sum[coef]=9.767192E-01;     \n",
      " WARNING: FIR normalized: sum[coef]=9.767192E-01;     \n",
      " WARNING: FIR normalized: sum[coef]=9.767192E-01;     \n",
      " WARNING: FIR normalized: sum[coef]=9.767192E-01;     \n",
      " WARNING: FIR normalized: sum[coef]=9.767192E-01;     \n",
      " WARNING: FIR normalized: sum[coef]=9.767192E-01;     \n",
      " WARNING: FIR normalized: sum[coef]=9.767192E-01;     \n",
      " WARNING: FIR normalized: sum[coef]=9.767192E-01;     \n",
      " WARNING: FIR normalized: sum[coef]=9.767192E-01;     \n"
     ]
    },
    {
     "name": "stdout",
     "output_type": "stream",
     "text": [
      "[##########                              ] | 26% Completed | 196.76 s"
     ]
    },
    {
     "name": "stderr",
     "output_type": "stream",
     "text": [
      " WARNING: FIR normalized: sum[coef]=9.767192E-01;     \n",
      " WARNING: FIR normalized: sum[coef]=9.767192E-01;     \n",
      " WARNING: FIR normalized: sum[coef]=9.767192E-01;     \n",
      " WARNING: FIR normalized: sum[coef]=9.767192E-01;     \n",
      " WARNING: FIR normalized: sum[coef]=9.767192E-01;     \n"
     ]
    },
    {
     "name": "stdout",
     "output_type": "stream",
     "text": [
      "[##########                              ] | 27% Completed | 197.02 s"
     ]
    },
    {
     "name": "stderr",
     "output_type": "stream",
     "text": [
      " WARNING: FIR normalized: sum[coef]=9.767192E-01;     \n",
      " WARNING: FIR normalized: sum[coef]=9.767192E-01;     \n",
      " WARNING: FIR normalized: sum[coef]=9.767192E-01;     \n",
      " WARNING: FIR normalized: sum[coef]=9.767192E-01;     \n",
      " WARNING: FIR normalized: sum[coef]=9.767192E-01;     \n"
     ]
    },
    {
     "name": "stdout",
     "output_type": "stream",
     "text": [
      "[##########                              ] | 27% Completed | 197.28 s"
     ]
    },
    {
     "name": "stderr",
     "output_type": "stream",
     "text": [
      " WARNING: FIR normalized: sum[coef]=9.767192E-01;     \n",
      " WARNING: FIR normalized: sum[coef]=9.767192E-01;     \n",
      " WARNING: FIR normalized: sum[coef]=9.767192E-01;     \n",
      " WARNING: FIR normalized: sum[coef]=9.767192E-01;     \n",
      " WARNING: FIR normalized: sum[coef]=9.767192E-01;     \n",
      " WARNING: FIR normalized: sum[coef]=9.767192E-01;     \n"
     ]
    },
    {
     "name": "stdout",
     "output_type": "stream",
     "text": [
      "[##########                              ] | 27% Completed | 197.53 s"
     ]
    },
    {
     "name": "stderr",
     "output_type": "stream",
     "text": [
      " WARNING: FIR normalized: sum[coef]=9.767192E-01;     \n",
      " WARNING: FIR normalized: sum[coef]=9.767192E-01;     \n",
      " WARNING: FIR normalized: sum[coef]=9.767192E-01;     \n",
      " WARNING: FIR normalized: sum[coef]=9.767192E-01;     \n",
      " WARNING: FIR normalized: sum[coef]=9.767192E-01;     \n",
      " WARNING: FIR normalized: sum[coef]=9.767192E-01;     \n",
      " WARNING: FIR normalized: sum[coef]=9.767192E-01;     \n",
      " WARNING: FIR normalized: sum[coef]=9.767192E-01;     \n",
      " WARNING: FIR normalized: sum[coef]=9.767192E-01;     \n"
     ]
    },
    {
     "name": "stdout",
     "output_type": "stream",
     "text": [
      "[##########                              ] | 27% Completed | 197.75 s"
     ]
    },
    {
     "name": "stderr",
     "output_type": "stream",
     "text": [
      " WARNING: FIR normalized: sum[coef]=9.767192E-01;     \n",
      " WARNING: FIR normalized: sum[coef]=9.767192E-01;     \n",
      " WARNING: FIR normalized: sum[coef]=9.767192E-01;     \n",
      " WARNING: FIR normalized: sum[coef]=9.767192E-01;     \n",
      " WARNING: FIR normalized: sum[coef]=9.767192E-01;     \n",
      " WARNING: FIR normalized: sum[coef]=9.767192E-01;     \n",
      " WARNING: FIR normalized: sum[coef]=9.767192E-01;     \n",
      " WARNING: FIR normalized: sum[coef]=9.767192E-01;     \n"
     ]
    },
    {
     "name": "stdout",
     "output_type": "stream",
     "text": [
      "[##########                              ] | 27% Completed | 197.99 s"
     ]
    },
    {
     "name": "stderr",
     "output_type": "stream",
     "text": [
      " WARNING: FIR normalized: sum[coef]=9.767192E-01;     \n",
      " WARNING: FIR normalized: sum[coef]=9.767192E-01;     \n",
      " WARNING: FIR normalized: sum[coef]=9.767192E-01;     \n",
      " WARNING: FIR normalized: sum[coef]=9.767192E-01;     \n",
      " WARNING: FIR normalized: sum[coef]=9.767192E-01;     \n"
     ]
    },
    {
     "name": "stdout",
     "output_type": "stream",
     "text": [
      "[##########                              ] | 27% Completed | 198.22 s"
     ]
    },
    {
     "name": "stderr",
     "output_type": "stream",
     "text": [
      " WARNING: FIR normalized: sum[coef]=9.767192E-01;     \n",
      " WARNING: FIR normalized: sum[coef]=9.767192E-01;     \n"
     ]
    },
    {
     "name": "stdout",
     "output_type": "stream",
     "text": [
      "[##########                              ] | 27% Completed | 198.45 s"
     ]
    },
    {
     "name": "stderr",
     "output_type": "stream",
     "text": [
      " WARNING: FIR normalized: sum[coef]=9.767192E-01;     \n",
      " WARNING: FIR normalized: sum[coef]=9.767192E-01;     \n",
      " WARNING: FIR normalized: sum[coef]=9.767192E-01;     \n",
      " WARNING: FIR normalized: sum[coef]=9.767192E-01;     \n",
      " WARNING: FIR normalized: sum[coef]=9.767192E-01;     \n",
      " WARNING: FIR normalized: sum[coef]=9.767192E-01;     \n",
      " WARNING: FIR normalized: sum[coef]=9.767192E-01;     \n",
      " WARNING: FIR normalized: sum[coef]=9.767192E-01;     \n",
      " WARNING: FIR normalized: sum[coef]=9.767192E-01;     \n"
     ]
    },
    {
     "name": "stdout",
     "output_type": "stream",
     "text": [
      "[##########                              ] | 27% Completed | 198.68 s"
     ]
    },
    {
     "name": "stderr",
     "output_type": "stream",
     "text": [
      " WARNING: FIR normalized: sum[coef]=9.767192E-01;     \n",
      " WARNING: FIR normalized: sum[coef]=9.767192E-01;     \n",
      " WARNING: FIR normalized: sum[coef]=9.767192E-01;     \n",
      " WARNING: FIR normalized: sum[coef]=9.767192E-01;     \n",
      " WARNING: FIR normalized: sum[coef]=9.767192E-01;     \n",
      " WARNING: FIR normalized: sum[coef]=9.767192E-01;     \n",
      " WARNING: FIR normalized: sum[coef]=9.767192E-01;     \n",
      " WARNING: FIR normalized: sum[coef]=9.767192E-01;     \n"
     ]
    },
    {
     "name": "stdout",
     "output_type": "stream",
     "text": [
      "[##########                              ] | 27% Completed | 198.92 s"
     ]
    },
    {
     "name": "stderr",
     "output_type": "stream",
     "text": [
      " WARNING: FIR normalized: sum[coef]=9.767192E-01;     \n",
      " WARNING: FIR normalized: sum[coef]=9.767192E-01;     \n",
      " WARNING: FIR normalized: sum[coef]=9.767192E-01;     \n",
      " WARNING: FIR normalized: sum[coef]=9.767192E-01;     \n",
      " WARNING: FIR normalized: sum[coef]=9.767192E-01;     \n"
     ]
    },
    {
     "name": "stdout",
     "output_type": "stream",
     "text": [
      "[##########                              ] | 27% Completed | 199.17 s"
     ]
    },
    {
     "name": "stderr",
     "output_type": "stream",
     "text": [
      " WARNING: FIR normalized: sum[coef]=9.767192E-01;     \n",
      " WARNING: FIR normalized: sum[coef]=9.767192E-01;     \n",
      " WARNING: FIR normalized: sum[coef]=9.767192E-01;     \n",
      " WARNING: FIR normalized: sum[coef]=9.767192E-01;     \n"
     ]
    },
    {
     "name": "stdout",
     "output_type": "stream",
     "text": [
      "[##########                              ] | 27% Completed | 199.44 s"
     ]
    },
    {
     "name": "stderr",
     "output_type": "stream",
     "text": [
      " WARNING: FIR normalized: sum[coef]=9.767192E-01;     \n",
      " WARNING: FIR normalized: sum[coef]=9.767192E-01;     \n",
      " WARNING: FIR normalized: sum[coef]=9.767192E-01;     \n",
      " WARNING: FIR normalized: sum[coef]=9.767192E-01;     \n",
      " WARNING: FIR normalized: sum[coef]=9.767192E-01;     \n",
      " WARNING: FIR normalized: sum[coef]=9.767192E-01;     \n",
      " WARNING: FIR normalized: sum[coef]=9.767192E-01;     \n",
      " WARNING: FIR normalized: sum[coef]=9.767192E-01;     \n",
      " WARNING: FIR normalized: sum[coef]=9.767192E-01;     \n",
      " WARNING: FIR normalized: sum[coef]=9.767192E-01;     \n",
      " WARNING: FIR normalized: sum[coef]=9.767192E-01;     \n"
     ]
    },
    {
     "name": "stdout",
     "output_type": "stream",
     "text": [
      "[##########                              ] | 27% Completed | 199.67 s"
     ]
    },
    {
     "name": "stderr",
     "output_type": "stream",
     "text": [
      " WARNING: FIR normalized: sum[coef]=9.767192E-01;     \n",
      " WARNING: FIR normalized: sum[coef]=9.767192E-01;     \n",
      " WARNING: FIR normalized: sum[coef]=9.767192E-01;     \n",
      " WARNING: FIR normalized: sum[coef]=9.767192E-01;     \n",
      " WARNING: FIR normalized: sum[coef]=9.767192E-01;     \n",
      " WARNING: FIR normalized: sum[coef]=9.767192E-01;     \n"
     ]
    },
    {
     "name": "stdout",
     "output_type": "stream",
     "text": [
      "[##########                              ] | 27% Completed | 199.92 s"
     ]
    },
    {
     "name": "stderr",
     "output_type": "stream",
     "text": [
      " WARNING: FIR normalized: sum[coef]=9.767192E-01;     \n",
      " WARNING: FIR normalized: sum[coef]=9.767192E-01;     \n",
      " WARNING: FIR normalized: sum[coef]=9.767192E-01;     \n",
      " WARNING: FIR normalized: sum[coef]=9.767192E-01;     \n"
     ]
    },
    {
     "name": "stdout",
     "output_type": "stream",
     "text": [
      "[##########                              ] | 27% Completed | 200.15 s"
     ]
    },
    {
     "name": "stderr",
     "output_type": "stream",
     "text": [
      " WARNING: FIR normalized: sum[coef]=9.767192E-01;     \n",
      " WARNING: FIR normalized: sum[coef]=9.767192E-01;     \n",
      " WARNING: FIR normalized: sum[coef]=9.767192E-01;     \n",
      " WARNING: FIR normalized: sum[coef]=9.767192E-01;     \n",
      " WARNING: FIR normalized: sum[coef]=9.767192E-01;     \n",
      " WARNING: FIR normalized: sum[coef]=9.767192E-01;     \n",
      " WARNING: FIR normalized: sum[coef]=9.767192E-01;     \n",
      " WARNING: FIR normalized: sum[coef]=9.767192E-01;     \n"
     ]
    },
    {
     "name": "stdout",
     "output_type": "stream",
     "text": [
      "[##########                              ] | 27% Completed | 200.39 s"
     ]
    },
    {
     "name": "stderr",
     "output_type": "stream",
     "text": [
      " WARNING: FIR normalized: sum[coef]=9.767192E-01;     \n",
      " WARNING: FIR normalized: sum[coef]=9.767192E-01;     \n",
      " WARNING: FIR normalized: sum[coef]=9.767192E-01;     \n",
      " WARNING: FIR normalized: sum[coef]=9.767192E-01;     \n",
      " WARNING: FIR normalized: sum[coef]=9.767192E-01;     \n",
      " WARNING: FIR normalized: sum[coef]=9.767192E-01;     \n",
      " WARNING: FIR normalized: sum[coef]=9.767192E-01;     \n"
     ]
    },
    {
     "name": "stdout",
     "output_type": "stream",
     "text": [
      "[##########                              ] | 27% Completed | 200.62 s"
     ]
    },
    {
     "name": "stderr",
     "output_type": "stream",
     "text": [
      " WARNING: FIR normalized: sum[coef]=9.767192E-01;     \n",
      " WARNING: FIR normalized: sum[coef]=9.767192E-01;     \n",
      " WARNING: FIR normalized: sum[coef]=9.767192E-01;     \n",
      " WARNING: FIR normalized: sum[coef]=9.767192E-01;     \n"
     ]
    },
    {
     "name": "stdout",
     "output_type": "stream",
     "text": [
      "[##########                              ] | 27% Completed | 200.85 s"
     ]
    },
    {
     "name": "stderr",
     "output_type": "stream",
     "text": [
      " WARNING: FIR normalized: sum[coef]=9.767192E-01;     \n",
      " WARNING: FIR normalized: sum[coef]=9.767192E-01;     \n",
      " WARNING: FIR normalized: sum[coef]=9.767192E-01;     \n",
      " WARNING: FIR normalized: sum[coef]=9.767192E-01;     \n",
      " WARNING: FIR normalized: sum[coef]=9.767192E-01;     \n",
      " WARNING: FIR normalized: sum[coef]=9.767192E-01;     \n",
      " WARNING: FIR normalized: sum[coef]=9.767192E-01;     \n"
     ]
    },
    {
     "name": "stdout",
     "output_type": "stream",
     "text": [
      "[##########                              ] | 27% Completed | 200.96 s"
     ]
    },
    {
     "name": "stderr",
     "output_type": "stream",
     "text": [
      " WARNING: FIR normalized: sum[coef]=9.767192E-01;     \n",
      " WARNING: FIR normalized: sum[coef]=9.767192E-01;     \n",
      " WARNING: FIR normalized: sum[coef]=9.767192E-01;     \n",
      " WARNING: FIR normalized: sum[coef]=9.767192E-01;     \n",
      " WARNING: FIR normalized: sum[coef]=9.767192E-01;     \n",
      " WARNING: FIR normalized: sum[coef]=9.767192E-01;     \n",
      " WARNING: FIR normalized: sum[coef]=9.767192E-01;     \n",
      " WARNING: FIR normalized: sum[coef]=9.767192E-01;     \n",
      " WARNING: FIR normalized: sum[coef]=9.767192E-01;     \n"
     ]
    },
    {
     "name": "stdout",
     "output_type": "stream",
     "text": [
      "[##########                              ] | 27% Completed | 201.23 s"
     ]
    },
    {
     "name": "stderr",
     "output_type": "stream",
     "text": [
      " WARNING: FIR normalized: sum[coef]=9.767192E-01;     \n",
      " WARNING: FIR normalized: sum[coef]=9.767192E-01;     \n",
      " WARNING: FIR normalized: sum[coef]=9.767192E-01;     \n",
      " WARNING: FIR normalized: sum[coef]=9.767192E-01;     \n",
      " WARNING: FIR normalized: sum[coef]=9.767192E-01;     \n"
     ]
    },
    {
     "name": "stdout",
     "output_type": "stream",
     "text": [
      "[###########                             ] | 28% Completed | 201.58 s"
     ]
    },
    {
     "name": "stderr",
     "output_type": "stream",
     "text": [
      " WARNING: FIR normalized: sum[coef]=9.767192E-01;     \n",
      " WARNING: FIR normalized: sum[coef]=9.767192E-01;     \n",
      " WARNING: FIR normalized: sum[coef]=9.767192E-01;     \n",
      " WARNING: FIR normalized: sum[coef]=9.767192E-01;     \n",
      " WARNING: FIR normalized: sum[coef]=9.767192E-01;     \n",
      " WARNING: FIR normalized: sum[coef]=9.767192E-01;     \n"
     ]
    },
    {
     "name": "stdout",
     "output_type": "stream",
     "text": [
      "[###########                             ] | 28% Completed | 201.80 s"
     ]
    },
    {
     "name": "stderr",
     "output_type": "stream",
     "text": [
      " WARNING: FIR normalized: sum[coef]=9.767192E-01;     \n",
      " WARNING: FIR normalized: sum[coef]=9.767192E-01;     \n",
      " WARNING: FIR normalized: sum[coef]=9.767192E-01;     \n",
      " WARNING: FIR normalized: sum[coef]=9.767192E-01;     \n",
      " WARNING: FIR normalized: sum[coef]=9.767192E-01;     \n",
      " WARNING: FIR normalized: sum[coef]=9.767192E-01;     \n",
      " WARNING: FIR normalized: sum[coef]=9.767192E-01;     \n"
     ]
    },
    {
     "name": "stdout",
     "output_type": "stream",
     "text": [
      "[###########                             ] | 28% Completed | 202.03 s"
     ]
    },
    {
     "name": "stderr",
     "output_type": "stream",
     "text": [
      " WARNING: FIR normalized: sum[coef]=9.767192E-01;     \n",
      " WARNING: FIR normalized: sum[coef]=9.767192E-01;     \n",
      " WARNING: FIR normalized: sum[coef]=9.767192E-01;     \n",
      " WARNING: FIR normalized: sum[coef]=9.767192E-01;     \n",
      " WARNING: FIR normalized: sum[coef]=9.767192E-01;     \n",
      " WARNING: FIR normalized: sum[coef]=9.767192E-01;     \n"
     ]
    },
    {
     "name": "stdout",
     "output_type": "stream",
     "text": [
      "[###########                             ] | 28% Completed | 202.17 s"
     ]
    },
    {
     "name": "stderr",
     "output_type": "stream",
     "text": [
      " WARNING: FIR normalized: sum[coef]=9.767192E-01;     \n",
      " WARNING: FIR normalized: sum[coef]=9.767192E-01;     \n",
      " WARNING: FIR normalized: sum[coef]=9.767192E-01;     \n",
      " WARNING: FIR normalized: sum[coef]=9.767192E-01;     \n",
      " WARNING: FIR normalized: sum[coef]=9.767192E-01;     \n",
      " WARNING: FIR normalized: sum[coef]=9.767192E-01;     \n",
      " WARNING: FIR normalized: sum[coef]=9.767192E-01;     \n"
     ]
    },
    {
     "name": "stdout",
     "output_type": "stream",
     "text": [
      "[###########                             ] | 28% Completed | 202.41 s"
     ]
    },
    {
     "name": "stderr",
     "output_type": "stream",
     "text": [
      " WARNING: FIR normalized: sum[coef]=9.767192E-01;     \n",
      " WARNING: FIR normalized: sum[coef]=9.767192E-01;     \n",
      " WARNING: FIR normalized: sum[coef]=9.767192E-01;     \n",
      " WARNING: FIR normalized: sum[coef]=9.767192E-01;     \n"
     ]
    },
    {
     "name": "stdout",
     "output_type": "stream",
     "text": [
      "[###########                             ] | 28% Completed | 202.69 s"
     ]
    },
    {
     "name": "stderr",
     "output_type": "stream",
     "text": [
      " WARNING: FIR normalized: sum[coef]=9.767192E-01;     \n",
      " WARNING: FIR normalized: sum[coef]=9.767192E-01;     \n",
      " WARNING: FIR normalized: sum[coef]=9.767192E-01;     \n",
      " WARNING: FIR normalized: sum[coef]=9.767192E-01;     \n",
      " WARNING: FIR normalized: sum[coef]=9.767192E-01;     \n",
      " WARNING: FIR normalized: sum[coef]=9.767192E-01;     \n"
     ]
    },
    {
     "name": "stdout",
     "output_type": "stream",
     "text": [
      "[###########                             ] | 28% Completed | 202.92 s"
     ]
    },
    {
     "name": "stderr",
     "output_type": "stream",
     "text": [
      " WARNING: FIR normalized: sum[coef]=9.767192E-01;     \n",
      " WARNING: FIR normalized: sum[coef]=9.767192E-01;     \n",
      " WARNING: FIR normalized: sum[coef]=9.767192E-01;     \n",
      " WARNING: FIR normalized: sum[coef]=9.767192E-01;     \n",
      " WARNING: FIR normalized: sum[coef]=9.767192E-01;     \n",
      " WARNING: FIR normalized: sum[coef]=9.767192E-01;     \n",
      " WARNING: FIR normalized: sum[coef]=9.767192E-01;     \n"
     ]
    },
    {
     "name": "stdout",
     "output_type": "stream",
     "text": [
      "[###########                             ] | 29% Completed | 203.17 s"
     ]
    },
    {
     "name": "stderr",
     "output_type": "stream",
     "text": [
      " WARNING: FIR normalized: sum[coef]=9.767192E-01;     \n",
      " WARNING: FIR normalized: sum[coef]=9.767192E-01;     \n",
      " WARNING: FIR normalized: sum[coef]=9.767192E-01;     \n",
      " WARNING: FIR normalized: sum[coef]=9.767192E-01;     \n",
      " WARNING: FIR normalized: sum[coef]=9.767192E-01;     \n"
     ]
    },
    {
     "name": "stdout",
     "output_type": "stream",
     "text": [
      "[###########                             ] | 29% Completed | 203.40 s"
     ]
    },
    {
     "name": "stderr",
     "output_type": "stream",
     "text": [
      " WARNING: FIR normalized: sum[coef]=9.767192E-01;     \n",
      " WARNING: FIR normalized: sum[coef]=9.767192E-01;     \n",
      " WARNING: FIR normalized: sum[coef]=9.767192E-01;     \n",
      " WARNING: FIR normalized: sum[coef]=9.767192E-01;     \n",
      " WARNING: FIR normalized: sum[coef]=9.767192E-01;     \n"
     ]
    },
    {
     "name": "stdout",
     "output_type": "stream",
     "text": [
      "[###########                             ] | 29% Completed | 203.68 s"
     ]
    },
    {
     "name": "stderr",
     "output_type": "stream",
     "text": [
      " WARNING: FIR normalized: sum[coef]=9.767192E-01;     \n",
      " WARNING: FIR normalized: sum[coef]=9.767192E-01;     \n",
      " WARNING: FIR normalized: sum[coef]=9.767192E-01;     \n"
     ]
    },
    {
     "name": "stdout",
     "output_type": "stream",
     "text": [
      "[###########                             ] | 29% Completed | 203.93 s"
     ]
    },
    {
     "name": "stderr",
     "output_type": "stream",
     "text": [
      " WARNING: FIR normalized: sum[coef]=9.767192E-01;     \n",
      " WARNING: FIR normalized: sum[coef]=9.767192E-01;     \n",
      " WARNING: FIR normalized: sum[coef]=9.767192E-01;     \n",
      " WARNING: FIR normalized: sum[coef]=9.767192E-01;     \n"
     ]
    },
    {
     "name": "stdout",
     "output_type": "stream",
     "text": [
      "[###########                             ] | 29% Completed | 204.05 s"
     ]
    },
    {
     "name": "stderr",
     "output_type": "stream",
     "text": [
      " WARNING: FIR normalized: sum[coef]=9.767192E-01;     \n",
      " WARNING: FIR normalized: sum[coef]=9.767192E-01;     \n",
      " WARNING: FIR normalized: sum[coef]=9.767192E-01;     \n",
      " WARNING: FIR normalized: sum[coef]=9.767192E-01;     \n",
      " WARNING: FIR normalized: sum[coef]=9.767192E-01;     \n",
      " WARNING: FIR normalized: sum[coef]=9.767192E-01;     \n"
     ]
    },
    {
     "name": "stdout",
     "output_type": "stream",
     "text": [
      "[###########                             ] | 29% Completed | 204.32 s"
     ]
    },
    {
     "name": "stderr",
     "output_type": "stream",
     "text": [
      " WARNING: FIR normalized: sum[coef]=9.767192E-01;     \n",
      " WARNING: FIR normalized: sum[coef]=9.767192E-01;     \n",
      " WARNING: FIR normalized: sum[coef]=9.767192E-01;     \n",
      " WARNING: FIR normalized: sum[coef]=9.767192E-01;     \n",
      " WARNING: FIR normalized: sum[coef]=9.767192E-01;     \n",
      " WARNING: FIR normalized: sum[coef]=9.767192E-01;     \n",
      " WARNING: FIR normalized: sum[coef]=9.767192E-01;     \n"
     ]
    },
    {
     "name": "stdout",
     "output_type": "stream",
     "text": [
      "[###########                             ] | 29% Completed | 204.66 s"
     ]
    },
    {
     "name": "stderr",
     "output_type": "stream",
     "text": [
      " WARNING: FIR normalized: sum[coef]=9.767192E-01;     \n",
      " WARNING: FIR normalized: sum[coef]=9.767192E-01;     \n",
      " WARNING: FIR normalized: sum[coef]=9.767192E-01;     \n",
      " WARNING: FIR normalized: sum[coef]=9.767192E-01;     \n",
      " WARNING: FIR normalized: sum[coef]=9.767192E-01;     \n",
      " WARNING: FIR normalized: sum[coef]=9.767192E-01;     \n"
     ]
    },
    {
     "name": "stdout",
     "output_type": "stream",
     "text": [
      "[###########                             ] | 29% Completed | 204.90 s"
     ]
    },
    {
     "name": "stderr",
     "output_type": "stream",
     "text": [
      " WARNING: FIR normalized: sum[coef]=9.767192E-01;     \n",
      " WARNING: FIR normalized: sum[coef]=9.767192E-01;     \n",
      " WARNING: FIR normalized: sum[coef]=9.767192E-01;     \n"
     ]
    },
    {
     "name": "stdout",
     "output_type": "stream",
     "text": [
      "[###########                             ] | 29% Completed | 205.13 s"
     ]
    },
    {
     "name": "stderr",
     "output_type": "stream",
     "text": [
      " WARNING: FIR normalized: sum[coef]=9.767192E-01;     \n",
      " WARNING: FIR normalized: sum[coef]=9.767192E-01;     \n",
      " WARNING: FIR normalized: sum[coef]=9.767192E-01;     \n",
      " WARNING: FIR normalized: sum[coef]=9.767192E-01;     \n",
      " WARNING: FIR normalized: sum[coef]=9.767192E-01;     \n",
      " WARNING: FIR normalized: sum[coef]=9.767192E-01;     \n"
     ]
    },
    {
     "name": "stdout",
     "output_type": "stream",
     "text": [
      "[###########                             ] | 29% Completed | 205.36 s"
     ]
    },
    {
     "name": "stderr",
     "output_type": "stream",
     "text": [
      " WARNING: FIR normalized: sum[coef]=9.767192E-01;     \n",
      " WARNING: FIR normalized: sum[coef]=9.767192E-01;     \n",
      " WARNING: FIR normalized: sum[coef]=9.767192E-01;     \n",
      " WARNING: FIR normalized: sum[coef]=9.767192E-01;     \n",
      " WARNING: FIR normalized: sum[coef]=9.767192E-01;     \n"
     ]
    },
    {
     "name": "stdout",
     "output_type": "stream",
     "text": [
      "[###########                             ] | 29% Completed | 205.60 s"
     ]
    },
    {
     "name": "stderr",
     "output_type": "stream",
     "text": [
      " WARNING: FIR normalized: sum[coef]=9.767192E-01;     \n",
      " WARNING: FIR normalized: sum[coef]=9.767192E-01;     \n",
      " WARNING: FIR normalized: sum[coef]=9.767192E-01;     \n",
      " WARNING: FIR normalized: sum[coef]=9.767192E-01;     \n",
      " WARNING: FIR normalized: sum[coef]=9.767192E-01;     \n",
      " WARNING: FIR normalized: sum[coef]=9.767192E-01;     \n",
      " WARNING: FIR normalized: sum[coef]=9.767192E-01;     \n",
      " WARNING: FIR normalized: sum[coef]=9.767192E-01;     \n",
      " WARNING: FIR normalized: sum[coef]=9.767192E-01;     \n"
     ]
    },
    {
     "name": "stdout",
     "output_type": "stream",
     "text": [
      "[###########                             ] | 29% Completed | 205.95 s"
     ]
    },
    {
     "name": "stderr",
     "output_type": "stream",
     "text": [
      " WARNING: FIR normalized: sum[coef]=9.767192E-01;     \n",
      " WARNING: FIR normalized: sum[coef]=9.767192E-01;     \n",
      " WARNING: FIR normalized: sum[coef]=9.767192E-01;     \n",
      " WARNING: FIR normalized: sum[coef]=9.767192E-01;     \n",
      " WARNING: FIR normalized: sum[coef]=9.767192E-01;     \n"
     ]
    },
    {
     "name": "stdout",
     "output_type": "stream",
     "text": [
      "[###########                             ] | 29% Completed | 206.18 s"
     ]
    },
    {
     "name": "stderr",
     "output_type": "stream",
     "text": [
      " WARNING: FIR normalized: sum[coef]=9.767192E-01;     \n",
      " WARNING: FIR normalized: sum[coef]=9.767192E-01;     \n",
      " WARNING: FIR normalized: sum[coef]=9.767192E-01;     \n",
      " WARNING: FIR normalized: sum[coef]=9.767192E-01;     \n",
      " WARNING: FIR normalized: sum[coef]=9.767192E-01;     \n",
      " WARNING: FIR normalized: sum[coef]=9.767192E-01;     \n"
     ]
    },
    {
     "name": "stdout",
     "output_type": "stream",
     "text": [
      "[############                            ] | 30% Completed | 206.44 s"
     ]
    },
    {
     "name": "stderr",
     "output_type": "stream",
     "text": [
      " WARNING: FIR normalized: sum[coef]=9.767192E-01;     \n",
      " WARNING: FIR normalized: sum[coef]=9.767192E-01;     \n",
      " WARNING: FIR normalized: sum[coef]=9.767192E-01;     \n",
      " WARNING: FIR normalized: sum[coef]=9.767192E-01;     \n",
      " WARNING: FIR normalized: sum[coef]=9.767192E-01;     \n",
      " WARNING: FIR normalized: sum[coef]=9.767192E-01;     \n"
     ]
    },
    {
     "name": "stdout",
     "output_type": "stream",
     "text": [
      "[############                            ] | 30% Completed | 206.56 s[2013-06-13T23:43:20.000000Z] No data or fatal error during detection/classification: list index out of range\n",
      "[############                            ] | 30% Completed | 206.67 s"
     ]
    },
    {
     "name": "stderr",
     "output_type": "stream",
     "text": [
      " WARNING: FIR normalized: sum[coef]=9.767192E-01;     \n",
      " WARNING: FIR normalized: sum[coef]=9.767192E-01;     \n",
      " WARNING: FIR normalized: sum[coef]=9.767192E-01;     \n"
     ]
    },
    {
     "name": "stdout",
     "output_type": "stream",
     "text": [
      "[############                            ] | 30% Completed | 206.93 s"
     ]
    },
    {
     "name": "stderr",
     "output_type": "stream",
     "text": [
      " WARNING: FIR normalized: sum[coef]=9.767192E-01;     \n",
      " WARNING: FIR normalized: sum[coef]=9.767192E-01;     \n",
      " WARNING: FIR normalized: sum[coef]=9.767192E-01;     \n"
     ]
    },
    {
     "name": "stdout",
     "output_type": "stream",
     "text": [
      "[############                            ] | 31% Completed | 207.18 s"
     ]
    },
    {
     "name": "stderr",
     "output_type": "stream",
     "text": [
      " WARNING: FIR normalized: sum[coef]=9.767192E-01;     \n",
      " WARNING: FIR normalized: sum[coef]=9.767192E-01;     \n",
      " WARNING: FIR normalized: sum[coef]=9.767192E-01;     \n",
      " WARNING: FIR normalized: sum[coef]=9.767192E-01;     \n",
      " WARNING: FIR normalized: sum[coef]=9.767192E-01; "
     ]
    },
    {
     "name": "stdout",
     "output_type": "stream",
     "text": [
      "[############                            ] | 31% Completed | 207.41 s"
     ]
    },
    {
     "name": "stderr",
     "output_type": "stream",
     "text": [
      "    \n",
      " WARNING: FIR normalized: sum[coef]=9.767192E-01;     \n",
      " WARNING: FIR normalized: sum[coef]=9.767192E-01;     \n",
      " WARNING: FIR normalized: sum[coef]=9.767192E-01;     \n",
      " WARNING: FIR normalized: sum[coef]=9.767192E-01;     \n",
      " WARNING: FIR normalized: sum[coef]=9.767192E-01;     \n",
      " WARNING: FIR normalized: sum[coef]=9.767192E-01;     \n",
      " WARNING: FIR normalized: sum[coef]=9.767192E-01; "
     ]
    },
    {
     "name": "stdout",
     "output_type": "stream",
     "text": [
      "[############                            ] | 31% Completed | 207.57 s"
     ]
    },
    {
     "name": "stderr",
     "output_type": "stream",
     "text": [
      "    \n",
      " WARNING: FIR normalized: sum[coef]=9.767192E-01;     \n",
      " WARNING: FIR normalized: sum[coef]=9.767192E-01;     \n",
      " WARNING: FIR normalized: sum[coef]=9.767192E-01;     \n"
     ]
    },
    {
     "name": "stdout",
     "output_type": "stream",
     "text": [
      "[############                            ] | 31% Completed | 207.92 s"
     ]
    },
    {
     "name": "stderr",
     "output_type": "stream",
     "text": [
      " WARNING: FIR normalized: sum[coef]=9.767192E-01;     \n",
      " WARNING: FIR normalized: sum[coef]=9.767192E-01;     \n",
      " WARNING: FIR normalized: sum[coef]=9.767192E-01;     \n",
      " WARNING: FIR normalized: sum[coef]=9.767192E-01;     \n"
     ]
    },
    {
     "name": "stdout",
     "output_type": "stream",
     "text": [
      "[############                            ] | 31% Completed | 208.15 s"
     ]
    },
    {
     "name": "stderr",
     "output_type": "stream",
     "text": [
      " WARNING: FIR normalized: sum[coef]=9.767192E-01;     \n",
      " WARNING: FIR normalized: sum[coef]=9.767192E-01;     \n",
      " WARNING: FIR normalized: sum[coef]=9.767192E-01;     \n",
      " WARNING: FIR normalized: sum[coef]=9.767192E-01;     \n",
      " WARNING: FIR normalized: sum[coef]=9.767192E-01;     \n",
      " WARNING: FIR normalized: sum[coef]=9.767192E-01;     \n",
      " WARNING: FIR normalized: sum[coef]=9.767192E-01; "
     ]
    },
    {
     "name": "stdout",
     "output_type": "stream",
     "text": [
      "[############                            ] | 31% Completed | 208.37 s"
     ]
    },
    {
     "name": "stderr",
     "output_type": "stream",
     "text": [
      "    \n",
      " WARNING: FIR normalized: sum[coef]=9.767192E-01;     \n",
      " WARNING: FIR normalized: sum[coef]=9.767192E-01;     \n"
     ]
    },
    {
     "name": "stdout",
     "output_type": "stream",
     "text": [
      "[############                            ] | 32% Completed | 208.61 s"
     ]
    },
    {
     "name": "stderr",
     "output_type": "stream",
     "text": [
      " WARNING: FIR normalized: sum[coef]=9.767192E-01;     \n",
      " WARNING: FIR normalized: sum[coef]=9.767192E-01;     \n"
     ]
    },
    {
     "name": "stdout",
     "output_type": "stream",
     "text": [
      "[#############                           ] | 32% Completed | 208.94 s"
     ]
    },
    {
     "name": "stderr",
     "output_type": "stream",
     "text": [
      " WARNING: FIR normalized: sum[coef]=9.767192E-01;     \n",
      " WARNING: FIR normalized: sum[coef]=9.767192E-01;     \n",
      " WARNING: FIR normalized: sum[coef]=9.767192E-01;     \n",
      " WARNING: FIR normalized: sum[coef]=9.767192E-01;     \n",
      " WARNING: FIR normalized: sum[coef]=9.767192E-01;     \n"
     ]
    },
    {
     "name": "stdout",
     "output_type": "stream",
     "text": [
      "[#############                           ] | 32% Completed | 209.16 s"
     ]
    },
    {
     "name": "stderr",
     "output_type": "stream",
     "text": [
      " WARNING: FIR normalized: sum[coef]=9.767192E-01;     \n",
      " WARNING: FIR normalized: sum[coef]=9.767192E-01;     \n",
      " WARNING: FIR normalized: sum[coef]=9.767192E-01;     \n"
     ]
    },
    {
     "name": "stdout",
     "output_type": "stream",
     "text": [
      "[#############                           ] | 32% Completed | 209.40 s"
     ]
    },
    {
     "name": "stderr",
     "output_type": "stream",
     "text": [
      " WARNING: FIR normalized: sum[coef]=9.767192E-01;     \n",
      " WARNING: FIR normalized: sum[coef]=9.767192E-01;     \n",
      " WARNING: FIR normalized: sum[coef]=9.767192E-01;     \n"
     ]
    },
    {
     "name": "stdout",
     "output_type": "stream",
     "text": [
      "[#############                           ] | 32% Completed | 209.73 s"
     ]
    },
    {
     "name": "stderr",
     "output_type": "stream",
     "text": [
      " WARNING: FIR normalized: sum[coef]=9.767192E-01;     \n",
      " WARNING: FIR normalized: sum[coef]=9.767192E-01;     \n",
      " WARNING: FIR normalized: sum[coef]=9.767192E-01;     \n"
     ]
    },
    {
     "name": "stdout",
     "output_type": "stream",
     "text": [
      "[#############                           ] | 32% Completed | 209.99 s"
     ]
    },
    {
     "name": "stderr",
     "output_type": "stream",
     "text": [
      " WARNING: FIR normalized: sum[coef]=9.767192E-01;     \n",
      " WARNING: FIR normalized: sum[coef]=9.767192E-01;     \n",
      " WARNING: FIR normalized: sum[coef]=9.767192E-01;     \n",
      " WARNING: FIR normalized: sum[coef]=9.767192E-01;     \n",
      " WARNING: FIR normalized: sum[coef]=9.767192E-01;     \n"
     ]
    },
    {
     "name": "stdout",
     "output_type": "stream",
     "text": [
      "[#############                           ] | 32% Completed | 210.22 s"
     ]
    },
    {
     "name": "stderr",
     "output_type": "stream",
     "text": [
      " WARNING: FIR normalized: sum[coef]=9.767192E-01;     \n",
      " WARNING: FIR normalized: sum[coef]=9.767192E-01;     \n",
      " WARNING: FIR normalized: sum[coef]=9.767192E-01;     \n"
     ]
    },
    {
     "name": "stdout",
     "output_type": "stream",
     "text": [
      "[#############                           ] | 32% Completed | 210.46 s"
     ]
    },
    {
     "name": "stderr",
     "output_type": "stream",
     "text": [
      " WARNING: FIR normalized: sum[coef]=9.767192E-01;     \n",
      " WARNING: FIR normalized: sum[coef]=9.767192E-01;     \n",
      " WARNING: FIR normalized: sum[coef]=9.767192E-01;     \n"
     ]
    },
    {
     "name": "stdout",
     "output_type": "stream",
     "text": [
      "[#############                           ] | 32% Completed | 210.58 s"
     ]
    },
    {
     "name": "stderr",
     "output_type": "stream",
     "text": [
      " WARNING: FIR normalized: sum[coef]=9.767192E-01;     \n",
      " WARNING: FIR normalized: sum[coef]=9.767192E-01;     \n",
      " WARNING: FIR normalized: sum[coef]=9.767192E-01;     \n"
     ]
    },
    {
     "name": "stdout",
     "output_type": "stream",
     "text": [
      "[#############                           ] | 32% Completed | 210.81 s"
     ]
    },
    {
     "name": "stderr",
     "output_type": "stream",
     "text": [
      " WARNING: FIR normalized: sum[coef]=9.767192E-01;     \n",
      " WARNING: FIR normalized: sum[coef]=9.767192E-01;     \n",
      " WARNING: FIR normalized: sum[coef]=9.767192E-01;     \n",
      " WARNING: FIR normalized: sum[coef]=9.767192E-01;     \n"
     ]
    },
    {
     "name": "stdout",
     "output_type": "stream",
     "text": [
      "[#############                           ] | 33% Completed | 211.14 s"
     ]
    },
    {
     "name": "stderr",
     "output_type": "stream",
     "text": [
      " WARNING: FIR normalized: sum[coef]=9.767192E-01;     \n",
      " WARNING: FIR normalized: sum[coef]=9.767192E-01;     \n",
      " WARNING: FIR normalized: sum[coef]=9.767192E-01;     \n",
      " WARNING: FIR normalized: sum[coef]=9.767192E-01;     \n"
     ]
    },
    {
     "name": "stdout",
     "output_type": "stream",
     "text": [
      "[#############                           ] | 33% Completed | 211.36 s"
     ]
    },
    {
     "name": "stderr",
     "output_type": "stream",
     "text": [
      " WARNING: FIR normalized: sum[coef]=9.767192E-01;     \n",
      " WARNING: FIR normalized: sum[coef]=9.767192E-01;     \n",
      " WARNING: FIR normalized: sum[coef]=9.767192E-01;     \n",
      " WARNING: FIR normalized: sum[coef]=9.767192E-01;     \n"
     ]
    },
    {
     "name": "stdout",
     "output_type": "stream",
     "text": [
      "[#############                           ] | 33% Completed | 211.60 s"
     ]
    },
    {
     "name": "stderr",
     "output_type": "stream",
     "text": [
      " WARNING: FIR normalized: sum[coef]=9.767192E-01;     \n",
      " WARNING: FIR normalized: sum[coef]=9.767192E-01;     \n",
      " WARNING: FIR normalized: sum[coef]=9.767192E-01;     \n",
      " WARNING: FIR normalized: sum[coef]=9.767192E-01;     \n"
     ]
    },
    {
     "name": "stdout",
     "output_type": "stream",
     "text": [
      "[#############                           ] | 33% Completed | 211.86 s"
     ]
    },
    {
     "name": "stderr",
     "output_type": "stream",
     "text": [
      " WARNING: FIR normalized: sum[coef]=9.767192E-01;     \n",
      " WARNING: FIR normalized: sum[coef]=9.767192E-01;     \n"
     ]
    },
    {
     "name": "stdout",
     "output_type": "stream",
     "text": [
      "[#############                           ] | 33% Completed | 212.10 s[2013-03-21T23:43:20.000000Z] No data or fatal error during detection/classification: list index out of range\n"
     ]
    },
    {
     "name": "stderr",
     "output_type": "stream",
     "text": [
      " WARNING: FIR normalized: sum[coef]=9.767192E-01;     \n",
      " WARNING: FIR normalized: sum[coef]=9.767192E-01;     \n",
      " WARNING: FIR normalized: sum[coef]=9.767192E-01;     \n",
      " WARNING: FIR normalized: sum[coef]=9.767192E-01;     \n",
      " WARNING: FIR normalized: sum[coef]=9.767192E-01;     \n",
      " WARNING: FIR normalized: sum[coef]=9.767192E-01;     \n",
      " WARNING: FIR normalized: sum[coef]=9.767192E-01; "
     ]
    },
    {
     "name": "stdout",
     "output_type": "stream",
     "text": [
      "[#############                           ] | 34% Completed | 212.33 s"
     ]
    },
    {
     "name": "stderr",
     "output_type": "stream",
     "text": [
      "    \n",
      " WARNING: FIR normalized: sum[coef]=9.767192E-01;     \n"
     ]
    },
    {
     "name": "stdout",
     "output_type": "stream",
     "text": [
      "[#############                           ] | 34% Completed | 212.70 s"
     ]
    },
    {
     "name": "stderr",
     "output_type": "stream",
     "text": [
      " WARNING: FIR normalized: sum[coef]=9.767192E-01;     \n",
      " WARNING: FIR normalized: sum[coef]=9.767192E-01;     \n",
      " WARNING: FIR normalized: sum[coef]=9.767192E-01;     \n",
      " WARNING: FIR normalized: sum[coef]=9.767192E-01;     \n",
      " WARNING: FIR normalized: sum[coef]=9.767192E-01;     \n",
      " WARNING: FIR normalized: sum[coef]=9.767192E-01;     \n"
     ]
    },
    {
     "name": "stdout",
     "output_type": "stream",
     "text": [
      "[#############                           ] | 34% Completed | 213.20 s"
     ]
    },
    {
     "name": "stderr",
     "output_type": "stream",
     "text": [
      " WARNING: FIR normalized: sum[coef]=9.767192E-01;     \n",
      " WARNING: FIR normalized: sum[coef]=9.767192E-01;     \n",
      " WARNING: FIR normalized: sum[coef]=9.767192E-01;     \n",
      " WARNING: FIR normalized: sum[coef]=9.767192E-01;     \n",
      " WARNING: FIR normalized: sum[coef]=9.767192E-01;     \n"
     ]
    },
    {
     "name": "stdout",
     "output_type": "stream",
     "text": [
      "[#############                           ] | 34% Completed | 213.44 s"
     ]
    },
    {
     "name": "stderr",
     "output_type": "stream",
     "text": [
      " WARNING: FIR normalized: sum[coef]=9.767192E-01;     \n",
      " WARNING: FIR normalized: sum[coef]=9.767192E-01;     \n",
      " WARNING: FIR normalized: sum[coef]=9.767192E-01;     \n",
      " WARNING: FIR normalized: sum[coef]=9.767192E-01;     \n"
     ]
    },
    {
     "name": "stdout",
     "output_type": "stream",
     "text": [
      "[#############                           ] | 34% Completed | 213.67 s"
     ]
    },
    {
     "name": "stderr",
     "output_type": "stream",
     "text": [
      " WARNING: FIR normalized: sum[coef]=9.767192E-01;     \n",
      " WARNING: FIR normalized: sum[coef]=9.767192E-01;     \n"
     ]
    },
    {
     "name": "stdout",
     "output_type": "stream",
     "text": [
      "[#############                           ] | 34% Completed | 213.90 s"
     ]
    },
    {
     "name": "stderr",
     "output_type": "stream",
     "text": [
      " WARNING: FIR normalized: sum[coef]=9.767192E-01;     \n",
      " WARNING: FIR normalized: sum[coef]=9.767192E-01;     \n",
      " WARNING: FIR normalized: sum[coef]=9.767192E-01;     \n",
      " WARNING: FIR normalized: sum[coef]=9.767192E-01;     \n"
     ]
    },
    {
     "name": "stdout",
     "output_type": "stream",
     "text": [
      "[#############                           ] | 34% Completed | 214.13 s"
     ]
    },
    {
     "name": "stderr",
     "output_type": "stream",
     "text": [
      " WARNING: FIR normalized: sum[coef]=9.767192E-01;     \n",
      " WARNING: FIR normalized: sum[coef]=9.767192E-01;     \n",
      " WARNING: FIR normalized: sum[coef]=9.767192E-01;     \n"
     ]
    },
    {
     "name": "stdout",
     "output_type": "stream",
     "text": [
      "[#############                           ] | 34% Completed | 214.36 s"
     ]
    },
    {
     "name": "stderr",
     "output_type": "stream",
     "text": [
      " WARNING: FIR normalized: sum[coef]=9.767192E-01;     \n",
      " WARNING: FIR normalized: sum[coef]=9.767192E-01;     \n",
      " WARNING: FIR normalized: sum[coef]=9.767192E-01;     \n",
      " WARNING: FIR normalized: sum[coef]=9.767192E-01;     \n"
     ]
    },
    {
     "name": "stdout",
     "output_type": "stream",
     "text": [
      "[#############                           ] | 34% Completed | 214.71 s"
     ]
    },
    {
     "name": "stderr",
     "output_type": "stream",
     "text": [
      " WARNING: FIR normalized: sum[coef]=9.767192E-01;     \n",
      " WARNING: FIR normalized: sum[coef]=9.767192E-01;     \n",
      " WARNING: FIR normalized: sum[coef]=9.767192E-01;     \n",
      " WARNING: FIR normalized: sum[coef]=9.767192E-01;     \n"
     ]
    },
    {
     "name": "stdout",
     "output_type": "stream",
     "text": [
      "[#############                           ] | 34% Completed | 214.95 s"
     ]
    },
    {
     "name": "stderr",
     "output_type": "stream",
     "text": [
      " WARNING: FIR normalized: sum[coef]=9.767192E-01;     \n",
      " WARNING: FIR normalized: sum[coef]=9.767192E-01;     \n",
      " WARNING: FIR normalized: sum[coef]=9.767192E-01;     \n"
     ]
    },
    {
     "name": "stdout",
     "output_type": "stream",
     "text": [
      "[#############                           ] | 34% Completed | 215.17 s"
     ]
    },
    {
     "name": "stderr",
     "output_type": "stream",
     "text": [
      " WARNING: FIR normalized: sum[coef]=9.767192E-01;     \n",
      " WARNING: FIR normalized: sum[coef]=9.767192E-01;     \n",
      " WARNING: FIR normalized: sum[coef]=9.767192E-01;     \n"
     ]
    },
    {
     "name": "stdout",
     "output_type": "stream",
     "text": [
      "[#############                           ] | 34% Completed | 215.39 s"
     ]
    },
    {
     "name": "stderr",
     "output_type": "stream",
     "text": [
      " WARNING: FIR normalized: sum[coef]=9.767192E-01;     \n",
      " WARNING: FIR normalized: sum[coef]=9.767192E-01;     \n",
      " WARNING: FIR normalized: sum[coef]=9.767192E-01;     \n"
     ]
    },
    {
     "name": "stdout",
     "output_type": "stream",
     "text": [
      "[#############                           ] | 34% Completed | 215.62 s"
     ]
    },
    {
     "name": "stderr",
     "output_type": "stream",
     "text": [
      " WARNING: FIR normalized: sum[coef]=9.767192E-01;     \n",
      " WARNING: FIR normalized: sum[coef]=9.767192E-01;     \n",
      " WARNING: FIR normalized: sum[coef]=9.767192E-01;     \n",
      " WARNING: FIR normalized: sum[coef]=9.767192E-01;     \n",
      " WARNING: FIR normalized: sum[coef]=9.767192E-01;     \n"
     ]
    },
    {
     "name": "stdout",
     "output_type": "stream",
     "text": [
      "[#############                           ] | 34% Completed | 215.98 s"
     ]
    },
    {
     "name": "stderr",
     "output_type": "stream",
     "text": [
      " WARNING: FIR normalized: sum[coef]=9.767192E-01;     \n",
      " WARNING: FIR normalized: sum[coef]=9.767192E-01;     \n",
      " WARNING: FIR normalized: sum[coef]=9.767192E-01;     \n"
     ]
    },
    {
     "name": "stdout",
     "output_type": "stream",
     "text": [
      "[#############                           ] | 34% Completed | 216.21 s"
     ]
    },
    {
     "name": "stderr",
     "output_type": "stream",
     "text": [
      " WARNING: FIR normalized: sum[coef]=9.767192E-01;     \n",
      " WARNING: FIR normalized: sum[coef]=9.767192E-01;     \n"
     ]
    },
    {
     "name": "stdout",
     "output_type": "stream",
     "text": [
      "[#############                           ] | 34% Completed | 216.44 s"
     ]
    },
    {
     "name": "stderr",
     "output_type": "stream",
     "text": [
      " WARNING: FIR normalized: sum[coef]=9.767192E-01;     \n",
      " WARNING: FIR normalized: sum[coef]=9.767192E-01;     \n",
      " WARNING: FIR normalized: sum[coef]=9.767192E-01;     \n",
      " WARNING: FIR normalized: sum[coef]=9.767192E-01;     \n",
      " WARNING: FIR normalized: sum[coef]=9.767192E-01;     \n"
     ]
    },
    {
     "name": "stdout",
     "output_type": "stream",
     "text": [
      "[#############                           ] | 34% Completed | 216.66 s"
     ]
    },
    {
     "name": "stderr",
     "output_type": "stream",
     "text": [
      " WARNING: FIR normalized: sum[coef]=9.767192E-01;     \n",
      " WARNING: FIR normalized: sum[coef]=9.767192E-01;     \n",
      " WARNING: FIR normalized: sum[coef]=9.767192E-01;     \n",
      " WARNING: FIR normalized: sum[coef]=9.767192E-01;     \n",
      " WARNING: FIR normalized: sum[coef]=9.767192E-01;     \n"
     ]
    },
    {
     "name": "stdout",
     "output_type": "stream",
     "text": [
      "[#############                           ] | 34% Completed | 216.99 s"
     ]
    },
    {
     "name": "stderr",
     "output_type": "stream",
     "text": [
      " WARNING: FIR normalized: sum[coef]=9.767192E-01;     \n",
      " WARNING: FIR normalized: sum[coef]=9.767192E-01;     \n",
      " WARNING: FIR normalized: sum[coef]=9.767192E-01;     \n"
     ]
    },
    {
     "name": "stdout",
     "output_type": "stream",
     "text": [
      "[#############                           ] | 34% Completed | 217.22 s"
     ]
    },
    {
     "name": "stderr",
     "output_type": "stream",
     "text": [
      " WARNING: FIR normalized: sum[coef]=9.767192E-01;     \n",
      " WARNING: FIR normalized: sum[coef]=9.767192E-01;     \n",
      " WARNING: FIR normalized: sum[coef]=9.767192E-01;     \n",
      " WARNING: FIR normalized: sum[coef]=9.767192E-01;     \n"
     ]
    },
    {
     "name": "stdout",
     "output_type": "stream",
     "text": [
      "[#############                           ] | 34% Completed | 217.46 s"
     ]
    },
    {
     "name": "stderr",
     "output_type": "stream",
     "text": [
      " WARNING: FIR normalized: sum[coef]=9.767192E-01;     \n",
      " WARNING: FIR normalized: sum[coef]=9.767192E-01;     \n",
      " WARNING: FIR normalized: sum[coef]=9.767192E-01;     \n"
     ]
    },
    {
     "name": "stdout",
     "output_type": "stream",
     "text": [
      "[#############                           ] | 34% Completed | 217.93 s"
     ]
    },
    {
     "name": "stderr",
     "output_type": "stream",
     "text": [
      " WARNING: FIR normalized: sum[coef]=9.767192E-01;     \n",
      " WARNING: FIR normalized: sum[coef]=9.767192E-01;     \n",
      " WARNING: FIR normalized: sum[coef]=9.767192E-01;     \n",
      " WARNING: FIR normalized: sum[coef]=9.767192E-01;     \n",
      " WARNING: FIR normalized: sum[coef]=9.767192E-01;     \n",
      " WARNING: FIR normalized: sum[coef]=9.767192E-01;     \n",
      " WARNING: FIR normalized: sum[coef]=9.767192E-01;     \n"
     ]
    },
    {
     "name": "stdout",
     "output_type": "stream",
     "text": [
      "[#############                           ] | 34% Completed | 218.41 s"
     ]
    },
    {
     "name": "stderr",
     "output_type": "stream",
     "text": [
      " WARNING: FIR normalized: sum[coef]=9.767192E-01;     \n",
      " WARNING: FIR normalized: sum[coef]=9.767192E-01;     \n",
      " WARNING: FIR normalized: sum[coef]=9.767192E-01;     \n",
      " WARNING: FIR normalized: sum[coef]=9.767192E-01;     \n",
      " WARNING: FIR normalized: sum[coef]=9.767192E-01;     \n",
      " WARNING: FIR normalized: sum[coef]=9.767192E-01;     \n"
     ]
    },
    {
     "name": "stdout",
     "output_type": "stream",
     "text": [
      "[#############                           ] | 34% Completed | 218.77 s"
     ]
    },
    {
     "name": "stderr",
     "output_type": "stream",
     "text": [
      " WARNING: FIR normalized: sum[coef]=9.767192E-01;     \n",
      " WARNING: FIR normalized: sum[coef]=9.767192E-01;     \n",
      " WARNING: FIR normalized: sum[coef]=9.767192E-01;     \n"
     ]
    },
    {
     "name": "stdout",
     "output_type": "stream",
     "text": [
      "[#############                           ] | 34% Completed | 219.00 s"
     ]
    },
    {
     "name": "stderr",
     "output_type": "stream",
     "text": [
      " WARNING: FIR normalized: sum[coef]=9.767192E-01;     \n",
      " WARNING: FIR normalized: sum[coef]=9.767192E-01;     \n",
      " WARNING: FIR normalized: sum[coef]=9.767192E-01;     \n"
     ]
    },
    {
     "name": "stdout",
     "output_type": "stream",
     "text": [
      "[#############                           ] | 34% Completed | 219.25 s"
     ]
    },
    {
     "name": "stderr",
     "output_type": "stream",
     "text": [
      " WARNING: FIR normalized: sum[coef]=9.767192E-01;     \n",
      " WARNING: FIR normalized: sum[coef]=9.767192E-01;     \n",
      " WARNING: FIR normalized: sum[coef]=9.767192E-01;     \n",
      " WARNING: FIR normalized: sum[coef]=9.767192E-01;     \n",
      " WARNING: FIR normalized: sum[coef]=9.767192E-01;     \n"
     ]
    },
    {
     "name": "stdout",
     "output_type": "stream",
     "text": [
      "[#############                           ] | 34% Completed | 219.48 s"
     ]
    },
    {
     "name": "stderr",
     "output_type": "stream",
     "text": [
      " WARNING: FIR normalized: sum[coef]=9.767192E-01;     \n",
      " WARNING: FIR normalized: sum[coef]=9.767192E-01;     \n"
     ]
    },
    {
     "name": "stdout",
     "output_type": "stream",
     "text": [
      "[##############                          ] | 35% Completed | 219.81 s"
     ]
    },
    {
     "name": "stderr",
     "output_type": "stream",
     "text": [
      " WARNING: FIR normalized: sum[coef]=9.767192E-01;     \n",
      " WARNING: FIR normalized: sum[coef]=9.767192E-01;     \n"
     ]
    },
    {
     "name": "stdout",
     "output_type": "stream",
     "text": [
      "[##############                          ] | 35% Completed | 220.04 s"
     ]
    },
    {
     "name": "stderr",
     "output_type": "stream",
     "text": [
      " WARNING: FIR normalized: sum[coef]=9.767192E-01;     \n",
      " WARNING: FIR normalized: sum[coef]=9.767192E-01;     \n",
      " WARNING: FIR normalized: sum[coef]=9.767192E-01;     \n"
     ]
    },
    {
     "name": "stdout",
     "output_type": "stream",
     "text": [
      "[##############                          ] | 35% Completed | 220.14 s[2013-03-20T23:43:20.000000Z] No data or fatal error during detection/classification: list index out of range\n",
      "[##############                          ] | 35% Completed | 220.26 s"
     ]
    },
    {
     "name": "stderr",
     "output_type": "stream",
     "text": [
      " WARNING: FIR normalized: sum[coef]=9.767192E-01;     \n",
      " WARNING: FIR normalized: sum[coef]=9.767192E-01;     \n",
      " WARNING: FIR normalized: sum[coef]=9.767192E-01;     \n",
      " WARNING: FIR normalized: sum[coef]=9.767192E-01;     \n"
     ]
    },
    {
     "name": "stdout",
     "output_type": "stream",
     "text": [
      "[##############                          ] | 35% Completed | 220.50 s"
     ]
    },
    {
     "name": "stderr",
     "output_type": "stream",
     "text": [
      " WARNING: FIR normalized: sum[coef]=9.767192E-01;     \n",
      " WARNING: FIR normalized: sum[coef]=9.767192E-01;     \n",
      " WARNING: FIR normalized: sum[coef]=9.767192E-01;     \n"
     ]
    },
    {
     "name": "stdout",
     "output_type": "stream",
     "text": [
      "[##############                          ] | 35% Completed | 220.85 s"
     ]
    },
    {
     "name": "stderr",
     "output_type": "stream",
     "text": [
      " WARNING: FIR normalized: sum[coef]=9.767192E-01;     \n",
      " WARNING: FIR normalized: sum[coef]=9.767192E-01;     \n"
     ]
    },
    {
     "name": "stdout",
     "output_type": "stream",
     "text": [
      "[##############                          ] | 35% Completed | 221.07 s"
     ]
    },
    {
     "name": "stderr",
     "output_type": "stream",
     "text": [
      " WARNING: FIR normalized: sum[coef]=9.767192E-01;     \n",
      " WARNING: FIR normalized: sum[coef]=9.767192E-01;     \n",
      " WARNING: FIR normalized: sum[coef]=9.767192E-01;     \n",
      " WARNING: FIR normalized: sum[coef]=9.767192E-01;     \n"
     ]
    },
    {
     "name": "stdout",
     "output_type": "stream",
     "text": [
      "[##############                          ] | 35% Completed | 221.29 s"
     ]
    },
    {
     "name": "stderr",
     "output_type": "stream",
     "text": [
      " WARNING: FIR normalized: sum[coef]=9.767192E-01;     \n",
      " WARNING: FIR normalized: sum[coef]=9.767192E-01;     \n",
      " WARNING: FIR normalized: sum[coef]=9.767192E-01;     \n"
     ]
    },
    {
     "name": "stdout",
     "output_type": "stream",
     "text": [
      "[##############                          ] | 35% Completed | 221.65 s"
     ]
    },
    {
     "name": "stderr",
     "output_type": "stream",
     "text": [
      " WARNING: FIR normalized: sum[coef]=9.767192E-01;     \n",
      " WARNING: FIR normalized: sum[coef]=9.767192E-01;     \n"
     ]
    },
    {
     "name": "stdout",
     "output_type": "stream",
     "text": [
      "[##############                          ] | 35% Completed | 221.90 s"
     ]
    },
    {
     "name": "stderr",
     "output_type": "stream",
     "text": [
      " WARNING: FIR normalized: sum[coef]=9.767192E-01;     \n",
      " WARNING: FIR normalized: sum[coef]=9.767192E-01;     \n",
      " WARNING: FIR normalized: sum[coef]=9.767192E-01;     \n",
      " WARNING: FIR normalized: sum[coef]=9.767192E-01;     \n",
      " WARNING: FIR normalized: sum[coef]=9.767192E-01;     \n",
      " WARNING: FIR normalized: sum[coef]=9.767192E-01;     \n"
     ]
    },
    {
     "name": "stdout",
     "output_type": "stream",
     "text": [
      "[##############                          ] | 36% Completed | 222.48 s"
     ]
    },
    {
     "name": "stderr",
     "output_type": "stream",
     "text": [
      " WARNING: FIR normalized: sum[coef]=9.767192E-01;     \n",
      " WARNING: FIR normalized: sum[coef]=9.767192E-01;     \n"
     ]
    },
    {
     "name": "stdout",
     "output_type": "stream",
     "text": [
      "[##############                          ] | 36% Completed | 222.71 s"
     ]
    },
    {
     "name": "stderr",
     "output_type": "stream",
     "text": [
      " WARNING: FIR normalized: sum[coef]=9.767192E-01;     \n",
      " WARNING: FIR normalized: sum[coef]=9.767192E-01;     \n",
      " WARNING: FIR normalized: sum[coef]=9.767192E-01;     \n"
     ]
    },
    {
     "name": "stdout",
     "output_type": "stream",
     "text": [
      "[##############                          ] | 36% Completed | 222.94 s"
     ]
    },
    {
     "name": "stderr",
     "output_type": "stream",
     "text": [
      " WARNING: FIR normalized: sum[coef]=9.767192E-01;     \n",
      " WARNING: FIR normalized: sum[coef]=9.767192E-01;     \n"
     ]
    },
    {
     "name": "stdout",
     "output_type": "stream",
     "text": [
      "[##############                          ] | 36% Completed | 223.28 s"
     ]
    },
    {
     "name": "stderr",
     "output_type": "stream",
     "text": [
      " WARNING: FIR normalized: sum[coef]=9.767192E-01;     \n",
      " WARNING: FIR normalized: sum[coef]=9.767192E-01;     \n"
     ]
    },
    {
     "name": "stdout",
     "output_type": "stream",
     "text": [
      "[##############                          ] | 36% Completed | 223.52 s"
     ]
    },
    {
     "name": "stderr",
     "output_type": "stream",
     "text": [
      " WARNING: FIR normalized: sum[coef]=9.767192E-01;     \n",
      " WARNING: FIR normalized: sum[coef]=9.767192E-01;     \n",
      " WARNING: FIR normalized: sum[coef]=9.767192E-01;     \n",
      " WARNING: FIR normalized: sum[coef]=9.767192E-01;     \n"
     ]
    },
    {
     "name": "stdout",
     "output_type": "stream",
     "text": [
      "[##############                          ] | 36% Completed | 224.07 s"
     ]
    },
    {
     "name": "stderr",
     "output_type": "stream",
     "text": [
      " WARNING: FIR normalized: sum[coef]=9.767192E-01;     \n",
      " WARNING: FIR normalized: sum[coef]=9.767192E-01;     \n",
      " WARNING: FIR normalized: sum[coef]=9.767192E-01;     \n"
     ]
    },
    {
     "name": "stdout",
     "output_type": "stream",
     "text": [
      "[##############                          ] | 36% Completed | 224.30 s"
     ]
    },
    {
     "name": "stderr",
     "output_type": "stream",
     "text": [
      " WARNING: FIR normalized: sum[coef]=9.767192E-01;     \n",
      " WARNING: FIR normalized: sum[coef]=9.767192E-01;     \n"
     ]
    },
    {
     "name": "stdout",
     "output_type": "stream",
     "text": [
      "[##############                          ] | 36% Completed | 224.54 s"
     ]
    },
    {
     "name": "stderr",
     "output_type": "stream",
     "text": [
      " WARNING: FIR normalized: sum[coef]=9.767192E-01;     \n"
     ]
    },
    {
     "name": "stdout",
     "output_type": "stream",
     "text": [
      "[##############                          ] | 36% Completed | 224.91 s"
     ]
    },
    {
     "name": "stderr",
     "output_type": "stream",
     "text": [
      " WARNING: FIR normalized: sum[coef]=9.767192E-01;     \n",
      " WARNING: FIR normalized: sum[coef]=9.767192E-01;     \n",
      " WARNING: FIR normalized: sum[coef]=9.767192E-01;     \n",
      " WARNING: FIR normalized: sum[coef]=9.767192E-01;     \n"
     ]
    },
    {
     "name": "stdout",
     "output_type": "stream",
     "text": [
      "[##############                          ] | 36% Completed | 225.61 s"
     ]
    },
    {
     "name": "stderr",
     "output_type": "stream",
     "text": [
      " WARNING: FIR normalized: sum[coef]=9.767192E-01;     \n",
      " WARNING: FIR normalized: sum[coef]=9.767192E-01;     \n",
      " WARNING: FIR normalized: sum[coef]=9.767192E-01;     \n",
      " WARNING: FIR normalized: sum[coef]=9.767192E-01;     \n"
     ]
    },
    {
     "name": "stdout",
     "output_type": "stream",
     "text": [
      "[##############                          ] | 36% Completed | 226.44 s"
     ]
    },
    {
     "name": "stderr",
     "output_type": "stream",
     "text": [
      " WARNING: FIR normalized: sum[coef]=9.767192E-01;     \n",
      " WARNING: FIR normalized: sum[coef]=9.767192E-01;     \n",
      " WARNING: FIR normalized: sum[coef]=9.767192E-01;     \n",
      " WARNING: FIR normalized: sum[coef]=9.767192E-01;     \n"
     ]
    },
    {
     "name": "stdout",
     "output_type": "stream",
     "text": [
      "[##############                          ] | 37% Completed | 226.90 s[2013-06-17T23:43:20.000000Z] No data or fatal error during detection/classification: list index out of range\n",
      "[##############                          ] | 37% Completed | 227.12 s"
     ]
    },
    {
     "name": "stderr",
     "output_type": "stream",
     "text": [
      " WARNING: FIR normalized: sum[coef]=9.767192E-01;     \n",
      " WARNING: FIR normalized: sum[coef]=9.767192E-01;     \n"
     ]
    },
    {
     "name": "stdout",
     "output_type": "stream",
     "text": [
      "[##############                          ] | 37% Completed | 227.35 s"
     ]
    },
    {
     "name": "stderr",
     "output_type": "stream",
     "text": [
      " WARNING: FIR normalized: sum[coef]=9.767192E-01;     \n"
     ]
    },
    {
     "name": "stdout",
     "output_type": "stream",
     "text": [
      "[##############                          ] | 37% Completed | 227.68 s"
     ]
    },
    {
     "name": "stderr",
     "output_type": "stream",
     "text": [
      " WARNING: FIR normalized: sum[coef]=9.767192E-01;     \n",
      " WARNING: FIR normalized: sum[coef]=9.767192E-01;     \n"
     ]
    },
    {
     "name": "stdout",
     "output_type": "stream",
     "text": [
      "[###############                         ] | 37% Completed | 228.02 s"
     ]
    },
    {
     "name": "stderr",
     "output_type": "stream",
     "text": [
      " WARNING: FIR normalized: sum[coef]=9.767192E-01;     \n"
     ]
    },
    {
     "name": "stdout",
     "output_type": "stream",
     "text": [
      "[###############                         ] | 37% Completed | 228.38 s"
     ]
    },
    {
     "name": "stderr",
     "output_type": "stream",
     "text": [
      " WARNING: FIR normalized: sum[coef]=9.767192E-01;     \n"
     ]
    },
    {
     "name": "stdout",
     "output_type": "stream",
     "text": [
      "[###############                         ] | 37% Completed | 228.60 s"
     ]
    },
    {
     "name": "stderr",
     "output_type": "stream",
     "text": [
      " WARNING: FIR normalized: sum[coef]=9.767192E-01;     \n"
     ]
    },
    {
     "name": "stdout",
     "output_type": "stream",
     "text": [
      "[###############                         ] | 37% Completed | 228.94 s"
     ]
    },
    {
     "name": "stderr",
     "output_type": "stream",
     "text": [
      " WARNING: FIR normalized: sum[coef]=9.767192E-01;     \n"
     ]
    },
    {
     "name": "stdout",
     "output_type": "stream",
     "text": [
      "[###############                         ] | 37% Completed | 229.30 s"
     ]
    },
    {
     "name": "stderr",
     "output_type": "stream",
     "text": [
      " WARNING: FIR normalized: sum[coef]=9.767192E-01;     \n"
     ]
    },
    {
     "name": "stdout",
     "output_type": "stream",
     "text": [
      "[###############                         ] | 37% Completed | 229.53 s"
     ]
    },
    {
     "name": "stderr",
     "output_type": "stream",
     "text": [
      " WARNING: FIR normalized: sum[coef]=9.767192E-01;     \n"
     ]
    },
    {
     "name": "stdout",
     "output_type": "stream",
     "text": [
      "[###############                         ] | 37% Completed | 229.86 s"
     ]
    },
    {
     "name": "stderr",
     "output_type": "stream",
     "text": [
      " WARNING: FIR normalized: sum[coef]=9.767192E-01;     \n"
     ]
    },
    {
     "name": "stdout",
     "output_type": "stream",
     "text": [
      "[###############                         ] | 37% Completed | 230.30 s"
     ]
    },
    {
     "name": "stderr",
     "output_type": "stream",
     "text": [
      " WARNING: FIR normalized: sum[coef]=9.767192E-01;     \n",
      " WARNING: FIR normalized: sum[coef]=9.767192E-01;     \n"
     ]
    },
    {
     "name": "stdout",
     "output_type": "stream",
     "text": [
      "[###############                         ] | 38% Completed | 230.87 s"
     ]
    },
    {
     "name": "stderr",
     "output_type": "stream",
     "text": [
      " WARNING: FIR normalized: sum[coef]=9.767192E-01;     \n"
     ]
    },
    {
     "name": "stdout",
     "output_type": "stream",
     "text": [
      "[###############                         ] | 38% Completed | 231.45 s"
     ]
    },
    {
     "name": "stderr",
     "output_type": "stream",
     "text": [
      " WARNING: FIR normalized: sum[coef]=9.767192E-01;     \n"
     ]
    },
    {
     "name": "stdout",
     "output_type": "stream",
     "text": [
      "[###############                         ] | 38% Completed | 232.16 s"
     ]
    },
    {
     "name": "stderr",
     "output_type": "stream",
     "text": [
      " WARNING: FIR normalized: sum[coef]=9.767192E-01;     \n"
     ]
    },
    {
     "name": "stdout",
     "output_type": "stream",
     "text": [
      "[###############                         ] | 38% Completed | 232.72 s"
     ]
    },
    {
     "name": "stderr",
     "output_type": "stream",
     "text": [
      " WARNING: FIR normalized: sum[coef]=9.767192E-01;     \n"
     ]
    },
    {
     "name": "stdout",
     "output_type": "stream",
     "text": [
      "[###############                         ] | 38% Completed | 233.30 s"
     ]
    },
    {
     "name": "stderr",
     "output_type": "stream",
     "text": [
      " WARNING: FIR normalized: sum[coef]=9.767192E-01;     \n"
     ]
    },
    {
     "name": "stdout",
     "output_type": "stream",
     "text": [
      "[###############                         ] | 38% Completed | 233.99 s"
     ]
    },
    {
     "name": "stderr",
     "output_type": "stream",
     "text": [
      " WARNING: FIR normalized: sum[coef]=9.767192E-01;     \n"
     ]
    },
    {
     "name": "stdout",
     "output_type": "stream",
     "text": [
      "[###############                         ] | 38% Completed | 234.66 s"
     ]
    },
    {
     "name": "stderr",
     "output_type": "stream",
     "text": [
      " WARNING: FIR normalized: sum[coef]=9.767192E-01;     \n"
     ]
    },
    {
     "name": "stdout",
     "output_type": "stream",
     "text": [
      "[###############                         ] | 38% Completed | 235.13 s"
     ]
    },
    {
     "name": "stderr",
     "output_type": "stream",
     "text": [
      " WARNING: FIR normalized: sum[coef]=9.767192E-01;     \n"
     ]
    },
    {
     "name": "stdout",
     "output_type": "stream",
     "text": [
      "[###############                         ] | 38% Completed | 235.70 s"
     ]
    },
    {
     "name": "stderr",
     "output_type": "stream",
     "text": [
      " WARNING: FIR normalized: sum[coef]=9.767192E-01;     \n"
     ]
    },
    {
     "name": "stdout",
     "output_type": "stream",
     "text": [
      "[###############                         ] | 38% Completed | 236.18 s"
     ]
    },
    {
     "name": "stderr",
     "output_type": "stream",
     "text": [
      " WARNING: FIR normalized: sum[coef]=9.767192E-01;     \n"
     ]
    },
    {
     "name": "stdout",
     "output_type": "stream",
     "text": [
      "[###############                         ] | 38% Completed | 236.74 s"
     ]
    },
    {
     "name": "stderr",
     "output_type": "stream",
     "text": [
      " WARNING: FIR normalized: sum[coef]=9.767192E-01;     \n"
     ]
    },
    {
     "name": "stdout",
     "output_type": "stream",
     "text": [
      "[###############                         ] | 38% Completed | 252.83 s"
     ]
    },
    {
     "name": "stderr",
     "output_type": "stream",
     "text": [
      " WARNING: FIR normalized: sum[coef]=9.767192E-01;     \n"
     ]
    },
    {
     "name": "stdout",
     "output_type": "stream",
     "text": [
      "[###############                         ] | 38% Completed | 253.76 s"
     ]
    },
    {
     "name": "stderr",
     "output_type": "stream",
     "text": [
      " WARNING: FIR normalized: sum[coef]=9.767192E-01;     \n"
     ]
    },
    {
     "name": "stdout",
     "output_type": "stream",
     "text": [
      "[###############                         ] | 38% Completed | 254.34 s"
     ]
    },
    {
     "name": "stderr",
     "output_type": "stream",
     "text": [
      " WARNING: FIR normalized: sum[coef]=9.767192E-01;     \n",
      " WARNING: FIR normalized: sum[coef]=9.767192E-01;     \n"
     ]
    },
    {
     "name": "stdout",
     "output_type": "stream",
     "text": [
      "[###############                         ] | 38% Completed | 254.57 s"
     ]
    },
    {
     "name": "stderr",
     "output_type": "stream",
     "text": [
      " WARNING: FIR normalized: sum[coef]=9.767192E-01;     \n"
     ]
    },
    {
     "name": "stdout",
     "output_type": "stream",
     "text": [
      "[###############                         ] | 38% Completed | 255.15 s"
     ]
    },
    {
     "name": "stderr",
     "output_type": "stream",
     "text": [
      " WARNING: FIR normalized: sum[coef]=9.767192E-01;     \n",
      " WARNING: FIR normalized: sum[coef]=9.767192E-01;     \n"
     ]
    },
    {
     "name": "stdout",
     "output_type": "stream",
     "text": [
      "[###############                         ] | 38% Completed | 255.39 s"
     ]
    },
    {
     "name": "stderr",
     "output_type": "stream",
     "text": [
      " WARNING: FIR normalized: sum[coef]=9.767192E-01;     \n"
     ]
    },
    {
     "name": "stdout",
     "output_type": "stream",
     "text": [
      "[###############                         ] | 38% Completed | 255.85 s"
     ]
    },
    {
     "name": "stderr",
     "output_type": "stream",
     "text": [
      " WARNING: FIR normalized: sum[coef]=9.767192E-01;     \n",
      " WARNING: FIR normalized: sum[coef]=9.767192E-01;     \n"
     ]
    },
    {
     "name": "stdout",
     "output_type": "stream",
     "text": [
      "[###############                         ] | 38% Completed | 256.21 s"
     ]
    },
    {
     "name": "stderr",
     "output_type": "stream",
     "text": [
      " WARNING: FIR normalized: sum[coef]=9.767192E-01;     \n",
      " WARNING: FIR normalized: sum[coef]=9.767192E-01;     \n"
     ]
    },
    {
     "name": "stdout",
     "output_type": "stream",
     "text": [
      "[###############                         ] | 38% Completed | 256.45 s"
     ]
    },
    {
     "name": "stderr",
     "output_type": "stream",
     "text": [
      " WARNING: FIR normalized: sum[coef]=9.767192E-01;     \n",
      " WARNING: FIR normalized: sum[coef]=9.767192E-01;     \n"
     ]
    },
    {
     "name": "stdout",
     "output_type": "stream",
     "text": [
      "[###############                         ] | 38% Completed | 257.03 s"
     ]
    },
    {
     "name": "stderr",
     "output_type": "stream",
     "text": [
      " WARNING: FIR normalized: sum[coef]=9.767192E-01;     \n",
      " WARNING: FIR normalized: sum[coef]=9.767192E-01;     \n",
      " WARNING: FIR normalized: sum[coef]=9.767192E-01;     \n"
     ]
    },
    {
     "name": "stdout",
     "output_type": "stream",
     "text": [
      "[###############                         ] | 38% Completed | 257.26 s"
     ]
    },
    {
     "name": "stderr",
     "output_type": "stream",
     "text": [
      " WARNING: FIR normalized: sum[coef]=9.767192E-01;     \n"
     ]
    },
    {
     "name": "stdout",
     "output_type": "stream",
     "text": [
      "[###############                         ] | 38% Completed | 257.82 s"
     ]
    },
    {
     "name": "stderr",
     "output_type": "stream",
     "text": [
      " WARNING: FIR normalized: sum[coef]=9.767192E-01;     \n",
      " WARNING: FIR normalized: sum[coef]=9.767192E-01;     \n",
      " WARNING: FIR normalized: sum[coef]=9.767192E-01;     \n",
      " WARNING: FIR normalized: sum[coef]=9.767192E-01;     \n"
     ]
    },
    {
     "name": "stdout",
     "output_type": "stream",
     "text": [
      "[###############                         ] | 38% Completed | 258.58 s"
     ]
    },
    {
     "name": "stderr",
     "output_type": "stream",
     "text": [
      " WARNING: FIR normalized: sum[coef]=9.767192E-01;     \n",
      " WARNING: FIR normalized: sum[coef]=9.767192E-01;     \n",
      " WARNING: FIR normalized: sum[coef]=9.767192E-01;     \n",
      " WARNING: FIR normalized: sum[coef]=9.767192E-01;     \n"
     ]
    },
    {
     "name": "stdout",
     "output_type": "stream",
     "text": [
      "[###############                         ] | 38% Completed | 259.15 s"
     ]
    },
    {
     "name": "stderr",
     "output_type": "stream",
     "text": [
      " WARNING: FIR normalized: sum[coef]=9.767192E-01;     \n",
      " WARNING: FIR normalized: sum[coef]=9.767192E-01;     \n"
     ]
    },
    {
     "name": "stdout",
     "output_type": "stream",
     "text": [
      "[###############                         ] | 38% Completed | 259.39 s"
     ]
    },
    {
     "name": "stderr",
     "output_type": "stream",
     "text": [
      " WARNING: FIR normalized: sum[coef]=9.767192E-01;     \n",
      " WARNING: FIR normalized: sum[coef]=9.767192E-01;     \n"
     ]
    },
    {
     "name": "stdout",
     "output_type": "stream",
     "text": [
      "[###############                         ] | 38% Completed | 259.75 s"
     ]
    },
    {
     "name": "stderr",
     "output_type": "stream",
     "text": [
      " WARNING: FIR normalized: sum[coef]=9.767192E-01;     \n",
      " WARNING: FIR normalized: sum[coef]=9.767192E-01;     \n"
     ]
    },
    {
     "name": "stdout",
     "output_type": "stream",
     "text": [
      "[###############                         ] | 38% Completed | 260.22 s"
     ]
    },
    {
     "name": "stderr",
     "output_type": "stream",
     "text": [
      " WARNING: FIR normalized: sum[coef]=9.767192E-01;     \n",
      " WARNING: FIR normalized: sum[coef]=9.767192E-01;     \n"
     ]
    },
    {
     "name": "stdout",
     "output_type": "stream",
     "text": [
      "[###############                         ] | 38% Completed | 260.57 s"
     ]
    },
    {
     "name": "stderr",
     "output_type": "stream",
     "text": [
      " WARNING: FIR normalized: sum[coef]=9.767192E-01;     \n",
      " WARNING: FIR normalized: sum[coef]=9.767192E-01;     \n"
     ]
    },
    {
     "name": "stdout",
     "output_type": "stream",
     "text": [
      "[###############                         ] | 38% Completed | 260.68 s[2013-01-21T23:43:19.998272Z] No data or fatal error during detection/classification: list index out of range\n",
      "[###############                         ] | 38% Completed | 260.90 s"
     ]
    },
    {
     "name": "stderr",
     "output_type": "stream",
     "text": [
      " WARNING: FIR normalized: sum[coef]=9.767192E-01;     \n"
     ]
    },
    {
     "name": "stdout",
     "output_type": "stream",
     "text": [
      "[###############                         ] | 38% Completed | 261.25 s"
     ]
    },
    {
     "name": "stderr",
     "output_type": "stream",
     "text": [
      " WARNING: FIR normalized: sum[coef]=9.767192E-01;     \n",
      " WARNING: FIR normalized: sum[coef]=9.767192E-01;     \n"
     ]
    },
    {
     "name": "stdout",
     "output_type": "stream",
     "text": [
      "[###############                         ] | 38% Completed | 261.59 s"
     ]
    },
    {
     "name": "stderr",
     "output_type": "stream",
     "text": [
      " WARNING: FIR normalized: sum[coef]=9.767192E-01;     \n",
      " WARNING: FIR normalized: sum[coef]=9.767192E-01;     \n"
     ]
    },
    {
     "name": "stdout",
     "output_type": "stream",
     "text": [
      "[###############                         ] | 38% Completed | 261.84 s"
     ]
    },
    {
     "name": "stderr",
     "output_type": "stream",
     "text": [
      " WARNING: FIR normalized: sum[coef]=9.767192E-01;     \n",
      " WARNING: FIR normalized: sum[coef]=9.767192E-01;     \n"
     ]
    },
    {
     "name": "stdout",
     "output_type": "stream",
     "text": [
      "[###############                         ] | 38% Completed | 262.08 s"
     ]
    },
    {
     "name": "stderr",
     "output_type": "stream",
     "text": [
      " WARNING: FIR normalized: sum[coef]=9.767192E-01;     \n"
     ]
    },
    {
     "name": "stdout",
     "output_type": "stream",
     "text": [
      "[###############                         ] | 38% Completed | 262.32 s"
     ]
    },
    {
     "name": "stderr",
     "output_type": "stream",
     "text": [
      " WARNING: FIR normalized: sum[coef]=9.767192E-01;     \n"
     ]
    },
    {
     "name": "stdout",
     "output_type": "stream",
     "text": [
      "[###############                         ] | 38% Completed | 262.55 s"
     ]
    },
    {
     "name": "stderr",
     "output_type": "stream",
     "text": [
      " WARNING: FIR normalized: sum[coef]=9.767192E-01;     \n",
      " WARNING: FIR normalized: sum[coef]=9.767192E-01;     \n",
      " WARNING: FIR normalized: sum[coef]=9.767192E-01;     \n",
      " WARNING: FIR normalized: sum[coef]=9.767192E-01;     \n"
     ]
    },
    {
     "name": "stdout",
     "output_type": "stream",
     "text": [
      "[###############                         ] | 38% Completed | 262.90 s"
     ]
    },
    {
     "name": "stderr",
     "output_type": "stream",
     "text": [
      " WARNING: FIR normalized: sum[coef]=9.767192E-01;     \n"
     ]
    },
    {
     "name": "stdout",
     "output_type": "stream",
     "text": [
      "[###############                         ] | 38% Completed | 263.25 s"
     ]
    },
    {
     "name": "stderr",
     "output_type": "stream",
     "text": [
      " WARNING: FIR normalized: sum[coef]=9.767192E-01;     \n",
      " WARNING: FIR normalized: sum[coef]=9.767192E-01;     \n",
      " WARNING: FIR normalized: sum[coef]=9.767192E-01;     \n"
     ]
    },
    {
     "name": "stdout",
     "output_type": "stream",
     "text": [
      "[###############                         ] | 38% Completed | 263.49 s"
     ]
    },
    {
     "name": "stderr",
     "output_type": "stream",
     "text": [
      " WARNING: FIR normalized: sum[coef]=9.767192E-01;     \n",
      " WARNING: FIR normalized: sum[coef]=9.767192E-01;     \n"
     ]
    },
    {
     "name": "stdout",
     "output_type": "stream",
     "text": [
      "[###############                         ] | 38% Completed | 263.82 s"
     ]
    },
    {
     "name": "stderr",
     "output_type": "stream",
     "text": [
      " WARNING: FIR normalized: sum[coef]=9.767192E-01;     \n",
      " WARNING: FIR normalized: sum[coef]=9.767192E-01;     \n",
      " WARNING: FIR normalized: sum[coef]=9.767192E-01;     \n"
     ]
    },
    {
     "name": "stdout",
     "output_type": "stream",
     "text": [
      "[###############                         ] | 38% Completed | 264.29 s"
     ]
    },
    {
     "name": "stderr",
     "output_type": "stream",
     "text": [
      " WARNING: FIR normalized: sum[coef]=9.767192E-01;     \n",
      " WARNING: FIR normalized: sum[coef]=9.767192E-01;     \n",
      " WARNING: FIR normalized: sum[coef]=9.767192E-01;     \n",
      " WARNING: FIR normalized: sum[coef]=9.767192E-01;     \n"
     ]
    },
    {
     "name": "stdout",
     "output_type": "stream",
     "text": [
      "[###############                         ] | 39% Completed | 264.75 s"
     ]
    },
    {
     "name": "stderr",
     "output_type": "stream",
     "text": [
      " WARNING: FIR normalized: sum[coef]=9.767192E-01;     \n"
     ]
    },
    {
     "name": "stdout",
     "output_type": "stream",
     "text": [
      "[###############                         ] | 39% Completed | 265.11 s"
     ]
    },
    {
     "name": "stderr",
     "output_type": "stream",
     "text": [
      " WARNING: FIR normalized: sum[coef]=9.767192E-01;     \n",
      " WARNING: FIR normalized: sum[coef]=9.767192E-01;     \n",
      " WARNING: FIR normalized: sum[coef]=9.767192E-01;     \n"
     ]
    },
    {
     "name": "stdout",
     "output_type": "stream",
     "text": [
      "[###############                         ] | 39% Completed | 265.47 s"
     ]
    },
    {
     "name": "stderr",
     "output_type": "stream",
     "text": [
      " WARNING: FIR normalized: sum[coef]=9.767192E-01;     \n"
     ]
    },
    {
     "name": "stdout",
     "output_type": "stream",
     "text": [
      "[###############                         ] | 39% Completed | 265.82 s"
     ]
    },
    {
     "name": "stderr",
     "output_type": "stream",
     "text": [
      " WARNING: FIR normalized: sum[coef]=9.767192E-01;     \n",
      " WARNING: FIR normalized: sum[coef]=9.767192E-01;     \n",
      " WARNING: FIR normalized: sum[coef]=9.767192E-01;     \n"
     ]
    },
    {
     "name": "stdout",
     "output_type": "stream",
     "text": [
      "[###############                         ] | 39% Completed | 266.41 s"
     ]
    },
    {
     "name": "stderr",
     "output_type": "stream",
     "text": [
      " WARNING: FIR normalized: sum[coef]=9.767192E-01;     \n",
      " WARNING: FIR normalized: sum[coef]=9.767192E-01;     \n",
      " WARNING: FIR normalized: sum[coef]=9.767192E-01;     \n",
      " WARNING: FIR normalized: sum[coef]=9.767192E-01;     \n"
     ]
    },
    {
     "name": "stdout",
     "output_type": "stream",
     "text": [
      "[###############                         ] | 39% Completed | 266.75 s"
     ]
    },
    {
     "name": "stderr",
     "output_type": "stream",
     "text": [
      " WARNING: FIR normalized: sum[coef]=9.767192E-01;     \n"
     ]
    },
    {
     "name": "stdout",
     "output_type": "stream",
     "text": [
      "[###############                         ] | 39% Completed | 267.10 s"
     ]
    },
    {
     "name": "stderr",
     "output_type": "stream",
     "text": [
      " WARNING: FIR normalized: sum[coef]=9.767192E-01;     \n",
      " WARNING: FIR normalized: sum[coef]=9.767192E-01;     \n",
      " WARNING: FIR normalized: sum[coef]=9.767192E-01;     \n",
      " WARNING: FIR normalized: sum[coef]=9.767192E-01;     \n"
     ]
    },
    {
     "name": "stdout",
     "output_type": "stream",
     "text": [
      "[###############                         ] | 39% Completed | 267.44 s"
     ]
    },
    {
     "name": "stderr",
     "output_type": "stream",
     "text": [
      " WARNING: FIR normalized: sum[coef]=9.767192E-01;     \n"
     ]
    },
    {
     "name": "stdout",
     "output_type": "stream",
     "text": [
      "[###############                         ] | 39% Completed | 267.89 s"
     ]
    },
    {
     "name": "stderr",
     "output_type": "stream",
     "text": [
      " WARNING: FIR normalized: sum[coef]=9.767192E-01;     \n",
      " WARNING: FIR normalized: sum[coef]=9.767192E-01;     \n",
      " WARNING: FIR normalized: sum[coef]=9.767192E-01;     \n"
     ]
    },
    {
     "name": "stdout",
     "output_type": "stream",
     "text": [
      "[###############                         ] | 39% Completed | 268.13 s"
     ]
    },
    {
     "name": "stderr",
     "output_type": "stream",
     "text": [
      " WARNING: FIR normalized: sum[coef]=9.767192E-01;     \n",
      " WARNING: FIR normalized: sum[coef]=9.767192E-01;     \n"
     ]
    },
    {
     "name": "stdout",
     "output_type": "stream",
     "text": [
      "[###############                         ] | 39% Completed | 268.46 s[2013-04-16T23:43:19.999685Z] No data or fatal error during detection/classification: list index out of range\n",
      "[###############                         ] | 39% Completed | 268.70 s"
     ]
    },
    {
     "name": "stderr",
     "output_type": "stream",
     "text": [
      " WARNING: FIR normalized: sum[coef]=9.767192E-01;     \n",
      " WARNING: FIR normalized: sum[coef]=9.767192E-01;     \n",
      " WARNING: FIR normalized: sum[coef]=9.767192E-01;     \n"
     ]
    },
    {
     "name": "stdout",
     "output_type": "stream",
     "text": [
      "[###############                         ] | 39% Completed | 268.92 s"
     ]
    },
    {
     "name": "stderr",
     "output_type": "stream",
     "text": [
      " WARNING: FIR normalized: sum[coef]=9.767192E-01;     \n"
     ]
    },
    {
     "name": "stdout",
     "output_type": "stream",
     "text": [
      "[###############                         ] | 39% Completed | 269.28 s"
     ]
    },
    {
     "name": "stderr",
     "output_type": "stream",
     "text": [
      " WARNING: FIR normalized: sum[coef]=9.767192E-01;     \n",
      " WARNING: FIR normalized: sum[coef]=9.767192E-01;     \n",
      " WARNING: FIR normalized: sum[coef]=9.767192E-01;     \n"
     ]
    },
    {
     "name": "stdout",
     "output_type": "stream",
     "text": [
      "[###############                         ] | 39% Completed | 269.63 s"
     ]
    },
    {
     "name": "stderr",
     "output_type": "stream",
     "text": [
      " WARNING: FIR normalized: sum[coef]=9.767192E-01;     \n"
     ]
    },
    {
     "name": "stdout",
     "output_type": "stream",
     "text": [
      "[###############                         ] | 39% Completed | 269.87 s"
     ]
    },
    {
     "name": "stderr",
     "output_type": "stream",
     "text": [
      " WARNING: FIR normalized: sum[coef]=9.767192E-01;     \n",
      " WARNING: FIR normalized: sum[coef]=9.767192E-01;     \n",
      " WARNING: FIR normalized: sum[coef]=9.767192E-01;     \n"
     ]
    },
    {
     "name": "stdout",
     "output_type": "stream",
     "text": [
      "[###############                         ] | 39% Completed | 270.21 s"
     ]
    },
    {
     "name": "stderr",
     "output_type": "stream",
     "text": [
      " WARNING: FIR normalized: sum[coef]=9.767192E-01;     \n",
      " WARNING: FIR normalized: sum[coef]=9.767192E-01;     \n",
      " WARNING: FIR normalized: sum[coef]=9.767192E-01;     \n"
     ]
    },
    {
     "name": "stdout",
     "output_type": "stream",
     "text": [
      "[###############                         ] | 39% Completed | 270.57 s"
     ]
    },
    {
     "name": "stderr",
     "output_type": "stream",
     "text": [
      " WARNING: FIR normalized: sum[coef]=9.767192E-01;     \n",
      " WARNING: FIR normalized: sum[coef]=9.767192E-01;     \n",
      " WARNING: FIR normalized: sum[coef]=9.767192E-01;     \n"
     ]
    },
    {
     "name": "stdout",
     "output_type": "stream",
     "text": [
      "[###############                         ] | 39% Completed | 271.04 s"
     ]
    },
    {
     "name": "stderr",
     "output_type": "stream",
     "text": [
      " WARNING: FIR normalized: sum[coef]=9.767192E-01;     \n",
      " WARNING: FIR normalized: sum[coef]=9.767192E-01;     \n"
     ]
    },
    {
     "name": "stdout",
     "output_type": "stream",
     "text": [
      "[###############                         ] | 39% Completed | 271.28 s"
     ]
    },
    {
     "name": "stderr",
     "output_type": "stream",
     "text": [
      " WARNING: FIR normalized: sum[coef]=9.767192E-01;     \n",
      " WARNING: FIR normalized: sum[coef]=9.767192E-01;     \n"
     ]
    },
    {
     "name": "stdout",
     "output_type": "stream",
     "text": [
      "[###############                         ] | 39% Completed | 271.40 s"
     ]
    },
    {
     "name": "stderr",
     "output_type": "stream",
     "text": [
      " WARNING: FIR normalized: sum[coef]=9.767192E-01;     \n",
      " WARNING: FIR normalized: sum[coef]=9.767192E-01;     \n",
      " WARNING: FIR normalized: sum[coef]=9.767192E-01;     \n"
     ]
    },
    {
     "name": "stdout",
     "output_type": "stream",
     "text": [
      "[###############                         ] | 39% Completed | 271.88 s"
     ]
    },
    {
     "name": "stderr",
     "output_type": "stream",
     "text": [
      " WARNING: FIR normalized: sum[coef]=9.767192E-01;     \n",
      " WARNING: FIR normalized: sum[coef]=9.767192E-01;     \n",
      " WARNING: FIR normalized: sum[coef]=9.767192E-01;     \n"
     ]
    },
    {
     "name": "stdout",
     "output_type": "stream",
     "text": [
      "[###############                         ] | 39% Completed | 272.11 s"
     ]
    },
    {
     "name": "stderr",
     "output_type": "stream",
     "text": [
      " WARNING: FIR normalized: sum[coef]=9.767192E-01;     \n",
      " WARNING: FIR normalized: sum[coef]=9.767192E-01;     \n",
      " WARNING: FIR normalized: sum[coef]=9.767192E-01;     \n"
     ]
    },
    {
     "name": "stdout",
     "output_type": "stream",
     "text": [
      "[###############                         ] | 39% Completed | 272.45 s"
     ]
    },
    {
     "name": "stderr",
     "output_type": "stream",
     "text": [
      " WARNING: FIR normalized: sum[coef]=9.767192E-01;     \n"
     ]
    },
    {
     "name": "stdout",
     "output_type": "stream",
     "text": [
      "[###############                         ] | 39% Completed | 272.80 s"
     ]
    },
    {
     "name": "stderr",
     "output_type": "stream",
     "text": [
      " WARNING: FIR normalized: sum[coef]=9.767192E-01;     \n",
      " WARNING: FIR normalized: sum[coef]=9.767192E-01;     \n",
      " WARNING: FIR normalized: sum[coef]=9.767192E-01;     \n",
      " WARNING: FIR normalized: sum[coef]=9.767192E-01;     \n",
      " WARNING: FIR normalized: sum[coef]=9.767192E-01;     \n"
     ]
    },
    {
     "name": "stdout",
     "output_type": "stream",
     "text": [
      "[###############                         ] | 39% Completed | 273.17 s"
     ]
    },
    {
     "name": "stderr",
     "output_type": "stream",
     "text": [
      " WARNING: FIR normalized: sum[coef]=9.767192E-01;     \n",
      " WARNING: FIR normalized: sum[coef]=9.767192E-01;     \n",
      " WARNING: FIR normalized: sum[coef]=9.767192E-01;     \n",
      " WARNING: FIR normalized: sum[coef]=9.767192E-01;     \n"
     ]
    },
    {
     "name": "stdout",
     "output_type": "stream",
     "text": [
      "[###############                         ] | 39% Completed | 273.39 s"
     ]
    },
    {
     "name": "stderr",
     "output_type": "stream",
     "text": [
      " WARNING: FIR normalized: sum[coef]=9.767192E-01;     \n"
     ]
    },
    {
     "name": "stdout",
     "output_type": "stream",
     "text": [
      "[###############                         ] | 39% Completed | 273.63 s[2013-02-15T23:43:19.996334Z] No data or fatal error during detection/classification: list index out of range\n"
     ]
    },
    {
     "name": "stderr",
     "output_type": "stream",
     "text": [
      " WARNING: FIR normalized: sum[coef]=9.767192E-01;     \n",
      " WARNING: FIR normalized: sum[coef]=9.767192E-01;     \n",
      " WARNING: FIR normalized: sum[coef]=9.767192E-01;     \n",
      " WARNING: FIR normalized: sum[coef]=9.767192E-01;     \n",
      " WARNING: FIR normalized: sum[coef]=9.767192E-01;     \n",
      " WARNING: FIR normalized: sum[coef]=9.767192E-01;     \n"
     ]
    },
    {
     "name": "stdout",
     "output_type": "stream",
     "text": [
      "[################                        ] | 40% Completed | 273.98 s"
     ]
    },
    {
     "name": "stderr",
     "output_type": "stream",
     "text": [
      " WARNING: FIR normalized: sum[coef]=9.767192E-01;     \n"
     ]
    },
    {
     "name": "stdout",
     "output_type": "stream",
     "text": [
      "[2013-03-27T23:43:20.000000Z] No data or fatal error during detection/classification: list index out of range\n",
      "[################                        ] | 40% Completed | 274.33 s"
     ]
    },
    {
     "name": "stderr",
     "output_type": "stream",
     "text": [
      " WARNING: FIR normalized: sum[coef]=9.767192E-01;     \n",
      " WARNING: FIR normalized: sum[coef]=9.767192E-01;     \n",
      " WARNING: FIR normalized: sum[coef]=9.767192E-01;     \n",
      " WARNING: FIR normalized: sum[coef]=9.767192E-01;     \n"
     ]
    },
    {
     "name": "stdout",
     "output_type": "stream",
     "text": [
      "[################                        ] | 40% Completed | 274.57 s"
     ]
    },
    {
     "name": "stderr",
     "output_type": "stream",
     "text": [
      " WARNING: FIR normalized: sum[coef]=9.767192E-01;     \n",
      " WARNING: FIR normalized: sum[coef]=9.767192E-01;     \n",
      " WARNING: FIR normalized: sum[coef]=9.767192E-01;     \n",
      " WARNING: FIR normalized: sum[coef]=9.767192E-01;     \n",
      " WARNING: FIR normalized: sum[coef]=9.767192E-01;     \n"
     ]
    },
    {
     "name": "stdout",
     "output_type": "stream",
     "text": [
      "[################                        ] | 40% Completed | 275.04 s"
     ]
    },
    {
     "name": "stderr",
     "output_type": "stream",
     "text": [
      " WARNING: FIR normalized: sum[coef]=9.767192E-01;     \n",
      " WARNING: FIR normalized: sum[coef]=9.767192E-01;     \n",
      " WARNING: FIR normalized: sum[coef]=9.767192E-01;     \n",
      " WARNING: FIR normalized: sum[coef]=9.767192E-01;     \n"
     ]
    },
    {
     "name": "stdout",
     "output_type": "stream",
     "text": [
      "[################                        ] | 40% Completed | 275.39 s"
     ]
    },
    {
     "name": "stderr",
     "output_type": "stream",
     "text": [
      " WARNING: FIR normalized: sum[coef]=9.767192E-01;     \n",
      " WARNING: FIR normalized: sum[coef]=9.767192E-01;     \n",
      " WARNING: FIR normalized: sum[coef]=9.767192E-01;     \n",
      " WARNING: FIR normalized: sum[coef]=9.767192E-01;     \n"
     ]
    },
    {
     "name": "stdout",
     "output_type": "stream",
     "text": [
      "[################                        ] | 40% Completed | 275.63 s"
     ]
    },
    {
     "name": "stderr",
     "output_type": "stream",
     "text": [
      " WARNING: FIR normalized: sum[coef]=9.767192E-01;     \n",
      " WARNING: FIR normalized: sum[coef]=9.767192E-01;     \n",
      " WARNING: FIR normalized: sum[coef]=9.767192E-01;     \n",
      " WARNING: FIR normalized: sum[coef]=9.767192E-01;     \n"
     ]
    },
    {
     "name": "stdout",
     "output_type": "stream",
     "text": [
      "[################                        ] | 40% Completed | 275.97 s"
     ]
    },
    {
     "name": "stderr",
     "output_type": "stream",
     "text": [
      " WARNING: FIR normalized: sum[coef]=9.767192E-01;     \n",
      " WARNING: FIR normalized: sum[coef]=9.767192E-01;     \n",
      " WARNING: FIR normalized: sum[coef]=9.767192E-01;     \n",
      " WARNING: FIR normalized: sum[coef]=9.767192E-01;     \n"
     ]
    },
    {
     "name": "stdout",
     "output_type": "stream",
     "text": [
      "[################                        ] | 40% Completed | 276.22 s"
     ]
    },
    {
     "name": "stderr",
     "output_type": "stream",
     "text": [
      " WARNING: FIR normalized: sum[coef]=9.767192E-01;     \n",
      " WARNING: FIR normalized: sum[coef]=9.767192E-01;     \n",
      " WARNING: FIR normalized: sum[coef]=9.767192E-01;     \n",
      " WARNING: FIR normalized: sum[coef]=9.767192E-01;     \n"
     ]
    },
    {
     "name": "stdout",
     "output_type": "stream",
     "text": [
      "[################                        ] | 40% Completed | 276.69 s"
     ]
    },
    {
     "name": "stderr",
     "output_type": "stream",
     "text": [
      " WARNING: FIR normalized: sum[coef]=9.767192E-01;     \n",
      " WARNING: FIR normalized: sum[coef]=9.767192E-01;     \n",
      " WARNING: FIR normalized: sum[coef]=9.767192E-01;     \n",
      " WARNING: FIR normalized: sum[coef]=9.767192E-01;     \n"
     ]
    },
    {
     "name": "stdout",
     "output_type": "stream",
     "text": [
      "[################                        ] | 40% Completed | 276.92 s"
     ]
    },
    {
     "name": "stderr",
     "output_type": "stream",
     "text": [
      " WARNING: FIR normalized: sum[coef]=9.767192E-01;     \n",
      " WARNING: FIR normalized: sum[coef]=9.767192E-01;     \n",
      " WARNING: FIR normalized: sum[coef]=9.767192E-01;     \n",
      " WARNING: FIR normalized: sum[coef]=9.767192E-01;     \n",
      " WARNING: FIR normalized: sum[coef]=9.767192E-01;     \n"
     ]
    },
    {
     "name": "stdout",
     "output_type": "stream",
     "text": [
      "[2012-10-23T23:43:20.000000Z] No data or fatal error during detection/classification: list index out of range\n",
      "[################                        ] | 41% Completed | 277.15 s"
     ]
    },
    {
     "name": "stderr",
     "output_type": "stream",
     "text": [
      " WARNING: FIR normalized: sum[coef]=9.767192E-01;     \n",
      " WARNING: FIR normalized: sum[coef]=9.767192E-01;     \n"
     ]
    },
    {
     "name": "stdout",
     "output_type": "stream",
     "text": [
      "[################                        ] | 41% Completed | 277.51 s"
     ]
    },
    {
     "name": "stderr",
     "output_type": "stream",
     "text": [
      " WARNING: FIR normalized: sum[coef]=9.767192E-01;     \n",
      " WARNING: FIR normalized: sum[coef]=9.767192E-01;     \n",
      " WARNING: FIR normalized: sum[coef]=9.767192E-01;     \n",
      " WARNING: FIR normalized: sum[coef]=9.767192E-01;     \n"
     ]
    },
    {
     "name": "stdout",
     "output_type": "stream",
     "text": [
      "[################                        ] | 41% Completed | 277.75 s"
     ]
    },
    {
     "name": "stderr",
     "output_type": "stream",
     "text": [
      " WARNING: FIR normalized: sum[coef]=9.767192E-01;     \n",
      " WARNING: FIR normalized: sum[coef]=9.767192E-01;     \n",
      " WARNING: FIR normalized: sum[coef]=9.767192E-01;     \n",
      " WARNING: FIR normalized: sum[coef]=9.767192E-01;     \n",
      " WARNING: FIR normalized: sum[coef]=9.767192E-01;     \n"
     ]
    },
    {
     "name": "stdout",
     "output_type": "stream",
     "text": [
      "[################                        ] | 41% Completed | 278.00 s"
     ]
    },
    {
     "name": "stderr",
     "output_type": "stream",
     "text": [
      " WARNING: FIR normalized: sum[coef]=9.767192E-01;     \n",
      " WARNING: FIR normalized: sum[coef]=9.767192E-01;     \n",
      " WARNING: FIR normalized: sum[coef]=9.767192E-01;     \n",
      " WARNING: FIR normalized: sum[coef]=9.767192E-01;     \n"
     ]
    },
    {
     "name": "stdout",
     "output_type": "stream",
     "text": [
      "[################                        ] | 41% Completed | 278.33 s"
     ]
    },
    {
     "name": "stderr",
     "output_type": "stream",
     "text": [
      " WARNING: FIR normalized: sum[coef]=9.767192E-01;     \n",
      " WARNING: FIR normalized: sum[coef]=9.767192E-01;     \n",
      " WARNING: FIR normalized: sum[coef]=9.767192E-01;     \n",
      " WARNING: FIR normalized: sum[coef]=9.767192E-01;     \n"
     ]
    },
    {
     "name": "stdout",
     "output_type": "stream",
     "text": [
      "[################                        ] | 41% Completed | 278.55 s"
     ]
    },
    {
     "name": "stderr",
     "output_type": "stream",
     "text": [
      " WARNING: FIR normalized: sum[coef]=9.767192E-01;     \n",
      " WARNING: FIR normalized: sum[coef]=9.767192E-01;     \n",
      " WARNING: FIR normalized: sum[coef]=9.767192E-01;     \n",
      " WARNING: FIR normalized: sum[coef]=9.767192E-01;     \n"
     ]
    },
    {
     "name": "stdout",
     "output_type": "stream",
     "text": [
      "[################                        ] | 41% Completed | 278.92 s"
     ]
    },
    {
     "name": "stderr",
     "output_type": "stream",
     "text": [
      " WARNING: FIR normalized: sum[coef]=9.767192E-01;     \n",
      " WARNING: FIR normalized: sum[coef]=9.767192E-01;     \n",
      " WARNING: FIR normalized: sum[coef]=9.767192E-01;     \n"
     ]
    },
    {
     "name": "stdout",
     "output_type": "stream",
     "text": [
      "[################                        ] | 41% Completed | 279.16 s"
     ]
    },
    {
     "name": "stderr",
     "output_type": "stream",
     "text": [
      " WARNING: FIR normalized: sum[coef]=9.767192E-01;     \n",
      " WARNING: FIR normalized: sum[coef]=9.767192E-01;     \n",
      " WARNING: FIR normalized: sum[coef]=9.767192E-01;     \n",
      " WARNING: FIR normalized: sum[coef]=9.767192E-01;     \n",
      " WARNING: FIR normalized: sum[coef]=9.767192E-01;     \n"
     ]
    },
    {
     "name": "stdout",
     "output_type": "stream",
     "text": [
      "[################                        ] | 41% Completed | 279.40 s"
     ]
    },
    {
     "name": "stderr",
     "output_type": "stream",
     "text": [
      " WARNING: FIR normalized: sum[coef]=9.767192E-01;     \n",
      " WARNING: FIR normalized: sum[coef]=9.767192E-01;     \n",
      " WARNING: FIR normalized: sum[coef]=9.767192E-01;     \n"
     ]
    },
    {
     "name": "stdout",
     "output_type": "stream",
     "text": [
      "[################                        ] | 41% Completed | 279.74 s"
     ]
    },
    {
     "name": "stderr",
     "output_type": "stream",
     "text": [
      " WARNING: FIR normalized: sum[coef]=9.767192E-01;     \n",
      " WARNING: FIR normalized: sum[coef]=9.767192E-01;     \n",
      " WARNING: FIR normalized: sum[coef]=9.767192E-01;     \n",
      " WARNING: FIR normalized: sum[coef]=9.767192E-01;     \n",
      " WARNING: FIR normalized: sum[coef]=9.767192E-01;     \n",
      " WARNING: FIR normalized: sum[coef]=9.767192E-01;     \n"
     ]
    },
    {
     "name": "stdout",
     "output_type": "stream",
     "text": [
      "[################                        ] | 41% Completed | 279.98 s"
     ]
    },
    {
     "name": "stderr",
     "output_type": "stream",
     "text": [
      " WARNING: FIR normalized: sum[coef]=9.767192E-01;     \n",
      " WARNING: FIR normalized: sum[coef]=9.767192E-01;     \n",
      " WARNING: FIR normalized: sum[coef]=9.767192E-01;     \n",
      " WARNING: FIR normalized: sum[coef]=9.767192E-01;     \n",
      " WARNING: FIR normalized: sum[coef]=9.767192E-01;     \n"
     ]
    },
    {
     "name": "stdout",
     "output_type": "stream",
     "text": [
      "[################                        ] | 41% Completed | 280.20 s"
     ]
    },
    {
     "name": "stderr",
     "output_type": "stream",
     "text": [
      " WARNING: FIR normalized: sum[coef]=9.767192E-01;     \n",
      " WARNING: FIR normalized: sum[coef]=9.767192E-01;     \n",
      " WARNING: FIR normalized: sum[coef]=9.767192E-01;     \n"
     ]
    },
    {
     "name": "stdout",
     "output_type": "stream",
     "text": [
      "[################                        ] | 41% Completed | 280.56 s"
     ]
    },
    {
     "name": "stderr",
     "output_type": "stream",
     "text": [
      " WARNING: FIR normalized: sum[coef]=9.767192E-01;     \n",
      " WARNING: FIR normalized: sum[coef]=9.767192E-01;     \n",
      " WARNING: FIR normalized: sum[coef]=9.767192E-01;     \n",
      " WARNING: FIR normalized: sum[coef]=9.767192E-01;     \n",
      " WARNING: FIR normalized: sum[coef]=9.767192E-01;     \n"
     ]
    },
    {
     "name": "stdout",
     "output_type": "stream",
     "text": [
      "[################                        ] | 41% Completed | 280.79 s"
     ]
    },
    {
     "name": "stderr",
     "output_type": "stream",
     "text": [
      " WARNING: FIR normalized: sum[coef]=9.767192E-01;     \n",
      " WARNING: FIR normalized: sum[coef]=9.767192E-01;     \n",
      " WARNING: FIR normalized: sum[coef]=9.767192E-01;     \n",
      " WARNING: FIR normalized: sum[coef]=9.767192E-01;     \n"
     ]
    },
    {
     "name": "stdout",
     "output_type": "stream",
     "text": [
      "[################                        ] | 41% Completed | 281.25 s"
     ]
    },
    {
     "name": "stderr",
     "output_type": "stream",
     "text": [
      " WARNING: FIR normalized: sum[coef]=9.767192E-01;     \n",
      " WARNING: FIR normalized: sum[coef]=9.767192E-01;     \n",
      " WARNING: FIR normalized: sum[coef]=9.767192E-01;     \n",
      " WARNING: FIR normalized: sum[coef]=9.767192E-01;     \n",
      " WARNING: FIR normalized: sum[coef]=9.767192E-01;     \n"
     ]
    },
    {
     "name": "stdout",
     "output_type": "stream",
     "text": [
      "[################                        ] | 41% Completed | 281.48 s"
     ]
    },
    {
     "name": "stderr",
     "output_type": "stream",
     "text": [
      " WARNING: FIR normalized: sum[coef]=9.767192E-01;     \n",
      " WARNING: FIR normalized: sum[coef]=9.767192E-01;     \n",
      " WARNING: FIR normalized: sum[coef]=9.767192E-01;     \n",
      " WARNING: FIR normalized: sum[coef]=9.767192E-01;     \n",
      " WARNING: FIR normalized: sum[coef]=9.767192E-01;     \n",
      " WARNING: FIR normalized: sum[coef]=9.767192E-01;     \n",
      " WARNING: FIR normalized: sum[coef]=9.767192E-01;     \n",
      " WARNING: FIR normalized: sum[coef]=9.767192E-01;     \n"
     ]
    },
    {
     "name": "stdout",
     "output_type": "stream",
     "text": [
      "[################                        ] | 41% Completed | 281.95 s"
     ]
    },
    {
     "name": "stderr",
     "output_type": "stream",
     "text": [
      " WARNING: FIR normalized: sum[coef]=9.767192E-01;     \n",
      " WARNING: FIR normalized: sum[coef]=9.767192E-01;     \n"
     ]
    },
    {
     "name": "stdout",
     "output_type": "stream",
     "text": [
      "[################                        ] | 41% Completed | 282.19 s"
     ]
    },
    {
     "name": "stderr",
     "output_type": "stream",
     "text": [
      " WARNING: FIR normalized: sum[coef]=9.767192E-01;     \n",
      " WARNING: FIR normalized: sum[coef]=9.767192E-01;     \n",
      " WARNING: FIR normalized: sum[coef]=9.767192E-01;     \n",
      " WARNING: FIR normalized: sum[coef]=9.767192E-01;     \n",
      " WARNING: FIR normalized: sum[coef]=9.767192E-01;     \n",
      " WARNING: FIR normalized: sum[coef]=9.767192E-01;     \n"
     ]
    },
    {
     "name": "stdout",
     "output_type": "stream",
     "text": [
      "[################                        ] | 41% Completed | 282.43 s"
     ]
    },
    {
     "name": "stderr",
     "output_type": "stream",
     "text": [
      " WARNING: FIR normalized: sum[coef]=9.767192E-01;     \n",
      " WARNING: FIR normalized: sum[coef]=9.767192E-01;     \n",
      " WARNING: FIR normalized: sum[coef]=9.767192E-01;     \n",
      " WARNING: FIR normalized: sum[coef]=9.767192E-01;     \n",
      " WARNING: FIR normalized: sum[coef]=9.767192E-01;     \n"
     ]
    },
    {
     "name": "stdout",
     "output_type": "stream",
     "text": [
      "[################                        ] | 41% Completed | 282.67 s"
     ]
    },
    {
     "name": "stderr",
     "output_type": "stream",
     "text": [
      " WARNING: FIR normalized: sum[coef]=9.767192E-01;     \n",
      " WARNING: FIR normalized: sum[coef]=9.767192E-01;     \n",
      " WARNING: FIR normalized: sum[coef]=9.767192E-01; "
     ]
    },
    {
     "name": "stdout",
     "output_type": "stream",
     "text": [
      "[################                        ] | 42% Completed | 282.91 s"
     ]
    },
    {
     "name": "stderr",
     "output_type": "stream",
     "text": [
      "    \n",
      " WARNING: FIR normalized: sum[coef]=9.767192E-01;     \n",
      " WARNING: FIR normalized: sum[coef]=9.767192E-01;     \n"
     ]
    },
    {
     "name": "stdout",
     "output_type": "stream",
     "text": [
      "[################                        ] | 42% Completed | 283.15 s"
     ]
    },
    {
     "name": "stderr",
     "output_type": "stream",
     "text": [
      " WARNING: FIR normalized: sum[coef]=9.767192E-01;     \n",
      " WARNING: FIR normalized: sum[coef]=9.767192E-01;     \n",
      " WARNING: FIR normalized: sum[coef]=9.767192E-01;     \n",
      " WARNING: FIR normalized: sum[coef]=9.767192E-01;     \n"
     ]
    },
    {
     "name": "stdout",
     "output_type": "stream",
     "text": [
      "[################                        ] | 42% Completed | 283.37 s"
     ]
    },
    {
     "name": "stderr",
     "output_type": "stream",
     "text": [
      " WARNING: FIR normalized: sum[coef]=9.767192E-01;     \n",
      " WARNING: FIR normalized: sum[coef]=9.767192E-01;     \n",
      " WARNING: FIR normalized: sum[coef]=9.767192E-01;     \n",
      " WARNING: FIR normalized: sum[coef]=9.767192E-01;     \n",
      " WARNING: FIR normalized: sum[coef]=9.767192E-01;     \n"
     ]
    },
    {
     "name": "stdout",
     "output_type": "stream",
     "text": [
      "[################                        ] | 42% Completed | 283.61 s"
     ]
    },
    {
     "name": "stderr",
     "output_type": "stream",
     "text": [
      " WARNING: FIR normalized: sum[coef]=9.767192E-01;     \n",
      " WARNING: FIR normalized: sum[coef]=9.767192E-01;     \n",
      " WARNING: FIR normalized: sum[coef]=9.767192E-01;     \n",
      " WARNING: FIR normalized: sum[coef]=9.767192E-01;     \n",
      " WARNING: FIR normalized: sum[coef]=9.767192E-01;     \n"
     ]
    },
    {
     "name": "stdout",
     "output_type": "stream",
     "text": [
      "[################                        ] | 42% Completed | 283.94 s"
     ]
    },
    {
     "name": "stderr",
     "output_type": "stream",
     "text": [
      " WARNING: FIR normalized: sum[coef]=9.767192E-01;     \n",
      " WARNING: FIR normalized: sum[coef]=9.767192E-01;     \n",
      " WARNING: FIR normalized: sum[coef]=9.767192E-01;     \n",
      " WARNING: FIR normalized: sum[coef]=9.767192E-01;     \n"
     ]
    },
    {
     "name": "stdout",
     "output_type": "stream",
     "text": [
      "[################                        ] | 42% Completed | 284.18 s"
     ]
    },
    {
     "name": "stderr",
     "output_type": "stream",
     "text": [
      " WARNING: FIR normalized: sum[coef]=9.767192E-01;     \n",
      " WARNING: FIR normalized: sum[coef]=9.767192E-01;     \n",
      " WARNING: FIR normalized: sum[coef]=9.767192E-01;     \n",
      " WARNING: FIR normalized: sum[coef]=9.767192E-01;     \n",
      " WARNING: FIR normalized: sum[coef]=9.767192E-01;     \n"
     ]
    },
    {
     "name": "stdout",
     "output_type": "stream",
     "text": [
      "[################                        ] | 42% Completed | 284.43 s"
     ]
    },
    {
     "name": "stderr",
     "output_type": "stream",
     "text": [
      " WARNING: FIR normalized: sum[coef]=9.767192E-01;     \n",
      " WARNING: FIR normalized: sum[coef]=9.767192E-01;     \n",
      " WARNING: FIR normalized: sum[coef]=9.767192E-01;     \n",
      " WARNING: FIR normalized: sum[coef]=9.767192E-01;     \n",
      " WARNING: FIR normalized: sum[coef]=9.767192E-01;     \n"
     ]
    },
    {
     "name": "stdout",
     "output_type": "stream",
     "text": [
      "[################                        ] | 42% Completed | 284.67 s"
     ]
    },
    {
     "name": "stderr",
     "output_type": "stream",
     "text": [
      " WARNING: FIR normalized: sum[coef]=9.767192E-01;     \n",
      " WARNING: FIR normalized: sum[coef]=9.767192E-01;     \n",
      " WARNING: FIR normalized: sum[coef]=9.767192E-01;     \n",
      " WARNING: FIR normalized: sum[coef]=9.767192E-01;     \n",
      " WARNING: FIR normalized: sum[coef]=9.767192E-01;     \n"
     ]
    },
    {
     "name": "stdout",
     "output_type": "stream",
     "text": [
      "[################                        ] | 42% Completed | 284.92 s"
     ]
    },
    {
     "name": "stderr",
     "output_type": "stream",
     "text": [
      " WARNING: FIR normalized: sum[coef]=9.767192E-01;     \n",
      " WARNING: FIR normalized: sum[coef]=9.767192E-01;     \n",
      " WARNING: FIR normalized: sum[coef]=9.767192E-01;     \n",
      " WARNING: FIR normalized: sum[coef]=9.767192E-01;     \n",
      " WARNING: FIR normalized: sum[coef]=9.767192E-01;     \n"
     ]
    },
    {
     "name": "stdout",
     "output_type": "stream",
     "text": [
      "[################                        ] | 42% Completed | 285.15 s"
     ]
    },
    {
     "name": "stderr",
     "output_type": "stream",
     "text": [
      " WARNING: FIR normalized: sum[coef]=9.767192E-01;     \n",
      " WARNING: FIR normalized: sum[coef]=9.767192E-01;     \n",
      " WARNING: FIR normalized: sum[coef]=9.767192E-01;     \n",
      " WARNING: FIR normalized: sum[coef]=9.767192E-01;     \n",
      " WARNING: FIR normalized: sum[coef]=9.767192E-01;     \n"
     ]
    },
    {
     "name": "stdout",
     "output_type": "stream",
     "text": [
      "[################                        ] | 42% Completed | 285.52 s"
     ]
    },
    {
     "name": "stderr",
     "output_type": "stream",
     "text": [
      " WARNING: FIR normalized: sum[coef]=9.767192E-01;     \n",
      " WARNING: FIR normalized: sum[coef]=9.767192E-01;     \n",
      " WARNING: FIR normalized: sum[coef]=9.767192E-01;     \n",
      " WARNING: FIR normalized: sum[coef]=9.767192E-01;     \n",
      " WARNING: FIR normalized: sum[coef]=9.767192E-01;     \n"
     ]
    },
    {
     "name": "stdout",
     "output_type": "stream",
     "text": [
      "[################                        ] | 42% Completed | 285.76 s"
     ]
    },
    {
     "name": "stderr",
     "output_type": "stream",
     "text": [
      " WARNING: FIR normalized: sum[coef]=9.767192E-01;     \n",
      " WARNING: FIR normalized: sum[coef]=9.767192E-01;     \n",
      " WARNING: FIR normalized: sum[coef]=9.767192E-01;     \n",
      " WARNING: FIR normalized: sum[coef]=9.767192E-01;     \n",
      " WARNING: FIR normalized: sum[coef]=9.767192E-01;     \n",
      " WARNING: FIR normalized: sum[coef]=9.767192E-01;     \n"
     ]
    },
    {
     "name": "stdout",
     "output_type": "stream",
     "text": [
      "[################                        ] | 42% Completed | 285.99 s"
     ]
    },
    {
     "name": "stderr",
     "output_type": "stream",
     "text": [
      " WARNING: FIR normalized: sum[coef]=9.767192E-01;     \n",
      " WARNING: FIR normalized: sum[coef]=9.767192E-01;     \n",
      " WARNING: FIR normalized: sum[coef]=9.767192E-01;     \n",
      " WARNING: FIR normalized: sum[coef]=9.767192E-01;     \n",
      " WARNING: FIR normalized: sum[coef]=9.767192E-01;     \n"
     ]
    },
    {
     "name": "stdout",
     "output_type": "stream",
     "text": [
      "[#################                       ] | 42% Completed | 286.23 s"
     ]
    },
    {
     "name": "stderr",
     "output_type": "stream",
     "text": [
      " WARNING: FIR normalized: sum[coef]=9.767192E-01;     \n",
      " WARNING: FIR normalized: sum[coef]=9.767192E-01;     \n",
      " WARNING: FIR normalized: sum[coef]=9.767192E-01;     \n",
      " WARNING: FIR normalized: sum[coef]=9.767192E-01;     \n"
     ]
    },
    {
     "name": "stdout",
     "output_type": "stream",
     "text": [
      "[#################                       ] | 42% Completed | 286.46 s"
     ]
    },
    {
     "name": "stderr",
     "output_type": "stream",
     "text": [
      " WARNING: FIR normalized: sum[coef]=9.767192E-01;     \n",
      " WARNING: FIR normalized: sum[coef]=9.767192E-01;     \n",
      " WARNING: FIR normalized: sum[coef]=9.767192E-01;     \n"
     ]
    },
    {
     "name": "stdout",
     "output_type": "stream",
     "text": [
      "[#################                       ] | 42% Completed | 286.82 s"
     ]
    },
    {
     "name": "stderr",
     "output_type": "stream",
     "text": [
      " WARNING: FIR normalized: sum[coef]=9.767192E-01;     \n",
      " WARNING: FIR normalized: sum[coef]=9.767192E-01;     \n",
      " WARNING: FIR normalized: sum[coef]=9.767192E-01;     \n",
      " WARNING: FIR normalized: sum[coef]=9.767192E-01;     \n",
      " WARNING: FIR normalized: sum[coef]=9.767192E-01;     \n",
      " WARNING: FIR normalized: sum[coef]=9.767192E-01;     \n",
      " WARNING: FIR normalized: sum[coef]=9.767192E-01;     \n",
      " WARNING: FIR normalized: sum[coef]=9.767192E-01;     \n",
      " WARNING: FIR normalized: sum[coef]=9.767192E-01;     \n"
     ]
    },
    {
     "name": "stdout",
     "output_type": "stream",
     "text": [
      "[#################                       ] | 42% Completed | 287.07 s"
     ]
    },
    {
     "name": "stderr",
     "output_type": "stream",
     "text": [
      " WARNING: FIR normalized: sum[coef]=9.767192E-01;     \n",
      " WARNING: FIR normalized: sum[coef]=9.767192E-01;     \n",
      " WARNING: FIR normalized: sum[coef]=9.767192E-01;     \n",
      " WARNING: FIR normalized: sum[coef]=9.767192E-01;     \n",
      " WARNING: FIR normalized: sum[coef]=9.767192E-01;     \n",
      " WARNING: FIR normalized: sum[coef]=9.767192E-01;     \n",
      " WARNING: FIR normalized: sum[coef]=9.767192E-01;     \n"
     ]
    },
    {
     "name": "stdout",
     "output_type": "stream",
     "text": [
      "[#################                       ] | 42% Completed | 287.29 s"
     ]
    },
    {
     "name": "stderr",
     "output_type": "stream",
     "text": [
      " WARNING: FIR normalized: sum[coef]=9.767192E-01;     \n",
      " WARNING: FIR normalized: sum[coef]=9.767192E-01;     \n"
     ]
    },
    {
     "name": "stdout",
     "output_type": "stream",
     "text": [
      "[#################                       ] | 42% Completed | 287.55 s"
     ]
    },
    {
     "name": "stderr",
     "output_type": "stream",
     "text": [
      " WARNING: FIR normalized: sum[coef]=9.767192E-01;     \n",
      " WARNING: FIR normalized: sum[coef]=9.767192E-01;     \n",
      " WARNING: FIR normalized: sum[coef]=9.767192E-01;     \n",
      " WARNING: FIR normalized: sum[coef]=9.767192E-01;     \n",
      " WARNING: FIR normalized: sum[coef]=9.767192E-01;     \n"
     ]
    },
    {
     "name": "stdout",
     "output_type": "stream",
     "text": [
      "[#################                       ] | 42% Completed | 287.79 s"
     ]
    },
    {
     "name": "stderr",
     "output_type": "stream",
     "text": [
      " WARNING: FIR normalized: sum[coef]=9.767192E-01;     \n",
      " WARNING: FIR normalized: sum[coef]=9.767192E-01;     \n",
      " WARNING: FIR normalized: sum[coef]=9.767192E-01;     \n",
      " WARNING: FIR normalized: sum[coef]=9.767192E-01;     \n",
      " WARNING: FIR normalized: sum[coef]=9.767192E-01;     \n",
      " WARNING: FIR normalized: sum[coef]=9.767192E-01;     \n",
      " WARNING: FIR normalized: sum[coef]=9.767192E-01;     \n",
      " WARNING: FIR normalized: sum[coef]=9.767192E-01;     \n",
      " WARNING: FIR normalized: sum[coef]=9.767192E-01;     \n"
     ]
    },
    {
     "name": "stdout",
     "output_type": "stream",
     "text": [
      "[#################                       ] | 42% Completed | 288.02 s"
     ]
    },
    {
     "name": "stderr",
     "output_type": "stream",
     "text": [
      " WARNING: FIR normalized: sum[coef]=9.767192E-01;     \n"
     ]
    },
    {
     "name": "stdout",
     "output_type": "stream",
     "text": [
      "[#################                       ] | 42% Completed | 288.26 s"
     ]
    },
    {
     "name": "stderr",
     "output_type": "stream",
     "text": [
      " WARNING: FIR normalized: sum[coef]=9.767192E-01;     \n",
      " WARNING: FIR normalized: sum[coef]=9.767192E-01;     \n",
      " WARNING: FIR normalized: sum[coef]=9.767192E-01;     \n",
      " WARNING: FIR normalized: sum[coef]=9.767192E-01;     \n",
      " WARNING: FIR normalized: sum[coef]=9.767192E-01;     \n"
     ]
    },
    {
     "name": "stdout",
     "output_type": "stream",
     "text": [
      "[#################                       ] | 42% Completed | 288.50 s"
     ]
    },
    {
     "name": "stderr",
     "output_type": "stream",
     "text": [
      " WARNING: FIR normalized: sum[coef]=9.767192E-01;     \n",
      " WARNING: FIR normalized: sum[coef]=9.767192E-01;     \n",
      " WARNING: FIR normalized: sum[coef]=9.767192E-01;     \n",
      " WARNING: FIR normalized: sum[coef]=9.767192E-01;     \n",
      " WARNING: FIR normalized: sum[coef]=9.767192E-01;     \n",
      " WARNING: FIR normalized: sum[coef]=9.767192E-01;     \n",
      " WARNING: FIR normalized: sum[coef]=9.767192E-01;     \n",
      " WARNING: FIR normalized: sum[coef]=9.767192E-01;     \n"
     ]
    },
    {
     "name": "stdout",
     "output_type": "stream",
     "text": [
      "[#################                       ] | 42% Completed | 288.75 s"
     ]
    },
    {
     "name": "stderr",
     "output_type": "stream",
     "text": [
      " WARNING: FIR normalized: sum[coef]=9.767192E-01;     \n",
      " WARNING: FIR normalized: sum[coef]=9.767192E-01;     \n",
      " WARNING: FIR normalized: sum[coef]=9.767192E-01;     \n",
      " WARNING: FIR normalized: sum[coef]=9.767192E-01;     \n",
      " WARNING: FIR normalized: sum[coef]=9.767192E-01;     \n",
      " WARNING: FIR normalized: sum[coef]=9.767192E-01;     \n",
      " WARNING: FIR normalized: sum[coef]=9.767192E-01;     \n"
     ]
    },
    {
     "name": "stdout",
     "output_type": "stream",
     "text": [
      "[#################                       ] | 43% Completed | 288.97 s"
     ]
    },
    {
     "name": "stderr",
     "output_type": "stream",
     "text": [
      " WARNING: FIR normalized: sum[coef]=9.767192E-01;     \n"
     ]
    },
    {
     "name": "stdout",
     "output_type": "stream",
     "text": [
      "[#################                       ] | 43% Completed | 289.22 s"
     ]
    },
    {
     "name": "stderr",
     "output_type": "stream",
     "text": [
      " WARNING: FIR normalized: sum[coef]=9.767192E-01;     \n",
      " WARNING: FIR normalized: sum[coef]=9.767192E-01;     \n",
      " WARNING: FIR normalized: sum[coef]=9.767192E-01;     \n",
      " WARNING: FIR normalized: sum[coef]=9.767192E-01;     \n",
      " WARNING: FIR normalized: sum[coef]=9.767192E-01;     \n",
      " WARNING: FIR normalized: sum[coef]=9.767192E-01;     \n",
      " WARNING: FIR normalized: sum[coef]=9.767192E-01;     \n",
      " WARNING: FIR normalized: sum[coef]=9.767192E-01;     \n",
      " WARNING: FIR normalized: sum[coef]=9.767192E-01;     \n"
     ]
    },
    {
     "name": "stdout",
     "output_type": "stream",
     "text": [
      "[#################                       ] | 43% Completed | 289.46 s"
     ]
    },
    {
     "name": "stderr",
     "output_type": "stream",
     "text": [
      " WARNING: FIR normalized: sum[coef]=9.767192E-01;     \n",
      " WARNING: FIR normalized: sum[coef]=9.767192E-01;     \n",
      " WARNING: FIR normalized: sum[coef]=9.767192E-01;     \n"
     ]
    },
    {
     "name": "stdout",
     "output_type": "stream",
     "text": [
      "[#################                       ] | 43% Completed | 289.70 s"
     ]
    },
    {
     "name": "stderr",
     "output_type": "stream",
     "text": [
      " WARNING: FIR normalized: sum[coef]=9.767192E-01;     \n",
      " WARNING: FIR normalized: sum[coef]=9.767192E-01;     \n",
      " WARNING: FIR normalized: sum[coef]=9.767192E-01;     \n",
      " WARNING: FIR normalized: sum[coef]=9.767192E-01;     \n",
      " WARNING: FIR normalized: sum[coef]=9.767192E-01;     \n",
      " WARNING: FIR normalized: sum[coef]=9.767192E-01;     \n"
     ]
    },
    {
     "name": "stdout",
     "output_type": "stream",
     "text": [
      "[#################                       ] | 43% Completed | 290.08 s"
     ]
    },
    {
     "name": "stderr",
     "output_type": "stream",
     "text": [
      " WARNING: FIR normalized: sum[coef]=9.767192E-01;     \n",
      " WARNING: FIR normalized: sum[coef]=9.767192E-01;     \n",
      " WARNING: FIR normalized: sum[coef]=9.767192E-01;     \n",
      " WARNING: FIR normalized: sum[coef]=9.767192E-01;     \n",
      " WARNING: FIR normalized: sum[coef]=9.767192E-01;     \n",
      " WARNING: FIR normalized: sum[coef]=9.767192E-01;     \n",
      " WARNING: FIR normalized: sum[coef]=9.767192E-01;     \n"
     ]
    },
    {
     "name": "stdout",
     "output_type": "stream",
     "text": [
      "[#################                       ] | 43% Completed | 290.20 s"
     ]
    },
    {
     "name": "stderr",
     "output_type": "stream",
     "text": [
      " WARNING: FIR normalized: sum[coef]=9.767192E-01;     \n",
      " WARNING: FIR normalized: sum[coef]=9.767192E-01;     \n",
      " WARNING: FIR normalized: sum[coef]=9.767192E-01;     \n",
      " WARNING: FIR normalized: sum[coef]=9.767192E-01;     \n",
      " WARNING: FIR normalized: sum[coef]=9.767192E-01;     \n",
      " WARNING: FIR normalized: sum[coef]=9.767192E-01;     \n",
      " WARNING: FIR normalized: sum[coef]=9.767192E-01;     \n",
      " WARNING: FIR normalized: sum[coef]=9.767192E-01;     \n"
     ]
    },
    {
     "name": "stdout",
     "output_type": "stream",
     "text": [
      "[#################                       ] | 43% Completed | 290.47 s"
     ]
    },
    {
     "name": "stderr",
     "output_type": "stream",
     "text": [
      " WARNING: FIR normalized: sum[coef]=9.767192E-01;     \n",
      " WARNING: FIR normalized: sum[coef]=9.767192E-01;     \n",
      " WARNING: FIR normalized: sum[coef]=9.767192E-01;     \n",
      " WARNING: FIR normalized: sum[coef]=9.767192E-01;     \n"
     ]
    },
    {
     "name": "stdout",
     "output_type": "stream",
     "text": [
      "[#################                       ] | 43% Completed | 290.81 s"
     ]
    },
    {
     "name": "stderr",
     "output_type": "stream",
     "text": [
      " WARNING: FIR normalized: sum[coef]=9.767192E-01;     \n",
      " WARNING: FIR normalized: sum[coef]=9.767192E-01;     \n",
      " WARNING: FIR normalized: sum[coef]=9.767192E-01;     \n",
      " WARNING: FIR normalized: sum[coef]=9.767192E-01;     \n"
     ]
    },
    {
     "name": "stdout",
     "output_type": "stream",
     "text": [
      "[#################                       ] | 43% Completed | 291.04 s"
     ]
    },
    {
     "name": "stderr",
     "output_type": "stream",
     "text": [
      " WARNING: FIR normalized: sum[coef]=9.767192E-01;     \n",
      " WARNING: FIR normalized: sum[coef]=9.767192E-01;     \n",
      " WARNING: FIR normalized: sum[coef]=9.767192E-01;     \n",
      " WARNING: FIR normalized: sum[coef]=9.767192E-01;     \n",
      " WARNING: FIR normalized: sum[coef]=9.767192E-01;     \n",
      " WARNING: FIR normalized: sum[coef]=9.767192E-01;     \n"
     ]
    },
    {
     "name": "stdout",
     "output_type": "stream",
     "text": [
      "[#################                       ] | 43% Completed | 291.29 s"
     ]
    },
    {
     "name": "stderr",
     "output_type": "stream",
     "text": [
      " WARNING: FIR normalized: sum[coef]=9.767192E-01;     \n",
      " WARNING: FIR normalized: sum[coef]=9.767192E-01;     \n",
      " WARNING: FIR normalized: sum[coef]=9.767192E-01;     \n",
      " WARNING: FIR normalized: sum[coef]=9.767192E-01;     \n",
      " WARNING: FIR normalized: sum[coef]=9.767192E-01;     \n",
      " WARNING: FIR normalized: sum[coef]=9.767192E-01;     \n",
      " WARNING: FIR normalized: sum[coef]=9.767192E-01;     \n",
      " WARNING: FIR normalized: sum[coef]=9.767192E-01;     \n",
      " WARNING: FIR normalized: sum[coef]=9.767192E-01;     \n"
     ]
    },
    {
     "name": "stdout",
     "output_type": "stream",
     "text": [
      "[#################                       ] | 43% Completed | 291.53 s"
     ]
    },
    {
     "name": "stderr",
     "output_type": "stream",
     "text": [
      " WARNING: FIR normalized: sum[coef]=9.767192E-01;     \n",
      " WARNING: FIR normalized: sum[coef]=9.767192E-01;     \n",
      " WARNING: FIR normalized: sum[coef]=9.767192E-01;     \n",
      " WARNING: FIR normalized: sum[coef]=9.767192E-01;     \n"
     ]
    },
    {
     "name": "stdout",
     "output_type": "stream",
     "text": [
      "[#################                       ] | 43% Completed | 291.66 s"
     ]
    },
    {
     "name": "stderr",
     "output_type": "stream",
     "text": [
      " WARNING: FIR normalized: sum[coef]=9.767192E-01;     \n",
      " WARNING: FIR normalized: sum[coef]=9.767192E-01;     \n",
      " WARNING: FIR normalized: sum[coef]=9.767192E-01;     \n",
      " WARNING: FIR normalized: sum[coef]=9.767192E-01;     \n",
      " WARNING: FIR normalized: sum[coef]=9.767192E-01;     \n"
     ]
    },
    {
     "name": "stdout",
     "output_type": "stream",
     "text": [
      "[#################                       ] | 43% Completed | 292.00 s"
     ]
    },
    {
     "name": "stderr",
     "output_type": "stream",
     "text": [
      " WARNING: FIR normalized: sum[coef]=9.767192E-01;     \n",
      " WARNING: FIR normalized: sum[coef]=9.767192E-01;     \n",
      " WARNING: FIR normalized: sum[coef]=9.767192E-01;     \n",
      " WARNING: FIR normalized: sum[coef]=9.767192E-01;     \n",
      " WARNING: FIR normalized: sum[coef]=9.767192E-01;     \n",
      " WARNING: FIR normalized: sum[coef]=9.767192E-01; "
     ]
    },
    {
     "name": "stdout",
     "output_type": "stream",
     "text": [
      "[#################                       ] | 43% Completed | 292.24 s"
     ]
    },
    {
     "name": "stderr",
     "output_type": "stream",
     "text": [
      "    \n",
      " WARNING: FIR normalized: sum[coef]=9.767192E-01;     \n",
      " WARNING: FIR normalized: sum[coef]=9.767192E-01;     \n",
      " WARNING: FIR normalized: sum[coef]=9.767192E-01;     \n",
      " WARNING: FIR normalized: sum[coef]=9.767192E-01;     \n",
      " WARNING: FIR normalized: sum[coef]=9.767192E-01;     \n",
      " WARNING: FIR normalized: sum[coef]=9.767192E-01;     \n",
      " WARNING: FIR normalized: sum[coef]=9.767192E-01;     \n"
     ]
    },
    {
     "name": "stdout",
     "output_type": "stream",
     "text": [
      "[#################                       ] | 43% Completed | 292.47 s"
     ]
    },
    {
     "name": "stderr",
     "output_type": "stream",
     "text": [
      " WARNING: FIR normalized: sum[coef]=9.767192E-01;     \n",
      " WARNING: FIR normalized: sum[coef]=9.767192E-01;     \n",
      " WARNING: FIR normalized: sum[coef]=9.767192E-01;     \n",
      " WARNING: FIR normalized: sum[coef]=9.767192E-01;     \n",
      " WARNING: FIR normalized: sum[coef]=9.767192E-01;     \n",
      " WARNING: FIR normalized: sum[coef]=9.767192E-01;     \n",
      " WARNING: FIR normalized: sum[coef]=9.767192E-01;     \n"
     ]
    },
    {
     "name": "stdout",
     "output_type": "stream",
     "text": [
      "[#################                       ] | 43% Completed | 292.72 s"
     ]
    },
    {
     "name": "stderr",
     "output_type": "stream",
     "text": [
      " WARNING: FIR normalized: sum[coef]=9.767192E-01;     \n",
      " WARNING: FIR normalized: sum[coef]=9.767192E-01;     \n",
      " WARNING: FIR normalized: sum[coef]=9.767192E-01;     \n",
      " WARNING: FIR normalized: sum[coef]=9.767192E-01;     \n",
      " WARNING: FIR normalized: sum[coef]=9.767192E-01;     \n"
     ]
    },
    {
     "name": "stdout",
     "output_type": "stream",
     "text": [
      "[#################                       ] | 44% Completed | 292.98 s"
     ]
    },
    {
     "name": "stderr",
     "output_type": "stream",
     "text": [
      " WARNING: FIR normalized: sum[coef]=9.767192E-01;     \n",
      " WARNING: FIR normalized: sum[coef]=9.767192E-01;     \n",
      " WARNING: FIR normalized: sum[coef]=9.767192E-01;     \n"
     ]
    },
    {
     "name": "stdout",
     "output_type": "stream",
     "text": [
      "[#################                       ] | 44% Completed | 293.24 s"
     ]
    },
    {
     "name": "stderr",
     "output_type": "stream",
     "text": [
      " WARNING: FIR normalized: sum[coef]=9.767192E-01;     \n",
      " WARNING: FIR normalized: sum[coef]=9.767192E-01;     \n",
      " WARNING: FIR normalized: sum[coef]=9.767192E-01;     \n",
      " WARNING: FIR normalized: sum[coef]=9.767192E-01;     \n",
      " WARNING: FIR normalized: sum[coef]=9.767192E-01;     \n",
      " WARNING: FIR normalized: sum[coef]=9.767192E-01;     \n",
      " WARNING: FIR normalized: sum[coef]=9.767192E-01;     \n",
      " WARNING: FIR normalized: sum[coef]=9.767192E-01;     \n",
      " WARNING: FIR normalized: sum[coef]=9.767192E-01;     \n",
      " WARNING: FIR normalized: sum[coef]=9.767192E-01;     \n"
     ]
    },
    {
     "name": "stdout",
     "output_type": "stream",
     "text": [
      "[#################                       ] | 44% Completed | 293.48 s"
     ]
    },
    {
     "name": "stderr",
     "output_type": "stream",
     "text": [
      " WARNING: FIR normalized: sum[coef]=9.767192E-01;     \n",
      " WARNING: FIR normalized: sum[coef]=9.767192E-01;     \n",
      " WARNING: FIR normalized: sum[coef]=9.767192E-01;     \n",
      " WARNING: FIR normalized: sum[coef]=9.767192E-01;     \n",
      " WARNING: FIR normalized: sum[coef]=9.767192E-01;     \n",
      " WARNING: FIR normalized: sum[coef]=9.767192E-01;     \n"
     ]
    },
    {
     "name": "stdout",
     "output_type": "stream",
     "text": [
      "[#################                       ] | 44% Completed | 293.71 s"
     ]
    },
    {
     "name": "stderr",
     "output_type": "stream",
     "text": [
      " WARNING: FIR normalized: sum[coef]=9.767192E-01;     \n",
      " WARNING: FIR normalized: sum[coef]=9.767192E-01;     \n",
      " WARNING: FIR normalized: sum[coef]=9.767192E-01;     \n",
      " WARNING: FIR normalized: sum[coef]=9.767192E-01;     \n"
     ]
    },
    {
     "name": "stdout",
     "output_type": "stream",
     "text": [
      "[#################                       ] | 44% Completed | 294.08 s"
     ]
    },
    {
     "name": "stderr",
     "output_type": "stream",
     "text": [
      " WARNING: FIR normalized: sum[coef]=9.767192E-01;     \n",
      " WARNING: FIR normalized: sum[coef]=9.767192E-01;     \n",
      " WARNING: FIR normalized: sum[coef]=9.767192E-01;     \n",
      " WARNING: FIR normalized: sum[coef]=9.767192E-01;     \n",
      " WARNING: FIR normalized: sum[coef]=9.767192E-01;     \n",
      " WARNING: FIR normalized: sum[coef]=9.767192E-01;     \n"
     ]
    },
    {
     "name": "stdout",
     "output_type": "stream",
     "text": [
      "[#################                       ] | 44% Completed | 294.32 s"
     ]
    },
    {
     "name": "stderr",
     "output_type": "stream",
     "text": [
      " WARNING: FIR normalized: sum[coef]=9.767192E-01;     \n",
      " WARNING: FIR normalized: sum[coef]=9.767192E-01;     \n",
      " WARNING: FIR normalized: sum[coef]=9.767192E-01;     \n",
      " WARNING: FIR normalized: sum[coef]=9.767192E-01;     \n",
      " WARNING: FIR normalized: sum[coef]=9.767192E-01;     \n",
      " WARNING: FIR normalized: sum[coef]=9.767192E-01;     \n",
      " WARNING: FIR normalized: sum[coef]=9.767192E-01;     \n",
      " WARNING: FIR normalized: sum[coef]=9.767192E-01;     \n",
      " WARNING: FIR normalized: sum[coef]=9.767192E-01;     \n",
      " WARNING: FIR normalized: sum[coef]=9.767192E-01; "
     ]
    },
    {
     "name": "stdout",
     "output_type": "stream",
     "text": [
      "[#################                       ] | 44% Completed | 294.55 s"
     ]
    },
    {
     "name": "stderr",
     "output_type": "stream",
     "text": [
      "    \n",
      " WARNING: FIR normalized: sum[coef]=9.767192E-01;     \n",
      " WARNING: FIR normalized: sum[coef]=9.767192E-01;     \n",
      " WARNING: FIR normalized: sum[coef]=9.767192E-01;     \n"
     ]
    },
    {
     "name": "stdout",
     "output_type": "stream",
     "text": [
      "[#################                       ] | 44% Completed | 294.88 s"
     ]
    },
    {
     "name": "stderr",
     "output_type": "stream",
     "text": [
      " WARNING: FIR normalized: sum[coef]=9.767192E-01;     \n",
      " WARNING: FIR normalized: sum[coef]=9.767192E-01;     \n",
      " WARNING: FIR normalized: sum[coef]=9.767192E-01;     \n",
      " WARNING: FIR normalized: sum[coef]=9.767192E-01;     \n",
      " WARNING: FIR normalized: sum[coef]=9.767192E-01;     \n",
      " WARNING: FIR normalized: sum[coef]=9.767192E-01;     \n",
      " WARNING: FIR normalized: sum[coef]=9.767192E-01;     \n",
      " WARNING: FIR normalized: sum[coef]=9.767192E-01;     \n"
     ]
    },
    {
     "name": "stdout",
     "output_type": "stream",
     "text": [
      "[#################                       ] | 44% Completed | 295.11 s"
     ]
    },
    {
     "name": "stderr",
     "output_type": "stream",
     "text": [
      " WARNING: FIR normalized: sum[coef]=9.767192E-01;     \n",
      " WARNING: FIR normalized: sum[coef]=9.767192E-01;     \n",
      " WARNING: FIR normalized: sum[coef]=9.767192E-01;     \n",
      " WARNING: FIR normalized: sum[coef]=9.767192E-01;     \n",
      " WARNING: FIR normalized: sum[coef]=9.767192E-01;     \n",
      " WARNING: FIR normalized: sum[coef]=9.767192E-01;     \n"
     ]
    },
    {
     "name": "stdout",
     "output_type": "stream",
     "text": [
      "[#################                       ] | 44% Completed | 295.33 s"
     ]
    },
    {
     "name": "stderr",
     "output_type": "stream",
     "text": [
      " WARNING: FIR normalized: sum[coef]=9.767192E-01;     \n",
      " WARNING: FIR normalized: sum[coef]=9.767192E-01;     \n",
      " WARNING: FIR normalized: sum[coef]=9.767192E-01;     \n",
      " WARNING: FIR normalized: sum[coef]=9.767192E-01;     \n",
      " WARNING: FIR normalized: sum[coef]=9.767192E-01;     \n"
     ]
    },
    {
     "name": "stdout",
     "output_type": "stream",
     "text": [
      "[#################                       ] | 44% Completed | 295.67 s"
     ]
    },
    {
     "name": "stderr",
     "output_type": "stream",
     "text": [
      " WARNING: FIR normalized: sum[coef]=9.767192E-01;     \n",
      " WARNING: FIR normalized: sum[coef]=9.767192E-01;     \n",
      " WARNING: FIR normalized: sum[coef]=9.767192E-01;     \n",
      " WARNING: FIR normalized: sum[coef]=9.767192E-01;     \n",
      " WARNING: FIR normalized: sum[coef]=9.767192E-01;     \n",
      " WARNING: FIR normalized: sum[coef]=9.767192E-01; "
     ]
    },
    {
     "name": "stdout",
     "output_type": "stream",
     "text": [
      "[#################                       ] | 44% Completed | 295.78 s"
     ]
    },
    {
     "name": "stderr",
     "output_type": "stream",
     "text": [
      "    \n",
      " WARNING: FIR normalized: sum[coef]=9.767192E-01;     \n",
      " WARNING: FIR normalized: sum[coef]=9.767192E-01;     \n",
      " WARNING: FIR normalized: sum[coef]=9.767192E-01;     \n",
      " WARNING: FIR normalized: sum[coef]=9.767192E-01;     \n",
      " WARNING: FIR normalized: sum[coef]=9.767192E-01;     \n",
      " WARNING: FIR normalized: sum[coef]=9.767192E-01;     \n",
      " WARNING: FIR normalized: sum[coef]=9.767192E-01;     \n",
      " WARNING: FIR normalized: sum[coef]=9.767192E-01;     \n",
      " WARNING: FIR normalized: sum[coef]=9.767192E-01;     \n"
     ]
    },
    {
     "name": "stdout",
     "output_type": "stream",
     "text": [
      "[##################                      ] | 45% Completed | 296.15 s"
     ]
    },
    {
     "name": "stderr",
     "output_type": "stream",
     "text": [
      " WARNING: FIR normalized: sum[coef]=9.767192E-01;     \n",
      " WARNING: FIR normalized: sum[coef]=9.767192E-01;     \n",
      " WARNING: FIR normalized: sum[coef]=9.767192E-01;     \n",
      " WARNING: FIR normalized: sum[coef]=9.767192E-01;     \n",
      " WARNING: FIR normalized: sum[coef]=9.767192E-01;     \n",
      " WARNING: FIR normalized: sum[coef]=9.767192E-01;     \n",
      " WARNING: FIR normalized: sum[coef]=9.767192E-01;     \n"
     ]
    },
    {
     "name": "stdout",
     "output_type": "stream",
     "text": [
      "[##################                      ] | 45% Completed | 296.37 s"
     ]
    },
    {
     "name": "stderr",
     "output_type": "stream",
     "text": [
      " WARNING: FIR normalized: sum[coef]=9.767192E-01;     \n",
      " WARNING: FIR normalized: sum[coef]=9.767192E-01;     \n",
      " WARNING: FIR normalized: sum[coef]=9.767192E-01;     \n",
      " WARNING: FIR normalized: sum[coef]=9.767192E-01;     \n",
      " WARNING: FIR normalized: sum[coef]=9.767192E-01;     \n"
     ]
    },
    {
     "name": "stdout",
     "output_type": "stream",
     "text": [
      "[##################                      ] | 45% Completed | 296.62 s"
     ]
    },
    {
     "name": "stderr",
     "output_type": "stream",
     "text": [
      " WARNING: FIR normalized: sum[coef]=9.767192E-01;     \n",
      " WARNING: FIR normalized: sum[coef]=9.767192E-01;     \n",
      " WARNING: FIR normalized: sum[coef]=9.767192E-01;     \n",
      " WARNING: FIR normalized: sum[coef]=9.767192E-01;     \n",
      " WARNING: FIR normalized: sum[coef]=9.767192E-01;     \n",
      " WARNING: FIR normalized: sum[coef]=9.767192E-01;     \n"
     ]
    },
    {
     "name": "stdout",
     "output_type": "stream",
     "text": [
      "[##################                      ] | 45% Completed | 296.87 s"
     ]
    },
    {
     "name": "stderr",
     "output_type": "stream",
     "text": [
      " WARNING: FIR normalized: sum[coef]=9.767192E-01;     \n",
      " WARNING: FIR normalized: sum[coef]=9.767192E-01;     \n",
      " WARNING: FIR normalized: sum[coef]=9.767192E-01;     \n",
      " WARNING: FIR normalized: sum[coef]=9.767192E-01;     \n",
      " WARNING: FIR normalized: sum[coef]=9.767192E-01;     \n",
      " WARNING: FIR normalized: sum[coef]=9.767192E-01;     \n",
      " WARNING: FIR normalized: sum[coef]=9.767192E-01;     \n"
     ]
    },
    {
     "name": "stdout",
     "output_type": "stream",
     "text": [
      "[##################                      ] | 45% Completed | 297.23 s"
     ]
    },
    {
     "name": "stderr",
     "output_type": "stream",
     "text": [
      " WARNING: FIR normalized: sum[coef]=9.767192E-01;     \n",
      " WARNING: FIR normalized: sum[coef]=9.767192E-01;     \n",
      " WARNING: FIR normalized: sum[coef]=9.767192E-01;     \n",
      " WARNING: FIR normalized: sum[coef]=9.767192E-01;     \n",
      " WARNING: FIR normalized: sum[coef]=9.767192E-01;     \n",
      " WARNING: FIR normalized: sum[coef]=9.767192E-01;     \n"
     ]
    },
    {
     "name": "stdout",
     "output_type": "stream",
     "text": [
      "[##################                      ] | 45% Completed | 297.36 s"
     ]
    },
    {
     "name": "stderr",
     "output_type": "stream",
     "text": [
      " WARNING: FIR normalized: sum[coef]=9.767192E-01;     \n",
      " WARNING: FIR normalized: sum[coef]=9.767192E-01;     \n",
      " WARNING: FIR normalized: sum[coef]=9.767192E-01;     \n",
      " WARNING: FIR normalized: sum[coef]=9.767192E-01; "
     ]
    },
    {
     "name": "stdout",
     "output_type": "stream",
     "text": [
      "[##################                      ] | 45% Completed | 297.60 s"
     ]
    },
    {
     "name": "stderr",
     "output_type": "stream",
     "text": [
      "    \n",
      " WARNING: FIR normalized: sum[coef]=9.767192E-01;     \n",
      " WARNING: FIR normalized: sum[coef]=9.767192E-01;     \n",
      " WARNING: FIR normalized: sum[coef]=9.767192E-01;     \n",
      " WARNING: FIR normalized: sum[coef]=9.767192E-01;     \n",
      " WARNING: FIR normalized: sum[coef]=9.767192E-01;     \n",
      " WARNING: FIR normalized: sum[coef]=9.767192E-01;     \n"
     ]
    },
    {
     "name": "stdout",
     "output_type": "stream",
     "text": [
      "[##################                      ] | 45% Completed | 297.84 s"
     ]
    },
    {
     "name": "stderr",
     "output_type": "stream",
     "text": [
      " WARNING: FIR normalized: sum[coef]=9.767192E-01;     \n",
      " WARNING: FIR normalized: sum[coef]=9.767192E-01;     \n",
      " WARNING: FIR normalized: sum[coef]=9.767192E-01;     \n",
      " WARNING: FIR normalized: sum[coef]=9.767192E-01;     \n",
      " WARNING: FIR normalized: sum[coef]=9.767192E-01; "
     ]
    },
    {
     "name": "stdout",
     "output_type": "stream",
     "text": [
      "[##################                      ] | 45% Completed | 298.15 s"
     ]
    },
    {
     "name": "stderr",
     "output_type": "stream",
     "text": [
      "    \n",
      " WARNING: FIR normalized: sum[coef]=9.767192E-01;     \n",
      " WARNING: FIR normalized: sum[coef]=9.767192E-01;     \n",
      " WARNING: FIR normalized: sum[coef]=9.767192E-01;     \n",
      " WARNING: FIR normalized: sum[coef]=9.767192E-01;     \n",
      " WARNING: FIR normalized: sum[coef]=9.767192E-01;     \n"
     ]
    },
    {
     "name": "stdout",
     "output_type": "stream",
     "text": [
      "[##################                      ] | 45% Completed | 298.39 s"
     ]
    },
    {
     "name": "stderr",
     "output_type": "stream",
     "text": [
      " WARNING: FIR normalized: sum[coef]=9.767192E-01;     \n",
      " WARNING: FIR normalized: sum[coef]=9.767192E-01;     \n"
     ]
    },
    {
     "name": "stdout",
     "output_type": "stream",
     "text": [
      "[##################                      ] | 45% Completed | 298.65 s"
     ]
    },
    {
     "name": "stderr",
     "output_type": "stream",
     "text": [
      " WARNING: FIR normalized: sum[coef]=9.767192E-01;     \n",
      " WARNING: FIR normalized: sum[coef]=9.767192E-01;     \n",
      " WARNING: FIR normalized: sum[coef]=9.767192E-01;     \n",
      " WARNING: FIR normalized: sum[coef]=9.767192E-01;     \n",
      " WARNING: FIR normalized: sum[coef]=9.767192E-01;     \n",
      " WARNING: FIR normalized: sum[coef]=9.767192E-01;     \n"
     ]
    },
    {
     "name": "stdout",
     "output_type": "stream",
     "text": [
      "[##################                      ] | 45% Completed | 298.91 s"
     ]
    },
    {
     "name": "stderr",
     "output_type": "stream",
     "text": [
      " WARNING: FIR normalized: sum[coef]=9.767192E-01;     \n",
      " WARNING: FIR normalized: sum[coef]=9.767192E-01;     \n",
      " WARNING: FIR normalized: sum[coef]=9.767192E-01;     \n",
      " WARNING: FIR normalized: sum[coef]=9.767192E-01;     \n",
      " WARNING: FIR normalized: sum[coef]=9.767192E-01;     \n",
      " WARNING: FIR normalized: sum[coef]=9.767192E-01;     \n",
      " WARNING: FIR normalized: sum[coef]=9.767192E-01;     \n"
     ]
    },
    {
     "name": "stdout",
     "output_type": "stream",
     "text": [
      "[##################                      ] | 45% Completed | 299.15 s"
     ]
    },
    {
     "name": "stderr",
     "output_type": "stream",
     "text": [
      " WARNING: FIR normalized: sum[coef]=9.767192E-01;     \n",
      " WARNING: FIR normalized: sum[coef]=9.767192E-01;     \n",
      " WARNING: FIR normalized: sum[coef]=9.767192E-01;     \n",
      " WARNING: FIR normalized: sum[coef]=9.767192E-01;     \n",
      " WARNING: FIR normalized: sum[coef]=9.767192E-01;     \n",
      " WARNING: FIR normalized: sum[coef]=9.767192E-01;     \n",
      " WARNING: FIR normalized: sum[coef]=9.767192E-01;     \n"
     ]
    },
    {
     "name": "stdout",
     "output_type": "stream",
     "text": [
      "[##################                      ] | 46% Completed | 299.50 s"
     ]
    },
    {
     "name": "stderr",
     "output_type": "stream",
     "text": [
      " WARNING: FIR normalized: sum[coef]=9.767192E-01;     \n",
      " WARNING: FIR normalized: sum[coef]=9.767192E-01;     \n",
      " WARNING: FIR normalized: sum[coef]=9.767192E-01;     \n",
      " WARNING: FIR normalized: sum[coef]=9.767192E-01;     \n"
     ]
    },
    {
     "name": "stdout",
     "output_type": "stream",
     "text": [
      "[2012-08-31T23:43:20.000000Z] No data or fatal error during detection/classification: list index out of range\n",
      "[##################                      ] | 46% Completed | 299.76 s"
     ]
    },
    {
     "name": "stderr",
     "output_type": "stream",
     "text": [
      " WARNING: FIR normalized: sum[coef]=9.767192E-01;     \n",
      " WARNING: FIR normalized: sum[coef]=9.767192E-01;     \n",
      " WARNING: FIR normalized: sum[coef]=9.767192E-01;     \n",
      " WARNING: FIR normalized: sum[coef]=9.767192E-01;     \n",
      " WARNING: FIR normalized: sum[coef]=9.767192E-01;     \n",
      " WARNING: FIR normalized: sum[coef]=9.767192E-01;     \n"
     ]
    },
    {
     "name": "stdout",
     "output_type": "stream",
     "text": [
      "[##################                      ] | 46% Completed | 300.00 s[2013-06-14T23:43:20.000000Z] No data or fatal error during detection/classification: list index out of range\n"
     ]
    },
    {
     "name": "stderr",
     "output_type": "stream",
     "text": [
      " WARNING: FIR normalized: sum[coef]=9.767192E-01;     \n",
      " WARNING: FIR normalized: sum[coef]=9.767192E-01;     \n",
      " WARNING: FIR normalized: sum[coef]=9.767192E-01;     \n",
      " WARNING: FIR normalized: sum[coef]=9.767192E-01;     \n",
      " WARNING: FIR normalized: sum[coef]=9.767192E-01;     \n",
      " WARNING: FIR normalized: sum[coef]=9.767192E-01;     \n"
     ]
    },
    {
     "name": "stdout",
     "output_type": "stream",
     "text": [
      "[##################                      ] | 46% Completed | 300.22 s"
     ]
    },
    {
     "name": "stderr",
     "output_type": "stream",
     "text": [
      " WARNING: FIR normalized: sum[coef]=9.767192E-01;     \n",
      " WARNING: FIR normalized: sum[coef]=9.767192E-01;     \n",
      " WARNING: FIR normalized: sum[coef]=9.767192E-01;     \n",
      " WARNING: FIR normalized: sum[coef]=9.767192E-01;     \n",
      " WARNING: FIR normalized: sum[coef]=9.767192E-01;     \n",
      " WARNING: FIR normalized: sum[coef]=9.767192E-01;     \n"
     ]
    },
    {
     "name": "stdout",
     "output_type": "stream",
     "text": [
      "[##################                      ] | 46% Completed | 300.34 s[2013-05-25T23:43:20.000000Z] No data or fatal error during detection/classification: list index out of range\n",
      "[##################                      ] | 47% Completed | 300.48 s"
     ]
    },
    {
     "name": "stderr",
     "output_type": "stream",
     "text": [
      " WARNING: FIR normalized: sum[coef]=9.767192E-01;     \n",
      " WARNING: FIR normalized: sum[coef]=9.767192E-01;     \n",
      " WARNING: FIR normalized: sum[coef]=9.767192E-01;     \n",
      " WARNING: FIR normalized: sum[coef]=9.767192E-01;     \n"
     ]
    },
    {
     "name": "stdout",
     "output_type": "stream",
     "text": [
      "[##################                      ] | 47% Completed | 300.82 s"
     ]
    },
    {
     "name": "stderr",
     "output_type": "stream",
     "text": [
      " WARNING: FIR normalized: sum[coef]=9.767192E-01;     \n",
      " WARNING: FIR normalized: sum[coef]=9.767192E-01;     \n",
      " WARNING: FIR normalized: sum[coef]=9.767192E-01;     \n",
      " WARNING: FIR normalized: sum[coef]=9.767192E-01;     \n",
      " WARNING: FIR normalized: sum[coef]=9.767192E-01;     \n",
      " WARNING: FIR normalized: sum[coef]=9.767192E-01;     \n",
      " WARNING: FIR normalized: sum[coef]=9.767192E-01;     \n"
     ]
    },
    {
     "name": "stdout",
     "output_type": "stream",
     "text": [
      "[##################                      ] | 47% Completed | 301.05 s"
     ]
    },
    {
     "name": "stderr",
     "output_type": "stream",
     "text": [
      " WARNING: FIR normalized: sum[coef]=9.767192E-01;     \n",
      " WARNING: FIR normalized: sum[coef]=9.767192E-01;     \n",
      " WARNING: FIR normalized: sum[coef]=9.767192E-01;     \n",
      " WARNING: FIR normalized: sum[coef]=9.767192E-01;     \n",
      " WARNING: FIR normalized: sum[coef]=9.767192E-01;     \n",
      " WARNING: FIR normalized: sum[coef]=9.767192E-01;     \n",
      " WARNING: FIR normalized: sum[coef]=9.767192E-01;     \n",
      " WARNING: FIR normalized: sum[coef]=9.767192E-01;     \n"
     ]
    },
    {
     "name": "stdout",
     "output_type": "stream",
     "text": [
      "[##################                      ] | 47% Completed | 301.28 s"
     ]
    },
    {
     "name": "stderr",
     "output_type": "stream",
     "text": [
      " WARNING: FIR normalized: sum[coef]=9.767192E-01;     \n",
      " WARNING: FIR normalized: sum[coef]=9.767192E-01;     \n"
     ]
    },
    {
     "name": "stdout",
     "output_type": "stream",
     "text": [
      "[##################                      ] | 47% Completed | 301.50 s"
     ]
    },
    {
     "name": "stderr",
     "output_type": "stream",
     "text": [
      " WARNING: FIR normalized: sum[coef]=9.767192E-01;     \n",
      " WARNING: FIR normalized: sum[coef]=9.767192E-01;     \n",
      " WARNING: FIR normalized: sum[coef]=9.767192E-01;     \n",
      " WARNING: FIR normalized: sum[coef]=9.767192E-01;     \n"
     ]
    },
    {
     "name": "stdout",
     "output_type": "stream",
     "text": [
      "[##################                      ] | 47% Completed | 301.74 s"
     ]
    },
    {
     "name": "stderr",
     "output_type": "stream",
     "text": [
      " WARNING: FIR normalized: sum[coef]=9.767192E-01;     \n",
      " WARNING: FIR normalized: sum[coef]=9.767192E-01;     \n",
      " WARNING: FIR normalized: sum[coef]=9.767192E-01;     \n",
      " WARNING: FIR normalized: sum[coef]=9.767192E-01;     \n",
      " WARNING: FIR normalized: sum[coef]=9.767192E-01;     \n"
     ]
    },
    {
     "name": "stdout",
     "output_type": "stream",
     "text": [
      "[##################                      ] | 47% Completed | 301.98 s"
     ]
    },
    {
     "name": "stderr",
     "output_type": "stream",
     "text": [
      " WARNING: FIR normalized: sum[coef]=9.767192E-01;     \n",
      " WARNING: FIR normalized: sum[coef]=9.767192E-01;     \n",
      " WARNING: FIR normalized: sum[coef]=9.767192E-01;     \n",
      " WARNING: FIR normalized: sum[coef]=9.767192E-01;     \n",
      " WARNING: FIR normalized: sum[coef]=9.767192E-01;     \n",
      " WARNING: FIR normalized: sum[coef]=9.767192E-01;     \n",
      " WARNING: FIR normalized: sum[coef]=9.767192E-01;     \n",
      " WARNING: FIR normalized: sum[coef]=9.767192E-01;     \n",
      " WARNING: FIR normalized: sum[coef]=9.767192E-01;     \n"
     ]
    },
    {
     "name": "stdout",
     "output_type": "stream",
     "text": [
      "[##################                      ] | 47% Completed | 302.20 s"
     ]
    },
    {
     "name": "stderr",
     "output_type": "stream",
     "text": [
      " WARNING: FIR normalized: sum[coef]=9.767192E-01;     \n"
     ]
    },
    {
     "name": "stdout",
     "output_type": "stream",
     "text": [
      "[##################                      ] | 47% Completed | 302.46 s"
     ]
    },
    {
     "name": "stderr",
     "output_type": "stream",
     "text": [
      " WARNING: FIR normalized: sum[coef]=9.767192E-01;     \n",
      " WARNING: FIR normalized: sum[coef]=9.767192E-01;     \n",
      " WARNING: FIR normalized: sum[coef]=9.767192E-01;     \n",
      " WARNING: FIR normalized: sum[coef]=9.767192E-01;     \n",
      " WARNING: FIR normalized: sum[coef]=9.767192E-01;     \n",
      " WARNING: FIR normalized: sum[coef]=9.767192E-01;     \n"
     ]
    },
    {
     "name": "stdout",
     "output_type": "stream",
     "text": [
      "[##################                      ] | 47% Completed | 302.68 s"
     ]
    },
    {
     "name": "stderr",
     "output_type": "stream",
     "text": [
      " WARNING: FIR normalized: sum[coef]=9.767192E-01;     \n",
      " WARNING: FIR normalized: sum[coef]=9.767192E-01;     \n",
      " WARNING: FIR normalized: sum[coef]=9.767192E-01;     \n",
      " WARNING: FIR normalized: sum[coef]=9.767192E-01;     \n",
      " WARNING: FIR normalized: sum[coef]=9.767192E-01;     \n"
     ]
    },
    {
     "name": "stdout",
     "output_type": "stream",
     "text": [
      "[##################                      ] | 47% Completed | 302.80 s"
     ]
    },
    {
     "name": "stderr",
     "output_type": "stream",
     "text": [
      " WARNING: FIR normalized: sum[coef]=9.767192E-01;     \n",
      " WARNING: FIR normalized: sum[coef]=9.767192E-01;     \n",
      " WARNING: FIR normalized: sum[coef]=9.767192E-01;     \n"
     ]
    },
    {
     "name": "stdout",
     "output_type": "stream",
     "text": [
      "[##################                      ] | 47% Completed | 303.03 s"
     ]
    },
    {
     "name": "stderr",
     "output_type": "stream",
     "text": [
      " WARNING: FIR normalized: sum[coef]=9.767192E-01;     \n",
      " WARNING: FIR normalized: sum[coef]=9.767192E-01;     \n",
      " WARNING: FIR normalized: sum[coef]=9.767192E-01;     \n",
      " WARNING: FIR normalized: sum[coef]=9.767192E-01;     \n",
      " WARNING: FIR normalized: sum[coef]=9.767192E-01;     \n",
      " WARNING: FIR normalized: sum[coef]=9.767192E-01;     \n",
      " WARNING: FIR normalized: sum[coef]=9.767192E-01;     \n",
      " WARNING: FIR normalized: sum[coef]=9.767192E-01;     \n",
      " WARNING: FIR normalized: sum[coef]=9.767192E-01;     \n"
     ]
    },
    {
     "name": "stdout",
     "output_type": "stream",
     "text": [
      "[###################                     ] | 47% Completed | 303.37 s"
     ]
    },
    {
     "name": "stderr",
     "output_type": "stream",
     "text": [
      " WARNING: FIR normalized: sum[coef]=9.767192E-01;     \n",
      " WARNING: FIR normalized: sum[coef]=9.767192E-01;     \n",
      " WARNING: FIR normalized: sum[coef]=9.767192E-01;     \n",
      " WARNING: FIR normalized: sum[coef]=9.767192E-01;     \n",
      " WARNING: FIR normalized: sum[coef]=9.767192E-01;     \n",
      " WARNING: FIR normalized: sum[coef]=9.767192E-01;     \n"
     ]
    },
    {
     "name": "stdout",
     "output_type": "stream",
     "text": [
      "[###################                     ] | 48% Completed | 303.62 s"
     ]
    },
    {
     "name": "stderr",
     "output_type": "stream",
     "text": [
      " WARNING: FIR normalized: sum[coef]=9.767192E-01;     \n",
      " WARNING: FIR normalized: sum[coef]=9.767192E-01;     \n",
      " WARNING: FIR normalized: sum[coef]=9.767192E-01;     \n",
      " WARNING: FIR normalized: sum[coef]=9.767192E-01;     \n"
     ]
    },
    {
     "name": "stdout",
     "output_type": "stream",
     "text": [
      "[###################                     ] | 48% Completed | 303.85 s"
     ]
    },
    {
     "name": "stderr",
     "output_type": "stream",
     "text": [
      " WARNING: FIR normalized: sum[coef]=9.767192E-01;     \n",
      " WARNING: FIR normalized: sum[coef]=9.767192E-01;     \n",
      " WARNING: FIR normalized: sum[coef]=9.767192E-01;     \n",
      " WARNING: FIR normalized: sum[coef]=9.767192E-01;     \n",
      " WARNING: FIR normalized: sum[coef]=9.767192E-01;     \n"
     ]
    },
    {
     "name": "stdout",
     "output_type": "stream",
     "text": [
      "[###################                     ] | 48% Completed | 304.09 s"
     ]
    },
    {
     "name": "stderr",
     "output_type": "stream",
     "text": [
      " WARNING: FIR normalized: sum[coef]=9.767192E-01;     \n",
      " WARNING: FIR normalized: sum[coef]=9.767192E-01;     \n",
      " WARNING: FIR normalized: sum[coef]=9.767192E-01;     \n",
      " WARNING: FIR normalized: sum[coef]=9.767192E-01;     \n",
      " WARNING: FIR normalized: sum[coef]=9.767192E-01;     \n",
      " WARNING: FIR normalized: sum[coef]=9.767192E-01;     \n"
     ]
    },
    {
     "name": "stdout",
     "output_type": "stream",
     "text": [
      "[###################                     ] | 48% Completed | 304.32 s"
     ]
    },
    {
     "name": "stderr",
     "output_type": "stream",
     "text": [
      " WARNING: FIR normalized: sum[coef]=9.767192E-01;     \n",
      " WARNING: FIR normalized: sum[coef]=9.767192E-01;     \n",
      " WARNING: FIR normalized: sum[coef]=9.767192E-01;     \n",
      " WARNING: FIR normalized: sum[coef]=9.767192E-01;     \n",
      " WARNING: FIR normalized: sum[coef]=9.767192E-01;     \n",
      " WARNING: FIR normalized: sum[coef]=9.767192E-01;     \n"
     ]
    },
    {
     "name": "stdout",
     "output_type": "stream",
     "text": [
      "[###################                     ] | 48% Completed | 304.67 s"
     ]
    },
    {
     "name": "stderr",
     "output_type": "stream",
     "text": [
      " WARNING: FIR normalized: sum[coef]=9.767192E-01;     \n",
      " WARNING: FIR normalized: sum[coef]=9.767192E-01;     \n",
      " WARNING: FIR normalized: sum[coef]=9.767192E-01;     \n",
      " WARNING: FIR normalized: sum[coef]=9.767192E-01;     \n",
      " WARNING: FIR normalized: sum[coef]=9.767192E-01;     \n",
      " WARNING: FIR normalized: sum[coef]=9.767192E-01;     \n",
      " WARNING: FIR normalized: sum[coef]=9.767192E-01;     \n",
      " WARNING: FIR normalized: sum[coef]=9.767192E-01;     \n"
     ]
    },
    {
     "name": "stdout",
     "output_type": "stream",
     "text": [
      "[###################                     ] | 48% Completed | 304.92 s"
     ]
    },
    {
     "name": "stderr",
     "output_type": "stream",
     "text": [
      " WARNING: FIR normalized: sum[coef]=9.767192E-01;     \n",
      " WARNING: FIR normalized: sum[coef]=9.767192E-01;     \n",
      " WARNING: FIR normalized: sum[coef]=9.767192E-01;     \n",
      " WARNING: FIR normalized: sum[coef]=9.767192E-01;     \n",
      " WARNING: FIR normalized: sum[coef]=9.767192E-01;     \n"
     ]
    },
    {
     "name": "stdout",
     "output_type": "stream",
     "text": [
      "[###################                     ] | 48% Completed | 305.17 s"
     ]
    },
    {
     "name": "stderr",
     "output_type": "stream",
     "text": [
      " WARNING: FIR normalized: sum[coef]=9.767192E-01;     \n",
      " WARNING: FIR normalized: sum[coef]=9.767192E-01;     \n",
      " WARNING: FIR normalized: sum[coef]=9.767192E-01;     \n",
      " WARNING: FIR normalized: sum[coef]=9.767192E-01;     \n",
      " WARNING: FIR normalized: sum[coef]=9.767192E-01;     \n"
     ]
    },
    {
     "name": "stdout",
     "output_type": "stream",
     "text": [
      "[###################                     ] | 48% Completed | 305.42 s"
     ]
    },
    {
     "name": "stderr",
     "output_type": "stream",
     "text": [
      " WARNING: FIR normalized: sum[coef]=9.767192E-01;     \n",
      " WARNING: FIR normalized: sum[coef]=9.767192E-01;     \n",
      " WARNING: FIR normalized: sum[coef]=9.767192E-01;     \n",
      " WARNING: FIR normalized: sum[coef]=9.767192E-01;     \n",
      " WARNING: FIR normalized: sum[coef]=9.767192E-01;     \n",
      " WARNING: FIR normalized: sum[coef]=9.767192E-01;     \n",
      " WARNING: FIR normalized: sum[coef]=9.767192E-01;     \n"
     ]
    },
    {
     "name": "stdout",
     "output_type": "stream",
     "text": [
      "[###################                     ] | 48% Completed | 305.66 s"
     ]
    },
    {
     "name": "stderr",
     "output_type": "stream",
     "text": [
      " WARNING: FIR normalized: sum[coef]=9.767192E-01;     \n",
      " WARNING: FIR normalized: sum[coef]=9.767192E-01;     \n",
      " WARNING: FIR normalized: sum[coef]=9.767192E-01;     \n"
     ]
    },
    {
     "name": "stdout",
     "output_type": "stream",
     "text": [
      "[###################                     ] | 48% Completed | 305.89 s"
     ]
    },
    {
     "name": "stderr",
     "output_type": "stream",
     "text": [
      " WARNING: FIR normalized: sum[coef]=9.767192E-01;     \n",
      " WARNING: FIR normalized: sum[coef]=9.767192E-01;     \n",
      " WARNING: FIR normalized: sum[coef]=9.767192E-01;     \n",
      " WARNING: FIR normalized: sum[coef]=9.767192E-01;     \n",
      " WARNING: FIR normalized: sum[coef]=9.767192E-01;     \n",
      " WARNING: FIR normalized: sum[coef]=9.767192E-01;     \n",
      " WARNING: FIR normalized: sum[coef]=9.767192E-01;     \n",
      " WARNING: FIR normalized: sum[coef]=9.767192E-01;     \n"
     ]
    },
    {
     "name": "stdout",
     "output_type": "stream",
     "text": [
      "[###################                     ] | 48% Completed | 306.13 s"
     ]
    },
    {
     "name": "stderr",
     "output_type": "stream",
     "text": [
      " WARNING: FIR normalized: sum[coef]=9.767192E-01;     \n",
      " WARNING: FIR normalized: sum[coef]=9.767192E-01;     \n",
      " WARNING: FIR normalized: sum[coef]=9.767192E-01;     \n",
      " WARNING: FIR normalized: sum[coef]=9.767192E-01;     \n",
      " WARNING: FIR normalized: sum[coef]=9.767192E-01;     \n"
     ]
    },
    {
     "name": "stdout",
     "output_type": "stream",
     "text": [
      "[###################                     ] | 48% Completed | 306.36 s"
     ]
    },
    {
     "name": "stderr",
     "output_type": "stream",
     "text": [
      " WARNING: FIR normalized: sum[coef]=9.767192E-01;     \n",
      " WARNING: FIR normalized: sum[coef]=9.767192E-01;     \n",
      " WARNING: FIR normalized: sum[coef]=9.767192E-01;     \n",
      " WARNING: FIR normalized: sum[coef]=9.767192E-01;     \n",
      " WARNING: FIR normalized: sum[coef]=9.767192E-01;     \n",
      " WARNING: FIR normalized: sum[coef]=9.767192E-01;     \n"
     ]
    },
    {
     "name": "stdout",
     "output_type": "stream",
     "text": [
      "[###################                     ] | 48% Completed | 306.70 s"
     ]
    },
    {
     "name": "stderr",
     "output_type": "stream",
     "text": [
      " WARNING: FIR normalized: sum[coef]=9.767192E-01;     \n",
      " WARNING: FIR normalized: sum[coef]=9.767192E-01;     \n",
      " WARNING: FIR normalized: sum[coef]=9.767192E-01;     \n",
      " WARNING: FIR normalized: sum[coef]=9.767192E-01;     \n"
     ]
    },
    {
     "name": "stdout",
     "output_type": "stream",
     "text": [
      "[###################                     ] | 48% Completed | 307.06 s"
     ]
    },
    {
     "name": "stderr",
     "output_type": "stream",
     "text": [
      " WARNING: FIR normalized: sum[coef]=9.767192E-01;     \n",
      " WARNING: FIR normalized: sum[coef]=9.767192E-01;     \n",
      " WARNING: FIR normalized: sum[coef]=9.767192E-01;     \n",
      " WARNING: FIR normalized: sum[coef]=9.767192E-01;     \n",
      " WARNING: FIR normalized: sum[coef]=9.767192E-01;     \n",
      " WARNING: FIR normalized: sum[coef]=9.767192E-01;     \n",
      " WARNING: FIR normalized: sum[coef]=9.767192E-01;     \n",
      " WARNING: FIR normalized: sum[coef]=9.767192E-01;     \n",
      " WARNING: FIR normalized: sum[coef]=9.767192E-01;     \n"
     ]
    },
    {
     "name": "stdout",
     "output_type": "stream",
     "text": [
      "[###################                     ] | 48% Completed | 307.27 s"
     ]
    },
    {
     "name": "stderr",
     "output_type": "stream",
     "text": [
      " WARNING: FIR normalized: sum[coef]=9.767192E-01;     \n",
      " WARNING: FIR normalized: sum[coef]=9.767192E-01;     \n",
      " WARNING: FIR normalized: sum[coef]=9.767192E-01;     \n",
      " WARNING: FIR normalized: sum[coef]=9.767192E-01;     \n"
     ]
    },
    {
     "name": "stdout",
     "output_type": "stream",
     "text": [
      "[###################                     ] | 48% Completed | 307.51 s"
     ]
    },
    {
     "name": "stderr",
     "output_type": "stream",
     "text": [
      " WARNING: FIR normalized: sum[coef]=9.767192E-01;     \n",
      " WARNING: FIR normalized: sum[coef]=9.767192E-01;     \n",
      " WARNING: FIR normalized: sum[coef]=9.767192E-01;     \n",
      " WARNING: FIR normalized: sum[coef]=9.767192E-01;     \n",
      " WARNING: FIR normalized: sum[coef]=9.767192E-01;     \n"
     ]
    },
    {
     "name": "stdout",
     "output_type": "stream",
     "text": [
      "[###################                     ] | 48% Completed | 307.84 s"
     ]
    },
    {
     "name": "stderr",
     "output_type": "stream",
     "text": [
      " WARNING: FIR normalized: sum[coef]=9.767192E-01;     \n",
      " WARNING: FIR normalized: sum[coef]=9.767192E-01;     \n",
      " WARNING: FIR normalized: sum[coef]=9.767192E-01;     \n",
      " WARNING: FIR normalized: sum[coef]=9.767192E-01;     \n",
      " WARNING: FIR normalized: sum[coef]=9.767192E-01;     \n",
      " WARNING: FIR normalized: sum[coef]=9.767192E-01;     \n",
      " WARNING: FIR normalized: sum[coef]=9.767192E-01;     \n",
      " WARNING: FIR normalized: sum[coef]=9.767192E-01;     \n",
      " WARNING: FIR normalized: sum[coef]=9.767192E-01;     \n",
      " WARNING: FIR normalized: sum[coef]=9.767192E-01;     \n",
      " WARNING: FIR normalized: sum[coef]=9.767192E-01;     \n"
     ]
    },
    {
     "name": "stdout",
     "output_type": "stream",
     "text": [
      "[###################                     ] | 49% Completed | 308.18 s"
     ]
    },
    {
     "name": "stderr",
     "output_type": "stream",
     "text": [
      " WARNING: FIR normalized: sum[coef]=9.767192E-01;     \n",
      " WARNING: FIR normalized: sum[coef]=9.767192E-01;     \n",
      " WARNING: FIR normalized: sum[coef]=9.767192E-01;     \n",
      " WARNING: FIR normalized: sum[coef]=9.767192E-01;     \n",
      " WARNING: FIR normalized: sum[coef]=9.767192E-01;     \n",
      " WARNING: FIR normalized: sum[coef]=9.767192E-01;     \n"
     ]
    },
    {
     "name": "stdout",
     "output_type": "stream",
     "text": [
      "[###################                     ] | 49% Completed | 308.43 s"
     ]
    },
    {
     "name": "stderr",
     "output_type": "stream",
     "text": [
      " WARNING: FIR normalized: sum[coef]=9.767192E-01;     \n",
      " WARNING: FIR normalized: sum[coef]=9.767192E-01;     \n",
      " WARNING: FIR normalized: sum[coef]=9.767192E-01;     \n"
     ]
    },
    {
     "name": "stdout",
     "output_type": "stream",
     "text": [
      "[###################                     ] | 49% Completed | 308.79 s[2012-09-05T23:43:19.994564Z] No data or fatal error during detection/classification: list index out of range\n"
     ]
    },
    {
     "name": "stderr",
     "output_type": "stream",
     "text": [
      " WARNING: FIR normalized: sum[coef]=9.767192E-01;     \n",
      " WARNING: FIR normalized: sum[coef]=9.767192E-01;     \n",
      " WARNING: FIR normalized: sum[coef]=9.767192E-01;     \n",
      " WARNING: FIR normalized: sum[coef]=9.767192E-01;     \n",
      " WARNING: FIR normalized: sum[coef]=9.767192E-01;     \n",
      " WARNING: FIR normalized: sum[coef]=9.767192E-01;     \n",
      " WARNING: FIR normalized: sum[coef]=9.767192E-01;     \n",
      " WARNING: FIR normalized: sum[coef]=9.767192E-01;     \n",
      " WARNING: FIR normalized: sum[coef]=9.767192E-01;     \n",
      " WARNING: FIR normalized: sum[coef]=9.767192E-01;     \n"
     ]
    },
    {
     "name": "stdout",
     "output_type": "stream",
     "text": [
      "[###################                     ] | 49% Completed | 309.02 s"
     ]
    },
    {
     "name": "stderr",
     "output_type": "stream",
     "text": [
      " WARNING: FIR normalized: sum[coef]=9.767192E-01;     \n",
      " WARNING: FIR normalized: sum[coef]=9.767192E-01;     \n",
      " WARNING: FIR normalized: sum[coef]=9.767192E-01;     \n",
      " WARNING: FIR normalized: sum[coef]=9.767192E-01;     \n",
      " WARNING: FIR normalized: sum[coef]=9.767192E-01;     \n"
     ]
    },
    {
     "name": "stdout",
     "output_type": "stream",
     "text": [
      "[###################                     ] | 49% Completed | 309.35 s"
     ]
    },
    {
     "name": "stderr",
     "output_type": "stream",
     "text": [
      " WARNING: FIR normalized: sum[coef]=9.767192E-01;     \n",
      " WARNING: FIR normalized: sum[coef]=9.767192E-01;     \n"
     ]
    },
    {
     "name": "stdout",
     "output_type": "stream",
     "text": [
      "[####################                    ] | 50% Completed | 309.58 s"
     ]
    },
    {
     "name": "stderr",
     "output_type": "stream",
     "text": [
      " WARNING: FIR normalized: sum[coef]=9.767192E-01;     \n",
      " WARNING: FIR normalized: sum[coef]=9.767192E-01;     \n",
      " WARNING: FIR normalized: sum[coef]=9.767192E-01;     \n",
      " WARNING: FIR normalized: sum[coef]=9.767192E-01;     \n",
      " WARNING: FIR normalized: sum[coef]=9.767192E-01;     \n",
      " WARNING: FIR normalized: sum[coef]=9.767192E-01;     \n",
      " WARNING: FIR normalized: sum[coef]=9.767192E-01;     \n"
     ]
    },
    {
     "name": "stdout",
     "output_type": "stream",
     "text": [
      "[####################                    ] | 50% Completed | 309.81 s"
     ]
    },
    {
     "name": "stderr",
     "output_type": "stream",
     "text": [
      " WARNING: FIR normalized: sum[coef]=9.767192E-01;     \n",
      " WARNING: FIR normalized: sum[coef]=9.767192E-01;     \n",
      " WARNING: FIR normalized: sum[coef]=9.767192E-01;     \n",
      " WARNING: FIR normalized: sum[coef]=9.767192E-01;     \n",
      " WARNING: FIR normalized: sum[coef]=9.767192E-01;     \n",
      " WARNING: FIR normalized: sum[coef]=9.767192E-01;     \n",
      " WARNING: FIR normalized: sum[coef]=9.767192E-01;     \n",
      " WARNING: FIR normalized: sum[coef]=9.767192E-01;     \n"
     ]
    },
    {
     "name": "stdout",
     "output_type": "stream",
     "text": [
      "[####################                    ] | 50% Completed | 310.28 s"
     ]
    },
    {
     "name": "stderr",
     "output_type": "stream",
     "text": [
      " WARNING: FIR normalized: sum[coef]=9.767192E-01;     \n",
      " WARNING: FIR normalized: sum[coef]=9.767192E-01;     \n",
      " WARNING: FIR normalized: sum[coef]=9.767192E-01;     \n",
      " WARNING: FIR normalized: sum[coef]=9.767192E-01;     \n",
      " WARNING: FIR normalized: sum[coef]=9.767192E-01;     \n"
     ]
    },
    {
     "name": "stdout",
     "output_type": "stream",
     "text": [
      "[####################                    ] | 50% Completed | 310.50 s"
     ]
    },
    {
     "name": "stderr",
     "output_type": "stream",
     "text": [
      " WARNING: FIR normalized: sum[coef]=9.767192E-01;     \n",
      " WARNING: FIR normalized: sum[coef]=9.767192E-01;     \n",
      " WARNING: FIR normalized: sum[coef]=9.767192E-01;     \n",
      " WARNING: FIR normalized: sum[coef]=9.767192E-01;     \n",
      " WARNING: FIR normalized: sum[coef]=9.767192E-01;     \n",
      " WARNING: FIR normalized: sum[coef]=9.767192E-01;     \n"
     ]
    },
    {
     "name": "stdout",
     "output_type": "stream",
     "text": [
      "[####################                    ] | 50% Completed | 310.76 s"
     ]
    },
    {
     "name": "stderr",
     "output_type": "stream",
     "text": [
      " WARNING: FIR normalized: sum[coef]=9.767192E-01;     \n",
      " WARNING: FIR normalized: sum[coef]=9.767192E-01;     \n",
      " WARNING: FIR normalized: sum[coef]=9.767192E-01;     \n",
      " WARNING: FIR normalized: sum[coef]=9.767192E-01;     \n",
      " WARNING: FIR normalized: sum[coef]=9.767192E-01;     \n",
      " WARNING: FIR normalized: sum[coef]=9.767192E-01;     \n"
     ]
    },
    {
     "name": "stdout",
     "output_type": "stream",
     "text": [
      "[####################                    ] | 50% Completed | 311.23 s"
     ]
    },
    {
     "name": "stderr",
     "output_type": "stream",
     "text": [
      " WARNING: FIR normalized: sum[coef]=9.767192E-01;     \n",
      " WARNING: FIR normalized: sum[coef]=9.767192E-01;     \n",
      " WARNING: FIR normalized: sum[coef]=9.767192E-01;     \n",
      " WARNING: FIR normalized: sum[coef]=9.767192E-01;     \n",
      " WARNING: FIR normalized: sum[coef]=9.767192E-01;     \n",
      " WARNING: FIR normalized: sum[coef]=9.767192E-01;     \n",
      " WARNING: FIR normalized: sum[coef]=9.767192E-01;     \n",
      " WARNING: FIR normalized: sum[coef]=9.767192E-01;     \n"
     ]
    },
    {
     "name": "stdout",
     "output_type": "stream",
     "text": [
      "[####################                    ] | 50% Completed | 311.57 s"
     ]
    },
    {
     "name": "stderr",
     "output_type": "stream",
     "text": [
      " WARNING: FIR normalized: sum[coef]=9.767192E-01;     \n",
      " WARNING: FIR normalized: sum[coef]=9.767192E-01;     \n",
      " WARNING: FIR normalized: sum[coef]=9.767192E-01;     \n",
      " WARNING: FIR normalized: sum[coef]=9.767192E-01;     \n",
      " WARNING: FIR normalized: sum[coef]=9.767192E-01;     \n",
      " WARNING: FIR normalized: sum[coef]=9.767192E-01;     \n"
     ]
    },
    {
     "name": "stdout",
     "output_type": "stream",
     "text": [
      "[####################                    ] | 50% Completed | 311.81 s"
     ]
    },
    {
     "name": "stderr",
     "output_type": "stream",
     "text": [
      " WARNING: FIR normalized: sum[coef]=9.767192E-01;     \n",
      " WARNING: FIR normalized: sum[coef]=9.767192E-01;     \n",
      " WARNING: FIR normalized: sum[coef]=9.767192E-01;     \n",
      " WARNING: FIR normalized: sum[coef]=9.767192E-01;     \n"
     ]
    },
    {
     "name": "stdout",
     "output_type": "stream",
     "text": [
      "[####################                    ] | 50% Completed | 312.15 s"
     ]
    },
    {
     "name": "stderr",
     "output_type": "stream",
     "text": [
      " WARNING: FIR normalized: sum[coef]=9.767192E-01;     \n",
      " WARNING: FIR normalized: sum[coef]=9.767192E-01;     \n",
      " WARNING: FIR normalized: sum[coef]=9.767192E-01;     \n",
      " WARNING: FIR normalized: sum[coef]=9.767192E-01;     \n",
      " WARNING: FIR normalized: sum[coef]=9.767192E-01;     \n",
      " WARNING: FIR normalized: sum[coef]=9.767192E-01;     \n"
     ]
    },
    {
     "name": "stdout",
     "output_type": "stream",
     "text": [
      "[####################                    ] | 50% Completed | 312.37 s"
     ]
    },
    {
     "name": "stderr",
     "output_type": "stream",
     "text": [
      " WARNING: FIR normalized: sum[coef]=9.767192E-01;     \n",
      " WARNING: FIR normalized: sum[coef]=9.767192E-01;     \n",
      " WARNING: FIR normalized: sum[coef]=9.767192E-01;     \n",
      " WARNING: FIR normalized: sum[coef]=9.767192E-01;     \n",
      " WARNING: FIR normalized: sum[coef]=9.767192E-01;     \n"
     ]
    },
    {
     "name": "stdout",
     "output_type": "stream",
     "text": [
      "[####################                    ] | 50% Completed | 312.63 s"
     ]
    },
    {
     "name": "stderr",
     "output_type": "stream",
     "text": [
      " WARNING: FIR normalized: sum[coef]=9.767192E-01;     \n",
      " WARNING: FIR normalized: sum[coef]=9.767192E-01;     \n",
      " WARNING: FIR normalized: sum[coef]=9.767192E-01;     \n",
      " WARNING: FIR normalized: sum[coef]=9.767192E-01;     \n",
      " WARNING: FIR normalized: sum[coef]=9.767192E-01;     \n"
     ]
    },
    {
     "name": "stdout",
     "output_type": "stream",
     "text": [
      "[####################                    ] | 51% Completed | 312.97 s"
     ]
    },
    {
     "name": "stderr",
     "output_type": "stream",
     "text": [
      " WARNING: FIR normalized: sum[coef]=9.767192E-01;     \n",
      " WARNING: FIR normalized: sum[coef]=9.767192E-01;     \n",
      " WARNING: FIR normalized: sum[coef]=9.767192E-01;     \n",
      " WARNING: FIR normalized: sum[coef]=9.767192E-01;     \n",
      " WARNING: FIR normalized: sum[coef]=9.767192E-01;     \n"
     ]
    },
    {
     "name": "stdout",
     "output_type": "stream",
     "text": [
      "[####################                    ] | 51% Completed | 313.19 s"
     ]
    },
    {
     "name": "stderr",
     "output_type": "stream",
     "text": [
      " WARNING: FIR normalized: sum[coef]=9.767192E-01;     \n",
      " WARNING: FIR normalized: sum[coef]=9.767192E-01;     \n",
      " WARNING: FIR normalized: sum[coef]=9.767192E-01;     \n",
      " WARNING: FIR normalized: sum[coef]=9.767192E-01;     \n",
      " WARNING: FIR normalized: sum[coef]=9.767192E-01;     \n"
     ]
    },
    {
     "name": "stdout",
     "output_type": "stream",
     "text": [
      "[####################                    ] | 51% Completed | 313.42 s"
     ]
    },
    {
     "name": "stderr",
     "output_type": "stream",
     "text": [
      " WARNING: FIR normalized: sum[coef]=9.767192E-01;     \n",
      " WARNING: FIR normalized: sum[coef]=9.767192E-01;     \n"
     ]
    },
    {
     "name": "stdout",
     "output_type": "stream",
     "text": [
      "[####################                    ] | 51% Completed | 313.67 s"
     ]
    },
    {
     "name": "stderr",
     "output_type": "stream",
     "text": [
      " WARNING: FIR normalized: sum[coef]=9.767192E-01;     \n",
      " WARNING: FIR normalized: sum[coef]=9.767192E-01;     \n",
      " WARNING: FIR normalized: sum[coef]=9.767192E-01;     \n",
      " WARNING: FIR normalized: sum[coef]=9.767192E-01;     \n"
     ]
    },
    {
     "name": "stdout",
     "output_type": "stream",
     "text": [
      "[####################                    ] | 51% Completed | 313.93 s"
     ]
    },
    {
     "name": "stderr",
     "output_type": "stream",
     "text": [
      " WARNING: FIR normalized: sum[coef]=9.767192E-01;     \n",
      " WARNING: FIR normalized: sum[coef]=9.767192E-01;     \n",
      " WARNING: FIR normalized: sum[coef]=9.767192E-01;     \n",
      " WARNING: FIR normalized: sum[coef]=9.767192E-01;     \n",
      " WARNING: FIR normalized: sum[coef]=9.767192E-01;     \n"
     ]
    },
    {
     "name": "stdout",
     "output_type": "stream",
     "text": [
      "[####################                    ] | 51% Completed | 314.28 s"
     ]
    },
    {
     "name": "stderr",
     "output_type": "stream",
     "text": [
      " WARNING: FIR normalized: sum[coef]=9.767192E-01;     \n",
      " WARNING: FIR normalized: sum[coef]=9.767192E-01;     \n",
      " WARNING: FIR normalized: sum[coef]=9.767192E-01;     \n",
      " WARNING: FIR normalized: sum[coef]=9.767192E-01;     \n"
     ]
    },
    {
     "name": "stdout",
     "output_type": "stream",
     "text": [
      "[####################                    ] | 52% Completed | 314.52 s"
     ]
    },
    {
     "name": "stderr",
     "output_type": "stream",
     "text": [
      " WARNING: FIR normalized: sum[coef]=9.767192E-01;     \n",
      " WARNING: FIR normalized: sum[coef]=9.767192E-01;     \n",
      " WARNING: FIR normalized: sum[coef]=9.767192E-01;     \n",
      " WARNING: FIR normalized: sum[coef]=9.767192E-01;     \n",
      " WARNING: FIR normalized: sum[coef]=9.767192E-01;     \n",
      " WARNING: FIR normalized: sum[coef]=9.767192E-01;     \n",
      " WARNING: FIR normalized: sum[coef]=9.767192E-01; "
     ]
    },
    {
     "name": "stdout",
     "output_type": "stream",
     "text": [
      "[#####################                   ] | 52% Completed | 314.76 s"
     ]
    },
    {
     "name": "stderr",
     "output_type": "stream",
     "text": [
      "    \n",
      " WARNING: FIR normalized: sum[coef]=9.767192E-01;     \n",
      " WARNING: FIR normalized: sum[coef]=9.767192E-01;     \n"
     ]
    },
    {
     "name": "stdout",
     "output_type": "stream",
     "text": [
      "[#####################                   ] | 52% Completed | 315.21 s"
     ]
    },
    {
     "name": "stderr",
     "output_type": "stream",
     "text": [
      " WARNING: FIR normalized: sum[coef]=9.767192E-01;     \n",
      " WARNING: FIR normalized: sum[coef]=9.767192E-01;     \n",
      " WARNING: FIR normalized: sum[coef]=9.767192E-01;     \n"
     ]
    },
    {
     "name": "stdout",
     "output_type": "stream",
     "text": [
      "[#####################                   ] | 52% Completed | 315.45 s"
     ]
    },
    {
     "name": "stderr",
     "output_type": "stream",
     "text": [
      " WARNING: FIR normalized: sum[coef]=9.767192E-01;     \n",
      " WARNING: FIR normalized: sum[coef]=9.767192E-01;     \n",
      " WARNING: FIR normalized: sum[coef]=9.767192E-01;     \n",
      " WARNING: FIR normalized: sum[coef]=9.767192E-01;     \n",
      " WARNING: FIR normalized: sum[coef]=9.767192E-01;     \n"
     ]
    },
    {
     "name": "stdout",
     "output_type": "stream",
     "text": [
      "[#####################                   ] | 52% Completed | 315.67 s"
     ]
    },
    {
     "name": "stderr",
     "output_type": "stream",
     "text": [
      " WARNING: FIR normalized: sum[coef]=9.767192E-01;     \n",
      " WARNING: FIR normalized: sum[coef]=9.767192E-01;     \n",
      " WARNING: FIR normalized: sum[coef]=9.767192E-01;     \n"
     ]
    },
    {
     "name": "stdout",
     "output_type": "stream",
     "text": [
      "[#####################                   ] | 52% Completed | 315.90 s"
     ]
    },
    {
     "name": "stderr",
     "output_type": "stream",
     "text": [
      " WARNING: FIR normalized: sum[coef]=9.767192E-01;     \n",
      " WARNING: FIR normalized: sum[coef]=9.767192E-01;     \n",
      " WARNING: FIR normalized: sum[coef]=9.767192E-01;     \n",
      " WARNING: FIR normalized: sum[coef]=9.767192E-01;     \n"
     ]
    },
    {
     "name": "stdout",
     "output_type": "stream",
     "text": [
      "[#####################                   ] | 52% Completed | 316.26 s"
     ]
    },
    {
     "name": "stderr",
     "output_type": "stream",
     "text": [
      " WARNING: FIR normalized: sum[coef]=9.767192E-01;     \n",
      " WARNING: FIR normalized: sum[coef]=9.767192E-01;     \n",
      " WARNING: FIR normalized: sum[coef]=9.767192E-01;     \n"
     ]
    },
    {
     "name": "stdout",
     "output_type": "stream",
     "text": [
      "[#####################                   ] | 52% Completed | 316.49 s"
     ]
    },
    {
     "name": "stderr",
     "output_type": "stream",
     "text": [
      " WARNING: FIR normalized: sum[coef]=9.767192E-01;     \n",
      " WARNING: FIR normalized: sum[coef]=9.767192E-01;     \n",
      " WARNING: FIR normalized: sum[coef]=9.767192E-01;     \n",
      " WARNING: FIR normalized: sum[coef]=9.767192E-01;     \n"
     ]
    },
    {
     "name": "stdout",
     "output_type": "stream",
     "text": [
      "[#####################                   ] | 52% Completed | 316.71 s"
     ]
    },
    {
     "name": "stderr",
     "output_type": "stream",
     "text": [
      " WARNING: FIR normalized: sum[coef]=9.767192E-01;     \n",
      " WARNING: FIR normalized: sum[coef]=9.767192E-01;     \n",
      " WARNING: FIR normalized: sum[coef]=9.767192E-01;     \n",
      " WARNING: FIR normalized: sum[coef]=9.767192E-01;     \n"
     ]
    },
    {
     "name": "stdout",
     "output_type": "stream",
     "text": [
      "[#####################                   ] | 52% Completed | 316.94 s"
     ]
    },
    {
     "name": "stderr",
     "output_type": "stream",
     "text": [
      " WARNING: FIR normalized: sum[coef]=9.767192E-01;     \n",
      " WARNING: FIR normalized: sum[coef]=9.767192E-01;     \n",
      " WARNING: FIR normalized: sum[coef]=9.767192E-01;     \n",
      " WARNING: FIR normalized: sum[coef]=9.767192E-01;     \n"
     ]
    },
    {
     "name": "stdout",
     "output_type": "stream",
     "text": [
      "[#####################                   ] | 52% Completed | 317.28 s"
     ]
    },
    {
     "name": "stderr",
     "output_type": "stream",
     "text": [
      " WARNING: FIR normalized: sum[coef]=9.767192E-01;     \n",
      " WARNING: FIR normalized: sum[coef]=9.767192E-01;     \n",
      " WARNING: FIR normalized: sum[coef]=9.767192E-01;     \n"
     ]
    },
    {
     "name": "stdout",
     "output_type": "stream",
     "text": [
      "[#####################                   ] | 52% Completed | 317.51 s"
     ]
    },
    {
     "name": "stderr",
     "output_type": "stream",
     "text": [
      " WARNING: FIR normalized: sum[coef]=9.767192E-01;     \n",
      " WARNING: FIR normalized: sum[coef]=9.767192E-01;     \n",
      " WARNING: FIR normalized: sum[coef]=9.767192E-01;     \n"
     ]
    },
    {
     "name": "stdout",
     "output_type": "stream",
     "text": [
      "[#####################                   ] | 52% Completed | 317.75 s"
     ]
    },
    {
     "name": "stderr",
     "output_type": "stream",
     "text": [
      " WARNING: FIR normalized: sum[coef]=9.767192E-01;     \n",
      " WARNING: FIR normalized: sum[coef]=9.767192E-01;     \n",
      " WARNING: FIR normalized: sum[coef]=9.767192E-01;     \n",
      " WARNING: FIR normalized: sum[coef]=9.767192E-01;     \n"
     ]
    },
    {
     "name": "stdout",
     "output_type": "stream",
     "text": [
      "[2013-05-24T23:43:20.000000Z] No data or fatal error during detection/classification: list index out of range\n",
      "[#####################                   ] | 53% Completed | 317.97 s"
     ]
    },
    {
     "name": "stderr",
     "output_type": "stream",
     "text": [
      " WARNING: FIR normalized: sum[coef]=9.767192E-01;     \n",
      " WARNING: FIR normalized: sum[coef]=9.767192E-01;     \n",
      " WARNING: FIR normalized: sum[coef]=9.767192E-01;     \n",
      " WARNING: FIR normalized: sum[coef]=9.767192E-01;     \n"
     ]
    },
    {
     "name": "stdout",
     "output_type": "stream",
     "text": [
      "[#####################                   ] | 53% Completed | 318.19 s"
     ]
    },
    {
     "name": "stderr",
     "output_type": "stream",
     "text": [
      " WARNING: FIR normalized: sum[coef]=9.767192E-01;     \n",
      " WARNING: FIR normalized: sum[coef]=9.767192E-01;     \n"
     ]
    },
    {
     "name": "stdout",
     "output_type": "stream",
     "text": [
      "[#####################                   ] | 53% Completed | 318.42 s"
     ]
    },
    {
     "name": "stderr",
     "output_type": "stream",
     "text": [
      " WARNING: FIR normalized: sum[coef]=9.767192E-01;     \n",
      " WARNING: FIR normalized: sum[coef]=9.767192E-01;     \n"
     ]
    },
    {
     "name": "stdout",
     "output_type": "stream",
     "text": [
      "[#####################                   ] | 53% Completed | 318.75 s"
     ]
    },
    {
     "name": "stderr",
     "output_type": "stream",
     "text": [
      " WARNING: FIR normalized: sum[coef]=9.767192E-01;     \n",
      " WARNING: FIR normalized: sum[coef]=9.767192E-01;     \n",
      " WARNING: FIR normalized: sum[coef]=9.767192E-01;     \n"
     ]
    },
    {
     "name": "stdout",
     "output_type": "stream",
     "text": [
      "[#####################                   ] | 53% Completed | 318.86 s"
     ]
    },
    {
     "name": "stderr",
     "output_type": "stream",
     "text": [
      " WARNING: FIR normalized: sum[coef]=9.767192E-01;     \n",
      " WARNING: FIR normalized: sum[coef]=9.767192E-01;     \n",
      " WARNING: FIR normalized: sum[coef]=9.767192E-01;     \n",
      " WARNING: FIR normalized: sum[coef]=9.767192E-01;     \n",
      " WARNING: FIR normalized: sum[coef]=9.767192E-01;     \n"
     ]
    },
    {
     "name": "stdout",
     "output_type": "stream",
     "text": [
      "[#####################                   ] | 53% Completed | 319.20 s"
     ]
    },
    {
     "name": "stderr",
     "output_type": "stream",
     "text": [
      " WARNING: FIR normalized: sum[coef]=9.767192E-01;     \n"
     ]
    },
    {
     "name": "stdout",
     "output_type": "stream",
     "text": [
      "[#####################                   ] | 53% Completed | 319.45 s"
     ]
    },
    {
     "name": "stderr",
     "output_type": "stream",
     "text": [
      " WARNING: FIR normalized: sum[coef]=9.767192E-01;     \n",
      " WARNING: FIR normalized: sum[coef]=9.767192E-01;     \n",
      " WARNING: FIR normalized: sum[coef]=9.767192E-01;     \n"
     ]
    },
    {
     "name": "stdout",
     "output_type": "stream",
     "text": [
      "[#####################                   ] | 53% Completed | 319.81 s"
     ]
    },
    {
     "name": "stderr",
     "output_type": "stream",
     "text": [
      " WARNING: FIR normalized: sum[coef]=9.767192E-01;     \n",
      " WARNING: FIR normalized: sum[coef]=9.767192E-01;     \n",
      " WARNING: FIR normalized: sum[coef]=9.767192E-01;     \n",
      " WARNING: FIR normalized: sum[coef]=9.767192E-01;     \n",
      " WARNING: FIR normalized: sum[coef]=9.767192E-01;     \n"
     ]
    },
    {
     "name": "stdout",
     "output_type": "stream",
     "text": [
      "[#####################                   ] | 53% Completed | 320.17 s"
     ]
    },
    {
     "name": "stderr",
     "output_type": "stream",
     "text": [
      " WARNING: FIR normalized: sum[coef]=9.767192E-01;     \n",
      " WARNING: FIR normalized: sum[coef]=9.767192E-01;     \n",
      " WARNING: FIR normalized: sum[coef]=9.767192E-01;     \n"
     ]
    },
    {
     "name": "stdout",
     "output_type": "stream",
     "text": [
      "[#####################                   ] | 53% Completed | 320.51 s"
     ]
    },
    {
     "name": "stderr",
     "output_type": "stream",
     "text": [
      " WARNING: FIR normalized: sum[coef]=9.767192E-01;     \n",
      " WARNING: FIR normalized: sum[coef]=9.767192E-01;     \n",
      " WARNING: FIR normalized: sum[coef]=9.767192E-01;     \n",
      " WARNING: FIR normalized: sum[coef]=9.767192E-01;     \n"
     ]
    },
    {
     "name": "stdout",
     "output_type": "stream",
     "text": [
      "[#####################                   ] | 53% Completed | 320.75 s"
     ]
    },
    {
     "name": "stderr",
     "output_type": "stream",
     "text": [
      " WARNING: FIR normalized: sum[coef]=9.767192E-01;     \n",
      " WARNING: FIR normalized: sum[coef]=9.767192E-01;     \n"
     ]
    },
    {
     "name": "stdout",
     "output_type": "stream",
     "text": [
      "[#####################                   ] | 53% Completed | 320.98 s"
     ]
    },
    {
     "name": "stderr",
     "output_type": "stream",
     "text": [
      " WARNING: FIR normalized: sum[coef]=9.767192E-01;     \n",
      " WARNING: FIR normalized: sum[coef]=9.767192E-01;     \n",
      " WARNING: FIR normalized: sum[coef]=9.767192E-01;     \n",
      " WARNING: FIR normalized: sum[coef]=9.767192E-01;     \n"
     ]
    },
    {
     "name": "stdout",
     "output_type": "stream",
     "text": [
      "[#####################                   ] | 53% Completed | 321.20 s"
     ]
    },
    {
     "name": "stderr",
     "output_type": "stream",
     "text": [
      " WARNING: FIR normalized: sum[coef]=9.767192E-01;     \n",
      " WARNING: FIR normalized: sum[coef]=9.767192E-01;     \n",
      " WARNING: FIR normalized: sum[coef]=9.767192E-01;     \n"
     ]
    },
    {
     "name": "stdout",
     "output_type": "stream",
     "text": [
      "[#####################                   ] | 53% Completed | 321.44 s"
     ]
    },
    {
     "name": "stderr",
     "output_type": "stream",
     "text": [
      " WARNING: FIR normalized: sum[coef]=9.767192E-01;     \n",
      " WARNING: FIR normalized: sum[coef]=9.767192E-01;     \n",
      " WARNING: FIR normalized: sum[coef]=9.767192E-01;     \n",
      " WARNING: FIR normalized: sum[coef]=9.767192E-01;     \n",
      " WARNING: FIR normalized: sum[coef]=9.767192E-01;     \n"
     ]
    },
    {
     "name": "stdout",
     "output_type": "stream",
     "text": [
      "[#####################                   ] | 54% Completed | 321.90 s"
     ]
    },
    {
     "name": "stderr",
     "output_type": "stream",
     "text": [
      " WARNING: FIR normalized: sum[coef]=9.767192E-01;     \n",
      " WARNING: FIR normalized: sum[coef]=9.767192E-01;     \n",
      " WARNING: FIR normalized: sum[coef]=9.767192E-01;     \n",
      " WARNING: FIR normalized: sum[coef]=9.767192E-01;     \n"
     ]
    },
    {
     "name": "stdout",
     "output_type": "stream",
     "text": [
      "[#####################                   ] | 54% Completed | 322.23 s"
     ]
    },
    {
     "name": "stderr",
     "output_type": "stream",
     "text": [
      " WARNING: FIR normalized: sum[coef]=9.767192E-01;     \n",
      " WARNING: FIR normalized: sum[coef]=9.767192E-01;     \n",
      " WARNING: FIR normalized: sum[coef]=9.767192E-01;     \n"
     ]
    },
    {
     "name": "stdout",
     "output_type": "stream",
     "text": [
      "[#####################                   ] | 54% Completed | 322.45 s"
     ]
    },
    {
     "name": "stderr",
     "output_type": "stream",
     "text": [
      " WARNING: FIR normalized: sum[coef]=9.767192E-01;     \n",
      " WARNING: FIR normalized: sum[coef]=9.767192E-01;     \n",
      " WARNING: FIR normalized: sum[coef]=9.767192E-01;     \n",
      " WARNING: FIR normalized: sum[coef]=9.767192E-01;     \n"
     ]
    },
    {
     "name": "stdout",
     "output_type": "stream",
     "text": [
      "[#####################                   ] | 54% Completed | 322.81 s"
     ]
    },
    {
     "name": "stderr",
     "output_type": "stream",
     "text": [
      " WARNING: FIR normalized: sum[coef]=9.767192E-01;     \n",
      " WARNING: FIR normalized: sum[coef]=9.767192E-01;     \n",
      " WARNING: FIR normalized: sum[coef]=9.767192E-01;     \n"
     ]
    },
    {
     "name": "stdout",
     "output_type": "stream",
     "text": [
      "[#####################                   ] | 54% Completed | 323.04 s"
     ]
    },
    {
     "name": "stderr",
     "output_type": "stream",
     "text": [
      " WARNING: FIR normalized: sum[coef]=9.767192E-01;     \n",
      " WARNING: FIR normalized: sum[coef]=9.767192E-01;     \n"
     ]
    },
    {
     "name": "stdout",
     "output_type": "stream",
     "text": [
      "[#####################                   ] | 54% Completed | 323.28 s"
     ]
    },
    {
     "name": "stderr",
     "output_type": "stream",
     "text": [
      " WARNING: FIR normalized: sum[coef]=9.767192E-01;     \n",
      " WARNING: FIR normalized: sum[coef]=9.767192E-01;     \n",
      " WARNING: FIR normalized: sum[coef]=9.767192E-01;     \n",
      " WARNING: FIR normalized: sum[coef]=9.767192E-01;     \n"
     ]
    },
    {
     "name": "stdout",
     "output_type": "stream",
     "text": [
      "[#####################                   ] | 54% Completed | 323.51 s"
     ]
    },
    {
     "name": "stderr",
     "output_type": "stream",
     "text": [
      " WARNING: FIR normalized: sum[coef]=9.767192E-01;     \n"
     ]
    },
    {
     "name": "stdout",
     "output_type": "stream",
     "text": [
      "[#####################                   ] | 54% Completed | 323.75 s"
     ]
    },
    {
     "name": "stderr",
     "output_type": "stream",
     "text": [
      " WARNING: FIR normalized: sum[coef]=9.767192E-01;     \n",
      " WARNING: FIR normalized: sum[coef]=9.767192E-01;     \n",
      " WARNING: FIR normalized: sum[coef]=9.767192E-01;     \n",
      " WARNING: FIR normalized: sum[coef]=9.767192E-01;     \n",
      " WARNING: FIR normalized: sum[coef]=9.767192E-01;     \n"
     ]
    },
    {
     "name": "stdout",
     "output_type": "stream",
     "text": [
      "[#####################                   ] | 54% Completed | 323.98 s"
     ]
    },
    {
     "name": "stderr",
     "output_type": "stream",
     "text": [
      " WARNING: FIR normalized: sum[coef]=9.767192E-01;     \n"
     ]
    },
    {
     "name": "stdout",
     "output_type": "stream",
     "text": [
      "[#####################                   ] | 54% Completed | 324.33 s"
     ]
    },
    {
     "name": "stderr",
     "output_type": "stream",
     "text": [
      " WARNING: FIR normalized: sum[coef]=9.767192E-01;     \n",
      " WARNING: FIR normalized: sum[coef]=9.767192E-01;     \n",
      " WARNING: FIR normalized: sum[coef]=9.767192E-01;     \n",
      " WARNING: FIR normalized: sum[coef]=9.767192E-01;     \n",
      " WARNING: FIR normalized: sum[coef]=9.767192E-01;     \n"
     ]
    },
    {
     "name": "stdout",
     "output_type": "stream",
     "text": [
      "[#####################                   ] | 54% Completed | 324.56 s"
     ]
    },
    {
     "name": "stderr",
     "output_type": "stream",
     "text": [
      " WARNING: FIR normalized: sum[coef]=9.767192E-01;     \n",
      " WARNING: FIR normalized: sum[coef]=9.767192E-01;     \n",
      " WARNING: FIR normalized: sum[coef]=9.767192E-01;     \n"
     ]
    },
    {
     "name": "stdout",
     "output_type": "stream",
     "text": [
      "[#####################                   ] | 54% Completed | 324.88 s"
     ]
    },
    {
     "name": "stderr",
     "output_type": "stream",
     "text": [
      " WARNING: FIR normalized: sum[coef]=9.767192E-01;     \n",
      " WARNING: FIR normalized: sum[coef]=9.767192E-01;     \n",
      " WARNING: FIR normalized: sum[coef]=9.767192E-01;     \n"
     ]
    },
    {
     "name": "stdout",
     "output_type": "stream",
     "text": [
      "[#####################                   ] | 54% Completed | 325.10 s"
     ]
    },
    {
     "name": "stderr",
     "output_type": "stream",
     "text": [
      " WARNING: FIR normalized: sum[coef]=9.767192E-01;     \n",
      " WARNING: FIR normalized: sum[coef]=9.767192E-01;     \n"
     ]
    },
    {
     "name": "stdout",
     "output_type": "stream",
     "text": [
      "[#####################                   ] | 54% Completed | 325.44 s"
     ]
    },
    {
     "name": "stderr",
     "output_type": "stream",
     "text": [
      " WARNING: FIR normalized: sum[coef]=9.767192E-01;     \n",
      " WARNING: FIR normalized: sum[coef]=9.767192E-01;     \n"
     ]
    },
    {
     "name": "stdout",
     "output_type": "stream",
     "text": [
      "[######################                  ] | 55% Completed | 325.69 s"
     ]
    },
    {
     "name": "stderr",
     "output_type": "stream",
     "text": [
      " WARNING: FIR normalized: sum[coef]=9.767192E-01;     \n",
      " WARNING: FIR normalized: sum[coef]=9.767192E-01;     \n",
      " WARNING: FIR normalized: sum[coef]=9.767192E-01;     \n"
     ]
    },
    {
     "name": "stdout",
     "output_type": "stream",
     "text": [
      "[######################                  ] | 55% Completed | 326.03 s"
     ]
    },
    {
     "name": "stderr",
     "output_type": "stream",
     "text": [
      " WARNING: FIR normalized: sum[coef]=9.767192E-01;     \n",
      " WARNING: FIR normalized: sum[coef]=9.767192E-01;     \n"
     ]
    },
    {
     "name": "stdout",
     "output_type": "stream",
     "text": [
      "[######################                  ] | 55% Completed | 326.37 s"
     ]
    },
    {
     "name": "stderr",
     "output_type": "stream",
     "text": [
      " WARNING: FIR normalized: sum[coef]=9.767192E-01;     \n",
      " WARNING: FIR normalized: sum[coef]=9.767192E-01;     \n",
      " WARNING: FIR normalized: sum[coef]=9.767192E-01;     \n"
     ]
    },
    {
     "name": "stdout",
     "output_type": "stream",
     "text": [
      "[######################                  ] | 55% Completed | 326.75 s"
     ]
    },
    {
     "name": "stderr",
     "output_type": "stream",
     "text": [
      " WARNING: FIR normalized: sum[coef]=9.767192E-01;     \n",
      " WARNING: FIR normalized: sum[coef]=9.767192E-01;     \n"
     ]
    },
    {
     "name": "stdout",
     "output_type": "stream",
     "text": [
      "[######################                  ] | 55% Completed | 327.10 s"
     ]
    },
    {
     "name": "stderr",
     "output_type": "stream",
     "text": [
      " WARNING: FIR normalized: sum[coef]=9.767192E-01;     \n",
      " WARNING: FIR normalized: sum[coef]=9.767192E-01;     \n"
     ]
    },
    {
     "name": "stdout",
     "output_type": "stream",
     "text": [
      "[######################                  ] | 55% Completed | 327.32 s"
     ]
    },
    {
     "name": "stderr",
     "output_type": "stream",
     "text": [
      " WARNING: FIR normalized: sum[coef]=9.767192E-01;     \n",
      " WARNING: FIR normalized: sum[coef]=9.767192E-01;     \n"
     ]
    },
    {
     "name": "stdout",
     "output_type": "stream",
     "text": [
      "[######################                  ] | 55% Completed | 327.66 s"
     ]
    },
    {
     "name": "stderr",
     "output_type": "stream",
     "text": [
      " WARNING: FIR normalized: sum[coef]=9.767192E-01;     \n",
      " WARNING: FIR normalized: sum[coef]=9.767192E-01;     \n",
      " WARNING: FIR normalized: sum[coef]=9.767192E-01;     \n"
     ]
    },
    {
     "name": "stdout",
     "output_type": "stream",
     "text": [
      "[######################                  ] | 55% Completed | 328.00 s"
     ]
    },
    {
     "name": "stderr",
     "output_type": "stream",
     "text": [
      " WARNING: FIR normalized: sum[coef]=9.767192E-01;     \n",
      " WARNING: FIR normalized: sum[coef]=9.767192E-01;     \n"
     ]
    },
    {
     "name": "stdout",
     "output_type": "stream",
     "text": [
      "[######################                  ] | 55% Completed | 328.23 s"
     ]
    },
    {
     "name": "stderr",
     "output_type": "stream",
     "text": [
      " WARNING: FIR normalized: sum[coef]=9.767192E-01;     \n",
      " WARNING: FIR normalized: sum[coef]=9.767192E-01;     \n",
      " WARNING: FIR normalized: sum[coef]=9.767192E-01;     \n"
     ]
    },
    {
     "name": "stdout",
     "output_type": "stream",
     "text": [
      "[######################                  ] | 55% Completed | 328.67 s"
     ]
    },
    {
     "name": "stderr",
     "output_type": "stream",
     "text": [
      " WARNING: FIR normalized: sum[coef]=9.767192E-01;     \n",
      " WARNING: FIR normalized: sum[coef]=9.767192E-01;     \n",
      " WARNING: FIR normalized: sum[coef]=9.767192E-01; "
     ]
    },
    {
     "name": "stdout",
     "output_type": "stream",
     "text": [
      "[######################                  ] | 55% Completed | 328.90 s"
     ]
    },
    {
     "name": "stderr",
     "output_type": "stream",
     "text": [
      "    \n",
      " WARNING: FIR normalized: sum[coef]=9.767192E-01;     \n"
     ]
    },
    {
     "name": "stdout",
     "output_type": "stream",
     "text": [
      "[######################                  ] | 55% Completed | 329.47 s"
     ]
    },
    {
     "name": "stderr",
     "output_type": "stream",
     "text": [
      " WARNING: FIR normalized: sum[coef]=9.767192E-01;     \n",
      " WARNING: FIR normalized: sum[coef]=9.767192E-01;     \n"
     ]
    },
    {
     "name": "stdout",
     "output_type": "stream",
     "text": [
      "[######################                  ] | 55% Completed | 329.71 s"
     ]
    },
    {
     "name": "stderr",
     "output_type": "stream",
     "text": [
      " WARNING: FIR normalized: sum[coef]=9.767192E-01;     \n",
      " WARNING: FIR normalized: sum[coef]=9.767192E-01;     \n"
     ]
    },
    {
     "name": "stdout",
     "output_type": "stream",
     "text": [
      "[######################                  ] | 55% Completed | 330.16 s"
     ]
    },
    {
     "name": "stderr",
     "output_type": "stream",
     "text": [
      " WARNING: FIR normalized: sum[coef]=9.767192E-01;     \n",
      " WARNING: FIR normalized: sum[coef]=9.767192E-01;     \n"
     ]
    },
    {
     "name": "stdout",
     "output_type": "stream",
     "text": [
      "[######################                  ] | 55% Completed | 330.38 s"
     ]
    },
    {
     "name": "stderr",
     "output_type": "stream",
     "text": [
      " WARNING: FIR normalized: sum[coef]=9.767192E-01;     \n"
     ]
    },
    {
     "name": "stdout",
     "output_type": "stream",
     "text": [
      "[######################                  ] | 55% Completed | 330.75 s"
     ]
    },
    {
     "name": "stderr",
     "output_type": "stream",
     "text": [
      " WARNING: FIR normalized: sum[coef]=9.767192E-01;     \n",
      " WARNING: FIR normalized: sum[coef]=9.767192E-01;     \n",
      " WARNING: FIR normalized: sum[coef]=9.767192E-01;     \n"
     ]
    },
    {
     "name": "stdout",
     "output_type": "stream",
     "text": [
      "[######################                  ] | 55% Completed | 330.97 s"
     ]
    },
    {
     "name": "stderr",
     "output_type": "stream",
     "text": [
      " WARNING: FIR normalized: sum[coef]=9.767192E-01;     \n"
     ]
    },
    {
     "name": "stdout",
     "output_type": "stream",
     "text": [
      "[######################                  ] | 55% Completed | 331.32 s"
     ]
    },
    {
     "name": "stderr",
     "output_type": "stream",
     "text": [
      " WARNING: FIR normalized: sum[coef]=9.767192E-01;     \n",
      " WARNING: FIR normalized: sum[coef]=9.767192E-01;     \n"
     ]
    },
    {
     "name": "stdout",
     "output_type": "stream",
     "text": [
      "[######################                  ] | 55% Completed | 331.56 s"
     ]
    },
    {
     "name": "stderr",
     "output_type": "stream",
     "text": [
      " WARNING: FIR normalized: sum[coef]=9.767192E-01;     \n",
      " WARNING: FIR normalized: sum[coef]=9.767192E-01;     \n"
     ]
    },
    {
     "name": "stdout",
     "output_type": "stream",
     "text": [
      "[######################                  ] | 55% Completed | 332.02 s"
     ]
    },
    {
     "name": "stderr",
     "output_type": "stream",
     "text": [
      " WARNING: FIR normalized: sum[coef]=9.767192E-01;     \n",
      " WARNING: FIR normalized: sum[coef]=9.767192E-01;     \n"
     ]
    },
    {
     "name": "stdout",
     "output_type": "stream",
     "text": [
      "[######################                  ] | 55% Completed | 332.24 s"
     ]
    },
    {
     "name": "stderr",
     "output_type": "stream",
     "text": [
      " WARNING: FIR normalized: sum[coef]=9.767192E-01;     \n"
     ]
    },
    {
     "name": "stdout",
     "output_type": "stream",
     "text": [
      "[######################                  ] | 56% Completed | 332.47 s"
     ]
    },
    {
     "name": "stderr",
     "output_type": "stream",
     "text": [
      " WARNING: FIR normalized: sum[coef]=9.767192E-01;     \n",
      " WARNING: FIR normalized: sum[coef]=9.767192E-01;     \n"
     ]
    },
    {
     "name": "stdout",
     "output_type": "stream",
     "text": [
      "[######################                  ] | 56% Completed | 332.81 s"
     ]
    },
    {
     "name": "stderr",
     "output_type": "stream",
     "text": [
      " WARNING: FIR normalized: sum[coef]=9.767192E-01;     \n"
     ]
    },
    {
     "name": "stdout",
     "output_type": "stream",
     "text": [
      "[######################                  ] | 56% Completed | 333.14 s"
     ]
    },
    {
     "name": "stderr",
     "output_type": "stream",
     "text": [
      " WARNING: FIR normalized: sum[coef]=9.767192E-01;     \n",
      " WARNING: FIR normalized: sum[coef]=9.767192E-01;     \n"
     ]
    },
    {
     "name": "stdout",
     "output_type": "stream",
     "text": [
      "[######################                  ] | 56% Completed | 333.37 s"
     ]
    },
    {
     "name": "stderr",
     "output_type": "stream",
     "text": [
      " WARNING: FIR normalized: sum[coef]=9.767192E-01;     \n"
     ]
    },
    {
     "name": "stdout",
     "output_type": "stream",
     "text": [
      "[######################                  ] | 56% Completed | 333.84 s"
     ]
    },
    {
     "name": "stderr",
     "output_type": "stream",
     "text": [
      " WARNING: FIR normalized: sum[coef]=9.767192E-01;     \n",
      " WARNING: FIR normalized: sum[coef]=9.767192E-01;     \n"
     ]
    },
    {
     "name": "stdout",
     "output_type": "stream",
     "text": [
      "[######################                  ] | 56% Completed | 334.29 s"
     ]
    },
    {
     "name": "stderr",
     "output_type": "stream",
     "text": [
      " WARNING: FIR normalized: sum[coef]=9.767192E-01;     \n",
      " WARNING: FIR normalized: sum[coef]=9.767192E-01;     \n"
     ]
    },
    {
     "name": "stdout",
     "output_type": "stream",
     "text": [
      "[######################                  ] | 56% Completed | 334.54 s"
     ]
    },
    {
     "name": "stderr",
     "output_type": "stream",
     "text": [
      " WARNING: FIR normalized: sum[coef]=9.767192E-01;     \n"
     ]
    },
    {
     "name": "stdout",
     "output_type": "stream",
     "text": [
      "[######################                  ] | 56% Completed | 334.98 s"
     ]
    },
    {
     "name": "stderr",
     "output_type": "stream",
     "text": [
      " WARNING: FIR normalized: sum[coef]=9.767192E-01;     \n"
     ]
    },
    {
     "name": "stdout",
     "output_type": "stream",
     "text": [
      "[######################                  ] | 56% Completed | 335.21 s"
     ]
    },
    {
     "name": "stderr",
     "output_type": "stream",
     "text": [
      " WARNING: FIR normalized: sum[coef]=9.767192E-01;     \n",
      " WARNING: FIR normalized: sum[coef]=9.767192E-01;     \n"
     ]
    },
    {
     "name": "stdout",
     "output_type": "stream",
     "text": [
      "[######################                  ] | 56% Completed | 335.56 s"
     ]
    },
    {
     "name": "stderr",
     "output_type": "stream",
     "text": [
      " WARNING: FIR normalized: sum[coef]=9.767192E-01;     \n"
     ]
    },
    {
     "name": "stdout",
     "output_type": "stream",
     "text": [
      "[######################                  ] | 56% Completed | 335.93 s"
     ]
    },
    {
     "name": "stderr",
     "output_type": "stream",
     "text": [
      " WARNING: FIR normalized: sum[coef]=9.767192E-01;     \n",
      " WARNING: FIR normalized: sum[coef]=9.767192E-01;     \n"
     ]
    },
    {
     "name": "stdout",
     "output_type": "stream",
     "text": [
      "[######################                  ] | 56% Completed | 336.75 s"
     ]
    },
    {
     "name": "stderr",
     "output_type": "stream",
     "text": [
      " WARNING: FIR normalized: sum[coef]=9.767192E-01;     \n",
      " WARNING: FIR normalized: sum[coef]=9.767192E-01;     \n"
     ]
    },
    {
     "name": "stdout",
     "output_type": "stream",
     "text": [
      "[######################                  ] | 56% Completed | 337.46 s"
     ]
    },
    {
     "name": "stderr",
     "output_type": "stream",
     "text": [
      " WARNING: FIR normalized: sum[coef]=9.767192E-01;     \n"
     ]
    },
    {
     "name": "stdout",
     "output_type": "stream",
     "text": [
      "[######################                  ] | 56% Completed | 337.91 s"
     ]
    },
    {
     "name": "stderr",
     "output_type": "stream",
     "text": [
      " WARNING: FIR normalized: sum[coef]=9.767192E-01;     \n"
     ]
    },
    {
     "name": "stdout",
     "output_type": "stream",
     "text": [
      "[######################                  ] | 56% Completed | 338.83 s"
     ]
    },
    {
     "name": "stderr",
     "output_type": "stream",
     "text": [
      " WARNING: FIR normalized: sum[coef]=9.767192E-01;     \n"
     ]
    },
    {
     "name": "stdout",
     "output_type": "stream",
     "text": [
      "[######################                  ] | 56% Completed | 339.62 s"
     ]
    },
    {
     "name": "stderr",
     "output_type": "stream",
     "text": [
      " WARNING: FIR normalized: sum[coef]=9.767192E-01;     \n"
     ]
    },
    {
     "name": "stdout",
     "output_type": "stream",
     "text": [
      "[######################                  ] | 56% Completed | 340.42 s"
     ]
    },
    {
     "name": "stderr",
     "output_type": "stream",
     "text": [
      " WARNING: FIR normalized: sum[coef]=9.767192E-01;     \n"
     ]
    },
    {
     "name": "stdout",
     "output_type": "stream",
     "text": [
      "[######################                  ] | 56% Completed | 341.09 s"
     ]
    },
    {
     "name": "stderr",
     "output_type": "stream",
     "text": [
      " WARNING: FIR normalized: sum[coef]=9.767192E-01;     \n"
     ]
    },
    {
     "name": "stdout",
     "output_type": "stream",
     "text": [
      "[######################                  ] | 56% Completed | 341.66 s"
     ]
    },
    {
     "name": "stderr",
     "output_type": "stream",
     "text": [
      " WARNING: FIR normalized: sum[coef]=9.767192E-01;     \n"
     ]
    },
    {
     "name": "stdout",
     "output_type": "stream",
     "text": [
      "[######################                  ] | 56% Completed | 342.34 s"
     ]
    },
    {
     "name": "stderr",
     "output_type": "stream",
     "text": [
      " WARNING: FIR normalized: sum[coef]=9.767192E-01;     \n"
     ]
    },
    {
     "name": "stdout",
     "output_type": "stream",
     "text": [
      "[######################                  ] | 56% Completed | 343.03 s"
     ]
    },
    {
     "name": "stderr",
     "output_type": "stream",
     "text": [
      " WARNING: FIR normalized: sum[coef]=9.767192E-01;     \n"
     ]
    },
    {
     "name": "stdout",
     "output_type": "stream",
     "text": [
      "[######################                  ] | 56% Completed | 343.82 s"
     ]
    },
    {
     "name": "stderr",
     "output_type": "stream",
     "text": [
      " WARNING: FIR normalized: sum[coef]=9.767192E-01;     \n"
     ]
    },
    {
     "name": "stdout",
     "output_type": "stream",
     "text": [
      "[######################                  ] | 56% Completed | 344.62 s"
     ]
    },
    {
     "name": "stderr",
     "output_type": "stream",
     "text": [
      " WARNING: FIR normalized: sum[coef]=9.767192E-01;     \n"
     ]
    },
    {
     "name": "stdout",
     "output_type": "stream",
     "text": [
      "[######################                  ] | 56% Completed | 345.53 s"
     ]
    },
    {
     "name": "stderr",
     "output_type": "stream",
     "text": [
      " WARNING: FIR normalized: sum[coef]=9.767192E-01;     \n"
     ]
    },
    {
     "name": "stdout",
     "output_type": "stream",
     "text": [
      "[######################                  ] | 56% Completed | 346.11 s"
     ]
    },
    {
     "name": "stderr",
     "output_type": "stream",
     "text": [
      " WARNING: FIR normalized: sum[coef]=9.767192E-01;     \n",
      " WARNING: FIR normalized: sum[coef]=9.767192E-01;     \n"
     ]
    },
    {
     "name": "stdout",
     "output_type": "stream",
     "text": [
      "[######################                  ] | 56% Completed | 346.79 s"
     ]
    },
    {
     "name": "stderr",
     "output_type": "stream",
     "text": [
      " WARNING: FIR normalized: sum[coef]=9.767192E-01;     \n"
     ]
    },
    {
     "name": "stdout",
     "output_type": "stream",
     "text": [
      "[######################                  ] | 56% Completed | 347.03 s"
     ]
    },
    {
     "name": "stderr",
     "output_type": "stream",
     "text": [
      " WARNING: FIR normalized: sum[coef]=9.767192E-01;     \n"
     ]
    },
    {
     "name": "stdout",
     "output_type": "stream",
     "text": [
      "[######################                  ] | 56% Completed | 347.49 s"
     ]
    },
    {
     "name": "stderr",
     "output_type": "stream",
     "text": [
      " WARNING: FIR normalized: sum[coef]=9.767192E-01;     \n"
     ]
    },
    {
     "name": "stdout",
     "output_type": "stream",
     "text": [
      "[######################                  ] | 56% Completed | 347.83 s"
     ]
    },
    {
     "name": "stderr",
     "output_type": "stream",
     "text": [
      " WARNING: FIR normalized: sum[coef]=9.767192E-01;     \n"
     ]
    },
    {
     "name": "stdout",
     "output_type": "stream",
     "text": [
      "[######################                  ] | 56% Completed | 348.29 s"
     ]
    },
    {
     "name": "stderr",
     "output_type": "stream",
     "text": [
      " WARNING: FIR normalized: sum[coef]=9.767192E-01;     \n"
     ]
    },
    {
     "name": "stdout",
     "output_type": "stream",
     "text": [
      "[######################                  ] | 56% Completed | 348.53 s"
     ]
    },
    {
     "name": "stderr",
     "output_type": "stream",
     "text": [
      " WARNING: FIR normalized: sum[coef]=9.767192E-01;     \n"
     ]
    },
    {
     "name": "stdout",
     "output_type": "stream",
     "text": [
      "[######################                  ] | 56% Completed | 349.10 s"
     ]
    },
    {
     "name": "stderr",
     "output_type": "stream",
     "text": [
      " WARNING: FIR normalized: sum[coef]=9.767192E-01;     \n",
      " WARNING: FIR normalized: sum[coef]=9.767192E-01;     \n"
     ]
    },
    {
     "name": "stdout",
     "output_type": "stream",
     "text": [
      "[######################                  ] | 57% Completed | 349.79 s"
     ]
    },
    {
     "name": "stderr",
     "output_type": "stream",
     "text": [
      " WARNING: FIR normalized: sum[coef]=9.767192E-01;     \n",
      " WARNING: FIR normalized: sum[coef]=9.767192E-01;     \n"
     ]
    },
    {
     "name": "stdout",
     "output_type": "stream",
     "text": [
      "[######################                  ] | 57% Completed | 350.50 s"
     ]
    },
    {
     "name": "stderr",
     "output_type": "stream",
     "text": [
      " WARNING: FIR normalized: sum[coef]=9.767192E-01;     \n",
      " WARNING: FIR normalized: sum[coef]=9.767192E-01;     \n"
     ]
    },
    {
     "name": "stdout",
     "output_type": "stream",
     "text": [
      "[######################                  ] | 57% Completed | 351.21 s"
     ]
    },
    {
     "name": "stderr",
     "output_type": "stream",
     "text": [
      " WARNING: FIR normalized: sum[coef]=9.767192E-01;     \n",
      " WARNING: FIR normalized: sum[coef]=9.767192E-01;     \n"
     ]
    },
    {
     "name": "stdout",
     "output_type": "stream",
     "text": [
      "[######################                  ] | 57% Completed | 351.93 s"
     ]
    },
    {
     "name": "stderr",
     "output_type": "stream",
     "text": [
      " WARNING: FIR normalized: sum[coef]=9.767192E-01;     \n",
      " WARNING: FIR normalized: sum[coef]=9.767192E-01;     \n"
     ]
    },
    {
     "name": "stdout",
     "output_type": "stream",
     "text": [
      "[######################                  ] | 57% Completed | 352.51 s"
     ]
    },
    {
     "name": "stderr",
     "output_type": "stream",
     "text": [
      " WARNING: FIR normalized: sum[coef]=9.767192E-01;     \n",
      " WARNING: FIR normalized: sum[coef]=9.767192E-01;     \n"
     ]
    },
    {
     "name": "stdout",
     "output_type": "stream",
     "text": [
      "[######################                  ] | 57% Completed | 352.98 s"
     ]
    },
    {
     "name": "stderr",
     "output_type": "stream",
     "text": [
      " WARNING: FIR normalized: sum[coef]=9.767192E-01;     \n",
      " WARNING: FIR normalized: sum[coef]=9.767192E-01;     \n"
     ]
    },
    {
     "name": "stdout",
     "output_type": "stream",
     "text": [
      "[######################                  ] | 57% Completed | 353.81 s"
     ]
    },
    {
     "name": "stderr",
     "output_type": "stream",
     "text": [
      " WARNING: FIR normalized: sum[coef]=9.767192E-01;     \n",
      " WARNING: FIR normalized: sum[coef]=9.767192E-01;     \n",
      " WARNING: FIR normalized: sum[coef]=9.767192E-01;     \n"
     ]
    },
    {
     "name": "stdout",
     "output_type": "stream",
     "text": [
      "[######################                  ] | 57% Completed | 354.48 s"
     ]
    },
    {
     "name": "stderr",
     "output_type": "stream",
     "text": [
      " WARNING: FIR normalized: sum[coef]=9.767192E-01;     \n",
      " WARNING: FIR normalized: sum[coef]=9.767192E-01;     \n",
      " WARNING: FIR normalized: sum[coef]=9.767192E-01;     \n"
     ]
    },
    {
     "name": "stdout",
     "output_type": "stream",
     "text": [
      "[######################                  ] | 57% Completed | 354.94 s"
     ]
    },
    {
     "name": "stderr",
     "output_type": "stream",
     "text": [
      " WARNING: FIR normalized: sum[coef]=9.767192E-01;     \n"
     ]
    },
    {
     "name": "stdout",
     "output_type": "stream",
     "text": [
      "[######################                  ] | 57% Completed | 355.27 s"
     ]
    },
    {
     "name": "stderr",
     "output_type": "stream",
     "text": [
      " WARNING: FIR normalized: sum[coef]=9.767192E-01;     \n",
      " WARNING: FIR normalized: sum[coef]=9.767192E-01;     \n"
     ]
    },
    {
     "name": "stdout",
     "output_type": "stream",
     "text": [
      "[######################                  ] | 57% Completed | 355.50 s"
     ]
    },
    {
     "name": "stderr",
     "output_type": "stream",
     "text": [
      " WARNING: FIR normalized: sum[coef]=9.767192E-01;     \n"
     ]
    },
    {
     "name": "stdout",
     "output_type": "stream",
     "text": [
      "[######################                  ] | 57% Completed | 356.07 s"
     ]
    },
    {
     "name": "stderr",
     "output_type": "stream",
     "text": [
      " WARNING: FIR normalized: sum[coef]=9.767192E-01;     \n",
      " WARNING: FIR normalized: sum[coef]=9.767192E-01;     \n"
     ]
    },
    {
     "name": "stdout",
     "output_type": "stream",
     "text": [
      "[######################                  ] | 57% Completed | 356.30 s"
     ]
    },
    {
     "name": "stderr",
     "output_type": "stream",
     "text": [
      " WARNING: FIR normalized: sum[coef]=9.767192E-01;     \n"
     ]
    },
    {
     "name": "stdout",
     "output_type": "stream",
     "text": [
      "[######################                  ] | 57% Completed | 356.87 s"
     ]
    },
    {
     "name": "stderr",
     "output_type": "stream",
     "text": [
      " WARNING: FIR normalized: sum[coef]=9.767192E-01;     \n",
      " WARNING: FIR normalized: sum[coef]=9.767192E-01;     \n"
     ]
    },
    {
     "name": "stdout",
     "output_type": "stream",
     "text": [
      "[######################                  ] | 57% Completed | 357.23 s"
     ]
    },
    {
     "name": "stderr",
     "output_type": "stream",
     "text": [
      " WARNING: FIR normalized: sum[coef]=9.767192E-01;     \n",
      " WARNING: FIR normalized: sum[coef]=9.767192E-01;     \n"
     ]
    },
    {
     "name": "stdout",
     "output_type": "stream",
     "text": [
      "[######################                  ] | 57% Completed | 357.48 s"
     ]
    },
    {
     "name": "stderr",
     "output_type": "stream",
     "text": [
      " WARNING: FIR normalized: sum[coef]=9.767192E-01;     \n",
      " WARNING: FIR normalized: sum[coef]=9.767192E-01;     \n"
     ]
    },
    {
     "name": "stdout",
     "output_type": "stream",
     "text": [
      "[######################                  ] | 57% Completed | 357.82 s"
     ]
    },
    {
     "name": "stderr",
     "output_type": "stream",
     "text": [
      " WARNING: FIR normalized: sum[coef]=9.767192E-01;     \n",
      " WARNING: FIR normalized: sum[coef]=9.767192E-01;     \n",
      " WARNING: FIR normalized: sum[coef]=9.767192E-01;     \n"
     ]
    },
    {
     "name": "stdout",
     "output_type": "stream",
     "text": [
      "[######################                  ] | 57% Completed | 358.43 s"
     ]
    },
    {
     "name": "stderr",
     "output_type": "stream",
     "text": [
      " WARNING: FIR normalized: sum[coef]=9.767192E-01;     \n",
      " WARNING: FIR normalized: sum[coef]=9.767192E-01;     \n"
     ]
    },
    {
     "name": "stdout",
     "output_type": "stream",
     "text": [
      "[######################                  ] | 57% Completed | 358.65 s"
     ]
    },
    {
     "name": "stderr",
     "output_type": "stream",
     "text": [
      " WARNING: FIR normalized: sum[coef]=9.767192E-01;     \n",
      " WARNING: FIR normalized: sum[coef]=9.767192E-01;     \n"
     ]
    },
    {
     "name": "stdout",
     "output_type": "stream",
     "text": [
      "[######################                  ] | 57% Completed | 358.89 s"
     ]
    },
    {
     "name": "stderr",
     "output_type": "stream",
     "text": [
      " WARNING: FIR normalized: sum[coef]=9.767192E-01;     \n",
      " WARNING: FIR normalized: sum[coef]=9.767192E-01;     \n"
     ]
    },
    {
     "name": "stdout",
     "output_type": "stream",
     "text": [
      "[######################                  ] | 57% Completed | 359.48 s"
     ]
    },
    {
     "name": "stderr",
     "output_type": "stream",
     "text": [
      " WARNING: FIR normalized: sum[coef]=9.767192E-01;     \n",
      " WARNING: FIR normalized: sum[coef]=9.767192E-01;     \n",
      " WARNING: FIR normalized: sum[coef]=9.767192E-01;     \n",
      " WARNING: FIR normalized: sum[coef]=9.767192E-01;     \n"
     ]
    },
    {
     "name": "stdout",
     "output_type": "stream",
     "text": [
      "[######################                  ] | 57% Completed | 359.84 s"
     ]
    },
    {
     "name": "stderr",
     "output_type": "stream",
     "text": [
      " WARNING: FIR normalized: sum[coef]=9.767192E-01;     \n"
     ]
    },
    {
     "name": "stdout",
     "output_type": "stream",
     "text": [
      "[######################                  ] | 57% Completed | 360.17 s"
     ]
    },
    {
     "name": "stderr",
     "output_type": "stream",
     "text": [
      " WARNING: FIR normalized: sum[coef]=9.767192E-01;     \n",
      " WARNING: FIR normalized: sum[coef]=9.767192E-01;     \n",
      " WARNING: FIR normalized: sum[coef]=9.767192E-01;     \n"
     ]
    },
    {
     "name": "stdout",
     "output_type": "stream",
     "text": [
      "[######################                  ] | 57% Completed | 360.39 s"
     ]
    },
    {
     "name": "stderr",
     "output_type": "stream",
     "text": [
      " WARNING: FIR normalized: sum[coef]=9.767192E-01;     \n",
      " WARNING: FIR normalized: sum[coef]=9.767192E-01;     \n"
     ]
    },
    {
     "name": "stdout",
     "output_type": "stream",
     "text": [
      "[######################                  ] | 57% Completed | 360.86 s"
     ]
    },
    {
     "name": "stderr",
     "output_type": "stream",
     "text": [
      " WARNING: FIR normalized: sum[coef]=9.767192E-01;     \n",
      " WARNING: FIR normalized: sum[coef]=9.767192E-01;     \n"
     ]
    },
    {
     "name": "stdout",
     "output_type": "stream",
     "text": [
      "[######################                  ] | 57% Completed | 361.20 s"
     ]
    },
    {
     "name": "stderr",
     "output_type": "stream",
     "text": [
      " WARNING: FIR normalized: sum[coef]=9.767192E-01;     \n",
      " WARNING: FIR normalized: sum[coef]=9.767192E-01;     \n",
      " WARNING: FIR normalized: sum[coef]=9.767192E-01;     \n"
     ]
    },
    {
     "name": "stdout",
     "output_type": "stream",
     "text": [
      "[######################                  ] | 57% Completed | 361.54 s"
     ]
    },
    {
     "name": "stderr",
     "output_type": "stream",
     "text": [
      " WARNING: FIR normalized: sum[coef]=9.767192E-01;     \n",
      " WARNING: FIR normalized: sum[coef]=9.767192E-01;     \n"
     ]
    },
    {
     "name": "stdout",
     "output_type": "stream",
     "text": [
      "[######################                  ] | 57% Completed | 362.00 s"
     ]
    },
    {
     "name": "stderr",
     "output_type": "stream",
     "text": [
      " WARNING: FIR normalized: sum[coef]=9.767192E-01;     \n",
      " WARNING: FIR normalized: sum[coef]=9.767192E-01;     \n"
     ]
    },
    {
     "name": "stdout",
     "output_type": "stream",
     "text": [
      "[######################                  ] | 57% Completed | 362.11 s"
     ]
    },
    {
     "name": "stderr",
     "output_type": "stream",
     "text": [
      " WARNING: FIR normalized: sum[coef]=9.767192E-01;     \n",
      " WARNING: FIR normalized: sum[coef]=9.767192E-01;     \n"
     ]
    },
    {
     "name": "stdout",
     "output_type": "stream",
     "text": [
      "[######################                  ] | 57% Completed | 362.48 s"
     ]
    },
    {
     "name": "stderr",
     "output_type": "stream",
     "text": [
      " WARNING: FIR normalized: sum[coef]=9.767192E-01;     \n"
     ]
    },
    {
     "name": "stdout",
     "output_type": "stream",
     "text": [
      "[######################                  ] | 57% Completed | 362.59 s"
     ]
    },
    {
     "name": "stderr",
     "output_type": "stream",
     "text": [
      " WARNING: FIR normalized: sum[coef]=9.767192E-01;     \n",
      " WARNING: FIR normalized: sum[coef]=9.767192E-01;     \n",
      " WARNING: FIR normalized: sum[coef]=9.767192E-01;     \n"
     ]
    },
    {
     "name": "stdout",
     "output_type": "stream",
     "text": [
      "[######################                  ] | 57% Completed | 363.04 s"
     ]
    },
    {
     "name": "stderr",
     "output_type": "stream",
     "text": [
      " WARNING: FIR normalized: sum[coef]=9.767192E-01;     \n"
     ]
    },
    {
     "name": "stdout",
     "output_type": "stream",
     "text": [
      "[######################                  ] | 57% Completed | 363.27 s"
     ]
    },
    {
     "name": "stderr",
     "output_type": "stream",
     "text": [
      " WARNING: FIR normalized: sum[coef]=9.767192E-01;     \n",
      " WARNING: FIR normalized: sum[coef]=9.767192E-01;     \n"
     ]
    },
    {
     "name": "stdout",
     "output_type": "stream",
     "text": [
      "[######################                  ] | 57% Completed | 363.52 s"
     ]
    },
    {
     "name": "stderr",
     "output_type": "stream",
     "text": [
      " WARNING: FIR normalized: sum[coef]=9.767192E-01;     \n",
      " WARNING: FIR normalized: sum[coef]=9.767192E-01;     \n",
      " WARNING: FIR normalized: sum[coef]=9.767192E-01;     \n",
      " WARNING: FIR normalized: sum[coef]=9.767192E-01;     \n"
     ]
    },
    {
     "name": "stdout",
     "output_type": "stream",
     "text": [
      "[######################                  ] | 57% Completed | 364.01 s"
     ]
    },
    {
     "name": "stderr",
     "output_type": "stream",
     "text": [
      " WARNING: FIR normalized: sum[coef]=9.767192E-01;     \n",
      " WARNING: FIR normalized: sum[coef]=9.767192E-01;     \n",
      " WARNING: FIR normalized: sum[coef]=9.767192E-01;     \n"
     ]
    },
    {
     "name": "stdout",
     "output_type": "stream",
     "text": [
      "[######################                  ] | 57% Completed | 364.36 s"
     ]
    },
    {
     "name": "stderr",
     "output_type": "stream",
     "text": [
      " WARNING: FIR normalized: sum[coef]=9.767192E-01;     \n",
      " WARNING: FIR normalized: sum[coef]=9.767192E-01;     \n",
      " WARNING: FIR normalized: sum[coef]=9.767192E-01;     \n"
     ]
    },
    {
     "name": "stdout",
     "output_type": "stream",
     "text": [
      "[######################                  ] | 57% Completed | 364.59 s"
     ]
    },
    {
     "name": "stderr",
     "output_type": "stream",
     "text": [
      " WARNING: FIR normalized: sum[coef]=9.767192E-01;     \n",
      " WARNING: FIR normalized: sum[coef]=9.767192E-01;     \n"
     ]
    },
    {
     "name": "stdout",
     "output_type": "stream",
     "text": [
      "[######################                  ] | 57% Completed | 364.95 s"
     ]
    },
    {
     "name": "stderr",
     "output_type": "stream",
     "text": [
      " WARNING: FIR normalized: sum[coef]=9.767192E-01;     \n",
      " WARNING: FIR normalized: sum[coef]=9.767192E-01;     \n"
     ]
    },
    {
     "name": "stdout",
     "output_type": "stream",
     "text": [
      "[######################                  ] | 57% Completed | 365.18 s"
     ]
    },
    {
     "name": "stderr",
     "output_type": "stream",
     "text": [
      " WARNING: FIR normalized: sum[coef]=9.767192E-01;     \n",
      " WARNING: FIR normalized: sum[coef]=9.767192E-01;     \n"
     ]
    },
    {
     "name": "stdout",
     "output_type": "stream",
     "text": [
      "[######################                  ] | 57% Completed | 365.52 s"
     ]
    },
    {
     "name": "stderr",
     "output_type": "stream",
     "text": [
      " WARNING: FIR normalized: sum[coef]=9.767192E-01;     \n",
      " WARNING: FIR normalized: sum[coef]=9.767192E-01;     \n",
      " WARNING: FIR normalized: sum[coef]=9.767192E-01;     \n",
      " WARNING: FIR normalized: sum[coef]=9.767192E-01;     \n"
     ]
    },
    {
     "name": "stdout",
     "output_type": "stream",
     "text": [
      "[######################                  ] | 57% Completed | 365.75 s"
     ]
    },
    {
     "name": "stderr",
     "output_type": "stream",
     "text": [
      " WARNING: FIR normalized: sum[coef]=9.767192E-01;     \n"
     ]
    },
    {
     "name": "stdout",
     "output_type": "stream",
     "text": [
      "[######################                  ] | 57% Completed | 366.10 s"
     ]
    },
    {
     "name": "stderr",
     "output_type": "stream",
     "text": [
      " WARNING: FIR normalized: sum[coef]=9.767192E-01;     \n",
      " WARNING: FIR normalized: sum[coef]=9.767192E-01;     \n",
      " WARNING: FIR normalized: sum[coef]=9.767192E-01;     \n",
      " WARNING: FIR normalized: sum[coef]=9.767192E-01;     \n",
      " WARNING: FIR normalized: sum[coef]=9.767192E-01;     \n"
     ]
    },
    {
     "name": "stdout",
     "output_type": "stream",
     "text": [
      "[######################                  ] | 57% Completed | 366.33 s"
     ]
    },
    {
     "name": "stderr",
     "output_type": "stream",
     "text": [
      " WARNING: FIR normalized: sum[coef]=9.767192E-01;     \n",
      " WARNING: FIR normalized: sum[coef]=9.767192E-01;     \n",
      " WARNING: FIR normalized: sum[coef]=9.767192E-01;     \n"
     ]
    },
    {
     "name": "stdout",
     "output_type": "stream",
     "text": [
      "[######################                  ] | 57% Completed | 366.80 s"
     ]
    },
    {
     "name": "stderr",
     "output_type": "stream",
     "text": [
      " WARNING: FIR normalized: sum[coef]=9.767192E-01;     \n",
      " WARNING: FIR normalized: sum[coef]=9.767192E-01;     \n",
      " WARNING: FIR normalized: sum[coef]=9.767192E-01;     \n",
      " WARNING: FIR normalized: sum[coef]=9.767192E-01;     \n"
     ]
    },
    {
     "name": "stdout",
     "output_type": "stream",
     "text": [
      "[######################                  ] | 57% Completed | 367.16 s"
     ]
    },
    {
     "name": "stderr",
     "output_type": "stream",
     "text": [
      " WARNING: FIR normalized: sum[coef]=9.767192E-01;     \n",
      " WARNING: FIR normalized: sum[coef]=9.767192E-01;     \n",
      " WARNING: FIR normalized: sum[coef]=9.767192E-01;     \n",
      " WARNING: FIR normalized: sum[coef]=9.767192E-01;     \n"
     ]
    },
    {
     "name": "stdout",
     "output_type": "stream",
     "text": [
      "[######################                  ] | 57% Completed | 367.39 s"
     ]
    },
    {
     "name": "stderr",
     "output_type": "stream",
     "text": [
      " WARNING: FIR normalized: sum[coef]=9.767192E-01;     \n",
      " WARNING: FIR normalized: sum[coef]=9.767192E-01;     \n"
     ]
    },
    {
     "name": "stdout",
     "output_type": "stream",
     "text": [
      "[######################                  ] | 57% Completed | 367.73 s"
     ]
    },
    {
     "name": "stderr",
     "output_type": "stream",
     "text": [
      " WARNING: FIR normalized: sum[coef]=9.767192E-01;     \n",
      " WARNING: FIR normalized: sum[coef]=9.767192E-01;     \n",
      " WARNING: FIR normalized: sum[coef]=9.767192E-01;     \n"
     ]
    },
    {
     "name": "stdout",
     "output_type": "stream",
     "text": [
      "[######################                  ] | 57% Completed | 367.96 s"
     ]
    },
    {
     "name": "stderr",
     "output_type": "stream",
     "text": [
      " WARNING: FIR normalized: sum[coef]=9.767192E-01;     \n",
      " WARNING: FIR normalized: sum[coef]=9.767192E-01;     \n"
     ]
    },
    {
     "name": "stdout",
     "output_type": "stream",
     "text": [
      "[######################                  ] | 57% Completed | 368.20 s"
     ]
    },
    {
     "name": "stderr",
     "output_type": "stream",
     "text": [
      " WARNING: FIR normalized: sum[coef]=9.767192E-01;     \n",
      " WARNING: FIR normalized: sum[coef]=9.767192E-01;     \n",
      " WARNING: FIR normalized: sum[coef]=9.767192E-01;     \n"
     ]
    },
    {
     "name": "stdout",
     "output_type": "stream",
     "text": [
      "[######################                  ] | 57% Completed | 368.54 s"
     ]
    },
    {
     "name": "stderr",
     "output_type": "stream",
     "text": [
      " WARNING: FIR normalized: sum[coef]=9.767192E-01;     \n",
      " WARNING: FIR normalized: sum[coef]=9.767192E-01;     \n",
      " WARNING: FIR normalized: sum[coef]=9.767192E-01;     \n"
     ]
    },
    {
     "name": "stdout",
     "output_type": "stream",
     "text": [
      "[######################                  ] | 57% Completed | 368.91 s"
     ]
    },
    {
     "name": "stderr",
     "output_type": "stream",
     "text": [
      " WARNING: FIR normalized: sum[coef]=9.767192E-01;     \n",
      " WARNING: FIR normalized: sum[coef]=9.767192E-01;     \n",
      " WARNING: FIR normalized: sum[coef]=9.767192E-01;     \n",
      " WARNING: FIR normalized: sum[coef]=9.767192E-01;     \n",
      " WARNING: FIR normalized: sum[coef]=9.767192E-01;     \n"
     ]
    },
    {
     "name": "stdout",
     "output_type": "stream",
     "text": [
      "[######################                  ] | 57% Completed | 369.41 s"
     ]
    },
    {
     "name": "stderr",
     "output_type": "stream",
     "text": [
      " WARNING: FIR normalized: sum[coef]=9.767192E-01;     \n",
      " WARNING: FIR normalized: sum[coef]=9.767192E-01;     \n"
     ]
    },
    {
     "name": "stdout",
     "output_type": "stream",
     "text": [
      "[######################                  ] | 57% Completed | 369.63 s"
     ]
    },
    {
     "name": "stderr",
     "output_type": "stream",
     "text": [
      " WARNING: FIR normalized: sum[coef]=9.767192E-01;     \n",
      " WARNING: FIR normalized: sum[coef]=9.767192E-01;     \n",
      " WARNING: FIR normalized: sum[coef]=9.767192E-01;     \n"
     ]
    },
    {
     "name": "stdout",
     "output_type": "stream",
     "text": [
      "[######################                  ] | 57% Completed | 369.99 s"
     ]
    },
    {
     "name": "stderr",
     "output_type": "stream",
     "text": [
      " WARNING: FIR normalized: sum[coef]=9.767192E-01;     \n",
      " WARNING: FIR normalized: sum[coef]=9.767192E-01;     \n",
      " WARNING: FIR normalized: sum[coef]=9.767192E-01;     \n",
      " WARNING: FIR normalized: sum[coef]=9.767192E-01;     \n"
     ]
    },
    {
     "name": "stdout",
     "output_type": "stream",
     "text": [
      "[######################                  ] | 57% Completed | 370.31 s"
     ]
    },
    {
     "name": "stderr",
     "output_type": "stream",
     "text": [
      " WARNING: FIR normalized: sum[coef]=9.767192E-01;     \n",
      " WARNING: FIR normalized: sum[coef]=9.767192E-01;     \n"
     ]
    },
    {
     "name": "stdout",
     "output_type": "stream",
     "text": [
      "[######################                  ] | 57% Completed | 370.66 s"
     ]
    },
    {
     "name": "stderr",
     "output_type": "stream",
     "text": [
      " WARNING: FIR normalized: sum[coef]=9.767192E-01;     \n",
      " WARNING: FIR normalized: sum[coef]=9.767192E-01;     \n",
      " WARNING: FIR normalized: sum[coef]=9.767192E-01;     \n",
      " WARNING: FIR normalized: sum[coef]=9.767192E-01;     \n"
     ]
    },
    {
     "name": "stdout",
     "output_type": "stream",
     "text": [
      "[######################                  ] | 57% Completed | 370.88 s"
     ]
    },
    {
     "name": "stderr",
     "output_type": "stream",
     "text": [
      " WARNING: FIR normalized: sum[coef]=9.767192E-01;     \n"
     ]
    },
    {
     "name": "stdout",
     "output_type": "stream",
     "text": [
      "[######################                  ] | 57% Completed | 371.12 s"
     ]
    },
    {
     "name": "stderr",
     "output_type": "stream",
     "text": [
      " WARNING: FIR normalized: sum[coef]=9.767192E-01;     \n",
      " WARNING: FIR normalized: sum[coef]=9.767192E-01;     \n",
      " WARNING: FIR normalized: sum[coef]=9.767192E-01;     \n"
     ]
    },
    {
     "name": "stdout",
     "output_type": "stream",
     "text": [
      "[######################                  ] | 57% Completed | 371.35 s"
     ]
    },
    {
     "name": "stderr",
     "output_type": "stream",
     "text": [
      " WARNING: FIR normalized: sum[coef]=9.767192E-01;     \n",
      " WARNING: FIR normalized: sum[coef]=9.767192E-01;     \n",
      " WARNING: FIR normalized: sum[coef]=9.767192E-01;     \n"
     ]
    },
    {
     "name": "stdout",
     "output_type": "stream",
     "text": [
      "[######################                  ] | 57% Completed | 371.72 s"
     ]
    },
    {
     "name": "stderr",
     "output_type": "stream",
     "text": [
      " WARNING: FIR normalized: sum[coef]=9.767192E-01;     \n",
      " WARNING: FIR normalized: sum[coef]=9.767192E-01;     \n"
     ]
    },
    {
     "name": "stdout",
     "output_type": "stream",
     "text": [
      "[######################                  ] | 57% Completed | 371.95 s"
     ]
    },
    {
     "name": "stderr",
     "output_type": "stream",
     "text": [
      " WARNING: FIR normalized: sum[coef]=9.767192E-01;     \n",
      " WARNING: FIR normalized: sum[coef]=9.767192E-01;     \n",
      " WARNING: FIR normalized: sum[coef]=9.767192E-01;     \n",
      " WARNING: FIR normalized: sum[coef]=9.767192E-01;     \n",
      " WARNING: FIR normalized: sum[coef]=9.767192E-01;     \n",
      " WARNING: FIR normalized: sum[coef]=9.767192E-01;     \n"
     ]
    },
    {
     "name": "stdout",
     "output_type": "stream",
     "text": [
      "[######################                  ] | 57% Completed | 372.31 s"
     ]
    },
    {
     "name": "stderr",
     "output_type": "stream",
     "text": [
      " WARNING: FIR normalized: sum[coef]=9.767192E-01;     \n",
      " WARNING: FIR normalized: sum[coef]=9.767192E-01;     \n",
      " WARNING: FIR normalized: sum[coef]=9.767192E-01;     \n"
     ]
    },
    {
     "name": "stdout",
     "output_type": "stream",
     "text": [
      "[######################                  ] | 57% Completed | 372.56 s"
     ]
    },
    {
     "name": "stderr",
     "output_type": "stream",
     "text": [
      " WARNING: FIR normalized: sum[coef]=9.767192E-01;     \n",
      " WARNING: FIR normalized: sum[coef]=9.767192E-01;     \n",
      " WARNING: FIR normalized: sum[coef]=9.767192E-01;     \n",
      " WARNING: FIR normalized: sum[coef]=9.767192E-01;     \n",
      " WARNING: FIR normalized: sum[coef]=9.767192E-01;     \n"
     ]
    },
    {
     "name": "stdout",
     "output_type": "stream",
     "text": [
      "[######################                  ] | 57% Completed | 372.78 s"
     ]
    },
    {
     "name": "stderr",
     "output_type": "stream",
     "text": [
      " WARNING: FIR normalized: sum[coef]=9.767192E-01;     \n"
     ]
    },
    {
     "name": "stdout",
     "output_type": "stream",
     "text": [
      "[######################                  ] | 57% Completed | 373.02 s"
     ]
    },
    {
     "name": "stderr",
     "output_type": "stream",
     "text": [
      " WARNING: FIR normalized: sum[coef]=9.767192E-01;     \n",
      " WARNING: FIR normalized: sum[coef]=9.767192E-01;     \n"
     ]
    },
    {
     "name": "stdout",
     "output_type": "stream",
     "text": [
      "[######################                  ] | 57% Completed | 373.25 s"
     ]
    },
    {
     "name": "stderr",
     "output_type": "stream",
     "text": [
      " WARNING: FIR normalized: sum[coef]=9.767192E-01;     \n",
      " WARNING: FIR normalized: sum[coef]=9.767192E-01;     \n",
      " WARNING: FIR normalized: sum[coef]=9.767192E-01;     \n",
      " WARNING: FIR normalized: sum[coef]=9.767192E-01;     \n"
     ]
    },
    {
     "name": "stdout",
     "output_type": "stream",
     "text": [
      "[######################                  ] | 57% Completed | 373.48 s"
     ]
    },
    {
     "name": "stderr",
     "output_type": "stream",
     "text": [
      " WARNING: FIR normalized: sum[coef]=9.767192E-01;     \n",
      " WARNING: FIR normalized: sum[coef]=9.767192E-01;     \n",
      " WARNING: FIR normalized: sum[coef]=9.767192E-01;     \n",
      " WARNING: FIR normalized: sum[coef]=9.767192E-01;     \n"
     ]
    },
    {
     "name": "stdout",
     "output_type": "stream",
     "text": [
      "[######################                  ] | 57% Completed | 373.74 s"
     ]
    },
    {
     "name": "stderr",
     "output_type": "stream",
     "text": [
      " WARNING: FIR normalized: sum[coef]=9.767192E-01;     \n",
      " WARNING: FIR normalized: sum[coef]=9.767192E-01;     \n"
     ]
    },
    {
     "name": "stdout",
     "output_type": "stream",
     "text": [
      "[######################                  ] | 57% Completed | 373.99 s"
     ]
    },
    {
     "name": "stderr",
     "output_type": "stream",
     "text": [
      " WARNING: FIR normalized: sum[coef]=9.767192E-01;     \n",
      " WARNING: FIR normalized: sum[coef]=9.767192E-01;     \n",
      " WARNING: FIR normalized: sum[coef]=9.767192E-01;     \n",
      " WARNING: FIR normalized: sum[coef]=9.767192E-01;     \n",
      " WARNING: FIR normalized: sum[coef]=9.767192E-01;     \n"
     ]
    },
    {
     "name": "stdout",
     "output_type": "stream",
     "text": [
      "[######################                  ] | 57% Completed | 374.12 s"
     ]
    },
    {
     "name": "stderr",
     "output_type": "stream",
     "text": [
      " WARNING: FIR normalized: sum[coef]=9.767192E-01;     \n",
      " WARNING: FIR normalized: sum[coef]=9.767192E-01;     \n"
     ]
    },
    {
     "name": "stdout",
     "output_type": "stream",
     "text": [
      "[######################                  ] | 57% Completed | 374.49 s"
     ]
    },
    {
     "name": "stderr",
     "output_type": "stream",
     "text": [
      " WARNING: FIR normalized: sum[coef]=9.767192E-01;     \n",
      " WARNING: FIR normalized: sum[coef]=9.767192E-01;     \n"
     ]
    },
    {
     "name": "stdout",
     "output_type": "stream",
     "text": [
      "[######################                  ] | 57% Completed | 374.72 s"
     ]
    },
    {
     "name": "stderr",
     "output_type": "stream",
     "text": [
      " WARNING: FIR normalized: sum[coef]=9.767192E-01;     \n",
      " WARNING: FIR normalized: sum[coef]=9.767192E-01;     \n",
      " WARNING: FIR normalized: sum[coef]=9.767192E-01;     \n"
     ]
    },
    {
     "name": "stdout",
     "output_type": "stream",
     "text": [
      "[######################                  ] | 57% Completed | 374.95 s"
     ]
    },
    {
     "name": "stderr",
     "output_type": "stream",
     "text": [
      " WARNING: FIR normalized: sum[coef]=9.767192E-01;     \n",
      " WARNING: FIR normalized: sum[coef]=9.767192E-01;     \n",
      " WARNING: FIR normalized: sum[coef]=9.767192E-01;     \n",
      " WARNING: FIR normalized: sum[coef]=9.767192E-01;     \n"
     ]
    },
    {
     "name": "stdout",
     "output_type": "stream",
     "text": [
      "[######################                  ] | 57% Completed | 375.18 s"
     ]
    },
    {
     "name": "stderr",
     "output_type": "stream",
     "text": [
      " WARNING: FIR normalized: sum[coef]=9.767192E-01;     \n",
      " WARNING: FIR normalized: sum[coef]=9.767192E-01;     \n",
      " WARNING: FIR normalized: sum[coef]=9.767192E-01;     \n",
      " WARNING: FIR normalized: sum[coef]=9.767192E-01;     \n"
     ]
    },
    {
     "name": "stdout",
     "output_type": "stream",
     "text": [
      "[######################                  ] | 57% Completed | 375.41 s"
     ]
    },
    {
     "name": "stderr",
     "output_type": "stream",
     "text": [
      " WARNING: FIR normalized: sum[coef]=9.767192E-01;     \n",
      " WARNING: FIR normalized: sum[coef]=9.767192E-01;     \n",
      " WARNING: FIR normalized: sum[coef]=9.767192E-01;     \n",
      " WARNING: FIR normalized: sum[coef]=9.767192E-01;     \n"
     ]
    },
    {
     "name": "stdout",
     "output_type": "stream",
     "text": [
      "[#######################                 ] | 57% Completed | 375.65 s"
     ]
    },
    {
     "name": "stderr",
     "output_type": "stream",
     "text": [
      " WARNING: FIR normalized: sum[coef]=9.767192E-01;     \n",
      " WARNING: FIR normalized: sum[coef]=9.767192E-01;     \n",
      " WARNING: FIR normalized: sum[coef]=9.767192E-01;     \n",
      " WARNING: FIR normalized: sum[coef]=9.767192E-01;     \n",
      " WARNING: FIR normalized: sum[coef]=9.767192E-01;     \n",
      " WARNING: FIR normalized: sum[coef]=9.767192E-01;     \n",
      " WARNING: FIR normalized: sum[coef]=9.767192E-01;     \n"
     ]
    },
    {
     "name": "stdout",
     "output_type": "stream",
     "text": [
      "[#######################                 ] | 57% Completed | 376.06 s"
     ]
    },
    {
     "name": "stderr",
     "output_type": "stream",
     "text": [
      " WARNING: FIR normalized: sum[coef]=9.767192E-01;     \n",
      " WARNING: FIR normalized: sum[coef]=9.767192E-01;     \n"
     ]
    },
    {
     "name": "stdout",
     "output_type": "stream",
     "text": [
      "[#######################                 ] | 57% Completed | 376.30 s"
     ]
    },
    {
     "name": "stderr",
     "output_type": "stream",
     "text": [
      " WARNING: FIR normalized: sum[coef]=9.767192E-01;     \n",
      " WARNING: FIR normalized: sum[coef]=9.767192E-01;     \n",
      " WARNING: FIR normalized: sum[coef]=9.767192E-01;     \n"
     ]
    },
    {
     "name": "stdout",
     "output_type": "stream",
     "text": [
      "[#######################                 ] | 57% Completed | 376.57 s"
     ]
    },
    {
     "name": "stderr",
     "output_type": "stream",
     "text": [
      " WARNING: FIR normalized: sum[coef]=9.767192E-01;     \n",
      " WARNING: FIR normalized: sum[coef]=9.767192E-01;     \n",
      " WARNING: FIR normalized: sum[coef]=9.767192E-01;     \n",
      " WARNING: FIR normalized: sum[coef]=9.767192E-01;     \n",
      " WARNING: FIR normalized: sum[coef]=9.767192E-01;     \n"
     ]
    },
    {
     "name": "stdout",
     "output_type": "stream",
     "text": [
      "[#######################                 ] | 57% Completed | 376.79 s"
     ]
    },
    {
     "name": "stderr",
     "output_type": "stream",
     "text": [
      " WARNING: FIR normalized: sum[coef]=9.767192E-01;     \n",
      " WARNING: FIR normalized: sum[coef]=9.767192E-01;     \n",
      " WARNING: FIR normalized: sum[coef]=9.767192E-01;     \n",
      " WARNING: FIR normalized: sum[coef]=9.767192E-01;     \n",
      " WARNING: FIR normalized: sum[coef]=9.767192E-01;     \n"
     ]
    },
    {
     "name": "stdout",
     "output_type": "stream",
     "text": [
      "[#######################                 ] | 57% Completed | 377.15 s"
     ]
    },
    {
     "name": "stderr",
     "output_type": "stream",
     "text": [
      " WARNING: FIR normalized: sum[coef]=9.767192E-01;     \n",
      " WARNING: FIR normalized: sum[coef]=9.767192E-01;     \n",
      " WARNING: FIR normalized: sum[coef]=9.767192E-01;     \n",
      " WARNING: FIR normalized: sum[coef]=9.767192E-01;     \n"
     ]
    },
    {
     "name": "stdout",
     "output_type": "stream",
     "text": [
      "[#######################                 ] | 57% Completed | 377.38 s"
     ]
    },
    {
     "name": "stderr",
     "output_type": "stream",
     "text": [
      " WARNING: FIR normalized: sum[coef]=9.767192E-01;     \n",
      " WARNING: FIR normalized: sum[coef]=9.767192E-01;     \n"
     ]
    },
    {
     "name": "stdout",
     "output_type": "stream",
     "text": [
      "[#######################                 ] | 57% Completed | 377.63 s"
     ]
    },
    {
     "name": "stderr",
     "output_type": "stream",
     "text": [
      " WARNING: FIR normalized: sum[coef]=9.767192E-01;     \n",
      " WARNING: FIR normalized: sum[coef]=9.767192E-01;     \n",
      " WARNING: FIR normalized: sum[coef]=9.767192E-01;     \n",
      " WARNING: FIR normalized: sum[coef]=9.767192E-01;     \n",
      " WARNING: FIR normalized: sum[coef]=9.767192E-01;     \n"
     ]
    },
    {
     "name": "stdout",
     "output_type": "stream",
     "text": [
      "[#######################                 ] | 57% Completed | 377.88 s"
     ]
    },
    {
     "name": "stderr",
     "output_type": "stream",
     "text": [
      " WARNING: FIR normalized: sum[coef]=9.767192E-01;     \n",
      " WARNING: FIR normalized: sum[coef]=9.767192E-01;     \n",
      " WARNING: FIR normalized: sum[coef]=9.767192E-01;     \n",
      " WARNING: FIR normalized: sum[coef]=9.767192E-01;     \n"
     ]
    },
    {
     "name": "stdout",
     "output_type": "stream",
     "text": [
      "[#######################                 ] | 58% Completed | 378.11 s"
     ]
    },
    {
     "name": "stderr",
     "output_type": "stream",
     "text": [
      " WARNING: FIR normalized: sum[coef]=9.767192E-01;     \n",
      " WARNING: FIR normalized: sum[coef]=9.767192E-01;     \n",
      " WARNING: FIR normalized: sum[coef]=9.767192E-01;     \n",
      " WARNING: FIR normalized: sum[coef]=9.767192E-01;     \n",
      " WARNING: FIR normalized: sum[coef]=9.767192E-01;     \n"
     ]
    },
    {
     "name": "stdout",
     "output_type": "stream",
     "text": [
      "[#######################                 ] | 58% Completed | 378.47 s"
     ]
    },
    {
     "name": "stderr",
     "output_type": "stream",
     "text": [
      " WARNING: FIR normalized: sum[coef]=9.767192E-01;     \n",
      " WARNING: FIR normalized: sum[coef]=9.767192E-01;     \n",
      " WARNING: FIR normalized: sum[coef]=9.767192E-01;     \n",
      " WARNING: FIR normalized: sum[coef]=9.767192E-01;     \n",
      " WARNING: FIR normalized: sum[coef]=9.767192E-01;     \n"
     ]
    },
    {
     "name": "stdout",
     "output_type": "stream",
     "text": [
      "[#######################                 ] | 58% Completed | 378.72 s"
     ]
    },
    {
     "name": "stderr",
     "output_type": "stream",
     "text": [
      " WARNING: FIR normalized: sum[coef]=9.767192E-01;     \n"
     ]
    },
    {
     "name": "stdout",
     "output_type": "stream",
     "text": [
      "[#######################                 ] | 58% Completed | 378.96 s"
     ]
    },
    {
     "name": "stderr",
     "output_type": "stream",
     "text": [
      " WARNING: FIR normalized: sum[coef]=9.767192E-01;     \n",
      " WARNING: FIR normalized: sum[coef]=9.767192E-01;     \n",
      " WARNING: FIR normalized: sum[coef]=9.767192E-01;     \n",
      " WARNING: FIR normalized: sum[coef]=9.767192E-01;     \n",
      " WARNING: FIR normalized: sum[coef]=9.767192E-01;     \n",
      " WARNING: FIR normalized: sum[coef]=9.767192E-01;     \n",
      " WARNING: FIR normalized: sum[coef]=9.767192E-01;     \n",
      " WARNING: FIR normalized: sum[coef]=9.767192E-01;     \n"
     ]
    },
    {
     "name": "stdout",
     "output_type": "stream",
     "text": [
      "[#######################                 ] | 58% Completed | 379.30 s"
     ]
    },
    {
     "name": "stderr",
     "output_type": "stream",
     "text": [
      " WARNING: FIR normalized: sum[coef]=9.767192E-01;     \n",
      " WARNING: FIR normalized: sum[coef]=9.767192E-01;     \n",
      " WARNING: FIR normalized: sum[coef]=9.767192E-01;     \n",
      " WARNING: FIR normalized: sum[coef]=9.767192E-01;     \n"
     ]
    },
    {
     "name": "stdout",
     "output_type": "stream",
     "text": [
      "[#######################                 ] | 58% Completed | 379.42 s"
     ]
    },
    {
     "name": "stderr",
     "output_type": "stream",
     "text": [
      " WARNING: FIR normalized: sum[coef]=9.767192E-01;     \n",
      " WARNING: FIR normalized: sum[coef]=9.767192E-01;     \n"
     ]
    },
    {
     "name": "stdout",
     "output_type": "stream",
     "text": [
      "[#######################                 ] | 58% Completed | 379.65 s"
     ]
    },
    {
     "name": "stderr",
     "output_type": "stream",
     "text": [
      " WARNING: FIR normalized: sum[coef]=9.767192E-01;     \n",
      " WARNING: FIR normalized: sum[coef]=9.767192E-01;     \n",
      " WARNING: FIR normalized: sum[coef]=9.767192E-01;     \n",
      " WARNING: FIR normalized: sum[coef]=9.767192E-01;     \n",
      " WARNING: FIR normalized: sum[coef]=9.767192E-01;     \n",
      " WARNING: FIR normalized: sum[coef]=9.767192E-01;     \n"
     ]
    },
    {
     "name": "stdout",
     "output_type": "stream",
     "text": [
      "[#######################                 ] | 58% Completed | 380.01 s"
     ]
    },
    {
     "name": "stderr",
     "output_type": "stream",
     "text": [
      " WARNING: FIR normalized: sum[coef]=9.767192E-01;     \n",
      " WARNING: FIR normalized: sum[coef]=9.767192E-01;     \n",
      " WARNING: FIR normalized: sum[coef]=9.767192E-01;     \n"
     ]
    },
    {
     "name": "stdout",
     "output_type": "stream",
     "text": [
      "[#######################                 ] | 58% Completed | 380.24 s"
     ]
    },
    {
     "name": "stderr",
     "output_type": "stream",
     "text": [
      " WARNING: FIR normalized: sum[coef]=9.767192E-01;     \n",
      " WARNING: FIR normalized: sum[coef]=9.767192E-01;     \n"
     ]
    },
    {
     "name": "stdout",
     "output_type": "stream",
     "text": [
      "[#######################                 ] | 58% Completed | 380.47 s"
     ]
    },
    {
     "name": "stderr",
     "output_type": "stream",
     "text": [
      " WARNING: FIR normalized: sum[coef]=9.767192E-01;     \n",
      " WARNING: FIR normalized: sum[coef]=9.767192E-01;     \n",
      " WARNING: FIR normalized: sum[coef]=9.767192E-01;     \n",
      " WARNING: FIR normalized: sum[coef]=9.767192E-01;     \n",
      " WARNING: FIR normalized: sum[coef]=9.767192E-01;     \n",
      " WARNING: FIR normalized: sum[coef]=9.767192E-01;     \n"
     ]
    },
    {
     "name": "stdout",
     "output_type": "stream",
     "text": [
      "[#######################                 ] | 58% Completed | 380.71 s"
     ]
    },
    {
     "name": "stderr",
     "output_type": "stream",
     "text": [
      " WARNING: FIR normalized: sum[coef]=9.767192E-01;     \n",
      " WARNING: FIR normalized: sum[coef]=9.767192E-01;     \n"
     ]
    },
    {
     "name": "stdout",
     "output_type": "stream",
     "text": [
      "[#######################                 ] | 58% Completed | 380.97 s"
     ]
    },
    {
     "name": "stderr",
     "output_type": "stream",
     "text": [
      " WARNING: FIR normalized: sum[coef]=9.767192E-01;     \n",
      " WARNING: FIR normalized: sum[coef]=9.767192E-01;     \n",
      " WARNING: FIR normalized: sum[coef]=9.767192E-01;     \n"
     ]
    },
    {
     "name": "stdout",
     "output_type": "stream",
     "text": [
      "[#######################                 ] | 59% Completed | 381.22 s"
     ]
    },
    {
     "name": "stderr",
     "output_type": "stream",
     "text": [
      " WARNING: FIR normalized: sum[coef]=9.767192E-01;     \n",
      " WARNING: FIR normalized: sum[coef]=9.767192E-01;     \n",
      " WARNING: FIR normalized: sum[coef]=9.767192E-01;     \n",
      " WARNING: FIR normalized: sum[coef]=9.767192E-01;     \n"
     ]
    },
    {
     "name": "stdout",
     "output_type": "stream",
     "text": [
      "[#######################                 ] | 59% Completed | 381.46 s"
     ]
    },
    {
     "name": "stderr",
     "output_type": "stream",
     "text": [
      " WARNING: FIR normalized: sum[coef]=9.767192E-01;     \n",
      " WARNING: FIR normalized: sum[coef]=9.767192E-01;     \n",
      " WARNING: FIR normalized: sum[coef]=9.767192E-01;     \n",
      " WARNING: FIR normalized: sum[coef]=9.767192E-01;     \n",
      " WARNING: FIR normalized: sum[coef]=9.767192E-01;     \n"
     ]
    },
    {
     "name": "stdout",
     "output_type": "stream",
     "text": [
      "[#######################                 ] | 59% Completed | 381.69 s"
     ]
    },
    {
     "name": "stderr",
     "output_type": "stream",
     "text": [
      " WARNING: FIR normalized: sum[coef]=9.767192E-01;     \n",
      " WARNING: FIR normalized: sum[coef]=9.767192E-01;     \n"
     ]
    },
    {
     "name": "stdout",
     "output_type": "stream",
     "text": [
      "[#######################                 ] | 59% Completed | 381.93 s"
     ]
    },
    {
     "name": "stderr",
     "output_type": "stream",
     "text": [
      " WARNING: FIR normalized: sum[coef]=9.767192E-01;     \n",
      " WARNING: FIR normalized: sum[coef]=9.767192E-01;     \n",
      " WARNING: FIR normalized: sum[coef]=9.767192E-01;     \n",
      " WARNING: FIR normalized: sum[coef]=9.767192E-01;     \n",
      " WARNING: FIR normalized: sum[coef]=9.767192E-01;     \n",
      " WARNING: FIR normalized: sum[coef]=9.767192E-01;     \n"
     ]
    },
    {
     "name": "stdout",
     "output_type": "stream",
     "text": [
      "[#######################                 ] | 59% Completed | 382.16 s"
     ]
    },
    {
     "name": "stderr",
     "output_type": "stream",
     "text": [
      " WARNING: FIR normalized: sum[coef]=9.767192E-01;     \n",
      " WARNING: FIR normalized: sum[coef]=9.767192E-01;     \n",
      " WARNING: FIR normalized: sum[coef]=9.767192E-01;     \n",
      " WARNING: FIR normalized: sum[coef]=9.767192E-01;     \n",
      " WARNING: FIR normalized: sum[coef]=9.767192E-01;     \n",
      " WARNING: FIR normalized: sum[coef]=9.767192E-01;     \n"
     ]
    },
    {
     "name": "stdout",
     "output_type": "stream",
     "text": [
      "[#######################                 ] | 59% Completed | 382.41 s"
     ]
    },
    {
     "name": "stderr",
     "output_type": "stream",
     "text": [
      " WARNING: FIR normalized: sum[coef]=9.767192E-01;     \n",
      " WARNING: FIR normalized: sum[coef]=9.767192E-01;     \n"
     ]
    },
    {
     "name": "stdout",
     "output_type": "stream",
     "text": [
      "[#######################                 ] | 59% Completed | 382.78 s"
     ]
    },
    {
     "name": "stderr",
     "output_type": "stream",
     "text": [
      " WARNING: FIR normalized: sum[coef]=9.767192E-01;     \n",
      " WARNING: FIR normalized: sum[coef]=9.767192E-01;     \n",
      " WARNING: FIR normalized: sum[coef]=9.767192E-01;     \n"
     ]
    },
    {
     "name": "stdout",
     "output_type": "stream",
     "text": [
      "[#######################                 ] | 59% Completed | 382.89 s"
     ]
    },
    {
     "name": "stderr",
     "output_type": "stream",
     "text": [
      " WARNING: FIR normalized: sum[coef]=9.767192E-01;     \n",
      " WARNING: FIR normalized: sum[coef]=9.767192E-01;     \n",
      " WARNING: FIR normalized: sum[coef]=9.767192E-01;     \n",
      " WARNING: FIR normalized: sum[coef]=9.767192E-01;     \n",
      " WARNING: FIR normalized: sum[coef]=9.767192E-01;     \n",
      " WARNING: FIR normalized: sum[coef]=9.767192E-01;     \n",
      " WARNING: FIR normalized: sum[coef]=9.767192E-01;     \n",
      " WARNING: FIR normalized: sum[coef]=9.767192E-01;     \n"
     ]
    },
    {
     "name": "stdout",
     "output_type": "stream",
     "text": [
      "[#######################                 ] | 59% Completed | 383.25 s"
     ]
    },
    {
     "name": "stderr",
     "output_type": "stream",
     "text": [
      " WARNING: FIR normalized: sum[coef]=9.767192E-01;     \n",
      " WARNING: FIR normalized: sum[coef]=9.767192E-01;     \n",
      " WARNING: FIR normalized: sum[coef]=9.767192E-01;     \n",
      " WARNING: FIR normalized: sum[coef]=9.767192E-01;     \n"
     ]
    },
    {
     "name": "stdout",
     "output_type": "stream",
     "text": [
      "[#######################                 ] | 59% Completed | 383.49 s"
     ]
    },
    {
     "name": "stderr",
     "output_type": "stream",
     "text": [
      " WARNING: FIR normalized: sum[coef]=9.767192E-01;     \n"
     ]
    },
    {
     "name": "stdout",
     "output_type": "stream",
     "text": [
      "[#######################                 ] | 59% Completed | 383.73 s"
     ]
    },
    {
     "name": "stderr",
     "output_type": "stream",
     "text": [
      " WARNING: FIR normalized: sum[coef]=9.767192E-01;     \n",
      " WARNING: FIR normalized: sum[coef]=9.767192E-01;     \n",
      " WARNING: FIR normalized: sum[coef]=9.767192E-01;     \n",
      " WARNING: FIR normalized: sum[coef]=9.767192E-01;     \n",
      " WARNING: FIR normalized: sum[coef]=9.767192E-01;     \n",
      " WARNING: FIR normalized: sum[coef]=9.767192E-01;     \n",
      " WARNING: FIR normalized: sum[coef]=9.767192E-01;     \n"
     ]
    },
    {
     "name": "stdout",
     "output_type": "stream",
     "text": [
      "[#######################                 ] | 59% Completed | 384.01 s"
     ]
    },
    {
     "name": "stderr",
     "output_type": "stream",
     "text": [
      " WARNING: FIR normalized: sum[coef]=9.767192E-01;     \n",
      " WARNING: FIR normalized: sum[coef]=9.767192E-01;     \n",
      " WARNING: FIR normalized: sum[coef]=9.767192E-01;     \n",
      " WARNING: FIR normalized: sum[coef]=9.767192E-01;     \n"
     ]
    },
    {
     "name": "stdout",
     "output_type": "stream",
     "text": [
      "[#######################                 ] | 59% Completed | 384.24 s"
     ]
    },
    {
     "name": "stderr",
     "output_type": "stream",
     "text": [
      " WARNING: FIR normalized: sum[coef]=9.767192E-01;     \n",
      " WARNING: FIR normalized: sum[coef]=9.767192E-01;     \n",
      " WARNING: FIR normalized: sum[coef]=9.767192E-01;     \n"
     ]
    },
    {
     "name": "stdout",
     "output_type": "stream",
     "text": [
      "[#######################                 ] | 59% Completed | 384.59 s"
     ]
    },
    {
     "name": "stderr",
     "output_type": "stream",
     "text": [
      " WARNING: FIR normalized: sum[coef]=9.767192E-01;     \n",
      " WARNING: FIR normalized: sum[coef]=9.767192E-01;     \n",
      " WARNING: FIR normalized: sum[coef]=9.767192E-01;     \n",
      " WARNING: FIR normalized: sum[coef]=9.767192E-01;     \n",
      " WARNING: FIR normalized: sum[coef]=9.767192E-01;     \n",
      " WARNING: FIR normalized: sum[coef]=9.767192E-01;     \n",
      " WARNING: FIR normalized: sum[coef]=9.767192E-01;     \n"
     ]
    },
    {
     "name": "stdout",
     "output_type": "stream",
     "text": [
      "[#######################                 ] | 59% Completed | 384.80 s"
     ]
    },
    {
     "name": "stderr",
     "output_type": "stream",
     "text": [
      " WARNING: FIR normalized: sum[coef]=9.767192E-01;     \n",
      " WARNING: FIR normalized: sum[coef]=9.767192E-01;     \n",
      " WARNING: FIR normalized: sum[coef]=9.767192E-01;     \n",
      " WARNING: FIR normalized: sum[coef]=9.767192E-01;     \n"
     ]
    },
    {
     "name": "stdout",
     "output_type": "stream",
     "text": [
      "[#######################                 ] | 59% Completed | 385.04 s"
     ]
    },
    {
     "name": "stderr",
     "output_type": "stream",
     "text": [
      " WARNING: FIR normalized: sum[coef]=9.767192E-01;     \n",
      " WARNING: FIR normalized: sum[coef]=9.767192E-01;     \n",
      " WARNING: FIR normalized: sum[coef]=9.767192E-01;     \n"
     ]
    },
    {
     "name": "stdout",
     "output_type": "stream",
     "text": [
      "[#######################                 ] | 59% Completed | 385.29 s"
     ]
    },
    {
     "name": "stderr",
     "output_type": "stream",
     "text": [
      " WARNING: FIR normalized: sum[coef]=9.767192E-01;     \n",
      " WARNING: FIR normalized: sum[coef]=9.767192E-01;     \n",
      " WARNING: FIR normalized: sum[coef]=9.767192E-01;     \n",
      " WARNING: FIR normalized: sum[coef]=9.767192E-01;     \n",
      " WARNING: FIR normalized: sum[coef]=9.767192E-01;     \n"
     ]
    },
    {
     "name": "stdout",
     "output_type": "stream",
     "text": [
      "[#######################                 ] | 59% Completed | 385.62 s"
     ]
    },
    {
     "name": "stderr",
     "output_type": "stream",
     "text": [
      " WARNING: FIR normalized: sum[coef]=9.767192E-01;     \n",
      " WARNING: FIR normalized: sum[coef]=9.767192E-01;     \n",
      " WARNING: FIR normalized: sum[coef]=9.767192E-01;     \n",
      " WARNING: FIR normalized: sum[coef]=9.767192E-01;     \n"
     ]
    },
    {
     "name": "stdout",
     "output_type": "stream",
     "text": [
      "[#######################                 ] | 59% Completed | 385.86 s"
     ]
    },
    {
     "name": "stderr",
     "output_type": "stream",
     "text": [
      " WARNING: FIR normalized: sum[coef]=9.767192E-01;     \n",
      " WARNING: FIR normalized: sum[coef]=9.767192E-01;     \n",
      " WARNING: FIR normalized: sum[coef]=9.767192E-01;     \n",
      " WARNING: FIR normalized: sum[coef]=9.767192E-01;     \n",
      " WARNING: FIR normalized: sum[coef]=9.767192E-01;     \n",
      " WARNING: FIR normalized: sum[coef]=9.767192E-01;     \n",
      " WARNING: FIR normalized: sum[coef]=9.767192E-01;     \n",
      " WARNING: FIR normalized: sum[coef]=9.767192E-01;     \n"
     ]
    },
    {
     "name": "stdout",
     "output_type": "stream",
     "text": [
      "[#######################                 ] | 59% Completed | 386.43 s"
     ]
    },
    {
     "name": "stderr",
     "output_type": "stream",
     "text": [
      " WARNING: FIR normalized: sum[coef]=9.767192E-01;     \n",
      " WARNING: FIR normalized: sum[coef]=9.767192E-01;     \n",
      " WARNING: FIR normalized: sum[coef]=9.767192E-01;     \n",
      " WARNING: FIR normalized: sum[coef]=9.767192E-01;     \n",
      " WARNING: FIR normalized: sum[coef]=9.767192E-01;     \n",
      " WARNING: FIR normalized: sum[coef]=9.767192E-01;     \n",
      " WARNING: FIR normalized: sum[coef]=9.767192E-01;     \n"
     ]
    },
    {
     "name": "stdout",
     "output_type": "stream",
     "text": [
      "[#######################                 ] | 59% Completed | 386.70 s"
     ]
    },
    {
     "name": "stderr",
     "output_type": "stream",
     "text": [
      " WARNING: FIR normalized: sum[coef]=9.767192E-01;     \n",
      " WARNING: FIR normalized: sum[coef]=9.767192E-01;     \n",
      " WARNING: FIR normalized: sum[coef]=9.767192E-01;     \n",
      " WARNING: FIR normalized: sum[coef]=9.767192E-01;     \n",
      " WARNING: FIR normalized: sum[coef]=9.767192E-01;     \n"
     ]
    },
    {
     "name": "stdout",
     "output_type": "stream",
     "text": [
      "[#######################                 ] | 59% Completed | 386.82 s"
     ]
    },
    {
     "name": "stderr",
     "output_type": "stream",
     "text": [
      " WARNING: FIR normalized: sum[coef]=9.767192E-01;     \n",
      " WARNING: FIR normalized: sum[coef]=9.767192E-01;     \n",
      " WARNING: FIR normalized: sum[coef]=9.767192E-01;     \n"
     ]
    },
    {
     "name": "stdout",
     "output_type": "stream",
     "text": [
      "[#######################                 ] | 59% Completed | 387.19 s"
     ]
    },
    {
     "name": "stderr",
     "output_type": "stream",
     "text": [
      " WARNING: FIR normalized: sum[coef]=9.767192E-01;     \n",
      " WARNING: FIR normalized: sum[coef]=9.767192E-01;     \n"
     ]
    },
    {
     "name": "stdout",
     "output_type": "stream",
     "text": [
      "[#######################                 ] | 59% Completed | 387.42 s"
     ]
    },
    {
     "name": "stderr",
     "output_type": "stream",
     "text": [
      " WARNING: FIR normalized: sum[coef]=9.767192E-01;     \n",
      " WARNING: FIR normalized: sum[coef]=9.767192E-01;     \n",
      " WARNING: FIR normalized: sum[coef]=9.767192E-01;     \n",
      " WARNING: FIR normalized: sum[coef]=9.767192E-01;     \n",
      " WARNING: FIR normalized: sum[coef]=9.767192E-01;     \n"
     ]
    },
    {
     "name": "stdout",
     "output_type": "stream",
     "text": [
      "[#######################                 ] | 59% Completed | 387.65 s"
     ]
    },
    {
     "name": "stderr",
     "output_type": "stream",
     "text": [
      " WARNING: FIR normalized: sum[coef]=9.767192E-01;     \n",
      " WARNING: FIR normalized: sum[coef]=9.767192E-01;     \n",
      " WARNING: FIR normalized: sum[coef]=9.767192E-01;     \n",
      " WARNING: FIR normalized: sum[coef]=9.767192E-01;     \n",
      " WARNING: FIR normalized: sum[coef]=9.767192E-01;     \n",
      " WARNING: FIR normalized: sum[coef]=9.767192E-01;     \n"
     ]
    },
    {
     "name": "stdout",
     "output_type": "stream",
     "text": [
      "[#######################                 ] | 59% Completed | 387.90 s"
     ]
    },
    {
     "name": "stderr",
     "output_type": "stream",
     "text": [
      " WARNING: FIR normalized: sum[coef]=9.767192E-01;     \n",
      " WARNING: FIR normalized: sum[coef]=9.767192E-01;     \n",
      " WARNING: FIR normalized: sum[coef]=9.767192E-01;     \n"
     ]
    },
    {
     "name": "stdout",
     "output_type": "stream",
     "text": [
      "[#######################                 ] | 59% Completed | 388.12 s"
     ]
    },
    {
     "name": "stderr",
     "output_type": "stream",
     "text": [
      " WARNING: FIR normalized: sum[coef]=9.767192E-01;     \n",
      " WARNING: FIR normalized: sum[coef]=9.767192E-01;     \n",
      " WARNING: FIR normalized: sum[coef]=9.767192E-01;     \n",
      " WARNING: FIR normalized: sum[coef]=9.767192E-01;     \n"
     ]
    },
    {
     "name": "stdout",
     "output_type": "stream",
     "text": [
      "[#######################                 ] | 59% Completed | 388.39 s"
     ]
    },
    {
     "name": "stderr",
     "output_type": "stream",
     "text": [
      " WARNING: FIR normalized: sum[coef]=9.767192E-01;     \n",
      " WARNING: FIR normalized: sum[coef]=9.767192E-01;     \n",
      " WARNING: FIR normalized: sum[coef]=9.767192E-01;     \n",
      " WARNING: FIR normalized: sum[coef]=9.767192E-01;     \n",
      " WARNING: FIR normalized: sum[coef]=9.767192E-01;     \n"
     ]
    },
    {
     "name": "stdout",
     "output_type": "stream",
     "text": [
      "[########################                ] | 60% Completed | 388.64 s"
     ]
    },
    {
     "name": "stderr",
     "output_type": "stream",
     "text": [
      " WARNING: FIR normalized: sum[coef]=9.767192E-01;     \n",
      " WARNING: FIR normalized: sum[coef]=9.767192E-01;     \n",
      " WARNING: FIR normalized: sum[coef]=9.767192E-01;     \n",
      " WARNING: FIR normalized: sum[coef]=9.767192E-01;     \n"
     ]
    },
    {
     "name": "stdout",
     "output_type": "stream",
     "text": [
      "[########################                ] | 60% Completed | 388.88 s"
     ]
    },
    {
     "name": "stderr",
     "output_type": "stream",
     "text": [
      " WARNING: FIR normalized: sum[coef]=9.767192E-01;     \n",
      " WARNING: FIR normalized: sum[coef]=9.767192E-01;     \n",
      " WARNING: FIR normalized: sum[coef]=9.767192E-01;     \n"
     ]
    },
    {
     "name": "stdout",
     "output_type": "stream",
     "text": [
      "[########################                ] | 60% Completed | 389.11 s"
     ]
    },
    {
     "name": "stderr",
     "output_type": "stream",
     "text": [
      " WARNING: FIR normalized: sum[coef]=9.767192E-01;     \n",
      " WARNING: FIR normalized: sum[coef]=9.767192E-01;     \n",
      " WARNING: FIR normalized: sum[coef]=9.767192E-01;     \n",
      " WARNING: FIR normalized: sum[coef]=9.767192E-01;     \n"
     ]
    },
    {
     "name": "stdout",
     "output_type": "stream",
     "text": [
      "[########################                ] | 60% Completed | 389.35 s"
     ]
    },
    {
     "name": "stderr",
     "output_type": "stream",
     "text": [
      " WARNING: FIR normalized: sum[coef]=9.767192E-01;     \n",
      " WARNING: FIR normalized: sum[coef]=9.767192E-01;     \n",
      " WARNING: FIR normalized: sum[coef]=9.767192E-01;     \n",
      " WARNING: FIR normalized: sum[coef]=9.767192E-01;     \n"
     ]
    },
    {
     "name": "stdout",
     "output_type": "stream",
     "text": [
      "[########################                ] | 60% Completed | 389.58 s"
     ]
    },
    {
     "name": "stderr",
     "output_type": "stream",
     "text": [
      " WARNING: FIR normalized: sum[coef]=9.767192E-01;     \n",
      " WARNING: FIR normalized: sum[coef]=9.767192E-01;     \n",
      " WARNING: FIR normalized: sum[coef]=9.767192E-01;     \n"
     ]
    },
    {
     "name": "stdout",
     "output_type": "stream",
     "text": [
      "[########################                ] | 60% Completed | 389.80 s"
     ]
    },
    {
     "name": "stderr",
     "output_type": "stream",
     "text": [
      " WARNING: FIR normalized: sum[coef]=9.767192E-01;     \n",
      " WARNING: FIR normalized: sum[coef]=9.767192E-01;     \n",
      " WARNING: FIR normalized: sum[coef]=9.767192E-01;     \n",
      " WARNING: FIR normalized: sum[coef]=9.767192E-01;     \n",
      " WARNING: FIR normalized: sum[coef]=9.767192E-01;     \n",
      " WARNING: FIR normalized: sum[coef]=9.767192E-01;     \n"
     ]
    },
    {
     "name": "stdout",
     "output_type": "stream",
     "text": [
      "[########################                ] | 60% Completed | 390.15 s"
     ]
    },
    {
     "name": "stderr",
     "output_type": "stream",
     "text": [
      " WARNING: FIR normalized: sum[coef]=9.767192E-01;     \n",
      " WARNING: FIR normalized: sum[coef]=9.767192E-01;     \n",
      " WARNING: FIR normalized: sum[coef]=9.767192E-01;     \n",
      " WARNING: FIR normalized: sum[coef]=9.767192E-01;     \n",
      " WARNING: FIR normalized: sum[coef]=9.767192E-01;     \n",
      " WARNING: FIR normalized: sum[coef]=9.767192E-01;     \n"
     ]
    },
    {
     "name": "stdout",
     "output_type": "stream",
     "text": [
      "[########################                ] | 60% Completed | 390.51 s"
     ]
    },
    {
     "name": "stderr",
     "output_type": "stream",
     "text": [
      " WARNING: FIR normalized: sum[coef]=9.767192E-01;     \n",
      " WARNING: FIR normalized: sum[coef]=9.767192E-01;     \n",
      " WARNING: FIR normalized: sum[coef]=9.767192E-01;     \n"
     ]
    },
    {
     "name": "stdout",
     "output_type": "stream",
     "text": [
      "[########################                ] | 60% Completed | 390.74 s"
     ]
    },
    {
     "name": "stderr",
     "output_type": "stream",
     "text": [
      " WARNING: FIR normalized: sum[coef]=9.767192E-01;     \n",
      " WARNING: FIR normalized: sum[coef]=9.767192E-01;     \n",
      " WARNING: FIR normalized: sum[coef]=9.767192E-01;     \n",
      " WARNING: FIR normalized: sum[coef]=9.767192E-01;     \n",
      " WARNING: FIR normalized: sum[coef]=9.767192E-01;     \n"
     ]
    },
    {
     "name": "stdout",
     "output_type": "stream",
     "text": [
      "[########################                ] | 60% Completed | 390.97 s"
     ]
    },
    {
     "name": "stderr",
     "output_type": "stream",
     "text": [
      " WARNING: FIR normalized: sum[coef]=9.767192E-01;     \n",
      " WARNING: FIR normalized: sum[coef]=9.767192E-01;     \n",
      " WARNING: FIR normalized: sum[coef]=9.767192E-01;     \n",
      " WARNING: FIR normalized: sum[coef]=9.767192E-01;     \n",
      " WARNING: FIR normalized: sum[coef]=9.767192E-01;     \n"
     ]
    },
    {
     "name": "stdout",
     "output_type": "stream",
     "text": [
      "[########################                ] | 60% Completed | 391.23 s"
     ]
    },
    {
     "name": "stderr",
     "output_type": "stream",
     "text": [
      " WARNING: FIR normalized: sum[coef]=9.767192E-01;     \n",
      " WARNING: FIR normalized: sum[coef]=9.767192E-01;     \n",
      " WARNING: FIR normalized: sum[coef]=9.767192E-01;     \n",
      " WARNING: FIR normalized: sum[coef]=9.767192E-01;     \n",
      " WARNING: FIR normalized: sum[coef]=9.767192E-01;     \n",
      " WARNING: FIR normalized: sum[coef]=9.767192E-01;     \n"
     ]
    },
    {
     "name": "stdout",
     "output_type": "stream",
     "text": [
      "[########################                ] | 60% Completed | 391.46 s"
     ]
    },
    {
     "name": "stderr",
     "output_type": "stream",
     "text": [
      " WARNING: FIR normalized: sum[coef]=9.767192E-01;     \n",
      " WARNING: FIR normalized: sum[coef]=9.767192E-01;     \n",
      " WARNING: FIR normalized: sum[coef]=9.767192E-01;     \n",
      " WARNING: FIR normalized: sum[coef]=9.767192E-01;     \n",
      " WARNING: FIR normalized: sum[coef]=9.767192E-01;     \n"
     ]
    },
    {
     "name": "stdout",
     "output_type": "stream",
     "text": [
      "[########################                ] | 60% Completed | 391.75 s"
     ]
    },
    {
     "name": "stderr",
     "output_type": "stream",
     "text": [
      " WARNING: FIR normalized: sum[coef]=9.767192E-01;     \n",
      " WARNING: FIR normalized: sum[coef]=9.767192E-01;     \n",
      " WARNING: FIR normalized: sum[coef]=9.767192E-01;     \n",
      " WARNING: FIR normalized: sum[coef]=9.767192E-01;     \n"
     ]
    },
    {
     "name": "stdout",
     "output_type": "stream",
     "text": [
      "[########################                ] | 60% Completed | 392.00 s"
     ]
    },
    {
     "name": "stderr",
     "output_type": "stream",
     "text": [
      " WARNING: FIR normalized: sum[coef]=9.767192E-01;     \n",
      " WARNING: FIR normalized: sum[coef]=9.767192E-01;     \n",
      " WARNING: FIR normalized: sum[coef]=9.767192E-01;     \n",
      " WARNING: FIR normalized: sum[coef]=9.767192E-01;     \n",
      " WARNING: FIR normalized: sum[coef]=9.767192E-01;     \n",
      " WARNING: FIR normalized: sum[coef]=9.767192E-01;     \n"
     ]
    },
    {
     "name": "stdout",
     "output_type": "stream",
     "text": [
      "[########################                ] | 60% Completed | 392.27 s"
     ]
    },
    {
     "name": "stderr",
     "output_type": "stream",
     "text": [
      " WARNING: FIR normalized: sum[coef]=9.767192E-01;     \n",
      " WARNING: FIR normalized: sum[coef]=9.767192E-01;     \n",
      " WARNING: FIR normalized: sum[coef]=9.767192E-01;     \n",
      " WARNING: FIR normalized: sum[coef]=9.767192E-01;     \n"
     ]
    },
    {
     "name": "stdout",
     "output_type": "stream",
     "text": [
      "[########################                ] | 60% Completed | 392.50 s"
     ]
    },
    {
     "name": "stderr",
     "output_type": "stream",
     "text": [
      " WARNING: FIR normalized: sum[coef]=9.767192E-01;     \n",
      " WARNING: FIR normalized: sum[coef]=9.767192E-01;     \n",
      " WARNING: FIR normalized: sum[coef]=9.767192E-01;     \n",
      " WARNING: FIR normalized: sum[coef]=9.767192E-01;     \n",
      " WARNING: FIR normalized: sum[coef]=9.767192E-01;     \n",
      " WARNING: FIR normalized: sum[coef]=9.767192E-01;     \n",
      " WARNING: FIR normalized: sum[coef]=9.767192E-01;     \n",
      " WARNING: FIR normalized: sum[coef]=9.767192E-01;     \n",
      " WARNING: FIR normalized: sum[coef]=9.767192E-01;     \n",
      " WARNING: FIR normalized: sum[coef]=9.767192E-01;     \n"
     ]
    },
    {
     "name": "stdout",
     "output_type": "stream",
     "text": [
      "[########################                ] | 60% Completed | 392.74 s"
     ]
    },
    {
     "name": "stderr",
     "output_type": "stream",
     "text": [
      " WARNING: FIR normalized: sum[coef]=9.767192E-01;     \n",
      " WARNING: FIR normalized: sum[coef]=9.767192E-01;     \n",
      " WARNING: FIR normalized: sum[coef]=9.767192E-01;     \n",
      " WARNING: FIR normalized: sum[coef]=9.767192E-01;     \n"
     ]
    },
    {
     "name": "stdout",
     "output_type": "stream",
     "text": [
      "[########################                ] | 60% Completed | 392.99 s"
     ]
    },
    {
     "name": "stderr",
     "output_type": "stream",
     "text": [
      " WARNING: FIR normalized: sum[coef]=9.767192E-01;     \n",
      " WARNING: FIR normalized: sum[coef]=9.767192E-01;     \n",
      " WARNING: FIR normalized: sum[coef]=9.767192E-01;     \n",
      " WARNING: FIR normalized: sum[coef]=9.767192E-01;     \n"
     ]
    },
    {
     "name": "stdout",
     "output_type": "stream",
     "text": [
      "[########################                ] | 60% Completed | 393.34 s"
     ]
    },
    {
     "name": "stderr",
     "output_type": "stream",
     "text": [
      " WARNING: FIR normalized: sum[coef]=9.767192E-01;     \n",
      " WARNING: FIR normalized: sum[coef]=9.767192E-01;     \n",
      " WARNING: FIR normalized: sum[coef]=9.767192E-01;     \n",
      " WARNING: FIR normalized: sum[coef]=9.767192E-01;     \n",
      " WARNING: FIR normalized: sum[coef]=9.767192E-01;     \n",
      " WARNING: FIR normalized: sum[coef]=9.767192E-01;     \n"
     ]
    },
    {
     "name": "stdout",
     "output_type": "stream",
     "text": [
      "[########################                ] | 60% Completed | 393.56 s"
     ]
    },
    {
     "name": "stderr",
     "output_type": "stream",
     "text": [
      " WARNING: FIR normalized: sum[coef]=9.767192E-01;     \n",
      " WARNING: FIR normalized: sum[coef]=9.767192E-01;     \n",
      " WARNING: FIR normalized: sum[coef]=9.767192E-01;     \n",
      " WARNING: FIR normalized: sum[coef]=9.767192E-01;     \n",
      " WARNING: FIR normalized: sum[coef]=9.767192E-01;     \n",
      " WARNING: FIR normalized: sum[coef]=9.767192E-01;     \n",
      " WARNING: FIR normalized: sum[coef]=9.767192E-01;     \n",
      " WARNING: FIR normalized: sum[coef]=9.767192E-01;     \n",
      " WARNING: FIR normalized: sum[coef]=9.767192E-01;     \n"
     ]
    },
    {
     "name": "stdout",
     "output_type": "stream",
     "text": [
      "[########################                ] | 60% Completed | 393.78 s"
     ]
    },
    {
     "name": "stderr",
     "output_type": "stream",
     "text": [
      " WARNING: FIR normalized: sum[coef]=9.767192E-01;     \n",
      " WARNING: FIR normalized: sum[coef]=9.767192E-01;     \n",
      " WARNING: FIR normalized: sum[coef]=9.767192E-01;     \n"
     ]
    },
    {
     "name": "stdout",
     "output_type": "stream",
     "text": [
      "[########################                ] | 60% Completed | 394.02 s"
     ]
    },
    {
     "name": "stderr",
     "output_type": "stream",
     "text": [
      " WARNING: FIR normalized: sum[coef]=9.767192E-01;     \n",
      " WARNING: FIR normalized: sum[coef]=9.767192E-01;     \n",
      " WARNING: FIR normalized: sum[coef]=9.767192E-01;     \n",
      " WARNING: FIR normalized: sum[coef]=9.767192E-01;     \n",
      " WARNING: FIR normalized: sum[coef]=9.767192E-01;     \n",
      " WARNING: FIR normalized: sum[coef]=9.767192E-01;     \n",
      " WARNING: FIR normalized: sum[coef]=9.767192E-01;     \n",
      " WARNING: FIR normalized: sum[coef]=9.767192E-01;     \n"
     ]
    },
    {
     "name": "stdout",
     "output_type": "stream",
     "text": [
      "[########################                ] | 61% Completed | 394.24 s"
     ]
    },
    {
     "name": "stderr",
     "output_type": "stream",
     "text": [
      " WARNING: FIR normalized: sum[coef]=9.767192E-01;     \n",
      " WARNING: FIR normalized: sum[coef]=9.767192E-01;     \n",
      " WARNING: FIR normalized: sum[coef]=9.767192E-01;     \n",
      " WARNING: FIR normalized: sum[coef]=9.767192E-01;     \n",
      " WARNING: FIR normalized: sum[coef]=9.767192E-01;     \n",
      " WARNING: FIR normalized: sum[coef]=9.767192E-01;     \n"
     ]
    },
    {
     "name": "stdout",
     "output_type": "stream",
     "text": [
      "[########################                ] | 61% Completed | 394.49 s"
     ]
    },
    {
     "name": "stderr",
     "output_type": "stream",
     "text": [
      " WARNING: FIR normalized: sum[coef]=9.767192E-01;     \n",
      " WARNING: FIR normalized: sum[coef]=9.767192E-01;     \n",
      " WARNING: FIR normalized: sum[coef]=9.767192E-01;     \n",
      " WARNING: FIR normalized: sum[coef]=9.767192E-01;     \n"
     ]
    },
    {
     "name": "stdout",
     "output_type": "stream",
     "text": [
      "[########################                ] | 61% Completed | 394.77 s"
     ]
    },
    {
     "name": "stderr",
     "output_type": "stream",
     "text": [
      " WARNING: FIR normalized: sum[coef]=9.767192E-01;     \n",
      " WARNING: FIR normalized: sum[coef]=9.767192E-01;     \n",
      " WARNING: FIR normalized: sum[coef]=9.767192E-01;     \n",
      " WARNING: FIR normalized: sum[coef]=9.767192E-01;     \n"
     ]
    },
    {
     "name": "stdout",
     "output_type": "stream",
     "text": [
      "[########################                ] | 61% Completed | 395.00 s"
     ]
    },
    {
     "name": "stderr",
     "output_type": "stream",
     "text": [
      " WARNING: FIR normalized: sum[coef]=9.767192E-01;     \n",
      " WARNING: FIR normalized: sum[coef]=9.767192E-01;     \n",
      " WARNING: FIR normalized: sum[coef]=9.767192E-01;     \n",
      " WARNING: FIR normalized: sum[coef]=9.767192E-01;     \n",
      " WARNING: FIR normalized: sum[coef]=9.767192E-01;     \n",
      " WARNING: FIR normalized: sum[coef]=9.767192E-01;     \n",
      " WARNING: FIR normalized: sum[coef]=9.767192E-01;     \n"
     ]
    },
    {
     "name": "stdout",
     "output_type": "stream",
     "text": [
      "[########################                ] | 61% Completed | 395.23 s"
     ]
    },
    {
     "name": "stderr",
     "output_type": "stream",
     "text": [
      " WARNING: FIR normalized: sum[coef]=9.767192E-01;     \n",
      " WARNING: FIR normalized: sum[coef]=9.767192E-01;     \n",
      " WARNING: FIR normalized: sum[coef]=9.767192E-01;     \n",
      " WARNING: FIR normalized: sum[coef]=9.767192E-01;     \n",
      " WARNING: FIR normalized: sum[coef]=9.767192E-01;     \n",
      " WARNING: FIR normalized: sum[coef]=9.767192E-01;     \n"
     ]
    },
    {
     "name": "stdout",
     "output_type": "stream",
     "text": [
      "[########################                ] | 61% Completed | 395.49 s"
     ]
    },
    {
     "name": "stderr",
     "output_type": "stream",
     "text": [
      " WARNING: FIR normalized: sum[coef]=9.767192E-01;     \n",
      " WARNING: FIR normalized: sum[coef]=9.767192E-01;     \n",
      " WARNING: FIR normalized: sum[coef]=9.767192E-01;     \n",
      " WARNING: FIR normalized: sum[coef]=9.767192E-01;     \n"
     ]
    },
    {
     "name": "stdout",
     "output_type": "stream",
     "text": [
      "[########################                ] | 61% Completed | 395.72 s"
     ]
    },
    {
     "name": "stderr",
     "output_type": "stream",
     "text": [
      " WARNING: FIR normalized: sum[coef]=9.767192E-01;     \n",
      " WARNING: FIR normalized: sum[coef]=9.767192E-01;     \n",
      " WARNING: FIR normalized: sum[coef]=9.767192E-01;     \n",
      " WARNING: FIR normalized: sum[coef]=9.767192E-01;     \n"
     ]
    },
    {
     "name": "stdout",
     "output_type": "stream",
     "text": [
      "[########################                ] | 61% Completed | 395.96 s"
     ]
    },
    {
     "name": "stderr",
     "output_type": "stream",
     "text": [
      " WARNING: FIR normalized: sum[coef]=9.767192E-01;     \n",
      " WARNING: FIR normalized: sum[coef]=9.767192E-01;     \n",
      " WARNING: FIR normalized: sum[coef]=9.767192E-01;     \n",
      " WARNING: FIR normalized: sum[coef]=9.767192E-01;     \n",
      " WARNING: FIR normalized: sum[coef]=9.767192E-01; "
     ]
    },
    {
     "name": "stdout",
     "output_type": "stream",
     "text": [
      "[########################                ] | 61% Completed | 396.18 s"
     ]
    },
    {
     "name": "stderr",
     "output_type": "stream",
     "text": [
      "    \n",
      " WARNING: FIR normalized: sum[coef]=9.767192E-01;     \n",
      " WARNING: FIR normalized: sum[coef]=9.767192E-01;     \n",
      " WARNING: FIR normalized: sum[coef]=9.767192E-01;     \n",
      " WARNING: FIR normalized: sum[coef]=9.767192E-01;     \n",
      " WARNING: FIR normalized: sum[coef]=9.767192E-01;     \n"
     ]
    },
    {
     "name": "stdout",
     "output_type": "stream",
     "text": [
      "[########################                ] | 61% Completed | 396.51 s"
     ]
    },
    {
     "name": "stderr",
     "output_type": "stream",
     "text": [
      " WARNING: FIR normalized: sum[coef]=9.767192E-01;     \n",
      " WARNING: FIR normalized: sum[coef]=9.767192E-01;     \n",
      " WARNING: FIR normalized: sum[coef]=9.767192E-01;     \n"
     ]
    },
    {
     "name": "stdout",
     "output_type": "stream",
     "text": [
      "[########################                ] | 61% Completed | 396.76 s"
     ]
    },
    {
     "name": "stderr",
     "output_type": "stream",
     "text": [
      " WARNING: FIR normalized: sum[coef]=9.767192E-01;     \n",
      " WARNING: FIR normalized: sum[coef]=9.767192E-01;     \n",
      " WARNING: FIR normalized: sum[coef]=9.767192E-01;     \n",
      " WARNING: FIR normalized: sum[coef]=9.767192E-01;     \n",
      " WARNING: FIR normalized: sum[coef]=9.767192E-01;     \n"
     ]
    },
    {
     "name": "stdout",
     "output_type": "stream",
     "text": [
      "[########################                ] | 61% Completed | 397.02 s"
     ]
    },
    {
     "name": "stderr",
     "output_type": "stream",
     "text": [
      " WARNING: FIR normalized: sum[coef]=9.767192E-01;     \n",
      " WARNING: FIR normalized: sum[coef]=9.767192E-01;     \n",
      " WARNING: FIR normalized: sum[coef]=9.767192E-01;     \n",
      " WARNING: FIR normalized: sum[coef]=9.767192E-01;     \n",
      " WARNING: FIR normalized: sum[coef]=9.767192E-01;     \n"
     ]
    },
    {
     "name": "stdout",
     "output_type": "stream",
     "text": [
      "[########################                ] | 61% Completed | 397.25 s"
     ]
    },
    {
     "name": "stderr",
     "output_type": "stream",
     "text": [
      " WARNING: FIR normalized: sum[coef]=9.767192E-01;     \n",
      " WARNING: FIR normalized: sum[coef]=9.767192E-01;     \n",
      " WARNING: FIR normalized: sum[coef]=9.767192E-01;     \n",
      " WARNING: FIR normalized: sum[coef]=9.767192E-01;     \n",
      " WARNING: FIR normalized: sum[coef]=9.767192E-01;     \n"
     ]
    },
    {
     "name": "stdout",
     "output_type": "stream",
     "text": [
      "[########################                ] | 62% Completed | 397.48 s"
     ]
    },
    {
     "name": "stderr",
     "output_type": "stream",
     "text": [
      " WARNING: FIR normalized: sum[coef]=9.767192E-01;     \n",
      " WARNING: FIR normalized: sum[coef]=9.767192E-01;     \n",
      " WARNING: FIR normalized: sum[coef]=9.767192E-01;     \n",
      " WARNING: FIR normalized: sum[coef]=9.767192E-01;     \n",
      " WARNING: FIR normalized: sum[coef]=9.767192E-01;     \n",
      " WARNING: FIR normalized: sum[coef]=9.767192E-01;     \n",
      " WARNING: FIR normalized: sum[coef]=9.767192E-01;     \n",
      " WARNING: FIR normalized: sum[coef]=9.767192E-01;     \n"
     ]
    },
    {
     "name": "stdout",
     "output_type": "stream",
     "text": [
      "[########################                ] | 62% Completed | 397.71 s"
     ]
    },
    {
     "name": "stderr",
     "output_type": "stream",
     "text": [
      " WARNING: FIR normalized: sum[coef]=9.767192E-01;     \n",
      " WARNING: FIR normalized: sum[coef]=9.767192E-01;     \n",
      " WARNING: FIR normalized: sum[coef]=9.767192E-01;     \n",
      " WARNING: FIR normalized: sum[coef]=9.767192E-01;     \n"
     ]
    },
    {
     "name": "stdout",
     "output_type": "stream",
     "text": [
      "[########################                ] | 62% Completed | 397.97 s"
     ]
    },
    {
     "name": "stderr",
     "output_type": "stream",
     "text": [
      " WARNING: FIR normalized: sum[coef]=9.767192E-01;     \n",
      " WARNING: FIR normalized: sum[coef]=9.767192E-01;     \n",
      " WARNING: FIR normalized: sum[coef]=9.767192E-01;     \n",
      " WARNING: FIR normalized: sum[coef]=9.767192E-01;     \n",
      " WARNING: FIR normalized: sum[coef]=9.767192E-01;     \n",
      " WARNING: FIR normalized: sum[coef]=9.767192E-01;     \n"
     ]
    },
    {
     "name": "stdout",
     "output_type": "stream",
     "text": [
      "[########################                ] | 62% Completed | 398.21 s"
     ]
    },
    {
     "name": "stderr",
     "output_type": "stream",
     "text": [
      " WARNING: FIR normalized: sum[coef]=9.767192E-01;     \n",
      " WARNING: FIR normalized: sum[coef]=9.767192E-01;     \n",
      " WARNING: FIR normalized: sum[coef]=9.767192E-01;     \n",
      " WARNING: FIR normalized: sum[coef]=9.767192E-01;     \n",
      " WARNING: FIR normalized: sum[coef]=9.767192E-01;     \n",
      " WARNING: FIR normalized: sum[coef]=9.767192E-01;     \n"
     ]
    },
    {
     "name": "stdout",
     "output_type": "stream",
     "text": [
      "[########################                ] | 62% Completed | 398.45 s"
     ]
    },
    {
     "name": "stderr",
     "output_type": "stream",
     "text": [
      " WARNING: FIR normalized: sum[coef]=9.767192E-01;     \n",
      " WARNING: FIR normalized: sum[coef]=9.767192E-01;     \n",
      " WARNING: FIR normalized: sum[coef]=9.767192E-01;     \n",
      " WARNING: FIR normalized: sum[coef]=9.767192E-01;     \n",
      " WARNING: FIR normalized: sum[coef]=9.767192E-01;     \n",
      " WARNING: FIR normalized: sum[coef]=9.767192E-01;     \n",
      " WARNING: FIR normalized: sum[coef]=9.767192E-01;     \n"
     ]
    },
    {
     "name": "stdout",
     "output_type": "stream",
     "text": [
      "[########################                ] | 62% Completed | 398.70 s"
     ]
    },
    {
     "name": "stderr",
     "output_type": "stream",
     "text": [
      " WARNING: FIR normalized: sum[coef]=9.767192E-01;     \n",
      " WARNING: FIR normalized: sum[coef]=9.767192E-01;     \n"
     ]
    },
    {
     "name": "stdout",
     "output_type": "stream",
     "text": [
      "[#########################               ] | 62% Completed | 399.04 s"
     ]
    },
    {
     "name": "stderr",
     "output_type": "stream",
     "text": [
      " WARNING: FIR normalized: sum[coef]=9.767192E-01;     \n",
      " WARNING: FIR normalized: sum[coef]=9.767192E-01;     \n",
      " WARNING: FIR normalized: sum[coef]=9.767192E-01;     \n",
      " WARNING: FIR normalized: sum[coef]=9.767192E-01;     \n",
      " WARNING: FIR normalized: sum[coef]=9.767192E-01;     \n",
      " WARNING: FIR normalized: sum[coef]=9.767192E-01;     \n",
      " WARNING: FIR normalized: sum[coef]=9.767192E-01;     \n",
      " WARNING: FIR normalized: sum[coef]=9.767192E-01;     \n"
     ]
    },
    {
     "name": "stdout",
     "output_type": "stream",
     "text": [
      "[#########################               ] | 62% Completed | 399.27 s"
     ]
    },
    {
     "name": "stderr",
     "output_type": "stream",
     "text": [
      " WARNING: FIR normalized: sum[coef]=9.767192E-01;     \n",
      " WARNING: FIR normalized: sum[coef]=9.767192E-01;     \n",
      " WARNING: FIR normalized: sum[coef]=9.767192E-01;     \n",
      " WARNING: FIR normalized: sum[coef]=9.767192E-01;     \n",
      " WARNING: FIR normalized: sum[coef]=9.767192E-01;     \n",
      " WARNING: FIR normalized: sum[coef]=9.767192E-01;     \n",
      " WARNING: FIR normalized: sum[coef]=9.767192E-01;     \n"
     ]
    },
    {
     "name": "stdout",
     "output_type": "stream",
     "text": [
      "[#########################               ] | 62% Completed | 399.50 s"
     ]
    },
    {
     "name": "stderr",
     "output_type": "stream",
     "text": [
      " WARNING: FIR normalized: sum[coef]=9.767192E-01;     \n",
      " WARNING: FIR normalized: sum[coef]=9.767192E-01;     \n",
      " WARNING: FIR normalized: sum[coef]=9.767192E-01;     \n",
      " WARNING: FIR normalized: sum[coef]=9.767192E-01;     \n"
     ]
    },
    {
     "name": "stdout",
     "output_type": "stream",
     "text": [
      "[#########################               ] | 62% Completed | 399.85 s"
     ]
    },
    {
     "name": "stderr",
     "output_type": "stream",
     "text": [
      " WARNING: FIR normalized: sum[coef]=9.767192E-01;     \n",
      " WARNING: FIR normalized: sum[coef]=9.767192E-01;     \n",
      " WARNING: FIR normalized: sum[coef]=9.767192E-01;     \n",
      " WARNING: FIR normalized: sum[coef]=9.767192E-01;     \n",
      " WARNING: FIR normalized: sum[coef]=9.767192E-01;     \n",
      " WARNING: FIR normalized: sum[coef]=9.767192E-01;     \n"
     ]
    },
    {
     "name": "stdout",
     "output_type": "stream",
     "text": [
      "[#########################               ] | 63% Completed | 400.18 s"
     ]
    },
    {
     "name": "stderr",
     "output_type": "stream",
     "text": [
      " WARNING: FIR normalized: sum[coef]=9.767192E-01;     \n",
      " WARNING: FIR normalized: sum[coef]=9.767192E-01;     \n",
      " WARNING: FIR normalized: sum[coef]=9.767192E-01;     \n",
      " WARNING: FIR normalized: sum[coef]=9.767192E-01;     \n",
      " WARNING: FIR normalized: sum[coef]=9.767192E-01;     \n",
      " WARNING: FIR normalized: sum[coef]=9.767192E-01;     \n",
      " WARNING: FIR normalized: sum[coef]=9.767192E-01;     \n",
      " WARNING: FIR normalized: sum[coef]=9.767192E-01;     \n",
      " WARNING: FIR normalized: sum[coef]=9.767192E-01;     \n"
     ]
    },
    {
     "name": "stdout",
     "output_type": "stream",
     "text": [
      "[#########################               ] | 63% Completed | 400.31 s"
     ]
    },
    {
     "name": "stderr",
     "output_type": "stream",
     "text": [
      " WARNING: FIR normalized: sum[coef]=9.767192E-01;     \n",
      " WARNING: FIR normalized: sum[coef]=9.767192E-01;     \n",
      " WARNING: FIR normalized: sum[coef]=9.767192E-01;     \n",
      " WARNING: FIR normalized: sum[coef]=9.767192E-01;     \n"
     ]
    },
    {
     "name": "stdout",
     "output_type": "stream",
     "text": [
      "[#########################               ] | 63% Completed | 400.66 s"
     ]
    },
    {
     "name": "stderr",
     "output_type": "stream",
     "text": [
      " WARNING: FIR normalized: sum[coef]=9.767192E-01;     \n",
      " WARNING: FIR normalized: sum[coef]=9.767192E-01;     \n",
      " WARNING: FIR normalized: sum[coef]=9.767192E-01;     \n",
      " WARNING: FIR normalized: sum[coef]=9.767192E-01;     \n"
     ]
    },
    {
     "name": "stdout",
     "output_type": "stream",
     "text": [
      "[#########################               ] | 63% Completed | 400.90 s"
     ]
    },
    {
     "name": "stderr",
     "output_type": "stream",
     "text": [
      " WARNING: FIR normalized: sum[coef]=9.767192E-01;     \n",
      " WARNING: FIR normalized: sum[coef]=9.767192E-01;     \n",
      " WARNING: FIR normalized: sum[coef]=9.767192E-01;     \n"
     ]
    },
    {
     "name": "stdout",
     "output_type": "stream",
     "text": [
      "[#########################               ] | 63% Completed | 401.13 s"
     ]
    },
    {
     "name": "stderr",
     "output_type": "stream",
     "text": [
      " WARNING: FIR normalized: sum[coef]=9.767192E-01;     \n",
      " WARNING: FIR normalized: sum[coef]=9.767192E-01;     \n",
      " WARNING: FIR normalized: sum[coef]=9.767192E-01;     \n",
      " WARNING: FIR normalized: sum[coef]=9.767192E-01;     \n",
      " WARNING: FIR normalized: sum[coef]=9.767192E-01;     \n",
      " WARNING: FIR normalized: sum[coef]=9.767192E-01;     \n",
      " WARNING: FIR normalized: sum[coef]=9.767192E-01;     \n",
      " WARNING: FIR normalized: sum[coef]=9.767192E-01;     \n",
      " WARNING: FIR normalized: sum[coef]=9.767192E-01;     \n",
      " WARNING: FIR normalized: sum[coef]=9.767192E-01;     \n"
     ]
    },
    {
     "name": "stdout",
     "output_type": "stream",
     "text": [
      "[#########################               ] | 63% Completed | 401.25 s[2012-09-24T23:43:20.000291Z] No data or fatal error during detection/classification: list index out of range\n",
      "[#########################               ] | 63% Completed | 401.49 s"
     ]
    },
    {
     "name": "stderr",
     "output_type": "stream",
     "text": [
      " WARNING: FIR normalized: sum[coef]=9.767192E-01;     \n",
      " WARNING: FIR normalized: sum[coef]=9.767192E-01;     \n",
      " WARNING: FIR normalized: sum[coef]=9.767192E-01;     \n",
      " WARNING: FIR normalized: sum[coef]=9.767192E-01;     \n",
      " WARNING: FIR normalized: sum[coef]=9.767192E-01;     \n"
     ]
    },
    {
     "name": "stdout",
     "output_type": "stream",
     "text": [
      "[#########################               ] | 63% Completed | 401.73 s"
     ]
    },
    {
     "name": "stderr",
     "output_type": "stream",
     "text": [
      " WARNING: FIR normalized: sum[coef]=9.767192E-01;     \n",
      " WARNING: FIR normalized: sum[coef]=9.767192E-01;     \n",
      " WARNING: FIR normalized: sum[coef]=9.767192E-01;     \n",
      " WARNING: FIR normalized: sum[coef]=9.767192E-01;     \n",
      " WARNING: FIR normalized: sum[coef]=9.767192E-01;     \n",
      " WARNING: FIR normalized: sum[coef]=9.767192E-01;     \n"
     ]
    },
    {
     "name": "stdout",
     "output_type": "stream",
     "text": [
      "[#########################               ] | 63% Completed | 401.98 s"
     ]
    },
    {
     "name": "stderr",
     "output_type": "stream",
     "text": [
      " WARNING: FIR normalized: sum[coef]=9.767192E-01;     \n",
      " WARNING: FIR normalized: sum[coef]=9.767192E-01;     \n",
      " WARNING: FIR normalized: sum[coef]=9.767192E-01;     \n",
      " WARNING: FIR normalized: sum[coef]=9.767192E-01;     \n",
      " WARNING: FIR normalized: sum[coef]=9.767192E-01;     \n",
      " WARNING: FIR normalized: sum[coef]=9.767192E-01;     \n",
      " WARNING: FIR normalized: sum[coef]=9.767192E-01;     \n"
     ]
    },
    {
     "name": "stdout",
     "output_type": "stream",
     "text": [
      "[#########################               ] | 63% Completed | 402.21 s"
     ]
    },
    {
     "name": "stderr",
     "output_type": "stream",
     "text": [
      " WARNING: FIR normalized: sum[coef]=9.767192E-01;     \n",
      " WARNING: FIR normalized: sum[coef]=9.767192E-01;     \n",
      " WARNING: FIR normalized: sum[coef]=9.767192E-01;     \n",
      " WARNING: FIR normalized: sum[coef]=9.767192E-01;     \n"
     ]
    },
    {
     "name": "stdout",
     "output_type": "stream",
     "text": [
      "[#########################               ] | 63% Completed | 402.55 s"
     ]
    },
    {
     "name": "stderr",
     "output_type": "stream",
     "text": [
      " WARNING: FIR normalized: sum[coef]=9.767192E-01;     \n",
      " WARNING: FIR normalized: sum[coef]=9.767192E-01;     \n",
      " WARNING: FIR normalized: sum[coef]=9.767192E-01;     \n",
      " WARNING: FIR normalized: sum[coef]=9.767192E-01;     \n",
      " WARNING: FIR normalized: sum[coef]=9.767192E-01;     \n",
      " WARNING: FIR normalized: sum[coef]=9.767192E-01;     \n"
     ]
    },
    {
     "name": "stdout",
     "output_type": "stream",
     "text": [
      "[#########################               ] | 64% Completed | 402.78 s"
     ]
    },
    {
     "name": "stderr",
     "output_type": "stream",
     "text": [
      " WARNING: FIR normalized: sum[coef]=9.767192E-01;     \n",
      " WARNING: FIR normalized: sum[coef]=9.767192E-01;     \n",
      " WARNING: FIR normalized: sum[coef]=9.767192E-01;     \n",
      " WARNING: FIR normalized: sum[coef]=9.767192E-01;     \n",
      " WARNING: FIR normalized: sum[coef]=9.767192E-01;     \n"
     ]
    },
    {
     "name": "stdout",
     "output_type": "stream",
     "text": [
      "[#########################               ] | 64% Completed | 403.00 s"
     ]
    },
    {
     "name": "stderr",
     "output_type": "stream",
     "text": [
      " WARNING: FIR normalized: sum[coef]=9.767192E-01;     \n",
      " WARNING: FIR normalized: sum[coef]=9.767192E-01;     \n",
      " WARNING: FIR normalized: sum[coef]=9.767192E-01;     \n",
      " WARNING: FIR normalized: sum[coef]=9.767192E-01;     \n"
     ]
    },
    {
     "name": "stdout",
     "output_type": "stream",
     "text": [
      "[#########################               ] | 64% Completed | 403.23 s"
     ]
    },
    {
     "name": "stderr",
     "output_type": "stream",
     "text": [
      " WARNING: FIR normalized: sum[coef]=9.767192E-01;     \n",
      " WARNING: FIR normalized: sum[coef]=9.767192E-01;     \n",
      " WARNING: FIR normalized: sum[coef]=9.767192E-01;     \n",
      " WARNING: FIR normalized: sum[coef]=9.767192E-01;     \n"
     ]
    },
    {
     "name": "stdout",
     "output_type": "stream",
     "text": [
      "[#########################               ] | 64% Completed | 403.39 s"
     ]
    },
    {
     "name": "stderr",
     "output_type": "stream",
     "text": [
      " WARNING: FIR normalized: sum[coef]=9.767192E-01;     \n",
      " WARNING: FIR normalized: sum[coef]=9.767192E-01;     \n",
      " WARNING: FIR normalized: sum[coef]=9.767192E-01;     \n",
      " WARNING: FIR normalized: sum[coef]=9.767192E-01;     \n",
      " WARNING: FIR normalized: sum[coef]=9.767192E-01;     \n"
     ]
    },
    {
     "name": "stdout",
     "output_type": "stream",
     "text": [
      "[#########################               ] | 64% Completed | 403.74 s"
     ]
    },
    {
     "name": "stderr",
     "output_type": "stream",
     "text": [
      " WARNING: FIR normalized: sum[coef]=9.767192E-01;     \n",
      " WARNING: FIR normalized: sum[coef]=9.767192E-01;     \n",
      " WARNING: FIR normalized: sum[coef]=9.767192E-01;     \n",
      " WARNING: FIR normalized: sum[coef]=9.767192E-01;     \n"
     ]
    },
    {
     "name": "stdout",
     "output_type": "stream",
     "text": [
      "[#########################               ] | 64% Completed | 403.86 s"
     ]
    },
    {
     "name": "stderr",
     "output_type": "stream",
     "text": [
      " WARNING: FIR normalized: sum[coef]=9.767192E-01;     \n",
      " WARNING: FIR normalized: sum[coef]=9.767192E-01;     \n",
      " WARNING: FIR normalized: sum[coef]=9.767192E-01;     \n",
      " WARNING: FIR normalized: sum[coef]=9.767192E-01;     \n",
      " WARNING: FIR normalized: sum[coef]=9.767192E-01;     \n",
      " WARNING: FIR normalized: sum[coef]=9.767192E-01;     \n",
      " WARNING: FIR normalized: sum[coef]=9.767192E-01;     \n"
     ]
    },
    {
     "name": "stdout",
     "output_type": "stream",
     "text": [
      "[#########################               ] | 64% Completed | 404.12 s"
     ]
    },
    {
     "name": "stderr",
     "output_type": "stream",
     "text": [
      " WARNING: FIR normalized: sum[coef]=9.767192E-01;     \n",
      " WARNING: FIR normalized: sum[coef]=9.767192E-01;     \n",
      " WARNING: FIR normalized: sum[coef]=9.767192E-01;     \n",
      " WARNING: FIR normalized: sum[coef]=9.767192E-01;     \n"
     ]
    },
    {
     "name": "stdout",
     "output_type": "stream",
     "text": [
      "[##########################              ] | 65% Completed | 404.47 s"
     ]
    },
    {
     "name": "stderr",
     "output_type": "stream",
     "text": [
      " WARNING: FIR normalized: sum[coef]=9.767192E-01;     \n",
      " WARNING: FIR normalized: sum[coef]=9.767192E-01;     \n",
      " WARNING: FIR normalized: sum[coef]=9.767192E-01;     \n",
      " WARNING: FIR normalized: sum[coef]=9.767192E-01;     \n"
     ]
    },
    {
     "name": "stdout",
     "output_type": "stream",
     "text": [
      "[##########################              ] | 65% Completed | 404.71 s"
     ]
    },
    {
     "name": "stderr",
     "output_type": "stream",
     "text": [
      " WARNING: FIR normalized: sum[coef]=9.767192E-01;     \n",
      " WARNING: FIR normalized: sum[coef]=9.767192E-01;     \n",
      " WARNING: FIR normalized: sum[coef]=9.767192E-01;     \n",
      " WARNING: FIR normalized: sum[coef]=9.767192E-01;     \n",
      " WARNING: FIR normalized: sum[coef]=9.767192E-01;     \n"
     ]
    },
    {
     "name": "stdout",
     "output_type": "stream",
     "text": [
      "[##########################              ] | 65% Completed | 404.94 s"
     ]
    },
    {
     "name": "stderr",
     "output_type": "stream",
     "text": [
      " WARNING: FIR normalized: sum[coef]=9.767192E-01;     \n",
      " WARNING: FIR normalized: sum[coef]=9.767192E-01;     \n",
      " WARNING: FIR normalized: sum[coef]=9.767192E-01;     \n",
      " WARNING: FIR normalized: sum[coef]=9.767192E-01;     \n",
      " WARNING: FIR normalized: sum[coef]=9.767192E-01;     \n"
     ]
    },
    {
     "name": "stdout",
     "output_type": "stream",
     "text": [
      "[##########################              ] | 65% Completed | 405.19 s"
     ]
    },
    {
     "name": "stderr",
     "output_type": "stream",
     "text": [
      " WARNING: FIR normalized: sum[coef]=9.767192E-01;     \n",
      " WARNING: FIR normalized: sum[coef]=9.767192E-01;     \n",
      " WARNING: FIR normalized: sum[coef]=9.767192E-01;     \n",
      " WARNING: FIR normalized: sum[coef]=9.767192E-01;     \n",
      " WARNING: FIR normalized: sum[coef]=9.767192E-01;     \n",
      " WARNING: FIR normalized: sum[coef]=9.767192E-01;     \n",
      " WARNING: FIR normalized: sum[coef]=9.767192E-01;     \n"
     ]
    },
    {
     "name": "stdout",
     "output_type": "stream",
     "text": [
      "[##########################              ] | 65% Completed | 405.55 s"
     ]
    },
    {
     "name": "stderr",
     "output_type": "stream",
     "text": [
      " WARNING: FIR normalized: sum[coef]=9.767192E-01;     \n",
      " WARNING: FIR normalized: sum[coef]=9.767192E-01;     \n"
     ]
    },
    {
     "name": "stdout",
     "output_type": "stream",
     "text": [
      "[##########################              ] | 65% Completed | 405.78 s"
     ]
    },
    {
     "name": "stderr",
     "output_type": "stream",
     "text": [
      " WARNING: FIR normalized: sum[coef]=9.767192E-01;     \n",
      " WARNING: FIR normalized: sum[coef]=9.767192E-01;     \n",
      " WARNING: FIR normalized: sum[coef]=9.767192E-01;     \n",
      " WARNING: FIR normalized: sum[coef]=9.767192E-01;     \n",
      " WARNING: FIR normalized: sum[coef]=9.767192E-01;     \n",
      " WARNING: FIR normalized: sum[coef]=9.767192E-01;     \n"
     ]
    },
    {
     "name": "stdout",
     "output_type": "stream",
     "text": [
      "[##########################              ] | 65% Completed | 406.06 s"
     ]
    },
    {
     "name": "stderr",
     "output_type": "stream",
     "text": [
      " WARNING: FIR normalized: sum[coef]=9.767192E-01;     \n",
      " WARNING: FIR normalized: sum[coef]=9.767192E-01;     \n",
      " WARNING: FIR normalized: sum[coef]=9.767192E-01;     \n",
      " WARNING: FIR normalized: sum[coef]=9.767192E-01;     \n",
      " WARNING: FIR normalized: sum[coef]=9.767192E-01;     \n",
      " WARNING: FIR normalized: sum[coef]=9.767192E-01;     \n"
     ]
    },
    {
     "name": "stdout",
     "output_type": "stream",
     "text": [
      "[##########################              ] | 65% Completed | 406.39 s"
     ]
    },
    {
     "name": "stderr",
     "output_type": "stream",
     "text": [
      " WARNING: FIR normalized: sum[coef]=9.767192E-01;     \n",
      " WARNING: FIR normalized: sum[coef]=9.767192E-01;     \n",
      " WARNING: FIR normalized: sum[coef]=9.767192E-01;     \n"
     ]
    },
    {
     "name": "stdout",
     "output_type": "stream",
     "text": [
      "[##########################              ] | 65% Completed | 406.62 s"
     ]
    },
    {
     "name": "stderr",
     "output_type": "stream",
     "text": [
      " WARNING: FIR normalized: sum[coef]=9.767192E-01;     \n",
      " WARNING: FIR normalized: sum[coef]=9.767192E-01;     \n",
      " WARNING: FIR normalized: sum[coef]=9.767192E-01;     \n",
      " WARNING: FIR normalized: sum[coef]=9.767192E-01;     \n",
      " WARNING: FIR normalized: sum[coef]=9.767192E-01;     \n",
      " WARNING: FIR normalized: sum[coef]=9.767192E-01;     \n",
      " WARNING: FIR normalized: sum[coef]=9.767192E-01;     \n"
     ]
    },
    {
     "name": "stdout",
     "output_type": "stream",
     "text": [
      "[##########################              ] | 65% Completed | 406.88 s"
     ]
    },
    {
     "name": "stderr",
     "output_type": "stream",
     "text": [
      " WARNING: FIR normalized: sum[coef]=9.767192E-01;     \n",
      " WARNING: FIR normalized: sum[coef]=9.767192E-01;     \n",
      " WARNING: FIR normalized: sum[coef]=9.767192E-01;     \n",
      " WARNING: FIR normalized: sum[coef]=9.767192E-01;     \n",
      " WARNING: FIR normalized: sum[coef]=9.767192E-01;     \n",
      " WARNING: FIR normalized: sum[coef]=9.767192E-01;     \n"
     ]
    },
    {
     "name": "stdout",
     "output_type": "stream",
     "text": [
      "[##########################              ] | 65% Completed | 407.12 s"
     ]
    },
    {
     "name": "stderr",
     "output_type": "stream",
     "text": [
      " WARNING: FIR normalized: sum[coef]=9.767192E-01;     \n",
      " WARNING: FIR normalized: sum[coef]=9.767192E-01;     \n"
     ]
    },
    {
     "name": "stdout",
     "output_type": "stream",
     "text": [
      "[##########################              ] | 65% Completed | 407.59 s"
     ]
    },
    {
     "name": "stderr",
     "output_type": "stream",
     "text": [
      " WARNING: FIR normalized: sum[coef]=9.767192E-01;     \n",
      " WARNING: FIR normalized: sum[coef]=9.767192E-01;     \n",
      " WARNING: FIR normalized: sum[coef]=9.767192E-01;     \n",
      " WARNING: FIR normalized: sum[coef]=9.767192E-01;     \n",
      " WARNING: FIR normalized: sum[coef]=9.767192E-01;     \n",
      " WARNING: FIR normalized: sum[coef]=9.767192E-01;     \n",
      " WARNING: FIR normalized: sum[coef]=9.767192E-01;     \n"
     ]
    },
    {
     "name": "stdout",
     "output_type": "stream",
     "text": [
      "[##########################              ] | 66% Completed | 407.81 s"
     ]
    },
    {
     "name": "stderr",
     "output_type": "stream",
     "text": [
      " WARNING: FIR normalized: sum[coef]=9.767192E-01;     \n",
      " WARNING: FIR normalized: sum[coef]=9.767192E-01;     \n",
      " WARNING: FIR normalized: sum[coef]=9.767192E-01;     \n",
      " WARNING: FIR normalized: sum[coef]=9.767192E-01;     \n",
      " WARNING: FIR normalized: sum[coef]=9.767192E-01;     \n",
      " WARNING: FIR normalized: sum[coef]=9.767192E-01;     \n",
      " WARNING: FIR normalized: sum[coef]=9.767192E-01;     \n",
      " WARNING: FIR normalized: sum[coef]=9.767192E-01;     \n"
     ]
    },
    {
     "name": "stdout",
     "output_type": "stream",
     "text": [
      "[##########################              ] | 66% Completed | 408.25 s"
     ]
    },
    {
     "name": "stderr",
     "output_type": "stream",
     "text": [
      " WARNING: FIR normalized: sum[coef]=9.767192E-01;     \n",
      " WARNING: FIR normalized: sum[coef]=9.767192E-01;     \n",
      " WARNING: FIR normalized: sum[coef]=9.767192E-01;     \n",
      " WARNING: FIR normalized: sum[coef]=9.767192E-01;     \n"
     ]
    },
    {
     "name": "stdout",
     "output_type": "stream",
     "text": [
      "[##########################              ] | 66% Completed | 408.49 s"
     ]
    },
    {
     "name": "stderr",
     "output_type": "stream",
     "text": [
      " WARNING: FIR normalized: sum[coef]=9.767192E-01;     \n",
      " WARNING: FIR normalized: sum[coef]=9.767192E-01;     \n",
      " WARNING: FIR normalized: sum[coef]=9.767192E-01;     \n",
      " WARNING: FIR normalized: sum[coef]=9.767192E-01;     \n"
     ]
    },
    {
     "name": "stdout",
     "output_type": "stream",
     "text": [
      "[##########################              ] | 66% Completed | 408.74 s"
     ]
    },
    {
     "name": "stderr",
     "output_type": "stream",
     "text": [
      " WARNING: FIR normalized: sum[coef]=9.767192E-01;     \n",
      " WARNING: FIR normalized: sum[coef]=9.767192E-01;     \n",
      " WARNING: FIR normalized: sum[coef]=9.767192E-01;     \n",
      " WARNING: FIR normalized: sum[coef]=9.767192E-01;     \n",
      " WARNING: FIR normalized: sum[coef]=9.767192E-01;     \n"
     ]
    },
    {
     "name": "stdout",
     "output_type": "stream",
     "text": [
      "[##########################              ] | 67% Completed | 409.08 s"
     ]
    },
    {
     "name": "stderr",
     "output_type": "stream",
     "text": [
      " WARNING: FIR normalized: sum[coef]=9.767192E-01;     \n",
      " WARNING: FIR normalized: sum[coef]=9.767192E-01;     \n",
      " WARNING: FIR normalized: sum[coef]=9.767192E-01;     \n"
     ]
    },
    {
     "name": "stdout",
     "output_type": "stream",
     "text": [
      "[##########################              ] | 67% Completed | 409.33 s"
     ]
    },
    {
     "name": "stderr",
     "output_type": "stream",
     "text": [
      " WARNING: FIR normalized: sum[coef]=9.767192E-01;     \n",
      " WARNING: FIR normalized: sum[coef]=9.767192E-01;     \n",
      " WARNING: FIR normalized: sum[coef]=9.767192E-01;     \n",
      " WARNING: FIR normalized: sum[coef]=9.767192E-01;     \n",
      " WARNING: FIR normalized: sum[coef]=9.767192E-01;     \n",
      " WARNING: FIR normalized: sum[coef]=9.767192E-01;     \n",
      " WARNING: FIR normalized: sum[coef]=9.767192E-01;     \n"
     ]
    },
    {
     "name": "stdout",
     "output_type": "stream",
     "text": [
      "[##########################              ] | 67% Completed | 409.58 s"
     ]
    },
    {
     "name": "stderr",
     "output_type": "stream",
     "text": [
      " WARNING: FIR normalized: sum[coef]=9.767192E-01;     \n",
      " WARNING: FIR normalized: sum[coef]=9.767192E-01; "
     ]
    },
    {
     "name": "stdout",
     "output_type": "stream",
     "text": [
      "[##########################              ] | 67% Completed | 409.83 s"
     ]
    },
    {
     "name": "stderr",
     "output_type": "stream",
     "text": [
      "    \n",
      " WARNING: FIR normalized: sum[coef]=9.767192E-01;     \n",
      " WARNING: FIR normalized: sum[coef]=9.767192E-01;     \n",
      " WARNING: FIR normalized: sum[coef]=9.767192E-01;     \n"
     ]
    },
    {
     "name": "stdout",
     "output_type": "stream",
     "text": [
      "[##########################              ] | 67% Completed | 410.08 s"
     ]
    },
    {
     "name": "stderr",
     "output_type": "stream",
     "text": [
      " WARNING: FIR normalized: sum[coef]=9.767192E-01;     \n",
      " WARNING: FIR normalized: sum[coef]=9.767192E-01;     \n",
      " WARNING: FIR normalized: sum[coef]=9.767192E-01;     \n"
     ]
    },
    {
     "name": "stdout",
     "output_type": "stream",
     "text": [
      "[##########################              ] | 67% Completed | 410.34 s"
     ]
    },
    {
     "name": "stderr",
     "output_type": "stream",
     "text": [
      " WARNING: FIR normalized: sum[coef]=9.767192E-01;     \n",
      " WARNING: FIR normalized: sum[coef]=9.767192E-01;     \n",
      " WARNING: FIR normalized: sum[coef]=9.767192E-01;     \n",
      " WARNING: FIR normalized: sum[coef]=9.767192E-01;     \n",
      " WARNING: FIR normalized: sum[coef]=9.767192E-01;     \n",
      " WARNING: FIR normalized: sum[coef]=9.767192E-01;     \n",
      " WARNING: FIR normalized: sum[coef]=9.767192E-01;     \n"
     ]
    },
    {
     "name": "stdout",
     "output_type": "stream",
     "text": [
      "[##########################              ] | 67% Completed | 410.70 s"
     ]
    },
    {
     "name": "stderr",
     "output_type": "stream",
     "text": [
      " WARNING: FIR normalized: sum[coef]=9.767192E-01;     \n",
      " WARNING: FIR normalized: sum[coef]=9.767192E-01;     \n",
      " WARNING: FIR normalized: sum[coef]=9.767192E-01;     \n",
      " WARNING: FIR normalized: sum[coef]=9.767192E-01;     \n",
      " WARNING: FIR normalized: sum[coef]=9.767192E-01;     \n",
      " WARNING: FIR normalized: sum[coef]=9.767192E-01;     \n"
     ]
    },
    {
     "name": "stdout",
     "output_type": "stream",
     "text": [
      "[##########################              ] | 67% Completed | 410.81 s/classification: list index out of range\n",
      "[###########################             ] | 67% Completed | 411.03 s"
     ]
    },
    {
     "name": "stderr",
     "output_type": "stream",
     "text": [
      " WARNING: FIR normalized: sum[coef]=9.767192E-01;     \n",
      " WARNING: FIR normalized: sum[coef]=9.767192E-01;     \n",
      " WARNING: FIR normalized: sum[coef]=9.767192E-01;     \n",
      " WARNING: FIR normalized: sum[coef]=9.767192E-01;     \n"
     ]
    },
    {
     "name": "stdout",
     "output_type": "stream",
     "text": [
      "[###########################             ] | 67% Completed | 411.39 s"
     ]
    },
    {
     "name": "stderr",
     "output_type": "stream",
     "text": [
      " WARNING: FIR normalized: sum[coef]=9.767192E-01;     \n",
      " WARNING: FIR normalized: sum[coef]=9.767192E-01;     \n",
      " WARNING: FIR normalized: sum[coef]=9.767192E-01;     \n"
     ]
    },
    {
     "name": "stdout",
     "output_type": "stream",
     "text": [
      "[###########################             ] | 67% Completed | 411.62 s"
     ]
    },
    {
     "name": "stderr",
     "output_type": "stream",
     "text": [
      " WARNING: FIR normalized: sum[coef]=9.767192E-01;     \n",
      " WARNING: FIR normalized: sum[coef]=9.767192E-01;     \n",
      " WARNING: FIR normalized: sum[coef]=9.767192E-01;     \n",
      " WARNING: FIR normalized: sum[coef]=9.767192E-01;     \n",
      " WARNING: FIR normalized: sum[coef]=9.767192E-01;     \n",
      " WARNING: FIR normalized: sum[coef]=9.767192E-01;     \n"
     ]
    },
    {
     "name": "stdout",
     "output_type": "stream",
     "text": [
      "[###########################             ] | 68% Completed | 411.85 s[2013-03-08T23:43:20.000000Z] No data or fatal error during detection/classification: list index out of range\n",
      "[###########################             ] | 68% Completed | 411.96 s"
     ]
    },
    {
     "name": "stderr",
     "output_type": "stream",
     "text": [
      " WARNING: FIR normalized: sum[coef]=9.767192E-01;     \n",
      " WARNING: FIR normalized: sum[coef]=9.767192E-01;     \n",
      " WARNING: FIR normalized: sum[coef]=9.767192E-01;     \n"
     ]
    },
    {
     "name": "stdout",
     "output_type": "stream",
     "text": [
      "[###########################             ] | 68% Completed | 412.17 s"
     ]
    },
    {
     "name": "stderr",
     "output_type": "stream",
     "text": [
      " WARNING: FIR normalized: sum[coef]=9.767192E-01;     \n",
      " WARNING: FIR normalized: sum[coef]=9.767192E-01;     \n"
     ]
    },
    {
     "name": "stdout",
     "output_type": "stream",
     "text": [
      "[###########################             ] | 68% Completed | 412.28 s"
     ]
    },
    {
     "name": "stderr",
     "output_type": "stream",
     "text": [
      " WARNING: FIR normalized: sum[coef]=9.767192E-01;     \n",
      " WARNING: FIR normalized: sum[coef]=9.767192E-01;     \n",
      " WARNING: FIR normalized: sum[coef]=9.767192E-01;     \n",
      " WARNING: FIR normalized: sum[coef]=9.767192E-01;     \n",
      " WARNING: FIR normalized: sum[coef]=9.767192E-01;     \n"
     ]
    },
    {
     "name": "stdout",
     "output_type": "stream",
     "text": [
      "[###########################             ] | 69% Completed | 412.53 s"
     ]
    },
    {
     "name": "stderr",
     "output_type": "stream",
     "text": [
      " WARNING: FIR normalized: sum[coef]=9.767192E-01;     \n",
      " WARNING: FIR normalized: sum[coef]=9.767192E-01;     \n"
     ]
    },
    {
     "name": "stdout",
     "output_type": "stream",
     "text": [
      "[###########################             ] | 69% Completed | 412.88 s"
     ]
    },
    {
     "name": "stderr",
     "output_type": "stream",
     "text": [
      " WARNING: FIR normalized: sum[coef]=9.767192E-01;     \n",
      " WARNING: FIR normalized: sum[coef]=9.767192E-01;     \n",
      " WARNING: FIR normalized: sum[coef]=9.767192E-01;     \n",
      " WARNING: FIR normalized: sum[coef]=9.767192E-01;     \n",
      " WARNING: FIR normalized: sum[coef]=9.767192E-01;     \n"
     ]
    },
    {
     "name": "stdout",
     "output_type": "stream",
     "text": [
      "[###########################             ] | 69% Completed | 413.22 s"
     ]
    },
    {
     "name": "stderr",
     "output_type": "stream",
     "text": [
      " WARNING: FIR normalized: sum[coef]=9.767192E-01;     \n",
      " WARNING: FIR normalized: sum[coef]=9.767192E-01;     \n",
      " WARNING: FIR normalized: sum[coef]=9.767192E-01;     \n",
      " WARNING: FIR normalized: sum[coef]=9.767192E-01;     \n"
     ]
    },
    {
     "name": "stdout",
     "output_type": "stream",
     "text": [
      "[###########################             ] | 69% Completed | 413.58 s"
     ]
    },
    {
     "name": "stderr",
     "output_type": "stream",
     "text": [
      " WARNING: FIR normalized: sum[coef]=9.767192E-01;     \n",
      " WARNING: FIR normalized: sum[coef]=9.767192E-01;     \n",
      " WARNING: FIR normalized: sum[coef]=9.767192E-01;     \n",
      " WARNING: FIR normalized: sum[coef]=9.767192E-01;     \n",
      " WARNING: FIR normalized: sum[coef]=9.767192E-01;     \n"
     ]
    },
    {
     "name": "stdout",
     "output_type": "stream",
     "text": [
      "[###########################             ] | 69% Completed | 413.92 s"
     ]
    },
    {
     "name": "stderr",
     "output_type": "stream",
     "text": [
      " WARNING: FIR normalized: sum[coef]=9.767192E-01;     \n",
      " WARNING: FIR normalized: sum[coef]=9.767192E-01;     \n",
      " WARNING: FIR normalized: sum[coef]=9.767192E-01;     \n"
     ]
    },
    {
     "name": "stdout",
     "output_type": "stream",
     "text": [
      "[###########################             ] | 69% Completed | 414.17 s"
     ]
    },
    {
     "name": "stderr",
     "output_type": "stream",
     "text": [
      " WARNING: FIR normalized: sum[coef]=9.767192E-01;     \n",
      " WARNING: FIR normalized: sum[coef]=9.767192E-01;     \n",
      " WARNING: FIR normalized: sum[coef]=9.767192E-01;     \n"
     ]
    },
    {
     "name": "stdout",
     "output_type": "stream",
     "text": [
      "[###########################             ] | 69% Completed | 414.42 s"
     ]
    },
    {
     "name": "stderr",
     "output_type": "stream",
     "text": [
      " WARNING: FIR normalized: sum[coef]=9.767192E-01;     \n",
      " WARNING: FIR normalized: sum[coef]=9.767192E-01;     \n",
      " WARNING: FIR normalized: sum[coef]=9.767192E-01;     \n"
     ]
    },
    {
     "name": "stdout",
     "output_type": "stream",
     "text": [
      "[###########################             ] | 69% Completed | 414.66 s"
     ]
    },
    {
     "name": "stderr",
     "output_type": "stream",
     "text": [
      " WARNING: FIR normalized: sum[coef]=9.767192E-01;     \n",
      " WARNING: FIR normalized: sum[coef]=9.767192E-01;     \n"
     ]
    },
    {
     "name": "stdout",
     "output_type": "stream",
     "text": [
      "[###########################             ] | 69% Completed | 414.88 s"
     ]
    },
    {
     "name": "stderr",
     "output_type": "stream",
     "text": [
      " WARNING: FIR normalized: sum[coef]=9.767192E-01;     \n",
      " WARNING: FIR normalized: sum[coef]=9.767192E-01;     \n",
      " WARNING: FIR normalized: sum[coef]=9.767192E-01;     \n"
     ]
    },
    {
     "name": "stdout",
     "output_type": "stream",
     "text": [
      "[###########################             ] | 69% Completed | 415.11 s"
     ]
    },
    {
     "name": "stderr",
     "output_type": "stream",
     "text": [
      " WARNING: FIR normalized: sum[coef]=9.767192E-01;     \n",
      " WARNING: FIR normalized: sum[coef]=9.767192E-01;     \n",
      " WARNING: FIR normalized: sum[coef]=9.767192E-01;     \n"
     ]
    },
    {
     "name": "stdout",
     "output_type": "stream",
     "text": [
      "[###########################             ] | 69% Completed | 415.46 s"
     ]
    },
    {
     "name": "stderr",
     "output_type": "stream",
     "text": [
      " WARNING: FIR normalized: sum[coef]=9.767192E-01;     \n",
      " WARNING: FIR normalized: sum[coef]=9.767192E-01;     \n",
      " WARNING: FIR normalized: sum[coef]=9.767192E-01;     \n",
      " WARNING: FIR normalized: sum[coef]=9.767192E-01;     \n"
     ]
    },
    {
     "name": "stdout",
     "output_type": "stream",
     "text": [
      "[###########################             ] | 69% Completed | 415.80 s"
     ]
    },
    {
     "name": "stderr",
     "output_type": "stream",
     "text": [
      " WARNING: FIR normalized: sum[coef]=9.767192E-01;     \n",
      " WARNING: FIR normalized: sum[coef]=9.767192E-01;     \n",
      " WARNING: FIR normalized: sum[coef]=9.767192E-01;     \n"
     ]
    },
    {
     "name": "stdout",
     "output_type": "stream",
     "text": [
      "[###########################             ] | 69% Completed | 416.12 s"
     ]
    },
    {
     "name": "stderr",
     "output_type": "stream",
     "text": [
      " WARNING: FIR normalized: sum[coef]=9.767192E-01;     \n",
      " WARNING: FIR normalized: sum[coef]=9.767192E-01;     \n",
      " WARNING: FIR normalized: sum[coef]=9.767192E-01;     \n",
      " WARNING: FIR normalized: sum[coef]=9.767192E-01;     \n",
      " WARNING: FIR normalized: sum[coef]=9.767192E-01;     \n"
     ]
    },
    {
     "name": "stdout",
     "output_type": "stream",
     "text": [
      "[###########################             ] | 69% Completed | 416.35 s"
     ]
    },
    {
     "name": "stderr",
     "output_type": "stream",
     "text": [
      " WARNING: FIR normalized: sum[coef]=9.767192E-01;     \n",
      " WARNING: FIR normalized: sum[coef]=9.767192E-01;     \n"
     ]
    },
    {
     "name": "stdout",
     "output_type": "stream",
     "text": [
      "[###########################             ] | 69% Completed | 416.58 s"
     ]
    },
    {
     "name": "stderr",
     "output_type": "stream",
     "text": [
      " WARNING: FIR normalized: sum[coef]=9.767192E-01;     \n",
      " WARNING: FIR normalized: sum[coef]=9.767192E-01;     \n",
      " WARNING: FIR normalized: sum[coef]=9.767192E-01;     \n",
      " WARNING: FIR normalized: sum[coef]=9.767192E-01;     \n"
     ]
    },
    {
     "name": "stdout",
     "output_type": "stream",
     "text": [
      "[###########################             ] | 69% Completed | 416.93 s"
     ]
    },
    {
     "name": "stderr",
     "output_type": "stream",
     "text": [
      " WARNING: FIR normalized: sum[coef]=9.767192E-01;     \n",
      " WARNING: FIR normalized: sum[coef]=9.767192E-01;     \n",
      " WARNING: FIR normalized: sum[coef]=9.767192E-01;     \n"
     ]
    },
    {
     "name": "stdout",
     "output_type": "stream",
     "text": [
      "[###########################             ] | 69% Completed | 417.03 s"
     ]
    },
    {
     "name": "stderr",
     "output_type": "stream",
     "text": [
      " WARNING: FIR normalized: sum[coef]=9.767192E-01;     \n",
      " WARNING: FIR normalized: sum[coef]=9.767192E-01;     \n",
      " WARNING: FIR normalized: sum[coef]=9.767192E-01;     \n",
      " WARNING: FIR normalized: sum[coef]=9.767192E-01;     \n"
     ]
    },
    {
     "name": "stdout",
     "output_type": "stream",
     "text": [
      "[###########################             ] | 69% Completed | 417.28 s"
     ]
    },
    {
     "name": "stderr",
     "output_type": "stream",
     "text": [
      " WARNING: FIR normalized: sum[coef]=9.767192E-01;     \n",
      " WARNING: FIR normalized: sum[coef]=9.767192E-01;     \n",
      " WARNING: FIR normalized: sum[coef]=9.767192E-01;     \n"
     ]
    },
    {
     "name": "stdout",
     "output_type": "stream",
     "text": [
      "[############################            ] | 70% Completed | 417.62 s"
     ]
    },
    {
     "name": "stderr",
     "output_type": "stream",
     "text": [
      " WARNING: FIR normalized: sum[coef]=9.767192E-01;     \n",
      " WARNING: FIR normalized: sum[coef]=9.767192E-01;     \n",
      " WARNING: FIR normalized: sum[coef]=9.767192E-01;     \n",
      " WARNING: FIR normalized: sum[coef]=9.767192E-01;     \n"
     ]
    },
    {
     "name": "stdout",
     "output_type": "stream",
     "text": [
      "[############################            ] | 70% Completed | 417.84 s"
     ]
    },
    {
     "name": "stderr",
     "output_type": "stream",
     "text": [
      " WARNING: FIR normalized: sum[coef]=9.767192E-01;     \n",
      " WARNING: FIR normalized: sum[coef]=9.767192E-01;     \n"
     ]
    },
    {
     "name": "stdout",
     "output_type": "stream",
     "text": [
      "[############################            ] | 70% Completed | 418.07 s"
     ]
    },
    {
     "name": "stderr",
     "output_type": "stream",
     "text": [
      " WARNING: FIR normalized: sum[coef]=9.767192E-01;     \n",
      " WARNING: FIR normalized: sum[coef]=9.767192E-01;     \n",
      " WARNING: FIR normalized: sum[coef]=9.767192E-01;     \n",
      " WARNING: FIR normalized: sum[coef]=9.767192E-01;     \n"
     ]
    },
    {
     "name": "stdout",
     "output_type": "stream",
     "text": [
      "[############################            ] | 70% Completed | 418.53 s"
     ]
    },
    {
     "name": "stderr",
     "output_type": "stream",
     "text": [
      " WARNING: FIR normalized: sum[coef]=9.767192E-01;     \n",
      " WARNING: FIR normalized: sum[coef]=9.767192E-01;     \n",
      " WARNING: FIR normalized: sum[coef]=9.767192E-01;     \n",
      " WARNING: FIR normalized: sum[coef]=9.767192E-01;     \n",
      " WARNING: FIR normalized: sum[coef]=9.767192E-01;     \n"
     ]
    },
    {
     "name": "stdout",
     "output_type": "stream",
     "text": [
      "[############################            ] | 70% Completed | 418.86 s"
     ]
    },
    {
     "name": "stderr",
     "output_type": "stream",
     "text": [
      " WARNING: FIR normalized: sum[coef]=9.767192E-01;     \n",
      " WARNING: FIR normalized: sum[coef]=9.767192E-01;     \n",
      " WARNING: FIR normalized: sum[coef]=9.767192E-01;     \n"
     ]
    },
    {
     "name": "stdout",
     "output_type": "stream",
     "text": [
      "[############################            ] | 70% Completed | 419.09 s"
     ]
    },
    {
     "name": "stderr",
     "output_type": "stream",
     "text": [
      " WARNING: FIR normalized: sum[coef]=9.767192E-01;     \n",
      " WARNING: FIR normalized: sum[coef]=9.767192E-01;     \n"
     ]
    },
    {
     "name": "stdout",
     "output_type": "stream",
     "text": [
      "[############################            ] | 70% Completed | 419.43 s"
     ]
    },
    {
     "name": "stderr",
     "output_type": "stream",
     "text": [
      " WARNING: FIR normalized: sum[coef]=9.767192E-01;     \n",
      " WARNING: FIR normalized: sum[coef]=9.767192E-01;     \n",
      " WARNING: FIR normalized: sum[coef]=9.767192E-01;     \n",
      " WARNING: FIR normalized: sum[coef]=9.767192E-01;     \n",
      " WARNING: FIR normalized: sum[coef]=9.767192E-01;     \n"
     ]
    },
    {
     "name": "stdout",
     "output_type": "stream",
     "text": [
      "[############################            ] | 70% Completed | 419.66 s"
     ]
    },
    {
     "name": "stderr",
     "output_type": "stream",
     "text": [
      " WARNING: FIR normalized: sum[coef]=9.767192E-01;     \n",
      " WARNING: FIR normalized: sum[coef]=9.767192E-01;     \n"
     ]
    },
    {
     "name": "stdout",
     "output_type": "stream",
     "text": [
      "[############################            ] | 70% Completed | 420.00 s"
     ]
    },
    {
     "name": "stderr",
     "output_type": "stream",
     "text": [
      " WARNING: FIR normalized: sum[coef]=9.767192E-01;     \n",
      " WARNING: FIR normalized: sum[coef]=9.767192E-01;     \n",
      " WARNING: FIR normalized: sum[coef]=9.767192E-01;     \n",
      " WARNING: FIR normalized: sum[coef]=9.767192E-01;     \n",
      " WARNING: FIR normalized: sum[coef]=9.767192E-01;     \n"
     ]
    },
    {
     "name": "stdout",
     "output_type": "stream",
     "text": [
      "[############################            ] | 70% Completed | 420.23 s"
     ]
    },
    {
     "name": "stderr",
     "output_type": "stream",
     "text": [
      " WARNING: FIR normalized: sum[coef]=9.767192E-01;     \n",
      " WARNING: FIR normalized: sum[coef]=9.767192E-01;     \n",
      " WARNING: FIR normalized: sum[coef]=9.767192E-01;     \n"
     ]
    },
    {
     "name": "stdout",
     "output_type": "stream",
     "text": [
      "[############################            ] | 70% Completed | 420.69 s"
     ]
    },
    {
     "name": "stderr",
     "output_type": "stream",
     "text": [
      " WARNING: FIR normalized: sum[coef]=9.767192E-01;     \n",
      " WARNING: FIR normalized: sum[coef]=9.767192E-01;     \n",
      " WARNING: FIR normalized: sum[coef]=9.767192E-01;     \n",
      " WARNING: FIR normalized: sum[coef]=9.767192E-01;     \n"
     ]
    },
    {
     "name": "stdout",
     "output_type": "stream",
     "text": [
      "[############################            ] | 70% Completed | 420.92 s"
     ]
    },
    {
     "name": "stderr",
     "output_type": "stream",
     "text": [
      " WARNING: FIR normalized: sum[coef]=9.767192E-01;     \n",
      " WARNING: FIR normalized: sum[coef]=9.767192E-01;     \n",
      " WARNING: FIR normalized: sum[coef]=9.767192E-01;     \n"
     ]
    },
    {
     "name": "stdout",
     "output_type": "stream",
     "text": [
      "[############################            ] | 70% Completed | 421.04 s[2013-03-26T23:43:19.996512Z] No data or fatal error during detection/classification: list index out of range\n",
      "[############################            ] | 70% Completed | 421.15 s"
     ]
    },
    {
     "name": "stderr",
     "output_type": "stream",
     "text": [
      " WARNING: FIR normalized: sum[coef]=9.767192E-01;     \n"
     ]
    },
    {
     "name": "stdout",
     "output_type": "stream",
     "text": [
      "[############################            ] | 70% Completed | 421.51 s"
     ]
    },
    {
     "name": "stderr",
     "output_type": "stream",
     "text": [
      " WARNING: FIR normalized: sum[coef]=9.767192E-01;     \n",
      " WARNING: FIR normalized: sum[coef]=9.767192E-01;     \n",
      " WARNING: FIR normalized: sum[coef]=9.767192E-01;     \n",
      " WARNING: FIR normalized: sum[coef]=9.767192E-01;     \n"
     ]
    },
    {
     "name": "stdout",
     "output_type": "stream",
     "text": [
      "[############################            ] | 70% Completed | 421.62 s"
     ]
    },
    {
     "name": "stderr",
     "output_type": "stream",
     "text": [
      " WARNING: FIR normalized: sum[coef]=9.767192E-01;     \n",
      " WARNING: FIR normalized: sum[coef]=9.767192E-01;     \n"
     ]
    },
    {
     "name": "stdout",
     "output_type": "stream",
     "text": [
      "[############################            ] | 70% Completed | 421.96 s"
     ]
    },
    {
     "name": "stderr",
     "output_type": "stream",
     "text": [
      " WARNING: FIR normalized: sum[coef]=9.767192E-01;     \n",
      " WARNING: FIR normalized: sum[coef]=9.767192E-01;     \n"
     ]
    },
    {
     "name": "stdout",
     "output_type": "stream",
     "text": [
      "[############################            ] | 70% Completed | 422.20 s"
     ]
    },
    {
     "name": "stderr",
     "output_type": "stream",
     "text": [
      " WARNING: FIR normalized: sum[coef]=9.767192E-01;     \n",
      " WARNING: FIR normalized: sum[coef]=9.767192E-01;     \n"
     ]
    },
    {
     "name": "stdout",
     "output_type": "stream",
     "text": [
      "[############################            ] | 70% Completed | 422.43 s"
     ]
    },
    {
     "name": "stderr",
     "output_type": "stream",
     "text": [
      " WARNING: FIR normalized: sum[coef]=9.767192E-01;     \n",
      " WARNING: FIR normalized: sum[coef]=9.767192E-01;     \n",
      " WARNING: FIR normalized: sum[coef]=9.767192E-01;     \n",
      " WARNING: FIR normalized: sum[coef]=9.767192E-01;     \n"
     ]
    },
    {
     "name": "stdout",
     "output_type": "stream",
     "text": [
      "[############################            ] | 70% Completed | 422.71 s"
     ]
    },
    {
     "name": "stderr",
     "output_type": "stream",
     "text": [
      " WARNING: FIR normalized: sum[coef]=9.767192E-01;     \n",
      " WARNING: FIR normalized: sum[coef]=9.767192E-01;     \n"
     ]
    },
    {
     "name": "stdout",
     "output_type": "stream",
     "text": [
      "[############################            ] | 70% Completed | 423.04 s"
     ]
    },
    {
     "name": "stderr",
     "output_type": "stream",
     "text": [
      " WARNING: FIR normalized: sum[coef]=9.767192E-01;     \n",
      " WARNING: FIR normalized: sum[coef]=9.767192E-01;     \n",
      " WARNING: FIR normalized: sum[coef]=9.767192E-01;     \n",
      " WARNING: FIR normalized: sum[coef]=9.767192E-01;     \n",
      " WARNING: FIR normalized: sum[coef]=9.767192E-01;     \n",
      " WARNING: FIR normalized: sum[coef]=9.767192E-01;     \n"
     ]
    },
    {
     "name": "stdout",
     "output_type": "stream",
     "text": [
      "[############################            ] | 70% Completed | 423.29 s"
     ]
    },
    {
     "name": "stderr",
     "output_type": "stream",
     "text": [
      " WARNING: FIR normalized: sum[coef]=9.767192E-01;     \n",
      " WARNING: FIR normalized: sum[coef]=9.767192E-01;     \n"
     ]
    },
    {
     "name": "stdout",
     "output_type": "stream",
     "text": [
      "[############################            ] | 70% Completed | 423.88 s"
     ]
    },
    {
     "name": "stderr",
     "output_type": "stream",
     "text": [
      " WARNING: FIR normalized: sum[coef]=9.767192E-01;     \n",
      " WARNING: FIR normalized: sum[coef]=9.767192E-01;     \n",
      " WARNING: FIR normalized: sum[coef]=9.767192E-01;     \n",
      " WARNING: FIR normalized: sum[coef]=9.767192E-01;     \n",
      " WARNING: FIR normalized: sum[coef]=9.767192E-01;     \n",
      " WARNING: FIR normalized: sum[coef]=9.767192E-01;     \n",
      " WARNING: FIR normalized: sum[coef]=9.767192E-01;     \n"
     ]
    },
    {
     "name": "stdout",
     "output_type": "stream",
     "text": [
      "[############################            ] | 70% Completed | 424.11 s"
     ]
    },
    {
     "name": "stderr",
     "output_type": "stream",
     "text": [
      " WARNING: FIR normalized: sum[coef]=9.767192E-01;     \n"
     ]
    },
    {
     "name": "stdout",
     "output_type": "stream",
     "text": [
      "[############################            ] | 70% Completed | 424.46 s"
     ]
    },
    {
     "name": "stderr",
     "output_type": "stream",
     "text": [
      " WARNING: FIR normalized: sum[coef]=9.767192E-01;     \n",
      " WARNING: FIR normalized: sum[coef]=9.767192E-01;     \n",
      " WARNING: FIR normalized: sum[coef]=9.767192E-01;     \n"
     ]
    },
    {
     "name": "stdout",
     "output_type": "stream",
     "text": [
      "[############################            ] | 70% Completed | 424.67 s"
     ]
    },
    {
     "name": "stderr",
     "output_type": "stream",
     "text": [
      " WARNING: FIR normalized: sum[coef]=9.767192E-01;     \n",
      " WARNING: FIR normalized: sum[coef]=9.767192E-01;     \n",
      " WARNING: FIR normalized: sum[coef]=9.767192E-01;     \n"
     ]
    },
    {
     "name": "stdout",
     "output_type": "stream",
     "text": [
      "[############################            ] | 70% Completed | 424.90 s"
     ]
    },
    {
     "name": "stderr",
     "output_type": "stream",
     "text": [
      " WARNING: FIR normalized: sum[coef]=9.767192E-01;     \n",
      " WARNING: FIR normalized: sum[coef]=9.767192E-01;     \n",
      " WARNING: FIR normalized: sum[coef]=9.767192E-01;     \n"
     ]
    },
    {
     "name": "stdout",
     "output_type": "stream",
     "text": [
      "[############################            ] | 70% Completed | 425.26 s"
     ]
    },
    {
     "name": "stderr",
     "output_type": "stream",
     "text": [
      " WARNING: FIR normalized: sum[coef]=9.767192E-01;     \n",
      " WARNING: FIR normalized: sum[coef]=9.767192E-01;     \n",
      " WARNING: FIR normalized: sum[coef]=9.767192E-01;     \n"
     ]
    },
    {
     "name": "stdout",
     "output_type": "stream",
     "text": [
      "[############################            ] | 70% Completed | 425.37 s"
     ]
    },
    {
     "name": "stderr",
     "output_type": "stream",
     "text": [
      " WARNING: FIR normalized: sum[coef]=9.767192E-01;     \n",
      " WARNING: FIR normalized: sum[coef]=9.767192E-01;     \n",
      " WARNING: FIR normalized: sum[coef]=9.767192E-01;     \n"
     ]
    },
    {
     "name": "stdout",
     "output_type": "stream",
     "text": [
      "[############################            ] | 70% Completed | 425.72 s"
     ]
    },
    {
     "name": "stderr",
     "output_type": "stream",
     "text": [
      " WARNING: FIR normalized: sum[coef]=9.767192E-01;     \n",
      " WARNING: FIR normalized: sum[coef]=9.767192E-01;     \n",
      " WARNING: FIR normalized: sum[coef]=9.767192E-01;     \n",
      " WARNING: FIR normalized: sum[coef]=9.767192E-01;     \n",
      " WARNING: FIR normalized: sum[coef]=9.767192E-01;     \n"
     ]
    },
    {
     "name": "stdout",
     "output_type": "stream",
     "text": [
      "[############################            ] | 70% Completed | 426.05 s"
     ]
    },
    {
     "name": "stderr",
     "output_type": "stream",
     "text": [
      " WARNING: FIR normalized: sum[coef]=9.767192E-01;     \n",
      " WARNING: FIR normalized: sum[coef]=9.767192E-01;     \n"
     ]
    },
    {
     "name": "stdout",
     "output_type": "stream",
     "text": [
      "[############################            ] | 70% Completed | 426.39 s"
     ]
    },
    {
     "name": "stderr",
     "output_type": "stream",
     "text": [
      " WARNING: FIR normalized: sum[coef]=9.767192E-01;     \n",
      " WARNING: FIR normalized: sum[coef]=9.767192E-01;     \n",
      " WARNING: FIR normalized: sum[coef]=9.767192E-01;     \n",
      " WARNING: FIR normalized: sum[coef]=9.767192E-01;     \n"
     ]
    },
    {
     "name": "stdout",
     "output_type": "stream",
     "text": [
      "[############################            ] | 70% Completed | 426.63 s"
     ]
    },
    {
     "name": "stderr",
     "output_type": "stream",
     "text": [
      " WARNING: FIR normalized: sum[coef]=9.767192E-01;     \n",
      " WARNING: FIR normalized: sum[coef]=9.767192E-01;     \n",
      " WARNING: FIR normalized: sum[coef]=9.767192E-01;     \n"
     ]
    },
    {
     "name": "stdout",
     "output_type": "stream",
     "text": [
      "[############################            ] | 70% Completed | 426.86 s"
     ]
    },
    {
     "name": "stderr",
     "output_type": "stream",
     "text": [
      " WARNING: FIR normalized: sum[coef]=9.767192E-01;     \n",
      " WARNING: FIR normalized: sum[coef]=9.767192E-01;     \n",
      " WARNING: FIR normalized: sum[coef]=9.767192E-01;     \n"
     ]
    },
    {
     "name": "stdout",
     "output_type": "stream",
     "text": [
      "[############################            ] | 70% Completed | 427.19 s"
     ]
    },
    {
     "name": "stderr",
     "output_type": "stream",
     "text": [
      " WARNING: FIR normalized: sum[coef]=9.767192E-01;     \n",
      " WARNING: FIR normalized: sum[coef]=9.767192E-01;     \n",
      " WARNING: FIR normalized: sum[coef]=9.767192E-01;     \n"
     ]
    },
    {
     "name": "stdout",
     "output_type": "stream",
     "text": [
      "[############################            ] | 70% Completed | 427.42 s"
     ]
    },
    {
     "name": "stderr",
     "output_type": "stream",
     "text": [
      " WARNING: FIR normalized: sum[coef]=9.767192E-01;     \n",
      " WARNING: FIR normalized: sum[coef]=9.767192E-01;     \n",
      " WARNING: FIR normalized: sum[coef]=9.767192E-01;     \n",
      " WARNING: FIR normalized: sum[coef]=9.767192E-01;     \n"
     ]
    },
    {
     "name": "stdout",
     "output_type": "stream",
     "text": [
      "[############################            ] | 70% Completed | 427.64 s"
     ]
    },
    {
     "name": "stderr",
     "output_type": "stream",
     "text": [
      " WARNING: FIR normalized: sum[coef]=9.767192E-01;     \n",
      " WARNING: FIR normalized: sum[coef]=9.767192E-01;     \n"
     ]
    },
    {
     "name": "stdout",
     "output_type": "stream",
     "text": [
      "[############################            ] | 70% Completed | 427.88 s"
     ]
    },
    {
     "name": "stderr",
     "output_type": "stream",
     "text": [
      " WARNING: FIR normalized: sum[coef]=9.767192E-01;     \n",
      " WARNING: FIR normalized: sum[coef]=9.767192E-01;     \n"
     ]
    },
    {
     "name": "stdout",
     "output_type": "stream",
     "text": [
      "[############################            ] | 70% Completed | 428.10 s"
     ]
    },
    {
     "name": "stderr",
     "output_type": "stream",
     "text": [
      " WARNING: FIR normalized: sum[coef]=9.767192E-01;     \n",
      " WARNING: FIR normalized: sum[coef]=9.767192E-01;     \n",
      " WARNING: FIR normalized: sum[coef]=9.767192E-01;     \n",
      " WARNING: FIR normalized: sum[coef]=9.767192E-01;     \n"
     ]
    },
    {
     "name": "stdout",
     "output_type": "stream",
     "text": [
      "[############################            ] | 70% Completed | 428.33 s"
     ]
    },
    {
     "name": "stderr",
     "output_type": "stream",
     "text": [
      " WARNING: FIR normalized: sum[coef]=9.767192E-01;     \n",
      " WARNING: FIR normalized: sum[coef]=9.767192E-01;     \n",
      " WARNING: FIR normalized: sum[coef]=9.767192E-01;     \n"
     ]
    },
    {
     "name": "stdout",
     "output_type": "stream",
     "text": [
      "[############################            ] | 71% Completed | 428.68 s"
     ]
    },
    {
     "name": "stderr",
     "output_type": "stream",
     "text": [
      " WARNING: FIR normalized: sum[coef]=9.767192E-01;     \n",
      " WARNING: FIR normalized: sum[coef]=9.767192E-01;     \n",
      " WARNING: FIR normalized: sum[coef]=9.767192E-01;     \n",
      " WARNING: FIR normalized: sum[coef]=9.767192E-01;     \n"
     ]
    },
    {
     "name": "stdout",
     "output_type": "stream",
     "text": [
      "[############################            ] | 71% Completed | 428.91 s"
     ]
    },
    {
     "name": "stderr",
     "output_type": "stream",
     "text": [
      " WARNING: FIR normalized: sum[coef]=9.767192E-01;     \n",
      " WARNING: FIR normalized: sum[coef]=9.767192E-01;     \n"
     ]
    },
    {
     "name": "stdout",
     "output_type": "stream",
     "text": [
      "[############################            ] | 71% Completed | 429.27 s"
     ]
    },
    {
     "name": "stderr",
     "output_type": "stream",
     "text": [
      " WARNING: FIR normalized: sum[coef]=9.767192E-01;     \n",
      " WARNING: FIR normalized: sum[coef]=9.767192E-01;     \n",
      " WARNING: FIR normalized: sum[coef]=9.767192E-01;     \n",
      " WARNING: FIR normalized: sum[coef]=9.767192E-01;     \n"
     ]
    },
    {
     "name": "stdout",
     "output_type": "stream",
     "text": [
      "[############################            ] | 71% Completed | 429.48 s"
     ]
    },
    {
     "name": "stderr",
     "output_type": "stream",
     "text": [
      " WARNING: FIR normalized: sum[coef]=9.767192E-01;     \n",
      " WARNING: FIR normalized: sum[coef]=9.767192E-01;     \n",
      " WARNING: FIR normalized: sum[coef]=9.767192E-01;     \n"
     ]
    },
    {
     "name": "stdout",
     "output_type": "stream",
     "text": [
      "[############################            ] | 71% Completed | 429.84 s"
     ]
    },
    {
     "name": "stderr",
     "output_type": "stream",
     "text": [
      " WARNING: FIR normalized: sum[coef]=9.767192E-01;     \n",
      " WARNING: FIR normalized: sum[coef]=9.767192E-01;     \n",
      " WARNING: FIR normalized: sum[coef]=9.767192E-01;     \n"
     ]
    },
    {
     "name": "stdout",
     "output_type": "stream",
     "text": [
      "[############################            ] | 71% Completed | 430.08 s"
     ]
    },
    {
     "name": "stderr",
     "output_type": "stream",
     "text": [
      " WARNING: FIR normalized: sum[coef]=9.767192E-01;     \n",
      " WARNING: FIR normalized: sum[coef]=9.767192E-01;     \n",
      " WARNING: FIR normalized: sum[coef]=9.767192E-01;     \n"
     ]
    },
    {
     "name": "stdout",
     "output_type": "stream",
     "text": [
      "[############################            ] | 71% Completed | 430.30 s"
     ]
    },
    {
     "name": "stderr",
     "output_type": "stream",
     "text": [
      " WARNING: FIR normalized: sum[coef]=9.767192E-01;     \n",
      " WARNING: FIR normalized: sum[coef]=9.767192E-01;     \n",
      " WARNING: FIR normalized: sum[coef]=9.767192E-01;     \n"
     ]
    },
    {
     "name": "stdout",
     "output_type": "stream",
     "text": [
      "[############################            ] | 71% Completed | 430.78 s"
     ]
    },
    {
     "name": "stderr",
     "output_type": "stream",
     "text": [
      " WARNING: FIR normalized: sum[coef]=9.767192E-01;     \n",
      " WARNING: FIR normalized: sum[coef]=9.767192E-01;     \n",
      " WARNING: FIR normalized: sum[coef]=9.767192E-01;     \n",
      " WARNING: FIR normalized: sum[coef]=9.767192E-01;     \n"
     ]
    },
    {
     "name": "stdout",
     "output_type": "stream",
     "text": [
      "[############################            ] | 71% Completed | 431.02 s"
     ]
    },
    {
     "name": "stderr",
     "output_type": "stream",
     "text": [
      " WARNING: FIR normalized: sum[coef]=9.767192E-01;     \n",
      " WARNING: FIR normalized: sum[coef]=9.767192E-01;     \n",
      " WARNING: FIR normalized: sum[coef]=9.767192E-01;     \n"
     ]
    },
    {
     "name": "stdout",
     "output_type": "stream",
     "text": [
      "[############################            ] | 71% Completed | 431.37 s"
     ]
    },
    {
     "name": "stderr",
     "output_type": "stream",
     "text": [
      " WARNING: FIR normalized: sum[coef]=9.767192E-01;     \n",
      " WARNING: FIR normalized: sum[coef]=9.767192E-01;     \n",
      " WARNING: FIR normalized: sum[coef]=9.767192E-01;     \n"
     ]
    },
    {
     "name": "stdout",
     "output_type": "stream",
     "text": [
      "[############################            ] | 71% Completed | 431.59 s"
     ]
    },
    {
     "name": "stderr",
     "output_type": "stream",
     "text": [
      " WARNING: FIR normalized: sum[coef]=9.767192E-01;     \n",
      " WARNING: FIR normalized: sum[coef]=9.767192E-01;     \n",
      " WARNING: FIR normalized: sum[coef]=9.767192E-01;     \n"
     ]
    },
    {
     "name": "stdout",
     "output_type": "stream",
     "text": [
      "[############################            ] | 71% Completed | 432.04 s"
     ]
    },
    {
     "name": "stderr",
     "output_type": "stream",
     "text": [
      " WARNING: FIR normalized: sum[coef]=9.767192E-01;     \n",
      " WARNING: FIR normalized: sum[coef]=9.767192E-01;     \n",
      " WARNING: FIR normalized: sum[coef]=9.767192E-01;     \n",
      " WARNING: FIR normalized: sum[coef]=9.767192E-01;     \n",
      " WARNING: FIR normalized: sum[coef]=9.767192E-01;     \n"
     ]
    },
    {
     "name": "stdout",
     "output_type": "stream",
     "text": [
      "[############################            ] | 71% Completed | 432.38 s"
     ]
    },
    {
     "name": "stderr",
     "output_type": "stream",
     "text": [
      " WARNING: FIR normalized: sum[coef]=9.767192E-01;     \n",
      " WARNING: FIR normalized: sum[coef]=9.767192E-01;     \n"
     ]
    },
    {
     "name": "stdout",
     "output_type": "stream",
     "text": [
      "[############################            ] | 71% Completed | 432.84 s"
     ]
    },
    {
     "name": "stderr",
     "output_type": "stream",
     "text": [
      " WARNING: FIR normalized: sum[coef]=9.767192E-01;     \n",
      " WARNING: FIR normalized: sum[coef]=9.767192E-01;     \n",
      " WARNING: FIR normalized: sum[coef]=9.767192E-01;     \n"
     ]
    },
    {
     "name": "stdout",
     "output_type": "stream",
     "text": [
      "[############################            ] | 71% Completed | 433.07 s"
     ]
    },
    {
     "name": "stderr",
     "output_type": "stream",
     "text": [
      " WARNING: FIR normalized: sum[coef]=9.767192E-01;     \n",
      " WARNING: FIR normalized: sum[coef]=9.767192E-01;     \n"
     ]
    },
    {
     "name": "stdout",
     "output_type": "stream",
     "text": [
      "[############################            ] | 71% Completed | 433.53 s"
     ]
    },
    {
     "name": "stderr",
     "output_type": "stream",
     "text": [
      " WARNING: FIR normalized: sum[coef]=9.767192E-01;     \n",
      " WARNING: FIR normalized: sum[coef]=9.767192E-01;     \n",
      " WARNING: FIR normalized: sum[coef]=9.767192E-01;     \n",
      " WARNING: FIR normalized: sum[coef]=9.767192E-01;     \n"
     ]
    },
    {
     "name": "stdout",
     "output_type": "stream",
     "text": [
      "[############################            ] | 71% Completed | 433.96 s"
     ]
    },
    {
     "name": "stderr",
     "output_type": "stream",
     "text": [
      " WARNING: FIR normalized: sum[coef]=9.767192E-01;     \n",
      " WARNING: FIR normalized: sum[coef]=9.767192E-01;     \n"
     ]
    },
    {
     "name": "stdout",
     "output_type": "stream",
     "text": [
      "[############################            ] | 71% Completed | 434.42 s"
     ]
    },
    {
     "name": "stderr",
     "output_type": "stream",
     "text": [
      " WARNING: FIR normalized: sum[coef]=9.767192E-01;     \n",
      " WARNING: FIR normalized: sum[coef]=9.767192E-01;     \n",
      " WARNING: FIR normalized: sum[coef]=9.767192E-01;     \n"
     ]
    },
    {
     "name": "stdout",
     "output_type": "stream",
     "text": [
      "[############################            ] | 71% Completed | 434.78 s"
     ]
    },
    {
     "name": "stderr",
     "output_type": "stream",
     "text": [
      " WARNING: FIR normalized: sum[coef]=9.767192E-01;     \n",
      " WARNING: FIR normalized: sum[coef]=9.767192E-01;     \n"
     ]
    },
    {
     "name": "stdout",
     "output_type": "stream",
     "text": [
      "[############################            ] | 71% Completed | 435.03 s"
     ]
    },
    {
     "name": "stderr",
     "output_type": "stream",
     "text": [
      " WARNING: FIR normalized: sum[coef]=9.767192E-01;     \n",
      " WARNING: FIR normalized: sum[coef]=9.767192E-01;     \n"
     ]
    },
    {
     "name": "stdout",
     "output_type": "stream",
     "text": [
      "[############################            ] | 71% Completed | 435.26 s"
     ]
    },
    {
     "name": "stderr",
     "output_type": "stream",
     "text": [
      " WARNING: FIR normalized: sum[coef]=9.767192E-01;     \n",
      " WARNING: FIR normalized: sum[coef]=9.767192E-01;     \n",
      " WARNING: FIR normalized: sum[coef]=9.767192E-01;     \n"
     ]
    },
    {
     "name": "stdout",
     "output_type": "stream",
     "text": [
      "[############################            ] | 71% Completed | 435.61 s"
     ]
    },
    {
     "name": "stderr",
     "output_type": "stream",
     "text": [
      " WARNING: FIR normalized: sum[coef]=9.767192E-01;     \n",
      " WARNING: FIR normalized: sum[coef]=9.767192E-01;     \n",
      " WARNING: FIR normalized: sum[coef]=9.767192E-01;     \n",
      " WARNING: FIR normalized: sum[coef]=9.767192E-01;     \n"
     ]
    },
    {
     "name": "stdout",
     "output_type": "stream",
     "text": [
      "[############################            ] | 71% Completed | 436.09 s"
     ]
    },
    {
     "name": "stderr",
     "output_type": "stream",
     "text": [
      " WARNING: FIR normalized: sum[coef]=9.767192E-01;     \n",
      " WARNING: FIR normalized: sum[coef]=9.767192E-01;     \n"
     ]
    },
    {
     "name": "stdout",
     "output_type": "stream",
     "text": [
      "[############################            ] | 71% Completed | 436.33 s"
     ]
    },
    {
     "name": "stderr",
     "output_type": "stream",
     "text": [
      " WARNING: FIR normalized: sum[coef]=9.767192E-01;     \n",
      " WARNING: FIR normalized: sum[coef]=9.767192E-01;     \n",
      " WARNING: FIR normalized: sum[coef]=9.767192E-01;     \n",
      " WARNING: FIR normalized: sum[coef]=9.767192E-01;     \n"
     ]
    },
    {
     "name": "stdout",
     "output_type": "stream",
     "text": [
      "[############################            ] | 71% Completed | 436.66 s"
     ]
    },
    {
     "name": "stderr",
     "output_type": "stream",
     "text": [
      " WARNING: FIR normalized: sum[coef]=9.767192E-01;     \n",
      " WARNING: FIR normalized: sum[coef]=9.767192E-01;     \n"
     ]
    },
    {
     "name": "stdout",
     "output_type": "stream",
     "text": [
      "[############################            ] | 71% Completed | 437.00 s"
     ]
    },
    {
     "name": "stderr",
     "output_type": "stream",
     "text": [
      " WARNING: FIR normalized: sum[coef]=9.767192E-01;     \n",
      " WARNING: FIR normalized: sum[coef]=9.767192E-01;     \n",
      " WARNING: FIR normalized: sum[coef]=9.767192E-01;     \n",
      " WARNING: FIR normalized: sum[coef]=9.767192E-01;     \n"
     ]
    },
    {
     "name": "stdout",
     "output_type": "stream",
     "text": [
      "[############################            ] | 72% Completed | 437.37 s"
     ]
    },
    {
     "name": "stderr",
     "output_type": "stream",
     "text": [
      " WARNING: FIR normalized: sum[coef]=9.767192E-01;     \n",
      " WARNING: FIR normalized: sum[coef]=9.767192E-01;     \n"
     ]
    },
    {
     "name": "stdout",
     "output_type": "stream",
     "text": [
      "[############################            ] | 72% Completed | 437.51 s"
     ]
    },
    {
     "name": "stderr",
     "output_type": "stream",
     "text": [
      " WARNING: FIR normalized: sum[coef]=9.767192E-01;     \n"
     ]
    },
    {
     "name": "stdout",
     "output_type": "stream",
     "text": [
      "[############################            ] | 72% Completed | 437.74 s"
     ]
    },
    {
     "name": "stderr",
     "output_type": "stream",
     "text": [
      " WARNING: FIR normalized: sum[coef]=9.767192E-01;     \n",
      " WARNING: FIR normalized: sum[coef]=9.767192E-01;     \n"
     ]
    },
    {
     "name": "stdout",
     "output_type": "stream",
     "text": [
      "[############################            ] | 72% Completed | 438.22 s"
     ]
    },
    {
     "name": "stderr",
     "output_type": "stream",
     "text": [
      " WARNING: FIR normalized: sum[coef]=9.767192E-01;     \n",
      " WARNING: FIR normalized: sum[coef]=9.767192E-01;     \n",
      " WARNING: FIR normalized: sum[coef]=9.767192E-01;     \n"
     ]
    },
    {
     "name": "stdout",
     "output_type": "stream",
     "text": [
      "[############################            ] | 72% Completed | 438.44 s"
     ]
    },
    {
     "name": "stderr",
     "output_type": "stream",
     "text": [
      " WARNING: FIR normalized: sum[coef]=9.767192E-01;     \n",
      " WARNING: FIR normalized: sum[coef]=9.767192E-01;     \n"
     ]
    },
    {
     "name": "stdout",
     "output_type": "stream",
     "text": [
      "[############################            ] | 72% Completed | 438.69 s"
     ]
    },
    {
     "name": "stderr",
     "output_type": "stream",
     "text": [
      " WARNING: FIR normalized: sum[coef]=9.767192E-01;     \n"
     ]
    },
    {
     "name": "stdout",
     "output_type": "stream",
     "text": [
      "[############################            ] | 72% Completed | 439.05 s"
     ]
    },
    {
     "name": "stderr",
     "output_type": "stream",
     "text": [
      " WARNING: FIR normalized: sum[coef]=9.767192E-01;     \n",
      " WARNING: FIR normalized: sum[coef]=9.767192E-01;     \n",
      " WARNING: FIR normalized: sum[coef]=9.767192E-01;     \n"
     ]
    },
    {
     "name": "stdout",
     "output_type": "stream",
     "text": [
      "[############################            ] | 72% Completed | 439.17 s"
     ]
    },
    {
     "name": "stderr",
     "output_type": "stream",
     "text": [
      " WARNING: FIR normalized: sum[coef]=9.767192E-01;     \n",
      " WARNING: FIR normalized: sum[coef]=9.767192E-01;     \n"
     ]
    },
    {
     "name": "stdout",
     "output_type": "stream",
     "text": [
      "[############################            ] | 72% Completed | 439.63 s"
     ]
    },
    {
     "name": "stderr",
     "output_type": "stream",
     "text": [
      " WARNING: FIR normalized: sum[coef]=9.767192E-01;     \n",
      " WARNING: FIR normalized: sum[coef]=9.767192E-01;     \n"
     ]
    },
    {
     "name": "stdout",
     "output_type": "stream",
     "text": [
      "[############################            ] | 72% Completed | 439.86 s"
     ]
    },
    {
     "name": "stderr",
     "output_type": "stream",
     "text": [
      " WARNING: FIR normalized: sum[coef]=9.767192E-01;     \n",
      " WARNING: FIR normalized: sum[coef]=9.767192E-01;     \n",
      " WARNING: FIR normalized: sum[coef]=9.767192E-01;     \n"
     ]
    },
    {
     "name": "stdout",
     "output_type": "stream",
     "text": [
      "[############################            ] | 72% Completed | 440.34 s"
     ]
    },
    {
     "name": "stderr",
     "output_type": "stream",
     "text": [
      " WARNING: FIR normalized: sum[coef]=9.767192E-01;     \n"
     ]
    },
    {
     "name": "stdout",
     "output_type": "stream",
     "text": [
      "[############################            ] | 72% Completed | 440.44 s"
     ]
    },
    {
     "name": "stderr",
     "output_type": "stream",
     "text": [
      " WARNING: FIR normalized: sum[coef]=9.767192E-01;     \n",
      " WARNING: FIR normalized: sum[coef]=9.767192E-01;     \n",
      " WARNING: FIR normalized: sum[coef]=9.767192E-01;     \n"
     ]
    },
    {
     "name": "stdout",
     "output_type": "stream",
     "text": [
      "[############################            ] | 72% Completed | 440.79 s"
     ]
    },
    {
     "name": "stderr",
     "output_type": "stream",
     "text": [
      " WARNING: FIR normalized: sum[coef]=9.767192E-01;     \n"
     ]
    },
    {
     "name": "stdout",
     "output_type": "stream",
     "text": [
      "[#############################           ] | 72% Completed | 441.01 s"
     ]
    },
    {
     "name": "stderr",
     "output_type": "stream",
     "text": [
      " WARNING: FIR normalized: sum[coef]=9.767192E-01;     \n",
      " WARNING: FIR normalized: sum[coef]=9.767192E-01;     \n"
     ]
    },
    {
     "name": "stdout",
     "output_type": "stream",
     "text": [
      "[#############################           ] | 72% Completed | 441.35 s"
     ]
    },
    {
     "name": "stderr",
     "output_type": "stream",
     "text": [
      " WARNING: FIR normalized: sum[coef]=9.767192E-01;     \n"
     ]
    },
    {
     "name": "stdout",
     "output_type": "stream",
     "text": [
      "[#############################           ] | 72% Completed | 441.58 s"
     ]
    },
    {
     "name": "stderr",
     "output_type": "stream",
     "text": [
      " WARNING: FIR normalized: sum[coef]=9.767192E-01;     \n",
      " WARNING: FIR normalized: sum[coef]=9.767192E-01;     \n"
     ]
    },
    {
     "name": "stdout",
     "output_type": "stream",
     "text": [
      "[#############################           ] | 72% Completed | 442.14 s"
     ]
    },
    {
     "name": "stderr",
     "output_type": "stream",
     "text": [
      " WARNING: FIR normalized: sum[coef]=9.767192E-01;     \n",
      " WARNING: FIR normalized: sum[coef]=9.767192E-01;     \n",
      " WARNING: FIR normalized: sum[coef]=9.767192E-01;     \n"
     ]
    },
    {
     "name": "stdout",
     "output_type": "stream",
     "text": [
      "[#############################           ] | 72% Completed | 442.96 s"
     ]
    },
    {
     "name": "stderr",
     "output_type": "stream",
     "text": [
      " WARNING: FIR normalized: sum[coef]=9.767192E-01;     \n",
      " WARNING: FIR normalized: sum[coef]=9.767192E-01;     \n",
      " WARNING: FIR normalized: sum[coef]=9.767192E-01;     \n"
     ]
    },
    {
     "name": "stdout",
     "output_type": "stream",
     "text": [
      "[#############################           ] | 72% Completed | 443.66 s"
     ]
    },
    {
     "name": "stderr",
     "output_type": "stream",
     "text": [
      " WARNING: FIR normalized: sum[coef]=9.767192E-01;     \n",
      " WARNING: FIR normalized: sum[coef]=9.767192E-01;     \n"
     ]
    },
    {
     "name": "stdout",
     "output_type": "stream",
     "text": [
      "[#############################           ] | 72% Completed | 444.00 s"
     ]
    },
    {
     "name": "stderr",
     "output_type": "stream",
     "text": [
      " WARNING: FIR normalized: sum[coef]=9.767192E-01;     \n"
     ]
    },
    {
     "name": "stdout",
     "output_type": "stream",
     "text": [
      "[#############################           ] | 72% Completed | 444.34 s"
     ]
    },
    {
     "name": "stderr",
     "output_type": "stream",
     "text": [
      " WARNING: FIR normalized: sum[coef]=9.767192E-01;     \n",
      " WARNING: FIR normalized: sum[coef]=9.767192E-01;     \n"
     ]
    },
    {
     "name": "stdout",
     "output_type": "stream",
     "text": [
      "[#############################           ] | 72% Completed | 444.68 s"
     ]
    },
    {
     "name": "stderr",
     "output_type": "stream",
     "text": [
      " WARNING: FIR normalized: sum[coef]=9.767192E-01;     \n"
     ]
    },
    {
     "name": "stdout",
     "output_type": "stream",
     "text": [
      "[#############################           ] | 72% Completed | 445.02 s"
     ]
    },
    {
     "name": "stderr",
     "output_type": "stream",
     "text": [
      " WARNING: FIR normalized: sum[coef]=9.767192E-01;     \n",
      " WARNING: FIR normalized: sum[coef]=9.767192E-01;     \n"
     ]
    },
    {
     "name": "stdout",
     "output_type": "stream",
     "text": [
      "[#############################           ] | 72% Completed | 445.58 s"
     ]
    },
    {
     "name": "stderr",
     "output_type": "stream",
     "text": [
      " WARNING: FIR normalized: sum[coef]=9.767192E-01;     \n",
      " WARNING: FIR normalized: sum[coef]=9.767192E-01;     \n"
     ]
    },
    {
     "name": "stdout",
     "output_type": "stream",
     "text": [
      "[#############################           ] | 72% Completed | 445.82 s"
     ]
    },
    {
     "name": "stderr",
     "output_type": "stream",
     "text": [
      " WARNING: FIR normalized: sum[coef]=9.767192E-01;     \n"
     ]
    },
    {
     "name": "stdout",
     "output_type": "stream",
     "text": [
      "[#############################           ] | 72% Completed | 446.17 s"
     ]
    },
    {
     "name": "stderr",
     "output_type": "stream",
     "text": [
      " WARNING: FIR normalized: sum[coef]=9.767192E-01;     \n",
      " WARNING: FIR normalized: sum[coef]=9.767192E-01;     \n",
      " WARNING: FIR normalized: sum[coef]=9.767192E-01;     \n"
     ]
    },
    {
     "name": "stdout",
     "output_type": "stream",
     "text": [
      "[#############################           ] | 72% Completed | 447.07 s"
     ]
    },
    {
     "name": "stderr",
     "output_type": "stream",
     "text": [
      " WARNING: FIR normalized: sum[coef]=9.767192E-01;     \n",
      " WARNING: FIR normalized: sum[coef]=9.767192E-01;     \n",
      " WARNING: FIR normalized: sum[coef]=9.767192E-01;     \n"
     ]
    },
    {
     "name": "stdout",
     "output_type": "stream",
     "text": [
      "[#############################           ] | 73% Completed | 447.66 s"
     ]
    },
    {
     "name": "stderr",
     "output_type": "stream",
     "text": [
      " WARNING: FIR normalized: sum[coef]=9.767192E-01;     \n",
      " WARNING: FIR normalized: sum[coef]=9.767192E-01;     \n"
     ]
    },
    {
     "name": "stdout",
     "output_type": "stream",
     "text": [
      "[#############################           ] | 73% Completed | 448.26 s"
     ]
    },
    {
     "name": "stderr",
     "output_type": "stream",
     "text": [
      " WARNING: FIR normalized: sum[coef]=9.767192E-01;     \n"
     ]
    },
    {
     "name": "stdout",
     "output_type": "stream",
     "text": [
      "[#############################           ] | 73% Completed | 448.62 s"
     ]
    },
    {
     "name": "stderr",
     "output_type": "stream",
     "text": [
      " WARNING: FIR normalized: sum[coef]=9.767192E-01;     \n"
     ]
    },
    {
     "name": "stdout",
     "output_type": "stream",
     "text": [
      "[#############################           ] | 73% Completed | 448.99 s"
     ]
    },
    {
     "name": "stderr",
     "output_type": "stream",
     "text": [
      " WARNING: FIR normalized: sum[coef]=9.767192E-01;     \n"
     ]
    },
    {
     "name": "stdout",
     "output_type": "stream",
     "text": [
      "[#############################           ] | 73% Completed | 449.56 s"
     ]
    },
    {
     "name": "stderr",
     "output_type": "stream",
     "text": [
      " WARNING: FIR normalized: sum[coef]=9.767192E-01;     \n",
      " WARNING: FIR normalized: sum[coef]=9.767192E-01;     \n"
     ]
    },
    {
     "name": "stdout",
     "output_type": "stream",
     "text": [
      "[#############################           ] | 73% Completed | 450.15 s"
     ]
    },
    {
     "name": "stderr",
     "output_type": "stream",
     "text": [
      " WARNING: FIR normalized: sum[coef]=9.767192E-01;     \n",
      " WARNING: FIR normalized: sum[coef]=9.767192E-01;     \n"
     ]
    },
    {
     "name": "stdout",
     "output_type": "stream",
     "text": [
      "[#############################           ] | 73% Completed | 450.74 s"
     ]
    },
    {
     "name": "stderr",
     "output_type": "stream",
     "text": [
      " WARNING: FIR normalized: sum[coef]=9.767192E-01;     \n",
      " WARNING: FIR normalized: sum[coef]=9.767192E-01;     \n"
     ]
    },
    {
     "name": "stdout",
     "output_type": "stream",
     "text": [
      "[#############################           ] | 73% Completed | 451.21 s"
     ]
    },
    {
     "name": "stderr",
     "output_type": "stream",
     "text": [
      " WARNING: FIR normalized: sum[coef]=9.767192E-01;     \n"
     ]
    },
    {
     "name": "stdout",
     "output_type": "stream",
     "text": [
      "[#############################           ] | 73% Completed | 451.55 s"
     ]
    },
    {
     "name": "stderr",
     "output_type": "stream",
     "text": [
      " WARNING: FIR normalized: sum[coef]=9.767192E-01;     \n"
     ]
    },
    {
     "name": "stdout",
     "output_type": "stream",
     "text": [
      "[#############################           ] | 73% Completed | 452.12 s"
     ]
    },
    {
     "name": "stderr",
     "output_type": "stream",
     "text": [
      " WARNING: FIR normalized: sum[coef]=9.767192E-01;     \n"
     ]
    },
    {
     "name": "stdout",
     "output_type": "stream",
     "text": [
      "[#############################           ] | 73% Completed | 452.93 s"
     ]
    },
    {
     "name": "stderr",
     "output_type": "stream",
     "text": [
      " WARNING: FIR normalized: sum[coef]=9.767192E-01;     \n"
     ]
    },
    {
     "name": "stdout",
     "output_type": "stream",
     "text": [
      "[#############################           ] | 73% Completed | 453.74 s"
     ]
    },
    {
     "name": "stderr",
     "output_type": "stream",
     "text": [
      " WARNING: FIR normalized: sum[coef]=9.767192E-01;     \n"
     ]
    },
    {
     "name": "stdout",
     "output_type": "stream",
     "text": [
      "[#############################           ] | 73% Completed | 454.29 s"
     ]
    },
    {
     "name": "stderr",
     "output_type": "stream",
     "text": [
      " WARNING: FIR normalized: sum[coef]=9.767192E-01;     \n"
     ]
    },
    {
     "name": "stdout",
     "output_type": "stream",
     "text": [
      "[#############################           ] | 73% Completed | 454.86 s"
     ]
    },
    {
     "name": "stderr",
     "output_type": "stream",
     "text": [
      " WARNING: FIR normalized: sum[coef]=9.767192E-01;     \n",
      " WARNING: FIR normalized: sum[coef]=9.767192E-01;     \n"
     ]
    },
    {
     "name": "stdout",
     "output_type": "stream",
     "text": [
      "[#############################           ] | 73% Completed | 455.47 s"
     ]
    },
    {
     "name": "stderr",
     "output_type": "stream",
     "text": [
      " WARNING: FIR normalized: sum[coef]=9.767192E-01;     \n",
      " WARNING: FIR normalized: sum[coef]=9.767192E-01;     \n"
     ]
    },
    {
     "name": "stdout",
     "output_type": "stream",
     "text": [
      "[#############################           ] | 73% Completed | 456.48 s"
     ]
    },
    {
     "name": "stderr",
     "output_type": "stream",
     "text": [
      " WARNING: FIR normalized: sum[coef]=9.767192E-01;     \n",
      " WARNING: FIR normalized: sum[coef]=9.767192E-01;     \n"
     ]
    },
    {
     "name": "stdout",
     "output_type": "stream",
     "text": [
      "[#############################           ] | 73% Completed | 457.16 s"
     ]
    },
    {
     "name": "stderr",
     "output_type": "stream",
     "text": [
      " WARNING: FIR normalized: sum[coef]=9.767192E-01;     \n",
      " WARNING: FIR normalized: sum[coef]=9.767192E-01;     \n"
     ]
    },
    {
     "name": "stdout",
     "output_type": "stream",
     "text": [
      "[#############################           ] | 73% Completed | 457.72 s"
     ]
    },
    {
     "name": "stderr",
     "output_type": "stream",
     "text": [
      " WARNING: FIR normalized: sum[coef]=9.767192E-01;     \n"
     ]
    },
    {
     "name": "stdout",
     "output_type": "stream",
     "text": [
      "[#############################           ] | 73% Completed | 458.06 s"
     ]
    },
    {
     "name": "stderr",
     "output_type": "stream",
     "text": [
      " WARNING: FIR normalized: sum[coef]=9.767192E-01;     \n"
     ]
    },
    {
     "name": "stdout",
     "output_type": "stream",
     "text": [
      "[#############################           ] | 73% Completed | 458.29 s"
     ]
    },
    {
     "name": "stderr",
     "output_type": "stream",
     "text": [
      " WARNING: FIR normalized: sum[coef]=9.767192E-01;     \n"
     ]
    },
    {
     "name": "stdout",
     "output_type": "stream",
     "text": [
      "[#############################           ] | 73% Completed | 458.85 s"
     ]
    },
    {
     "name": "stderr",
     "output_type": "stream",
     "text": [
      " WARNING: FIR normalized: sum[coef]=9.767192E-01;     \n",
      " WARNING: FIR normalized: sum[coef]=9.767192E-01;     \n",
      " WARNING: FIR normalized: sum[coef]=9.767192E-01;     \n"
     ]
    },
    {
     "name": "stdout",
     "output_type": "stream",
     "text": [
      "[#############################           ] | 73% Completed | 459.42 s"
     ]
    },
    {
     "name": "stderr",
     "output_type": "stream",
     "text": [
      " WARNING: FIR normalized: sum[coef]=9.767192E-01;     \n",
      " WARNING: FIR normalized: sum[coef]=9.767192E-01;     \n",
      " WARNING: FIR normalized: sum[coef]=9.767192E-01;     \n"
     ]
    },
    {
     "name": "stdout",
     "output_type": "stream",
     "text": [
      "[#############################           ] | 73% Completed | 460.11 s"
     ]
    },
    {
     "name": "stderr",
     "output_type": "stream",
     "text": [
      " WARNING: FIR normalized: sum[coef]=9.767192E-01;     \n"
     ]
    },
    {
     "name": "stdout",
     "output_type": "stream",
     "text": [
      "[#############################           ] | 73% Completed | 460.35 s"
     ]
    },
    {
     "name": "stderr",
     "output_type": "stream",
     "text": [
      " WARNING: FIR normalized: sum[coef]=9.767192E-01;     \n",
      " WARNING: FIR normalized: sum[coef]=9.767192E-01;     \n"
     ]
    },
    {
     "name": "stdout",
     "output_type": "stream",
     "text": [
      "[#############################           ] | 73% Completed | 460.69 s"
     ]
    },
    {
     "name": "stderr",
     "output_type": "stream",
     "text": [
      " WARNING: FIR normalized: sum[coef]=9.767192E-01;     \n"
     ]
    },
    {
     "name": "stdout",
     "output_type": "stream",
     "text": [
      "[#############################           ] | 73% Completed | 461.03 s"
     ]
    },
    {
     "name": "stderr",
     "output_type": "stream",
     "text": [
      " WARNING: FIR normalized: sum[coef]=9.767192E-01;     \n",
      " WARNING: FIR normalized: sum[coef]=9.767192E-01;     \n"
     ]
    },
    {
     "name": "stdout",
     "output_type": "stream",
     "text": [
      "[#############################           ] | 73% Completed | 461.36 s"
     ]
    },
    {
     "name": "stderr",
     "output_type": "stream",
     "text": [
      " WARNING: FIR normalized: sum[coef]=9.767192E-01;     \n"
     ]
    },
    {
     "name": "stdout",
     "output_type": "stream",
     "text": [
      "[#############################           ] | 73% Completed | 461.70 s"
     ]
    },
    {
     "name": "stderr",
     "output_type": "stream",
     "text": [
      " WARNING: FIR normalized: sum[coef]=9.767192E-01;     \n"
     ]
    },
    {
     "name": "stdout",
     "output_type": "stream",
     "text": [
      "[#############################           ] | 73% Completed | 461.92 s"
     ]
    },
    {
     "name": "stderr",
     "output_type": "stream",
     "text": [
      " WARNING: FIR normalized: sum[coef]=9.767192E-01;     \n",
      " WARNING: FIR normalized: sum[coef]=9.767192E-01;     \n"
     ]
    },
    {
     "name": "stdout",
     "output_type": "stream",
     "text": [
      "[#############################           ] | 73% Completed | 462.49 s"
     ]
    },
    {
     "name": "stderr",
     "output_type": "stream",
     "text": [
      " WARNING: FIR normalized: sum[coef]=9.767192E-01;     \n",
      " WARNING: FIR normalized: sum[coef]=9.767192E-01;     \n"
     ]
    },
    {
     "name": "stdout",
     "output_type": "stream",
     "text": [
      "[#############################           ] | 73% Completed | 462.96 s"
     ]
    },
    {
     "name": "stderr",
     "output_type": "stream",
     "text": [
      " WARNING: FIR normalized: sum[coef]=9.767192E-01;     \n",
      " WARNING: FIR normalized: sum[coef]=9.767192E-01;     \n"
     ]
    },
    {
     "name": "stdout",
     "output_type": "stream",
     "text": [
      "[#############################           ] | 73% Completed | 463.19 s"
     ]
    },
    {
     "name": "stderr",
     "output_type": "stream",
     "text": [
      " WARNING: FIR normalized: sum[coef]=9.767192E-01;     \n",
      " WARNING: FIR normalized: sum[coef]=9.767192E-01;     \n"
     ]
    },
    {
     "name": "stdout",
     "output_type": "stream",
     "text": [
      "[#############################           ] | 73% Completed | 463.81 s"
     ]
    },
    {
     "name": "stderr",
     "output_type": "stream",
     "text": [
      " WARNING: FIR normalized: sum[coef]=9.767192E-01;     \n",
      " WARNING: FIR normalized: sum[coef]=9.767192E-01;     \n",
      " WARNING: FIR normalized: sum[coef]=9.767192E-01;     \n"
     ]
    },
    {
     "name": "stdout",
     "output_type": "stream",
     "text": [
      "[#############################           ] | 73% Completed | 464.13 s"
     ]
    },
    {
     "name": "stderr",
     "output_type": "stream",
     "text": [
      " WARNING: FIR normalized: sum[coef]=9.767192E-01;     \n",
      " WARNING: FIR normalized: sum[coef]=9.767192E-01;     \n"
     ]
    },
    {
     "name": "stdout",
     "output_type": "stream",
     "text": [
      "[#############################           ] | 73% Completed | 464.47 s"
     ]
    },
    {
     "name": "stderr",
     "output_type": "stream",
     "text": [
      " WARNING: FIR normalized: sum[coef]=9.767192E-01;     \n",
      " WARNING: FIR normalized: sum[coef]=9.767192E-01;     \n",
      " WARNING: FIR normalized: sum[coef]=9.767192E-01;     \n",
      " WARNING: FIR normalized: sum[coef]=9.767192E-01;     \n"
     ]
    },
    {
     "name": "stdout",
     "output_type": "stream",
     "text": [
      "[#############################           ] | 73% Completed | 464.95 s"
     ]
    },
    {
     "name": "stderr",
     "output_type": "stream",
     "text": [
      " WARNING: FIR normalized: sum[coef]=9.767192E-01;     \n",
      " WARNING: FIR normalized: sum[coef]=9.767192E-01;     \n",
      " WARNING: FIR normalized: sum[coef]=9.767192E-01;     \n"
     ]
    },
    {
     "name": "stdout",
     "output_type": "stream",
     "text": [
      "[#############################           ] | 73% Completed | 465.19 s"
     ]
    },
    {
     "name": "stderr",
     "output_type": "stream",
     "text": [
      " WARNING: FIR normalized: sum[coef]=9.767192E-01;     \n",
      " WARNING: FIR normalized: sum[coef]=9.767192E-01;     \n",
      " WARNING: FIR normalized: sum[coef]=9.767192E-01;     \n"
     ]
    },
    {
     "name": "stdout",
     "output_type": "stream",
     "text": [
      "[#############################           ] | 73% Completed | 465.66 s"
     ]
    },
    {
     "name": "stderr",
     "output_type": "stream",
     "text": [
      " WARNING: FIR normalized: sum[coef]=9.767192E-01;     \n"
     ]
    },
    {
     "name": "stdout",
     "output_type": "stream",
     "text": [
      "[#############################           ] | 73% Completed | 465.91 s"
     ]
    },
    {
     "name": "stderr",
     "output_type": "stream",
     "text": [
      " WARNING: FIR normalized: sum[coef]=9.767192E-01;     \n",
      " WARNING: FIR normalized: sum[coef]=9.767192E-01;     \n",
      " WARNING: FIR normalized: sum[coef]=9.767192E-01;     \n"
     ]
    },
    {
     "name": "stdout",
     "output_type": "stream",
     "text": [
      "[#############################           ] | 73% Completed | 466.25 s"
     ]
    },
    {
     "name": "stderr",
     "output_type": "stream",
     "text": [
      " WARNING: FIR normalized: sum[coef]=9.767192E-01;     \n",
      " WARNING: FIR normalized: sum[coef]=9.767192E-01;     \n",
      " WARNING: FIR normalized: sum[coef]=9.767192E-01;     \n"
     ]
    },
    {
     "name": "stdout",
     "output_type": "stream",
     "text": [
      "[#############################           ] | 73% Completed | 466.71 s"
     ]
    },
    {
     "name": "stderr",
     "output_type": "stream",
     "text": [
      " WARNING: FIR normalized: sum[coef]=9.767192E-01;     \n",
      " WARNING: FIR normalized: sum[coef]=9.767192E-01;     \n"
     ]
    },
    {
     "name": "stdout",
     "output_type": "stream",
     "text": [
      "[#############################           ] | 73% Completed | 466.93 s"
     ]
    },
    {
     "name": "stderr",
     "output_type": "stream",
     "text": [
      " WARNING: FIR normalized: sum[coef]=9.767192E-01;     \n",
      " WARNING: FIR normalized: sum[coef]=9.767192E-01;     \n",
      " WARNING: FIR normalized: sum[coef]=9.767192E-01;     \n",
      " WARNING: FIR normalized: sum[coef]=9.767192E-01;     \n"
     ]
    },
    {
     "name": "stdout",
     "output_type": "stream",
     "text": [
      "[#############################           ] | 73% Completed | 467.28 s"
     ]
    },
    {
     "name": "stderr",
     "output_type": "stream",
     "text": [
      " WARNING: FIR normalized: sum[coef]=9.767192E-01;     \n",
      " WARNING: FIR normalized: sum[coef]=9.767192E-01;     \n"
     ]
    },
    {
     "name": "stdout",
     "output_type": "stream",
     "text": [
      "[#############################           ] | 73% Completed | 467.64 s"
     ]
    },
    {
     "name": "stderr",
     "output_type": "stream",
     "text": [
      " WARNING: FIR normalized: sum[coef]=9.767192E-01;     \n",
      " WARNING: FIR normalized: sum[coef]=9.767192E-01;     \n"
     ]
    },
    {
     "name": "stdout",
     "output_type": "stream",
     "text": [
      "[#############################           ] | 73% Completed | 467.89 s"
     ]
    },
    {
     "name": "stderr",
     "output_type": "stream",
     "text": [
      " WARNING: FIR normalized: sum[coef]=9.767192E-01;     \n",
      " WARNING: FIR normalized: sum[coef]=9.767192E-01;     \n",
      " WARNING: FIR normalized: sum[coef]=9.767192E-01;     \n",
      " WARNING: FIR normalized: sum[coef]=9.767192E-01;     \n"
     ]
    },
    {
     "name": "stdout",
     "output_type": "stream",
     "text": [
      "[#############################           ] | 73% Completed | 468.25 s"
     ]
    },
    {
     "name": "stderr",
     "output_type": "stream",
     "text": [
      " WARNING: FIR normalized: sum[coef]=9.767192E-01;     \n",
      " WARNING: FIR normalized: sum[coef]=9.767192E-01;     \n"
     ]
    },
    {
     "name": "stdout",
     "output_type": "stream",
     "text": [
      "[#############################           ] | 73% Completed | 468.61 s"
     ]
    },
    {
     "name": "stderr",
     "output_type": "stream",
     "text": [
      " WARNING: FIR normalized: sum[coef]=9.767192E-01;     \n",
      " WARNING: FIR normalized: sum[coef]=9.767192E-01;     \n",
      " WARNING: FIR normalized: sum[coef]=9.767192E-01;     \n",
      " WARNING: FIR normalized: sum[coef]=9.767192E-01;     \n"
     ]
    },
    {
     "name": "stdout",
     "output_type": "stream",
     "text": [
      "[#############################           ] | 73% Completed | 468.96 s"
     ]
    },
    {
     "name": "stderr",
     "output_type": "stream",
     "text": [
      " WARNING: FIR normalized: sum[coef]=9.767192E-01;     \n",
      " WARNING: FIR normalized: sum[coef]=9.767192E-01;     \n",
      " WARNING: FIR normalized: sum[coef]=9.767192E-01;     \n"
     ]
    },
    {
     "name": "stdout",
     "output_type": "stream",
     "text": [
      "[#############################           ] | 73% Completed | 469.31 s"
     ]
    },
    {
     "name": "stderr",
     "output_type": "stream",
     "text": [
      " WARNING: FIR normalized: sum[coef]=9.767192E-01;     \n"
     ]
    },
    {
     "name": "stdout",
     "output_type": "stream",
     "text": [
      "[#############################           ] | 73% Completed | 469.56 s"
     ]
    },
    {
     "name": "stderr",
     "output_type": "stream",
     "text": [
      " WARNING: FIR normalized: sum[coef]=9.767192E-01;     \n",
      " WARNING: FIR normalized: sum[coef]=9.767192E-01;     \n",
      " WARNING: FIR normalized: sum[coef]=9.767192E-01;     \n",
      " WARNING: FIR normalized: sum[coef]=9.767192E-01;     \n"
     ]
    },
    {
     "name": "stdout",
     "output_type": "stream",
     "text": [
      "[#############################           ] | 74% Completed | 469.89 s"
     ]
    },
    {
     "name": "stderr",
     "output_type": "stream",
     "text": [
      " WARNING: FIR normalized: sum[coef]=9.767192E-01;     \n",
      " WARNING: FIR normalized: sum[coef]=9.767192E-01;     \n"
     ]
    },
    {
     "name": "stdout",
     "output_type": "stream",
     "text": [
      "[#############################           ] | 74% Completed | 470.11 s"
     ]
    },
    {
     "name": "stderr",
     "output_type": "stream",
     "text": [
      " WARNING: FIR normalized: sum[coef]=9.767192E-01;     \n",
      " WARNING: FIR normalized: sum[coef]=9.767192E-01;     \n",
      " WARNING: FIR normalized: sum[coef]=9.767192E-01;     \n"
     ]
    },
    {
     "name": "stdout",
     "output_type": "stream",
     "text": [
      "[#############################           ] | 74% Completed | 470.69 s"
     ]
    },
    {
     "name": "stderr",
     "output_type": "stream",
     "text": [
      " WARNING: FIR normalized: sum[coef]=9.767192E-01;     \n",
      " WARNING: FIR normalized: sum[coef]=9.767192E-01;     \n",
      " WARNING: FIR normalized: sum[coef]=9.767192E-01;     \n",
      " WARNING: FIR normalized: sum[coef]=9.767192E-01;     \n"
     ]
    },
    {
     "name": "stdout",
     "output_type": "stream",
     "text": [
      "[#############################           ] | 74% Completed | 470.92 s"
     ]
    },
    {
     "name": "stderr",
     "output_type": "stream",
     "text": [
      " WARNING: FIR normalized: sum[coef]=9.767192E-01;     \n",
      " WARNING: FIR normalized: sum[coef]=9.767192E-01;     \n",
      " WARNING: FIR normalized: sum[coef]=9.767192E-01;     \n"
     ]
    },
    {
     "name": "stdout",
     "output_type": "stream",
     "text": [
      "[#############################           ] | 74% Completed | 471.49 s"
     ]
    },
    {
     "name": "stderr",
     "output_type": "stream",
     "text": [
      " WARNING: FIR normalized: sum[coef]=9.767192E-01;     \n",
      " WARNING: FIR normalized: sum[coef]=9.767192E-01;     \n",
      " WARNING: FIR normalized: sum[coef]=9.767192E-01;     \n",
      " WARNING: FIR normalized: sum[coef]=9.767192E-01;     \n"
     ]
    },
    {
     "name": "stdout",
     "output_type": "stream",
     "text": [
      "[#############################           ] | 74% Completed | 471.73 s"
     ]
    },
    {
     "name": "stderr",
     "output_type": "stream",
     "text": [
      " WARNING: FIR normalized: sum[coef]=9.767192E-01;     \n",
      " WARNING: FIR normalized: sum[coef]=9.767192E-01;     \n"
     ]
    },
    {
     "name": "stdout",
     "output_type": "stream",
     "text": [
      "[#############################           ] | 74% Completed | 471.96 s"
     ]
    },
    {
     "name": "stderr",
     "output_type": "stream",
     "text": [
      " WARNING: FIR normalized: sum[coef]=9.767192E-01;     \n",
      " WARNING: FIR normalized: sum[coef]=9.767192E-01;     \n"
     ]
    },
    {
     "name": "stdout",
     "output_type": "stream",
     "text": [
      "[#############################           ] | 74% Completed | 472.36 s"
     ]
    },
    {
     "name": "stderr",
     "output_type": "stream",
     "text": [
      " WARNING: FIR normalized: sum[coef]=9.767192E-01;     \n",
      " WARNING: FIR normalized: sum[coef]=9.767192E-01;     \n",
      " WARNING: FIR normalized: sum[coef]=9.767192E-01;     \n"
     ]
    },
    {
     "name": "stdout",
     "output_type": "stream",
     "text": [
      "[#############################           ] | 74% Completed | 472.58 s"
     ]
    },
    {
     "name": "stderr",
     "output_type": "stream",
     "text": [
      " WARNING: FIR normalized: sum[coef]=9.767192E-01;     \n",
      " WARNING: FIR normalized: sum[coef]=9.767192E-01;     \n",
      " WARNING: FIR normalized: sum[coef]=9.767192E-01;     \n"
     ]
    },
    {
     "name": "stdout",
     "output_type": "stream",
     "text": [
      "[#############################           ] | 74% Completed | 472.81 s"
     ]
    },
    {
     "name": "stderr",
     "output_type": "stream",
     "text": [
      " WARNING: FIR normalized: sum[coef]=9.767192E-01;     \n",
      " WARNING: FIR normalized: sum[coef]=9.767192E-01;     \n",
      " WARNING: FIR normalized: sum[coef]=9.767192E-01;     \n",
      " WARNING: FIR normalized: sum[coef]=9.767192E-01;     \n"
     ]
    },
    {
     "name": "stdout",
     "output_type": "stream",
     "text": [
      "[#############################           ] | 74% Completed | 473.16 s"
     ]
    },
    {
     "name": "stderr",
     "output_type": "stream",
     "text": [
      " WARNING: FIR normalized: sum[coef]=9.767192E-01;     \n",
      " WARNING: FIR normalized: sum[coef]=9.767192E-01;     \n",
      " WARNING: FIR normalized: sum[coef]=9.767192E-01;     \n"
     ]
    },
    {
     "name": "stdout",
     "output_type": "stream",
     "text": [
      "[#############################           ] | 74% Completed | 473.52 s"
     ]
    },
    {
     "name": "stderr",
     "output_type": "stream",
     "text": [
      " WARNING: FIR normalized: sum[coef]=9.767192E-01;     \n",
      " WARNING: FIR normalized: sum[coef]=9.767192E-01;     \n",
      " WARNING: FIR normalized: sum[coef]=9.767192E-01;     \n",
      " WARNING: FIR normalized: sum[coef]=9.767192E-01;     \n",
      " WARNING: FIR normalized: sum[coef]=9.767192E-01;     \n"
     ]
    },
    {
     "name": "stdout",
     "output_type": "stream",
     "text": [
      "[#############################           ] | 74% Completed | 473.78 s"
     ]
    },
    {
     "name": "stderr",
     "output_type": "stream",
     "text": [
      " WARNING: FIR normalized: sum[coef]=9.767192E-01;     \n"
     ]
    },
    {
     "name": "stdout",
     "output_type": "stream",
     "text": [
      "[#############################           ] | 74% Completed | 474.01 s"
     ]
    },
    {
     "name": "stderr",
     "output_type": "stream",
     "text": [
      " WARNING: FIR normalized: sum[coef]=9.767192E-01;     \n",
      " WARNING: FIR normalized: sum[coef]=9.767192E-01;     \n",
      " WARNING: FIR normalized: sum[coef]=9.767192E-01;     \n",
      " WARNING: FIR normalized: sum[coef]=9.767192E-01;     \n"
     ]
    },
    {
     "name": "stdout",
     "output_type": "stream",
     "text": [
      "[#############################           ] | 74% Completed | 474.36 s"
     ]
    },
    {
     "name": "stderr",
     "output_type": "stream",
     "text": [
      " WARNING: FIR normalized: sum[coef]=9.767192E-01;     \n",
      " WARNING: FIR normalized: sum[coef]=9.767192E-01;     \n",
      " WARNING: FIR normalized: sum[coef]=9.767192E-01;     \n"
     ]
    },
    {
     "name": "stdout",
     "output_type": "stream",
     "text": [
      "[#############################           ] | 74% Completed | 474.57 s"
     ]
    },
    {
     "name": "stderr",
     "output_type": "stream",
     "text": [
      " WARNING: FIR normalized: sum[coef]=9.767192E-01;     \n"
     ]
    },
    {
     "name": "stdout",
     "output_type": "stream",
     "text": [
      "[#############################           ] | 74% Completed | 474.81 s"
     ]
    },
    {
     "name": "stderr",
     "output_type": "stream",
     "text": [
      " WARNING: FIR normalized: sum[coef]=9.767192E-01;     \n",
      " WARNING: FIR normalized: sum[coef]=9.767192E-01;     \n",
      " WARNING: FIR normalized: sum[coef]=9.767192E-01;     \n",
      " WARNING: FIR normalized: sum[coef]=9.767192E-01;     \n"
     ]
    },
    {
     "name": "stdout",
     "output_type": "stream",
     "text": [
      "[#############################           ] | 74% Completed | 475.16 s"
     ]
    },
    {
     "name": "stderr",
     "output_type": "stream",
     "text": [
      " WARNING: FIR normalized: sum[coef]=9.767192E-01;     \n",
      " WARNING: FIR normalized: sum[coef]=9.767192E-01;     \n",
      " WARNING: FIR normalized: sum[coef]=9.767192E-01;     \n"
     ]
    },
    {
     "name": "stdout",
     "output_type": "stream",
     "text": [
      "[#############################           ] | 74% Completed | 475.39 s"
     ]
    },
    {
     "name": "stderr",
     "output_type": "stream",
     "text": [
      " WARNING: FIR normalized: sum[coef]=9.767192E-01;     \n",
      " WARNING: FIR normalized: sum[coef]=9.767192E-01;     \n",
      " WARNING: FIR normalized: sum[coef]=9.767192E-01;     \n"
     ]
    },
    {
     "name": "stdout",
     "output_type": "stream",
     "text": [
      "[#############################           ] | 74% Completed | 475.84 s"
     ]
    },
    {
     "name": "stderr",
     "output_type": "stream",
     "text": [
      " WARNING: FIR normalized: sum[coef]=9.767192E-01;     \n",
      " WARNING: FIR normalized: sum[coef]=9.767192E-01;     \n",
      " WARNING: FIR normalized: sum[coef]=9.767192E-01;     \n",
      " WARNING: FIR normalized: sum[coef]=9.767192E-01;     \n",
      " WARNING: FIR normalized: sum[coef]=9.767192E-01;     \n"
     ]
    },
    {
     "name": "stdout",
     "output_type": "stream",
     "text": [
      "[#############################           ] | 74% Completed | 476.10 s"
     ]
    },
    {
     "name": "stderr",
     "output_type": "stream",
     "text": [
      " WARNING: FIR normalized: sum[coef]=9.767192E-01;     \n",
      " WARNING: FIR normalized: sum[coef]=9.767192E-01;     \n"
     ]
    },
    {
     "name": "stdout",
     "output_type": "stream",
     "text": [
      "[#############################           ] | 74% Completed | 476.33 s"
     ]
    },
    {
     "name": "stderr",
     "output_type": "stream",
     "text": [
      " WARNING: FIR normalized: sum[coef]=9.767192E-01;     \n",
      " WARNING: FIR normalized: sum[coef]=9.767192E-01; "
     ]
    },
    {
     "name": "stdout",
     "output_type": "stream",
     "text": [
      "[#############################           ] | 74% Completed | 476.59 s"
     ]
    },
    {
     "name": "stderr",
     "output_type": "stream",
     "text": [
      "    \n",
      " WARNING: FIR normalized: sum[coef]=9.767192E-01;     \n"
     ]
    },
    {
     "name": "stdout",
     "output_type": "stream",
     "text": [
      "[#############################           ] | 74% Completed | 476.72 s"
     ]
    },
    {
     "name": "stderr",
     "output_type": "stream",
     "text": [
      " WARNING: FIR normalized: sum[coef]=9.767192E-01;     \n",
      " WARNING: FIR normalized: sum[coef]=9.767192E-01;     \n",
      " WARNING: FIR normalized: sum[coef]=9.767192E-01;     \n",
      " WARNING: FIR normalized: sum[coef]=9.767192E-01;     \n",
      " WARNING: FIR normalized: sum[coef]=9.767192E-01;     \n",
      " WARNING: FIR normalized: sum[coef]=9.767192E-01;     \n"
     ]
    },
    {
     "name": "stdout",
     "output_type": "stream",
     "text": [
      "[#############################           ] | 74% Completed | 477.08 s"
     ]
    },
    {
     "name": "stderr",
     "output_type": "stream",
     "text": [
      " WARNING: FIR normalized: sum[coef]=9.767192E-01;     \n",
      " WARNING: FIR normalized: sum[coef]=9.767192E-01;     \n"
     ]
    },
    {
     "name": "stdout",
     "output_type": "stream",
     "text": [
      "[#############################           ] | 74% Completed | 477.42 s"
     ]
    },
    {
     "name": "stderr",
     "output_type": "stream",
     "text": [
      " WARNING: FIR normalized: sum[coef]=9.767192E-01;     \n",
      " WARNING: FIR normalized: sum[coef]=9.767192E-01;     \n",
      " WARNING: FIR normalized: sum[coef]=9.767192E-01;     \n"
     ]
    },
    {
     "name": "stdout",
     "output_type": "stream",
     "text": [
      "[#############################           ] | 74% Completed | 477.55 s"
     ]
    },
    {
     "name": "stderr",
     "output_type": "stream",
     "text": [
      " WARNING: FIR normalized: sum[coef]=9.767192E-01;     \n",
      " WARNING: FIR normalized: sum[coef]=9.767192E-01;     \n",
      " WARNING: FIR normalized: sum[coef]=9.767192E-01;     \n",
      " WARNING: FIR normalized: sum[coef]=9.767192E-01;     \n"
     ]
    },
    {
     "name": "stdout",
     "output_type": "stream",
     "text": [
      "[#############################           ] | 74% Completed | 477.91 s"
     ]
    },
    {
     "name": "stderr",
     "output_type": "stream",
     "text": [
      " WARNING: FIR normalized: sum[coef]=9.767192E-01;     \n",
      " WARNING: FIR normalized: sum[coef]=9.767192E-01;     \n",
      " WARNING: FIR normalized: sum[coef]=9.767192E-01;     \n"
     ]
    },
    {
     "name": "stdout",
     "output_type": "stream",
     "text": [
      "[#############################           ] | 74% Completed | 478.16 s"
     ]
    },
    {
     "name": "stderr",
     "output_type": "stream",
     "text": [
      " WARNING: FIR normalized: sum[coef]=9.767192E-01;     \n",
      " WARNING: FIR normalized: sum[coef]=9.767192E-01;     \n",
      " WARNING: FIR normalized: sum[coef]=9.767192E-01;     \n",
      " WARNING: FIR normalized: sum[coef]=9.767192E-01;     \n",
      " WARNING: FIR normalized: sum[coef]=9.767192E-01;     \n",
      " WARNING: FIR normalized: sum[coef]=9.767192E-01;     \n"
     ]
    },
    {
     "name": "stdout",
     "output_type": "stream",
     "text": [
      "[#############################           ] | 74% Completed | 478.51 s"
     ]
    },
    {
     "name": "stderr",
     "output_type": "stream",
     "text": [
      " WARNING: FIR normalized: sum[coef]=9.767192E-01;     \n",
      " WARNING: FIR normalized: sum[coef]=9.767192E-01;     \n",
      " WARNING: FIR normalized: sum[coef]=9.767192E-01;     \n",
      " WARNING: FIR normalized: sum[coef]=9.767192E-01;     \n"
     ]
    },
    {
     "name": "stdout",
     "output_type": "stream",
     "text": [
      "[##############################          ] | 75% Completed | 478.89 s"
     ]
    },
    {
     "name": "stderr",
     "output_type": "stream",
     "text": [
      " WARNING: FIR normalized: sum[coef]=9.767192E-01;     \n",
      " WARNING: FIR normalized: sum[coef]=9.767192E-01;     \n",
      " WARNING: FIR normalized: sum[coef]=9.767192E-01;     \n"
     ]
    },
    {
     "name": "stdout",
     "output_type": "stream",
     "text": [
      "[##############################          ] | 75% Completed | 479.15 s"
     ]
    },
    {
     "name": "stderr",
     "output_type": "stream",
     "text": [
      " WARNING: FIR normalized: sum[coef]=9.767192E-01;     \n",
      " WARNING: FIR normalized: sum[coef]=9.767192E-01;     \n",
      " WARNING: FIR normalized: sum[coef]=9.767192E-01;     \n"
     ]
    },
    {
     "name": "stdout",
     "output_type": "stream",
     "text": [
      "[##############################          ] | 75% Completed | 479.51 s"
     ]
    },
    {
     "name": "stderr",
     "output_type": "stream",
     "text": [
      " WARNING: FIR normalized: sum[coef]=9.767192E-01;     \n",
      " WARNING: FIR normalized: sum[coef]=9.767192E-01;     \n",
      " WARNING: FIR normalized: sum[coef]=9.767192E-01;     \n",
      " WARNING: FIR normalized: sum[coef]=9.767192E-01;     \n",
      " WARNING: FIR normalized: sum[coef]=9.767192E-01;     \n",
      " WARNING: FIR normalized: sum[coef]=9.767192E-01;     \n",
      " WARNING: FIR normalized: sum[coef]=9.767192E-01;     \n"
     ]
    },
    {
     "name": "stdout",
     "output_type": "stream",
     "text": [
      "[##############################          ] | 75% Completed | 479.86 s"
     ]
    },
    {
     "name": "stderr",
     "output_type": "stream",
     "text": [
      " WARNING: FIR normalized: sum[coef]=9.767192E-01;     \n",
      " WARNING: FIR normalized: sum[coef]=9.767192E-01;     \n"
     ]
    },
    {
     "name": "stdout",
     "output_type": "stream",
     "text": [
      "[##############################          ] | 75% Completed | 480.10 s"
     ]
    },
    {
     "name": "stderr",
     "output_type": "stream",
     "text": [
      " WARNING: FIR normalized: sum[coef]=9.767192E-01;     \n",
      " WARNING: FIR normalized: sum[coef]=9.767192E-01;     \n",
      " WARNING: FIR normalized: sum[coef]=9.767192E-01;     \n",
      " WARNING: FIR normalized: sum[coef]=9.767192E-01;     \n"
     ]
    },
    {
     "name": "stdout",
     "output_type": "stream",
     "text": [
      "[##############################          ] | 75% Completed | 480.34 s"
     ]
    },
    {
     "name": "stderr",
     "output_type": "stream",
     "text": [
      " WARNING: FIR normalized: sum[coef]=9.767192E-01;     \n",
      " WARNING: FIR normalized: sum[coef]=9.767192E-01;     \n"
     ]
    },
    {
     "name": "stdout",
     "output_type": "stream",
     "text": [
      "[##############################          ] | 75% Completed | 480.57 s"
     ]
    },
    {
     "name": "stderr",
     "output_type": "stream",
     "text": [
      " WARNING: FIR normalized: sum[coef]=9.767192E-01;     \n",
      " WARNING: FIR normalized: sum[coef]=9.767192E-01;     \n",
      " WARNING: FIR normalized: sum[coef]=9.767192E-01;     \n",
      " WARNING: FIR normalized: sum[coef]=9.767192E-01;     \n",
      " WARNING: FIR normalized: sum[coef]=9.767192E-01;     \n"
     ]
    },
    {
     "name": "stdout",
     "output_type": "stream",
     "text": [
      "[##############################          ] | 75% Completed | 480.94 s"
     ]
    },
    {
     "name": "stderr",
     "output_type": "stream",
     "text": [
      " WARNING: FIR normalized: sum[coef]=9.767192E-01;     \n",
      " WARNING: FIR normalized: sum[coef]=9.767192E-01;     \n",
      " WARNING: FIR normalized: sum[coef]=9.767192E-01;     \n"
     ]
    },
    {
     "name": "stdout",
     "output_type": "stream",
     "text": [
      "[##############################          ] | 76% Completed | 481.17 s"
     ]
    },
    {
     "name": "stderr",
     "output_type": "stream",
     "text": [
      " WARNING: FIR normalized: sum[coef]=9.767192E-01;     \n",
      " WARNING: FIR normalized: sum[coef]=9.767192E-01;     \n"
     ]
    },
    {
     "name": "stdout",
     "output_type": "stream",
     "text": [
      "[##############################          ] | 76% Completed | 481.42 s"
     ]
    },
    {
     "name": "stderr",
     "output_type": "stream",
     "text": [
      " WARNING: FIR normalized: sum[coef]=9.767192E-01;     \n",
      " WARNING: FIR normalized: sum[coef]=9.767192E-01;     \n",
      " WARNING: FIR normalized: sum[coef]=9.767192E-01;     \n"
     ]
    },
    {
     "name": "stdout",
     "output_type": "stream",
     "text": [
      "[##############################          ] | 76% Completed | 481.66 s"
     ]
    },
    {
     "name": "stderr",
     "output_type": "stream",
     "text": [
      " WARNING: FIR normalized: sum[coef]=9.767192E-01;     \n",
      " WARNING: FIR normalized: sum[coef]=9.767192E-01;     \n"
     ]
    },
    {
     "name": "stdout",
     "output_type": "stream",
     "text": [
      "[##############################          ] | 76% Completed | 481.89 s"
     ]
    },
    {
     "name": "stderr",
     "output_type": "stream",
     "text": [
      " WARNING: FIR normalized: sum[coef]=9.767192E-01;     \n",
      " WARNING: FIR normalized: sum[coef]=9.767192E-01;     \n",
      " WARNING: FIR normalized: sum[coef]=9.767192E-01;     \n"
     ]
    },
    {
     "name": "stdout",
     "output_type": "stream",
     "text": [
      "[##############################          ] | 76% Completed | 482.27 s"
     ]
    },
    {
     "name": "stderr",
     "output_type": "stream",
     "text": [
      " WARNING: FIR normalized: sum[coef]=9.767192E-01;     \n",
      " WARNING: FIR normalized: sum[coef]=9.767192E-01;     \n"
     ]
    },
    {
     "name": "stdout",
     "output_type": "stream",
     "text": [
      "[##############################          ] | 76% Completed | 482.52 s"
     ]
    },
    {
     "name": "stderr",
     "output_type": "stream",
     "text": [
      " WARNING: FIR normalized: sum[coef]=9.767192E-01;     \n",
      " WARNING: FIR normalized: sum[coef]=9.767192E-01;     \n",
      " WARNING: FIR normalized: sum[coef]=9.767192E-01;     \n",
      " WARNING: FIR normalized: sum[coef]=9.767192E-01;     \n"
     ]
    },
    {
     "name": "stdout",
     "output_type": "stream",
     "text": [
      "[##############################          ] | 76% Completed | 482.76 s"
     ]
    },
    {
     "name": "stderr",
     "output_type": "stream",
     "text": [
      " WARNING: FIR normalized: sum[coef]=9.767192E-01;     \n",
      " WARNING: FIR normalized: sum[coef]=9.767192E-01;     \n",
      " WARNING: FIR normalized: sum[coef]=9.767192E-01;     \n"
     ]
    },
    {
     "name": "stdout",
     "output_type": "stream",
     "text": [
      "[##############################          ] | 76% Completed | 483.00 s"
     ]
    },
    {
     "name": "stderr",
     "output_type": "stream",
     "text": [
      " WARNING: FIR normalized: sum[coef]=9.767192E-01;     \n"
     ]
    },
    {
     "name": "stdout",
     "output_type": "stream",
     "text": [
      "[##############################          ] | 76% Completed | 483.27 s"
     ]
    },
    {
     "name": "stderr",
     "output_type": "stream",
     "text": [
      " WARNING: FIR normalized: sum[coef]=9.767192E-01;     \n",
      " WARNING: FIR normalized: sum[coef]=9.767192E-01;     \n",
      " WARNING: FIR normalized: sum[coef]=9.767192E-01;     \n",
      " WARNING: FIR normalized: sum[coef]=9.767192E-01;     \n",
      " WARNING: FIR normalized: sum[coef]=9.767192E-01;     \n",
      " WARNING: FIR normalized: sum[coef]=9.767192E-01;     \n"
     ]
    },
    {
     "name": "stdout",
     "output_type": "stream",
     "text": [
      "[##############################          ] | 76% Completed | 483.60 s"
     ]
    },
    {
     "name": "stderr",
     "output_type": "stream",
     "text": [
      " WARNING: FIR normalized: sum[coef]=9.767192E-01;     \n",
      " WARNING: FIR normalized: sum[coef]=9.767192E-01;     \n",
      " WARNING: FIR normalized: sum[coef]=9.767192E-01;     \n",
      " WARNING: FIR normalized: sum[coef]=9.767192E-01;     \n",
      " WARNING: FIR normalized: sum[coef]=9.767192E-01;     \n",
      " WARNING: FIR normalized: sum[coef]=9.767192E-01;     \n"
     ]
    },
    {
     "name": "stdout",
     "output_type": "stream",
     "text": [
      "[##############################          ] | 76% Completed | 483.83 s"
     ]
    },
    {
     "name": "stderr",
     "output_type": "stream",
     "text": [
      " WARNING: FIR normalized: sum[coef]=9.767192E-01;     \n",
      " WARNING: FIR normalized: sum[coef]=9.767192E-01;     \n"
     ]
    },
    {
     "name": "stdout",
     "output_type": "stream",
     "text": [
      "[##############################          ] | 76% Completed | 484.30 s"
     ]
    },
    {
     "name": "stderr",
     "output_type": "stream",
     "text": [
      " WARNING: FIR normalized: sum[coef]=9.767192E-01;     \n",
      " WARNING: FIR normalized: sum[coef]=9.767192E-01;     \n",
      " WARNING: FIR normalized: sum[coef]=9.767192E-01;     \n",
      " WARNING: FIR normalized: sum[coef]=9.767192E-01;     \n",
      " WARNING: FIR normalized: sum[coef]=9.767192E-01;     \n",
      " WARNING: FIR normalized: sum[coef]=9.767192E-01;     \n",
      " WARNING: FIR normalized: sum[coef]=9.767192E-01;     \n",
      " WARNING: FIR normalized: sum[coef]=9.767192E-01;     \n"
     ]
    },
    {
     "name": "stdout",
     "output_type": "stream",
     "text": [
      "[##############################          ] | 76% Completed | 484.53 s"
     ]
    },
    {
     "name": "stderr",
     "output_type": "stream",
     "text": [
      " WARNING: FIR normalized: sum[coef]=9.767192E-01;     \n",
      " WARNING: FIR normalized: sum[coef]=9.767192E-01;     \n",
      " WARNING: FIR normalized: sum[coef]=9.767192E-01;     \n",
      " WARNING: FIR normalized: sum[coef]=9.767192E-01;     \n"
     ]
    },
    {
     "name": "stdout",
     "output_type": "stream",
     "text": [
      "[##############################          ] | 76% Completed | 484.64 s"
     ]
    },
    {
     "name": "stderr",
     "output_type": "stream",
     "text": [
      " WARNING: FIR normalized: sum[coef]=9.767192E-01;     \n",
      " WARNING: FIR normalized: sum[coef]=9.767192E-01;     \n",
      " WARNING: FIR normalized: sum[coef]=9.767192E-01;     \n",
      " WARNING: FIR normalized: sum[coef]=9.767192E-01;     \n"
     ]
    },
    {
     "name": "stdout",
     "output_type": "stream",
     "text": [
      "[##############################          ] | 76% Completed | 485.01 s"
     ]
    },
    {
     "name": "stderr",
     "output_type": "stream",
     "text": [
      " WARNING: FIR normalized: sum[coef]=9.767192E-01;     \n",
      " WARNING: FIR normalized: sum[coef]=9.767192E-01;     \n",
      " WARNING: FIR normalized: sum[coef]=9.767192E-01;     \n",
      " WARNING: FIR normalized: sum[coef]=9.767192E-01;     \n"
     ]
    },
    {
     "name": "stdout",
     "output_type": "stream",
     "text": [
      "[##############################          ] | 76% Completed | 485.27 s"
     ]
    },
    {
     "name": "stderr",
     "output_type": "stream",
     "text": [
      " WARNING: FIR normalized: sum[coef]=9.767192E-01;     \n",
      " WARNING: FIR normalized: sum[coef]=9.767192E-01;     \n",
      " WARNING: FIR normalized: sum[coef]=9.767192E-01;     \n",
      " WARNING: FIR normalized: sum[coef]=9.767192E-01;     \n",
      " WARNING: FIR normalized: sum[coef]=9.767192E-01;     \n",
      " WARNING: FIR normalized: sum[coef]=9.767192E-01;     \n"
     ]
    },
    {
     "name": "stdout",
     "output_type": "stream",
     "text": [
      "[##############################          ] | 76% Completed | 485.50 s"
     ]
    },
    {
     "name": "stderr",
     "output_type": "stream",
     "text": [
      " WARNING: FIR normalized: sum[coef]=9.767192E-01;     \n",
      " WARNING: FIR normalized: sum[coef]=9.767192E-01;     \n",
      " WARNING: FIR normalized: sum[coef]=9.767192E-01;     \n",
      " WARNING: FIR normalized: sum[coef]=9.767192E-01;     \n",
      " WARNING: FIR normalized: sum[coef]=9.767192E-01;     \n"
     ]
    },
    {
     "name": "stdout",
     "output_type": "stream",
     "text": [
      "[##############################          ] | 76% Completed | 485.73 s"
     ]
    },
    {
     "name": "stderr",
     "output_type": "stream",
     "text": [
      " WARNING: FIR normalized: sum[coef]=9.767192E-01;     \n",
      " WARNING: FIR normalized: sum[coef]=9.767192E-01;     \n"
     ]
    },
    {
     "name": "stdout",
     "output_type": "stream",
     "text": [
      "[##############################          ] | 76% Completed | 485.97 s"
     ]
    },
    {
     "name": "stderr",
     "output_type": "stream",
     "text": [
      " WARNING: FIR normalized: sum[coef]=9.767192E-01;     \n",
      " WARNING: FIR normalized: sum[coef]=9.767192E-01;     \n",
      " WARNING: FIR normalized: sum[coef]=9.767192E-01;     \n",
      " WARNING: FIR normalized: sum[coef]=9.767192E-01;     \n",
      " WARNING: FIR normalized: sum[coef]=9.767192E-01;     \n",
      " WARNING: FIR normalized: sum[coef]=9.767192E-01;     \n",
      " WARNING: FIR normalized: sum[coef]=9.767192E-01;     \n",
      " WARNING: FIR normalized: sum[coef]=9.767192E-01;     \n"
     ]
    },
    {
     "name": "stdout",
     "output_type": "stream",
     "text": [
      "[##############################          ] | 76% Completed | 486.33 s"
     ]
    },
    {
     "name": "stderr",
     "output_type": "stream",
     "text": [
      " WARNING: FIR normalized: sum[coef]=9.767192E-01;     \n",
      " WARNING: FIR normalized: sum[coef]=9.767192E-01;     \n",
      " WARNING: FIR normalized: sum[coef]=9.767192E-01;     \n",
      " WARNING: FIR normalized: sum[coef]=9.767192E-01;     \n",
      " WARNING: FIR normalized: sum[coef]=9.767192E-01;     \n"
     ]
    },
    {
     "name": "stdout",
     "output_type": "stream",
     "text": [
      "[##############################          ] | 76% Completed | 486.56 s"
     ]
    },
    {
     "name": "stderr",
     "output_type": "stream",
     "text": [
      " WARNING: FIR normalized: sum[coef]=9.767192E-01;     \n",
      " WARNING: FIR normalized: sum[coef]=9.767192E-01;     \n"
     ]
    },
    {
     "name": "stdout",
     "output_type": "stream",
     "text": [
      "[##############################          ] | 76% Completed | 486.82 s"
     ]
    },
    {
     "name": "stderr",
     "output_type": "stream",
     "text": [
      " WARNING: FIR normalized: sum[coef]=9.767192E-01;     \n",
      " WARNING: FIR normalized: sum[coef]=9.767192E-01; "
     ]
    },
    {
     "name": "stdout",
     "output_type": "stream",
     "text": [
      "[##############################          ] | 76% Completed | 486.94 s"
     ]
    },
    {
     "name": "stderr",
     "output_type": "stream",
     "text": [
      "    \n",
      " WARNING: FIR normalized: sum[coef]=9.767192E-01;     \n",
      " WARNING: FIR normalized: sum[coef]=9.767192E-01;     \n",
      " WARNING: FIR normalized: sum[coef]=9.767192E-01;     \n",
      " WARNING: FIR normalized: sum[coef]=9.767192E-01;     \n",
      " WARNING: FIR normalized: sum[coef]=9.767192E-01;     \n",
      " WARNING: FIR normalized: sum[coef]=9.767192E-01;     \n",
      " WARNING: FIR normalized: sum[coef]=9.767192E-01;     \n",
      " WARNING: FIR normalized: sum[coef]=9.767192E-01;     \n"
     ]
    },
    {
     "name": "stdout",
     "output_type": "stream",
     "text": [
      "[##############################          ] | 76% Completed | 487.31 s"
     ]
    },
    {
     "name": "stderr",
     "output_type": "stream",
     "text": [
      " WARNING: FIR normalized: sum[coef]=9.767192E-01;     \n",
      " WARNING: FIR normalized: sum[coef]=9.767192E-01;     \n",
      " WARNING: FIR normalized: sum[coef]=9.767192E-01;     \n"
     ]
    },
    {
     "name": "stdout",
     "output_type": "stream",
     "text": [
      "[##############################          ] | 76% Completed | 487.55 s"
     ]
    },
    {
     "name": "stderr",
     "output_type": "stream",
     "text": [
      " WARNING: FIR normalized: sum[coef]=9.767192E-01;     \n",
      " WARNING: FIR normalized: sum[coef]=9.767192E-01;     \n",
      " WARNING: FIR normalized: sum[coef]=9.767192E-01;     \n",
      " WARNING: FIR normalized: sum[coef]=9.767192E-01;     \n",
      " WARNING: FIR normalized: sum[coef]=9.767192E-01;     \n"
     ]
    },
    {
     "name": "stdout",
     "output_type": "stream",
     "text": [
      "[##############################          ] | 76% Completed | 487.90 s"
     ]
    },
    {
     "name": "stderr",
     "output_type": "stream",
     "text": [
      " WARNING: FIR normalized: sum[coef]=9.767192E-01;     \n",
      " WARNING: FIR normalized: sum[coef]=9.767192E-01;     \n",
      " WARNING: FIR normalized: sum[coef]=9.767192E-01;     \n",
      " WARNING: FIR normalized: sum[coef]=9.767192E-01;     \n",
      " WARNING: FIR normalized: sum[coef]=9.767192E-01;     \n",
      " WARNING: FIR normalized: sum[coef]=9.767192E-01;     \n"
     ]
    },
    {
     "name": "stdout",
     "output_type": "stream",
     "text": [
      "[##############################          ] | 76% Completed | 488.13 s"
     ]
    },
    {
     "name": "stderr",
     "output_type": "stream",
     "text": [
      " WARNING: FIR normalized: sum[coef]=9.767192E-01;     \n",
      " WARNING: FIR normalized: sum[coef]=9.767192E-01;     \n",
      " WARNING: FIR normalized: sum[coef]=9.767192E-01;     \n"
     ]
    },
    {
     "name": "stdout",
     "output_type": "stream",
     "text": [
      "[##############################          ] | 76% Completed | 488.35 s"
     ]
    },
    {
     "name": "stderr",
     "output_type": "stream",
     "text": [
      " WARNING: FIR normalized: sum[coef]=9.767192E-01;     \n",
      " WARNING: FIR normalized: sum[coef]=9.767192E-01;     \n",
      " WARNING: FIR normalized: sum[coef]=9.767192E-01;     \n",
      " WARNING: FIR normalized: sum[coef]=9.767192E-01;     \n",
      " WARNING: FIR normalized: sum[coef]=9.767192E-01;     \n"
     ]
    },
    {
     "name": "stdout",
     "output_type": "stream",
     "text": [
      "[##############################          ] | 76% Completed | 488.70 s"
     ]
    },
    {
     "name": "stderr",
     "output_type": "stream",
     "text": [
      " WARNING: FIR normalized: sum[coef]=9.767192E-01;     \n",
      " WARNING: FIR normalized: sum[coef]=9.767192E-01;     \n",
      " WARNING: FIR normalized: sum[coef]=9.767192E-01;     \n",
      " WARNING: FIR normalized: sum[coef]=9.767192E-01;     \n",
      " WARNING: FIR normalized: sum[coef]=9.767192E-01;     \n",
      " WARNING: FIR normalized: sum[coef]=9.767192E-01;     \n",
      " WARNING: FIR normalized: sum[coef]=9.767192E-01;     \n"
     ]
    },
    {
     "name": "stdout",
     "output_type": "stream",
     "text": [
      "[##############################          ] | 76% Completed | 489.04 s"
     ]
    },
    {
     "name": "stderr",
     "output_type": "stream",
     "text": [
      " WARNING: FIR normalized: sum[coef]=9.767192E-01;     \n",
      " WARNING: FIR normalized: sum[coef]=9.767192E-01;     \n",
      " WARNING: FIR normalized: sum[coef]=9.767192E-01;     \n",
      " WARNING: FIR normalized: sum[coef]=9.767192E-01;     \n",
      " WARNING: FIR normalized: sum[coef]=9.767192E-01;     \n",
      " WARNING: FIR normalized: sum[coef]=9.767192E-01;     \n"
     ]
    },
    {
     "name": "stdout",
     "output_type": "stream",
     "text": [
      "[##############################          ] | 76% Completed | 489.40 s"
     ]
    },
    {
     "name": "stderr",
     "output_type": "stream",
     "text": [
      " WARNING: FIR normalized: sum[coef]=9.767192E-01;     \n",
      " WARNING: FIR normalized: sum[coef]=9.767192E-01;     \n",
      " WARNING: FIR normalized: sum[coef]=9.767192E-01;     \n",
      " WARNING: FIR normalized: sum[coef]=9.767192E-01;     \n",
      " WARNING: FIR normalized: sum[coef]=9.767192E-01;     \n"
     ]
    },
    {
     "name": "stdout",
     "output_type": "stream",
     "text": [
      "[##############################          ] | 76% Completed | 489.65 s"
     ]
    },
    {
     "name": "stderr",
     "output_type": "stream",
     "text": [
      " WARNING: FIR normalized: sum[coef]=9.767192E-01;     \n",
      " WARNING: FIR normalized: sum[coef]=9.767192E-01;     \n",
      " WARNING: FIR normalized: sum[coef]=9.767192E-01;     \n",
      " WARNING: FIR normalized: sum[coef]=9.767192E-01; "
     ]
    },
    {
     "name": "stdout",
     "output_type": "stream",
     "text": [
      "[##############################          ] | 76% Completed | 489.88 s"
     ]
    },
    {
     "name": "stderr",
     "output_type": "stream",
     "text": [
      "    \n",
      " WARNING: FIR normalized: sum[coef]=9.767192E-01;     \n",
      " WARNING: FIR normalized: sum[coef]=9.767192E-01;     \n",
      " WARNING: FIR normalized: sum[coef]=9.767192E-01;     \n",
      " WARNING: FIR normalized: sum[coef]=9.767192E-01;     \n",
      " WARNING: FIR normalized: sum[coef]=9.767192E-01;     \n",
      " WARNING: FIR normalized: sum[coef]=9.767192E-01;     \n"
     ]
    },
    {
     "name": "stdout",
     "output_type": "stream",
     "text": [
      "[##############################          ] | 76% Completed | 490.11 s"
     ]
    },
    {
     "name": "stderr",
     "output_type": "stream",
     "text": [
      " WARNING: FIR normalized: sum[coef]=9.767192E-01;     \n",
      " WARNING: FIR normalized: sum[coef]=9.767192E-01;     \n",
      " WARNING: FIR normalized: sum[coef]=9.767192E-01;     \n"
     ]
    },
    {
     "name": "stdout",
     "output_type": "stream",
     "text": [
      "[##############################          ] | 76% Completed | 490.35 s"
     ]
    },
    {
     "name": "stderr",
     "output_type": "stream",
     "text": [
      " WARNING: FIR normalized: sum[coef]=9.767192E-01;     \n",
      " WARNING: FIR normalized: sum[coef]=9.767192E-01;     \n",
      " WARNING: FIR normalized: sum[coef]=9.767192E-01;     \n",
      " WARNING: FIR normalized: sum[coef]=9.767192E-01;     \n",
      " WARNING: FIR normalized: sum[coef]=9.767192E-01;     \n"
     ]
    },
    {
     "name": "stdout",
     "output_type": "stream",
     "text": [
      "[##############################          ] | 76% Completed | 490.58 s"
     ]
    },
    {
     "name": "stderr",
     "output_type": "stream",
     "text": [
      " WARNING: FIR normalized: sum[coef]=9.767192E-01;     \n",
      " WARNING: FIR normalized: sum[coef]=9.767192E-01;     \n",
      " WARNING: FIR normalized: sum[coef]=9.767192E-01;     \n"
     ]
    },
    {
     "name": "stdout",
     "output_type": "stream",
     "text": [
      "[##############################          ] | 76% Completed | 490.92 s"
     ]
    },
    {
     "name": "stderr",
     "output_type": "stream",
     "text": [
      " WARNING: FIR normalized: sum[coef]=9.767192E-01;     \n",
      " WARNING: FIR normalized: sum[coef]=9.767192E-01;     \n",
      " WARNING: FIR normalized: sum[coef]=9.767192E-01;     \n",
      " WARNING: FIR normalized: sum[coef]=9.767192E-01;     \n",
      " WARNING: FIR normalized: sum[coef]=9.767192E-01;     \n",
      " WARNING: FIR normalized: sum[coef]=9.767192E-01;     \n",
      " WARNING: FIR normalized: sum[coef]=9.767192E-01;     \n",
      " WARNING: FIR normalized: sum[coef]=9.767192E-01;     \n",
      " WARNING: FIR normalized: sum[coef]=9.767192E-01;     \n"
     ]
    },
    {
     "name": "stdout",
     "output_type": "stream",
     "text": [
      "[##############################          ] | 76% Completed | 491.04 s"
     ]
    },
    {
     "name": "stderr",
     "output_type": "stream",
     "text": [
      " WARNING: FIR normalized: sum[coef]=9.767192E-01;     \n",
      " WARNING: FIR normalized: sum[coef]=9.767192E-01;     \n",
      " WARNING: FIR normalized: sum[coef]=9.767192E-01;     \n",
      " WARNING: FIR normalized: sum[coef]=9.767192E-01;     \n"
     ]
    },
    {
     "name": "stdout",
     "output_type": "stream",
     "text": [
      "[##############################          ] | 76% Completed | 491.30 s"
     ]
    },
    {
     "name": "stderr",
     "output_type": "stream",
     "text": [
      " WARNING: FIR normalized: sum[coef]=9.767192E-01;     \n",
      " WARNING: FIR normalized: sum[coef]=9.767192E-01;     \n",
      " WARNING: FIR normalized: sum[coef]=9.767192E-01;     \n",
      " WARNING: FIR normalized: sum[coef]=9.767192E-01;     \n",
      " WARNING: FIR normalized: sum[coef]=9.767192E-01;     \n"
     ]
    },
    {
     "name": "stdout",
     "output_type": "stream",
     "text": [
      "[##############################          ] | 76% Completed | 491.54 s"
     ]
    },
    {
     "name": "stderr",
     "output_type": "stream",
     "text": [
      " WARNING: FIR normalized: sum[coef]=9.767192E-01;     \n",
      " WARNING: FIR normalized: sum[coef]=9.767192E-01;     \n",
      " WARNING: FIR normalized: sum[coef]=9.767192E-01;     \n",
      " WARNING: FIR normalized: sum[coef]=9.767192E-01;     \n",
      " WARNING: FIR normalized: sum[coef]=9.767192E-01;     \n"
     ]
    },
    {
     "name": "stdout",
     "output_type": "stream",
     "text": [
      "[##############################          ] | 77% Completed | 491.78 s"
     ]
    },
    {
     "name": "stderr",
     "output_type": "stream",
     "text": [
      " WARNING: FIR normalized: sum[coef]=9.767192E-01;     \n",
      " WARNING: FIR normalized: sum[coef]=9.767192E-01;     \n",
      " WARNING: FIR normalized: sum[coef]=9.767192E-01;     \n",
      " WARNING: FIR normalized: sum[coef]=9.767192E-01;     \n",
      " WARNING: FIR normalized: sum[coef]=9.767192E-01;     \n",
      " WARNING: FIR normalized: sum[coef]=9.767192E-01;     \n",
      " WARNING: FIR normalized: sum[coef]=9.767192E-01;     \n"
     ]
    },
    {
     "name": "stdout",
     "output_type": "stream",
     "text": [
      "[###############################         ] | 77% Completed | 492.03 s"
     ]
    },
    {
     "name": "stderr",
     "output_type": "stream",
     "text": [
      " WARNING: FIR normalized: sum[coef]=9.767192E-01;     \n",
      " WARNING: FIR normalized: sum[coef]=9.767192E-01;     \n",
      " WARNING: FIR normalized: sum[coef]=9.767192E-01;     \n",
      " WARNING: FIR normalized: sum[coef]=9.767192E-01;     \n",
      " WARNING: FIR normalized: sum[coef]=9.767192E-01;     \n"
     ]
    },
    {
     "name": "stdout",
     "output_type": "stream",
     "text": [
      "[###############################         ] | 77% Completed | 492.27 s"
     ]
    },
    {
     "name": "stderr",
     "output_type": "stream",
     "text": [
      " WARNING: FIR normalized: sum[coef]=9.767192E-01;     \n",
      " WARNING: FIR normalized: sum[coef]=9.767192E-01;     \n",
      " WARNING: FIR normalized: sum[coef]=9.767192E-01;     \n"
     ]
    },
    {
     "name": "stdout",
     "output_type": "stream",
     "text": [
      "[###############################         ] | 77% Completed | 492.51 s"
     ]
    },
    {
     "name": "stderr",
     "output_type": "stream",
     "text": [
      " WARNING: FIR normalized: sum[coef]=9.767192E-01;     \n",
      " WARNING: FIR normalized: sum[coef]=9.767192E-01;     \n",
      " WARNING: FIR normalized: sum[coef]=9.767192E-01;     \n",
      " WARNING: FIR normalized: sum[coef]=9.767192E-01;     \n",
      " WARNING: FIR normalized: sum[coef]=9.767192E-01;     \n",
      " WARNING: FIR normalized: sum[coef]=9.767192E-01;     \n",
      " WARNING: FIR normalized: sum[coef]=9.767192E-01;     \n"
     ]
    },
    {
     "name": "stdout",
     "output_type": "stream",
     "text": [
      "[###############################         ] | 77% Completed | 492.74 s"
     ]
    },
    {
     "name": "stderr",
     "output_type": "stream",
     "text": [
      " WARNING: FIR normalized: sum[coef]=9.767192E-01;     \n",
      " WARNING: FIR normalized: sum[coef]=9.767192E-01;     \n",
      " WARNING: FIR normalized: sum[coef]=9.767192E-01;     \n",
      " WARNING: FIR normalized: sum[coef]=9.767192E-01;     \n"
     ]
    },
    {
     "name": "stdout",
     "output_type": "stream",
     "text": [
      "[###############################         ] | 77% Completed | 492.97 s"
     ]
    },
    {
     "name": "stderr",
     "output_type": "stream",
     "text": [
      " WARNING: FIR normalized: sum[coef]=9.767192E-01;     \n",
      " WARNING: FIR normalized: sum[coef]=9.767192E-01;     \n",
      " WARNING: FIR normalized: sum[coef]=9.767192E-01;     \n",
      " WARNING: FIR normalized: sum[coef]=9.767192E-01;     \n",
      " WARNING: FIR normalized: sum[coef]=9.767192E-01;     \n",
      " WARNING: FIR normalized: sum[coef]=9.767192E-01;     \n",
      " WARNING: FIR normalized: sum[coef]=9.767192E-01;     \n"
     ]
    },
    {
     "name": "stdout",
     "output_type": "stream",
     "text": [
      "[###############################         ] | 78% Completed | 493.20 s"
     ]
    },
    {
     "name": "stderr",
     "output_type": "stream",
     "text": [
      " WARNING: FIR normalized: sum[coef]=9.767192E-01;     \n",
      " WARNING: FIR normalized: sum[coef]=9.767192E-01;     \n"
     ]
    },
    {
     "name": "stdout",
     "output_type": "stream",
     "text": [
      "[###############################         ] | 78% Completed | 493.46 s"
     ]
    },
    {
     "name": "stderr",
     "output_type": "stream",
     "text": [
      " WARNING: FIR normalized: sum[coef]=9.767192E-01;     \n",
      " WARNING: FIR normalized: sum[coef]=9.767192E-01;     \n",
      " WARNING: FIR normalized: sum[coef]=9.767192E-01;     \n",
      " WARNING: FIR normalized: sum[coef]=9.767192E-01;     \n",
      " WARNING: FIR normalized: sum[coef]=9.767192E-01;     \n",
      " WARNING: FIR normalized: sum[coef]=9.767192E-01;     \n"
     ]
    },
    {
     "name": "stdout",
     "output_type": "stream",
     "text": [
      "[###############################         ] | 78% Completed | 493.71 s"
     ]
    },
    {
     "name": "stderr",
     "output_type": "stream",
     "text": [
      " WARNING: FIR normalized: sum[coef]=9.767192E-01;     \n",
      " WARNING: FIR normalized: sum[coef]=9.767192E-01;     \n",
      " WARNING: FIR normalized: sum[coef]=9.767192E-01;     \n",
      " WARNING: FIR normalized: sum[coef]=9.767192E-01;     \n"
     ]
    },
    {
     "name": "stdout",
     "output_type": "stream",
     "text": [
      "[###############################         ] | 78% Completed | 493.93 s"
     ]
    },
    {
     "name": "stderr",
     "output_type": "stream",
     "text": [
      " WARNING: FIR normalized: sum[coef]=9.767192E-01;     \n",
      " WARNING: FIR normalized: sum[coef]=9.767192E-01;     \n",
      " WARNING: FIR normalized: sum[coef]=9.767192E-01;     \n",
      " WARNING: FIR normalized: sum[coef]=9.767192E-01;     \n",
      " WARNING: FIR normalized: sum[coef]=9.767192E-01;     \n",
      " WARNING: FIR normalized: sum[coef]=9.767192E-01;     \n"
     ]
    },
    {
     "name": "stdout",
     "output_type": "stream",
     "text": [
      "[###############################         ] | 78% Completed | 494.27 s"
     ]
    },
    {
     "name": "stderr",
     "output_type": "stream",
     "text": [
      " WARNING: FIR normalized: sum[coef]=9.767192E-01;     \n",
      " WARNING: FIR normalized: sum[coef]=9.767192E-01;     \n",
      " WARNING: FIR normalized: sum[coef]=9.767192E-01;     \n",
      " WARNING: FIR normalized: sum[coef]=9.767192E-01;     \n",
      " WARNING: FIR normalized: sum[coef]=9.767192E-01;     \n"
     ]
    },
    {
     "name": "stdout",
     "output_type": "stream",
     "text": [
      "[###############################         ] | 78% Completed | 494.54 s"
     ]
    },
    {
     "name": "stderr",
     "output_type": "stream",
     "text": [
      " WARNING: FIR normalized: sum[coef]=9.767192E-01;     \n",
      " WARNING: FIR normalized: sum[coef]=9.767192E-01;     \n",
      " WARNING: FIR normalized: sum[coef]=9.767192E-01;     \n",
      " WARNING: FIR normalized: sum[coef]=9.767192E-01;     \n",
      " WARNING: FIR normalized: sum[coef]=9.767192E-01;     \n"
     ]
    },
    {
     "name": "stdout",
     "output_type": "stream",
     "text": [
      "[###############################         ] | 78% Completed | 494.77 s[2013-02-07T23:43:20.000000Z] No data or fatal error during detection/classification: list index out of range\n"
     ]
    },
    {
     "name": "stderr",
     "output_type": "stream",
     "text": [
      " WARNING: FIR normalized: sum[coef]=9.767192E-01;     \n",
      " WARNING: FIR normalized: sum[coef]=9.767192E-01;     \n",
      " WARNING: FIR normalized: sum[coef]=9.767192E-01;     \n",
      " WARNING: FIR normalized: sum[coef]=9.767192E-01;     \n",
      " WARNING: FIR normalized: sum[coef]=9.767192E-01;     \n",
      " WARNING: FIR normalized: sum[coef]=9.767192E-01;     \n"
     ]
    },
    {
     "name": "stdout",
     "output_type": "stream",
     "text": [
      "[###############################         ] | 78% Completed | 495.11 s"
     ]
    },
    {
     "name": "stderr",
     "output_type": "stream",
     "text": [
      " WARNING: FIR normalized: sum[coef]=9.767192E-01;     \n",
      " WARNING: FIR normalized: sum[coef]=9.767192E-01;     \n",
      " WARNING: FIR normalized: sum[coef]=9.767192E-01;     \n",
      " WARNING: FIR normalized: sum[coef]=9.767192E-01;     \n",
      " WARNING: FIR normalized: sum[coef]=9.767192E-01;     \n",
      " WARNING: FIR normalized: sum[coef]=9.767192E-01;     \n",
      " WARNING: FIR normalized: sum[coef]=9.767192E-01;     \n",
      " WARNING: FIR normalized: sum[coef]=9.767192E-01;     \n",
      " WARNING: FIR normalized: sum[coef]=9.767192E-01;     \n"
     ]
    },
    {
     "name": "stdout",
     "output_type": "stream",
     "text": [
      "[###############################         ] | 78% Completed | 495.49 s"
     ]
    },
    {
     "name": "stderr",
     "output_type": "stream",
     "text": [
      " WARNING: FIR normalized: sum[coef]=9.767192E-01;     \n",
      " WARNING: FIR normalized: sum[coef]=9.767192E-01;     \n"
     ]
    },
    {
     "name": "stdout",
     "output_type": "stream",
     "text": [
      "[###############################         ] | 78% Completed | 495.71 s"
     ]
    },
    {
     "name": "stderr",
     "output_type": "stream",
     "text": [
      " WARNING: FIR normalized: sum[coef]=9.767192E-01;     \n",
      " WARNING: FIR normalized: sum[coef]=9.767192E-01;     \n",
      " WARNING: FIR normalized: sum[coef]=9.767192E-01;     \n",
      " WARNING: FIR normalized: sum[coef]=9.767192E-01;     \n",
      " WARNING: FIR normalized: sum[coef]=9.767192E-01;     \n",
      " WARNING: FIR normalized: sum[coef]=9.767192E-01;     \n",
      " WARNING: FIR normalized: sum[coef]=9.767192E-01;     \n",
      " WARNING: FIR normalized: sum[coef]=9.767192E-01;     \n",
      " WARNING: FIR normalized: sum[coef]=9.767192E-01;     \n",
      " WARNING: FIR normalized: sum[coef]=9.767192E-01;     \n"
     ]
    },
    {
     "name": "stdout",
     "output_type": "stream",
     "text": [
      "[###############################         ] | 79% Completed | 495.96 s"
     ]
    },
    {
     "name": "stderr",
     "output_type": "stream",
     "text": [
      " WARNING: FIR normalized: sum[coef]=9.767192E-01;     \n",
      " WARNING: FIR normalized: sum[coef]=9.767192E-01;     \n",
      " WARNING: FIR normalized: sum[coef]=9.767192E-01;     \n",
      " WARNING: FIR normalized: sum[coef]=9.767192E-01;     \n",
      " WARNING: FIR normalized: sum[coef]=9.767192E-01;     \n",
      " WARNING: FIR normalized: sum[coef]=9.767192E-01;     \n",
      " WARNING: FIR normalized: sum[coef]=9.767192E-01;     \n",
      " WARNING: FIR normalized: sum[coef]=9.767192E-01;     \n"
     ]
    },
    {
     "name": "stdout",
     "output_type": "stream",
     "text": [
      "[###############################         ] | 79% Completed | 496.18 s"
     ]
    },
    {
     "name": "stderr",
     "output_type": "stream",
     "text": [
      " WARNING: FIR normalized: sum[coef]=9.767192E-01;     \n",
      " WARNING: FIR normalized: sum[coef]=9.767192E-01;     \n"
     ]
    },
    {
     "name": "stdout",
     "output_type": "stream",
     "text": [
      "[###############################         ] | 79% Completed | 496.53 s"
     ]
    },
    {
     "name": "stderr",
     "output_type": "stream",
     "text": [
      " WARNING: FIR normalized: sum[coef]=9.767192E-01;     \n",
      " WARNING: FIR normalized: sum[coef]=9.767192E-01;     \n",
      " WARNING: FIR normalized: sum[coef]=9.767192E-01;     \n",
      " WARNING: FIR normalized: sum[coef]=9.767192E-01;     \n",
      " WARNING: FIR normalized: sum[coef]=9.767192E-01;     \n"
     ]
    },
    {
     "name": "stdout",
     "output_type": "stream",
     "text": [
      "[###############################         ] | 79% Completed | 496.78 s"
     ]
    },
    {
     "name": "stderr",
     "output_type": "stream",
     "text": [
      " WARNING: FIR normalized: sum[coef]=9.767192E-01;     \n",
      " WARNING: FIR normalized: sum[coef]=9.767192E-01;     \n",
      " WARNING: FIR normalized: sum[coef]=9.767192E-01;     \n",
      " WARNING: FIR normalized: sum[coef]=9.767192E-01;     \n",
      " WARNING: FIR normalized: sum[coef]=9.767192E-01;     \n",
      " WARNING: FIR normalized: sum[coef]=9.767192E-01;     \n",
      " WARNING: FIR normalized: sum[coef]=9.767192E-01;     \n",
      " WARNING: FIR normalized: sum[coef]=9.767192E-01;     \n",
      " WARNING: FIR normalized: sum[coef]=9.767192E-01;     \n"
     ]
    },
    {
     "name": "stdout",
     "output_type": "stream",
     "text": [
      "[###############################         ] | 79% Completed | 497.04 s"
     ]
    },
    {
     "name": "stderr",
     "output_type": "stream",
     "text": [
      " WARNING: FIR normalized: sum[coef]=9.767192E-01;     \n",
      " WARNING: FIR normalized: sum[coef]=9.767192E-01;     \n",
      " WARNING: FIR normalized: sum[coef]=9.767192E-01;     \n",
      " WARNING: FIR normalized: sum[coef]=9.767192E-01;     \n"
     ]
    },
    {
     "name": "stdout",
     "output_type": "stream",
     "text": [
      "[###############################         ] | 79% Completed | 497.30 s"
     ]
    },
    {
     "name": "stderr",
     "output_type": "stream",
     "text": [
      " WARNING: FIR normalized: sum[coef]=9.767192E-01;     \n",
      " WARNING: FIR normalized: sum[coef]=9.767192E-01;     \n",
      " WARNING: FIR normalized: sum[coef]=9.767192E-01;     \n",
      " WARNING: FIR normalized: sum[coef]=9.767192E-01;     \n"
     ]
    },
    {
     "name": "stdout",
     "output_type": "stream",
     "text": [
      "[###############################         ] | 79% Completed | 497.54 s"
     ]
    },
    {
     "name": "stderr",
     "output_type": "stream",
     "text": [
      " WARNING: FIR normalized: sum[coef]=9.767192E-01;     \n",
      " WARNING: FIR normalized: sum[coef]=9.767192E-01;     \n",
      " WARNING: FIR normalized: sum[coef]=9.767192E-01;     \n",
      " WARNING: FIR normalized: sum[coef]=9.767192E-01;     \n",
      " WARNING: FIR normalized: sum[coef]=9.767192E-01;     \n",
      " WARNING: FIR normalized: sum[coef]=9.767192E-01;     \n",
      " WARNING: FIR normalized: sum[coef]=9.767192E-01;     \n",
      " WARNING: FIR normalized: sum[coef]=9.767192E-01;     \n",
      " WARNING: FIR normalized: sum[coef]=9.767192E-01;     \n"
     ]
    },
    {
     "name": "stdout",
     "output_type": "stream",
     "text": [
      "[###############################         ] | 79% Completed | 497.79 s"
     ]
    },
    {
     "name": "stderr",
     "output_type": "stream",
     "text": [
      " WARNING: FIR normalized: sum[coef]=9.767192E-01;     \n",
      " WARNING: FIR normalized: sum[coef]=9.767192E-01;     \n",
      " WARNING: FIR normalized: sum[coef]=9.767192E-01;     \n",
      " WARNING: FIR normalized: sum[coef]=9.767192E-01;     \n"
     ]
    },
    {
     "name": "stdout",
     "output_type": "stream",
     "text": [
      "[###############################         ] | 79% Completed | 498.04 s"
     ]
    },
    {
     "name": "stderr",
     "output_type": "stream",
     "text": [
      " WARNING: FIR normalized: sum[coef]=9.767192E-01;     \n",
      " WARNING: FIR normalized: sum[coef]=9.767192E-01;     \n",
      " WARNING: FIR normalized: sum[coef]=9.767192E-01;     \n",
      " WARNING: FIR normalized: sum[coef]=9.767192E-01;     \n",
      " WARNING: FIR normalized: sum[coef]=9.767192E-01;     \n"
     ]
    },
    {
     "name": "stdout",
     "output_type": "stream",
     "text": [
      "[###############################         ] | 79% Completed | 498.40 s"
     ]
    },
    {
     "name": "stderr",
     "output_type": "stream",
     "text": [
      " WARNING: FIR normalized: sum[coef]=9.767192E-01;     \n",
      " WARNING: FIR normalized: sum[coef]=9.767192E-01;     \n",
      " WARNING: FIR normalized: sum[coef]=9.767192E-01;     \n",
      " WARNING: FIR normalized: sum[coef]=9.767192E-01;     \n",
      " WARNING: FIR normalized: sum[coef]=9.767192E-01;     \n",
      " WARNING: FIR normalized: sum[coef]=9.767192E-01;     \n",
      " WARNING: FIR normalized: sum[coef]=9.767192E-01;     \n",
      " WARNING: FIR normalized: sum[coef]=9.767192E-01;     \n"
     ]
    },
    {
     "name": "stdout",
     "output_type": "stream",
     "text": [
      "[###############################         ] | 79% Completed | 498.64 s"
     ]
    },
    {
     "name": "stderr",
     "output_type": "stream",
     "text": [
      " WARNING: FIR normalized: sum[coef]=9.767192E-01;     \n",
      " WARNING: FIR normalized: sum[coef]=9.767192E-01;     \n",
      " WARNING: FIR normalized: sum[coef]=9.767192E-01;     \n",
      " WARNING: FIR normalized: sum[coef]=9.767192E-01;     \n",
      " WARNING: FIR normalized: sum[coef]=9.767192E-01;     \n"
     ]
    },
    {
     "name": "stdout",
     "output_type": "stream",
     "text": [
      "[###############################         ] | 79% Completed | 498.75 s"
     ]
    },
    {
     "name": "stderr",
     "output_type": "stream",
     "text": [
      " WARNING: FIR normalized: sum[coef]=9.767192E-01;     \n",
      " WARNING: FIR normalized: sum[coef]=9.767192E-01;     \n",
      " WARNING: FIR normalized: sum[coef]=9.767192E-01;     \n",
      " WARNING: FIR normalized: sum[coef]=9.767192E-01;     \n"
     ]
    },
    {
     "name": "stdout",
     "output_type": "stream",
     "text": [
      "[################################        ] | 80% Completed | 498.99 s"
     ]
    },
    {
     "name": "stderr",
     "output_type": "stream",
     "text": [
      " WARNING: FIR normalized: sum[coef]=9.767192E-01;     \n",
      " WARNING: FIR normalized: sum[coef]=9.767192E-01;     \n",
      " WARNING: FIR normalized: sum[coef]=9.767192E-01;     \n",
      " WARNING: FIR normalized: sum[coef]=9.767192E-01;     \n",
      " WARNING: FIR normalized: sum[coef]=9.767192E-01;     \n"
     ]
    },
    {
     "name": "stdout",
     "output_type": "stream",
     "text": [
      "[################################        ] | 80% Completed | 499.24 s"
     ]
    },
    {
     "name": "stderr",
     "output_type": "stream",
     "text": [
      " WARNING: FIR normalized: sum[coef]=9.767192E-01;     \n",
      " WARNING: FIR normalized: sum[coef]=9.767192E-01;     \n",
      " WARNING: FIR normalized: sum[coef]=9.767192E-01;     \n",
      " WARNING: FIR normalized: sum[coef]=9.767192E-01;     \n",
      " WARNING: FIR normalized: sum[coef]=9.767192E-01;     \n",
      " WARNING: FIR normalized: sum[coef]=9.767192E-01;     \n"
     ]
    },
    {
     "name": "stdout",
     "output_type": "stream",
     "text": [
      "[################################        ] | 80% Completed | 499.49 s"
     ]
    },
    {
     "name": "stderr",
     "output_type": "stream",
     "text": [
      " WARNING: FIR normalized: sum[coef]=9.767192E-01;     \n",
      " WARNING: FIR normalized: sum[coef]=9.767192E-01;     \n",
      " WARNING: FIR normalized: sum[coef]=9.767192E-01;     \n",
      " WARNING: FIR normalized: sum[coef]=9.767192E-01;     \n",
      " WARNING: FIR normalized: sum[coef]=9.767192E-01;     \n",
      " WARNING: FIR normalized: sum[coef]=9.767192E-01;     \n"
     ]
    },
    {
     "name": "stdout",
     "output_type": "stream",
     "text": [
      "[################################        ] | 80% Completed | 499.71 s"
     ]
    },
    {
     "name": "stderr",
     "output_type": "stream",
     "text": [
      " WARNING: FIR normalized: sum[coef]=9.767192E-01;     \n",
      " WARNING: FIR normalized: sum[coef]=9.767192E-01;     \n",
      " WARNING: FIR normalized: sum[coef]=9.767192E-01;     \n",
      " WARNING: FIR normalized: sum[coef]=9.767192E-01;     \n"
     ]
    },
    {
     "name": "stdout",
     "output_type": "stream",
     "text": [
      "[################################        ] | 80% Completed | 499.98 s"
     ]
    },
    {
     "name": "stderr",
     "output_type": "stream",
     "text": [
      " WARNING: FIR normalized: sum[coef]=9.767192E-01;     \n",
      " WARNING: FIR normalized: sum[coef]=9.767192E-01;     \n",
      " WARNING: FIR normalized: sum[coef]=9.767192E-01;     \n",
      " WARNING: FIR normalized: sum[coef]=9.767192E-01;     \n",
      " WARNING: FIR normalized: sum[coef]=9.767192E-01;     \n",
      " WARNING: FIR normalized: sum[coef]=9.767192E-01;     \n",
      " WARNING: FIR normalized: sum[coef]=9.767192E-01;     \n"
     ]
    },
    {
     "name": "stdout",
     "output_type": "stream",
     "text": [
      "[################################        ] | 80% Completed | 500.20 s"
     ]
    },
    {
     "name": "stderr",
     "output_type": "stream",
     "text": [
      " WARNING: FIR normalized: sum[coef]=9.767192E-01;     \n",
      " WARNING: FIR normalized: sum[coef]=9.767192E-01;     \n",
      " WARNING: FIR normalized: sum[coef]=9.767192E-01;     \n"
     ]
    },
    {
     "name": "stdout",
     "output_type": "stream",
     "text": [
      "[################################        ] | 80% Completed | 500.33 s"
     ]
    },
    {
     "name": "stderr",
     "output_type": "stream",
     "text": [
      " WARNING: FIR normalized: sum[coef]=9.767192E-01;     \n",
      " WARNING: FIR normalized: sum[coef]=9.767192E-01;     \n",
      " WARNING: FIR normalized: sum[coef]=9.767192E-01;     \n",
      " WARNING: FIR normalized: sum[coef]=9.767192E-01;     \n",
      " WARNING: FIR normalized: sum[coef]=9.767192E-01;     \n"
     ]
    },
    {
     "name": "stdout",
     "output_type": "stream",
     "text": [
      "[################################        ] | 80% Completed | 500.57 s"
     ]
    },
    {
     "name": "stderr",
     "output_type": "stream",
     "text": [
      " WARNING: FIR normalized: sum[coef]=9.767192E-01;     \n",
      " WARNING: FIR normalized: sum[coef]=9.767192E-01;     \n",
      " WARNING: FIR normalized: sum[coef]=9.767192E-01;     \n",
      " WARNING: FIR normalized: sum[coef]=9.767192E-01;     \n",
      " WARNING: FIR normalized: sum[coef]=9.767192E-01;     \n",
      " WARNING: FIR normalized: sum[coef]=9.767192E-01;     \n",
      " WARNING: FIR normalized: sum[coef]=9.767192E-01;     \n"
     ]
    },
    {
     "name": "stdout",
     "output_type": "stream",
     "text": [
      "[################################        ] | 80% Completed | 500.93 s"
     ]
    },
    {
     "name": "stderr",
     "output_type": "stream",
     "text": [
      " WARNING: FIR normalized: sum[coef]=9.767192E-01;     \n",
      " WARNING: FIR normalized: sum[coef]=9.767192E-01;     \n",
      " WARNING: FIR normalized: sum[coef]=9.767192E-01;     \n",
      " WARNING: FIR normalized: sum[coef]=9.767192E-01;     \n"
     ]
    },
    {
     "name": "stdout",
     "output_type": "stream",
     "text": [
      "[################################        ] | 80% Completed | 501.17 s"
     ]
    },
    {
     "name": "stderr",
     "output_type": "stream",
     "text": [
      " WARNING: FIR normalized: sum[coef]=9.767192E-01;     \n",
      " WARNING: FIR normalized: sum[coef]=9.767192E-01;     \n",
      " WARNING: FIR normalized: sum[coef]=9.767192E-01;     \n",
      " WARNING: FIR normalized: sum[coef]=9.767192E-01;     \n",
      " WARNING: FIR normalized: sum[coef]=9.767192E-01;     \n"
     ]
    },
    {
     "name": "stdout",
     "output_type": "stream",
     "text": [
      "[################################        ] | 80% Completed | 501.39 s"
     ]
    },
    {
     "name": "stderr",
     "output_type": "stream",
     "text": [
      " WARNING: FIR normalized: sum[coef]=9.767192E-01;     \n",
      " WARNING: FIR normalized: sum[coef]=9.767192E-01;     \n",
      " WARNING: FIR normalized: sum[coef]=9.767192E-01;     \n",
      " WARNING: FIR normalized: sum[coef]=9.767192E-01;     \n",
      " WARNING: FIR normalized: sum[coef]=9.767192E-01;     \n",
      " WARNING: FIR normalized: sum[coef]=9.767192E-01;     \n",
      " WARNING: FIR normalized: sum[coef]=9.767192E-01;     \n",
      " WARNING: FIR normalized: sum[coef]=9.767192E-01;     \n"
     ]
    },
    {
     "name": "stdout",
     "output_type": "stream",
     "text": [
      "[################################        ] | 80% Completed | 501.64 s"
     ]
    },
    {
     "name": "stderr",
     "output_type": "stream",
     "text": [
      " WARNING: FIR normalized: sum[coef]=9.767192E-01;     \n",
      " WARNING: FIR normalized: sum[coef]=9.767192E-01;     \n"
     ]
    },
    {
     "name": "stdout",
     "output_type": "stream",
     "text": [
      "[################################        ] | 80% Completed | 501.87 s"
     ]
    },
    {
     "name": "stderr",
     "output_type": "stream",
     "text": [
      " WARNING: FIR normalized: sum[coef]=9.767192E-01;     \n",
      " WARNING: FIR normalized: sum[coef]=9.767192E-01;     \n",
      " WARNING: FIR normalized: sum[coef]=9.767192E-01;     \n",
      " WARNING: FIR normalized: sum[coef]=9.767192E-01;     \n",
      " WARNING: FIR normalized: sum[coef]=9.767192E-01;     \n",
      " WARNING: FIR normalized: sum[coef]=9.767192E-01;     \n"
     ]
    },
    {
     "name": "stdout",
     "output_type": "stream",
     "text": [
      "[################################        ] | 81% Completed | 502.21 s"
     ]
    },
    {
     "name": "stderr",
     "output_type": "stream",
     "text": [
      " WARNING: FIR normalized: sum[coef]=9.767192E-01;     \n",
      " WARNING: FIR normalized: sum[coef]=9.767192E-01;     \n",
      " WARNING: FIR normalized: sum[coef]=9.767192E-01;     \n",
      " WARNING: FIR normalized: sum[coef]=9.767192E-01;     \n"
     ]
    },
    {
     "name": "stdout",
     "output_type": "stream",
     "text": [
      "[################################        ] | 81% Completed | 502.43 s"
     ]
    },
    {
     "name": "stderr",
     "output_type": "stream",
     "text": [
      " WARNING: FIR normalized: sum[coef]=9.767192E-01;     \n",
      " WARNING: FIR normalized: sum[coef]=9.767192E-01;     \n",
      " WARNING: FIR normalized: sum[coef]=9.767192E-01;     \n",
      " WARNING: FIR normalized: sum[coef]=9.767192E-01;     \n",
      " WARNING: FIR normalized: sum[coef]=9.767192E-01;     \n"
     ]
    },
    {
     "name": "stdout",
     "output_type": "stream",
     "text": [
      "[################################        ] | 81% Completed | 502.68 s"
     ]
    },
    {
     "name": "stderr",
     "output_type": "stream",
     "text": [
      " WARNING: FIR normalized: sum[coef]=9.767192E-01;     \n",
      " WARNING: FIR normalized: sum[coef]=9.767192E-01;     \n",
      " WARNING: FIR normalized: sum[coef]=9.767192E-01;     \n",
      " WARNING: FIR normalized: sum[coef]=9.767192E-01;     \n",
      " WARNING: FIR normalized: sum[coef]=9.767192E-01;     \n",
      " WARNING: FIR normalized: sum[coef]=9.767192E-01;     \n",
      " WARNING: FIR normalized: sum[coef]=9.767192E-01;     \n"
     ]
    },
    {
     "name": "stdout",
     "output_type": "stream",
     "text": [
      "[################################        ] | 81% Completed | 502.90 s"
     ]
    },
    {
     "name": "stderr",
     "output_type": "stream",
     "text": [
      " WARNING: FIR normalized: sum[coef]=9.767192E-01;     \n",
      " WARNING: FIR normalized: sum[coef]=9.767192E-01;     \n",
      " WARNING: FIR normalized: sum[coef]=9.767192E-01;     \n"
     ]
    },
    {
     "name": "stdout",
     "output_type": "stream",
     "text": [
      "[################################        ] | 81% Completed | 503.14 s"
     ]
    },
    {
     "name": "stderr",
     "output_type": "stream",
     "text": [
      " WARNING: FIR normalized: sum[coef]=9.767192E-01;     \n",
      " WARNING: FIR normalized: sum[coef]=9.767192E-01;     \n",
      " WARNING: FIR normalized: sum[coef]=9.767192E-01;     \n",
      " WARNING: FIR normalized: sum[coef]=9.767192E-01;     \n",
      " WARNING: FIR normalized: sum[coef]=9.767192E-01;     \n"
     ]
    },
    {
     "name": "stdout",
     "output_type": "stream",
     "text": [
      "[################################        ] | 81% Completed | 503.50 s"
     ]
    },
    {
     "name": "stderr",
     "output_type": "stream",
     "text": [
      " WARNING: FIR normalized: sum[coef]=9.767192E-01;     \n",
      " WARNING: FIR normalized: sum[coef]=9.767192E-01;     \n",
      " WARNING: FIR normalized: sum[coef]=9.767192E-01;     \n",
      " WARNING: FIR normalized: sum[coef]=9.767192E-01;     \n",
      " WARNING: FIR normalized: sum[coef]=9.767192E-01;     \n",
      " WARNING: FIR normalized: sum[coef]=9.767192E-01;     \n"
     ]
    },
    {
     "name": "stdout",
     "output_type": "stream",
     "text": [
      "[################################        ] | 81% Completed | 503.73 s"
     ]
    },
    {
     "name": "stderr",
     "output_type": "stream",
     "text": [
      " WARNING: FIR normalized: sum[coef]=9.767192E-01;     \n",
      " WARNING: FIR normalized: sum[coef]=9.767192E-01;     \n",
      " WARNING: FIR normalized: sum[coef]=9.767192E-01;     \n",
      " WARNING: FIR normalized: sum[coef]=9.767192E-01;     \n",
      " WARNING: FIR normalized: sum[coef]=9.767192E-01;     \n",
      " WARNING: FIR normalized: sum[coef]=9.767192E-01;     \n",
      " WARNING: FIR normalized: sum[coef]=9.767192E-01;     \n"
     ]
    },
    {
     "name": "stdout",
     "output_type": "stream",
     "text": [
      "[################################        ] | 81% Completed | 503.97 s"
     ]
    },
    {
     "name": "stderr",
     "output_type": "stream",
     "text": [
      " WARNING: FIR normalized: sum[coef]=9.767192E-01;     \n",
      " WARNING: FIR normalized: sum[coef]=9.767192E-01;     \n"
     ]
    },
    {
     "name": "stdout",
     "output_type": "stream",
     "text": [
      "[################################        ] | 81% Completed | 504.19 s"
     ]
    },
    {
     "name": "stderr",
     "output_type": "stream",
     "text": [
      " WARNING: FIR normalized: sum[coef]=9.767192E-01;     \n",
      " WARNING: FIR normalized: sum[coef]=9.767192E-01;     \n",
      " WARNING: FIR normalized: sum[coef]=9.767192E-01;     \n",
      " WARNING: FIR normalized: sum[coef]=9.767192E-01;     \n",
      " WARNING: FIR normalized: sum[coef]=9.767192E-01;     \n"
     ]
    },
    {
     "name": "stdout",
     "output_type": "stream",
     "text": [
      "[################################        ] | 81% Completed | 504.43 s"
     ]
    },
    {
     "name": "stderr",
     "output_type": "stream",
     "text": [
      " WARNING: FIR normalized: sum[coef]=9.767192E-01;     \n",
      " WARNING: FIR normalized: sum[coef]=9.767192E-01;     \n",
      " WARNING: FIR normalized: sum[coef]=9.767192E-01;     \n",
      " WARNING: FIR normalized: sum[coef]=9.767192E-01;     \n",
      " WARNING: FIR normalized: sum[coef]=9.767192E-01;     \n",
      " WARNING: FIR normalized: sum[coef]=9.767192E-01;     \n",
      " WARNING: FIR normalized: sum[coef]=9.767192E-01;     \n",
      " WARNING: FIR normalized: sum[coef]=9.767192E-01;     \n",
      " WARNING: FIR normalized: sum[coef]=9.767192E-01;     \n",
      " WARNING: FIR normalized: sum[coef]=9.767192E-01;     \n"
     ]
    },
    {
     "name": "stdout",
     "output_type": "stream",
     "text": [
      "[################################        ] | 81% Completed | 504.66 s"
     ]
    },
    {
     "name": "stderr",
     "output_type": "stream",
     "text": [
      " WARNING: FIR normalized: sum[coef]=9.767192E-01;     \n",
      " WARNING: FIR normalized: sum[coef]=9.767192E-01;     \n"
     ]
    },
    {
     "name": "stdout",
     "output_type": "stream",
     "text": [
      "[################################        ] | 81% Completed | 504.89 s"
     ]
    },
    {
     "name": "stderr",
     "output_type": "stream",
     "text": [
      " WARNING: FIR normalized: sum[coef]=9.767192E-01;     \n",
      " WARNING: FIR normalized: sum[coef]=9.767192E-01;     \n",
      " WARNING: FIR normalized: sum[coef]=9.767192E-01;     \n"
     ]
    },
    {
     "name": "stdout",
     "output_type": "stream",
     "text": [
      "[################################        ] | 81% Completed | 505.12 s"
     ]
    },
    {
     "name": "stderr",
     "output_type": "stream",
     "text": [
      " WARNING: FIR normalized: sum[coef]=9.767192E-01;     \n",
      " WARNING: FIR normalized: sum[coef]=9.767192E-01;     \n",
      " WARNING: FIR normalized: sum[coef]=9.767192E-01;     \n",
      " WARNING: FIR normalized: sum[coef]=9.767192E-01;     \n",
      " WARNING: FIR normalized: sum[coef]=9.767192E-01;     \n",
      " WARNING: FIR normalized: sum[coef]=9.767192E-01;     \n"
     ]
    },
    {
     "name": "stdout",
     "output_type": "stream",
     "text": [
      "[################################        ] | 81% Completed | 505.36 s"
     ]
    },
    {
     "name": "stderr",
     "output_type": "stream",
     "text": [
      " WARNING: FIR normalized: sum[coef]=9.767192E-01;     \n",
      " WARNING: FIR normalized: sum[coef]=9.767192E-01;     \n",
      " WARNING: FIR normalized: sum[coef]=9.767192E-01;     \n",
      " WARNING: FIR normalized: sum[coef]=9.767192E-01;     \n",
      " WARNING: FIR normalized: sum[coef]=9.767192E-01;     \n",
      " WARNING: FIR normalized: sum[coef]=9.767192E-01;     \n"
     ]
    },
    {
     "name": "stdout",
     "output_type": "stream",
     "text": [
      "[################################        ] | 81% Completed | 505.60 s"
     ]
    },
    {
     "name": "stderr",
     "output_type": "stream",
     "text": [
      " WARNING: FIR normalized: sum[coef]=9.767192E-01;     \n",
      " WARNING: FIR normalized: sum[coef]=9.767192E-01;     \n",
      " WARNING: FIR normalized: sum[coef]=9.767192E-01;     \n",
      " WARNING: FIR normalized: sum[coef]=9.767192E-01;     \n"
     ]
    },
    {
     "name": "stdout",
     "output_type": "stream",
     "text": [
      "[################################        ] | 81% Completed | 505.84 s"
     ]
    },
    {
     "name": "stderr",
     "output_type": "stream",
     "text": [
      " WARNING: FIR normalized: sum[coef]=9.767192E-01;     \n",
      " WARNING: FIR normalized: sum[coef]=9.767192E-01;     \n",
      " WARNING: FIR normalized: sum[coef]=9.767192E-01;     \n"
     ]
    },
    {
     "name": "stdout",
     "output_type": "stream",
     "text": [
      "[################################        ] | 81% Completed | 506.08 s"
     ]
    },
    {
     "name": "stderr",
     "output_type": "stream",
     "text": [
      " WARNING: FIR normalized: sum[coef]=9.767192E-01;     \n",
      " WARNING: FIR normalized: sum[coef]=9.767192E-01;     \n",
      " WARNING: FIR normalized: sum[coef]=9.767192E-01;     \n",
      " WARNING: FIR normalized: sum[coef]=9.767192E-01;     \n",
      " WARNING: FIR normalized: sum[coef]=9.767192E-01;     \n",
      " WARNING: FIR normalized: sum[coef]=9.767192E-01;     \n",
      " WARNING: FIR normalized: sum[coef]=9.767192E-01;     \n",
      " WARNING: FIR normalized: sum[coef]=9.767192E-01;     \n"
     ]
    },
    {
     "name": "stdout",
     "output_type": "stream",
     "text": [
      "[################################        ] | 81% Completed | 506.32 s"
     ]
    },
    {
     "name": "stderr",
     "output_type": "stream",
     "text": [
      " WARNING: FIR normalized: sum[coef]=9.767192E-01;     \n",
      " WARNING: FIR normalized: sum[coef]=9.767192E-01;     \n",
      " WARNING: FIR normalized: sum[coef]=9.767192E-01;     \n",
      " WARNING: FIR normalized: sum[coef]=9.767192E-01;     \n",
      " WARNING: FIR normalized: sum[coef]=9.767192E-01;     \n",
      " WARNING: FIR normalized: sum[coef]=9.767192E-01;     \n",
      " WARNING: FIR normalized: sum[coef]=9.767192E-01;     \n",
      " WARNING: FIR normalized: sum[coef]=9.767192E-01;     \n"
     ]
    },
    {
     "name": "stdout",
     "output_type": "stream",
     "text": [
      "[################################        ] | 81% Completed | 506.79 s"
     ]
    },
    {
     "name": "stderr",
     "output_type": "stream",
     "text": [
      " WARNING: FIR normalized: sum[coef]=9.767192E-01;     \n",
      " WARNING: FIR normalized: sum[coef]=9.767192E-01;     \n",
      " WARNING: FIR normalized: sum[coef]=9.767192E-01;     \n",
      " WARNING: FIR normalized: sum[coef]=9.767192E-01;     \n",
      " WARNING: FIR normalized: sum[coef]=9.767192E-01;     \n",
      " WARNING: FIR normalized: sum[coef]=9.767192E-01;     \n",
      " WARNING: FIR normalized: sum[coef]=9.767192E-01;     \n",
      " WARNING: FIR normalized: sum[coef]=9.767192E-01;     \n"
     ]
    },
    {
     "name": "stdout",
     "output_type": "stream",
     "text": [
      "[################################        ] | 81% Completed | 507.03 s"
     ]
    },
    {
     "name": "stderr",
     "output_type": "stream",
     "text": [
      " WARNING: FIR normalized: sum[coef]=9.767192E-01;     \n",
      " WARNING: FIR normalized: sum[coef]=9.767192E-01;     \n",
      " WARNING: FIR normalized: sum[coef]=9.767192E-01;     \n",
      " WARNING: FIR normalized: sum[coef]=9.767192E-01;     \n",
      " WARNING: FIR normalized: sum[coef]=9.767192E-01;     \n",
      " WARNING: FIR normalized: sum[coef]=9.767192E-01;     \n",
      " WARNING: FIR normalized: sum[coef]=9.767192E-01;     \n",
      " WARNING: FIR normalized: sum[coef]=9.767192E-01;     \n",
      " WARNING: FIR normalized: sum[coef]=9.767192E-01;     \n"
     ]
    },
    {
     "name": "stdout",
     "output_type": "stream",
     "text": [
      "[################################        ] | 81% Completed | 507.39 s"
     ]
    },
    {
     "name": "stderr",
     "output_type": "stream",
     "text": [
      " WARNING: FIR normalized: sum[coef]=9.767192E-01;     \n"
     ]
    },
    {
     "name": "stdout",
     "output_type": "stream",
     "text": [
      "[################################        ] | 82% Completed | 507.64 s"
     ]
    },
    {
     "name": "stderr",
     "output_type": "stream",
     "text": [
      " WARNING: FIR normalized: sum[coef]=9.767192E-01;     \n",
      " WARNING: FIR normalized: sum[coef]=9.767192E-01;     \n",
      " WARNING: FIR normalized: sum[coef]=9.767192E-01;     \n",
      " WARNING: FIR normalized: sum[coef]=9.767192E-01;     \n",
      " WARNING: FIR normalized: sum[coef]=9.767192E-01;     \n",
      " WARNING: FIR normalized: sum[coef]=9.767192E-01;     \n",
      " WARNING: FIR normalized: sum[coef]=9.767192E-01;     \n",
      " WARNING: FIR normalized: sum[coef]=9.767192E-01;     \n",
      " WARNING: FIR normalized: sum[coef]=9.767192E-01;     \n",
      " WARNING: FIR normalized: sum[coef]=9.767192E-01;     \n"
     ]
    },
    {
     "name": "stdout",
     "output_type": "stream",
     "text": [
      "[################################        ] | 82% Completed | 507.88 s"
     ]
    },
    {
     "name": "stderr",
     "output_type": "stream",
     "text": [
      " WARNING: FIR normalized: sum[coef]=9.767192E-01;     \n",
      " WARNING: FIR normalized: sum[coef]=9.767192E-01;     \n",
      " WARNING: FIR normalized: sum[coef]=9.767192E-01;     \n",
      " WARNING: FIR normalized: sum[coef]=9.767192E-01;     \n"
     ]
    },
    {
     "name": "stdout",
     "output_type": "stream",
     "text": [
      "[################################        ] | 82% Completed | 508.22 s"
     ]
    },
    {
     "name": "stderr",
     "output_type": "stream",
     "text": [
      " WARNING: FIR normalized: sum[coef]=9.767192E-01;     \n",
      " WARNING: FIR normalized: sum[coef]=9.767192E-01;     \n"
     ]
    },
    {
     "name": "stdout",
     "output_type": "stream",
     "text": [
      "[################################        ] | 82% Completed | 508.44 s"
     ]
    },
    {
     "name": "stderr",
     "output_type": "stream",
     "text": [
      " WARNING: FIR normalized: sum[coef]=9.767192E-01;     \n",
      " WARNING: FIR normalized: sum[coef]=9.767192E-01;     \n",
      " WARNING: FIR normalized: sum[coef]=9.767192E-01;     \n",
      " WARNING: FIR normalized: sum[coef]=9.767192E-01;     \n",
      " WARNING: FIR normalized: sum[coef]=9.767192E-01;     \n",
      " WARNING: FIR normalized: sum[coef]=9.767192E-01;     \n",
      " WARNING: FIR normalized: sum[coef]=9.767192E-01;     \n",
      " WARNING: FIR normalized: sum[coef]=9.767192E-01;     \n"
     ]
    },
    {
     "name": "stdout",
     "output_type": "stream",
     "text": [
      "[################################        ] | 82% Completed | 508.68 s"
     ]
    },
    {
     "name": "stderr",
     "output_type": "stream",
     "text": [
      " WARNING: FIR normalized: sum[coef]=9.767192E-01;     \n",
      " WARNING: FIR normalized: sum[coef]=9.767192E-01;     \n",
      " WARNING: FIR normalized: sum[coef]=9.767192E-01;     \n",
      " WARNING: FIR normalized: sum[coef]=9.767192E-01;     \n",
      " WARNING: FIR normalized: sum[coef]=9.767192E-01;     \n"
     ]
    },
    {
     "name": "stdout",
     "output_type": "stream",
     "text": [
      "[################################        ] | 82% Completed | 508.92 s"
     ]
    },
    {
     "name": "stderr",
     "output_type": "stream",
     "text": [
      " WARNING: FIR normalized: sum[coef]=9.767192E-01;     \n",
      " WARNING: FIR normalized: sum[coef]=9.767192E-01;     \n",
      " WARNING: FIR normalized: sum[coef]=9.767192E-01;     \n"
     ]
    },
    {
     "name": "stdout",
     "output_type": "stream",
     "text": [
      "[################################        ] | 82% Completed | 509.04 s"
     ]
    },
    {
     "name": "stderr",
     "output_type": "stream",
     "text": [
      " WARNING: FIR normalized: sum[coef]=9.767192E-01;     \n",
      " WARNING: FIR normalized: sum[coef]=9.767192E-01;     \n",
      " WARNING: FIR normalized: sum[coef]=9.767192E-01;     \n",
      " WARNING: FIR normalized: sum[coef]=9.767192E-01;     \n"
     ]
    },
    {
     "name": "stdout",
     "output_type": "stream",
     "text": [
      "[################################        ] | 82% Completed | 509.28 s"
     ]
    },
    {
     "name": "stderr",
     "output_type": "stream",
     "text": [
      " WARNING: FIR normalized: sum[coef]=9.767192E-01;     \n",
      " WARNING: FIR normalized: sum[coef]=9.767192E-01;     \n",
      " WARNING: FIR normalized: sum[coef]=9.767192E-01;     \n",
      " WARNING: FIR normalized: sum[coef]=9.767192E-01;     \n",
      " WARNING: FIR normalized: sum[coef]=9.767192E-01;     \n",
      " WARNING: FIR normalized: sum[coef]=9.767192E-01;     \n",
      " WARNING: FIR normalized: sum[coef]=9.767192E-01;     \n"
     ]
    },
    {
     "name": "stdout",
     "output_type": "stream",
     "text": [
      "[#################################       ] | 82% Completed | 509.49 s"
     ]
    },
    {
     "name": "stderr",
     "output_type": "stream",
     "text": [
      " WARNING: FIR normalized: sum[coef]=9.767192E-01;     \n",
      " WARNING: FIR normalized: sum[coef]=9.767192E-01;     \n"
     ]
    },
    {
     "name": "stdout",
     "output_type": "stream",
     "text": [
      "[#################################       ] | 82% Completed | 509.74 s"
     ]
    },
    {
     "name": "stderr",
     "output_type": "stream",
     "text": [
      " WARNING: FIR normalized: sum[coef]=9.767192E-01;     \n",
      " WARNING: FIR normalized: sum[coef]=9.767192E-01;     \n",
      " WARNING: FIR normalized: sum[coef]=9.767192E-01;     \n",
      " WARNING: FIR normalized: sum[coef]=9.767192E-01;     \n"
     ]
    },
    {
     "name": "stdout",
     "output_type": "stream",
     "text": [
      "[#################################       ] | 83% Completed | 509.98 s"
     ]
    },
    {
     "name": "stderr",
     "output_type": "stream",
     "text": [
      " WARNING: FIR normalized: sum[coef]=9.767192E-01;     \n",
      " WARNING: FIR normalized: sum[coef]=9.767192E-01;     \n",
      " WARNING: FIR normalized: sum[coef]=9.767192E-01;     \n",
      " WARNING: FIR normalized: sum[coef]=9.767192E-01;     \n",
      " WARNING: FIR normalized: sum[coef]=9.767192E-01;     \n"
     ]
    },
    {
     "name": "stdout",
     "output_type": "stream",
     "text": [
      "[#################################       ] | 83% Completed | 510.20 s"
     ]
    },
    {
     "name": "stderr",
     "output_type": "stream",
     "text": [
      " WARNING: FIR normalized: sum[coef]=9.767192E-01;     \n",
      " WARNING: FIR normalized: sum[coef]=9.767192E-01;     \n",
      " WARNING: FIR normalized: sum[coef]=9.767192E-01;     \n",
      " WARNING: FIR normalized: sum[coef]=9.767192E-01;     \n"
     ]
    },
    {
     "name": "stdout",
     "output_type": "stream",
     "text": [
      "[#################################       ] | 83% Completed | 510.56 s[2012-10-20T23:43:20.007077Z] No data or fatal error during detection/classification: list index out of range\n",
      "[#################################       ] | 83% Completed | 510.67 s"
     ]
    },
    {
     "name": "stderr",
     "output_type": "stream",
     "text": [
      " WARNING: FIR normalized: sum[coef]=9.767192E-01;     \n",
      " WARNING: FIR normalized: sum[coef]=9.767192E-01;     \n",
      " WARNING: FIR normalized: sum[coef]=9.767192E-01;     \n",
      " WARNING: FIR normalized: sum[coef]=9.767192E-01;     \n",
      " WARNING: FIR normalized: sum[coef]=9.767192E-01;     \n",
      " WARNING: FIR normalized: sum[coef]=9.767192E-01;     \n"
     ]
    },
    {
     "name": "stdout",
     "output_type": "stream",
     "text": [
      "[#################################       ] | 83% Completed | 510.91 s"
     ]
    },
    {
     "name": "stderr",
     "output_type": "stream",
     "text": [
      " WARNING: FIR normalized: sum[coef]=9.767192E-01;     \n",
      " WARNING: FIR normalized: sum[coef]=9.767192E-01;     \n",
      " WARNING: FIR normalized: sum[coef]=9.767192E-01;     \n",
      " WARNING: FIR normalized: sum[coef]=9.767192E-01;     \n"
     ]
    },
    {
     "name": "stdout",
     "output_type": "stream",
     "text": [
      "[#################################       ] | 83% Completed | 511.15 s"
     ]
    },
    {
     "name": "stderr",
     "output_type": "stream",
     "text": [
      " WARNING: FIR normalized: sum[coef]=9.767192E-01;     \n",
      " WARNING: FIR normalized: sum[coef]=9.767192E-01;     \n"
     ]
    },
    {
     "name": "stdout",
     "output_type": "stream",
     "text": [
      "[#################################       ] | 83% Completed | 511.38 s"
     ]
    },
    {
     "name": "stderr",
     "output_type": "stream",
     "text": [
      " WARNING: FIR normalized: sum[coef]=9.767192E-01;     \n",
      " WARNING: FIR normalized: sum[coef]=9.767192E-01;     \n",
      " WARNING: FIR normalized: sum[coef]=9.767192E-01;     \n",
      " WARNING: FIR normalized: sum[coef]=9.767192E-01;     \n"
     ]
    },
    {
     "name": "stdout",
     "output_type": "stream",
     "text": [
      "[#################################       ] | 83% Completed | 511.61 s"
     ]
    },
    {
     "name": "stderr",
     "output_type": "stream",
     "text": [
      " WARNING: FIR normalized: sum[coef]=9.767192E-01;     \n",
      " WARNING: FIR normalized: sum[coef]=9.767192E-01;     \n",
      " WARNING: FIR normalized: sum[coef]=9.767192E-01;     \n",
      " WARNING: FIR normalized: sum[coef]=9.767192E-01;     \n",
      " WARNING: FIR normalized: sum[coef]=9.767192E-01;     \n",
      " WARNING: FIR normalized: sum[coef]=9.767192E-01;     \n"
     ]
    },
    {
     "name": "stdout",
     "output_type": "stream",
     "text": [
      "[#################################       ] | 84% Completed | 511.85 s"
     ]
    },
    {
     "name": "stderr",
     "output_type": "stream",
     "text": [
      " WARNING: FIR normalized: sum[coef]=9.767192E-01;     \n",
      " WARNING: FIR normalized: sum[coef]=9.767192E-01;     \n"
     ]
    },
    {
     "name": "stdout",
     "output_type": "stream",
     "text": [
      "[#################################       ] | 84% Completed | 512.20 s"
     ]
    },
    {
     "name": "stderr",
     "output_type": "stream",
     "text": [
      " WARNING: FIR normalized: sum[coef]=9.767192E-01;     \n",
      " WARNING: FIR normalized: sum[coef]=9.767192E-01;     \n"
     ]
    },
    {
     "name": "stdout",
     "output_type": "stream",
     "text": [
      "[#################################       ] | 84% Completed | 512.42 s"
     ]
    },
    {
     "name": "stderr",
     "output_type": "stream",
     "text": [
      " WARNING: FIR normalized: sum[coef]=9.767192E-01;     \n",
      " WARNING: FIR normalized: sum[coef]=9.767192E-01;     \n",
      " WARNING: FIR normalized: sum[coef]=9.767192E-01;     \n",
      " WARNING: FIR normalized: sum[coef]=9.767192E-01;     \n",
      " WARNING: FIR normalized: sum[coef]=9.767192E-01;     \n",
      " WARNING: FIR normalized: sum[coef]=9.767192E-01;     \n"
     ]
    },
    {
     "name": "stdout",
     "output_type": "stream",
     "text": [
      "[#################################       ] | 84% Completed | 512.66 s"
     ]
    },
    {
     "name": "stderr",
     "output_type": "stream",
     "text": [
      " WARNING: FIR normalized: sum[coef]=9.767192E-01;     \n",
      " WARNING: FIR normalized: sum[coef]=9.767192E-01;     \n",
      " WARNING: FIR normalized: sum[coef]=9.767192E-01;     \n"
     ]
    },
    {
     "name": "stdout",
     "output_type": "stream",
     "text": [
      "[#################################       ] | 84% Completed | 512.88 s"
     ]
    },
    {
     "name": "stderr",
     "output_type": "stream",
     "text": [
      " WARNING: FIR normalized: sum[coef]=9.767192E-01;     \n"
     ]
    },
    {
     "name": "stdout",
     "output_type": "stream",
     "text": [
      "[#################################       ] | 84% Completed | 513.11 s"
     ]
    },
    {
     "name": "stderr",
     "output_type": "stream",
     "text": [
      " WARNING: FIR normalized: sum[coef]=9.767192E-01;     \n",
      " WARNING: FIR normalized: sum[coef]=9.767192E-01;     \n",
      " WARNING: FIR normalized: sum[coef]=9.767192E-01;     \n",
      " WARNING (norm_resp): computed and reported sensitivities differ by more than 5 percent. \n",
      "\t Execution continuing.\n",
      " WARNING: FIR normalized: sum[coef]=9.767192E-01;     \n",
      " WARNING: FIR normalized: sum[coef]=9.767192E-01; "
     ]
    },
    {
     "name": "stdout",
     "output_type": "stream",
     "text": [
      "[#################################       ] | 84% Completed | 513.34 s"
     ]
    },
    {
     "name": "stderr",
     "output_type": "stream",
     "text": [
      "    \n",
      " WARNING: FIR normalized: sum[coef]=9.767192E-01;     \n",
      " WARNING: FIR normalized: sum[coef]=9.767192E-01;     \n",
      " WARNING: FIR normalized: sum[coef]=9.767192E-01;     \n",
      " WARNING: FIR normalized: sum[coef]=9.767192E-01;     \n"
     ]
    },
    {
     "name": "stdout",
     "output_type": "stream",
     "text": [
      "[#################################       ] | 84% Completed | 513.71 s"
     ]
    },
    {
     "name": "stderr",
     "output_type": "stream",
     "text": [
      " WARNING: FIR normalized: sum[coef]=9.767192E-01;     \n",
      " WARNING: FIR normalized: sum[coef]=9.767192E-01;     \n",
      " WARNING: FIR normalized: sum[coef]=9.767192E-01;     \n",
      " WARNING: FIR normalized: sum[coef]=9.767192E-01;     \n",
      " WARNING: FIR normalized: sum[coef]=9.767192E-01;     \n",
      " WARNING: FIR normalized: sum[coef]=9.767192E-01; "
     ]
    },
    {
     "name": "stdout",
     "output_type": "stream",
     "text": [
      "[#################################       ] | 84% Completed | 513.83 s"
     ]
    },
    {
     "name": "stderr",
     "output_type": "stream",
     "text": [
      "    \n",
      " WARNING: FIR normalized: sum[coef]=9.767192E-01;     \n",
      " WARNING: FIR normalized: sum[coef]=9.767192E-01;     \n",
      " WARNING: FIR normalized: sum[coef]=9.767192E-01;     \n"
     ]
    },
    {
     "name": "stdout",
     "output_type": "stream",
     "text": [
      "[#################################       ] | 84% Completed | 514.16 s"
     ]
    },
    {
     "name": "stderr",
     "output_type": "stream",
     "text": [
      " WARNING: FIR normalized: sum[coef]=9.767192E-01;     \n",
      " WARNING: FIR normalized: sum[coef]=9.767192E-01;     \n",
      " WARNING: FIR normalized: sum[coef]=9.767192E-01;     \n",
      " WARNING: FIR normalized: sum[coef]=9.767192E-01;     \n"
     ]
    },
    {
     "name": "stdout",
     "output_type": "stream",
     "text": [
      "[#################################       ] | 84% Completed | 514.39 s"
     ]
    },
    {
     "name": "stderr",
     "output_type": "stream",
     "text": [
      " WARNING: FIR normalized: sum[coef]=9.767192E-01;     \n",
      " WARNING: FIR normalized: sum[coef]=9.767192E-01;     \n",
      " WARNING: FIR normalized: sum[coef]=9.767192E-01;     \n",
      " WARNING: FIR normalized: sum[coef]=9.767192E-01;     \n",
      " WARNING: FIR normalized: sum[coef]=9.767192E-01;     \n"
     ]
    },
    {
     "name": "stdout",
     "output_type": "stream",
     "text": [
      "[#################################       ] | 84% Completed | 514.62 s"
     ]
    },
    {
     "name": "stderr",
     "output_type": "stream",
     "text": [
      " WARNING: FIR normalized: sum[coef]=9.767192E-01;     \n"
     ]
    },
    {
     "name": "stdout",
     "output_type": "stream",
     "text": [
      "[#################################       ] | 84% Completed | 514.95 s"
     ]
    },
    {
     "name": "stderr",
     "output_type": "stream",
     "text": [
      " WARNING: FIR normalized: sum[coef]=9.767192E-01;     \n",
      " WARNING: FIR normalized: sum[coef]=9.767192E-01;     \n",
      " WARNING: FIR normalized: sum[coef]=9.767192E-01;     \n",
      " WARNING: FIR normalized: sum[coef]=9.767192E-01;     \n",
      " WARNING: FIR normalized: sum[coef]=9.767192E-01;     \n",
      " WARNING: FIR normalized: sum[coef]=9.767192E-01;     \n",
      " WARNING: FIR normalized: sum[coef]=9.767192E-01;     \n"
     ]
    },
    {
     "name": "stdout",
     "output_type": "stream",
     "text": [
      "[#################################       ] | 84% Completed | 515.28 s"
     ]
    },
    {
     "name": "stderr",
     "output_type": "stream",
     "text": [
      " WARNING: FIR normalized: sum[coef]=9.767192E-01;     \n",
      " WARNING: FIR normalized: sum[coef]=9.767192E-01;     \n",
      " WARNING: FIR normalized: sum[coef]=9.767192E-01;     \n",
      " WARNING: FIR normalized: sum[coef]=9.767192E-01;     \n"
     ]
    },
    {
     "name": "stdout",
     "output_type": "stream",
     "text": [
      "[#################################       ] | 84% Completed | 515.51 s"
     ]
    },
    {
     "name": "stderr",
     "output_type": "stream",
     "text": [
      " WARNING: FIR normalized: sum[coef]=9.767192E-01;     \n",
      " WARNING: FIR normalized: sum[coef]=9.767192E-01;     \n",
      " WARNING: FIR normalized: sum[coef]=9.767192E-01;     \n",
      " WARNING: FIR normalized: sum[coef]=9.767192E-01;     \n"
     ]
    },
    {
     "name": "stdout",
     "output_type": "stream",
     "text": [
      "[#################################       ] | 84% Completed | 515.86 s"
     ]
    },
    {
     "name": "stderr",
     "output_type": "stream",
     "text": [
      " WARNING: FIR normalized: sum[coef]=9.767192E-01;     \n",
      " WARNING: FIR normalized: sum[coef]=9.767192E-01;     \n",
      " WARNING: FIR normalized: sum[coef]=9.767192E-01;     \n",
      " WARNING: FIR normalized: sum[coef]=9.767192E-01;     \n",
      " WARNING: FIR normalized: sum[coef]=9.767192E-01;     \n"
     ]
    },
    {
     "name": "stdout",
     "output_type": "stream",
     "text": [
      "[#################################       ] | 84% Completed | 516.08 s"
     ]
    },
    {
     "name": "stderr",
     "output_type": "stream",
     "text": [
      " WARNING: FIR normalized: sum[coef]=9.767192E-01;     \n",
      " WARNING: FIR normalized: sum[coef]=9.767192E-01;     \n",
      " WARNING: FIR normalized: sum[coef]=9.767192E-01;     \n",
      " WARNING: FIR normalized: sum[coef]=9.767192E-01;     \n"
     ]
    },
    {
     "name": "stdout",
     "output_type": "stream",
     "text": [
      "[#################################       ] | 84% Completed | 516.43 s"
     ]
    },
    {
     "name": "stderr",
     "output_type": "stream",
     "text": [
      " WARNING: FIR normalized: sum[coef]=9.767192E-01;     \n",
      " WARNING: FIR normalized: sum[coef]=9.767192E-01;     \n",
      " WARNING: FIR normalized: sum[coef]=9.767192E-01;     \n",
      " WARNING: FIR normalized: sum[coef]=9.767192E-01;     \n"
     ]
    },
    {
     "name": "stdout",
     "output_type": "stream",
     "text": [
      "[#################################       ] | 84% Completed | 516.78 s"
     ]
    },
    {
     "name": "stderr",
     "output_type": "stream",
     "text": [
      " WARNING: FIR normalized: sum[coef]=9.767192E-01;     \n",
      " WARNING: FIR normalized: sum[coef]=9.767192E-01;     \n",
      " WARNING: FIR normalized: sum[coef]=9.767192E-01;     \n",
      " WARNING: FIR normalized: sum[coef]=9.767192E-01;     \n",
      " WARNING: FIR normalized: sum[coef]=9.767192E-01;     \n",
      " WARNING: FIR normalized: sum[coef]=9.767192E-01;     \n"
     ]
    },
    {
     "name": "stdout",
     "output_type": "stream",
     "text": [
      "[#################################       ] | 84% Completed | 517.01 s"
     ]
    },
    {
     "name": "stderr",
     "output_type": "stream",
     "text": [
      " WARNING: FIR normalized: sum[coef]=9.767192E-01;     \n",
      " WARNING: FIR normalized: sum[coef]=9.767192E-01;     \n",
      " WARNING: FIR normalized: sum[coef]=9.767192E-01;     \n",
      " WARNING: FIR normalized: sum[coef]=9.767192E-01;     \n",
      " WARNING: FIR normalized: sum[coef]=9.767192E-01;     \n"
     ]
    },
    {
     "name": "stdout",
     "output_type": "stream",
     "text": [
      "[#################################       ] | 84% Completed | 517.35 s"
     ]
    },
    {
     "name": "stderr",
     "output_type": "stream",
     "text": [
      " WARNING: FIR normalized: sum[coef]=9.767192E-01;     \n",
      " WARNING: FIR normalized: sum[coef]=9.767192E-01;     \n",
      " WARNING: FIR normalized: sum[coef]=9.767192E-01;     \n",
      " WARNING: FIR normalized: sum[coef]=9.767192E-01;     \n"
     ]
    },
    {
     "name": "stdout",
     "output_type": "stream",
     "text": [
      "[#################################       ] | 84% Completed | 517.57 s"
     ]
    },
    {
     "name": "stderr",
     "output_type": "stream",
     "text": [
      " WARNING: FIR normalized: sum[coef]=9.767192E-01;     \n",
      " WARNING: FIR normalized: sum[coef]=9.767192E-01;     \n",
      " WARNING: FIR normalized: sum[coef]=9.767192E-01;     \n",
      " WARNING: FIR normalized: sum[coef]=9.767192E-01;     \n",
      " WARNING: FIR normalized: sum[coef]=9.767192E-01;     \n",
      " WARNING: FIR normalized: sum[coef]=9.767192E-01;     \n"
     ]
    },
    {
     "name": "stdout",
     "output_type": "stream",
     "text": [
      "[##################################      ] | 85% Completed | 517.91 s"
     ]
    },
    {
     "name": "stderr",
     "output_type": "stream",
     "text": [
      " WARNING: FIR normalized: sum[coef]=9.767192E-01;     \n",
      " WARNING: FIR normalized: sum[coef]=9.767192E-01;     \n",
      " WARNING: FIR normalized: sum[coef]=9.767192E-01;     \n"
     ]
    },
    {
     "name": "stdout",
     "output_type": "stream",
     "text": [
      "[##################################      ] | 85% Completed | 518.14 s"
     ]
    },
    {
     "name": "stderr",
     "output_type": "stream",
     "text": [
      " WARNING: FIR normalized: sum[coef]=9.767192E-01;     \n",
      " WARNING: FIR normalized: sum[coef]=9.767192E-01;     \n",
      " WARNING: FIR normalized: sum[coef]=9.767192E-01;     \n",
      " WARNING: FIR normalized: sum[coef]=9.767192E-01;     \n",
      " WARNING: FIR normalized: sum[coef]=9.767192E-01;     \n"
     ]
    },
    {
     "name": "stdout",
     "output_type": "stream",
     "text": [
      "[##################################      ] | 85% Completed | 518.39 s"
     ]
    },
    {
     "name": "stderr",
     "output_type": "stream",
     "text": [
      " WARNING: FIR normalized: sum[coef]=9.767192E-01;     \n",
      " WARNING: FIR normalized: sum[coef]=9.767192E-01;     \n",
      " WARNING: FIR normalized: sum[coef]=9.767192E-01;     \n"
     ]
    },
    {
     "name": "stdout",
     "output_type": "stream",
     "text": [
      "[##################################      ] | 85% Completed | 518.74 s"
     ]
    },
    {
     "name": "stderr",
     "output_type": "stream",
     "text": [
      " WARNING: FIR normalized: sum[coef]=9.767192E-01;     \n",
      " WARNING: FIR normalized: sum[coef]=9.767192E-01;     \n",
      " WARNING: FIR normalized: sum[coef]=9.767192E-01;     \n",
      " WARNING: FIR normalized: sum[coef]=9.767192E-01;     \n",
      " WARNING: FIR normalized: sum[coef]=9.767192E-01;     \n",
      " WARNING: FIR normalized: sum[coef]=9.767192E-01;     \n",
      " WARNING: FIR normalized: sum[coef]=9.767192E-01;     \n",
      " WARNING: FIR normalized: sum[coef]=9.767192E-01;     \n"
     ]
    },
    {
     "name": "stdout",
     "output_type": "stream",
     "text": [
      "[##################################      ] | 85% Completed | 518.97 s"
     ]
    },
    {
     "name": "stderr",
     "output_type": "stream",
     "text": [
      " WARNING: FIR normalized: sum[coef]=9.767192E-01;     \n",
      " WARNING: FIR normalized: sum[coef]=9.767192E-01;     \n"
     ]
    },
    {
     "name": "stdout",
     "output_type": "stream",
     "text": [
      "[##################################      ] | 85% Completed | 519.20 s"
     ]
    },
    {
     "name": "stderr",
     "output_type": "stream",
     "text": [
      " WARNING: FIR normalized: sum[coef]=9.767192E-01;     \n",
      " WARNING: FIR normalized: sum[coef]=9.767192E-01;     \n",
      " WARNING: FIR normalized: sum[coef]=9.767192E-01;     \n",
      " WARNING: FIR normalized: sum[coef]=9.767192E-01;     \n",
      " WARNING: FIR normalized: sum[coef]=9.767192E-01;     \n",
      " WARNING: FIR normalized: sum[coef]=9.767192E-01;     \n"
     ]
    },
    {
     "name": "stdout",
     "output_type": "stream",
     "text": [
      "[##################################      ] | 85% Completed | 519.54 s"
     ]
    },
    {
     "name": "stderr",
     "output_type": "stream",
     "text": [
      " WARNING: FIR normalized: sum[coef]=9.767192E-01;     \n",
      " WARNING: FIR normalized: sum[coef]=9.767192E-01;     \n",
      " WARNING: FIR normalized: sum[coef]=9.767192E-01;     \n",
      " WARNING: FIR normalized: sum[coef]=9.767192E-01;     \n"
     ]
    },
    {
     "name": "stdout",
     "output_type": "stream",
     "text": [
      "[##################################      ] | 85% Completed | 519.87 s"
     ]
    },
    {
     "name": "stderr",
     "output_type": "stream",
     "text": [
      " WARNING: FIR normalized: sum[coef]=9.767192E-01;     \n",
      " WARNING: FIR normalized: sum[coef]=9.767192E-01;     \n",
      " WARNING: FIR normalized: sum[coef]=9.767192E-01;     \n",
      " WARNING: FIR normalized: sum[coef]=9.767192E-01;     \n",
      " WARNING: FIR normalized: sum[coef]=9.767192E-01;     \n",
      " WARNING: FIR normalized: sum[coef]=9.767192E-01;     \n",
      " WARNING: FIR normalized: sum[coef]=9.767192E-01;     \n"
     ]
    },
    {
     "name": "stdout",
     "output_type": "stream",
     "text": [
      "[##################################      ] | 85% Completed | 520.10 s"
     ]
    },
    {
     "name": "stderr",
     "output_type": "stream",
     "text": [
      " WARNING: FIR normalized: sum[coef]=9.767192E-01;     \n",
      " WARNING: FIR normalized: sum[coef]=9.767192E-01;     \n",
      " WARNING: FIR normalized: sum[coef]=9.767192E-01;     \n"
     ]
    },
    {
     "name": "stdout",
     "output_type": "stream",
     "text": [
      "[##################################      ] | 85% Completed | 520.35 s"
     ]
    },
    {
     "name": "stderr",
     "output_type": "stream",
     "text": [
      " WARNING: FIR normalized: sum[coef]=9.767192E-01;     \n",
      " WARNING: FIR normalized: sum[coef]=9.767192E-01;     \n",
      " WARNING: FIR normalized: sum[coef]=9.767192E-01;     \n"
     ]
    },
    {
     "name": "stdout",
     "output_type": "stream",
     "text": [
      "[##################################      ] | 85% Completed | 520.57 s"
     ]
    },
    {
     "name": "stderr",
     "output_type": "stream",
     "text": [
      " WARNING: FIR normalized: sum[coef]=9.767192E-01;     \n",
      " WARNING: FIR normalized: sum[coef]=9.767192E-01;     \n",
      " WARNING: FIR normalized: sum[coef]=9.767192E-01;     \n",
      " WARNING: FIR normalized: sum[coef]=9.767192E-01;     \n",
      " WARNING: FIR normalized: sum[coef]=9.767192E-01;     \n",
      " WARNING: FIR normalized: sum[coef]=9.767192E-01;     \n"
     ]
    },
    {
     "name": "stdout",
     "output_type": "stream",
     "text": [
      "[##################################      ] | 85% Completed | 520.92 s"
     ]
    },
    {
     "name": "stderr",
     "output_type": "stream",
     "text": [
      " WARNING: FIR normalized: sum[coef]=9.767192E-01;     \n",
      " WARNING: FIR normalized: sum[coef]=9.767192E-01;     \n",
      " WARNING: FIR normalized: sum[coef]=9.767192E-01;     \n"
     ]
    },
    {
     "name": "stdout",
     "output_type": "stream",
     "text": [
      "[##################################      ] | 85% Completed | 521.27 s"
     ]
    },
    {
     "name": "stderr",
     "output_type": "stream",
     "text": [
      " WARNING: FIR normalized: sum[coef]=9.767192E-01;     \n",
      " WARNING: FIR normalized: sum[coef]=9.767192E-01;     \n",
      " WARNING: FIR normalized: sum[coef]=9.767192E-01;     \n",
      " WARNING: FIR normalized: sum[coef]=9.767192E-01;     \n",
      " WARNING: FIR normalized: sum[coef]=9.767192E-01;     \n",
      " WARNING: FIR normalized: sum[coef]=9.767192E-01;     \n",
      " WARNING: FIR normalized: sum[coef]=9.767192E-01;     \n"
     ]
    },
    {
     "name": "stdout",
     "output_type": "stream",
     "text": [
      "[##################################      ] | 85% Completed | 521.63 s"
     ]
    },
    {
     "name": "stderr",
     "output_type": "stream",
     "text": [
      " WARNING: FIR normalized: sum[coef]=9.767192E-01;     \n",
      " WARNING: FIR normalized: sum[coef]=9.767192E-01;     \n",
      " WARNING: FIR normalized: sum[coef]=9.767192E-01;     \n"
     ]
    },
    {
     "name": "stdout",
     "output_type": "stream",
     "text": [
      "[##################################      ] | 85% Completed | 521.86 s"
     ]
    },
    {
     "name": "stderr",
     "output_type": "stream",
     "text": [
      " WARNING: FIR normalized: sum[coef]=9.767192E-01;     \n",
      " WARNING: FIR normalized: sum[coef]=9.767192E-01;     \n",
      " WARNING: FIR normalized: sum[coef]=9.767192E-01;     \n",
      " WARNING: FIR normalized: sum[coef]=9.767192E-01;     \n",
      " WARNING: FIR normalized: sum[coef]=9.767192E-01;     \n",
      " WARNING: FIR normalized: sum[coef]=9.767192E-01;     \n",
      " WARNING: FIR normalized: sum[coef]=9.767192E-01;     \n"
     ]
    },
    {
     "name": "stdout",
     "output_type": "stream",
     "text": [
      "[##################################      ] | 85% Completed | 522.31 s"
     ]
    },
    {
     "name": "stderr",
     "output_type": "stream",
     "text": [
      " WARNING: FIR normalized: sum[coef]=9.767192E-01;     \n",
      " WARNING: FIR normalized: sum[coef]=9.767192E-01;     \n",
      " WARNING: FIR normalized: sum[coef]=9.767192E-01;     \n",
      " WARNING: FIR normalized: sum[coef]=9.767192E-01;     \n"
     ]
    },
    {
     "name": "stdout",
     "output_type": "stream",
     "text": [
      "[##################################      ] | 85% Completed | 522.42 s"
     ]
    },
    {
     "name": "stderr",
     "output_type": "stream",
     "text": [
      " WARNING: FIR normalized: sum[coef]=9.767192E-01;     \n",
      " WARNING: FIR normalized: sum[coef]=9.767192E-01;     \n",
      " WARNING: FIR normalized: sum[coef]=9.767192E-01;     \n",
      " WARNING: FIR normalized: sum[coef]=9.767192E-01;     \n",
      " WARNING: FIR normalized: sum[coef]=9.767192E-01;     \n"
     ]
    },
    {
     "name": "stdout",
     "output_type": "stream",
     "text": [
      "[##################################      ] | 85% Completed | 522.67 s"
     ]
    },
    {
     "name": "stderr",
     "output_type": "stream",
     "text": [
      " WARNING: FIR normalized: sum[coef]=9.767192E-01;     \n",
      " WARNING: FIR normalized: sum[coef]=9.767192E-01;     \n",
      " WARNING: FIR normalized: sum[coef]=9.767192E-01;     \n"
     ]
    },
    {
     "name": "stdout",
     "output_type": "stream",
     "text": [
      "[##################################      ] | 85% Completed | 523.01 s"
     ]
    },
    {
     "name": "stderr",
     "output_type": "stream",
     "text": [
      " WARNING: FIR normalized: sum[coef]=9.767192E-01;     \n",
      " WARNING: FIR normalized: sum[coef]=9.767192E-01;     \n",
      " WARNING: FIR normalized: sum[coef]=9.767192E-01;     \n",
      " WARNING: FIR normalized: sum[coef]=9.767192E-01;     \n",
      " WARNING: FIR normalized: sum[coef]=9.767192E-01;     \n"
     ]
    },
    {
     "name": "stdout",
     "output_type": "stream",
     "text": [
      "[##################################      ] | 86% Completed | 523.35 s"
     ]
    },
    {
     "name": "stderr",
     "output_type": "stream",
     "text": [
      " WARNING: FIR normalized: sum[coef]=9.767192E-01;     \n",
      " WARNING: FIR normalized: sum[coef]=9.767192E-01;     \n",
      " WARNING: FIR normalized: sum[coef]=9.767192E-01;     \n",
      " WARNING: FIR normalized: sum[coef]=9.767192E-01;     \n"
     ]
    },
    {
     "name": "stdout",
     "output_type": "stream",
     "text": [
      "[##################################      ] | 86% Completed | 523.46 s"
     ]
    },
    {
     "name": "stderr",
     "output_type": "stream",
     "text": [
      " WARNING: FIR normalized: sum[coef]=9.767192E-01;     \n",
      " WARNING: FIR normalized: sum[coef]=9.767192E-01;     \n",
      " WARNING: FIR normalized: sum[coef]=9.767192E-01;     \n",
      " WARNING: FIR normalized: sum[coef]=9.767192E-01;     \n"
     ]
    },
    {
     "name": "stdout",
     "output_type": "stream",
     "text": [
      "[##################################      ] | 86% Completed | 523.80 s"
     ]
    },
    {
     "name": "stderr",
     "output_type": "stream",
     "text": [
      " WARNING: FIR normalized: sum[coef]=9.767192E-01;     \n",
      " WARNING: FIR normalized: sum[coef]=9.767192E-01;     \n",
      " WARNING: FIR normalized: sum[coef]=9.767192E-01;     \n",
      " WARNING: FIR normalized: sum[coef]=9.767192E-01;     \n"
     ]
    },
    {
     "name": "stdout",
     "output_type": "stream",
     "text": [
      "[##################################      ] | 86% Completed | 524.03 s"
     ]
    },
    {
     "name": "stderr",
     "output_type": "stream",
     "text": [
      " WARNING: FIR normalized: sum[coef]=9.767192E-01;     \n",
      " WARNING: FIR normalized: sum[coef]=9.767192E-01;     \n",
      " WARNING: FIR normalized: sum[coef]=9.767192E-01;     \n",
      " WARNING: FIR normalized: sum[coef]=9.767192E-01;     \n",
      " WARNING: FIR normalized: sum[coef]=9.767192E-01;     \n",
      " WARNING: FIR normalized: sum[coef]=9.767192E-01;     \n"
     ]
    },
    {
     "name": "stdout",
     "output_type": "stream",
     "text": [
      "[##################################      ] | 86% Completed | 524.37 s"
     ]
    },
    {
     "name": "stderr",
     "output_type": "stream",
     "text": [
      " WARNING: FIR normalized: sum[coef]=9.767192E-01;     \n",
      " WARNING: FIR normalized: sum[coef]=9.767192E-01;     \n",
      " WARNING: FIR normalized: sum[coef]=9.767192E-01;     \n",
      " WARNING: FIR normalized: sum[coef]=9.767192E-01;     \n",
      " WARNING: FIR normalized: sum[coef]=9.767192E-01;     \n",
      " WARNING: FIR normalized: sum[coef]=9.767192E-01;     \n"
     ]
    },
    {
     "name": "stdout",
     "output_type": "stream",
     "text": [
      "[##################################      ] | 86% Completed | 524.80 s"
     ]
    },
    {
     "name": "stderr",
     "output_type": "stream",
     "text": [
      " WARNING: FIR normalized: sum[coef]=9.767192E-01;     \n",
      " WARNING: FIR normalized: sum[coef]=9.767192E-01;     \n",
      " WARNING: FIR normalized: sum[coef]=9.767192E-01;     \n",
      " WARNING: FIR normalized: sum[coef]=9.767192E-01;     \n",
      " WARNING: FIR normalized: sum[coef]=9.767192E-01;     \n"
     ]
    },
    {
     "name": "stdout",
     "output_type": "stream",
     "text": [
      "[##################################      ] | 86% Completed | 525.05 s"
     ]
    },
    {
     "name": "stderr",
     "output_type": "stream",
     "text": [
      " WARNING: FIR normalized: sum[coef]=9.767192E-01;     \n",
      " WARNING: FIR normalized: sum[coef]=9.767192E-01;     \n",
      " WARNING: FIR normalized: sum[coef]=9.767192E-01;     \n"
     ]
    },
    {
     "name": "stdout",
     "output_type": "stream",
     "text": [
      "[##################################      ] | 86% Completed | 525.30 s"
     ]
    },
    {
     "name": "stderr",
     "output_type": "stream",
     "text": [
      " WARNING: FIR normalized: sum[coef]=9.767192E-01;     \n",
      " WARNING: FIR normalized: sum[coef]=9.767192E-01;     \n",
      " WARNING: FIR normalized: sum[coef]=9.767192E-01;     \n",
      " WARNING: FIR normalized: sum[coef]=9.767192E-01;     \n",
      " WARNING: FIR normalized: sum[coef]=9.767192E-01;     \n"
     ]
    },
    {
     "name": "stdout",
     "output_type": "stream",
     "text": [
      "[##################################      ] | 86% Completed | 525.42 s[2013-04-03T23:43:20.006292Z] No data or fatal error during detection/classification: list index out of range\n",
      "[##################################      ] | 87% Completed | 525.53 s"
     ]
    },
    {
     "name": "stderr",
     "output_type": "stream",
     "text": [
      " WARNING: FIR normalized: sum[coef]=9.767192E-01;     \n",
      " WARNING: FIR normalized: sum[coef]=9.767192E-01;     \n"
     ]
    },
    {
     "name": "stdout",
     "output_type": "stream",
     "text": [
      "[##################################      ] | 87% Completed | 525.74 s"
     ]
    },
    {
     "name": "stderr",
     "output_type": "stream",
     "text": [
      " WARNING: FIR normalized: sum[coef]=9.767192E-01;     \n",
      " WARNING: FIR normalized: sum[coef]=9.767192E-01;     \n",
      " WARNING: FIR normalized: sum[coef]=9.767192E-01;     \n",
      " WARNING: FIR normalized: sum[coef]=9.767192E-01;     \n",
      " WARNING: FIR normalized: sum[coef]=9.767192E-01;     \n"
     ]
    },
    {
     "name": "stdout",
     "output_type": "stream",
     "text": [
      "[##################################      ] | 87% Completed | 525.95 s"
     ]
    },
    {
     "name": "stderr",
     "output_type": "stream",
     "text": [
      " WARNING: FIR normalized: sum[coef]=9.767192E-01;     \n",
      " WARNING: FIR normalized: sum[coef]=9.767192E-01;     \n"
     ]
    },
    {
     "name": "stdout",
     "output_type": "stream",
     "text": [
      "[##################################      ] | 87% Completed | 526.28 s"
     ]
    },
    {
     "name": "stderr",
     "output_type": "stream",
     "text": [
      " WARNING: FIR normalized: sum[coef]=9.767192E-01;     \n",
      " WARNING: FIR normalized: sum[coef]=9.767192E-01;     \n",
      " WARNING: FIR normalized: sum[coef]=9.767192E-01;     \n",
      " WARNING: FIR normalized: sum[coef]=9.767192E-01;     \n",
      " WARNING: FIR normalized: sum[coef]=9.767192E-01;     \n"
     ]
    },
    {
     "name": "stdout",
     "output_type": "stream",
     "text": [
      "[###################################     ] | 87% Completed | 526.51 s"
     ]
    },
    {
     "name": "stderr",
     "output_type": "stream",
     "text": [
      " WARNING: FIR normalized: sum[coef]=9.767192E-01;     \n",
      " WARNING: FIR normalized: sum[coef]=9.767192E-01;     \n"
     ]
    },
    {
     "name": "stdout",
     "output_type": "stream",
     "text": [
      "[###################################     ] | 87% Completed | 526.74 s"
     ]
    },
    {
     "name": "stderr",
     "output_type": "stream",
     "text": [
      " WARNING: FIR normalized: sum[coef]=9.767192E-01;     \n",
      " WARNING: FIR normalized: sum[coef]=9.767192E-01;     \n"
     ]
    },
    {
     "name": "stdout",
     "output_type": "stream",
     "text": [
      "[###################################     ] | 87% Completed | 526.96 s"
     ]
    },
    {
     "name": "stderr",
     "output_type": "stream",
     "text": [
      " WARNING: FIR normalized: sum[coef]=9.767192E-01;     \n",
      " WARNING: FIR normalized: sum[coef]=9.767192E-01;     \n",
      " WARNING: FIR normalized: sum[coef]=9.767192E-01;     \n"
     ]
    },
    {
     "name": "stdout",
     "output_type": "stream",
     "text": [
      "[###################################     ] | 87% Completed | 527.19 s"
     ]
    },
    {
     "name": "stderr",
     "output_type": "stream",
     "text": [
      " WARNING: FIR normalized: sum[coef]=9.767192E-01;     \n",
      " WARNING: FIR normalized: sum[coef]=9.767192E-01;     \n",
      " WARNING: FIR normalized: sum[coef]=9.767192E-01;     \n"
     ]
    },
    {
     "name": "stdout",
     "output_type": "stream",
     "text": [
      "[###################################     ] | 87% Completed | 527.53 s"
     ]
    },
    {
     "name": "stderr",
     "output_type": "stream",
     "text": [
      " WARNING: FIR normalized: sum[coef]=9.767192E-01;     \n",
      " WARNING: FIR normalized: sum[coef]=9.767192E-01;     \n",
      " WARNING: FIR normalized: sum[coef]=9.767192E-01;     \n",
      " WARNING: FIR normalized: sum[coef]=9.767192E-01;     \n"
     ]
    },
    {
     "name": "stdout",
     "output_type": "stream",
     "text": [
      "[###################################     ] | 87% Completed | 527.86 s"
     ]
    },
    {
     "name": "stderr",
     "output_type": "stream",
     "text": [
      " WARNING: FIR normalized: sum[coef]=9.767192E-01;     \n",
      " WARNING: FIR normalized: sum[coef]=9.767192E-01;     \n",
      " WARNING: FIR normalized: sum[coef]=9.767192E-01;     \n",
      " WARNING: FIR normalized: sum[coef]=9.767192E-01;     \n"
     ]
    },
    {
     "name": "stdout",
     "output_type": "stream",
     "text": [
      "[###################################     ] | 87% Completed | 528.07 s"
     ]
    },
    {
     "name": "stderr",
     "output_type": "stream",
     "text": [
      " WARNING: FIR normalized: sum[coef]=9.767192E-01;     \n",
      " WARNING: FIR normalized: sum[coef]=9.767192E-01;     \n"
     ]
    },
    {
     "name": "stdout",
     "output_type": "stream",
     "text": [
      "[###################################     ] | 87% Completed | 528.40 s"
     ]
    },
    {
     "name": "stderr",
     "output_type": "stream",
     "text": [
      " WARNING: FIR normalized: sum[coef]=9.767192E-01;     \n",
      " WARNING: FIR normalized: sum[coef]=9.767192E-01;     \n",
      " WARNING: FIR normalized: sum[coef]=9.767192E-01;     \n",
      " WARNING: FIR normalized: sum[coef]=9.767192E-01;     \n",
      " WARNING: FIR normalized: sum[coef]=9.767192E-01;     \n",
      " WARNING: FIR normalized: sum[coef]=9.767192E-01;     \n"
     ]
    },
    {
     "name": "stdout",
     "output_type": "stream",
     "text": [
      "[###################################     ] | 87% Completed | 529.07 s"
     ]
    },
    {
     "name": "stderr",
     "output_type": "stream",
     "text": [
      " WARNING: FIR normalized: sum[coef]=9.767192E-01;     \n",
      " WARNING: FIR normalized: sum[coef]=9.767192E-01;     \n",
      " WARNING: FIR normalized: sum[coef]=9.767192E-01;     \n",
      " WARNING: FIR normalized: sum[coef]=9.767192E-01;     \n",
      " WARNING: FIR normalized: sum[coef]=9.767192E-01;     \n",
      " WARNING: FIR normalized: sum[coef]=9.767192E-01;     \n"
     ]
    },
    {
     "name": "stdout",
     "output_type": "stream",
     "text": [
      "[###################################     ] | 87% Completed | 529.53 s"
     ]
    },
    {
     "name": "stderr",
     "output_type": "stream",
     "text": [
      " WARNING: FIR normalized: sum[coef]=9.767192E-01;     \n",
      " WARNING: FIR normalized: sum[coef]=9.767192E-01;     \n",
      " WARNING: FIR normalized: sum[coef]=9.767192E-01;     \n"
     ]
    },
    {
     "name": "stdout",
     "output_type": "stream",
     "text": [
      "[###################################     ] | 87% Completed | 529.75 s"
     ]
    },
    {
     "name": "stderr",
     "output_type": "stream",
     "text": [
      " WARNING: FIR normalized: sum[coef]=9.767192E-01;     \n",
      " WARNING: FIR normalized: sum[coef]=9.767192E-01;     \n",
      " WARNING: FIR normalized: sum[coef]=9.767192E-01;     \n"
     ]
    },
    {
     "name": "stdout",
     "output_type": "stream",
     "text": [
      "[###################################     ] | 87% Completed | 530.10 s"
     ]
    },
    {
     "name": "stderr",
     "output_type": "stream",
     "text": [
      " WARNING: FIR normalized: sum[coef]=9.767192E-01;     \n",
      " WARNING: FIR normalized: sum[coef]=9.767192E-01;     \n",
      " WARNING: FIR normalized: sum[coef]=9.767192E-01;     \n"
     ]
    },
    {
     "name": "stdout",
     "output_type": "stream",
     "text": [
      "[###################################     ] | 87% Completed | 530.32 s"
     ]
    },
    {
     "name": "stderr",
     "output_type": "stream",
     "text": [
      " WARNING: FIR normalized: sum[coef]=9.767192E-01;     \n",
      " WARNING: FIR normalized: sum[coef]=9.767192E-01;     \n",
      " WARNING: FIR normalized: sum[coef]=9.767192E-01;     \n"
     ]
    },
    {
     "name": "stdout",
     "output_type": "stream",
     "text": [
      "[###################################     ] | 87% Completed | 530.66 s"
     ]
    },
    {
     "name": "stderr",
     "output_type": "stream",
     "text": [
      " WARNING: FIR normalized: sum[coef]=9.767192E-01;     \n",
      " WARNING: FIR normalized: sum[coef]=9.767192E-01;     \n",
      " WARNING: FIR normalized: sum[coef]=9.767192E-01;     \n",
      " WARNING: FIR normalized: sum[coef]=9.767192E-01;     \n"
     ]
    },
    {
     "name": "stdout",
     "output_type": "stream",
     "text": [
      "[###################################     ] | 87% Completed | 530.88 s"
     ]
    },
    {
     "name": "stderr",
     "output_type": "stream",
     "text": [
      " WARNING: FIR normalized: sum[coef]=9.767192E-01;     \n"
     ]
    },
    {
     "name": "stdout",
     "output_type": "stream",
     "text": [
      "[###################################     ] | 87% Completed | 531.22 s"
     ]
    },
    {
     "name": "stderr",
     "output_type": "stream",
     "text": [
      " WARNING: FIR normalized: sum[coef]=9.767192E-01;     \n",
      " WARNING: FIR normalized: sum[coef]=9.767192E-01;     \n",
      " WARNING: FIR normalized: sum[coef]=9.767192E-01;     \n",
      " WARNING: FIR normalized: sum[coef]=9.767192E-01;     \n",
      " WARNING: FIR normalized: sum[coef]=9.767192E-01;     \n",
      " WARNING: FIR normalized: sum[coef]=9.767192E-01;     \n"
     ]
    },
    {
     "name": "stdout",
     "output_type": "stream",
     "text": [
      "[###################################     ] | 87% Completed | 531.77 s"
     ]
    },
    {
     "name": "stderr",
     "output_type": "stream",
     "text": [
      " WARNING: FIR normalized: sum[coef]=9.767192E-01;     \n",
      " WARNING: FIR normalized: sum[coef]=9.767192E-01;     \n",
      " WARNING: FIR normalized: sum[coef]=9.767192E-01;     \n",
      " WARNING: FIR normalized: sum[coef]=9.767192E-01;     \n",
      " WARNING: FIR normalized: sum[coef]=9.767192E-01;     \n",
      " WARNING: FIR normalized: sum[coef]=9.767192E-01;     \n"
     ]
    },
    {
     "name": "stdout",
     "output_type": "stream",
     "text": [
      "[###################################     ] | 88% Completed | 532.34 s"
     ]
    },
    {
     "name": "stderr",
     "output_type": "stream",
     "text": [
      " WARNING: FIR normalized: sum[coef]=9.767192E-01;     \n",
      " WARNING: FIR normalized: sum[coef]=9.767192E-01;     \n",
      " WARNING: FIR normalized: sum[coef]=9.767192E-01;     \n",
      " WARNING: FIR normalized: sum[coef]=9.767192E-01;     \n"
     ]
    },
    {
     "name": "stdout",
     "output_type": "stream",
     "text": [
      "[###################################     ] | 88% Completed | 532.55 s"
     ]
    },
    {
     "name": "stderr",
     "output_type": "stream",
     "text": [
      " WARNING: FIR normalized: sum[coef]=9.767192E-01;     \n",
      " WARNING: FIR normalized: sum[coef]=9.767192E-01;     \n"
     ]
    },
    {
     "name": "stdout",
     "output_type": "stream",
     "text": [
      "[###################################     ] | 88% Completed | 532.90 s"
     ]
    },
    {
     "name": "stderr",
     "output_type": "stream",
     "text": [
      " WARNING: FIR normalized: sum[coef]=9.767192E-01;     \n",
      " WARNING: FIR normalized: sum[coef]=9.767192E-01;     \n",
      " WARNING: FIR normalized: sum[coef]=9.767192E-01;     \n"
     ]
    },
    {
     "name": "stdout",
     "output_type": "stream",
     "text": [
      "[###################################     ] | 88% Completed | 533.13 s"
     ]
    },
    {
     "name": "stderr",
     "output_type": "stream",
     "text": [
      " WARNING: FIR normalized: sum[coef]=9.767192E-01;     \n",
      " WARNING: FIR normalized: sum[coef]=9.767192E-01;     \n",
      " WARNING: FIR normalized: sum[coef]=9.767192E-01;     \n"
     ]
    },
    {
     "name": "stdout",
     "output_type": "stream",
     "text": [
      "[###################################     ] | 88% Completed | 533.35 s"
     ]
    },
    {
     "name": "stderr",
     "output_type": "stream",
     "text": [
      " WARNING: FIR normalized: sum[coef]=9.767192E-01;     \n",
      " WARNING: FIR normalized: sum[coef]=9.767192E-01;     \n",
      " WARNING: FIR normalized: sum[coef]=9.767192E-01;     \n"
     ]
    },
    {
     "name": "stdout",
     "output_type": "stream",
     "text": [
      "[###################################     ] | 88% Completed | 533.68 s"
     ]
    },
    {
     "name": "stderr",
     "output_type": "stream",
     "text": [
      " WARNING: FIR normalized: sum[coef]=9.767192E-01;     \n",
      " WARNING: FIR normalized: sum[coef]=9.767192E-01;     \n"
     ]
    },
    {
     "name": "stdout",
     "output_type": "stream",
     "text": [
      "[###################################     ] | 88% Completed | 533.91 s"
     ]
    },
    {
     "name": "stderr",
     "output_type": "stream",
     "text": [
      " WARNING: FIR normalized: sum[coef]=9.767192E-01;     \n",
      " WARNING: FIR normalized: sum[coef]=9.767192E-01;     \n",
      " WARNING: FIR normalized: sum[coef]=9.767192E-01;     \n",
      " WARNING: FIR normalized: sum[coef]=9.767192E-01;     \n",
      " WARNING: FIR normalized: sum[coef]=9.767192E-01;     \n"
     ]
    },
    {
     "name": "stdout",
     "output_type": "stream",
     "text": [
      "[###################################     ] | 88% Completed | 534.25 s"
     ]
    },
    {
     "name": "stderr",
     "output_type": "stream",
     "text": [
      " WARNING: FIR normalized: sum[coef]=9.767192E-01;     \n",
      " WARNING: FIR normalized: sum[coef]=9.767192E-01;     \n",
      " WARNING: FIR normalized: sum[coef]=9.767192E-01;     \n"
     ]
    },
    {
     "name": "stdout",
     "output_type": "stream",
     "text": [
      "[###################################     ] | 88% Completed | 534.46 s"
     ]
    },
    {
     "name": "stderr",
     "output_type": "stream",
     "text": [
      " WARNING: FIR normalized: sum[coef]=9.767192E-01;     \n",
      " WARNING: FIR normalized: sum[coef]=9.767192E-01;     \n",
      " WARNING: FIR normalized: sum[coef]=9.767192E-01;     \n"
     ]
    },
    {
     "name": "stdout",
     "output_type": "stream",
     "text": [
      "[###################################     ] | 88% Completed | 534.70 s"
     ]
    },
    {
     "name": "stderr",
     "output_type": "stream",
     "text": [
      " WARNING: FIR normalized: sum[coef]=9.767192E-01;     \n",
      " WARNING: FIR normalized: sum[coef]=9.767192E-01;     \n",
      " WARNING: FIR normalized: sum[coef]=9.767192E-01;     \n",
      " WARNING: FIR normalized: sum[coef]=9.767192E-01;     \n"
     ]
    },
    {
     "name": "stdout",
     "output_type": "stream",
     "text": [
      "[###################################     ] | 88% Completed | 534.92 s"
     ]
    },
    {
     "name": "stderr",
     "output_type": "stream",
     "text": [
      " WARNING: FIR normalized: sum[coef]=9.767192E-01;     \n",
      " WARNING: FIR normalized: sum[coef]=9.767192E-01;     \n"
     ]
    },
    {
     "name": "stdout",
     "output_type": "stream",
     "text": [
      "[###################################     ] | 88% Completed | 535.26 s"
     ]
    },
    {
     "name": "stderr",
     "output_type": "stream",
     "text": [
      " WARNING: FIR normalized: sum[coef]=9.767192E-01;     \n",
      " WARNING: FIR normalized: sum[coef]=9.767192E-01;     \n",
      " WARNING: FIR normalized: sum[coef]=9.767192E-01;     \n"
     ]
    },
    {
     "name": "stdout",
     "output_type": "stream",
     "text": [
      "[###################################     ] | 88% Completed | 535.60 s"
     ]
    },
    {
     "name": "stderr",
     "output_type": "stream",
     "text": [
      " WARNING: FIR normalized: sum[coef]=9.767192E-01;     \n",
      " WARNING: FIR normalized: sum[coef]=9.767192E-01;     \n",
      " WARNING: FIR normalized: sum[coef]=9.767192E-01;     \n",
      " WARNING: FIR normalized: sum[coef]=9.767192E-01;     \n"
     ]
    },
    {
     "name": "stdout",
     "output_type": "stream",
     "text": [
      "[###################################     ] | 89% Completed | 535.83 s"
     ]
    },
    {
     "name": "stderr",
     "output_type": "stream",
     "text": [
      " WARNING: FIR normalized: sum[coef]=9.767192E-01;     \n"
     ]
    },
    {
     "name": "stdout",
     "output_type": "stream",
     "text": [
      "[###################################     ] | 89% Completed | 536.16 s"
     ]
    },
    {
     "name": "stderr",
     "output_type": "stream",
     "text": [
      " WARNING: FIR normalized: sum[coef]=9.767192E-01;     \n",
      " WARNING: FIR normalized: sum[coef]=9.767192E-01;     \n",
      " WARNING: FIR normalized: sum[coef]=9.767192E-01;     \n"
     ]
    },
    {
     "name": "stdout",
     "output_type": "stream",
     "text": [
      "[###################################     ] | 89% Completed | 536.38 s"
     ]
    },
    {
     "name": "stderr",
     "output_type": "stream",
     "text": [
      " WARNING: FIR normalized: sum[coef]=9.767192E-01;     \n"
     ]
    },
    {
     "name": "stdout",
     "output_type": "stream",
     "text": [
      "[###################################     ] | 89% Completed | 536.60 s"
     ]
    },
    {
     "name": "stderr",
     "output_type": "stream",
     "text": [
      " WARNING: FIR normalized: sum[coef]=9.767192E-01;     \n",
      " WARNING: FIR normalized: sum[coef]=9.767192E-01;     \n",
      " WARNING: FIR normalized: sum[coef]=9.767192E-01;     \n"
     ]
    },
    {
     "name": "stdout",
     "output_type": "stream",
     "text": [
      "[###################################     ] | 89% Completed | 537.05 s"
     ]
    },
    {
     "name": "stderr",
     "output_type": "stream",
     "text": [
      " WARNING: FIR normalized: sum[coef]=9.767192E-01;     \n",
      " WARNING: FIR normalized: sum[coef]=9.767192E-01;     \n",
      " WARNING: FIR normalized: sum[coef]=9.767192E-01;     \n"
     ]
    },
    {
     "name": "stdout",
     "output_type": "stream",
     "text": [
      "[###################################     ] | 89% Completed | 537.50 s"
     ]
    },
    {
     "name": "stderr",
     "output_type": "stream",
     "text": [
      " WARNING: FIR normalized: sum[coef]=9.767192E-01;     \n",
      " WARNING: FIR normalized: sum[coef]=9.767192E-01;     \n"
     ]
    },
    {
     "name": "stdout",
     "output_type": "stream",
     "text": [
      "[###################################     ] | 89% Completed | 537.72 s"
     ]
    },
    {
     "name": "stderr",
     "output_type": "stream",
     "text": [
      " WARNING: FIR normalized: sum[coef]=9.767192E-01;     \n",
      " WARNING: FIR normalized: sum[coef]=9.767192E-01;     \n"
     ]
    },
    {
     "name": "stdout",
     "output_type": "stream",
     "text": [
      "[###################################     ] | 89% Completed | 538.15 s"
     ]
    },
    {
     "name": "stderr",
     "output_type": "stream",
     "text": [
      " WARNING: FIR normalized: sum[coef]=9.767192E-01;     \n",
      " WARNING: FIR normalized: sum[coef]=9.767192E-01;     \n",
      " WARNING: FIR normalized: sum[coef]=9.767192E-01;     \n"
     ]
    },
    {
     "name": "stdout",
     "output_type": "stream",
     "text": [
      "[###################################     ] | 89% Completed | 538.71 s"
     ]
    },
    {
     "name": "stderr",
     "output_type": "stream",
     "text": [
      " WARNING: FIR normalized: sum[coef]=9.767192E-01;     \n",
      " WARNING: FIR normalized: sum[coef]=9.767192E-01;     \n",
      " WARNING: FIR normalized: sum[coef]=9.767192E-01;     \n"
     ]
    },
    {
     "name": "stdout",
     "output_type": "stream",
     "text": [
      "[###################################     ] | 89% Completed | 539.26 s"
     ]
    },
    {
     "name": "stderr",
     "output_type": "stream",
     "text": [
      " WARNING: FIR normalized: sum[coef]=9.767192E-01;     \n",
      " WARNING: FIR normalized: sum[coef]=9.767192E-01;     \n"
     ]
    },
    {
     "name": "stdout",
     "output_type": "stream",
     "text": [
      "[###################################     ] | 89% Completed | 539.48 s"
     ]
    },
    {
     "name": "stderr",
     "output_type": "stream",
     "text": [
      " WARNING: FIR normalized: sum[coef]=9.767192E-01;     \n"
     ]
    },
    {
     "name": "stdout",
     "output_type": "stream",
     "text": [
      "[###################################     ] | 89% Completed | 539.71 s"
     ]
    },
    {
     "name": "stderr",
     "output_type": "stream",
     "text": [
      " WARNING: FIR normalized: sum[coef]=9.767192E-01;     \n"
     ]
    },
    {
     "name": "stdout",
     "output_type": "stream",
     "text": [
      "[###################################     ] | 89% Completed | 539.93 s"
     ]
    },
    {
     "name": "stderr",
     "output_type": "stream",
     "text": [
      " WARNING: FIR normalized: sum[coef]=9.767192E-01;     \n",
      " WARNING: FIR normalized: sum[coef]=9.767192E-01;     \n"
     ]
    },
    {
     "name": "stdout",
     "output_type": "stream",
     "text": [
      "[###################################     ] | 89% Completed | 540.38 s"
     ]
    },
    {
     "name": "stderr",
     "output_type": "stream",
     "text": [
      " WARNING: FIR normalized: sum[coef]=9.767192E-01;     \n",
      " WARNING: FIR normalized: sum[coef]=9.767192E-01;     \n"
     ]
    },
    {
     "name": "stdout",
     "output_type": "stream",
     "text": [
      "[###################################     ] | 89% Completed | 540.83 s"
     ]
    },
    {
     "name": "stderr",
     "output_type": "stream",
     "text": [
      " WARNING: FIR normalized: sum[coef]=9.767192E-01;     \n",
      " WARNING: FIR normalized: sum[coef]=9.767192E-01;     \n",
      " WARNING: FIR normalized: sum[coef]=9.767192E-01;     \n"
     ]
    },
    {
     "name": "stdout",
     "output_type": "stream",
     "text": [
      "[###################################     ] | 89% Completed | 541.27 s"
     ]
    },
    {
     "name": "stderr",
     "output_type": "stream",
     "text": [
      " WARNING: FIR normalized: sum[coef]=9.767192E-01;     \n",
      " WARNING: FIR normalized: sum[coef]=9.767192E-01;     \n",
      " WARNING: FIR normalized: sum[coef]=9.767192E-01;     \n"
     ]
    },
    {
     "name": "stdout",
     "output_type": "stream",
     "text": [
      "[####################################    ] | 90% Completed | 541.83 s"
     ]
    },
    {
     "name": "stderr",
     "output_type": "stream",
     "text": [
      " WARNING: FIR normalized: sum[coef]=9.767192E-01;     \n",
      " WARNING: FIR normalized: sum[coef]=9.767192E-01;     \n"
     ]
    },
    {
     "name": "stdout",
     "output_type": "stream",
     "text": [
      "[####################################    ] | 90% Completed | 542.05 s"
     ]
    }
   ],
   "source": [
    "@dask.delayed\n",
    "def loop_days(t, data_time_length, network, station, channel, sta_reseponse, step, sta_win, lta_win, filepath):\n",
    "    t_utc = obspy.UTCDateTime(t)\n",
    "    return trigger_and_classify(t_utc, data_time_length, network, station, channel, sta_response, step, sta_win, lta_win, filepath)\n",
    "\n",
    "# Build lazy results list\n",
    "lazy_results = [\n",
    "    loop_days(t, data_time_length, network, station, channel, sta_response, step, sta_win, lta_win, save_dir)\n",
    "    for t in time_bins\n",
    "]\n",
    "\n",
    "# Run Dask\n",
    "with ProgressBar():\n",
    "    results = dask.compute(*lazy_results)"
   ]
  },
  {
   "cell_type": "markdown",
   "id": "92851b38-2b9e-4a37-babd-c6cd35ffce6b",
   "metadata": {},
   "source": [
    "## Concat Results & Save"
   ]
  },
  {
   "cell_type": "code",
   "execution_count": null,
   "id": "1b9fd8d9-a8b2-439c-b9ec-82cfd51945ec",
   "metadata": {
    "tags": []
   },
   "outputs": [],
   "source": [
    "os.chdir('/home/lydiagk/obs_tremor/tremor_detection')\n",
    "print(\"Current working directory:\", os.getcwd())"
   ]
  },
  {
   "cell_type": "code",
   "execution_count": null,
   "id": "02cb33aa-5bfb-4ac6-9585-4de066d61ea9",
   "metadata": {},
   "outputs": [],
   "source": [
    "# removing empty brackets\n",
    "cleaned_results = [entry for entry in results if entry]\n",
    "with open(pickle_path, 'wb') as f:\n",
    "    pickle.dump(cleaned_results, f)\n",
    "\n",
    "print(f\"Saved combined detection results to {pickle_path}\")\n",
    "print(f\"Total detections: {len(cleaned_results)}\")\n"
   ]
  },
  {
   "cell_type": "code",
   "execution_count": null,
   "id": "d3cc8733-8099-4ef5-acc9-1da3510faf76",
   "metadata": {
    "tags": []
   },
   "outputs": [],
   "source": [
    "with open(pickle_path, 'rb') as f:\n",
    "    raw_triggers = pickle.load(f)\n",
    "\n",
    "flattened = [\n",
    "    detection\n",
    "    for day in raw_triggers\n",
    "    if isinstance(day, list)\n",
    "    for detection in day\n",
    "    if detection and isinstance(detection, (list, tuple)) and len(detection) == 6]\n",
    "\n",
    "with open('classifications/J10B.pickle', 'wb') as f:\n",
    "    pickle.dump(flattened, f)\n"
   ]
  },
  {
   "cell_type": "markdown",
   "id": "d4768e5e-f521-45e8-aa7b-365b32df1fe1",
   "metadata": {},
   "source": [
    "## Checking my work against validated code"
   ]
  },
  {
   "cell_type": "code",
   "execution_count": null,
   "id": "be4c260b-5fbc-4d38-a71e-fd128c17c332",
   "metadata": {},
   "outputs": [],
   "source": [
    "os.chdir(\"/home/lydiagk/obs_tremor/tremor_detection\")\n",
    "\n",
    "\n",
    "start_time = UTCDateTime(\"2017-09-01T00:00:00.000\")\n",
    "end_time = UTCDateTime(\"2017-09-08T00:00:00.000\")\n",
    "\n",
    "\n",
    "with open('flat_triggers.pickle', 'rb') as f:\n",
    "    my_triggers = pickle.load(f)\n",
    "   \n",
    "count = sum(1 for entry in my_triggers if start_time <= entry[0][0] <= end_time)\n",
    "\n",
    "print(f\"Number of triggers between {start_time} and {end_time}: {count}\")\n",
    "starts = [entry[0][0] for entry in my_triggers if start_time <= entry[0][0] <= end_time]\n",
    "peaks = [entry[2] for entry in my_triggers if start_time <= entry[0][0] <= end_time and entry[2] == 1]\n",
    "print(len(peaks))\n",
    "print(peaks)\n"
   ]
  },
  {
   "cell_type": "code",
   "execution_count": null,
   "id": "0591c0d2-f97c-42fb-b72f-6086645bde4e",
   "metadata": {},
   "outputs": [],
   "source": [
    "os.chdir(\"/home/lydiagk/obs_tremor/tremor_detection/results\")\n",
    "\n",
    "# define time window\n",
    "start_time_v = UTCDateTime(\"2017-09-01T00:00:00.000\")\n",
    "end_time_v = UTCDateTime(\"2017-09-08T00:00:00.000\")\n",
    "\n",
    "with open('HYSB1_HHN_3-10Hz_classifications.pickle', 'rb') as f:\n",
    "    my_triggers_v = pickle.load(f)\n",
    "\n",
    "\n",
    "count_v = sum(1 for entry in my_triggers_v if start_time_v <= entry[0][0] <= end_time_v)\n",
    "\n",
    "print(f\"Number of triggers between {start_time_v} and {end_time_v}: {count_v}\")\n",
    "starts_v = [entry[0][0] for entry in my_triggers_v if start_time_v <= entry[0][0] <= end_time_v]\n",
    "peaks_v = [entry[2] for entry in my_triggers_v if start_time <= entry[0][0] <= end_time and entry[2] == 1]\n",
    "\n",
    "print(len(peaks_v))\n",
    "print(peaks_v)"
   ]
  },
  {
   "cell_type": "code",
   "execution_count": null,
   "id": "509e56af-cb64-45f0-b983-2cbdfa37c1a7",
   "metadata": {},
   "outputs": [],
   "source": []
  },
  {
   "cell_type": "code",
   "execution_count": null,
   "id": "bcb08bc4-a809-45df-8e58-a208a3a7562c",
   "metadata": {},
   "outputs": [],
   "source": []
  }
 ],
 "metadata": {
  "kernelspec": {
   "display_name": "seismo 3.10 (SHARED)",
   "language": "python",
   "name": "seismo-py310-shared"
  },
  "language_info": {
   "codemirror_mode": {
    "name": "ipython",
    "version": 3
   },
   "file_extension": ".py",
   "mimetype": "text/x-python",
   "name": "python",
   "nbconvert_exporter": "python",
   "pygments_lexer": "ipython3",
   "version": "3.10.13"
  }
 },
 "nbformat": 4,
 "nbformat_minor": 5
}
