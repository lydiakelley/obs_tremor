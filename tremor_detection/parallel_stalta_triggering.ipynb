{
 "cells": [
  {
   "cell_type": "markdown",
   "id": "2e63884e-9467-4b88-881b-5c734970c017",
   "metadata": {
    "tags": []
   },
   "source": [
    "## Make detections on individual emergent signals on continuous data in parallel using STA/LTA triggering\n",
    "- In parallel over days using dask\n",
    "- Runs on one channel on one station at a time\n",
    "- NOTE THAT THE 3-10 HZ FILTER IS HARD CODED IN"
   ]
  },
  {
   "cell_type": "code",
   "execution_count": 6,
   "id": "8ea7d2fd-e812-404a-b93d-e80fa58f9bb9",
   "metadata": {},
   "outputs": [],
   "source": [
    "import datetime\n",
    "from obspy.clients.fdsn.client import Client\n",
    "import obspy\n",
    "import matplotlib.pyplot as plt\n",
    "import matplotlib\n",
    "import numpy as np\n",
    "import pandas as pd\n",
    "import dask\n",
    "from dask.diagnostics import ProgressBar\n",
    "#matplotlib.rcParams['font.family']=['Arial']\n",
    "client = Client('IRIS')\n",
    "import pickle\n",
    "import os\n",
    "import scipy.signal"
   ]
  },
  {
   "cell_type": "code",
   "execution_count": 2,
   "id": "4cf12c03-4e2a-4593-ae76-e54abced0a15",
   "metadata": {},
   "outputs": [],
   "source": [
    "from obspy.signal.trigger import classic_sta_lta\n",
    "from obspy.signal.trigger import trigger_onset"
   ]
  },
  {
   "cell_type": "markdown",
   "id": "e417592c-6cc8-4c92-ae9e-0f10026adbce",
   "metadata": {},
   "source": [
    "### STA/LTA parameters"
   ]
  },
  {
   "cell_type": "code",
   "execution_count": 3,
   "id": "3b1ed9ec-5fa8-4071-9b54-352c2fce9ac6",
   "metadata": {},
   "outputs": [],
   "source": [
    "# Define sampling rate and step we want to chunk\n",
    "\n",
    "sr = 200 #in Hz, need to change depending on station\n",
    "step = 10 # seconds\n",
    "\n",
    "# Define sta and lta window lengths\n",
    "# Below chosen to optimize emergent signal detection!\n",
    "sta_win = 10 # seconds, short term window\n",
    "lta_win = 1000 # seconds, long term window"
   ]
  },
  {
   "cell_type": "markdown",
   "id": "c1f7df55-2f97-4817-8106-09a65226dec3",
   "metadata": {},
   "source": [
    "### Time endpoints and station"
   ]
  },
  {
   "cell_type": "code",
   "execution_count": 4,
   "id": "2b3c14ba-30f1-4918-a992-980a5cb50845",
   "metadata": {},
   "outputs": [],
   "source": [
    "t1 = obspy.UTCDateTime(\"2017-09-01T00:00:00.000\")\n",
    "t2 = obspy.UTCDateTime(\"2017-09-08T00:00:00.000\")\n",
    "\n",
    "network = 'OO'\n",
    "station = 'HYS14'\n",
    "channel = 'HHN'"
   ]
  },
  {
   "cell_type": "markdown",
   "id": "aaab450c-6cab-467b-b454-11c6373526ab",
   "metadata": {},
   "source": [
    "### Define functions"
   ]
  },
  {
   "cell_type": "code",
   "execution_count": 7,
   "id": "bc86da2d-0674-4c1f-beb8-b69cdf9599eb",
   "metadata": {
    "tags": []
   },
   "outputs": [],
   "source": [
    "def check_data(stream,t1,sr,step,data_time_length):\n",
    "    \n",
    "    data = stream[0].data\n",
    "    data_sample_length = sr * data_time_length\n",
    "\n",
    "    \n",
    "    # Catch for if data stream is less than specified\n",
    "    if len(data) < data_sample_length:\n",
    "        data_sample_length = int(len(data) - (len(data)%(sr*step)))\n",
    "        data_time_length = int(data_sample_length / sr)\n",
    "        \n",
    "    # Catch for if start time is not as specified\n",
    "    if stream[0].stats.starttime != t1:\n",
    "        t1 = stream[0].stats.starttime\n",
    "    \n",
    "    return(t1,data_time_length)"
   ]
  },
  {
   "cell_type": "code",
   "execution_count": 7,
   "id": "d4a1f017-76a1-494d-9fb8-4197fcfb4635",
   "metadata": {
    "tags": []
   },
   "outputs": [],
   "source": [
    "def calc_stalta(data,sr,step,data_time_length,sta_win,lta_win):\n",
    "    \n",
    "    # Matricize the data as step s chunks\n",
    "    data_sample_length = sr * data_time_length\n",
    "    \n",
    "    \n",
    "    chunked = np.reshape(data[0:data_sample_length],[int(data_sample_length/(sr*step)),int(sr*step)])\n",
    "    chunked_medians = [np.median(chunked[i,:]) for i in range(np.shape(chunked)[0])]\n",
    "    chunked_times = np.linspace(0,data_time_length,len(chunked_medians))\n",
    "    \n",
    "    # Step through and calculate sta & lta every step s\n",
    "    sta = []\n",
    "    lta = []\n",
    "    for i,vec in enumerate(chunked_medians):\n",
    "\n",
    "        # STA is median of the next window\n",
    "        nwin = int(sta_win / step)\n",
    "        sta.append(np.median(chunked_medians[i:i+nwin]))\n",
    "\n",
    "\n",
    "        # LTA is median of the past window\n",
    "        nwin = int(lta_win / step)\n",
    "        lta.append(np.median(chunked_medians[i-nwin:i]))\n",
    "    \n",
    "    stalta = np.array(sta)/np.array(lta)\n",
    "    \n",
    "    return(stalta,chunked_times)"
   ]
  },
  {
   "cell_type": "code",
   "execution_count": 9,
   "id": "309b4be5-266a-4124-b3a1-05acee202ab1",
   "metadata": {},
   "outputs": [
    {
     "ename": "SyntaxError",
     "evalue": "invalid syntax (3130168069.py, line 93)",
     "output_type": "error",
     "traceback": [
      "\u001b[0;36m  Cell \u001b[0;32mIn[9], line 93\u001b[0;36m\u001b[0m\n\u001b[0;31m    finally Exception as e:\u001b[0m\n\u001b[0m    ^\u001b[0m\n\u001b[0;31mSyntaxError\u001b[0m\u001b[0;31m:\u001b[0m invalid syntax\n"
     ]
    }
   ],
   "source": [
    "def trigger(t1, data_time_length, network, station, channel, sr, step, sta_win, lta_win):\n",
    "    \"\"\"\n",
    "    t1 = start of time period to process, UTCDateTime\n",
    "    data_time_length = overall length of time period, in seconds\n",
    "    network = network code of desired station, string\n",
    "    station = station code, string\n",
    "    channel = channel code, string\n",
    "    sr = sampling rate of desired channel\n",
    "    step = duration of length of time to step through data with (speeds up processing), seconds\n",
    "    sta_win = duration of short-term window, seconds\n",
    "    lta_win = duration of long-term window, seconds\n",
    "    \n",
    "    Outputs:\n",
    "    ontimes = list of on-times of all detection windows\n",
    "    offtimes = list of off-times of all detection windows\n",
    "    \"\"\"\n",
    "    t2 = t1 + data_time_length + 1000 # signals at the end\n",
    "    t1 = t1 - 1000 # signals at the beginning\n",
    "\n",
    "    # Pull in data\n",
    "    try:\n",
    "        st1 = client.get_waveforms(network, station, \"*\", channel, t1 - 5, t2 + 5)\n",
    "        st1.resample(sr).merge(fill_value=0)\n",
    "        st1.taper(0.05, max_length=5)\n",
    "        st1.filter('bandpass', freqmin=3, freqmax=10)\n",
    "        st1.trim(starttime=t1, endtime=t2)\n",
    "\n",
    "        # Check to make sure there is data whole time period of t1 + data_time_length\n",
    "        # If not, adjust some values to reflect that\n",
    "        t1, data_time_length = check_data(st1, t1, sr, step, data_time_length)\n",
    "\n",
    "        # Run STA/LTA triggering\n",
    "        data = np.abs(st1[0].data)\n",
    "        stalta, times = calc_stalta(data, sr, step, data_time_length, sta_win, lta_win)\n",
    "       \n",
    "        # get triggers and the seconds they correspond to\n",
    "        triggers = trigger_onset(stalta, 2, 1)\n",
    "        ons = [times[tr[0]] for tr in triggers]\n",
    "        offs = [times[tr[1]] for tr in triggers]\n",
    "        \n",
    "        # get start and stop times of windows\n",
    "        ontimes = [t1 + o for o in ons]\n",
    "        offtimes = [t1 + o for o in offs]\n",
    "\n",
    "        return(ontimes, offtimes)\n",
    "    \n",
    "    except:\n",
    "        print(['No data for', str(t1)])\n",
    "        return([])\n",
    "\n",
    "    # Classification\n",
    "\n",
    "    pad = 0\n",
    "    t1 = t[0] - pad\n",
    "    t2 = t[1] + pad\n",
    "\n",
    "    st1 = client.get_waveforms(network, station, \"*\", channel, t1 - 5, t2 + 5, attach_response=True)\n",
    "    st1.resample(sr).merge(fill_value='interpolate')\n",
    "    st1[0].data /= st1[0].stats.response.instrument_sensitivity.value\n",
    "    st1.trim(starttime=t1, endtime=t2)\n",
    "    ship_classifier = ship_noise_classifier(st1[0], sr)\n",
    "\n",
    "    st1 = client.get_waveforms(network, station, \"*\", channel, t1 - 5, t2 + 5, attach_response=True)\n",
    "    st1.resample(sr).merge(fill_value='interpolate')\n",
    "    st1.filter('bandpass', freqmin=3, freqmax=10)\n",
    "    st1.remove_response()\n",
    "    st1.trim(starttime=t1, endtime=t2)\n",
    "\n",
    "    max_amplitude = np.max(np.abs(st1[0].data))\n",
    "    smoothed_window = apply_gaussian(st1[0].data, sr, gaussian_width=15)\n",
    "    smoothed_window /= np.max(smoothed_window)\n",
    "    peaks, _ = scipy.signal.find_peaks(smoothed_window, prominence=0.1)\n",
    "    num_waveform_peaks = len(peaks)\n",
    "\n",
    "    # Frequency Ratio\n",
    "    pad = 30\n",
    "    t1 = t[0] - pad\n",
    "    t2 = t[1] + pad\n",
    "    st2 = client.get_waveforms(network, station, \"*\", channel, t1 - 5, t2 + 5, attach_response=True)\n",
    "    st2.resample(sr).merge(fill_value='interpolate')\n",
    "    st2[0].data /= st2[0].stats.response.instrument_sensitivity.value\n",
    "    st2.trim(starttime=t1, endtime=t2)\n",
    "    f, Pxx_den, peak_ind, peak_details, median_power = pick_peaks_welch(st2[0], sr, 5, microseism_cutoff=False)\n",
    "    freq_ratio = 10**(np.median(Pxx_den[25:50])/10) / 10**(np.median(Pxx_den[50:75])/10)\n",
    "    freq_ratio_welch = freq_ratio\n",
    "\n",
    "    # Save results\n",
    "    with open(file_name, 'wb') as handle:\n",
    "        pickle.dump([t, station, num_waveform_peaks, ship_classifier, freq_ratio_welch, max_amplitude], handle)\n",
    "\n",
    "    return ontimes, offtimes, t, station, num_waveform_peaks, ship_classifier, freq_ratio_welch, max_amplitude\n",
    "\n",
    "finally Exception as e:\n",
    "    print(['No data for', str(t1), 'Error:', str(e)])\n",
    "    return []\n"
   ]
  },
  {
   "cell_type": "markdown",
   "id": "47fe2f95-e86a-4904-805c-ed039c3c80a1",
   "metadata": {},
   "source": [
    "### Bin data by days and process in parallel"
   ]
  },
  {
   "cell_type": "code",
   "execution_count": 8,
   "id": "aea210d7-ed28-41e0-b0c1-401b02879a12",
   "metadata": {},
   "outputs": [],
   "source": [
    "time_bins = pd.date_range(start=t1.datetime, end=t2.datetime, freq='d')\n",
    "data_time_length = 24 * 60 * 60"
   ]
  },
  {
   "cell_type": "code",
   "execution_count": 9,
   "id": "bf9bee26-5463-4141-a5ef-0885acc8b5b4",
   "metadata": {},
   "outputs": [
    {
     "data": {
      "text/plain": [
       "DatetimeIndex(['2017-09-01', '2017-09-02', '2017-09-03', '2017-09-04',\n",
       "               '2017-09-05', '2017-09-06', '2017-09-07', '2017-09-08'],\n",
       "              dtype='datetime64[ns]', freq='D')"
      ]
     },
     "execution_count": 9,
     "metadata": {},
     "output_type": "execute_result"
    }
   ],
   "source": [
    "time_bins"
   ]
  },
  {
   "cell_type": "code",
   "execution_count": 10,
   "id": "0ce75159-3a58-4e76-aaa5-898fb2758a06",
   "metadata": {},
   "outputs": [],
   "source": [
    "@dask.delayed\n",
    "def loop_days(t1,data_time_length,network,station,channel,sr,step,sta_win,lta_win):\n",
    "    t1 = obspy.UTCDateTime(t1)\n",
    "    return trigger(t1,data_time_length,network,station,channel,sr,step,sta_win,lta_win)"
   ]
  },
  {
   "cell_type": "code",
   "execution_count": 11,
   "id": "51c34143-36d9-4ca6-98ad-22ca31f3549a",
   "metadata": {},
   "outputs": [],
   "source": [
    "lazy_results = [loop_days(t,data_time_length,network,station,channel,sr,step,sta_win,lta_win) for t in time_bins]"
   ]
  },
  {
   "cell_type": "code",
   "execution_count": 12,
   "id": "503a7ebc-60c9-4955-bea2-2047ea304d8e",
   "metadata": {},
   "outputs": [
    {
     "name": "stdout",
     "output_type": "stream",
     "text": [
      "[                                        ] | 0% Completed | 14.90 sms"
     ]
    },
    {
     "name": "stderr",
     "output_type": "stream",
     "text": [
      "/home/jupyter_share/miniconda3/envs/seismo2/lib/python3.10/site-packages/numpy/core/fromnumeric.py:3504: RuntimeWarning: Mean of empty slice.\n",
      "  return _methods._mean(a, axis=axis, dtype=dtype,\n",
      "/home/jupyter_share/miniconda3/envs/seismo2/lib/python3.10/site-packages/numpy/core/_methods.py:129: RuntimeWarning: invalid value encountered in scalar divide\n",
      "  ret = ret.dtype.type(ret / rcount)\n"
     ]
    },
    {
     "name": "stdout",
     "output_type": "stream",
     "text": [
      "[                                        ] | 0% Completed | 15.42 s"
     ]
    },
    {
     "name": "stderr",
     "output_type": "stream",
     "text": [
      "/tmp/ipykernel_3885241/1058069781.py:25: RuntimeWarning: overflow encountered in divide\n",
      "  stalta = np.array(sta)/np.array(lta)\n"
     ]
    },
    {
     "name": "stdout",
     "output_type": "stream",
     "text": [
      "[                                        ] | 0% Completed | 18.78 s"
     ]
    },
    {
     "name": "stderr",
     "output_type": "stream",
     "text": [
      "/home/jupyter_share/miniconda3/envs/seismo2/lib/python3.10/site-packages/numpy/core/fromnumeric.py:3504: RuntimeWarning: Mean of empty slice.\n",
      "  return _methods._mean(a, axis=axis, dtype=dtype,\n",
      "/home/jupyter_share/miniconda3/envs/seismo2/lib/python3.10/site-packages/numpy/core/_methods.py:129: RuntimeWarning: invalid value encountered in scalar divide\n",
      "  ret = ret.dtype.type(ret / rcount)\n"
     ]
    },
    {
     "name": "stdout",
     "output_type": "stream",
     "text": [
      "[                                        ] | 0% Completed | 24.50 s['No data for', '2017-09-08T00:27:40.307906Z', 'Error:', \"name 'ship_noise_classifier' is not defined\"]\n",
      "[#####                                   ] | 12% Completed | 25.11 s"
     ]
    },
    {
     "name": "stderr",
     "output_type": "stream",
     "text": [
      "/home/jupyter_share/miniconda3/envs/seismo2/lib/python3.10/site-packages/numpy/core/fromnumeric.py:3504: RuntimeWarning: Mean of empty slice.\n",
      "  return _methods._mean(a, axis=axis, dtype=dtype,\n",
      "/home/jupyter_share/miniconda3/envs/seismo2/lib/python3.10/site-packages/numpy/core/_methods.py:129: RuntimeWarning: invalid value encountered in scalar divide\n",
      "  ret = ret.dtype.type(ret / rcount)\n"
     ]
    },
    {
     "name": "stdout",
     "output_type": "stream",
     "text": [
      "[#####                                   ] | 12% Completed | 32.92 s['No data for', '2017-09-07T00:27:20.305591Z', 'Error:', \"name 'ship_noise_classifier' is not defined\"]\n",
      "[##########                              ] | 25% Completed | 33.83 s['No data for', '2017-09-05T00:09:20.180576Z', 'Error:', \"name 'ship_noise_classifier' is not defined\"]\n",
      "[###############                         ] | 37% Completed | 34.34 s"
     ]
    },
    {
     "name": "stderr",
     "output_type": "stream",
     "text": [
      "/home/jupyter_share/miniconda3/envs/seismo2/lib/python3.10/site-packages/numpy/core/fromnumeric.py:3504: RuntimeWarning: Mean of empty slice.\n",
      "  return _methods._mean(a, axis=axis, dtype=dtype,\n",
      "/home/jupyter_share/miniconda3/envs/seismo2/lib/python3.10/site-packages/numpy/core/_methods.py:129: RuntimeWarning: invalid value encountered in scalar divide\n",
      "  ret = ret.dtype.type(ret / rcount)\n"
     ]
    },
    {
     "name": "stdout",
     "output_type": "stream",
     "text": [
      "[###############                         ] | 37% Completed | 35.56 s['No data for', '2017-09-02T00:20:10.255817Z', 'Error:', \"name 'ship_noise_classifier' is not defined\"]\n",
      "[####################                    ] | 50% Completed | 39.91 s['No data for', '2017-09-03T00:20:10.255817Z', 'Error:', \"name 'ship_noise_classifier' is not defined\"]\n",
      "[#########################               ] | 62% Completed | 43.34 s['No data for', '2017-09-01T00:23:40.280125Z', 'Error:', \"name 'ship_noise_classifier' is not defined\"]\n",
      "[##############################          ] | 75% Completed | 51.61 s['No data for', '2017-09-04T00:18:20.243084Z', 'Error:', \"name 'ship_noise_classifier' is not defined\"]\n",
      "[###################################     ] | 87% Completed | 51.92 s['No data for', '2017-09-06T01:37:00.789443Z', 'Error:', \"name 'ship_noise_classifier' is not defined\"]\n",
      "[########################################] | 100% Completed | 52.02 s\n"
     ]
    }
   ],
   "source": [
    "with ProgressBar():\n",
    "    results = dask.compute(lazy_results)"
   ]
  },
  {
   "cell_type": "code",
   "execution_count": 13,
   "id": "915dad6b-5a82-4b88-b58b-a8fda10ed45e",
   "metadata": {
    "tags": []
   },
   "outputs": [
    {
     "data": {
      "image/png": "[encoded data removed]",
      "text/plain": [
       "<Figure size 800x250 with 1 Axes>"
      ]
     },
     "metadata": {},
     "output_type": "display_data"
    },
    {
     "data": {
      "image/png": "[encoded data removed]",
      "text/plain": [
       "<Figure size 800x250 with 1 Axes>"
      ]
     },
     "execution_count": 13,
     "metadata": {},
     "output_type": "execute_result"
    }
   ],
   "source": [
    "t2 = t1 + data_time_length + 1000\n",
    "t1 = t1 - 1000\n",
    "\n",
    "# Pull in data\n",
    "st1 = client.get_waveforms(network, station, \"*\", channel, t1 - 5, t2 + 5)\n",
    "st1.resample(sr).merge(fill_value=0)\n",
    "st1.taper(0.05, max_length=5)\n",
    "st1.filter('bandpass', freqmin=3, freqmax=10)\n",
    "st1.trim(starttime=t1, endtime=t2)\n",
    "\n",
    "\n",
    "\n",
    "st1.plot()\n"
   ]
  },
  {
   "cell_type": "code",
   "execution_count": 14,
   "id": "c46f7c89-e386-4241-96b8-f173433ee45a",
   "metadata": {},
   "outputs": [
    {
     "name": "stderr",
     "output_type": "stream",
     "text": [
      "/home/jupyter_share/miniconda3/envs/seismo2/lib/python3.10/site-packages/numpy/core/fromnumeric.py:3504: RuntimeWarning: Mean of empty slice.\n",
      "  return _methods._mean(a, axis=axis, dtype=dtype,\n",
      "/home/jupyter_share/miniconda3/envs/seismo2/lib/python3.10/site-packages/numpy/core/_methods.py:129: RuntimeWarning: invalid value encountered in scalar divide\n",
      "  ret = ret.dtype.type(ret / rcount)\n"
     ]
    },
    {
     "data": {
      "text/plain": [
       "[<matplotlib.lines.Line2D at 0x7f1e304e8040>]"
      ]
     },
     "execution_count": 14,
     "metadata": {},
     "output_type": "execute_result"
    },
    {
     "data": {
      "image/png": "[encoded data removed]",
      "text/plain": [
       "<Figure size 640x480 with 1 Axes>"
      ]
     },
     "metadata": {},
     "output_type": "display_data"
    }
   ],
   "source": [
    "data = np.abs(st1[0].data)\n",
    "\n",
    "stalta = calc_stalta(data,sr,step,data_time_length,sta_win,lta_win)\n",
    "plt.plot(stalta[0])\n",
    "\n"
   ]
  },
  {
   "cell_type": "markdown",
   "id": "62beab9d-2f4f-416f-a12f-3d197b31bcdb",
   "metadata": {},
   "source": [
    "### Concat results and save"
   ]
  },
  {
   "cell_type": "code",
   "execution_count": 15,
   "id": "aab2d5dc-71af-4454-8725-7f636b039de6",
   "metadata": {},
   "outputs": [],
   "source": [
    "save_dir='emergent_detections/'\n",
    "pickle_name='HYS14_sep2017_HHN.pickle'\n",
    "ons = []\n",
    "offs = []\n",
    "for ap in results[0]:\n",
    "    if len(ap) > 0:\n",
    "        ons.extend(ap[0])\n",
    "        offs.extend(ap[1])\n",
    "sort_ind = np.argsort(ons)\n",
    "ons = [ons[i] for i in sort_ind]\n",
    "offs = [offs[i] for i in sort_ind]\n",
    "triggers = [[ons[i],offs[i]] for i in range(len(ons))]\n",
    "\n",
    "\n",
    "# Toss any with durations less than 30 s\n",
    "durations = [t[1]-t[0] for t in triggers]\n",
    "dur_keep = [i for i,e in enumerate(durations) if e >= 30]\n",
    "triggers = [triggers[i] for i in dur_keep]\n",
    "\n",
    "\n",
    "pickle.dump(triggers,open(pickle_name, 'wb'))"
   ]
  },
  {
   "cell_type": "code",
   "execution_count": 16,
   "id": "0d7d8f16-1a18-48d2-808c-cf9fbb091942",
   "metadata": {},
   "outputs": [
    {
     "data": {
      "text/plain": [
       "0"
      ]
     },
     "execution_count": 16,
     "metadata": {},
     "output_type": "execute_result"
    }
   ],
   "source": [
    "len(triggers)"
   ]
  }
 ],
 "metadata": {
  "kernelspec": {
   "display_name": "seismo 3.10 (SHARED)",
   "language": "python",
   "name": "seismo-py310-shared"
  },
  "language_info": {
   "codemirror_mode": {
    "name": "ipython",
    "version": 3
   },
   "file_extension": ".py",
   "mimetype": "text/x-python",
   "name": "python",
   "nbconvert_exporter": "python",
   "pygments_lexer": "ipython3",
   "version": "3.10.13"
  }
 },
 "nbformat": 4,
 "nbformat_minor": 5
}
