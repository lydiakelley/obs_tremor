{
 "cells": [
  {
   "cell_type": "markdown",
   "id": "de2b03da-71ee-415d-935e-7183a292eb4c",
   "metadata": {},
   "source": [
    "### Perform envelope cross correlation between the two OOI stations\n",
    "- In parallel over days using dask\n",
    "- NOTE that the channel used is hard coded in the \"calc_cc_envelope\" function - need to change it and rerun for different channels!\n",
    "- Follows approach of Wech et al. 2013"
   ]
  },
  {
   "cell_type": "code",
   "execution_count": 1,
   "id": "638e13a7-9e07-4af5-8339-b715bf367490",
   "metadata": {},
   "outputs": [],
   "source": [
    "import os\n",
    "import pickle\n",
    "\n",
    "import matplotlib.pyplot as plt\n",
    "import matplotlib.dates as mdates\n",
    "\n",
    "import numpy as np\n",
    "import obspy\n",
    "from obspy.clients.fdsn.client import Client \n",
    "import sklearn\n",
    "from sklearn.decomposition import FastICA\n",
    "\n",
    "import obspy\n",
    "\n",
    "import pandas as pd\n",
    "\n",
    "import obspy.signal.cross_correlation\n",
    "client = Client('IRIS')\n",
    "import dask\n",
    "from dask.diagnostics import ProgressBar"
   ]
  },
  {
   "cell_type": "code",
   "execution_count": 40,
   "id": "37b95441-ff90-4aca-ba9f-3c9496beb90d",
   "metadata": {},
   "outputs": [],
   "source": [
    "def calc_cc_envelope(t1,t2):\n",
    "    \"\"\"\n",
    "    t1 - start time of the time window to process, obspy UTCDateTime object\n",
    "    t2 - end time, obspy UTCDateTime object\n",
    "    \n",
    "    Outputs:\n",
    "    List of the cross correlation values, lag times, and start times of each cross-correlated window\n",
    "    \"\"\"\n",
    "    \n",
    "    \n",
    "    try:\n",
    "        ### CALCULATING ENVELOPES ###\n",
    "        st = client.get_waveforms(\"OO\",'HYSB1', \"*\", \"HHN\", t1-5, t2+5);\n",
    "        st.resample(200).merge(fill_value='interpolate')\n",
    "        data = st[0].data\n",
    "        npts = st[0].stats.npts\n",
    "        samprate = st[0].stats.sampling_rate\n",
    "\n",
    "        # Skip if there is not enough data\n",
    "        if len(data) < (86400*0.99*samprate):\n",
    "            return None,None,None\n",
    "\n",
    "        # Filtering the Stream object\n",
    "        st_filt = st.copy()\n",
    "        st_filt.taper(0.05,max_length=5)\n",
    "        st_filt.filter('bandpass', freqmin=3, freqmax=10)\n",
    "        # Envelope of filtered data\n",
    "        data_envelope = obspy.signal.filter.envelope(st_filt[0].data)\n",
    "        # Low-pass filter of 5 s\n",
    "        lowpass = obspy.signal.filter.lowpass(data_envelope,1/5,samprate)\n",
    "        # Decimate to 1 Hz\n",
    "        # New sampling rate is old sampling rate divided by decimation_factor.\n",
    "        decimation_factor = int(samprate)\n",
    "        envelope1 = obspy.signal.filter.integer_decimation(lowpass,decimation_factor)\n",
    "        # Trim!\n",
    "        envelope1 = envelope1[5:-5]\n",
    "\n",
    "        st = client.get_waveforms(\"OO\",'HYS14', \"*\", \"HHN\", t1-5, t2+5);\n",
    "        st.resample(200).merge(fill_value='interpolate')\n",
    "        data = st[0].data\n",
    "        npts = st[0].stats.npts\n",
    "        samprate = st[0].stats.sampling_rate\n",
    "\n",
    "        # Filtering the Stream object\n",
    "        st_filt = st.copy()\n",
    "        st_filt.taper(0.05,max_length=5)\n",
    "        st_filt.filter('bandpass', freqmin=3, freqmax=10)\n",
    "        # Envelope of filtered data\n",
    "        data_envelope = obspy.signal.filter.envelope(st_filt[0].data)\n",
    "        # Low-pass filter of 5 s\n",
    "        lowpass = obspy.signal.filter.lowpass(data_envelope,1/5,samprate)\n",
    "        # Decimate to 1 Hz\n",
    "        # New sampling rate is old sampling rate divided by decimation_factor.\n",
    "        decimation_factor = int(samprate)\n",
    "        envelope2 = obspy.signal.filter.integer_decimation(lowpass,decimation_factor)\n",
    "        # Trim!\n",
    "        envelope2 = envelope2[5:-5]\n",
    "\n",
    "        ### CROSS-CORRELATING ENVELOPES ###\n",
    "        spacing = 300\n",
    "        overlap = 0.5\n",
    "        data_length = min([len(envelope1)-1,len(envelope2)-1])\n",
    "        steps = np.arange(0,data_length,int(spacing*overlap))\n",
    "\n",
    "\n",
    "        shifts = []\n",
    "        values = []\n",
    "        times = []\n",
    "        for start in steps:\n",
    "\n",
    "            stop = start + spacing\n",
    "\n",
    "            cc = obspy.signal.cross_correlation.correlate(envelope1[start:stop],envelope2[start:stop],shift=int(10*samprate))\n",
    "            shift, value = obspy.signal.cross_correlation.xcorr_max(cc)\n",
    "\n",
    "\n",
    "            values.append(value)\n",
    "            shifts.append(shift)\n",
    "            times.append(st[0].stats.starttime+start)\n",
    "    except:\n",
    "        \n",
    "        return None,None,None\n",
    "    \n",
    "    return values,shifts,times\n",
    "\n"
   ]
  },
  {
   "cell_type": "markdown",
   "id": "336a4b07-d416-449a-8d5e-74a5c0948fd0",
   "metadata": {},
   "source": [
    "### Set up to run in parallel over days"
   ]
  },
  {
   "cell_type": "code",
   "execution_count": 41,
   "id": "03751b24-491a-4210-b0fa-7e0690e20137",
   "metadata": {},
   "outputs": [],
   "source": [
    "t1 = obspy.UTCDateTime(\"2018-07-01T00:00:00.000\")\n",
    "t2 = obspy.UTCDateTime(\"2019-07-01T00:00:00.000\")\n",
    "data_time_length = 24 * 60 * 60\n",
    "time_bins = pd.date_range(start=t1.datetime, end=t2.datetime, freq='d')"
   ]
  },
  {
   "cell_type": "code",
   "execution_count": 42,
   "id": "d306a3f1-dfef-43ed-aae0-f98a8809b40c",
   "metadata": {},
   "outputs": [],
   "source": [
    "@dask.delayed\n",
    "def loop_days(t1,t2):\n",
    "    return calc_cc_envelope(obspy.UTCDateTime(t1),obspy.UTCDateTime(t2),'HYSB1','HYS14')"
   ]
  },
  {
   "cell_type": "code",
   "execution_count": 43,
   "id": "517f01f4-f46d-4183-8c95-6f45ed1ca852",
   "metadata": {},
   "outputs": [],
   "source": [
    "lazy_results = [loop_days(time_bins[i],time_bins[i+1]) for i,t in enumerate(time_bins[:-1])]"
   ]
  },
  {
   "cell_type": "code",
   "execution_count": 44,
   "id": "77dce583-a53e-42bd-96a6-f82b788c9a07",
   "metadata": {},
   "outputs": [
    {
     "name": "stdout",
     "output_type": "stream",
     "text": [
      "[########################################] | 100% Completed |  1hr 22min 29.1s\n",
      "CPU times: user 6h 45min 17s, sys: 12min 19s, total: 6h 57min 36s\n",
      "Wall time: 1h 22min 29s\n"
     ]
    }
   ],
   "source": [
    "%%time\n",
    "with ProgressBar():\n",
    "    results = dask.compute(lazy_results)"
   ]
  },
  {
   "cell_type": "markdown",
   "id": "463c9c07-d6d8-47ef-98b8-f45921d24cca",
   "metadata": {},
   "source": [
    "### Parse results and write to file"
   ]
  },
  {
   "cell_type": "code",
   "execution_count": 45,
   "id": "d291cfc8-4c01-46c3-9ad8-5a2ba1da08a7",
   "metadata": {},
   "outputs": [],
   "source": [
    "# Parse results\n",
    "values = []\n",
    "shifts = []\n",
    "times = []\n",
    "for r in results[0]:\n",
    "    if r[0]!=None:\n",
    "        values.extend(r[0])\n",
    "        shifts.extend(r[1])\n",
    "        times.extend(r[2])\n",
    "# Sort results\n",
    "sort_ind = np.argsort(times)\n",
    "times = [times[i] for i in sort_ind]\n",
    "values = [values[i] for i in sort_ind]\n",
    "shifts = [shifts[i] for i in sort_ind]"
   ]
  },
  {
   "cell_type": "code",
   "execution_count": 46,
   "id": "51292a29-e910-45da-9613-004b80671a1b",
   "metadata": {},
   "outputs": [],
   "source": [
    "file_name = 'HYSB1_HYS14_HHN_cc_10s_shift.pickle'\n",
    "with open(file_name, 'wb') as handle:\n",
    "    pickle.dump([times,values,shifts],handle)   "
   ]
  }
 ],
 "metadata": {
  "kernelspec": {
   "display_name": "alaska-ml",
   "language": "python",
   "name": "alaska-ml"
  },
  "language_info": {
   "codemirror_mode": {
    "name": "ipython",
    "version": 3
   },
   "file_extension": ".py",
   "mimetype": "text/x-python",
   "name": "python",
   "nbconvert_exporter": "python",
   "pygments_lexer": "ipython3",
   "version": "3.9.12"
  }
 },
 "nbformat": 4,
 "nbformat_minor": 5
}
