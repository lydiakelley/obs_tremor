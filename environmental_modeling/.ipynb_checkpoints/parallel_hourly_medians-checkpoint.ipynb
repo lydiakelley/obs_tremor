{
 "cells": [
  {
   "cell_type": "markdown",
   "id": "2bf73317-8d46-44c8-8fd3-fe1e2410b5f4",
   "metadata": {},
   "source": [
    "# Pull in continuous OBS data and pre-process, filter, calculate hourly median amplitudes, save to file\n",
    "- For one station at a time\n",
    "- Runs in parallel over days using dask, begins by writing individual files for each day processed. Individual files are then read in and saved to one summative file."
   ]
  },
  {
   "cell_type": "code",
   "execution_count": 41,
   "id": "e533f744-aa4a-44db-8685-bf903fb0efbd",
   "metadata": {},
   "outputs": [],
   "source": [
    "import datetime\n",
    "from obspy.clients.fdsn.client import Client\n",
    "import obspy\n",
    "import matplotlib.pyplot as plt\n",
    "import matplotlib\n",
    "import numpy as np\n",
    "matplotlib.rcParams['font.family']=['Arial']\n",
    "client = Client('IRIS')\n",
    "import pandas as pd\n",
    "import matplotlib.dates as mdates\n",
    "import dask\n",
    "import pickle\n",
    "from dask.diagnostics import ProgressBar\n",
    "import glob"
   ]
  },
  {
   "cell_type": "markdown",
   "id": "cde9866f-86d1-4777-ac67-7d9ae0fe7003",
   "metadata": {},
   "source": [
    "#### Functions to run in parallel:"
   ]
  },
  {
   "cell_type": "code",
   "execution_count": 42,
   "id": "acd18ad7-24c5-43ee-8f64-52d3e2e35f66",
   "metadata": {},
   "outputs": [],
   "source": [
    "def get_channel_data(network,station,channels,t1,t2,sr):\n",
    "    \"\"\"\n",
    "    network - station network code, string\n",
    "    station - station code, string\n",
    "    channels - list of channel strings to pull from IRIS; length of 2 if pulling horizontal, length of 1 for vertical\n",
    "    t1 - start time of window to process, datetime object\n",
    "    t2 - end time, datetime object\n",
    "    sr - sampling rate of instrument, float\n",
    "    \n",
    "    Pulls in raw data from IRIS\n",
    "    Processes into two traces, one filtered from 3-10 Hz (low) and one from 10-25 Hz (high)\n",
    "    Scales by instrument response\n",
    "    Saves median amplitude for the given time window, in both frequency bands\n",
    "    \n",
    "    \"\"\"\n",
    "    \n",
    "    # Horizontal case\n",
    "    if len(channels)>1:\n",
    "\n",
    "        st1 = client.get_waveforms(network,station, \"*\",channels[0], t1-5*60, t2+5*60,attach_response=True);\n",
    "        st1.resample(sr).merge(fill_value=0).detrend(type='demean')\n",
    "        # Calculate average instrument responses\n",
    "        avg_low_response = np.abs(np.mean(st1[0].stats.response.get_evalresp_response_for_frequencies(np.linspace(3,10))))\n",
    "        avg_high_response = np.abs(np.mean(st1[0].stats.response.get_evalresp_response_for_frequencies(np.linspace(10,25))))\n",
    "        # Calculate absolute velocities in each band (scale by average response)\n",
    "        low1 = st1.copy().filter('bandpass',freqmin=3,freqmax=10)\n",
    "        low1.trim(starttime=t1,endtime=t2)\n",
    "        low_data1 = np.abs(low1[0].data)/avg_low_response\n",
    "        high1 = st1.copy().filter('bandpass',freqmin=10,freqmax=25)\n",
    "        high1.trim(starttime=t1,endtime=t2)\n",
    "        high_data1 = np.abs(high1[0].data)/avg_high_response\n",
    "\n",
    "\n",
    "        st2 = client.get_waveforms(network,station, \"*\",channels[1], t1-5*60, t2+5*60,attach_response=True);\n",
    "        st2.resample(sr).merge(fill_value=0).detrend(type='demean')\n",
    "        # Calculate average instrument responses\n",
    "        avg_low_response = np.abs(np.mean(st2[0].stats.response.get_evalresp_response_for_frequencies(np.linspace(3,10))))\n",
    "        avg_high_response = np.abs(np.mean(st2[0].stats.response.get_evalresp_response_for_frequencies(np.linspace(10,25))))\n",
    "        # Calculate absolute velocities in each band (scale by average reseponse)\n",
    "        low2 = st2.copy().filter('bandpass',freqmin=3,freqmax=10)\n",
    "        low2.trim(starttime=t1,endtime=t2)\n",
    "        low_data2 = np.abs(low2[0].data)/avg_low_response\n",
    "        high2 = st2.copy().filter('bandpass',freqmin=10,freqmax=25)\n",
    "        high2.trim(starttime=t1,endtime=t2)\n",
    "        high_data2 = np.abs(high2[0].data)/avg_high_response\n",
    "\n",
    "        # Combine the two horizontal channels into one\n",
    "        low_data = [np.sqrt(low_data1[i]**2+low_data2[i]**2) for i,e in enumerate(low_data1)]\n",
    "        high_data = [np.sqrt(high_data1[i]**2+high_data2[i]**2) for i,e in enumerate(high_data1)]\n",
    "\n",
    "    # Single-channel case\n",
    "    else:\n",
    "        st1 = client.get_waveforms(network,station, \"*\",channels[0], t1-5*60, t2+5*60,attach_response=True);\n",
    "        st1.resample(sr).merge(fill_value=0).detrend(type='demean')\n",
    "        # Calculate average instrument responses\n",
    "        avg_low_response = np.abs(np.mean(st1[0].stats.response.get_evalresp_response_for_frequencies(np.linspace(3,10))))\n",
    "        avg_high_response = np.abs(np.mean(st1[0].stats.response.get_evalresp_response_for_frequencies(np.linspace(10,25))))\n",
    "        # Calculate absolute velocities in each band (scale by average reseponse)\n",
    "        low = st1.copy().filter('bandpass',freqmin=3,freqmax=10)\n",
    "        low.trim(starttime=t1,endtime=t2)\n",
    "        low_data = np.abs(low[0].data)/avg_low_response\n",
    "        high = st1.copy().filter('bandpass',freqmin=10,freqmax=25)\n",
    "        high.trim(starttime=t1,endtime=t2)\n",
    "        high_data = np.abs(high[0].data)/avg_high_response\n",
    "        \n",
    "    return low_data,high_data"
   ]
  },
  {
   "cell_type": "code",
   "execution_count": 1,
   "id": "b747376a-6414-422f-9aa0-016790bffa71",
   "metadata": {},
   "outputs": [],
   "source": [
    "def fix_hysb1_data(data,sr):\n",
    "    \"\"\"\n",
    "    The HYSB1 hydrophone is plagued by frequent super impulsive glitches\n",
    "    This is a quick fix to get rid of most (but not all!) of them\n",
    "    \"\"\"\n",
    "    \n",
    "    glitch_ind = [i for i,d in enumerate(data) if d>2]\n",
    "    for i in glitch_ind:\n",
    "        fix_ind = np.arange(i-sr*1.5,i+sr*1.5,1)\n",
    "        for ii in fix_ind:\n",
    "            data[int(ii)]=np.nan\n",
    "            \n",
    "    return data"
   ]
  },
  {
   "cell_type": "code",
   "execution_count": 2,
   "id": "00c8145a-f34c-4135-b076-92490a5b9755",
   "metadata": {},
   "outputs": [],
   "source": [
    "def get_hourly_medians(t1,data_time_length,station,network):\n",
    "    \"\"\"\n",
    "    t1 - time to start window, datetime object\n",
    "    data_time_length - length of time window to check in seconds; here I input 1 day at a time\n",
    "    station - station code, string\n",
    "    network - network code, string\n",
    "    \n",
    "    Steps through the specified time window in 1 hour increments with 50% overlap (30 minutes)\n",
    "    Calls to function to calculate hourly median amplitudes in different frequency bands\n",
    "    Writes a pickle file with all hourly medians\n",
    "    \"\"\"\n",
    "    \n",
    "    # Define sampling rate and time step\n",
    "    time_step = 60*30\n",
    "    sr = 100\n",
    "    \n",
    "    hlow_med = []\n",
    "    hhigh_med = []\n",
    "    htimes = []\n",
    "    zlow_med = []\n",
    "    zhigh_med = []\n",
    "    ztimes = []\n",
    "    dlow_med = []\n",
    "    dhigh_med = []\n",
    "    dtimes = []\n",
    "    \n",
    "    t1 = obspy.UTCDateTime(t1)\n",
    "    t2 = t1 + data_time_length\n",
    "    data_sample_length = sr * data_time_length\n",
    "    steps = int(data_time_length/time_step)\n",
    "    \n",
    "    # try:\n",
    "    # HORIZONTAL CHANNELS\n",
    "    hlow_data,hhigh_data = get_channel_data(network,station,['EH1','EH2'],t1,t2,sr)\n",
    "    for i in range(steps):\n",
    "        start_ind = i * time_step * sr\n",
    "        end_ind = start_ind + (time_step * sr)\n",
    "        hlow_med.append(np.median(hlow_data[start_ind:end_ind]))\n",
    "        hhigh_med.append(np.median(hhigh_data[start_ind:end_ind]))\n",
    "        htimes.append(t1+(i*1800))\n",
    "\n",
    "    # VERTICAL CHANNEL\n",
    "    zlow_data,zhigh_data = get_channel_data(network,station,['EHZ'],t1,t2,sr)\n",
    "    for i in range(steps):\n",
    "        start_ind = i * time_step * sr\n",
    "        end_ind = start_ind + (time_step * sr)\n",
    "        zlow_med.append(np.median(zlow_data[start_ind:end_ind]))\n",
    "        zhigh_med.append(np.median(zhigh_data[start_ind:end_ind]))\n",
    "        ztimes.append(t1+(i*1800))\n",
    "\n",
    "    # HYDROPHONE CHANNEL\n",
    "    # dlow_data,dhigh_data = get_channel_data(station,['HDH'],t1,t2,sr)\n",
    "    # # Catch for HYSB1 hydrophone which glitches frequently\n",
    "    # if station=='HYSB1':\n",
    "    #     dlow_data = fix_hysb1_data(dlow_data,sr)\n",
    "    #     dhigh_data = fix_hysb1_data(dhigh_data,sr)\n",
    "    # for i in range(steps):\n",
    "    #     start_ind = i * time_step * sr\n",
    "    #     end_ind = start_ind + (time_step * sr)\n",
    "    #     dlow_med.append(np.nanmedian(dlow_data[start_ind:end_ind]))\n",
    "    #     dhigh_med.append(np.nanmedian(dhigh_data[start_ind:end_ind]))\n",
    "    #     dtimes.append(t1+(i*1800))\n",
    "\n",
    "    # WRITE TO FILE\n",
    "    tstring = t1.strftime('%Y%m%d')\n",
    "    file_name = 'seismic_hourly_medians/'+station+'_'+tstring+'.pickle'\n",
    "    with open(file_name, 'wb') as handle:\n",
    "        pickle.dump([hlow_med,hhigh_med,htimes,zlow_med,zhigh_med,ztimes],handle)\n",
    "            \n",
    "        a=0\n",
    "        \n",
    "    return a"
   ]
  },
  {
   "cell_type": "markdown",
   "id": "4acb162c-e8dc-4888-a862-0cc6e43614e3",
   "metadata": {},
   "source": [
    "#### Define station code, network code, time period you want to process\n",
    "- Note: channel names AND sampling rate for the instrument are defined within the functions. Double check that they are correct!\n",
    "- Also define a temporary folder for saving hourly medians in the functions!"
   ]
  },
  {
   "cell_type": "code",
   "execution_count": 45,
   "id": "e3188de6-4f16-40af-a341-fc6dd4d36a92",
   "metadata": {},
   "outputs": [],
   "source": [
    "network='YH'\n",
    "station='EBS3'\n",
    "t1 = obspy.UTCDateTime(\"2014-09-01T00:00:00.000\")\n",
    "t2 = obspy.UTCDateTime(\"2014-11-01T00:00:00.000\")\n",
    "data_time_length = 24 * 60 * 60\n",
    "time_bins = pd.date_range(start=t1.datetime, end=t2.datetime, freq='d')"
   ]
  },
  {
   "cell_type": "markdown",
   "id": "652165c9-7437-44ad-ba95-3f3495d428b6",
   "metadata": {},
   "source": [
    "#### Set up to run in parallel over days"
   ]
  },
  {
   "cell_type": "code",
   "execution_count": 46,
   "id": "b4e29205-0e13-451b-91f6-a2d53537af40",
   "metadata": {},
   "outputs": [],
   "source": [
    "@dask.delayed\n",
    "def loop_days(t1,data_time_length,station):\n",
    "    return get_hourly_medians(t1,data_time_length,station,network)"
   ]
  },
  {
   "cell_type": "code",
   "execution_count": 47,
   "id": "170f1839-e68e-4053-aaac-4ec8c6c470a3",
   "metadata": {},
   "outputs": [],
   "source": [
    "lazy_results = [loop_days(t,data_time_length,station) for t in time_bins]"
   ]
  },
  {
   "cell_type": "code",
   "execution_count": 48,
   "id": "d7e659ac-4b4f-4d61-9d8a-dd3657945fad",
   "metadata": {},
   "outputs": [
    {
     "name": "stdout",
     "output_type": "stream",
     "text": [
      "[########################################] | 100% Completed |  7min 13.6s\n"
     ]
    }
   ],
   "source": [
    "with ProgressBar():\n",
    "    results = dask.compute(lazy_results)"
   ]
  },
  {
   "cell_type": "markdown",
   "id": "c29c3b1b-c3d5-4caa-a1bc-4cec8ec61252",
   "metadata": {},
   "source": [
    "## Load in all the individual files and save a total pickle"
   ]
  },
  {
   "cell_type": "code",
   "execution_count": 49,
   "id": "451d6389-f5cb-4347-968f-1cf7b2dd92c4",
   "metadata": {},
   "outputs": [],
   "source": [
    "def read_seismic_pickle(file_name,dc):\n",
    "    with open(file_name,'rb') as handle:\n",
    "        hlow_med,hhigh_med,htimes,zlow_med,zhigh_med,ztimes = pickle.load(handle)\n",
    "        dc['hlow_med'].extend(hlow_med)\n",
    "        dc['hhigh_med'].extend(hhigh_med)\n",
    "        dc['htimes'].extend(htimes)\n",
    "        dc['zlow_med'].extend(zlow_med)\n",
    "        dc['zhigh_med'].extend(zhigh_med)\n",
    "        dc['ztimes'].extend(ztimes)\n",
    "        \n",
    "        return dc"
   ]
  },
  {
   "cell_type": "code",
   "execution_count": 50,
   "id": "6677fdf9-c05e-4fcf-8a8c-14d72c9d848d",
   "metadata": {},
   "outputs": [
    {
     "name": "stdout",
     "output_type": "stream",
     "text": [
      "seismic_hourly_medians/EBS3_20141101.pickle\r"
     ]
    }
   ],
   "source": [
    "files = glob.glob('seismic_hourly_medians/EBS3*')\n",
    "files.sort()\n",
    "hysb1 = {'hlow_med':[],'hhigh_med':[],'htimes':[],'zlow_med':[],'zhigh_med':[],'ztimes':[]}\n",
    "for file in files:\n",
    "    print(file,end='\\r')\n",
    "    hysb1 = read_seismic_pickle(file,hysb1)"
   ]
  },
  {
   "cell_type": "code",
   "execution_count": 51,
   "id": "6278689f-243a-406f-a0ef-5493e62df3ad",
   "metadata": {},
   "outputs": [],
   "source": [
    "file_name = 'ebs3_hourly_medians.pickle'\n",
    "with open(file_name, 'wb') as handle:\n",
    "    pickle.dump(hysb1,handle)"
   ]
  },
  {
   "cell_type": "markdown",
   "id": "f1a7f766-2750-4329-a3d6-9f8ba87b737d",
   "metadata": {},
   "source": [
    "## Gut check to make sure files are working"
   ]
  },
  {
   "cell_type": "code",
   "execution_count": 20,
   "id": "3d1ccaf9-a839-40e3-8b0b-b794d20eebb4",
   "metadata": {},
   "outputs": [],
   "source": [
    "file_name='seismic_hourly_medians/HYSB1_20180701.pickle'\n",
    "with open(file_name,'rb') as handle:\n",
    "    hlow_med,hhigh_med,htimes,zlow_med,zhigh_med,ztimes = pickle.load(handle)"
   ]
  },
  {
   "cell_type": "code",
   "execution_count": 28,
   "id": "668879f2-d5a6-4df2-a766-d52c7ab974e5",
   "metadata": {},
   "outputs": [
    {
     "data": {
      "text/plain": [
       "[<matplotlib.lines.Line2D at 0x12d9aaee0>]"
      ]
     },
     "execution_count": 28,
     "metadata": {},
     "output_type": "execute_result"
    },
    {
     "data": {
      "image/png": "[encoded data removed]",
      "text/plain": [
       "<Figure size 1000x500 with 2 Axes>"
      ]
     },
     "metadata": {},
     "output_type": "display_data"
    }
   ],
   "source": [
    "fig, ax = plt.subplots(2,figsize=(10,5))\n",
    "ax[0].plot([t.datetime for t in htimes],hhigh_med)\n",
    "ax[1].plot([t.datetime for t in ztimes],zhigh_med)"
   ]
  },
  {
   "cell_type": "code",
   "execution_count": 27,
   "id": "7d265e33-dba1-4def-a96c-afb835eca3b8",
   "metadata": {},
   "outputs": [
    {
     "data": {
      "text/plain": [
       "1.9040343733687303e-08"
      ]
     },
     "execution_count": 27,
     "metadata": {},
     "output_type": "execute_result"
    }
   ],
   "source": [
    "np.median(hlow_med)"
   ]
  },
  {
   "cell_type": "code",
   "execution_count": null,
   "id": "53fbfa9b-49c5-4054-807d-3dc65922dc8f",
   "metadata": {},
   "outputs": [],
   "source": []
  }
 ],
 "metadata": {
  "kernelspec": {
   "display_name": "alaska-ml",
   "language": "python",
   "name": "alaska-ml"
  },
  "language_info": {
   "codemirror_mode": {
    "name": "ipython",
    "version": 3
   },
   "file_extension": ".py",
   "mimetype": "text/x-python",
   "name": "python",
   "nbconvert_exporter": "python",
   "pygments_lexer": "ipython3",
   "version": "3.9.12"
  }
 },
 "nbformat": 4,
 "nbformat_minor": 5
}
